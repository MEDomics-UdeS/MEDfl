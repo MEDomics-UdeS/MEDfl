{
 "cells": [
  {
   "cell_type": "markdown",
   "id": "ea17612d",
   "metadata": {},
   "source": [
    "<h1>What's Federated Learning</h1>\n",
    "The concept of federated learning is proposed by Google AI on 2016, Their main idea is\n",
    "to build machine learning models based on data sets that are distributed across multiple devices\n",
    "while preventing data leakage and sharing data between any two couple of devices. Recent improvements have been focusing on overcoming the statistical challenges, (such as non iid-data and the amount of data hold by each client) and also in improving security in federated learning.\n",
    "Federated Learning (FL), is highly adapted to the healthcare domain, it's simply used to make a set of hospitals to collaboratively train a joint model, which will be used by all the hospitals after that.\n",
    "<img src=\"Images/FL_gen.png\"  style=\"width:600px ;height:600px\"> "
   ]
  },
  {
   "cell_type": "markdown",
   "id": "f1785d1e",
   "metadata": {},
   "source": [
    "<h1>What's Differential Privacy</h1>\n",
    "Differential Privacy was early introduced by Dwork et al,  The methods of differential privacy, k-anonymity, and\n",
    "diversification  involve in adding noise to the data, or using generalization methods to obscure\n",
    "certain sensitive attributes until the third party cannot distinguish the individual, thereby making\n",
    "the data impossible to be restore to protect user privacy. However, the root of these methods still\n",
    "require that the data are transmitted elsewhere and these work usually involve a trade-off between\n",
    "accuracy and privacy. In, most of recents reseach has introduced a differential privacy approach to federated\n",
    "learning in order to add protection to client-side data by hiding client’s contributions during\n",
    "training, using differents approaches.\n",
    "<img src=\"Images/GDP.png\"  style=\"width:400px ;height:200px\"> <img src=\"Images/LDP.png\"  style=\"width:400px ;height:200px\">\n",
    " "
   ]
  },
  {
   "cell_type": "markdown",
   "id": "0f71885b",
   "metadata": {},
   "source": [
    "<h1>Privacy Enhancing Technologies (PETs)</h1>\n",
    "Privacy-enhancing technologies or PET are designed to prevent data leaks while balancing privacy with usability. Some PETs even prevent bad actors from identifying to whom the collected data belongs - if a leak were to occur, the data would be virtually useless to cybercriminals, and they are mainly digital solutions (Softwares).\n",
    "There are many different types of PETs, each designed to solve a specific business problem. While some are better at aggregated analytics, others are more suited for precise results. Likewise, some may be ideal for deriving insights from sensitive data, while others are best for data exploration.\n",
    "we will mention  the following frameworks:\n",
    "<ul>\n",
    "    <li>  <a href=\"https://flower.dev\">Flower</a> </li>\n",
    "    <li>  <a href=\"https://github.com/OpenMined/PySyft\">Pysyft</a> </li>\n",
    "    <li>  <a href=\"https://opacus.ai/\">Opacus</a></li>\n",
    "</ul>"
   ]
  },
  {
   "cell_type": "markdown",
   "id": "d874db93",
   "metadata": {},
   "source": [
    "<h1> MEDfl</h1>\n",
    "MEDfl is a new python package, which is a hybridization of Flower and Opacus, while getting inspired by the Pysyft framework, the main strengths of MEDfl is that  both users and developpers will  benifit from  all features of the three listed frameworks.\n",
    "<h2>A small real world scenario</h2>\n",
    "<b>Martin</b> is an AI researcher, his main interest is  the applications of AI into the healthcare domain.\n",
    "Recently, he has obtained a call from a prestigious institute, in order to make a study about the realisation of a new project. The project's goal is  designing and developping a federated learning system between a set of hospitals, and that by training and using a deep learning model with preserving the privacy of all patient records.\n",
    "\n",
    "When Martin finished the first analysis of the project statement, he realized that the project involve the use of Federated Learning, Differential Privacy within a good storage monitoring system.\n",
    "\n",
    "Fortunately, Martin knows MEDfl, and he is pretty sure that it's designed for such tasks, and it will be do the desired work.\n",
    "Medfl with his two main sub-packages,<b>NetManager</b> , <b>Federated</b>, let us designing FL expirements and simulating real world scenarios, and that by using differents options to make  differents FL architectures (or setups) as well as using differents FL pipelines.\n",
    "\n"
   ]
  },
  {
   "cell_type": "markdown",
   "id": "a187931d",
   "metadata": {},
   "source": [
    "<h1> MEDfl</h1>\n",
    "MEDfl is a new python package, which is a hybridization of Flower and Opacus, while getting inspired by the Pysyft framework, the main strengths of MEDfl is that  both users and developpers will  benifit from  all features of the three listed frameworks.\n",
    "<h2>A small real world scenario</h2>\n",
    "<b>Martin</b> is an AI researcher, his main interest is  the applications of AI into the healthcare domain.\n",
    "Recently, he has recieved a call from a prestigious institute, in order to make a study about the realisation of a new project. The project's goal is  designing and developping a federated learning system between a set of hospitals, and that by training and using a deep learning model with preserving the privacy of all patient records.\n",
    "\n",
    "When Martin finished the first analysis of the project statement, he realized that the project involve the use of Federated Learning, Differential Privacy within a good storage monitoring system.\n",
    "\n",
    "Fortunately, Martin knows MEDfl, and he is pretty sure that it's designed for such tasks, and it will be do the desired work.\n",
    "Medfl with his two main sub-packages,<b>NetManager</b> , <b>Federated</b>, let us designing FL expirements and simulating real world scenarios, and that by using differents options to make  differents FL architectures (or setups) as well as using differents FL pipelines.\n",
    "\n"
   ]
  },
  {
   "cell_type": "markdown",
   "id": "560586a4",
   "metadata": {},
   "source": [
    "<h1>NetManager Sub-Package</h1>\n",
    "In order ot start simulating, hospitals architectures, their datasets, and theirs interactions. Martin should  familiarize with The NetManager Sub-Package, because, it provides the mechanizmes to :\n",
    "  <ul>\n",
    "    <li> Choose the dataset format used by all hospitals, as we are working in a <b>Horizontal Federated Learning HFL</b> settings.  </li>\n",
    "    <li> Create virtual hospitals in a two way :</li>\n",
    "    <h5>Automatically : </h5> \n",
    "      This method used when Martin doesn't have an idea about hospitals name, their datasets. so, the creation will based on some  variables on the datasets, in our Proof-Of-Concept with the eICU dataset, there are two variables that can be used, \"site_hosiptal, and \"site_region\".  <br> Note that, hospitals can participate for <b>training</b> or for <b>testing</b> only. (this may be changed to support both modes) . <br> the set of hospitals or (Nodes) perform a network, and on MEDfl terminology, a network and its additional informations, refered as a <b>FLsetup (Federated Learning Setup)</b> <br>After the creation of an <b>FLsetup</b> it will be stored on the DB, by a unique ID, a name, a description, and a creation date.\n",
    "  <h5>Manually :</h5>\n",
    "      Martin can also create a FLsetup manually, create a network, and add each node separately, then uploade a dataset on each node.\n",
    "    \n",
    "  </ul>  \n",
    "In the following section we will tranlsate all this paragraph to code, and show how powerful and easy to use <b>MEDfl</b> is !\n",
    "    "
   ]
  },
  {
   "cell_type": "markdown",
   "id": "e9f24fd3",
   "metadata": {},
   "source": [
    "<h3> 1) Create a FLsetup Automatically</h3>\n",
    "To create a FLsetup (network, training nodes and test nodes) manually, with MEDfl, we should follow the following steps: <ul>\n",
    "    <li>Create a network </li>\n",
    "    <li>Create the FLsetup object, to make things more organized, and facilitate the storage process</li>\n",
    "    <li>Create the master dataset table, that contains the dataset that be used to create all the nodes (hospitals).</li>\n",
    "    <li>Select a column from the dataset, then create training and testing nodes using its modalities (unique values)</li>  \n",
    " \n",
    "</ul>   \n",
    " "
   ]
  },
  {
   "cell_type": "code",
   "execution_count": 1,
   "id": "a98caa04",
   "metadata": {},
   "outputs": [],
   "source": [
    "import sys\n",
    "sys.path.append('..')\n",
    "\n",
    "import os\n",
    "os.environ['PYTHONPATH'] = '..'"
   ]
  },
  {
   "cell_type": "code",
   "execution_count": null,
   "metadata": {},
   "outputs": [],
   "source": []
  },
  {
   "cell_type": "code",
   "execution_count": 7,
   "id": "cc1e96c2",
   "metadata": {},
   "outputs": [
    {
     "name": "stdout",
     "output_type": "stream",
     "text": [
      "^C\n"
     ]
    }
   ],
   "source": [
    "!python ../scripts/create_db.py\n"
   ]
  },
  {
   "cell_type": "code",
   "execution_count": 2,
   "id": "b25ee1e0",
   "metadata": {},
   "outputs": [],
   "source": [
    "from Medfl.LearningManager.utils import *\n",
    "empty_db()"
   ]
  },
  {
   "cell_type": "markdown",
   "id": "e1d14686",
   "metadata": {},
   "source": [
    "<h4>Network Creation</h4>\n",
    "The creation of a network in MEDfl, like any object creation in Python, is simply done by calling the Network Class, and create a network object by passing the name of the network. below you find the illustration of the network class, its attributes and functions.\n",
    "(add class diagram)"
   ]
  },
  {
   "cell_type": "code",
   "execution_count": 3,
   "id": "503cbd2f",
   "metadata": {},
   "outputs": [
    {
     "name": "stdout",
     "output_type": "stream",
     "text": [
      "Auto_network\n"
     ]
    }
   ],
   "source": [
    "from Medfl.NetManager.network import Network\n",
    "network_obj = Network(name=\"Auto_network\")\n",
    "\n",
    "print(network_obj.name)\n"
   ]
  },
  {
   "cell_type": "markdown",
   "id": "ec141f11",
   "metadata": {},
   "source": [
    "<h4> Master Dataset Table Creation</h4>\n",
    "To create a the master dataset table, we have to provide a <b>CSV File</b>, that contain the dataset, \n",
    "then the \"create_master_dataset\" function from the Network class, will create a table on the MySQL DB. \n",
    "and from this table, we will generate our train/test nodes and datasets. <br>\n",
    "<b>Note:</b> if the table already exists on the DataBase, the function will retrun an exception message."
   ]
  },
  {
   "cell_type": "code",
   "execution_count": 4,
   "id": "42857771",
   "metadata": {},
   "outputs": [],
   "source": [
    "\n",
    "\n",
    "network_obj.create_master_dataset()\n",
    "\n"
   ]
  },
  {
   "cell_type": "markdown",
   "id": "dd8b5118",
   "metadata": {},
   "source": [
    "<h4>FLsetup Creation</h4>\n",
    "The same for FLsetup, we call the FLsetup Class, to create a FLsetup object by passing the name of the FLsetup, its description, and the network associated ot it. <br>below you find the illustration of the network class, its attributes and functions. (add class diagramm)"
   ]
  },
  {
   "cell_type": "code",
   "execution_count": 5,
   "id": "8b2e4d5a",
   "metadata": {},
   "outputs": [],
   "source": [
    "from Medfl.NetManager.flsetup import FLsetup\n",
    "fl_setup = FLsetup(name = \"Flsetup1\", description = \"The first fl setup\",network = network_obj)"
   ]
  },
  {
   "cell_type": "markdown",
   "id": "5d34218e",
   "metadata": {},
   "source": [
    "<h4>Nodes Creation</h4>\n",
    "The user should create a parameters dictionary that contains  :\n",
    "<ul> \n",
    "    <li>The name of the column that be used to create the nodes, which is the main element in the <b>Automatic Method</b></li> \n",
    "    <li> The lists of the train/test nodes</li>\n",
    "    </ul> \n",
    "and parse it to the create_nodes_from_master_dataset function from the FLsetup class.<br>\n",
    "Node is also an object, and it will be stored on the DataBase."
   ]
  },
  {
   "cell_type": "code",
   "execution_count": 6,
   "id": "bf1a5056",
   "metadata": {},
   "outputs": [
    {
     "data": {
      "text/plain": [
       "['Midwest', 'South', 'West', 'Northeast']"
      ]
     },
     "execution_count": 6,
     "metadata": {},
     "output_type": "execute_result"
    }
   ],
   "source": [
    "params_dict = {'column_name' : 'site_region','train_nodes' : [\"Midwest\",\"South\"] , 'test_nodes' : ['West','Northeast'] }\n",
    "\n",
    "eicu_nodes = fl_setup.create_nodes_from_master_dataset(params_dict = params_dict )\n",
    "\n",
    "[node.name  for node in eicu_nodes]  "
   ]
  },
  {
   "cell_type": "markdown",
   "id": "6a9cef61",
   "metadata": {},
   "source": [
    "<h4>Federated DataSet</h4>\n",
    "the function \"create_federated_dataset\", will create, train loaders, test loaders from the datasets of the nodes.\n",
    "in the automatic method, the datasets is created from the master dataset table, the trainloader of each node will contains the records with the same name.<br>\n",
    "After the creation of the federated dataset, the FLsetup will be stored into the FLsetup table in the DB.\n"
   ]
  },
  {
   "cell_type": "code",
   "execution_count": 7,
   "id": "6994ad7a",
   "metadata": {},
   "outputs": [
    {
     "name": "stdout",
     "output_type": "stream",
     "text": [
      "SELECT * FROM MasterDataset WHERE site_region = 'Midwest'\n",
      "SELECT * FROM MasterDataset WHERE site_region = 'South'\n",
      "SELECT * FROM MasterDataset WHERE site_region = 'West'\n",
      "SELECT * FROM MasterDataset WHERE site_region = 'Northeast'\n"
     ]
    },
    {
     "data": {
      "text/plain": [
       "708"
      ]
     },
     "execution_count": 7,
     "metadata": {},
     "output_type": "execute_result"
    }
   ],
   "source": [
    "fl_dataset = fl_setup.create_federated_dataset(output=\"event_death\")\n",
    "len(fl_dataset.testloaders[1])"
   ]
  },
  {
   "cell_type": "markdown",
   "id": "6da28438",
   "metadata": {},
   "source": [
    "<h3>2) Create a FLsetup Manually</h3>\n",
    "The manual creation of a FLsetup  with MEDfl, it's a bit different from the the automatic method,but it stays on the same scope, the only difference is here, we should create all the object (FLsetup,network, training nodes and test nodes),\n",
    "We will start doing the following : <ul>\n",
    "    <li>Create a network </li>\n",
    "    <li>Create Master Dataset, Here the master_dataset table will be used to ensure that all nodes hold the same dataset format (horizontal federated learning)</li>\n",
    "    <li> Create train and test nodes, inside the created network .\n",
    "    <li> Upload datasets inside each node </li>    \n",
    "    <li>Create the FLsetup object, to make things more organized, and facilitate the storage process</li>\n",
    "     \n",
    " \n",
    "</ul>   "
   ]
  },
  {
   "cell_type": "markdown",
   "id": "8cc5fce4",
   "metadata": {},
   "source": [
    "<h3>Network Creation</h3>"
   ]
  },
  {
   "cell_type": "code",
   "execution_count": 8,
   "id": "b5403e9d",
   "metadata": {},
   "outputs": [],
   "source": [
    "from Medfl.NetManager.network import Network\n",
    "network_obj = Network(name=\"man_network\")\n",
    "network_obj.create_network()"
   ]
  },
  {
   "cell_type": "markdown",
   "id": "c2e768e6",
   "metadata": {},
   "source": [
    "<h3>Nodes creation</h3>\n",
    "we will create 3 hospitals, two are for training, and the last one is for testing (after the federation, and this by setting the train variable to \"1\" for the training nodes, and to \"0\" for the testing Node. <br>\n",
    "Then we add these nodes to our network."
   ]
  },
  {
   "cell_type": "code",
   "execution_count": 9,
   "id": "471f4387",
   "metadata": {},
   "outputs": [],
   "source": [
    "from Medfl.NetManager.node import Node\n",
    "\n",
    "hospital_1,hospital_2,hospital_3 = Node(name = \"hospital_1\", train = 1),Node(name = \"hospital_2\", train = 1), Node(name = \"hospital_3\", train = 0) \n",
    "\n"
   ]
  },
  {
   "cell_type": "markdown",
   "id": "85e69433",
   "metadata": {},
   "source": [
    "<h3>Add this nodes to the network</h3>"
   ]
  },
  {
   "cell_type": "code",
   "execution_count": 10,
   "id": "63de4adb",
   "metadata": {},
   "outputs": [],
   "source": [
    "network_obj.add_node(hospital_1)\n",
    "network_obj.add_node(hospital_2)\n",
    "network_obj.add_node(hospital_3)"
   ]
  },
  {
   "cell_type": "markdown",
   "id": "fb08365d",
   "metadata": {},
   "source": [
    "<h3>Uploading Datasets into nodes</h3>\n",
    "To upload a dataset into a node, we have to choose a csv file, then this file will be stored on the DataSet table on the DB."
   ]
  },
  {
   "cell_type": "code",
   "execution_count": 11,
   "id": "d5bd0bde",
   "metadata": {},
   "outputs": [],
   "source": [
    "\n",
    "hospital_1.upload_dataset( dataset_name = \"hospital_1_dataset\" , path_to_csv='D:\\\\ESI\\\\3CS\\\\PFE\\\\last_year\\\\Code\\\\MEDfl\\\\notebooks\\\\eicu_test_1.csv'  )\n",
    "hospital_2.upload_dataset( dataset_name = \"hospital_2_dataset\" , path_to_csv='D:\\\\ESI\\\\3CS\\\\PFE\\\\last_year\\\\Code\\\\MEDfl\\\\notebooks\\\\eicu_test_2.csv')\n",
    "hospital_3.upload_dataset( dataset_name = \"hospital_3_dataset\" , path_to_csv='D:\\\\ESI\\\\3CS\\\\PFE\\\\last_year\\\\Code\\\\MEDfl\\\\notebooks\\\\eicu_test_3.csv' )"
   ]
  },
  {
   "cell_type": "markdown",
   "id": "2daa1460",
   "metadata": {},
   "source": [
    "<h3>Create the FLsetup and Generate the federated dataset</h3>"
   ]
  },
  {
   "cell_type": "code",
   "execution_count": 12,
   "id": "cddae9c3",
   "metadata": {},
   "outputs": [],
   "source": [
    "from Medfl.NetManager.flsetup import FLsetup\n",
    "fl_setup = FLsetup(name = \"Manual_Flsetup\", description = \"The first manual fl setup\",network = network_obj)"
   ]
  },
  {
   "cell_type": "code",
   "execution_count": 13,
   "id": "46c06658",
   "metadata": {},
   "outputs": [],
   "source": [
    "fl_dataset = fl_setup.create_federated_dataset(output=\"event_death\")\n",
    " "
   ]
  },
  {
   "cell_type": "code",
   "execution_count": null,
   "id": "6a680a7c",
   "metadata": {},
   "outputs": [],
   "source": []
  },
  {
   "cell_type": "markdown",
   "id": "609ee9b0",
   "metadata": {},
   "source": [
    "<h1>Federated Sub-Package</h1>\n",
    "Once Martin Finish his work on the architecture of hospitals, and their datasets, He starts thinking on the theoritical side of federated learning of the project, that includes, the machine learning model and its parameters and hyperparameters, the federated learning server and its parameters (number of rounds, number of clients per rounds, the aggregation algorithms, ...etc). <br>\n",
    "<b>The Federated module</b>  of <b>MEDfl</b>, which is based on the <a href=\"https://flower.dev/\">Flower</a> framework, is well designed for doing this task, it's mainly follows the flower paradigm, but with many customization, to deal with the SQL database, and to be homogeneous with the <b>NetManager</b>\n",
    "\n",
    "<h2>How it works ?</h2>\n",
    "The Federated module, can only be used after the creation of an <b>FLsetup</b>, because the FLsetup will generate a federated dataset, which be used by an <b>FLpipeline</b> object.\n",
    "<h2> The Code</h2>\n",
    "Let's create a random FLsetup, then use its object to read one of the created FLsetup from the database."
   ]
  },
  {
   "cell_type": "code",
   "execution_count": 14,
   "id": "2cc7b27e",
   "metadata": {},
   "outputs": [],
   "source": [
    "random_flsetup = FLsetup(name = \"Random_FLsetup\", description = \"A random FLsetup\",network = Network(\"Random_net\"))"
   ]
  },
  {
   "cell_type": "code",
   "execution_count": 15,
   "id": "291a10cf",
   "metadata": {},
   "outputs": [
    {
     "data": {
      "text/html": [
       "<div>\n",
       "<style scoped>\n",
       "    .dataframe tbody tr th:only-of-type {\n",
       "        vertical-align: middle;\n",
       "    }\n",
       "\n",
       "    .dataframe tbody tr th {\n",
       "        vertical-align: top;\n",
       "    }\n",
       "\n",
       "    .dataframe thead th {\n",
       "        text-align: right;\n",
       "    }\n",
       "</style>\n",
       "<table border=\"1\" class=\"dataframe\">\n",
       "  <thead>\n",
       "    <tr style=\"text-align: right;\">\n",
       "      <th></th>\n",
       "      <th>FLsetupId</th>\n",
       "      <th>name</th>\n",
       "      <th>description</th>\n",
       "      <th>creation_date</th>\n",
       "      <th>NetId</th>\n",
       "      <th>column_name</th>\n",
       "    </tr>\n",
       "  </thead>\n",
       "  <tbody>\n",
       "    <tr>\n",
       "      <th>0</th>\n",
       "      <td>1</td>\n",
       "      <td>Flsetup1</td>\n",
       "      <td>The first fl setup</td>\n",
       "      <td>2023-11-15 14:13:49</td>\n",
       "      <td>1</td>\n",
       "      <td>site_region</td>\n",
       "    </tr>\n",
       "    <tr>\n",
       "      <th>1</th>\n",
       "      <td>2</td>\n",
       "      <td>Manual_Flsetup</td>\n",
       "      <td>The first manual fl setup</td>\n",
       "      <td>2023-11-15 14:14:06</td>\n",
       "      <td>2</td>\n",
       "      <td>None</td>\n",
       "    </tr>\n",
       "  </tbody>\n",
       "</table>\n",
       "</div>"
      ],
      "text/plain": [
       "   FLsetupId            name                description       creation_date  \\\n",
       "0          1        Flsetup1         The first fl setup 2023-11-15 14:13:49   \n",
       "1          2  Manual_Flsetup  The first manual fl setup 2023-11-15 14:14:06   \n",
       "\n",
       "   NetId  column_name  \n",
       "0      1  site_region  \n",
       "1      2         None  "
      ]
     },
     "execution_count": 15,
     "metadata": {},
     "output_type": "execute_result"
    }
   ],
   "source": [
    "random_flsetup.list_allsetups()"
   ]
  },
  {
   "cell_type": "code",
   "execution_count": 16,
   "id": "583ba1be",
   "metadata": {},
   "outputs": [],
   "source": [
    "New_flsetup = random_flsetup.read_setup( FLsetupId = 1) # this is not working with auto_net"
   ]
  },
  {
   "cell_type": "code",
   "execution_count": 17,
   "id": "8bdd786e",
   "metadata": {},
   "outputs": [
    {
     "data": {
      "text/plain": [
       "'Auto_network'"
      ]
     },
     "execution_count": 17,
     "metadata": {},
     "output_type": "execute_result"
    }
   ],
   "source": [
    "New_flsetup.network.name"
   ]
  },
  {
   "cell_type": "code",
   "execution_count": 18,
   "id": "a6bd7a2b",
   "metadata": {},
   "outputs": [
    {
     "data": {
      "text/plain": [
       "'site_region'"
      ]
     },
     "execution_count": 18,
     "metadata": {},
     "output_type": "execute_result"
    }
   ],
   "source": [
    "New_flsetup.column_name"
   ]
  },
  {
   "cell_type": "markdown",
   "id": "c2ac4f10",
   "metadata": {},
   "source": [
    "<h2>Federated DataSet</h2> \n",
    "This object has the role of the connector between the <b>NetManager</b> and the <b>Federated</b> modules.<br>\n",
    "The FLsetup class's function \"create_federated_dataset\", will go through all nodes,and generate trainloders & valloaders for the train nodes, and testloaders for the test nodes"
   ]
  },
  {
   "cell_type": "code",
   "execution_count": 19,
   "id": "4ccaac60",
   "metadata": {},
   "outputs": [
    {
     "name": "stdout",
     "output_type": "stream",
     "text": [
      "SELECT * FROM MasterDataset WHERE site_region = 'Midwest'\n",
      "SELECT * FROM MasterDataset WHERE site_region = 'South'\n",
      "SELECT * FROM MasterDataset WHERE site_region = 'West'\n",
      "SELECT * FROM MasterDataset WHERE site_region = 'Northeast'\n"
     ]
    },
    {
     "data": {
      "text/plain": [
       "17"
      ]
     },
     "execution_count": 19,
     "metadata": {},
     "output_type": "execute_result"
    }
   ],
   "source": [
    "# here's the reduduncy of feddatasets\n",
    "fl_dataset = New_flsetup.create_federated_dataset(output=\"event_death\")\n",
    "\n",
    "fl_dataset.size"
   ]
  },
  {
   "cell_type": "markdown",
   "id": "48b94636",
   "metadata": {},
   "source": [
    "<h2>Machine Learning </h2>\n",
    "As MEDfl is based on flower, it has only 3 models based on torch neural nets  :\n",
    "<ul>\n",
    "    <li> Binary Classifier </li>\n",
    "    <li> Multiclass Classifier</li>\n",
    "    <li> Linear Regressor</li>\n",
    "</ul>\n",
    "the choice of the model and all machine learning parameters (learning rate, eopch size, train epochs), should be declared on a YAML file."
   ]
  },
  {
   "cell_type": "code",
   "execution_count": null,
   "id": "ec872e9a",
   "metadata": {},
   "outputs": [
    {
     "data": {
      "text/plain": [
       "BinaryClassifier(\n",
       "  (fc1): Linear(in_features=17, out_features=6, bias=True)\n",
       "  (fc2): Linear(in_features=6, out_features=12, bias=True)\n",
       "  (fc3): Linear(in_features=12, out_features=1, bias=True)\n",
       ")"
      ]
     },
     "execution_count": 5,
     "metadata": {},
     "output_type": "execute_result"
    }
   ],
   "source": [
    "import torch\n",
    "import torch.nn as nn\n",
    "import torch.optim as optim\n",
    "\n",
    "class BinaryClassifier(nn.Module):\n",
    "  def __init__(self,input_dim,hidden_dim,output_dim):\n",
    "\n",
    "    super(BinaryClassifier, self).__init__()\n",
    "    self.fc1 = nn.Linear(input_dim,hidden_dim)\n",
    "    self.fc2 = nn.Linear(hidden_dim,2*hidden_dim)\n",
    "    self.fc3 = nn.Linear(2*hidden_dim,output_dim)\n",
    "\n",
    "  def forward(self,x):\n",
    "    x = torch.relu(self.fc1(x))\n",
    "    x = torch.relu(self.fc2(x))\n",
    "    x = torch.sigmoid(self.fc3(x))#softmax\n",
    "    return x\n",
    "binary_classifier= BinaryClassifier(17,6,1)\n",
    "optimizer,criterion = optim.SGD(binary_classifier.parameters(), lr=0.0001),nn.BCELoss()\n",
    "binary_classifier"
   ]
  },
  {
   "cell_type": "code",
   "execution_count": 20,
   "id": "afa48297",
   "metadata": {},
   "outputs": [
    {
     "name": "stdout",
     "output_type": "stream",
     "text": [
      "1\n",
      "Sequential(\n",
      "  (0): Linear(in_features=17, out_features=6, bias=True)\n",
      "  (1): ReLU()\n",
      "  (2): Linear(in_features=6, out_features=12, bias=True)\n",
      "  (3): ReLU()\n",
      "  (4): Linear(in_features=12, out_features=1, bias=True)\n",
      "  (5): Sigmoid()\n",
      ")\n"
     ]
    }
   ],
   "source": [
    "from Medfl.LearningManager.dynamicModal import DynamicModel\n",
    "from Medfl.LearningManager.model import Model\n",
    "import torch.nn as nn\n",
    "import torch.optim as optim\n",
    "\n",
    "# Example usage:\n",
    "input_dim = 17\n",
    "hidden_dims = [6, 2 * 6 ]\n",
    "output_dim = 1\n",
    "model_type = 'Binary Classifier'\n",
    "\n",
    "# Creating a DynamicModel instance\n",
    "dynamic_model = DynamicModel()\n",
    "\n",
    "# Creating a specific model dynamically using DynamicModel\n",
    "specific_model = dynamic_model.create_model(model_type, input_dim, hidden_dims, output_dim)\n",
    "\n",
    "# Pass the specific_model to the Model class\n",
    "optimizer = optim.SGD(specific_model.parameters(), lr=0.0001)\n",
    "criterion = nn.BCELoss()\n",
    "\n",
    "\n",
    "print(specific_model)\n",
    "\n",
    "# Creating a new Model instance using the specific model created by DynamicModel\n",
    "global_model = Model(specific_model, optimizer, criterion)"
   ]
  },
  {
   "cell_type": "code",
   "execution_count": null,
   "id": "67d1b32f",
   "metadata": {},
   "outputs": [],
   "source": [
    "from Medfl.LearningManager.model import Model\n",
    "global_model = Model(binary_classifier,optimizer,criterion)"
   ]
  },
  {
   "cell_type": "markdown",
   "id": "01eb2409",
   "metadata": {},
   "source": [
    "<h2>Aggregation Algorithms (Strategy)</h2>\n",
    "Aggregation algorithms are the mechanizms used by the server to produce a joint unified model, they are known as <b>Strategies</b> on <b>Flower</b>,  in the literature we have many aggregation algorithms, it's true that not all of them are implemented in flower, but we have the most used ones:\n",
    " <ul>\n",
    "    <li><a href = \"arxiv.org/abs/1602.05629\">Federated Averaging (FedAvg)</a></li>\n",
    "    <li><a href = \"arxiv.org/abs/2003.00295\">Adaptive Federated Optimization using Adam (FedAdam)</a></li>\n",
    "    <li><a href = \"arxiv.org/pdf/1803.01498v1.pdf\">Federated Median (FedMedian)</a></li>\n",
    "    <li><a href = \"arxiv.org/pdf/1909.06335.pdf\">Federated Averaging with Momentum (FedAvgM)</a></li>\n",
    "    <li><a href = \"arxiv.org/abs/2003.00295\">Adaptive Federated Optimization using Yogi (FedYogi)</a></li>\n",
    "    <li><a href = \"arxiv.org/abs/2003.00295\">Adaptive Federated Optimization (FedOpt)</a></li>\n",
    "    <li><a href = \"arxiv.org/abs/1812.06127\">Federated Optimization (FedProx)</a></li>\n",
    "    <li><a href = \"openreview.net/pdf?id=ByexElSYDr\">FAIR RESOURCE ALLOCATION IN FEDERATED LEARNING (QFedAvg)</a></li>\n",
    "    <li><a href = \"arxiv.org/abs/2003.00295\">Adaptive Federated Optimization using Adagrad (FedAdagrad)</a></li>\n",
    " </ul>\n",
    "We can also find them on the strategy directory on Flower."
   ]
  },
  {
   "cell_type": "code",
   "execution_count": 22,
   "id": "92f91cc7",
   "metadata": {},
   "outputs": [
    {
     "data": {
      "text/plain": [
       "['FaultTolerantFedAvg',\n",
       " 'FedAdagrad',\n",
       " 'FedAdam',\n",
       " 'FedAvg',\n",
       " 'FedAvgAndroid',\n",
       " 'FedAvgM',\n",
       " 'FedMedian',\n",
       " 'FedOpt',\n",
       " 'FedProx',\n",
       " 'FedTrimmedAvg',\n",
       " 'FedXgbNnAvg',\n",
       " 'FedYogi',\n",
       " 'QFedAvg',\n",
       " 'Strategy',\n",
       " '__all__',\n",
       " '__builtins__',\n",
       " '__cached__',\n",
       " '__doc__',\n",
       " '__file__',\n",
       " '__loader__',\n",
       " '__name__',\n",
       " '__package__',\n",
       " '__path__',\n",
       " '__spec__',\n",
       " 'aggregate',\n",
       " 'fault_tolerant_fedavg',\n",
       " 'fedadagrad',\n",
       " 'fedadam',\n",
       " 'fedavg',\n",
       " 'fedavg_android',\n",
       " 'fedavgm',\n",
       " 'fedmedian',\n",
       " 'fedopt',\n",
       " 'fedprox',\n",
       " 'fedtrimmedavg',\n",
       " 'fedxgb_nn_avg',\n",
       " 'fedyogi',\n",
       " 'qfedavg',\n",
       " 'strategy']"
      ]
     },
     "execution_count": 22,
     "metadata": {},
     "output_type": "execute_result"
    }
   ],
   "source": [
    "import flwr as fl\n",
    "dir(fl.server.strategy)"
   ]
  },
  {
   "cell_type": "markdown",
   "id": "750b994b",
   "metadata": {},
   "source": [
    "The creation of a strategy is based on the \"Strategy\" Class, it's enough to pass the name of one of the mentionned strategies, and other federated learning parameters which are used during federation rounds.\n",
    "<ul>\n",
    "    <li>fraction_fit : the fraction of clients to sample in order  to train the model </li>\n",
    "    <li>fraction_evaluate  : the fraction of clients to sample in order to evaluate the model (validation) </li>\n",
    "    <li>min_fit_clients :  the minimum number of clients to sample for the training on each round</li>\n",
    "    <li>min_evaluate_clients : the minimum number of clients to be sampled for the evaluation on each round </li>\n",
    "    <li>min_available_clients : the minimum  required number of available clients to start a federation round </li>\n",
    "<ul>"
   ]
  },
  {
   "cell_type": "code",
   "execution_count": 23,
   "id": "9a020ad9",
   "metadata": {},
   "outputs": [],
   "source": [
    "from Medfl.LearningManager.strategy import Strategy\n",
    "fed_avg = Strategy(\"FedAvg\", fraction_fit = 1.0 ,fraction_evaluate = 1.0,min_fit_clients = 2,min_evaluate_clients = 2,min_available_clients = 2)"
   ]
  },
  {
   "cell_type": "markdown",
   "id": "f4ed851d",
   "metadata": {},
   "source": [
    "<h3>Federated Learning Server</h3>\n",
    "The server in the FL terminology, is the set of the mechanizms that orchestrate  all the FL processes, (distributing the model to  clients, getting the models updates from clients, aggregate these updates. <br>\n",
    "<b>Remark :</b> The FL ServerIt has no relation ! with webservers or any other server concepts.\n",
    "<h4>MEDfl server</h4>\n",
    "The FL server on MEDfl, is based on the server class of Flower, but with our customization, because <b>we have added</b> a gradient perturbing feature using <b> Opacus</b>, so we can make the FLpipeline <b>differentially private </b> <br>\n",
    "The FLserver in MEDfl, has the follwoing attributes : \n",
    "<ul>\n",
    "    <li> global_model : The global model\n",
    "    <li> strategy : The  aggregation strategy\n",
    "    <li> num_rounds : The number of federation rounds\n",
    "    <li> num_clients : The number of train nodes\n",
    "    <li>dataset : The federated dataset generated by an FLsetup\n",
    "    <li> diff_privacy : a boolean variable to  enable (disable) the Differentially Private training mode\n",
    "</ul>"
   ]
  },
  {
   "cell_type": "code",
   "execution_count": 24,
   "id": "6f4da9e7",
   "metadata": {},
   "outputs": [],
   "source": [
    "#Create a server\n",
    "from Medfl.LearningManager.server import *\n",
    "\n",
    "server = FlowerServer(global_model, strategy = fed_avg, num_rounds = 10,\n",
    "                       num_clients  = len(fl_dataset.trainloaders), \n",
    "                       fed_dataset = fl_dataset,diff_privacy = False)"
   ]
  },
  {
   "cell_type": "markdown",
   "id": "1c35914e",
   "metadata": {},
   "source": [
    "<h3>The federated learning pipeline (FLpipeline)</h3>"
   ]
  },
  {
   "cell_type": "code",
   "execution_count": 25,
   "id": "0552988c",
   "metadata": {},
   "outputs": [
    {
     "name": "stderr",
     "output_type": "stream",
     "text": [
      "INFO flwr 2023-11-15 14:14:59,216 | app.py:175 | Starting Flower simulation, config: ServerConfig(num_rounds=10, round_timeout=None)\n",
      "11/15/2023 14:14:59:INFO:Starting Flower simulation, config: ServerConfig(num_rounds=10, round_timeout=None)\n",
      "2023-11-15 14:15:04,625\tINFO worker.py:1621 -- Started a local Ray instance.\n",
      "INFO flwr 2023-11-15 14:15:10,488 | app.py:210 | Flower VCE: Ray initialized with resources: {'node:__internal_head__': 1.0, 'object_store_memory': 396565708.0, 'node:127.0.0.1': 1.0, 'memory': 793131419.0, 'CPU': 8.0}\n",
      "11/15/2023 14:15:10:INFO:Flower VCE: Ray initialized with resources: {'node:__internal_head__': 1.0, 'object_store_memory': 396565708.0, 'node:127.0.0.1': 1.0, 'memory': 793131419.0, 'CPU': 8.0}\n",
      "INFO flwr 2023-11-15 14:15:10,491 | app.py:218 | No `client_resources` specified. Using minimal resources for clients.\n",
      "11/15/2023 14:15:10:INFO:No `client_resources` specified. Using minimal resources for clients.\n",
      "INFO flwr 2023-11-15 14:15:10,495 | app.py:224 | Flower VCE: Resources for each Virtual Client: {'num_cpus': 1, 'num_gpus': 0.0}\n",
      "11/15/2023 14:15:10:INFO:Flower VCE: Resources for each Virtual Client: {'num_cpus': 1, 'num_gpus': 0.0}\n",
      "INFO flwr 2023-11-15 14:15:10,533 | app.py:270 | Flower VCE: Creating VirtualClientEngineActorPool with 8 actors\n",
      "11/15/2023 14:15:10:INFO:Flower VCE: Creating VirtualClientEngineActorPool with 8 actors\n",
      "INFO flwr 2023-11-15 14:15:10,537 | server.py:89 | Initializing global parameters\n",
      "11/15/2023 14:15:10:INFO:Initializing global parameters\n",
      "INFO flwr 2023-11-15 14:15:10,543 | server.py:272 | Using initial parameters provided by strategy\n",
      "11/15/2023 14:15:10:INFO:Using initial parameters provided by strategy\n",
      "INFO flwr 2023-11-15 14:15:10,550 | server.py:91 | Evaluating initial parameters\n",
      "11/15/2023 14:15:10:INFO:Evaluating initial parameters\n",
      "INFO flwr 2023-11-15 14:15:10,878 | server.py:94 | initial parameters (loss, other metrics): 0.015502193348584986, {'accuracy': 0.8638392857142857}\n",
      "11/15/2023 14:15:10:INFO:initial parameters (loss, other metrics): 0.015502193348584986, {'accuracy': 0.8638392857142857}\n",
      "INFO flwr 2023-11-15 14:15:10,882 | server.py:104 | FL starting\n",
      "11/15/2023 14:15:10:INFO:FL starting\n",
      "DEBUG flwr 2023-11-15 14:15:10,885 | server.py:222 | fit_round 1: strategy sampled 2 clients (out of 2)\n",
      "11/15/2023 14:15:10:DEBUG:fit_round 1: strategy sampled 2 clients (out of 2)\n"
     ]
    },
    {
     "name": "stdout",
     "output_type": "stream",
     "text": [
      "Server-side evaluation loss 0.015502193348584986 / accuracy 0.8638392857142857\n",
      "\u001b[2m\u001b[36m(DefaultActor pid=19848)\u001b[0m [Client 1] fit, config: {}\n",
      "\u001b[2m\u001b[36m(DefaultActor pid=19848)\u001b[0m \tTrain Epoch: 0 \tLoss: 0.433888 Acc@1: 0.000000\n",
      "\u001b[2m\u001b[36m(DefaultActor pid=19848)\u001b[0m \tTrain Epoch: 0 \tLoss: 0.495352 Acc@1: 0.000000\n",
      "\u001b[2m\u001b[36m(DefaultActor pid=19848)\u001b[0m \tTrain Epoch: 0 \tLoss: 0.497303 Acc@1: 0.729167\n",
      "\u001b[2m\u001b[36m(DefaultActor pid=19848)\u001b[0m \tTrain Epoch: 0 \tLoss: 0.509244 Acc@1: 0.546875\n",
      "\u001b[2m\u001b[36m(DefaultActor pid=19848)\u001b[0m \tTrain Epoch: 0 \tLoss: 0.532625 Acc@1: 1.875000\n",
      "\u001b[2m\u001b[36m(DefaultActor pid=19848)\u001b[0m \tTrain Epoch: 0 \tLoss: 0.528583 Acc@1: 4.427083\n",
      "\u001b[2m\u001b[36m(DefaultActor pid=19848)\u001b[0m \tTrain Epoch: 0 \tLoss: 0.528970 Acc@1: 5.089286\n",
      "\u001b[2m\u001b[36m(DefaultActor pid=19848)\u001b[0m \tTrain Epoch: 0 \tLoss: 0.533206 Acc@1: 4.570312\n",
      "\u001b[2m\u001b[36m(DefaultActor pid=19848)\u001b[0m \tTrain Epoch: 1 \tLoss: 0.432719 Acc@1: 0.000000\n",
      "\u001b[2m\u001b[36m(DefaultActor pid=19848)\u001b[0m \tTrain Epoch: 1 \tLoss: 0.492720 Acc@1: 0.000000\n"
     ]
    },
    {
     "name": "stderr",
     "output_type": "stream",
     "text": [
      "\u001b[2m\u001b[36m(DefaultActor pid=19848)\u001b[0m C:\\Users\\HP User\\AppData\\Roaming\\Python\\Python39\\site-packages\\opacus\\privacy_engine.py:142: UserWarning: Secure RNG turned off. This is perfectly fine for experimentation as it allows for much faster training performance, but remember to turn it on and retrain one last time before production with ``secure_mode`` turned on.\n",
      "\u001b[2m\u001b[36m(DefaultActor pid=19848)\u001b[0m   warnings.warn(\n"
     ]
    },
    {
     "name": "stdout",
     "output_type": "stream",
     "text": [
      "\u001b[2m\u001b[36m(DefaultActor pid=10152)\u001b[0m \n",
      "\u001b[2m\u001b[36m(DefaultActor pid=19848)\u001b[0m epsilon of client 1 : eps = 0\n"
     ]
    },
    {
     "name": "stderr",
     "output_type": "stream",
     "text": [
      "DEBUG flwr 2023-11-15 14:15:22,778 | server.py:236 | fit_round 1 received 2 results and 0 failures\n",
      "11/15/2023 14:15:22:DEBUG:fit_round 1 received 2 results and 0 failures\n",
      "WARNING flwr 2023-11-15 14:15:22,786 | fedavg.py:242 | No fit_metrics_aggregation_fn provided\n",
      "11/15/2023 14:15:22:WARNING:No fit_metrics_aggregation_fn provided\n",
      "INFO flwr 2023-11-15 14:15:22,817 | server.py:125 | fit progress: (1, 0.014570691495490588, {'accuracy': 0.8638392857142857}, 11.931845600000003)\n",
      "11/15/2023 14:15:22:INFO:fit progress: (1, 0.014570691495490588, {'accuracy': 0.8638392857142857}, 11.931845600000003)\n",
      "DEBUG flwr 2023-11-15 14:15:22,819 | server.py:173 | evaluate_round 1: strategy sampled 2 clients (out of 2)\n",
      "11/15/2023 14:15:22:DEBUG:evaluate_round 1: strategy sampled 2 clients (out of 2)\n",
      "DEBUG flwr 2023-11-15 14:15:22,899 | server.py:187 | evaluate_round 1 received 2 results and 0 failures\n",
      "11/15/2023 14:15:22:DEBUG:evaluate_round 1 received 2 results and 0 failures\n",
      "WARNING flwr 2023-11-15 14:15:22,904 | fedavg.py:273 | No evaluate_metrics_aggregation_fn provided\n",
      "11/15/2023 14:15:22:WARNING:No evaluate_metrics_aggregation_fn provided\n",
      "DEBUG flwr 2023-11-15 14:15:22,906 | server.py:222 | fit_round 2: strategy sampled 2 clients (out of 2)\n",
      "11/15/2023 14:15:22:DEBUG:fit_round 2: strategy sampled 2 clients (out of 2)\n"
     ]
    },
    {
     "name": "stdout",
     "output_type": "stream",
     "text": [
      "Server-side evaluation loss 0.014570691495490588 / accuracy 0.8638392857142857\n",
      "\u001b[2m\u001b[36m(DefaultActor pid=10152)\u001b[0m [Client 0] evaluate, config: {}\n"
     ]
    },
    {
     "name": "stderr",
     "output_type": "stream",
     "text": [
      "DEBUG flwr 2023-11-15 14:15:24,389 | server.py:236 | fit_round 2 received 2 results and 0 failures\n",
      "11/15/2023 14:15:24:DEBUG:fit_round 2 received 2 results and 0 failures\n",
      "INFO flwr 2023-11-15 14:15:24,525 | server.py:125 | fit progress: (2, 0.01436032976606767, {'accuracy': 0.8638392857142857}, 13.640091499999983)\n",
      "11/15/2023 14:15:24:INFO:fit progress: (2, 0.01436032976606767, {'accuracy': 0.8638392857142857}, 13.640091499999983)\n",
      "DEBUG flwr 2023-11-15 14:15:24,527 | server.py:173 | evaluate_round 2: strategy sampled 2 clients (out of 2)\n",
      "11/15/2023 14:15:24:DEBUG:evaluate_round 2: strategy sampled 2 clients (out of 2)\n",
      "DEBUG flwr 2023-11-15 14:15:24,607 | server.py:187 | evaluate_round 2 received 2 results and 0 failures\n",
      "11/15/2023 14:15:24:DEBUG:evaluate_round 2 received 2 results and 0 failures\n",
      "DEBUG flwr 2023-11-15 14:15:24,609 | server.py:222 | fit_round 3: strategy sampled 2 clients (out of 2)\n",
      "11/15/2023 14:15:24:DEBUG:fit_round 3: strategy sampled 2 clients (out of 2)\n"
     ]
    },
    {
     "name": "stdout",
     "output_type": "stream",
     "text": [
      "Server-side evaluation loss 0.01436032976606767 / accuracy 0.8638392857142857\n"
     ]
    },
    {
     "name": "stderr",
     "output_type": "stream",
     "text": [
      "DEBUG flwr 2023-11-15 14:15:26,070 | server.py:236 | fit_round 3 received 2 results and 0 failures\n",
      "11/15/2023 14:15:26:DEBUG:fit_round 3 received 2 results and 0 failures\n",
      "INFO flwr 2023-11-15 14:15:26,104 | server.py:125 | fit progress: (3, 0.014328325109230242, {'accuracy': 0.8638392857142857}, 15.219743300000005)\n",
      "11/15/2023 14:15:26:INFO:fit progress: (3, 0.014328325109230242, {'accuracy': 0.8638392857142857}, 15.219743300000005)\n",
      "DEBUG flwr 2023-11-15 14:15:26,106 | server.py:173 | evaluate_round 3: strategy sampled 2 clients (out of 2)\n",
      "11/15/2023 14:15:26:DEBUG:evaluate_round 3: strategy sampled 2 clients (out of 2)\n",
      "DEBUG flwr 2023-11-15 14:15:26,188 | server.py:187 | evaluate_round 3 received 2 results and 0 failures\n",
      "11/15/2023 14:15:26:DEBUG:evaluate_round 3 received 2 results and 0 failures\n",
      "DEBUG flwr 2023-11-15 14:15:26,190 | server.py:222 | fit_round 4: strategy sampled 2 clients (out of 2)\n",
      "11/15/2023 14:15:26:DEBUG:fit_round 4: strategy sampled 2 clients (out of 2)\n"
     ]
    },
    {
     "name": "stdout",
     "output_type": "stream",
     "text": [
      "Server-side evaluation loss 0.014328325109230242 / accuracy 0.8638392857142857\n",
      "\u001b[2m\u001b[36m(DefaultActor pid=19848)\u001b[0m [Client 0] fit, config: {}\u001b[32m [repeated 6x across cluster] (Ray deduplicates logs by default. Set RAY_DEDUP_LOGS=0 to disable log deduplication, or see https://docs.ray.io/en/master/ray-observability/ray-logging.html#log-deduplication for more options.)\u001b[0m\n",
      "\u001b[2m\u001b[36m(DefaultActor pid=19848)\u001b[0m \tTrain Epoch: 0 \tLoss: 0.451555 Acc@1: 8.281250\u001b[32m [repeated 334x across cluster]\u001b[0m\n"
     ]
    },
    {
     "name": "stderr",
     "output_type": "stream",
     "text": [
      "\u001b[2m\u001b[36m(DefaultActor pid=19848)\u001b[0m C:\\Users\\HP User\\AppData\\Roaming\\Python\\Python39\\site-packages\\opacus\\privacy_engine.py:142: UserWarning: Secure RNG turned off. This is perfectly fine for experimentation as it allows for much faster training performance, but remember to turn it on and retrain one last time before production with ``secure_mode`` turned on.\u001b[32m [repeated 6x across cluster]\u001b[0m\n",
      "\u001b[2m\u001b[36m(DefaultActor pid=19848)\u001b[0m   warnings.warn(\u001b[32m [repeated 6x across cluster]\u001b[0m\n"
     ]
    },
    {
     "name": "stdout",
     "output_type": "stream",
     "text": [
      "\u001b[2m\u001b[36m(DefaultActor pid=10152)\u001b[0m epsilon of client 0 : eps = 0\u001b[32m [repeated 5x across cluster]\u001b[0m\n"
     ]
    },
    {
     "name": "stderr",
     "output_type": "stream",
     "text": [
      "DEBUG flwr 2023-11-15 14:15:27,738 | server.py:236 | fit_round 4 received 2 results and 0 failures\n",
      "11/15/2023 14:15:27:DEBUG:fit_round 4 received 2 results and 0 failures\n",
      "INFO flwr 2023-11-15 14:15:27,771 | server.py:125 | fit progress: (4, 0.014327377438259353, {'accuracy': 0.8638392857142857}, 16.885954199999986)\n",
      "11/15/2023 14:15:27:INFO:fit progress: (4, 0.014327377438259353, {'accuracy': 0.8638392857142857}, 16.885954199999986)\n",
      "DEBUG flwr 2023-11-15 14:15:27,774 | server.py:173 | evaluate_round 4: strategy sampled 2 clients (out of 2)\n",
      "11/15/2023 14:15:27:DEBUG:evaluate_round 4: strategy sampled 2 clients (out of 2)\n",
      "DEBUG flwr 2023-11-15 14:15:27,868 | server.py:187 | evaluate_round 4 received 2 results and 0 failures\n",
      "11/15/2023 14:15:27:DEBUG:evaluate_round 4 received 2 results and 0 failures\n",
      "DEBUG flwr 2023-11-15 14:15:27,871 | server.py:222 | fit_round 5: strategy sampled 2 clients (out of 2)\n",
      "11/15/2023 14:15:27:DEBUG:fit_round 5: strategy sampled 2 clients (out of 2)\n"
     ]
    },
    {
     "name": "stdout",
     "output_type": "stream",
     "text": [
      "Server-side evaluation loss 0.014327377438259353 / accuracy 0.8638392857142857\n",
      "\u001b[2m\u001b[36m(DefaultActor pid=19848)\u001b[0m [Client 1] evaluate, config: {}\u001b[32m [repeated 6x across cluster]\u001b[0m\n"
     ]
    },
    {
     "name": "stderr",
     "output_type": "stream",
     "text": [
      "DEBUG flwr 2023-11-15 14:15:29,203 | server.py:236 | fit_round 5 received 2 results and 0 failures\n",
      "11/15/2023 14:15:29:DEBUG:fit_round 5 received 2 results and 0 failures\n",
      "INFO flwr 2023-11-15 14:15:29,240 | server.py:125 | fit progress: (5, 0.014325631465271509, {'accuracy': 0.8638392857142857}, 18.354681699999986)\n",
      "11/15/2023 14:15:29:INFO:fit progress: (5, 0.014325631465271509, {'accuracy': 0.8638392857142857}, 18.354681699999986)\n",
      "DEBUG flwr 2023-11-15 14:15:29,241 | server.py:173 | evaluate_round 5: strategy sampled 2 clients (out of 2)\n",
      "11/15/2023 14:15:29:DEBUG:evaluate_round 5: strategy sampled 2 clients (out of 2)\n",
      "DEBUG flwr 2023-11-15 14:15:29,312 | server.py:187 | evaluate_round 5 received 2 results and 0 failures\n",
      "11/15/2023 14:15:29:DEBUG:evaluate_round 5 received 2 results and 0 failures\n",
      "DEBUG flwr 2023-11-15 14:15:29,318 | server.py:222 | fit_round 6: strategy sampled 2 clients (out of 2)\n",
      "11/15/2023 14:15:29:DEBUG:fit_round 6: strategy sampled 2 clients (out of 2)\n"
     ]
    },
    {
     "name": "stdout",
     "output_type": "stream",
     "text": [
      "Server-side evaluation loss 0.014325631465271509 / accuracy 0.8638392857142857\n"
     ]
    },
    {
     "name": "stderr",
     "output_type": "stream",
     "text": [
      "DEBUG flwr 2023-11-15 14:15:31,332 | server.py:236 | fit_round 6 received 2 results and 0 failures\n",
      "11/15/2023 14:15:31:DEBUG:fit_round 6 received 2 results and 0 failures\n",
      "INFO flwr 2023-11-15 14:15:31,382 | server.py:125 | fit progress: (6, 0.014319015635575036, {'accuracy': 0.8638392857142857}, 20.497384299999993)\n",
      "11/15/2023 14:15:31:INFO:fit progress: (6, 0.014319015635575036, {'accuracy': 0.8638392857142857}, 20.497384299999993)\n",
      "DEBUG flwr 2023-11-15 14:15:31,386 | server.py:173 | evaluate_round 6: strategy sampled 2 clients (out of 2)\n",
      "11/15/2023 14:15:31:DEBUG:evaluate_round 6: strategy sampled 2 clients (out of 2)\n",
      "DEBUG flwr 2023-11-15 14:15:31,484 | server.py:187 | evaluate_round 6 received 2 results and 0 failures\n",
      "11/15/2023 14:15:31:DEBUG:evaluate_round 6 received 2 results and 0 failures\n",
      "DEBUG flwr 2023-11-15 14:15:31,487 | server.py:222 | fit_round 7: strategy sampled 2 clients (out of 2)\n",
      "11/15/2023 14:15:31:DEBUG:fit_round 7: strategy sampled 2 clients (out of 2)\n"
     ]
    },
    {
     "name": "stdout",
     "output_type": "stream",
     "text": [
      "\u001b[2m\u001b[36m(DefaultActor pid=10152)\u001b[0m [Client 0] fit, config: {}\u001b[32m [repeated 5x across cluster]\u001b[0m\n",
      "\u001b[2m\u001b[36m(DefaultActor pid=10152)\u001b[0m \tTrain Epoch: 5 \tLoss: 0.454189 Acc@1: 2.727273\u001b[32m [repeated 340x across cluster]\u001b[0m\n",
      "Server-side evaluation loss 0.014319015635575036 / accuracy 0.8638392857142857\n"
     ]
    },
    {
     "name": "stderr",
     "output_type": "stream",
     "text": [
      "\u001b[2m\u001b[36m(DefaultActor pid=19848)\u001b[0m C:\\Users\\HP User\\AppData\\Roaming\\Python\\Python39\\site-packages\\opacus\\privacy_engine.py:142: UserWarning: Secure RNG turned off. This is perfectly fine for experimentation as it allows for much faster training performance, but remember to turn it on and retrain one last time before production with ``secure_mode`` turned on.\u001b[32m [repeated 6x across cluster]\u001b[0m\n",
      "\u001b[2m\u001b[36m(DefaultActor pid=19848)\u001b[0m   warnings.warn(\u001b[32m [repeated 6x across cluster]\u001b[0m\n"
     ]
    },
    {
     "name": "stdout",
     "output_type": "stream",
     "text": [
      "\u001b[2m\u001b[36m(DefaultActor pid=10152)\u001b[0m epsilon of client 0 : eps = 0\u001b[32m [repeated 6x across cluster]\u001b[0m\n",
      "\u001b[2m\u001b[36m(DefaultActor pid=19848)\u001b[0m [Client 1] evaluate, config: {}\u001b[32m [repeated 5x across cluster]\u001b[0m\n"
     ]
    },
    {
     "name": "stderr",
     "output_type": "stream",
     "text": [
      "DEBUG flwr 2023-11-15 14:15:33,757 | server.py:236 | fit_round 7 received 2 results and 0 failures\n",
      "11/15/2023 14:15:33:DEBUG:fit_round 7 received 2 results and 0 failures\n",
      "INFO flwr 2023-11-15 14:15:33,802 | server.py:125 | fit progress: (7, 0.014308606191790647, {'accuracy': 0.8638392857142857}, 22.917021599999998)\n",
      "11/15/2023 14:15:33:INFO:fit progress: (7, 0.014308606191790647, {'accuracy': 0.8638392857142857}, 22.917021599999998)\n",
      "DEBUG flwr 2023-11-15 14:15:33,808 | server.py:173 | evaluate_round 7: strategy sampled 2 clients (out of 2)\n",
      "11/15/2023 14:15:33:DEBUG:evaluate_round 7: strategy sampled 2 clients (out of 2)\n",
      "DEBUG flwr 2023-11-15 14:15:33,914 | server.py:187 | evaluate_round 7 received 2 results and 0 failures\n",
      "11/15/2023 14:15:33:DEBUG:evaluate_round 7 received 2 results and 0 failures\n",
      "DEBUG flwr 2023-11-15 14:15:33,917 | server.py:222 | fit_round 8: strategy sampled 2 clients (out of 2)\n",
      "11/15/2023 14:15:33:DEBUG:fit_round 8: strategy sampled 2 clients (out of 2)\n"
     ]
    },
    {
     "name": "stdout",
     "output_type": "stream",
     "text": [
      "Server-side evaluation loss 0.014308606191790647 / accuracy 0.8638392857142857\n"
     ]
    },
    {
     "name": "stderr",
     "output_type": "stream",
     "text": [
      "DEBUG flwr 2023-11-15 14:15:35,984 | server.py:236 | fit_round 8 received 2 results and 0 failures\n",
      "11/15/2023 14:15:35:DEBUG:fit_round 8 received 2 results and 0 failures\n",
      "INFO flwr 2023-11-15 14:15:36,023 | server.py:125 | fit progress: (8, 0.014295995163974716, {'accuracy': 0.8638392857142857}, 25.138397699999985)\n",
      "11/15/2023 14:15:36:INFO:fit progress: (8, 0.014295995163974716, {'accuracy': 0.8638392857142857}, 25.138397699999985)\n",
      "DEBUG flwr 2023-11-15 14:15:36,026 | server.py:173 | evaluate_round 8: strategy sampled 2 clients (out of 2)\n",
      "11/15/2023 14:15:36:DEBUG:evaluate_round 8: strategy sampled 2 clients (out of 2)\n",
      "DEBUG flwr 2023-11-15 14:15:36,196 | server.py:187 | evaluate_round 8 received 2 results and 0 failures\n",
      "11/15/2023 14:15:36:DEBUG:evaluate_round 8 received 2 results and 0 failures\n",
      "DEBUG flwr 2023-11-15 14:15:36,201 | server.py:222 | fit_round 9: strategy sampled 2 clients (out of 2)\n",
      "11/15/2023 14:15:36:DEBUG:fit_round 9: strategy sampled 2 clients (out of 2)\n"
     ]
    },
    {
     "name": "stdout",
     "output_type": "stream",
     "text": [
      "Server-side evaluation loss 0.014295995163974716 / accuracy 0.8638392857142857\n",
      "\u001b[2m\u001b[36m(DefaultActor pid=19848)\u001b[0m [Client 1] fit, config: {}\u001b[32m [repeated 5x across cluster]\u001b[0m\n",
      "\u001b[2m\u001b[36m(DefaultActor pid=19848)\u001b[0m \tTrain Epoch: 0 \tLoss: 0.443158 Acc@1: 8.437500\u001b[32m [repeated 229x across cluster]\u001b[0m\n",
      "\u001b[2m\u001b[36m(DefaultActor pid=19848)\u001b[0m epsilon of client 0 : eps = 0\u001b[32m [repeated 4x across cluster]\u001b[0m\n",
      "\u001b[2m\u001b[36m(DefaultActor pid=10152)\u001b[0m [Client 1] evaluate, config: {}\u001b[32m [repeated 4x across cluster]\u001b[0m\n"
     ]
    },
    {
     "name": "stderr",
     "output_type": "stream",
     "text": [
      "DEBUG flwr 2023-11-15 14:15:38,251 | server.py:236 | fit_round 9 received 2 results and 0 failures\n",
      "11/15/2023 14:15:38:DEBUG:fit_round 9 received 2 results and 0 failures\n",
      "INFO flwr 2023-11-15 14:15:38,306 | server.py:125 | fit progress: (9, 0.01428214423090434, {'accuracy': 0.8638392857142857}, 27.421686800000003)\n",
      "11/15/2023 14:15:38:INFO:fit progress: (9, 0.01428214423090434, {'accuracy': 0.8638392857142857}, 27.421686800000003)\n",
      "DEBUG flwr 2023-11-15 14:15:38,310 | server.py:173 | evaluate_round 9: strategy sampled 2 clients (out of 2)\n",
      "11/15/2023 14:15:38:DEBUG:evaluate_round 9: strategy sampled 2 clients (out of 2)\n",
      "DEBUG flwr 2023-11-15 14:15:38,422 | server.py:187 | evaluate_round 9 received 2 results and 0 failures\n",
      "11/15/2023 14:15:38:DEBUG:evaluate_round 9 received 2 results and 0 failures\n",
      "DEBUG flwr 2023-11-15 14:15:38,426 | server.py:222 | fit_round 10: strategy sampled 2 clients (out of 2)\n",
      "11/15/2023 14:15:38:DEBUG:fit_round 10: strategy sampled 2 clients (out of 2)\n"
     ]
    },
    {
     "name": "stdout",
     "output_type": "stream",
     "text": [
      "Server-side evaluation loss 0.01428214423090434 / accuracy 0.8638392857142857\n"
     ]
    },
    {
     "name": "stderr",
     "output_type": "stream",
     "text": [
      "\u001b[2m\u001b[36m(DefaultActor pid=10152)\u001b[0m C:\\Users\\HP User\\AppData\\Roaming\\Python\\Python39\\site-packages\\opacus\\privacy_engine.py:142: UserWarning: Secure RNG turned off. This is perfectly fine for experimentation as it allows for much faster training performance, but remember to turn it on and retrain one last time before production with ``secure_mode`` turned on.\u001b[32m [repeated 6x across cluster]\u001b[0m\n",
      "\u001b[2m\u001b[36m(DefaultActor pid=10152)\u001b[0m   warnings.warn(\u001b[32m [repeated 6x across cluster]\u001b[0m\n",
      "DEBUG flwr 2023-11-15 14:15:40,355 | server.py:236 | fit_round 10 received 2 results and 0 failures\n",
      "11/15/2023 14:15:40:DEBUG:fit_round 10 received 2 results and 0 failures\n",
      "INFO flwr 2023-11-15 14:15:40,385 | server.py:125 | fit progress: (10, 0.014267755283726206, {'accuracy': 0.8638392857142857}, 29.500351800000004)\n",
      "11/15/2023 14:15:40:INFO:fit progress: (10, 0.014267755283726206, {'accuracy': 0.8638392857142857}, 29.500351800000004)\n",
      "DEBUG flwr 2023-11-15 14:15:40,390 | server.py:173 | evaluate_round 10: strategy sampled 2 clients (out of 2)\n",
      "11/15/2023 14:15:40:DEBUG:evaluate_round 10: strategy sampled 2 clients (out of 2)\n",
      "DEBUG flwr 2023-11-15 14:15:40,490 | server.py:187 | evaluate_round 10 received 2 results and 0 failures\n",
      "11/15/2023 14:15:40:DEBUG:evaluate_round 10 received 2 results and 0 failures\n",
      "INFO flwr 2023-11-15 14:15:40,493 | server.py:153 | FL finished in 29.60800710000001\n",
      "11/15/2023 14:15:40:INFO:FL finished in 29.60800710000001\n",
      "INFO flwr 2023-11-15 14:15:40,496 | app.py:225 | app_fit: losses_distributed [(1, 0.014499749008551782), (2, 0.01438418731088515), (3, 0.01439017562169744), (4, 0.014405591485805799), (5, 0.014411061952794258), (6, 0.0144072456621863), (7, 0.01439762217617168), (8, 0.014384806762821833), (9, 0.014370210264418754), (10, 0.01435479162196952)]\n",
      "11/15/2023 14:15:40:INFO:app_fit: losses_distributed [(1, 0.014499749008551782), (2, 0.01438418731088515), (3, 0.01439017562169744), (4, 0.014405591485805799), (5, 0.014411061952794258), (6, 0.0144072456621863), (7, 0.01439762217617168), (8, 0.014384806762821833), (9, 0.014370210264418754), (10, 0.01435479162196952)]\n",
      "INFO flwr 2023-11-15 14:15:40,499 | app.py:226 | app_fit: metrics_distributed_fit {}\n",
      "11/15/2023 14:15:40:INFO:app_fit: metrics_distributed_fit {}\n",
      "INFO flwr 2023-11-15 14:15:40,503 | app.py:227 | app_fit: metrics_distributed {}\n",
      "11/15/2023 14:15:40:INFO:app_fit: metrics_distributed {}\n",
      "INFO flwr 2023-11-15 14:15:40,505 | app.py:228 | app_fit: losses_centralized [(0, 0.015502193348584986), (1, 0.014570691495490588), (2, 0.01436032976606767), (3, 0.014328325109230242), (4, 0.014327377438259353), (5, 0.014325631465271509), (6, 0.014319015635575036), (7, 0.014308606191790647), (8, 0.014295995163974716), (9, 0.01428214423090434), (10, 0.014267755283726206)]\n",
      "11/15/2023 14:15:40:INFO:app_fit: losses_centralized [(0, 0.015502193348584986), (1, 0.014570691495490588), (2, 0.01436032976606767), (3, 0.014328325109230242), (4, 0.014327377438259353), (5, 0.014325631465271509), (6, 0.014319015635575036), (7, 0.014308606191790647), (8, 0.014295995163974716), (9, 0.01428214423090434), (10, 0.014267755283726206)]\n",
      "INFO flwr 2023-11-15 14:15:40,508 | app.py:229 | app_fit: metrics_centralized {'accuracy': [(0, 0.8638392857142857), (1, 0.8638392857142857), (2, 0.8638392857142857), (3, 0.8638392857142857), (4, 0.8638392857142857), (5, 0.8638392857142857), (6, 0.8638392857142857), (7, 0.8638392857142857), (8, 0.8638392857142857), (9, 0.8638392857142857), (10, 0.8638392857142857)]}\n",
      "11/15/2023 14:15:40:INFO:app_fit: metrics_centralized {'accuracy': [(0, 0.8638392857142857), (1, 0.8638392857142857), (2, 0.8638392857142857), (3, 0.8638392857142857), (4, 0.8638392857142857), (5, 0.8638392857142857), (6, 0.8638392857142857), (7, 0.8638392857142857), (8, 0.8638392857142857), (9, 0.8638392857142857), (10, 0.8638392857142857)]}\n"
     ]
    },
    {
     "name": "stdout",
     "output_type": "stream",
     "text": [
      "Server-side evaluation loss 0.014267755283726206 / accuracy 0.8638392857142857\n",
      "\u001b[2m\u001b[36m(DefaultActor pid=19848)\u001b[0m [Client 1] evaluate, config: {}\n"
     ]
    }
   ],
   "source": [
    "#Create a pipeline\n",
    "from Medfl.LearningManager.flpipeline import *\n",
    "ppl_1 = FLpipeline( name =\"the first fl_pipeline\",description = \"this is our first FL pipeline\",\n",
    "                   server = server)\n",
    "ppl_1.server.run()"
   ]
  },
  {
   "cell_type": "code",
   "execution_count": 26,
   "id": "5493bbfc",
   "metadata": {},
   "outputs": [
    {
     "data": {
      "image/png": "[encoded data removed]",
      "text/plain": [
       "<Figure size 800x600 with 1 Axes>"
      ]
     },
     "metadata": {},
     "output_type": "display_data"
    }
   ],
   "source": [
    "# making some plots\n",
    "from Medfl.LearningManager.plot import AccuracyLossPlotter\n",
    "\n",
    "global_accuracy,global_loss = ppl_1.server.accuracies,ppl_1.server.losses\n",
    "results_dict = {\n",
    "    ('LR: 0.001, Optimizer: SGD', 'accuracy'): global_accuracy,\n",
    "    ('LR: 0.001, Optimizer: SGD', 'loss'): global_loss\n",
    "}\n",
    "plotter = AccuracyLossPlotter(results_dict)\n",
    "\n",
    "plotter.plot_accuracy_loss()"
   ]
  },
  {
   "cell_type": "code",
   "execution_count": null,
   "id": "1ff0cf53",
   "metadata": {},
   "outputs": [],
   "source": []
  },
  {
   "cell_type": "code",
   "execution_count": 27,
   "id": "b0974d51",
   "metadata": {},
   "outputs": [
    {
     "name": "stdout",
     "output_type": "stream",
     "text": [
      "1\n"
     ]
    },
    {
     "data": {
      "text/plain": [
       "[{'node_name': 'Midwest',\n",
       "  'classification_report': \"{'confusion matrix': {'TP': 0, 'FP': 0, 'FN': 169, 'TN': 874}, 'Accuracy': 0.838, 'Sensitivity/Recall': 0.0, 'Specificity': 1.0, 'PPV/Precision': 0.0, 'NPV': 0.838, 'F1-score': 0.0, 'False positive rate': 0.0, 'True positive rate': 0.0}\"},\n",
       " {'node_name': 'South',\n",
       "  'classification_report': \"{'confusion matrix': {'TP': 0, 'FP': 0, 'FN': 153, 'TN': 555}, 'Accuracy': 0.784, 'Sensitivity/Recall': 0.0, 'Specificity': 1.0, 'PPV/Precision': 0.0, 'NPV': 0.784, 'F1-score': 0.0, 'False positive rate': 0.0, 'True positive rate': 0.0}\"},\n",
       " {'node_name': 'West',\n",
       "  'classification_report': \"{'confusion matrix': {'TP': 0, 'FP': 0, 'FN': 548, 'TN': 2353}, 'Accuracy': 0.811, 'Sensitivity/Recall': 0.0, 'Specificity': 1.0, 'PPV/Precision': 0.0, 'NPV': 0.811, 'F1-score': 0.0, 'False positive rate': 0.0, 'True positive rate': 0.0}\"},\n",
       " {'node_name': 'Northeast',\n",
       "  'classification_report': \"{'confusion matrix': {'TP': 0, 'FP': 0, 'FN': 259, 'TN': 985}, 'Accuracy': 0.792, 'Sensitivity/Recall': 0.0, 'Specificity': 1.0, 'PPV/Precision': 0.0, 'NPV': 0.792, 'F1-score': 0.0, 'False positive rate': 0.0, 'True positive rate': 0.0}\"}]"
      ]
     },
     "execution_count": 27,
     "metadata": {},
     "output_type": "execute_result"
    },
    {
     "name": "stderr",
     "output_type": "stream",
     "text": [
      "\u001b[2m\u001b[33m(raylet)\u001b[0m [*** LOG ERROR #0001 ***] [2023-11-15 20:48:09] [ray_log_sink] {wincolor_sink: write_to_file_ failed. GetLastError(): 112}\n",
      "\u001b[2m\u001b[33m(raylet)\u001b[0m [*** LOG ERROR #0002 ***] [2023-11-15 20:49:09] [ray_log_sink] {wincolor_sink: write_to_file_ failed. GetLastError(): 112}\n",
      "\u001b[2m\u001b[33m(raylet)\u001b[0m [*** LOG ERROR #0003 ***] [2023-11-15 20:50:09] [ray_log_sink] {wincolor_sink: write_to_file_ failed. GetLastError(): 112}\n",
      "\u001b[2m\u001b[36m(pid=gcs_server)\u001b[0m [*** LOG ERROR #0001 ***] [2023-11-15 20:51:04] [ray_log_sink] {wincolor_sink: write_to_file_ failed. GetLastError(): 112}\n",
      "\u001b[2m\u001b[33m(raylet)\u001b[0m [*** LOG ERROR #0004 ***] [2023-11-15 20:51:09] [ray_log_sink] {wincolor_sink: write_to_file_ failed. GetLastError(): 112}\n",
      "\u001b[2m\u001b[33m(raylet)\u001b[0m [*** LOG ERROR #0005 ***] [2023-11-15 20:58:09] [ray_log_sink] {wincolor_sink: write_to_file_ failed. GetLastError(): 112}\n",
      "\u001b[2m\u001b[36m(pid=gcs_server)\u001b[0m [*** LOG ERROR #0004 ***] [2023-11-15 21:03:04] [ray_log_sink] {wincolor_sink: write_to_file_ failed. GetLastError(): 112}\n",
      "\u001b[2m\u001b[36m(pid=gcs_server)\u001b[0m [*** LOG ERROR #0005 ***] [2023-11-15 21:04:04] [ray_log_sink] {wincolor_sink: write_to_file_ failed. GetLastError(): 112}\n",
      "\u001b[2m\u001b[36m(pid=gcs_server)\u001b[0m [*** LOG ERROR #0007 ***] [2023-11-15 21:05:04] [ray_log_sink] {wincolor_sink: write_to_file_ failed. GetLastError(): 112}\n"
     ]
    }
   ],
   "source": [
    "ppl_1.auto_test()\n"
   ]
  }
 ],
 "metadata": {
  "kernelspec": {
   "display_name": "Python 3 (ipykernel)",
   "language": "python",
   "name": "python3"
  },
  "language_info": {
   "codemirror_mode": {
    "name": "ipython",
    "version": 3
   },
   "file_extension": ".py",
   "mimetype": "text/x-python",
   "name": "python",
   "nbconvert_exporter": "python",
   "pygments_lexer": "ipython3",
   "version": "3.9.4"
  }
 },
 "nbformat": 4,
 "nbformat_minor": 5
}
