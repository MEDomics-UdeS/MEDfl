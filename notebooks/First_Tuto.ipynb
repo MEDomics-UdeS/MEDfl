{
 "cells": [
  {
   "cell_type": "markdown",
   "id": "ea17612d",
   "metadata": {},
   "source": [
    "<h1>What's Federated Learning</h1>\n",
    "The concept of federated learning is proposed by Google AI on 2016, Their main idea is\n",
    "to build machine learning models based on data sets that are distributed across multiple devices\n",
    "while preventing data leakage and sharing data between any two couple of devices. Recent improvements have been focusing on overcoming the statistical challenges, (such as non iid-data and the amount of data hold by each client) and also in improving security in federated learning.\n",
    "Federated Learning (FL), is highly adapted to the healthcare domain, it's simply used to make a set of hospitals to collaboratively train a joint model, which will be used by all the hospitals after that.\n",
    "<img src=\"Images/FL_gen.png\"  style=\"width:600px ;height:600px\"> "
   ]
  },
  {
   "cell_type": "markdown",
   "id": "f1785d1e",
   "metadata": {},
   "source": [
    "<h1>What's Differential Privacy</h1>\n",
    "Differential Privacy was early introduced by Dwork et al,  The methods of differential privacy, k-anonymity, and\n",
    "diversification  involve in adding noise to the data, or using generalization methods to obscure\n",
    "certain sensitive attributes until the third party cannot distinguish the individual, thereby making\n",
    "the data impossible to be restore to protect user privacy. However, the root of these methods still\n",
    "require that the data are transmitted elsewhere and these work usually involve a trade-off between\n",
    "accuracy and privacy. In, most of recents reseach has introduced a differential privacy approach to federated\n",
    "learning in order to add protection to client-side data by hiding client’s contributions during\n",
    "training, using differents approaches.\n",
    "<img src=\"Images/GDP.png\"  style=\"width:400px ;height:200px\"> <img src=\"Images/LDP.png\"  style=\"width:400px ;height:200px\">\n",
    " "
   ]
  },
  {
   "cell_type": "markdown",
   "id": "0f71885b",
   "metadata": {},
   "source": [
    "<h1>Privacy Enhancing Technologies (PETs)</h1>\n",
    "Privacy-enhancing technologies or PET are designed to prevent data leaks while balancing privacy with usability. Some PETs even prevent bad actors from identifying to whom the collected data belongs - if a leak were to occur, the data would be virtually useless to cybercriminals, and they are mainly digital solutions (Softwares).\n",
    "There are many different types of PETs, each designed to solve a specific business problem. While some are better at aggregated analytics, others are more suited for precise results. Likewise, some may be ideal for deriving insights from sensitive data, while others are best for data exploration.\n",
    "we will mention  the following frameworks:\n",
    "<ul>\n",
    "    <li>  <a href=\"https://flower.dev\">Flower</a> </li>\n",
    "    <li>  <a href=\"https://github.com/OpenMined/PySyft\">Pysyft</a> </li>\n",
    "    <li>  <a href=\"https://opacus.ai/\">Opacus</a></li>\n",
    "</ul>"
   ]
  },
  {
   "cell_type": "markdown",
   "id": "d874db93",
   "metadata": {},
   "source": [
    "<h1> MEDfl</h1>\n",
    "MEDfl is a new python package, which is a hybridization of Flower and Opacus, while getting inspired by the Pysyft framework, the main strengths of MEDfl is that  both users and developpers will  benifit from  all features of the three listed frameworks.\n",
    "<h2>A small real world scenario</h2>\n",
    "<b>Martin</b> is an AI researcher, his main interest is  the applications of AI into the healthcare domain.\n",
    "Recently, he has obtained a call from a prestigious institute, in order to make a study about the realisation of a new project. The project's goal is  designing and developping a federated learning system between a set of hospitals, and that by training and using a deep learning model with preserving the privacy of all patient records.\n",
    "\n",
    "When Martin finished the first analysis of the project statement, he realized that the project involve the use of Federated Learning, Differential Privacy within a good storage monitoring system.\n",
    "\n",
    "Fortunately, Martin knows MEDfl, and he is pretty sure that it's designed for such tasks, and it will be do the desired work.\n",
    "Medfl with his two main sub-packages,<b>NetManager</b> , <b>Federated</b>, let us designing FL expirements and simulating real world scenarios, and that by using differents options to make  differents FL architectures (or setups) as well as using differents FL pipelines.\n",
    "\n"
   ]
  },
  {
   "cell_type": "markdown",
   "id": "a187931d",
   "metadata": {},
   "source": [
    "<h1> MEDfl</h1>\n",
    "MEDfl is a new python package, which is a hybridization of Flower and Opacus, while getting inspired by the Pysyft framework, the main strengths of MEDfl is that  both users and developpers will  benifit from  all features of the three listed frameworks.\n",
    "<h2>A small real world scenario</h2>\n",
    "<b>Martin</b> is an AI researcher, his main interest is  the applications of AI into the healthcare domain.\n",
    "Recently, he has recieved a call from a prestigious institute, in order to make a study about the realisation of a new project. The project's goal is  designing and developping a federated learning system between a set of hospitals, and that by training and using a deep learning model with preserving the privacy of all patient records.\n",
    "\n",
    "When Martin finished the first analysis of the project statement, he realized that the project involve the use of Federated Learning, Differential Privacy within a good storage monitoring system.\n",
    "\n",
    "Fortunately, Martin knows MEDfl, and he is pretty sure that it's designed for such tasks, and it will be do the desired work.\n",
    "Medfl with his two main sub-packages,<b>NetManager</b> , <b>Federated</b>, let us designing FL expirements and simulating real world scenarios, and that by using differents options to make  differents FL architectures (or setups) as well as using differents FL pipelines.\n",
    "\n"
   ]
  },
  {
   "cell_type": "markdown",
   "id": "560586a4",
   "metadata": {},
   "source": [
    "<h1>NetManager Sub-Package</h1>\n",
    "In order ot start simulating, hospitals architectures, their datasets, and theirs interactions. Martin should  familiarize with The NetManager Sub-Package, because, it provides the mechanizmes to :\n",
    "  <ul>\n",
    "    <li> Choose the dataset format used by all hospitals, as we are working in a <b>Horizontal Federated Learning HFL</b> settings.  </li>\n",
    "    <li> Create virtual hospitals in a two way :</li>\n",
    "    <h5>Automatically : </h5> \n",
    "      This method used when Martin doesn't have an idea about hospitals name, their datasets. so, the creation will based on some  variables on the datasets, in our Proof-Of-Concept with the eICU dataset, there are two variables that can be used, \"site_hosiptal, and \"site_region\".  <br> Note that, hospitals can participate for <b>training</b> or for <b>testing</b> only. (this may be changed to support both modes) . <br> the set of hospitals or (Nodes) perform a network, and on MEDfl terminology, a network and its additional informations, refered as a <b>FLsetup (Federated Learning Setup)</b> <br>After the creation of an <b>FLsetup</b> it will be stored on the DB, by a unique ID, a name, a description, and a creation date.\n",
    "  <h5>Manually :</h5>\n",
    "      Martin can also create a FLsetup manually, create a network, and add each node separately, then uploade a dataset on each node.\n",
    "    \n",
    "  </ul>  \n",
    "In the following section we will tranlsate all this paragraph to code, and show how powerful and easy to use <b>MEDfl</b> is !\n",
    "    "
   ]
  },
  {
   "cell_type": "markdown",
   "id": "e9f24fd3",
   "metadata": {},
   "source": [
    "<h3> 1) Create a FLsetup Automatically</h3>\n",
    "To create a FLsetup (network, training nodes and test nodes) manually, with MEDfl, we should follow the following steps: <ul>\n",
    "    <li>Create a network </li>\n",
    "    <li>Create the FLsetup object, to make things more organized, and facilitate the storage process</li>\n",
    "    <li>Create the master dataset table, that contains the dataset that be used to create all the nodes (hospitals).</li>\n",
    "    <li>Select a column from the dataset, then create training and testing nodes using its modalities (unique values)</li>  \n",
    " \n",
    "</ul>   \n",
    " "
   ]
  },
  {
   "cell_type": "code",
   "execution_count": 1,
   "id": "a98caa04",
   "metadata": {},
   "outputs": [],
   "source": [
    "import sys\n",
    "sys.path.append(r'/home/hlpc/Desktop/Github/MEDfl/')\n",
    "\n",
    "import os\n",
    "os.environ['PYTHONPATH'] = '/home/hlpc/Desktop/Github/MEDfl/'"
   ]
  },
  {
   "cell_type": "code",
   "execution_count": 2,
   "id": "b25ee1e0",
   "metadata": {},
   "outputs": [],
   "source": [
    "from Medfl.LearningManager.utils import *\n",
    "empty_db()"
   ]
  },
  {
   "cell_type": "markdown",
   "id": "e1d14686",
   "metadata": {},
   "source": [
    "<h4>Network Creation</h4>\n",
    "The creation of a network in MEDfl, like any object creation in Python, is simply done by calling the Network Class, and create a network object by passing the name of the network. below you find the illustration of the network class, its attributes and functions.\n",
    "(add class diagram)"
   ]
  },
  {
   "cell_type": "code",
   "execution_count": 3,
   "id": "503cbd2f",
   "metadata": {},
   "outputs": [],
   "source": [
    "from Medfl.NetManager.network import Network\n",
    "network_obj = Network(name=\"Auto_network\")\n"
   ]
  },
  {
   "cell_type": "markdown",
   "id": "ec141f11",
   "metadata": {},
   "source": [
    "<h4> Master Dataset Table Creation</h4>\n",
    "To create a the master dataset table, we have to provide a <b>CSV File</b>, that contain the dataset, \n",
    "then the \"create_master_dataset\" function from the Network class, will create a table on the MySQL DB. \n",
    "and from this table, we will generate our train/test nodes and datasets. <br>\n",
    "<b>Note:</b> if the table already exists on the DataBase, the function will retrun an exception message."
   ]
  },
  {
   "cell_type": "code",
   "execution_count": 4,
   "id": "42857771",
   "metadata": {},
   "outputs": [],
   "source": [
    "path = '~/Desktop/Github/MEDfl/Notebooks/sapsii_score_knnimputed_eicu.csv'\n",
    "\n",
    "network_obj.create_master_dataset(path_to_csv = path)"
   ]
  },
  {
   "cell_type": "markdown",
   "id": "dd8b5118",
   "metadata": {},
   "source": [
    "<h4>FLsetup Creation</h4>\n",
    "The same for FLsetup, we call the FLsetup Class, to create a FLsetup object by passing the name of the FLsetup, its description, and the network associated ot it. <br>below you find the illustration of the network class, its attributes and functions. (add class diagramm)"
   ]
  },
  {
   "cell_type": "code",
   "execution_count": 5,
   "id": "8b2e4d5a",
   "metadata": {},
   "outputs": [],
   "source": [
    "from Medfl.NetManager.flsetup import FLsetup\n",
    "fl_setup = FLsetup(name = \"Flsetup1\", description = \"The first fl setup\",network = network_obj)"
   ]
  },
  {
   "cell_type": "markdown",
   "id": "5d34218e",
   "metadata": {},
   "source": [
    "<h4>Nodes Creation</h4>\n",
    "The user should create a parameters dictionary that contains  :\n",
    "<ul> \n",
    "    <li>The name of the column that be used to create the nodes, which is the main element in the <b>Automatic Method</b></li> \n",
    "    <li> The lists of the train/test nodes</li>\n",
    "    </ul> \n",
    "and parse it to the create_nodes_from_master_dataset function from the FLsetup class.<br>\n",
    "Node is also an object, and it will be stored on the DataBase."
   ]
  },
  {
   "cell_type": "code",
   "execution_count": 6,
   "id": "bf1a5056",
   "metadata": {},
   "outputs": [
    {
     "data": {
      "text/plain": [
       "['Midwest', 'South', 'West', 'Northeast']"
      ]
     },
     "execution_count": 6,
     "metadata": {},
     "output_type": "execute_result"
    }
   ],
   "source": [
    "params_dict = {'column_name' : 'site_region','train_nodes' : [\"Midwest\",\"South\"] , 'test_nodes' : ['West','Northeast'] }\n",
    "\n",
    "eicu_nodes = fl_setup.create_nodes_from_master_dataset(params_dict = params_dict )\n",
    "\n",
    "[node.name  for node in eicu_nodes]  "
   ]
  },
  {
   "cell_type": "markdown",
   "id": "6a9cef61",
   "metadata": {},
   "source": [
    "<h4>Federated DataSet</h4>\n",
    "the function \"create_federated_dataset\", will create, train loaders, test loaders from the datasets of the nodes.\n",
    "in the automatic method, the datasets is created from the master dataset table, the trainloader of each node will contains the records with the same name.<br>\n",
    "After the creation of the federated dataset, the FLsetup will be stored into the FLsetup table in the DB.\n"
   ]
  },
  {
   "cell_type": "code",
   "execution_count": 7,
   "id": "6994ad7a",
   "metadata": {},
   "outputs": [
    {
     "name": "stdout",
     "output_type": "stream",
     "text": [
      "SELECT * FROM MasterDataset WHERE site_region = 'Midwest'\n",
      "SELECT * FROM MasterDataset WHERE site_region = 'South'\n",
      "SELECT * FROM MasterDataset WHERE site_region = 'West'\n",
      "SELECT * FROM MasterDataset WHERE site_region = 'Northeast'\n"
     ]
    },
    {
     "data": {
      "text/plain": [
       "708"
      ]
     },
     "execution_count": 7,
     "metadata": {},
     "output_type": "execute_result"
    }
   ],
   "source": [
    "fl_dataset = fl_setup.create_federated_dataset()\n",
    "len(fl_dataset.testloaders[1])"
   ]
  },
  {
   "cell_type": "markdown",
   "id": "6da28438",
   "metadata": {},
   "source": [
    "<h3>2) Create a FLsetup Manually</h3>\n",
    "The manual creation of a FLsetup  with MEDfl, it's a bit different from the the automatic method,but it stays on the same scope, the only difference is here, we should create all the object (FLsetup,network, training nodes and test nodes),\n",
    "We will start doing the following : <ul>\n",
    "    <li>Create a network </li>\n",
    "    <li>Create Master Dataset, Here the master_dataset table will be used to ensure that all nodes hold the same dataset format (horizontal federated learning)</li>\n",
    "    <li> Create train and test nodes, inside the created network .\n",
    "    <li> Upload datasets inside each node </li>    \n",
    "    <li>Create the FLsetup object, to make things more organized, and facilitate the storage process</li>\n",
    "     \n",
    " \n",
    "</ul>   "
   ]
  },
  {
   "cell_type": "markdown",
   "id": "8cc5fce4",
   "metadata": {},
   "source": [
    "<h3>Network Creation</h3>"
   ]
  },
  {
   "cell_type": "code",
   "execution_count": 8,
   "id": "b5403e9d",
   "metadata": {},
   "outputs": [],
   "source": [
    "from Medfl.NetManager.network import Network\n",
    "network_obj = Network(name=\"man_network\")\n",
    "network_obj.create_network()"
   ]
  },
  {
   "cell_type": "markdown",
   "id": "c2e768e6",
   "metadata": {},
   "source": [
    "<h3>Nodes creation</h3>\n",
    "we will create 3 hospitals, two are for training, and the last one is for testing (after the federation, and this by setting the train variable to \"1\" for the training nodes, and to \"0\" for the testing Node. <br>\n",
    "Then we add these nodes to our network."
   ]
  },
  {
   "cell_type": "code",
   "execution_count": 9,
   "id": "471f4387",
   "metadata": {},
   "outputs": [],
   "source": [
    "from Medfl.NetManager.node import Node\n",
    "\n",
    "hospital_1,hospital_2,hospital_3 = Node(name = \"hospital_1\", train = 1),Node(name = \"hospital_2\", train = 1), Node(name = \"hospital_3\", train = 0) \n",
    "\n"
   ]
  },
  {
   "cell_type": "markdown",
   "id": "85e69433",
   "metadata": {},
   "source": [
    "<h3>Add this nodes to the network</h3>"
   ]
  },
  {
   "cell_type": "code",
   "execution_count": 10,
   "id": "63de4adb",
   "metadata": {},
   "outputs": [],
   "source": [
    "network_obj.add_node(hospital_1)\n",
    "network_obj.add_node(hospital_2)\n",
    "network_obj.add_node(hospital_3)"
   ]
  },
  {
   "cell_type": "markdown",
   "id": "fb08365d",
   "metadata": {},
   "source": [
    "<h3>Uploading Datasets into nodes</h3>\n",
    "To upload a dataset into a node, we have to choose a csv file, then this file will be stored on the DataSet table on the DB."
   ]
  },
  {
   "cell_type": "code",
   "execution_count": 11,
   "id": "d5bd0bde",
   "metadata": {},
   "outputs": [],
   "source": [
    "path = '~/Desktop/Github/MEDfl/Notebooks/eicu_test.csv'\n",
    "hospital_1.upload_dataset( dataset_name = \"hospital_1_dataset\" , path_to_csv  = path )\n",
    "hospital_2.upload_dataset( dataset_name = \"hospital_2_dataset\" , path_to_csv  = path )\n",
    "hospital_3.upload_dataset( dataset_name = \"hospital_3_dataset\" , path_to_csv  = path )"
   ]
  },
  {
   "cell_type": "markdown",
   "id": "2daa1460",
   "metadata": {},
   "source": [
    "<h3>Create the FLsetup and Generate the federated dataset</h3>"
   ]
  },
  {
   "cell_type": "code",
   "execution_count": 12,
   "id": "cddae9c3",
   "metadata": {},
   "outputs": [],
   "source": [
    "from Medfl.NetManager.flsetup import FLsetup\n",
    "fl_setup = FLsetup(name = \"Manual_Flsetup\", description = \"The first manual fl setup\",network = network_obj)"
   ]
  },
  {
   "cell_type": "code",
   "execution_count": 13,
   "id": "46c06658",
   "metadata": {},
   "outputs": [],
   "source": [
    "fl_dataset = fl_setup.create_federated_dataset()\n",
    " "
   ]
  },
  {
   "cell_type": "code",
   "execution_count": null,
   "id": "6a680a7c",
   "metadata": {},
   "outputs": [],
   "source": []
  },
  {
   "cell_type": "markdown",
   "id": "609ee9b0",
   "metadata": {},
   "source": [
    "<h1>Federated Sub-Package</h1>\n",
    "Once Martin Finish his work on the architecture of hospitals, and their datasets, He starts thinking on the theoritical side of federated learning of the project, that includes, the machine learning model and its parameters and hyperparameters, the federated learning server and its parameters (number of rounds, number of clients per rounds, the aggregation algorithms, ...etc). <br>\n",
    "<b>The Federated module</b>  of <b>MEDfl</b>, which is based on the <a href=\"https://flower.dev/\">Flower</a> framework, is well designed for doing this task, it's mainly follows the flower paradigm, but with many customization, to deal with the SQL database, and to be homogeneous with the <b>NetManager</b>\n",
    "\n",
    "<h2>How it works ?</h2>\n",
    "The Federated module, can only be used after the creation of an <b>FLsetup</b>, because the FLsetup will generate a federated dataset, which be used by an <b>FLpipeline</b> object.\n",
    "<h2> The Code</h2>\n",
    "Let's create a random FLsetup, then use its object to read one of the created FLsetup from the database."
   ]
  },
  {
   "cell_type": "code",
   "execution_count": 14,
   "id": "2cc7b27e",
   "metadata": {},
   "outputs": [],
   "source": [
    "random_flsetup = FLsetup(name = \"Random_FLsetup\", description = \"A random FLsetup\",network = Network(\"Random_net\"))"
   ]
  },
  {
   "cell_type": "code",
   "execution_count": 15,
   "id": "291a10cf",
   "metadata": {},
   "outputs": [
    {
     "data": {
      "text/html": [
       "<div>\n",
       "<style scoped>\n",
       "    .dataframe tbody tr th:only-of-type {\n",
       "        vertical-align: middle;\n",
       "    }\n",
       "\n",
       "    .dataframe tbody tr th {\n",
       "        vertical-align: top;\n",
       "    }\n",
       "\n",
       "    .dataframe thead th {\n",
       "        text-align: right;\n",
       "    }\n",
       "</style>\n",
       "<table border=\"1\" class=\"dataframe\">\n",
       "  <thead>\n",
       "    <tr style=\"text-align: right;\">\n",
       "      <th></th>\n",
       "      <th>FLsetupId</th>\n",
       "      <th>name</th>\n",
       "      <th>description</th>\n",
       "      <th>creation_date</th>\n",
       "      <th>NetId</th>\n",
       "      <th>column_name</th>\n",
       "    </tr>\n",
       "  </thead>\n",
       "  <tbody>\n",
       "    <tr>\n",
       "      <th>0</th>\n",
       "      <td>1</td>\n",
       "      <td>Flsetup1</td>\n",
       "      <td>The first fl setup</td>\n",
       "      <td>2023-08-12 05:58:07</td>\n",
       "      <td>1</td>\n",
       "      <td>site_region</td>\n",
       "    </tr>\n",
       "    <tr>\n",
       "      <th>1</th>\n",
       "      <td>2</td>\n",
       "      <td>Manual_Flsetup</td>\n",
       "      <td>The first manual fl setup</td>\n",
       "      <td>2023-08-12 05:58:13</td>\n",
       "      <td>2</td>\n",
       "      <td>None</td>\n",
       "    </tr>\n",
       "  </tbody>\n",
       "</table>\n",
       "</div>"
      ],
      "text/plain": [
       "   FLsetupId            name                description       creation_date  \\\n",
       "0          1        Flsetup1         The first fl setup 2023-08-12 05:58:07   \n",
       "1          2  Manual_Flsetup  The first manual fl setup 2023-08-12 05:58:13   \n",
       "\n",
       "   NetId  column_name  \n",
       "0      1  site_region  \n",
       "1      2         None  "
      ]
     },
     "execution_count": 15,
     "metadata": {},
     "output_type": "execute_result"
    }
   ],
   "source": [
    "random_flsetup.list_allsetups()"
   ]
  },
  {
   "cell_type": "code",
   "execution_count": 16,
   "id": "583ba1be",
   "metadata": {},
   "outputs": [],
   "source": [
    "New_flsetup = random_flsetup.read_setup( FLsetupId = 1) # this is not working with auto_net"
   ]
  },
  {
   "cell_type": "code",
   "execution_count": 17,
   "id": "8bdd786e",
   "metadata": {},
   "outputs": [
    {
     "data": {
      "text/plain": [
       "'Auto_network'"
      ]
     },
     "execution_count": 17,
     "metadata": {},
     "output_type": "execute_result"
    }
   ],
   "source": [
    "New_flsetup.network.name"
   ]
  },
  {
   "cell_type": "code",
   "execution_count": 18,
   "id": "a6bd7a2b",
   "metadata": {},
   "outputs": [
    {
     "data": {
      "text/plain": [
       "'site_region'"
      ]
     },
     "execution_count": 18,
     "metadata": {},
     "output_type": "execute_result"
    }
   ],
   "source": [
    "New_flsetup.column_name"
   ]
  },
  {
   "cell_type": "markdown",
   "id": "c2ac4f10",
   "metadata": {},
   "source": [
    "<h2>Federated DataSet</h2> \n",
    "This object has the role of the connector between the <b>NetManager</b> and the <b>Federated</b> modules.<br>\n",
    "The FLsetup class's function \"create_federated_dataset\", will go through all nodes,and generate trainloders & valloaders for the train nodes, and testloaders for the test nodes"
   ]
  },
  {
   "cell_type": "code",
   "execution_count": 19,
   "id": "4ccaac60",
   "metadata": {},
   "outputs": [
    {
     "name": "stdout",
     "output_type": "stream",
     "text": [
      "SELECT * FROM MasterDataset WHERE site_region = 'Midwest'\n",
      "SELECT * FROM MasterDataset WHERE site_region = 'South'\n",
      "SELECT * FROM MasterDataset WHERE site_region = 'West'\n",
      "SELECT * FROM MasterDataset WHERE site_region = 'Northeast'\n"
     ]
    },
    {
     "data": {
      "text/plain": [
       "17"
      ]
     },
     "execution_count": 19,
     "metadata": {},
     "output_type": "execute_result"
    }
   ],
   "source": [
    "#here's the reduduncy of feddatasets\n",
    "fl_dataset = New_flsetup.create_federated_dataset()\n",
    "fl_dataset.size"
   ]
  },
  {
   "cell_type": "markdown",
   "id": "48b94636",
   "metadata": {},
   "source": [
    "<h2>Machine Learning </h2>\n",
    "As MEDfl is based on flower, it has only 3 models based on torch neural nets  :\n",
    "<ul>\n",
    "    <li> Binary Classifier </li>\n",
    "    <li> Multiclass Classifier</li>\n",
    "    <li> Linear Regressor</li>\n",
    "</ul>\n",
    "the choice of the model and all machine learning parameters (learning rate, eopch size, train epochs), should be declared on a YAML file."
   ]
  },
  {
   "cell_type": "code",
   "execution_count": 20,
   "id": "ec872e9a",
   "metadata": {},
   "outputs": [
    {
     "data": {
      "text/plain": [
       "BinaryClassifier(\n",
       "  (fc1): Linear(in_features=17, out_features=6, bias=True)\n",
       "  (fc2): Linear(in_features=6, out_features=12, bias=True)\n",
       "  (fc3): Linear(in_features=12, out_features=1, bias=True)\n",
       ")"
      ]
     },
     "execution_count": 20,
     "metadata": {},
     "output_type": "execute_result"
    }
   ],
   "source": [
    "import torch\n",
    "import torch.nn as nn\n",
    "import torch.optim as optim\n",
    "\n",
    "class BinaryClassifier(nn.Module):\n",
    "  def __init__(self,input_dim,hidden_dim,output_dim):\n",
    "\n",
    "    super(BinaryClassifier, self).__init__()\n",
    "    self.fc1 = nn.Linear(input_dim,hidden_dim)\n",
    "    self.fc2 = nn.Linear(hidden_dim,2*hidden_dim)\n",
    "    self.fc3 = nn.Linear(2*hidden_dim,output_dim)\n",
    "\n",
    "  def forward(self,x):\n",
    "    x = torch.relu(self.fc1(x))\n",
    "    x = torch.relu(self.fc2(x))\n",
    "    x = torch.sigmoid(self.fc3(x))#softmax\n",
    "    return x\n",
    "binary_classifier= BinaryClassifier(17,6,1)\n",
    "optimizer,criterion = optim.SGD(binary_classifier.parameters(), lr=0.0001),nn.BCELoss()\n",
    "binary_classifier"
   ]
  },
  {
   "cell_type": "code",
   "execution_count": 21,
   "id": "67d1b32f",
   "metadata": {},
   "outputs": [],
   "source": [
    "from Medfl.LearningManager.model import Model\n",
    "global_model = Model(binary_classifier,optimizer,criterion)"
   ]
  },
  {
   "cell_type": "markdown",
   "id": "01eb2409",
   "metadata": {},
   "source": [
    "<h2>Aggregation Algorithms (Strategy)</h2>\n",
    "Aggregation algorithms are the mechanizms used by the server to produce a joint unified model, they are known as <b>Strategies</b> on <b>Flower</b>,  in the literature we have many aggregation algorithms, it's true that not all of them are implemented in flower, but we have the most used ones:\n",
    " <ul>\n",
    "    <li><a href = \"arxiv.org/abs/1602.05629\">Federated Averaging (FedAvg)</a></li>\n",
    "    <li><a href = \"arxiv.org/abs/2003.00295\">Adaptive Federated Optimization using Adam (FedAdam)</a></li>\n",
    "    <li><a href = \"arxiv.org/pdf/1803.01498v1.pdf\">Federated Median (FedMedian)</a></li>\n",
    "    <li><a href = \"arxiv.org/pdf/1909.06335.pdf\">Federated Averaging with Momentum (FedAvgM)</a></li>\n",
    "    <li><a href = \"arxiv.org/abs/2003.00295\">Adaptive Federated Optimization using Yogi (FedYogi)</a></li>\n",
    "    <li><a href = \"arxiv.org/abs/2003.00295\">Adaptive Federated Optimization (FedOpt)</a></li>\n",
    "    <li><a href = \"arxiv.org/abs/1812.06127\">Federated Optimization (FedProx)</a></li>\n",
    "    <li><a href = \"openreview.net/pdf?id=ByexElSYDr\">FAIR RESOURCE ALLOCATION IN FEDERATED LEARNING (QFedAvg)</a></li>\n",
    "    <li><a href = \"arxiv.org/abs/2003.00295\">Adaptive Federated Optimization using Adagrad (FedAdagrad)</a></li>\n",
    " </ul>\n",
    "We can also find them on the strategy directory on Flower."
   ]
  },
  {
   "cell_type": "code",
   "execution_count": 22,
   "id": "92f91cc7",
   "metadata": {},
   "outputs": [
    {
     "data": {
      "text/plain": [
       "['FaultTolerantFedAvg',\n",
       " 'FedAdagrad',\n",
       " 'FedAdam',\n",
       " 'FedAvg',\n",
       " 'FedAvgAndroid',\n",
       " 'FedAvgM',\n",
       " 'FedMedian',\n",
       " 'FedOpt',\n",
       " 'FedProx',\n",
       " 'FedYogi',\n",
       " 'QFedAvg',\n",
       " 'Strategy',\n",
       " '__all__',\n",
       " '__builtins__',\n",
       " '__cached__',\n",
       " '__doc__',\n",
       " '__file__',\n",
       " '__loader__',\n",
       " '__name__',\n",
       " '__package__',\n",
       " '__path__',\n",
       " '__spec__',\n",
       " 'aggregate',\n",
       " 'fault_tolerant_fedavg',\n",
       " 'fedadagrad',\n",
       " 'fedadam',\n",
       " 'fedavg',\n",
       " 'fedavg_android',\n",
       " 'fedavgm',\n",
       " 'fedmedian',\n",
       " 'fedopt',\n",
       " 'fedprox',\n",
       " 'fedyogi',\n",
       " 'qfedavg',\n",
       " 'strategy']"
      ]
     },
     "execution_count": 22,
     "metadata": {},
     "output_type": "execute_result"
    }
   ],
   "source": [
    "import flwr as fl\n",
    "dir(fl.server.strategy)"
   ]
  },
  {
   "cell_type": "markdown",
   "id": "750b994b",
   "metadata": {},
   "source": [
    "The creation of a strategy is based on the \"Strategy\" Class, it's enough to pass the name of one of the mentionned strategies, and other federated learning parameters which are used during federation rounds.\n",
    "<ul>\n",
    "    <li>fraction_fit : the fraction of clients to sample in order  to train the model </li>\n",
    "    <li>fraction_evaluate  : the fraction of clients to sample in order to evaluate the model (validation) </li>\n",
    "    <li>min_fit_clients :  the minimum number of clients to sample for the training on each round</li>\n",
    "    <li>min_evaluate_clients : the minimum number of clients to be sampled for the evaluation on each round </li>\n",
    "    <li>min_available_clients : the minimum  required number of available clients to start a federation round </li>\n",
    "<ul>"
   ]
  },
  {
   "cell_type": "code",
   "execution_count": 23,
   "id": "9a020ad9",
   "metadata": {},
   "outputs": [],
   "source": [
    "from Medfl.LearningManager.strategy import Strategy\n",
    "fed_avg = Strategy(\"FedAvg\", fraction_fit = 1.0 ,fraction_evaluate = 1.0,min_fit_clients = 2,min_evaluate_clients = 2,min_available_clients = 2)"
   ]
  },
  {
   "cell_type": "markdown",
   "id": "f4ed851d",
   "metadata": {},
   "source": [
    "<h3>Federated Learning Server</h3>\n",
    "The server in the FL terminology, is the set of the mechanizms that orchestrate  all the FL processes, (distributing the model to  clients, getting the models updates from clients, aggregate these updates. <br>\n",
    "<b>Remark :</b> The FL ServerIt has no relation ! with webservers or any other server concepts.\n",
    "<h4>MEDfl server</h4>\n",
    "The FL server on MEDfl, is based on the server class of Flower, but with our customization, because <b>we have added</b> a gradient perturbing feature using <b> Opacus</b>, so we can make the FLpipeline <b>differentially private </b> <br>\n",
    "The FLserver in MEDfl, has the follwoing attributes : \n",
    "<ul>\n",
    "    <li> global_model : The global model\n",
    "    <li> strategy : The  aggregation strategy\n",
    "    <li> num_rounds : The number of federation rounds\n",
    "    <li> num_clients : The number of train nodes\n",
    "    <li>dataset : The federated dataset generated by an FLsetup\n",
    "    <li> diff_privacy : a boolean variable to  enable (disable) the Differentially Private training mode\n",
    "</ul>"
   ]
  },
  {
   "cell_type": "code",
   "execution_count": 24,
   "id": "6f4da9e7",
   "metadata": {},
   "outputs": [],
   "source": [
    "#Create a server\n",
    "from Medfl.LearningManager.server import *\n",
    "\n",
    "server = FlowerServer(global_model, strategy = fed_avg, num_rounds = 10, num_clients  = len(fl_dataset.trainloaders), fed_dataset = fl_dataset,diff_privacy = False)"
   ]
  },
  {
   "cell_type": "markdown",
   "id": "1c35914e",
   "metadata": {},
   "source": [
    "<h3>The federated learning pipeline (FLpipeline)</h3>"
   ]
  },
  {
   "cell_type": "code",
   "execution_count": 25,
   "id": "0552988c",
   "metadata": {},
   "outputs": [
    {
     "name": "stderr",
     "output_type": "stream",
     "text": [
      "INFO flwr 2023-08-12 05:58:14,530 | app.py:145 | Starting Flower simulation, config: ServerConfig(num_rounds=10, round_timeout=None)\n",
      "08/12/2023 05:58:14:INFO:Starting Flower simulation, config: ServerConfig(num_rounds=10, round_timeout=None)\n",
      "2023-08-12 05:58:15,897\tINFO worker.py:1518 -- Started a local Ray instance.\n",
      "INFO flwr 2023-08-12 05:58:20,144 | app.py:179 | Flower VCE: Ray initialized with resources: {'CPU': 4.0, 'memory': 3750644123.0, 'object_store_memory': 1875322060.0, 'node:192.168.43.27': 1.0}\n",
      "08/12/2023 05:58:20:INFO:Flower VCE: Ray initialized with resources: {'CPU': 4.0, 'memory': 3750644123.0, 'object_store_memory': 1875322060.0, 'node:192.168.43.27': 1.0}\n",
      "INFO flwr 2023-08-12 05:58:20,161 | server.py:86 | Initializing global parameters\n",
      "08/12/2023 05:58:20:INFO:Initializing global parameters\n",
      "INFO flwr 2023-08-12 05:58:20,166 | server.py:266 | Using initial parameters provided by strategy\n",
      "08/12/2023 05:58:20:INFO:Using initial parameters provided by strategy\n",
      "INFO flwr 2023-08-12 05:58:20,170 | server.py:88 | Evaluating initial parameters\n",
      "08/12/2023 05:58:20:INFO:Evaluating initial parameters\n",
      "INFO flwr 2023-08-12 05:58:20,218 | server.py:91 | initial parameters (loss, other metrics): 0.017081703785226214, {'accuracy': 0.7991071428571429}\n",
      "08/12/2023 05:58:20:INFO:initial parameters (loss, other metrics): 0.017081703785226214, {'accuracy': 0.7991071428571429}\n",
      "INFO flwr 2023-08-12 05:58:20,224 | server.py:101 | FL starting\n",
      "08/12/2023 05:58:20:INFO:FL starting\n",
      "DEBUG flwr 2023-08-12 05:58:20,234 | server.py:215 | fit_round 1: strategy sampled 2 clients (out of 2)\n",
      "08/12/2023 05:58:20:DEBUG:fit_round 1: strategy sampled 2 clients (out of 2)\n"
     ]
    },
    {
     "name": "stdout",
     "output_type": "stream",
     "text": [
      "Server-side evaluation loss 0.017081703785226214 / accuracy 0.7991071428571429\n"
     ]
    },
    {
     "name": "stderr",
     "output_type": "stream",
     "text": [
      "\u001b[2m\u001b[36m(launch_and_fit pid=19339)\u001b[0m /home/hlpc/anaconda3/envs/openmined/lib/python3.8/site-packages/opacus/privacy_engine.py:142: UserWarning: Secure RNG turned off. This is perfectly fine for experimentation as it allows for much faster training performance, but remember to turn it on and retrain one last time before production with ``secure_mode`` turned on.\n",
      "\u001b[2m\u001b[36m(launch_and_fit pid=19339)\u001b[0m   warnings.warn(\n",
      "\u001b[2m\u001b[36m(launch_and_fit pid=19342)\u001b[0m /home/hlpc/anaconda3/envs/openmined/lib/python3.8/site-packages/opacus/privacy_engine.py:142: UserWarning: Secure RNG turned off. This is perfectly fine for experimentation as it allows for much faster training performance, but remember to turn it on and retrain one last time before production with ``secure_mode`` turned on.\n",
      "\u001b[2m\u001b[36m(launch_and_fit pid=19342)\u001b[0m   warnings.warn(\n"
     ]
    },
    {
     "name": "stdout",
     "output_type": "stream",
     "text": [
      "\u001b[2m\u001b[36m(launch_and_fit pid=19342)\u001b[0m [Client 0] fit, config: {}\n",
      "\u001b[2m\u001b[36m(launch_and_fit pid=19342)\u001b[0m \tTrain Epoch: 0 \tLoss: 0.494099 Acc@1: 0.000000\n",
      "\u001b[2m\u001b[36m(launch_and_fit pid=19339)\u001b[0m [Client 1] fit, config: {}\n",
      "\u001b[2m\u001b[36m(launch_and_fit pid=19339)\u001b[0m \tTrain Epoch: 0 \tLoss: 0.461703 Acc@1: 0.000000\n",
      "\u001b[2m\u001b[36m(launch_and_fit pid=19339)\u001b[0m \tTrain Epoch: 0 \tLoss: 0.486784 Acc@1: 0.000000\n",
      "\u001b[2m\u001b[36m(launch_and_fit pid=19342)\u001b[0m \tTrain Epoch: 0 \tLoss: 0.477211 Acc@1: 4.218750\n",
      "\u001b[2m\u001b[36m(launch_and_fit pid=19342)\u001b[0m \tTrain Epoch: 0 \tLoss: 0.485529 Acc@1: 5.104167\n",
      "\u001b[2m\u001b[36m(launch_and_fit pid=19342)\u001b[0m \tTrain Epoch: 0 \tLoss: 0.471564 Acc@1: 3.828125\n",
      "\u001b[2m\u001b[36m(launch_and_fit pid=19342)\u001b[0m \tTrain Epoch: 0 \tLoss: 0.463646 Acc@1: 4.875000\n",
      "\u001b[2m\u001b[36m(launch_and_fit pid=19342)\u001b[0m \tTrain Epoch: 0 \tLoss: 0.460126 Acc@1: 4.062500\n",
      "\u001b[2m\u001b[36m(launch_and_fit pid=19342)\u001b[0m \tTrain Epoch: 0 \tLoss: 0.453856 Acc@1: 3.482143\n",
      "\u001b[2m\u001b[36m(launch_and_fit pid=19339)\u001b[0m \tTrain Epoch: 0 \tLoss: 0.504744 Acc@1: 0.000000\n",
      "\u001b[2m\u001b[36m(launch_and_fit pid=19339)\u001b[0m \tTrain Epoch: 0 \tLoss: 0.518109 Acc@1: 0.000000\n",
      "\u001b[2m\u001b[36m(launch_and_fit pid=19339)\u001b[0m \tTrain Epoch: 0 \tLoss: 0.514545 Acc@1: 0.000000\n",
      "\u001b[2m\u001b[36m(launch_and_fit pid=19339)\u001b[0m \tTrain Epoch: 0 \tLoss: 0.520644 Acc@1: 0.000000\n",
      "\u001b[2m\u001b[36m(launch_and_fit pid=19339)\u001b[0m \tTrain Epoch: 0 \tLoss: 0.518936 Acc@1: 0.000000\n",
      "\u001b[2m\u001b[36m(launch_and_fit pid=19339)\u001b[0m \tTrain Epoch: 0 \tLoss: 0.520030 Acc@1: 0.000000\n",
      "\u001b[2m\u001b[36m(launch_and_fit pid=19342)\u001b[0m \tTrain Epoch: 0 \tLoss: 0.454950 Acc@1: 3.046875\n",
      "\u001b[2m\u001b[36m(launch_and_fit pid=19342)\u001b[0m \tTrain Epoch: 0 \tLoss: 0.452759 Acc@1: 3.611111\n",
      "\u001b[2m\u001b[36m(launch_and_fit pid=19342)\u001b[0m \tTrain Epoch: 0 \tLoss: 0.457577 Acc@1: 3.250000\n",
      "\u001b[2m\u001b[36m(launch_and_fit pid=19342)\u001b[0m \tTrain Epoch: 0 \tLoss: 0.462141 Acc@1: 2.954545\n",
      "\u001b[2m\u001b[36m(launch_and_fit pid=19342)\u001b[0m \tTrain Epoch: 1 \tLoss: 0.494534 Acc@1: 0.000000\n",
      "\u001b[2m\u001b[36m(launch_and_fit pid=19342)\u001b[0m \tTrain Epoch: 1 \tLoss: 0.477208 Acc@1: 4.218750\n",
      "\u001b[2m\u001b[36m(launch_and_fit pid=19339)\u001b[0m \tTrain Epoch: 1 \tLoss: 0.459555 Acc@1: 0.000000\n",
      "\u001b[2m\u001b[36m(launch_and_fit pid=19339)\u001b[0m \tTrain Epoch: 1 \tLoss: 0.485189 Acc@1: 0.000000\n",
      "\u001b[2m\u001b[36m(launch_and_fit pid=19339)\u001b[0m \tTrain Epoch: 1 \tLoss: 0.503560 Acc@1: 0.000000\n",
      "\u001b[2m\u001b[36m(launch_and_fit pid=19339)\u001b[0m \tTrain Epoch: 1 \tLoss: 0.517124 Acc@1: 0.000000\n",
      "\u001b[2m\u001b[36m(launch_and_fit pid=19339)\u001b[0m \tTrain Epoch: 1 \tLoss: 0.513579 Acc@1: 0.000000\n",
      "\u001b[2m\u001b[36m(launch_and_fit pid=19339)\u001b[0m \tTrain Epoch: 1 \tLoss: 0.519756 Acc@1: 0.000000\n",
      "\u001b[2m\u001b[36m(launch_and_fit pid=19342)\u001b[0m \tTrain Epoch: 1 \tLoss: 0.485651 Acc@1: 5.104167\n",
      "\u001b[2m\u001b[36m(launch_and_fit pid=19342)\u001b[0m \tTrain Epoch: 1 \tLoss: 0.471426 Acc@1: 3.828125\n",
      "\u001b[2m\u001b[36m(launch_and_fit pid=19342)\u001b[0m \tTrain Epoch: 1 \tLoss: 0.463372 Acc@1: 4.875000\n",
      "\u001b[2m\u001b[36m(launch_and_fit pid=19342)\u001b[0m \tTrain Epoch: 1 \tLoss: 0.459754 Acc@1: 4.062500\n",
      "\u001b[2m\u001b[36m(launch_and_fit pid=19342)\u001b[0m \tTrain Epoch: 1 \tLoss: 0.453345 Acc@1: 3.482143\n",
      "\u001b[2m\u001b[36m(launch_and_fit pid=19339)\u001b[0m \tTrain Epoch: 1 \tLoss: 0.518018 Acc@1: 0.000000\n",
      "\u001b[2m\u001b[36m(launch_and_fit pid=19339)\u001b[0m \tTrain Epoch: 1 \tLoss: 0.519155 Acc@1: 0.000000\n",
      "\u001b[2m\u001b[36m(launch_and_fit pid=19339)\u001b[0m \tTrain Epoch: 2 \tLoss: 0.457821 Acc@1: 0.000000\n",
      "\u001b[2m\u001b[36m(launch_and_fit pid=19339)\u001b[0m \tTrain Epoch: 2 \tLoss: 0.483901 Acc@1: 0.000000\n",
      "\u001b[2m\u001b[36m(launch_and_fit pid=19339)\u001b[0m \tTrain Epoch: 2 \tLoss: 0.502602 Acc@1: 0.000000\n",
      "\u001b[2m\u001b[36m(launch_and_fit pid=19339)\u001b[0m \tTrain Epoch: 2 \tLoss: 0.516326 Acc@1: 0.000000\n",
      "\u001b[2m\u001b[36m(launch_and_fit pid=19342)\u001b[0m \tTrain Epoch: 1 \tLoss: 0.454452 Acc@1: 3.046875\n",
      "\u001b[2m\u001b[36m(launch_and_fit pid=19342)\u001b[0m \tTrain Epoch: 1 \tLoss: 0.452216 Acc@1: 3.611111\n",
      "\u001b[2m\u001b[36m(launch_and_fit pid=19342)\u001b[0m \tTrain Epoch: 1 \tLoss: 0.457127 Acc@1: 3.250000\n",
      "\u001b[2m\u001b[36m(launch_and_fit pid=19342)\u001b[0m \tTrain Epoch: 1 \tLoss: 0.461757 Acc@1: 2.954545\n",
      "\u001b[2m\u001b[36m(launch_and_fit pid=19342)\u001b[0m \tTrain Epoch: 2 \tLoss: 0.494749 Acc@1: 0.000000\n",
      "\u001b[2m\u001b[36m(launch_and_fit pid=19342)\u001b[0m \tTrain Epoch: 2 \tLoss: 0.477186 Acc@1: 4.218750\n",
      "\u001b[2m\u001b[36m(launch_and_fit pid=19339)\u001b[0m \tTrain Epoch: 2 \tLoss: 0.512794 Acc@1: 0.000000\n",
      "\u001b[2m\u001b[36m(launch_and_fit pid=19339)\u001b[0m \tTrain Epoch: 2 \tLoss: 0.519032 Acc@1: 0.000000\n",
      "\u001b[2m\u001b[36m(launch_and_fit pid=19339)\u001b[0m \tTrain Epoch: 2 \tLoss: 0.517266 Acc@1: 0.000000\n",
      "\u001b[2m\u001b[36m(launch_and_fit pid=19339)\u001b[0m \tTrain Epoch: 2 \tLoss: 0.518434 Acc@1: 0.000000\n",
      "\u001b[2m\u001b[36m(launch_and_fit pid=19339)\u001b[0m \tTrain Epoch: 3 \tLoss: 0.456367 Acc@1: 0.000000\n",
      "\u001b[2m\u001b[36m(launch_and_fit pid=19339)\u001b[0m \tTrain Epoch: 3 \tLoss: 0.482809 Acc@1: 0.000000\n",
      "\u001b[2m\u001b[36m(launch_and_fit pid=19339)\u001b[0m \tTrain Epoch: 3 \tLoss: 0.501788 Acc@1: 0.000000\n",
      "\u001b[2m\u001b[36m(launch_and_fit pid=19342)\u001b[0m \tTrain Epoch: 2 \tLoss: 0.485735 Acc@1: 5.104167\n",
      "\u001b[2m\u001b[36m(launch_and_fit pid=19342)\u001b[0m \tTrain Epoch: 2 \tLoss: 0.471342 Acc@1: 3.828125\n",
      "\u001b[2m\u001b[36m(launch_and_fit pid=19342)\u001b[0m \tTrain Epoch: 2 \tLoss: 0.463198 Acc@1: 4.875000\n",
      "\u001b[2m\u001b[36m(launch_and_fit pid=19342)\u001b[0m \tTrain Epoch: 2 \tLoss: 0.459513 Acc@1: 4.062500\n",
      "\u001b[2m\u001b[36m(launch_and_fit pid=19342)\u001b[0m \tTrain Epoch: 2 \tLoss: 0.453012 Acc@1: 3.482143\n",
      "\u001b[2m\u001b[36m(launch_and_fit pid=19342)\u001b[0m \tTrain Epoch: 2 \tLoss: 0.454128 Acc@1: 3.046875\n",
      "\u001b[2m\u001b[36m(launch_and_fit pid=19339)\u001b[0m \tTrain Epoch: 3 \tLoss: 0.515644 Acc@1: 0.000000\n",
      "\u001b[2m\u001b[36m(launch_and_fit pid=19339)\u001b[0m \tTrain Epoch: 3 \tLoss: 0.512119 Acc@1: 0.000000\n",
      "\u001b[2m\u001b[36m(launch_and_fit pid=19339)\u001b[0m \tTrain Epoch: 3 \tLoss: 0.518404 Acc@1: 0.000000\n",
      "\u001b[2m\u001b[36m(launch_and_fit pid=19339)\u001b[0m \tTrain Epoch: 3 \tLoss: 0.516619 Acc@1: 0.000000\n",
      "\u001b[2m\u001b[36m(launch_and_fit pid=19339)\u001b[0m \tTrain Epoch: 3 \tLoss: 0.517813 Acc@1: 0.000000\n",
      "\u001b[2m\u001b[36m(launch_and_fit pid=19342)\u001b[0m \tTrain Epoch: 2 \tLoss: 0.451860 Acc@1: 3.611111\n",
      "\u001b[2m\u001b[36m(launch_and_fit pid=19342)\u001b[0m \tTrain Epoch: 2 \tLoss: 0.456824 Acc@1: 3.250000\n",
      "\u001b[2m\u001b[36m(launch_and_fit pid=19342)\u001b[0m \tTrain Epoch: 2 \tLoss: 0.461500 Acc@1: 2.954545\n",
      "\u001b[2m\u001b[36m(launch_and_fit pid=19339)\u001b[0m \tTrain Epoch: 4 \tLoss: 0.455140 Acc@1: 0.000000\n",
      "\u001b[2m\u001b[36m(launch_and_fit pid=19339)\u001b[0m \tTrain Epoch: 4 \tLoss: 0.481880 Acc@1: 0.000000\n",
      "\u001b[2m\u001b[36m(launch_and_fit pid=19339)\u001b[0m \tTrain Epoch: 4 \tLoss: 0.501086 Acc@1: 0.000000\n",
      "\u001b[2m\u001b[36m(launch_and_fit pid=19339)\u001b[0m \tTrain Epoch: 4 \tLoss: 0.515043 Acc@1: 0.000000\n",
      "\u001b[2m\u001b[36m(launch_and_fit pid=19342)\u001b[0m \tTrain Epoch: 3 \tLoss: 0.494751 Acc@1: 0.000000\n",
      "\u001b[2m\u001b[36m(launch_and_fit pid=19342)\u001b[0m \tTrain Epoch: 3 \tLoss: 0.477089 Acc@1: 4.218750\n",
      "\u001b[2m\u001b[36m(launch_and_fit pid=19342)\u001b[0m \tTrain Epoch: 3 \tLoss: 0.485735 Acc@1: 5.104167\n",
      "\u001b[2m\u001b[36m(launch_and_fit pid=19342)\u001b[0m \tTrain Epoch: 3 \tLoss: 0.471245 Acc@1: 3.828125\n",
      "\u001b[2m\u001b[36m(launch_and_fit pid=19342)\u001b[0m \tTrain Epoch: 3 \tLoss: 0.463042 Acc@1: 4.875000\n",
      "\u001b[2m\u001b[36m(launch_and_fit pid=19342)\u001b[0m \tTrain Epoch: 3 \tLoss: 0.459312 Acc@1: 4.062500\n",
      "\u001b[2m\u001b[36m(launch_and_fit pid=19339)\u001b[0m \tTrain Epoch: 4 \tLoss: 0.511534 Acc@1: 0.000000\n",
      "\u001b[2m\u001b[36m(launch_and_fit pid=19339)\u001b[0m \tTrain Epoch: 4 \tLoss: 0.517851 Acc@1: 0.000000\n",
      "\u001b[2m\u001b[36m(launch_and_fit pid=19339)\u001b[0m \tTrain Epoch: 4 \tLoss: 0.516051 Acc@1: 0.000000\n",
      "\u001b[2m\u001b[36m(launch_and_fit pid=19339)\u001b[0m \tTrain Epoch: 4 \tLoss: 0.517261 Acc@1: 0.000000\n",
      "\u001b[2m\u001b[36m(launch_and_fit pid=19339)\u001b[0m \tTrain Epoch: 5 \tLoss: 0.454075 Acc@1: 0.000000\n",
      "\u001b[2m\u001b[36m(launch_and_fit pid=19339)\u001b[0m \tTrain Epoch: 5 \tLoss: 0.481065 Acc@1: 0.000000\n",
      "\u001b[2m\u001b[36m(launch_and_fit pid=19342)\u001b[0m \tTrain Epoch: 3 \tLoss: 0.452751 Acc@1: 3.482143\n",
      "\u001b[2m\u001b[36m(launch_and_fit pid=19342)\u001b[0m \tTrain Epoch: 3 \tLoss: 0.453876 Acc@1: 3.046875\n",
      "\u001b[2m\u001b[36m(launch_and_fit pid=19342)\u001b[0m \tTrain Epoch: 3 \tLoss: 0.451584 Acc@1: 3.611111\n",
      "\u001b[2m\u001b[36m(launch_and_fit pid=19342)\u001b[0m \tTrain Epoch: 3 \tLoss: 0.456576 Acc@1: 3.250000\n",
      "\u001b[2m\u001b[36m(launch_and_fit pid=19342)\u001b[0m \tTrain Epoch: 3 \tLoss: 0.461285 Acc@1: 2.954545\n",
      "\u001b[2m\u001b[36m(launch_and_fit pid=19339)\u001b[0m \tTrain Epoch: 5 \tLoss: 0.500462 Acc@1: 0.000000\n",
      "\u001b[2m\u001b[36m(launch_and_fit pid=19339)\u001b[0m \tTrain Epoch: 5 \tLoss: 0.514498 Acc@1: 0.000000\n",
      "\u001b[2m\u001b[36m(launch_and_fit pid=19339)\u001b[0m \tTrain Epoch: 5 \tLoss: 0.511004 Acc@1: 0.000000\n",
      "\u001b[2m\u001b[36m(launch_and_fit pid=19339)\u001b[0m \tTrain Epoch: 5 \tLoss: 0.517344 Acc@1: 0.000000\n",
      "\u001b[2m\u001b[36m(launch_and_fit pid=19339)\u001b[0m \tTrain Epoch: 5 \tLoss: 0.515532 Acc@1: 0.000000\n",
      "\u001b[2m\u001b[36m(launch_and_fit pid=19339)\u001b[0m \tTrain Epoch: 5 \tLoss: 0.516758 Acc@1: 0.000000\n",
      "\u001b[2m\u001b[36m(launch_and_fit pid=19339)\u001b[0m epsilon of client 1 : eps = 0\n"
     ]
    },
    {
     "name": "stderr",
     "output_type": "stream",
     "text": [
      "DEBUG flwr 2023-08-12 05:58:25,268 | server.py:229 | fit_round 1 received 2 results and 0 failures\n",
      "08/12/2023 05:58:25:DEBUG:fit_round 1 received 2 results and 0 failures\n",
      "WARNING flwr 2023-08-12 05:58:25,276 | fedavg.py:242 | No fit_metrics_aggregation_fn provided\n",
      "08/12/2023 05:58:25:WARNING:No fit_metrics_aggregation_fn provided\n"
     ]
    },
    {
     "name": "stdout",
     "output_type": "stream",
     "text": [
      "\u001b[2m\u001b[36m(launch_and_fit pid=19342)\u001b[0m \tTrain Epoch: 4 \tLoss: 0.494584 Acc@1: 0.000000\n",
      "\u001b[2m\u001b[36m(launch_and_fit pid=19342)\u001b[0m \tTrain Epoch: 4 \tLoss: 0.476912 Acc@1: 4.218750\n",
      "\u001b[2m\u001b[36m(launch_and_fit pid=19342)\u001b[0m \tTrain Epoch: 4 \tLoss: 0.485654 Acc@1: 5.104167\n",
      "\u001b[2m\u001b[36m(launch_and_fit pid=19342)\u001b[0m \tTrain Epoch: 4 \tLoss: 0.471116 Acc@1: 3.828125\n",
      "\u001b[2m\u001b[36m(launch_and_fit pid=19342)\u001b[0m \tTrain Epoch: 4 \tLoss: 0.462875 Acc@1: 4.875000\n",
      "\u001b[2m\u001b[36m(launch_and_fit pid=19342)\u001b[0m \tTrain Epoch: 4 \tLoss: 0.459115 Acc@1: 4.062500\n",
      "\u001b[2m\u001b[36m(launch_and_fit pid=19342)\u001b[0m \tTrain Epoch: 4 \tLoss: 0.452516 Acc@1: 3.482143\n",
      "\u001b[2m\u001b[36m(launch_and_fit pid=19342)\u001b[0m \tTrain Epoch: 4 \tLoss: 0.453652 Acc@1: 3.046875\n",
      "\u001b[2m\u001b[36m(launch_and_fit pid=19342)\u001b[0m \tTrain Epoch: 4 \tLoss: 0.451341 Acc@1: 3.611111\n",
      "\u001b[2m\u001b[36m(launch_and_fit pid=19342)\u001b[0m \tTrain Epoch: 4 \tLoss: 0.456345 Acc@1: 3.250000\n",
      "\u001b[2m\u001b[36m(launch_and_fit pid=19342)\u001b[0m \tTrain Epoch: 4 \tLoss: 0.461080 Acc@1: 2.954545\n",
      "\u001b[2m\u001b[36m(launch_and_fit pid=19342)\u001b[0m \tTrain Epoch: 5 \tLoss: 0.494314 Acc@1: 0.000000\n",
      "\u001b[2m\u001b[36m(launch_and_fit pid=19342)\u001b[0m \tTrain Epoch: 5 \tLoss: 0.476685 Acc@1: 4.218750\n",
      "\u001b[2m\u001b[36m(launch_and_fit pid=19342)\u001b[0m \tTrain Epoch: 5 \tLoss: 0.485520 Acc@1: 5.104167\n",
      "\u001b[2m\u001b[36m(launch_and_fit pid=19342)\u001b[0m \tTrain Epoch: 5 \tLoss: 0.470963 Acc@1: 3.828125\n",
      "\u001b[2m\u001b[36m(launch_and_fit pid=19342)\u001b[0m \tTrain Epoch: 5 \tLoss: 0.462698 Acc@1: 4.875000\n",
      "\u001b[2m\u001b[36m(launch_and_fit pid=19342)\u001b[0m \tTrain Epoch: 5 \tLoss: 0.458915 Acc@1: 4.062500\n"
     ]
    },
    {
     "name": "stderr",
     "output_type": "stream",
     "text": [
      "INFO flwr 2023-08-12 05:58:25,312 | server.py:116 | fit progress: (1, 0.017058201116337764, {'accuracy': 0.7991071428571429}, 5.078441327001201)\n",
      "08/12/2023 05:58:25:INFO:fit progress: (1, 0.017058201116337764, {'accuracy': 0.7991071428571429}, 5.078441327001201)\n",
      "DEBUG flwr 2023-08-12 05:58:25,316 | server.py:165 | evaluate_round 1: strategy sampled 2 clients (out of 2)\n",
      "08/12/2023 05:58:25:DEBUG:evaluate_round 1: strategy sampled 2 clients (out of 2)\n",
      "DEBUG flwr 2023-08-12 05:58:25,407 | server.py:179 | evaluate_round 1 received 2 results and 0 failures\n",
      "08/12/2023 05:58:25:DEBUG:evaluate_round 1 received 2 results and 0 failures\n",
      "WARNING flwr 2023-08-12 05:58:25,412 | fedavg.py:273 | No evaluate_metrics_aggregation_fn provided\n",
      "08/12/2023 05:58:25:WARNING:No evaluate_metrics_aggregation_fn provided\n",
      "DEBUG flwr 2023-08-12 05:58:25,418 | server.py:215 | fit_round 2: strategy sampled 2 clients (out of 2)\n",
      "08/12/2023 05:58:25:DEBUG:fit_round 2: strategy sampled 2 clients (out of 2)\n"
     ]
    },
    {
     "name": "stdout",
     "output_type": "stream",
     "text": [
      "Server-side evaluation loss 0.017058201116337764 / accuracy 0.7991071428571429\n",
      "\u001b[2m\u001b[36m(launch_and_fit pid=19342)\u001b[0m \tTrain Epoch: 5 \tLoss: 0.452289 Acc@1: 3.482143\n",
      "\u001b[2m\u001b[36m(launch_and_fit pid=19342)\u001b[0m \tTrain Epoch: 5 \tLoss: 0.453438 Acc@1: 3.046875\n",
      "\u001b[2m\u001b[36m(launch_and_fit pid=19342)\u001b[0m \tTrain Epoch: 5 \tLoss: 0.451112 Acc@1: 3.611111\n",
      "\u001b[2m\u001b[36m(launch_and_fit pid=19342)\u001b[0m \tTrain Epoch: 5 \tLoss: 0.456119 Acc@1: 3.250000\n",
      "\u001b[2m\u001b[36m(launch_and_fit pid=19342)\u001b[0m \tTrain Epoch: 5 \tLoss: 0.460875 Acc@1: 2.954545\n",
      "\u001b[2m\u001b[36m(launch_and_fit pid=19342)\u001b[0m epsilon of client 0 : eps = 0\n",
      "\u001b[2m\u001b[36m(launch_and_evaluate pid=19342)\u001b[0m [Client 1] evaluate, config: {}\n",
      "\u001b[2m\u001b[36m(launch_and_evaluate pid=19339)\u001b[0m [Client 0] evaluate, config: {}\n"
     ]
    },
    {
     "name": "stderr",
     "output_type": "stream",
     "text": [
      "\u001b[2m\u001b[36m(launch_and_fit pid=19339)\u001b[0m /home/hlpc/anaconda3/envs/openmined/lib/python3.8/site-packages/opacus/privacy_engine.py:142: UserWarning: Secure RNG turned off. This is perfectly fine for experimentation as it allows for much faster training performance, but remember to turn it on and retrain one last time before production with ``secure_mode`` turned on.\n",
      "\u001b[2m\u001b[36m(launch_and_fit pid=19339)\u001b[0m   warnings.warn(\n",
      "\u001b[2m\u001b[36m(launch_and_fit pid=19342)\u001b[0m /home/hlpc/anaconda3/envs/openmined/lib/python3.8/site-packages/opacus/privacy_engine.py:142: UserWarning: Secure RNG turned off. This is perfectly fine for experimentation as it allows for much faster training performance, but remember to turn it on and retrain one last time before production with ``secure_mode`` turned on.\n",
      "\u001b[2m\u001b[36m(launch_and_fit pid=19342)\u001b[0m   warnings.warn(\n"
     ]
    },
    {
     "name": "stdout",
     "output_type": "stream",
     "text": [
      "\u001b[2m\u001b[36m(launch_and_fit pid=19342)\u001b[0m [Client 0] fit, config: {}\n",
      "\u001b[2m\u001b[36m(launch_and_fit pid=19342)\u001b[0m \tTrain Epoch: 0 \tLoss: 0.496367 Acc@1: 0.000000\n",
      "\u001b[2m\u001b[36m(launch_and_fit pid=19342)\u001b[0m \tTrain Epoch: 0 \tLoss: 0.477851 Acc@1: 4.218750\n",
      "\u001b[2m\u001b[36m(launch_and_fit pid=19339)\u001b[0m [Client 1] fit, config: {}\n",
      "\u001b[2m\u001b[36m(launch_and_fit pid=19339)\u001b[0m \tTrain Epoch: 0 \tLoss: 0.455211 Acc@1: 0.000000\n",
      "\u001b[2m\u001b[36m(launch_and_fit pid=19339)\u001b[0m \tTrain Epoch: 0 \tLoss: 0.482089 Acc@1: 0.000000\n",
      "\u001b[2m\u001b[36m(launch_and_fit pid=19342)\u001b[0m \tTrain Epoch: 0 \tLoss: 0.486465 Acc@1: 5.104167\n",
      "\u001b[2m\u001b[36m(launch_and_fit pid=19342)\u001b[0m \tTrain Epoch: 0 \tLoss: 0.471529 Acc@1: 3.828125\n",
      "\u001b[2m\u001b[36m(launch_and_fit pid=19342)\u001b[0m \tTrain Epoch: 0 \tLoss: 0.463138 Acc@1: 4.875000\n",
      "\u001b[2m\u001b[36m(launch_and_fit pid=19342)\u001b[0m \tTrain Epoch: 0 \tLoss: 0.459260 Acc@1: 4.062500\n",
      "\u001b[2m\u001b[36m(launch_and_fit pid=19342)\u001b[0m \tTrain Epoch: 0 \tLoss: 0.452498 Acc@1: 3.482143\n",
      "\u001b[2m\u001b[36m(launch_and_fit pid=19339)\u001b[0m \tTrain Epoch: 0 \tLoss: 0.501252 Acc@1: 0.000000\n",
      "\u001b[2m\u001b[36m(launch_and_fit pid=19339)\u001b[0m \tTrain Epoch: 0 \tLoss: 0.515291 Acc@1: 0.000000\n",
      "\u001b[2m\u001b[36m(launch_and_fit pid=19339)\u001b[0m \tTrain Epoch: 0 \tLoss: 0.511758 Acc@1: 0.000000\n",
      "\u001b[2m\u001b[36m(launch_and_fit pid=19339)\u001b[0m \tTrain Epoch: 0 \tLoss: 0.518182 Acc@1: 0.000000\n",
      "\u001b[2m\u001b[36m(launch_and_fit pid=19339)\u001b[0m \tTrain Epoch: 0 \tLoss: 0.516315 Acc@1: 0.000000\n",
      "\u001b[2m\u001b[36m(launch_and_fit pid=19339)\u001b[0m \tTrain Epoch: 0 \tLoss: 0.517500 Acc@1: 0.000000\n",
      "\u001b[2m\u001b[36m(launch_and_fit pid=19342)\u001b[0m \tTrain Epoch: 0 \tLoss: 0.453608 Acc@1: 3.046875\n",
      "\u001b[2m\u001b[36m(launch_and_fit pid=19342)\u001b[0m \tTrain Epoch: 0 \tLoss: 0.451257 Acc@1: 3.611111\n",
      "\u001b[2m\u001b[36m(launch_and_fit pid=19342)\u001b[0m \tTrain Epoch: 0 \tLoss: 0.456381 Acc@1: 3.250000\n",
      "\u001b[2m\u001b[36m(launch_and_fit pid=19342)\u001b[0m \tTrain Epoch: 0 \tLoss: 0.461106 Acc@1: 2.954545\n",
      "\u001b[2m\u001b[36m(launch_and_fit pid=19342)\u001b[0m \tTrain Epoch: 1 \tLoss: 0.495574 Acc@1: 0.000000\n",
      "\u001b[2m\u001b[36m(launch_and_fit pid=19342)\u001b[0m \tTrain Epoch: 1 \tLoss: 0.477358 Acc@1: 4.218750\n",
      "\u001b[2m\u001b[36m(launch_and_fit pid=19339)\u001b[0m \tTrain Epoch: 1 \tLoss: 0.454219 Acc@1: 0.000000\n",
      "\u001b[2m\u001b[36m(launch_and_fit pid=19339)\u001b[0m \tTrain Epoch: 1 \tLoss: 0.481331 Acc@1: 0.000000\n",
      "\u001b[2m\u001b[36m(launch_and_fit pid=19339)\u001b[0m \tTrain Epoch: 1 \tLoss: 0.500666 Acc@1: 0.000000\n",
      "\u001b[2m\u001b[36m(launch_and_fit pid=19339)\u001b[0m \tTrain Epoch: 1 \tLoss: 0.514773 Acc@1: 0.000000\n",
      "\u001b[2m\u001b[36m(launch_and_fit pid=19339)\u001b[0m \tTrain Epoch: 1 \tLoss: 0.511252 Acc@1: 0.000000\n",
      "\u001b[2m\u001b[36m(launch_and_fit pid=19339)\u001b[0m \tTrain Epoch: 1 \tLoss: 0.517695 Acc@1: 0.000000\n",
      "\u001b[2m\u001b[36m(launch_and_fit pid=19342)\u001b[0m \tTrain Epoch: 1 \tLoss: 0.486056 Acc@1: 5.104167\n",
      "\u001b[2m\u001b[36m(launch_and_fit pid=19342)\u001b[0m \tTrain Epoch: 1 \tLoss: 0.471215 Acc@1: 3.828125\n",
      "\u001b[2m\u001b[36m(launch_and_fit pid=19342)\u001b[0m \tTrain Epoch: 1 \tLoss: 0.462861 Acc@1: 4.875000\n",
      "\u001b[2m\u001b[36m(launch_and_fit pid=19342)\u001b[0m \tTrain Epoch: 1 \tLoss: 0.459003 Acc@1: 4.062500\n",
      "\u001b[2m\u001b[36m(launch_and_fit pid=19339)\u001b[0m \tTrain Epoch: 1 \tLoss: 0.515811 Acc@1: 0.000000\n",
      "\u001b[2m\u001b[36m(launch_and_fit pid=19339)\u001b[0m \tTrain Epoch: 1 \tLoss: 0.517008 Acc@1: 0.000000\n",
      "\u001b[2m\u001b[36m(launch_and_fit pid=19339)\u001b[0m \tTrain Epoch: 2 \tLoss: 0.453334 Acc@1: 0.000000\n",
      "\u001b[2m\u001b[36m(launch_and_fit pid=19339)\u001b[0m \tTrain Epoch: 2 \tLoss: 0.480644 Acc@1: 0.000000\n",
      "\u001b[2m\u001b[36m(launch_and_fit pid=19339)\u001b[0m \tTrain Epoch: 2 \tLoss: 0.500126 Acc@1: 0.000000\n",
      "\u001b[2m\u001b[36m(launch_and_fit pid=19342)\u001b[0m \tTrain Epoch: 1 \tLoss: 0.452278 Acc@1: 3.482143\n"
     ]
    },
    {
     "name": "stderr",
     "output_type": "stream",
     "text": [
      "\u001b[2m\u001b[33m(raylet)\u001b[0m [2023-08-12 05:58:25,879 E 19282 19307] (raylet) file_system_monitor.cc:105: /tmp/ray/session_2023-08-12_05-58-14_586539_19229 is over 95% full, available space: 6573809664; capacity: 250375106560. Object creation will fail if spilling is required.\n"
     ]
    },
    {
     "name": "stdout",
     "output_type": "stream",
     "text": [
      "\u001b[2m\u001b[36m(launch_and_fit pid=19342)\u001b[0m \tTrain Epoch: 1 \tLoss: 0.453399 Acc@1: 3.046875\n",
      "\u001b[2m\u001b[36m(launch_and_fit pid=19342)\u001b[0m \tTrain Epoch: 1 \tLoss: 0.451059 Acc@1: 3.611111\n",
      "\u001b[2m\u001b[36m(launch_and_fit pid=19342)\u001b[0m \tTrain Epoch: 1 \tLoss: 0.456147 Acc@1: 3.250000\n",
      "\u001b[2m\u001b[36m(launch_and_fit pid=19342)\u001b[0m \tTrain Epoch: 1 \tLoss: 0.460876 Acc@1: 2.954545\n",
      "\u001b[2m\u001b[36m(launch_and_fit pid=19342)\u001b[0m \tTrain Epoch: 2 \tLoss: 0.494885 Acc@1: 0.000000\n",
      "\u001b[2m\u001b[36m(launch_and_fit pid=19339)\u001b[0m \tTrain Epoch: 2 \tLoss: 0.514285 Acc@1: 0.000000\n",
      "\u001b[2m\u001b[36m(launch_and_fit pid=19339)\u001b[0m \tTrain Epoch: 2 \tLoss: 0.510777 Acc@1: 0.000000\n",
      "\u001b[2m\u001b[36m(launch_and_fit pid=19339)\u001b[0m \tTrain Epoch: 2 \tLoss: 0.517230 Acc@1: 0.000000\n",
      "\u001b[2m\u001b[36m(launch_and_fit pid=19339)\u001b[0m \tTrain Epoch: 2 \tLoss: 0.515334 Acc@1: 0.000000\n",
      "\u001b[2m\u001b[36m(launch_and_fit pid=19339)\u001b[0m \tTrain Epoch: 2 \tLoss: 0.516541 Acc@1: 0.000000\n",
      "\u001b[2m\u001b[36m(launch_and_fit pid=19342)\u001b[0m \tTrain Epoch: 2 \tLoss: 0.476915 Acc@1: 4.218750\n",
      "\u001b[2m\u001b[36m(launch_and_fit pid=19342)\u001b[0m \tTrain Epoch: 2 \tLoss: 0.485699 Acc@1: 5.104167\n",
      "\u001b[2m\u001b[36m(launch_and_fit pid=19342)\u001b[0m \tTrain Epoch: 2 \tLoss: 0.470935 Acc@1: 3.828125\n",
      "\u001b[2m\u001b[36m(launch_and_fit pid=19339)\u001b[0m \tTrain Epoch: 3 \tLoss: 0.452560 Acc@1: 0.000000\n",
      "\u001b[2m\u001b[36m(launch_and_fit pid=19339)\u001b[0m \tTrain Epoch: 3 \tLoss: 0.480026 Acc@1: 0.000000\n",
      "\u001b[2m\u001b[36m(launch_and_fit pid=19339)\u001b[0m \tTrain Epoch: 3 \tLoss: 0.499636 Acc@1: 0.000000\n",
      "\u001b[2m\u001b[36m(launch_and_fit pid=19339)\u001b[0m \tTrain Epoch: 3 \tLoss: 0.513836 Acc@1: 0.000000\n",
      "\u001b[2m\u001b[36m(launch_and_fit pid=19339)\u001b[0m \tTrain Epoch: 3 \tLoss: 0.510339 Acc@1: 0.000000\n",
      "\u001b[2m\u001b[36m(launch_and_fit pid=19339)\u001b[0m \tTrain Epoch: 3 \tLoss: 0.516794 Acc@1: 0.000000\n",
      "\u001b[2m\u001b[36m(launch_and_fit pid=19342)\u001b[0m \tTrain Epoch: 2 \tLoss: 0.462606 Acc@1: 4.875000\n",
      "\u001b[2m\u001b[36m(launch_and_fit pid=19342)\u001b[0m \tTrain Epoch: 2 \tLoss: 0.458760 Acc@1: 4.062500\n",
      "\u001b[2m\u001b[36m(launch_and_fit pid=19342)\u001b[0m \tTrain Epoch: 2 \tLoss: 0.452059 Acc@1: 3.482143\n",
      "\u001b[2m\u001b[36m(launch_and_fit pid=19342)\u001b[0m \tTrain Epoch: 2 \tLoss: 0.453193 Acc@1: 3.046875\n",
      "\u001b[2m\u001b[36m(launch_and_fit pid=19342)\u001b[0m \tTrain Epoch: 2 \tLoss: 0.450856 Acc@1: 3.611111\n",
      "\u001b[2m\u001b[36m(launch_and_fit pid=19339)\u001b[0m \tTrain Epoch: 3 \tLoss: 0.514890 Acc@1: 0.000000\n",
      "\u001b[2m\u001b[36m(launch_and_fit pid=19339)\u001b[0m \tTrain Epoch: 3 \tLoss: 0.516110 Acc@1: 0.000000\n",
      "\u001b[2m\u001b[36m(launch_and_fit pid=19339)\u001b[0m \tTrain Epoch: 4 \tLoss: 0.451883 Acc@1: 0.000000\n",
      "\u001b[2m\u001b[36m(launch_and_fit pid=19339)\u001b[0m \tTrain Epoch: 4 \tLoss: 0.479468 Acc@1: 0.000000\n",
      "\u001b[2m\u001b[36m(launch_and_fit pid=19339)\u001b[0m \tTrain Epoch: 4 \tLoss: 0.499179 Acc@1: 0.000000\n",
      "\u001b[2m\u001b[36m(launch_and_fit pid=19342)\u001b[0m \tTrain Epoch: 2 \tLoss: 0.455916 Acc@1: 3.250000\n",
      "\u001b[2m\u001b[36m(launch_and_fit pid=19342)\u001b[0m \tTrain Epoch: 2 \tLoss: 0.460653 Acc@1: 2.954545\n",
      "\u001b[2m\u001b[36m(launch_and_fit pid=19339)\u001b[0m \tTrain Epoch: 4 \tLoss: 0.513425 Acc@1: 0.000000\n",
      "\u001b[2m\u001b[36m(launch_and_fit pid=19339)\u001b[0m \tTrain Epoch: 4 \tLoss: 0.509938 Acc@1: 0.000000\n",
      "\u001b[2m\u001b[36m(launch_and_fit pid=19339)\u001b[0m \tTrain Epoch: 4 \tLoss: 0.516389 Acc@1: 0.000000\n",
      "\u001b[2m\u001b[36m(launch_and_fit pid=19339)\u001b[0m \tTrain Epoch: 4 \tLoss: 0.514480 Acc@1: 0.000000\n",
      "\u001b[2m\u001b[36m(launch_and_fit pid=19339)\u001b[0m \tTrain Epoch: 4 \tLoss: 0.515707 Acc@1: 0.000000\n",
      "\u001b[2m\u001b[36m(launch_and_fit pid=19342)\u001b[0m \tTrain Epoch: 3 \tLoss: 0.494262 Acc@1: 0.000000\n",
      "\u001b[2m\u001b[36m(launch_and_fit pid=19342)\u001b[0m \tTrain Epoch: 3 \tLoss: 0.476506 Acc@1: 4.218750\n",
      "\u001b[2m\u001b[36m(launch_and_fit pid=19342)\u001b[0m \tTrain Epoch: 3 \tLoss: 0.485375 Acc@1: 5.104167\n",
      "\u001b[2m\u001b[36m(launch_and_fit pid=19342)\u001b[0m \tTrain Epoch: 3 \tLoss: 0.470676 Acc@1: 3.828125\n",
      "\u001b[2m\u001b[36m(launch_and_fit pid=19339)\u001b[0m \tTrain Epoch: 5 \tLoss: 0.451287 Acc@1: 0.000000\n",
      "\u001b[2m\u001b[36m(launch_and_fit pid=19339)\u001b[0m \tTrain Epoch: 5 \tLoss: 0.478963 Acc@1: 0.000000\n",
      "\u001b[2m\u001b[36m(launch_and_fit pid=19339)\u001b[0m \tTrain Epoch: 5 \tLoss: 0.498751 Acc@1: 0.000000\n",
      "\u001b[2m\u001b[36m(launch_and_fit pid=19339)\u001b[0m \tTrain Epoch: 5 \tLoss: 0.513042 Acc@1: 0.000000\n",
      "\u001b[2m\u001b[36m(launch_and_fit pid=19339)\u001b[0m \tTrain Epoch: 5 \tLoss: 0.509562 Acc@1: 0.000000\n",
      "\u001b[2m\u001b[36m(launch_and_fit pid=19342)\u001b[0m \tTrain Epoch: 3 \tLoss: 0.462363 Acc@1: 4.875000\n",
      "\u001b[2m\u001b[36m(launch_and_fit pid=19342)\u001b[0m \tTrain Epoch: 3 \tLoss: 0.458523 Acc@1: 4.062500\n",
      "\u001b[2m\u001b[36m(launch_and_fit pid=19342)\u001b[0m \tTrain Epoch: 3 \tLoss: 0.451836 Acc@1: 3.482143\n",
      "\u001b[2m\u001b[36m(launch_and_fit pid=19342)\u001b[0m \tTrain Epoch: 3 \tLoss: 0.452985 Acc@1: 3.046875\n",
      "\u001b[2m\u001b[36m(launch_and_fit pid=19342)\u001b[0m \tTrain Epoch: 3 \tLoss: 0.450648 Acc@1: 3.611111\n",
      "\u001b[2m\u001b[36m(launch_and_fit pid=19342)\u001b[0m \tTrain Epoch: 3 \tLoss: 0.455683 Acc@1: 3.250000\n",
      "\u001b[2m\u001b[36m(launch_and_fit pid=19342)\u001b[0m \tTrain Epoch: 3 \tLoss: 0.460430 Acc@1: 2.954545\n",
      "\u001b[2m\u001b[36m(launch_and_fit pid=19339)\u001b[0m \tTrain Epoch: 5 \tLoss: 0.516005 Acc@1: 0.000000\n",
      "\u001b[2m\u001b[36m(launch_and_fit pid=19339)\u001b[0m \tTrain Epoch: 5 \tLoss: 0.514093 Acc@1: 0.000000\n",
      "\u001b[2m\u001b[36m(launch_and_fit pid=19339)\u001b[0m \tTrain Epoch: 5 \tLoss: 0.515322 Acc@1: 0.000000\n",
      "\u001b[2m\u001b[36m(launch_and_fit pid=19339)\u001b[0m epsilon of client 1 : eps = 0\n"
     ]
    },
    {
     "name": "stderr",
     "output_type": "stream",
     "text": [
      "DEBUG flwr 2023-08-12 05:58:26,753 | server.py:229 | fit_round 2 received 2 results and 0 failures\n",
      "08/12/2023 05:58:26:DEBUG:fit_round 2 received 2 results and 0 failures\n"
     ]
    },
    {
     "name": "stdout",
     "output_type": "stream",
     "text": [
      "\u001b[2m\u001b[36m(launch_and_fit pid=19342)\u001b[0m \tTrain Epoch: 4 \tLoss: 0.493665 Acc@1: 0.000000\n",
      "\u001b[2m\u001b[36m(launch_and_fit pid=19342)\u001b[0m \tTrain Epoch: 4 \tLoss: 0.476101 Acc@1: 4.218750\n",
      "\u001b[2m\u001b[36m(launch_and_fit pid=19342)\u001b[0m \tTrain Epoch: 4 \tLoss: 0.485058 Acc@1: 5.104167\n",
      "\u001b[2m\u001b[36m(launch_and_fit pid=19342)\u001b[0m \tTrain Epoch: 4 \tLoss: 0.470418 Acc@1: 3.828125\n",
      "\u001b[2m\u001b[36m(launch_and_fit pid=19342)\u001b[0m \tTrain Epoch: 4 \tLoss: 0.462119 Acc@1: 4.875000\n",
      "\u001b[2m\u001b[36m(launch_and_fit pid=19342)\u001b[0m \tTrain Epoch: 4 \tLoss: 0.458279 Acc@1: 4.062500\n",
      "\u001b[2m\u001b[36m(launch_and_fit pid=19342)\u001b[0m \tTrain Epoch: 4 \tLoss: 0.451602 Acc@1: 3.482143\n",
      "\u001b[2m\u001b[36m(launch_and_fit pid=19342)\u001b[0m \tTrain Epoch: 4 \tLoss: 0.452769 Acc@1: 3.046875\n",
      "\u001b[2m\u001b[36m(launch_and_fit pid=19342)\u001b[0m \tTrain Epoch: 4 \tLoss: 0.450429 Acc@1: 3.611111\n",
      "\u001b[2m\u001b[36m(launch_and_fit pid=19342)\u001b[0m \tTrain Epoch: 4 \tLoss: 0.455443 Acc@1: 3.250000\n",
      "\u001b[2m\u001b[36m(launch_and_fit pid=19342)\u001b[0m \tTrain Epoch: 4 \tLoss: 0.460201 Acc@1: 2.954545\n",
      "\u001b[2m\u001b[36m(launch_and_fit pid=19342)\u001b[0m \tTrain Epoch: 5 \tLoss: 0.493079 Acc@1: 0.000000\n",
      "\u001b[2m\u001b[36m(launch_and_fit pid=19342)\u001b[0m \tTrain Epoch: 5 \tLoss: 0.475689 Acc@1: 4.218750\n"
     ]
    },
    {
     "name": "stderr",
     "output_type": "stream",
     "text": [
      "INFO flwr 2023-08-12 05:58:26,789 | server.py:116 | fit progress: (2, 0.017012660594867002, {'accuracy': 0.7991071428571429}, 6.555336788005661)\n",
      "08/12/2023 05:58:26:INFO:fit progress: (2, 0.017012660594867002, {'accuracy': 0.7991071428571429}, 6.555336788005661)\n",
      "DEBUG flwr 2023-08-12 05:58:26,796 | server.py:165 | evaluate_round 2: strategy sampled 2 clients (out of 2)\n",
      "08/12/2023 05:58:26:DEBUG:evaluate_round 2: strategy sampled 2 clients (out of 2)\n",
      "DEBUG flwr 2023-08-12 05:58:26,882 | server.py:179 | evaluate_round 2 received 2 results and 0 failures\n",
      "08/12/2023 05:58:26:DEBUG:evaluate_round 2 received 2 results and 0 failures\n",
      "DEBUG flwr 2023-08-12 05:58:26,885 | server.py:215 | fit_round 3: strategy sampled 2 clients (out of 2)\n",
      "08/12/2023 05:58:26:DEBUG:fit_round 3: strategy sampled 2 clients (out of 2)\n"
     ]
    },
    {
     "name": "stdout",
     "output_type": "stream",
     "text": [
      "\u001b[2m\u001b[36m(launch_and_fit pid=19342)\u001b[0m \tTrain Epoch: 5 \tLoss: 0.484734 Acc@1: 5.104167\n",
      "\u001b[2m\u001b[36m(launch_and_fit pid=19342)\u001b[0m \tTrain Epoch: 5 \tLoss: 0.470156 Acc@1: 3.828125\n",
      "\u001b[2m\u001b[36m(launch_and_fit pid=19342)\u001b[0m \tTrain Epoch: 5 \tLoss: 0.461867 Acc@1: 4.875000\n",
      "\u001b[2m\u001b[36m(launch_and_fit pid=19342)\u001b[0m \tTrain Epoch: 5 \tLoss: 0.458027 Acc@1: 4.062500\n",
      "\u001b[2m\u001b[36m(launch_and_fit pid=19342)\u001b[0m \tTrain Epoch: 5 \tLoss: 0.451356 Acc@1: 3.482143\n",
      "\u001b[2m\u001b[36m(launch_and_fit pid=19342)\u001b[0m \tTrain Epoch: 5 \tLoss: 0.452541 Acc@1: 3.046875\n",
      "\u001b[2m\u001b[36m(launch_and_fit pid=19342)\u001b[0m \tTrain Epoch: 5 \tLoss: 0.450198 Acc@1: 3.611111\n",
      "\u001b[2m\u001b[36m(launch_and_fit pid=19342)\u001b[0m \tTrain Epoch: 5 \tLoss: 0.455195 Acc@1: 3.250000\n",
      "\u001b[2m\u001b[36m(launch_and_fit pid=19342)\u001b[0m \tTrain Epoch: 5 \tLoss: 0.459965 Acc@1: 2.954545\n",
      "\u001b[2m\u001b[36m(launch_and_fit pid=19342)\u001b[0m epsilon of client 0 : eps = 0\n",
      "Server-side evaluation loss 0.017012660594867002 / accuracy 0.7991071428571429\n",
      "\u001b[2m\u001b[36m(launch_and_evaluate pid=19342)\u001b[0m [Client 0] evaluate, config: {}\n",
      "\u001b[2m\u001b[36m(launch_and_evaluate pid=19339)\u001b[0m [Client 1] evaluate, config: {}\n"
     ]
    },
    {
     "name": "stderr",
     "output_type": "stream",
     "text": [
      "\u001b[2m\u001b[36m(launch_and_fit pid=19339)\u001b[0m /home/hlpc/anaconda3/envs/openmined/lib/python3.8/site-packages/opacus/privacy_engine.py:142: UserWarning: Secure RNG turned off. This is perfectly fine for experimentation as it allows for much faster training performance, but remember to turn it on and retrain one last time before production with ``secure_mode`` turned on.\n",
      "\u001b[2m\u001b[36m(launch_and_fit pid=19339)\u001b[0m   warnings.warn(\n",
      "\u001b[2m\u001b[36m(launch_and_fit pid=19342)\u001b[0m /home/hlpc/anaconda3/envs/openmined/lib/python3.8/site-packages/opacus/privacy_engine.py:142: UserWarning: Secure RNG turned off. This is perfectly fine for experimentation as it allows for much faster training performance, but remember to turn it on and retrain one last time before production with ``secure_mode`` turned on.\n",
      "\u001b[2m\u001b[36m(launch_and_fit pid=19342)\u001b[0m   warnings.warn(\n"
     ]
    },
    {
     "name": "stdout",
     "output_type": "stream",
     "text": [
      "\u001b[2m\u001b[36m(launch_and_fit pid=19342)\u001b[0m [Client 0] fit, config: {}\n",
      "\u001b[2m\u001b[36m(launch_and_fit pid=19342)\u001b[0m \tTrain Epoch: 0 \tLoss: 0.495734 Acc@1: 0.000000\n",
      "\u001b[2m\u001b[36m(launch_and_fit pid=19339)\u001b[0m [Client 1] fit, config: {}\n",
      "\u001b[2m\u001b[36m(launch_and_fit pid=19339)\u001b[0m \tTrain Epoch: 0 \tLoss: 0.453512 Acc@1: 0.000000\n",
      "\u001b[2m\u001b[36m(launch_and_fit pid=19342)\u001b[0m \tTrain Epoch: 0 \tLoss: 0.477261 Acc@1: 4.218750\n",
      "\u001b[2m\u001b[36m(launch_and_fit pid=19342)\u001b[0m \tTrain Epoch: 0 \tLoss: 0.486092 Acc@1: 5.104167\n",
      "\u001b[2m\u001b[36m(launch_and_fit pid=19342)\u001b[0m \tTrain Epoch: 0 \tLoss: 0.471028 Acc@1: 3.828125\n",
      "\u001b[2m\u001b[36m(launch_and_fit pid=19342)\u001b[0m \tTrain Epoch: 0 \tLoss: 0.462583 Acc@1: 4.875000\n",
      "\u001b[2m\u001b[36m(launch_and_fit pid=19342)\u001b[0m \tTrain Epoch: 0 \tLoss: 0.458624 Acc@1: 4.062500\n",
      "\u001b[2m\u001b[36m(launch_and_fit pid=19339)\u001b[0m \tTrain Epoch: 0 \tLoss: 0.480729 Acc@1: 0.000000\n",
      "\u001b[2m\u001b[36m(launch_and_fit pid=19339)\u001b[0m \tTrain Epoch: 0 \tLoss: 0.499980 Acc@1: 0.000000\n",
      "\u001b[2m\u001b[36m(launch_and_fit pid=19339)\u001b[0m \tTrain Epoch: 0 \tLoss: 0.514124 Acc@1: 0.000000\n",
      "\u001b[2m\u001b[36m(launch_and_fit pid=19342)\u001b[0m \tTrain Epoch: 0 \tLoss: 0.451773 Acc@1: 3.482143\n",
      "\u001b[2m\u001b[36m(launch_and_fit pid=19342)\u001b[0m \tTrain Epoch: 0 \tLoss: 0.452896 Acc@1: 3.046875\n",
      "\u001b[2m\u001b[36m(launch_and_fit pid=19342)\u001b[0m \tTrain Epoch: 0 \tLoss: 0.450501 Acc@1: 3.611111\n",
      "\u001b[2m\u001b[36m(launch_and_fit pid=19342)\u001b[0m \tTrain Epoch: 0 \tLoss: 0.455630 Acc@1: 3.250000\n",
      "\u001b[2m\u001b[36m(launch_and_fit pid=19342)\u001b[0m \tTrain Epoch: 0 \tLoss: 0.460365 Acc@1: 2.954545\n",
      "\u001b[2m\u001b[36m(launch_and_fit pid=19339)\u001b[0m \tTrain Epoch: 0 \tLoss: 0.510587 Acc@1: 0.000000\n",
      "\u001b[2m\u001b[36m(launch_and_fit pid=19339)\u001b[0m \tTrain Epoch: 0 \tLoss: 0.517070 Acc@1: 0.000000\n",
      "\u001b[2m\u001b[36m(launch_and_fit pid=19339)\u001b[0m \tTrain Epoch: 0 \tLoss: 0.515132 Acc@1: 0.000000\n",
      "\u001b[2m\u001b[36m(launch_and_fit pid=19339)\u001b[0m \tTrain Epoch: 0 \tLoss: 0.516275 Acc@1: 0.000000\n",
      "\u001b[2m\u001b[36m(launch_and_fit pid=19339)\u001b[0m \tTrain Epoch: 1 \tLoss: 0.452688 Acc@1: 0.000000\n",
      "\u001b[2m\u001b[36m(launch_and_fit pid=19342)\u001b[0m \tTrain Epoch: 1 \tLoss: 0.494532 Acc@1: 0.000000\n",
      "\u001b[2m\u001b[36m(launch_and_fit pid=19342)\u001b[0m \tTrain Epoch: 1 \tLoss: 0.476505 Acc@1: 4.218750\n",
      "\u001b[2m\u001b[36m(launch_and_fit pid=19342)\u001b[0m \tTrain Epoch: 1 \tLoss: 0.485415 Acc@1: 5.104167\n",
      "\u001b[2m\u001b[36m(launch_and_fit pid=19342)\u001b[0m \tTrain Epoch: 1 \tLoss: 0.470538 Acc@1: 3.828125\n",
      "\u001b[2m\u001b[36m(launch_and_fit pid=19342)\u001b[0m \tTrain Epoch: 1 \tLoss: 0.462162 Acc@1: 4.875000\n",
      "\u001b[2m\u001b[36m(launch_and_fit pid=19339)\u001b[0m \tTrain Epoch: 1 \tLoss: 0.480086 Acc@1: 0.000000\n",
      "\u001b[2m\u001b[36m(launch_and_fit pid=19339)\u001b[0m \tTrain Epoch: 1 \tLoss: 0.499468 Acc@1: 0.000000\n",
      "\u001b[2m\u001b[36m(launch_and_fit pid=19339)\u001b[0m \tTrain Epoch: 1 \tLoss: 0.513660 Acc@1: 0.000000\n",
      "\u001b[2m\u001b[36m(launch_and_fit pid=19339)\u001b[0m \tTrain Epoch: 1 \tLoss: 0.510138 Acc@1: 0.000000\n",
      "\u001b[2m\u001b[36m(launch_and_fit pid=19339)\u001b[0m \tTrain Epoch: 1 \tLoss: 0.516626 Acc@1: 0.000000\n",
      "\u001b[2m\u001b[36m(launch_and_fit pid=19339)\u001b[0m \tTrain Epoch: 1 \tLoss: 0.514675 Acc@1: 0.000000\n",
      "\u001b[2m\u001b[36m(launch_and_fit pid=19342)\u001b[0m \tTrain Epoch: 1 \tLoss: 0.458249 Acc@1: 4.062500\n",
      "\u001b[2m\u001b[36m(launch_and_fit pid=19342)\u001b[0m \tTrain Epoch: 1 \tLoss: 0.451473 Acc@1: 3.482143\n",
      "\u001b[2m\u001b[36m(launch_and_fit pid=19342)\u001b[0m \tTrain Epoch: 1 \tLoss: 0.452618 Acc@1: 3.046875\n",
      "\u001b[2m\u001b[36m(launch_and_fit pid=19342)\u001b[0m \tTrain Epoch: 1 \tLoss: 0.450248 Acc@1: 3.611111\n",
      "\u001b[2m\u001b[36m(launch_and_fit pid=19342)\u001b[0m \tTrain Epoch: 1 \tLoss: 0.455317 Acc@1: 3.250000\n",
      "\u001b[2m\u001b[36m(launch_and_fit pid=19342)\u001b[0m \tTrain Epoch: 1 \tLoss: 0.460049 Acc@1: 2.954545\n",
      "\u001b[2m\u001b[36m(launch_and_fit pid=19339)\u001b[0m \tTrain Epoch: 1 \tLoss: 0.515833 Acc@1: 0.000000\n",
      "\u001b[2m\u001b[36m(launch_and_fit pid=19339)\u001b[0m \tTrain Epoch: 2 \tLoss: 0.451963 Acc@1: 0.000000\n",
      "\u001b[2m\u001b[36m(launch_and_fit pid=19339)\u001b[0m \tTrain Epoch: 2 \tLoss: 0.479501 Acc@1: 0.000000\n",
      "\u001b[2m\u001b[36m(launch_and_fit pid=19339)\u001b[0m \tTrain Epoch: 2 \tLoss: 0.498989 Acc@1: 0.000000\n",
      "\u001b[2m\u001b[36m(launch_and_fit pid=19339)\u001b[0m \tTrain Epoch: 2 \tLoss: 0.513229 Acc@1: 0.000000\n",
      "\u001b[2m\u001b[36m(launch_and_fit pid=19339)\u001b[0m \tTrain Epoch: 2 \tLoss: 0.509720 Acc@1: 0.000000\n",
      "\u001b[2m\u001b[36m(launch_and_fit pid=19342)\u001b[0m \tTrain Epoch: 2 \tLoss: 0.493556 Acc@1: 0.000000\n",
      "\u001b[2m\u001b[36m(launch_and_fit pid=19342)\u001b[0m \tTrain Epoch: 2 \tLoss: 0.475876 Acc@1: 4.218750\n",
      "\u001b[2m\u001b[36m(launch_and_fit pid=19342)\u001b[0m \tTrain Epoch: 2 \tLoss: 0.484872 Acc@1: 5.104167\n",
      "\u001b[2m\u001b[36m(launch_and_fit pid=19342)\u001b[0m \tTrain Epoch: 2 \tLoss: 0.470138 Acc@1: 3.828125\n",
      "\u001b[2m\u001b[36m(launch_and_fit pid=19342)\u001b[0m \tTrain Epoch: 2 \tLoss: 0.461809 Acc@1: 4.875000\n",
      "\u001b[2m\u001b[36m(launch_and_fit pid=19342)\u001b[0m \tTrain Epoch: 2 \tLoss: 0.457923 Acc@1: 4.062500\n",
      "\u001b[2m\u001b[36m(launch_and_fit pid=19339)\u001b[0m \tTrain Epoch: 2 \tLoss: 0.516209 Acc@1: 0.000000\n",
      "\u001b[2m\u001b[36m(launch_and_fit pid=19339)\u001b[0m \tTrain Epoch: 2 \tLoss: 0.514247 Acc@1: 0.000000\n",
      "\u001b[2m\u001b[36m(launch_and_fit pid=19339)\u001b[0m \tTrain Epoch: 2 \tLoss: 0.515415 Acc@1: 0.000000\n",
      "\u001b[2m\u001b[36m(launch_and_fit pid=19339)\u001b[0m \tTrain Epoch: 3 \tLoss: 0.451327 Acc@1: 0.000000\n",
      "\u001b[2m\u001b[36m(launch_and_fit pid=19339)\u001b[0m \tTrain Epoch: 3 \tLoss: 0.478968 Acc@1: 0.000000\n",
      "\u001b[2m\u001b[36m(launch_and_fit pid=19339)\u001b[0m \tTrain Epoch: 3 \tLoss: 0.498541 Acc@1: 0.000000\n",
      "\u001b[2m\u001b[36m(launch_and_fit pid=19342)\u001b[0m \tTrain Epoch: 2 \tLoss: 0.451194 Acc@1: 3.482143\n",
      "\u001b[2m\u001b[36m(launch_and_fit pid=19342)\u001b[0m \tTrain Epoch: 2 \tLoss: 0.452363 Acc@1: 3.046875\n",
      "\u001b[2m\u001b[36m(launch_and_fit pid=19342)\u001b[0m \tTrain Epoch: 2 \tLoss: 0.450003 Acc@1: 3.611111\n",
      "\u001b[2m\u001b[36m(launch_and_fit pid=19342)\u001b[0m \tTrain Epoch: 2 \tLoss: 0.455031 Acc@1: 3.250000\n",
      "\u001b[2m\u001b[36m(launch_and_fit pid=19342)\u001b[0m \tTrain Epoch: 2 \tLoss: 0.459767 Acc@1: 2.954545\n",
      "\u001b[2m\u001b[36m(launch_and_fit pid=19339)\u001b[0m \tTrain Epoch: 3 \tLoss: 0.512830 Acc@1: 0.000000\n",
      "\u001b[2m\u001b[36m(launch_and_fit pid=19339)\u001b[0m \tTrain Epoch: 3 \tLoss: 0.509329 Acc@1: 0.000000\n",
      "\u001b[2m\u001b[36m(launch_and_fit pid=19339)\u001b[0m \tTrain Epoch: 3 \tLoss: 0.515813 Acc@1: 0.000000\n",
      "\u001b[2m\u001b[36m(launch_and_fit pid=19339)\u001b[0m \tTrain Epoch: 3 \tLoss: 0.513843 Acc@1: 0.000000\n",
      "\u001b[2m\u001b[36m(launch_and_fit pid=19339)\u001b[0m \tTrain Epoch: 3 \tLoss: 0.515016 Acc@1: 0.000000\n",
      "\u001b[2m\u001b[36m(launch_and_fit pid=19342)\u001b[0m \tTrain Epoch: 3 \tLoss: 0.492693 Acc@1: 0.000000\n",
      "\u001b[2m\u001b[36m(launch_and_fit pid=19342)\u001b[0m \tTrain Epoch: 3 \tLoss: 0.475315 Acc@1: 4.218750\n",
      "\u001b[2m\u001b[36m(launch_and_fit pid=19339)\u001b[0m \tTrain Epoch: 4 \tLoss: 0.450737 Acc@1: 0.000000\n",
      "\u001b[2m\u001b[36m(launch_and_fit pid=19339)\u001b[0m \tTrain Epoch: 4 \tLoss: 0.478465 Acc@1: 0.000000\n",
      "\u001b[2m\u001b[36m(launch_and_fit pid=19339)\u001b[0m \tTrain Epoch: 4 \tLoss: 0.498109 Acc@1: 0.000000\n",
      "\u001b[2m\u001b[36m(launch_and_fit pid=19339)\u001b[0m \tTrain Epoch: 4 \tLoss: 0.512442 Acc@1: 0.000000\n",
      "\u001b[2m\u001b[36m(launch_and_fit pid=19342)\u001b[0m \tTrain Epoch: 3 \tLoss: 0.484395 Acc@1: 5.104167\n",
      "\u001b[2m\u001b[36m(launch_and_fit pid=19342)\u001b[0m \tTrain Epoch: 3 \tLoss: 0.469777 Acc@1: 3.828125\n",
      "\u001b[2m\u001b[36m(launch_and_fit pid=19342)\u001b[0m \tTrain Epoch: 3 \tLoss: 0.461479 Acc@1: 4.875000\n",
      "\u001b[2m\u001b[36m(launch_and_fit pid=19342)\u001b[0m \tTrain Epoch: 3 \tLoss: 0.457610 Acc@1: 4.062500\n",
      "\u001b[2m\u001b[36m(launch_and_fit pid=19342)\u001b[0m \tTrain Epoch: 3 \tLoss: 0.450912 Acc@1: 3.482143\n",
      "\u001b[2m\u001b[36m(launch_and_fit pid=19339)\u001b[0m \tTrain Epoch: 4 \tLoss: 0.508947 Acc@1: 0.000000\n",
      "\u001b[2m\u001b[36m(launch_and_fit pid=19339)\u001b[0m \tTrain Epoch: 4 \tLoss: 0.515420 Acc@1: 0.000000\n",
      "\u001b[2m\u001b[36m(launch_and_fit pid=19339)\u001b[0m \tTrain Epoch: 4 \tLoss: 0.513443 Acc@1: 0.000000\n",
      "\u001b[2m\u001b[36m(launch_and_fit pid=19339)\u001b[0m \tTrain Epoch: 4 \tLoss: 0.514618 Acc@1: 0.000000\n",
      "\u001b[2m\u001b[36m(launch_and_fit pid=19342)\u001b[0m \tTrain Epoch: 3 \tLoss: 0.452105 Acc@1: 3.046875\n",
      "\u001b[2m\u001b[36m(launch_and_fit pid=19342)\u001b[0m \tTrain Epoch: 3 \tLoss: 0.449750 Acc@1: 3.611111\n",
      "\u001b[2m\u001b[36m(launch_and_fit pid=19342)\u001b[0m \tTrain Epoch: 3 \tLoss: 0.454748 Acc@1: 3.250000\n",
      "\u001b[2m\u001b[36m(launch_and_fit pid=19342)\u001b[0m \tTrain Epoch: 3 \tLoss: 0.459492 Acc@1: 2.954545\n",
      "\u001b[2m\u001b[36m(launch_and_fit pid=19342)\u001b[0m \tTrain Epoch: 4 \tLoss: 0.491885 Acc@1: 0.000000\n",
      "\u001b[2m\u001b[36m(launch_and_fit pid=19339)\u001b[0m \tTrain Epoch: 5 \tLoss: 0.450181 Acc@1: 0.000000\n",
      "\u001b[2m\u001b[36m(launch_and_fit pid=19339)\u001b[0m \tTrain Epoch: 5 \tLoss: 0.477988 Acc@1: 0.000000\n",
      "\u001b[2m\u001b[36m(launch_and_fit pid=19339)\u001b[0m \tTrain Epoch: 5 \tLoss: 0.497685 Acc@1: 0.000000\n",
      "\u001b[2m\u001b[36m(launch_and_fit pid=19339)\u001b[0m \tTrain Epoch: 5 \tLoss: 0.512056 Acc@1: 0.000000\n",
      "\u001b[2m\u001b[36m(launch_and_fit pid=19339)\u001b[0m \tTrain Epoch: 5 \tLoss: 0.508566 Acc@1: 0.000000\n",
      "\u001b[2m\u001b[36m(launch_and_fit pid=19339)\u001b[0m \tTrain Epoch: 5 \tLoss: 0.515026 Acc@1: 0.000000\n",
      "\u001b[2m\u001b[36m(launch_and_fit pid=19342)\u001b[0m \tTrain Epoch: 4 \tLoss: 0.474811 Acc@1: 4.218750\n",
      "\u001b[2m\u001b[36m(launch_and_fit pid=19342)\u001b[0m \tTrain Epoch: 4 \tLoss: 0.483967 Acc@1: 5.104167\n",
      "\u001b[2m\u001b[36m(launch_and_fit pid=19342)\u001b[0m \tTrain Epoch: 4 \tLoss: 0.469453 Acc@1: 3.828125\n",
      "\u001b[2m\u001b[36m(launch_and_fit pid=19342)\u001b[0m \tTrain Epoch: 4 \tLoss: 0.461174 Acc@1: 4.875000\n",
      "\u001b[2m\u001b[36m(launch_and_fit pid=19342)\u001b[0m \tTrain Epoch: 4 \tLoss: 0.457312 Acc@1: 4.062500\n",
      "\u001b[2m\u001b[36m(launch_and_fit pid=19342)\u001b[0m \tTrain Epoch: 4 \tLoss: 0.450630 Acc@1: 3.482143\n",
      "\u001b[2m\u001b[36m(launch_and_fit pid=19342)\u001b[0m \tTrain Epoch: 4 \tLoss: 0.451848 Acc@1: 3.046875\n",
      "\u001b[2m\u001b[36m(launch_and_fit pid=19342)\u001b[0m \tTrain Epoch: 4 \tLoss: 0.449489 Acc@1: 3.611111\n",
      "\u001b[2m\u001b[36m(launch_and_fit pid=19339)\u001b[0m \tTrain Epoch: 5 \tLoss: 0.513042 Acc@1: 0.000000\n",
      "\u001b[2m\u001b[36m(launch_and_fit pid=19339)\u001b[0m \tTrain Epoch: 5 \tLoss: 0.514222 Acc@1: 0.000000\n",
      "\u001b[2m\u001b[36m(launch_and_fit pid=19339)\u001b[0m epsilon of client 1 : eps = 0\n"
     ]
    },
    {
     "name": "stderr",
     "output_type": "stream",
     "text": [
      "DEBUG flwr 2023-08-12 05:58:28,174 | server.py:229 | fit_round 3 received 2 results and 0 failures\n",
      "08/12/2023 05:58:28:DEBUG:fit_round 3 received 2 results and 0 failures\n",
      "INFO flwr 2023-08-12 05:58:28,205 | server.py:116 | fit progress: (3, 0.016957563247612054, {'accuracy': 0.7991071428571429}, 7.971082440984901)\n",
      "08/12/2023 05:58:28:INFO:fit progress: (3, 0.016957563247612054, {'accuracy': 0.7991071428571429}, 7.971082440984901)\n",
      "DEBUG flwr 2023-08-12 05:58:28,207 | server.py:165 | evaluate_round 3: strategy sampled 2 clients (out of 2)\n",
      "08/12/2023 05:58:28:DEBUG:evaluate_round 3: strategy sampled 2 clients (out of 2)\n",
      "DEBUG flwr 2023-08-12 05:58:28,287 | server.py:179 | evaluate_round 3 received 2 results and 0 failures\n",
      "08/12/2023 05:58:28:DEBUG:evaluate_round 3 received 2 results and 0 failures\n",
      "DEBUG flwr 2023-08-12 05:58:28,289 | server.py:215 | fit_round 4: strategy sampled 2 clients (out of 2)\n",
      "08/12/2023 05:58:28:DEBUG:fit_round 4: strategy sampled 2 clients (out of 2)\n"
     ]
    },
    {
     "name": "stdout",
     "output_type": "stream",
     "text": [
      "\u001b[2m\u001b[36m(launch_and_fit pid=19342)\u001b[0m \tTrain Epoch: 4 \tLoss: 0.454466 Acc@1: 3.250000\n",
      "\u001b[2m\u001b[36m(launch_and_fit pid=19342)\u001b[0m \tTrain Epoch: 4 \tLoss: 0.459221 Acc@1: 2.954545\n",
      "\u001b[2m\u001b[36m(launch_and_fit pid=19342)\u001b[0m \tTrain Epoch: 5 \tLoss: 0.491136 Acc@1: 0.000000\n",
      "\u001b[2m\u001b[36m(launch_and_fit pid=19342)\u001b[0m \tTrain Epoch: 5 \tLoss: 0.474351 Acc@1: 4.218750\n",
      "\u001b[2m\u001b[36m(launch_and_fit pid=19342)\u001b[0m \tTrain Epoch: 5 \tLoss: 0.483608 Acc@1: 5.104167\n",
      "\u001b[2m\u001b[36m(launch_and_fit pid=19342)\u001b[0m \tTrain Epoch: 5 \tLoss: 0.469172 Acc@1: 3.828125\n",
      "\u001b[2m\u001b[36m(launch_and_fit pid=19342)\u001b[0m \tTrain Epoch: 5 \tLoss: 0.460906 Acc@1: 4.875000\n",
      "\u001b[2m\u001b[36m(launch_and_fit pid=19342)\u001b[0m \tTrain Epoch: 5 \tLoss: 0.457042 Acc@1: 4.062500\n",
      "Server-side evaluation loss 0.016957563247612054 / accuracy 0.7991071428571429\n",
      "\u001b[2m\u001b[36m(launch_and_fit pid=19342)\u001b[0m \tTrain Epoch: 5 \tLoss: 0.450368 Acc@1: 3.482143\n",
      "\u001b[2m\u001b[36m(launch_and_fit pid=19342)\u001b[0m \tTrain Epoch: 5 \tLoss: 0.451606 Acc@1: 3.046875\n",
      "\u001b[2m\u001b[36m(launch_and_fit pid=19342)\u001b[0m \tTrain Epoch: 5 \tLoss: 0.449246 Acc@1: 3.611111\n",
      "\u001b[2m\u001b[36m(launch_and_fit pid=19342)\u001b[0m \tTrain Epoch: 5 \tLoss: 0.454209 Acc@1: 3.250000\n",
      "\u001b[2m\u001b[36m(launch_and_fit pid=19342)\u001b[0m \tTrain Epoch: 5 \tLoss: 0.458975 Acc@1: 2.954545\n",
      "\u001b[2m\u001b[36m(launch_and_fit pid=19342)\u001b[0m epsilon of client 0 : eps = 0\n"
     ]
    },
    {
     "name": "stderr",
     "output_type": "stream",
     "text": [
      "\u001b[2m\u001b[36m(launch_and_fit pid=19339)\u001b[0m /home/hlpc/anaconda3/envs/openmined/lib/python3.8/site-packages/opacus/privacy_engine.py:142: UserWarning: Secure RNG turned off. This is perfectly fine for experimentation as it allows for much faster training performance, but remember to turn it on and retrain one last time before production with ``secure_mode`` turned on.\n",
      "\u001b[2m\u001b[36m(launch_and_fit pid=19339)\u001b[0m   warnings.warn(\n",
      "\u001b[2m\u001b[36m(launch_and_fit pid=19342)\u001b[0m /home/hlpc/anaconda3/envs/openmined/lib/python3.8/site-packages/opacus/privacy_engine.py:142: UserWarning: Secure RNG turned off. This is perfectly fine for experimentation as it allows for much faster training performance, but remember to turn it on and retrain one last time before production with ``secure_mode`` turned on.\n",
      "\u001b[2m\u001b[36m(launch_and_fit pid=19342)\u001b[0m   warnings.warn(\n"
     ]
    },
    {
     "name": "stdout",
     "output_type": "stream",
     "text": [
      "\u001b[2m\u001b[36m(launch_and_evaluate pid=19342)\u001b[0m [Client 1] evaluate, config: {}\n",
      "\u001b[2m\u001b[36m(launch_and_evaluate pid=19339)\u001b[0m [Client 0] evaluate, config: {}\n",
      "\u001b[2m\u001b[36m(launch_and_fit pid=19342)\u001b[0m [Client 1] fit, config: {}\n",
      "\u001b[2m\u001b[36m(launch_and_fit pid=19342)\u001b[0m \tTrain Epoch: 0 \tLoss: 0.452735 Acc@1: 0.000000\n",
      "\u001b[2m\u001b[36m(launch_and_fit pid=19342)\u001b[0m \tTrain Epoch: 0 \tLoss: 0.480008 Acc@1: 0.000000\n",
      "\u001b[2m\u001b[36m(launch_and_fit pid=19339)\u001b[0m [Client 0] fit, config: {}\n",
      "\u001b[2m\u001b[36m(launch_and_fit pid=19339)\u001b[0m \tTrain Epoch: 0 \tLoss: 0.494135 Acc@1: 0.000000\n",
      "\u001b[2m\u001b[36m(launch_and_fit pid=19339)\u001b[0m \tTrain Epoch: 0 \tLoss: 0.476051 Acc@1: 4.218750\n",
      "\u001b[2m\u001b[36m(launch_and_fit pid=19342)\u001b[0m \tTrain Epoch: 0 \tLoss: 0.499076 Acc@1: 0.000000\n",
      "\u001b[2m\u001b[36m(launch_and_fit pid=19342)\u001b[0m \tTrain Epoch: 0 \tLoss: 0.513218 Acc@1: 0.000000\n",
      "\u001b[2m\u001b[36m(launch_and_fit pid=19342)\u001b[0m \tTrain Epoch: 0 \tLoss: 0.509669 Acc@1: 0.000000\n",
      "\u001b[2m\u001b[36m(launch_and_fit pid=19339)\u001b[0m \tTrain Epoch: 0 \tLoss: 0.485114 Acc@1: 5.104167\n",
      "\u001b[2m\u001b[36m(launch_and_fit pid=19339)\u001b[0m \tTrain Epoch: 0 \tLoss: 0.470148 Acc@1: 3.828125\n",
      "\u001b[2m\u001b[36m(launch_and_fit pid=19339)\u001b[0m \tTrain Epoch: 0 \tLoss: 0.461741 Acc@1: 4.875000\n",
      "\u001b[2m\u001b[36m(launch_and_fit pid=19342)\u001b[0m \tTrain Epoch: 0 \tLoss: 0.516169 Acc@1: 0.000000\n",
      "\u001b[2m\u001b[36m(launch_and_fit pid=19342)\u001b[0m \tTrain Epoch: 0 \tLoss: 0.514177 Acc@1: 0.000000\n",
      "\u001b[2m\u001b[36m(launch_and_fit pid=19339)\u001b[0m \tTrain Epoch: 0 \tLoss: 0.457764 Acc@1: 4.062500\n",
      "\u001b[2m\u001b[36m(launch_and_fit pid=19339)\u001b[0m \tTrain Epoch: 0 \tLoss: 0.450902 Acc@1: 3.482143\n",
      "\u001b[2m\u001b[36m(launch_and_fit pid=19339)\u001b[0m \tTrain Epoch: 0 \tLoss: 0.452063 Acc@1: 3.046875\n",
      "\u001b[2m\u001b[36m(launch_and_fit pid=19342)\u001b[0m \tTrain Epoch: 0 \tLoss: 0.515259 Acc@1: 0.000000\n",
      "\u001b[2m\u001b[36m(launch_and_fit pid=19342)\u001b[0m \tTrain Epoch: 1 \tLoss: 0.451932 Acc@1: 0.000000\n",
      "\u001b[2m\u001b[36m(launch_and_fit pid=19342)\u001b[0m \tTrain Epoch: 1 \tLoss: 0.479372 Acc@1: 0.000000\n",
      "\u001b[2m\u001b[36m(launch_and_fit pid=19342)\u001b[0m \tTrain Epoch: 1 \tLoss: 0.498565 Acc@1: 0.000000\n",
      "\u001b[2m\u001b[36m(launch_and_fit pid=19342)\u001b[0m \tTrain Epoch: 1 \tLoss: 0.512775 Acc@1: 0.000000\n",
      "\u001b[2m\u001b[36m(launch_and_fit pid=19339)\u001b[0m \tTrain Epoch: 0 \tLoss: 0.449644 Acc@1: 3.611111\n",
      "\u001b[2m\u001b[36m(launch_and_fit pid=19339)\u001b[0m \tTrain Epoch: 0 \tLoss: 0.454726 Acc@1: 3.250000\n",
      "\u001b[2m\u001b[36m(launch_and_fit pid=19339)\u001b[0m \tTrain Epoch: 0 \tLoss: 0.459452 Acc@1: 2.954545\n",
      "\u001b[2m\u001b[36m(launch_and_fit pid=19339)\u001b[0m \tTrain Epoch: 1 \tLoss: 0.492763 Acc@1: 0.000000\n",
      "\u001b[2m\u001b[36m(launch_and_fit pid=19342)\u001b[0m \tTrain Epoch: 1 \tLoss: 0.509234 Acc@1: 0.000000\n",
      "\u001b[2m\u001b[36m(launch_and_fit pid=19342)\u001b[0m \tTrain Epoch: 1 \tLoss: 0.515736 Acc@1: 0.000000\n",
      "\u001b[2m\u001b[36m(launch_and_fit pid=19342)\u001b[0m \tTrain Epoch: 1 \tLoss: 0.513731 Acc@1: 0.000000\n",
      "\u001b[2m\u001b[36m(launch_and_fit pid=19339)\u001b[0m \tTrain Epoch: 1 \tLoss: 0.475205 Acc@1: 4.218750\n",
      "\u001b[2m\u001b[36m(launch_and_fit pid=19339)\u001b[0m \tTrain Epoch: 1 \tLoss: 0.484332 Acc@1: 5.104167\n",
      "\u001b[2m\u001b[36m(launch_and_fit pid=19339)\u001b[0m \tTrain Epoch: 1 \tLoss: 0.469585 Acc@1: 3.828125\n",
      "\u001b[2m\u001b[36m(launch_and_fit pid=19339)\u001b[0m \tTrain Epoch: 1 \tLoss: 0.461254 Acc@1: 4.875000\n",
      "\u001b[2m\u001b[36m(launch_and_fit pid=19339)\u001b[0m \tTrain Epoch: 1 \tLoss: 0.457324 Acc@1: 4.062500\n",
      "\u001b[2m\u001b[36m(launch_and_fit pid=19342)\u001b[0m \tTrain Epoch: 1 \tLoss: 0.514823 Acc@1: 0.000000\n",
      "\u001b[2m\u001b[36m(launch_and_fit pid=19342)\u001b[0m \tTrain Epoch: 2 \tLoss: 0.451216 Acc@1: 0.000000\n",
      "\u001b[2m\u001b[36m(launch_and_fit pid=19342)\u001b[0m \tTrain Epoch: 2 \tLoss: 0.478785 Acc@1: 0.000000\n",
      "\u001b[2m\u001b[36m(launch_and_fit pid=19342)\u001b[0m \tTrain Epoch: 2 \tLoss: 0.498084 Acc@1: 0.000000\n",
      "\u001b[2m\u001b[36m(launch_and_fit pid=19342)\u001b[0m \tTrain Epoch: 2 \tLoss: 0.512357 Acc@1: 0.000000\n",
      "\u001b[2m\u001b[36m(launch_and_fit pid=19342)\u001b[0m \tTrain Epoch: 2 \tLoss: 0.508825 Acc@1: 0.000000\n",
      "\u001b[2m\u001b[36m(launch_and_fit pid=19339)\u001b[0m \tTrain Epoch: 1 \tLoss: 0.450540 Acc@1: 3.482143\n",
      "\u001b[2m\u001b[36m(launch_and_fit pid=19339)\u001b[0m \tTrain Epoch: 1 \tLoss: 0.451733 Acc@1: 3.046875\n",
      "\u001b[2m\u001b[36m(launch_and_fit pid=19339)\u001b[0m \tTrain Epoch: 1 \tLoss: 0.449336 Acc@1: 3.611111\n",
      "\u001b[2m\u001b[36m(launch_and_fit pid=19339)\u001b[0m \tTrain Epoch: 1 \tLoss: 0.454364 Acc@1: 3.250000\n",
      "\u001b[2m\u001b[36m(launch_and_fit pid=19339)\u001b[0m \tTrain Epoch: 1 \tLoss: 0.459089 Acc@1: 2.954545\n",
      "\u001b[2m\u001b[36m(launch_and_fit pid=19339)\u001b[0m \tTrain Epoch: 2 \tLoss: 0.491638 Acc@1: 0.000000\n",
      "\u001b[2m\u001b[36m(launch_and_fit pid=19342)\u001b[0m \tTrain Epoch: 2 \tLoss: 0.515324 Acc@1: 0.000000\n",
      "\u001b[2m\u001b[36m(launch_and_fit pid=19342)\u001b[0m \tTrain Epoch: 2 \tLoss: 0.513310 Acc@1: 0.000000\n",
      "\u001b[2m\u001b[36m(launch_and_fit pid=19342)\u001b[0m \tTrain Epoch: 2 \tLoss: 0.514409 Acc@1: 0.000000\n",
      "\u001b[2m\u001b[36m(launch_and_fit pid=19342)\u001b[0m \tTrain Epoch: 3 \tLoss: 0.450583 Acc@1: 0.000000\n",
      "\u001b[2m\u001b[36m(launch_and_fit pid=19342)\u001b[0m \tTrain Epoch: 3 \tLoss: 0.478252 Acc@1: 0.000000\n",
      "\u001b[2m\u001b[36m(launch_and_fit pid=19342)\u001b[0m \tTrain Epoch: 3 \tLoss: 0.497624 Acc@1: 0.000000\n",
      "\u001b[2m\u001b[36m(launch_and_fit pid=19339)\u001b[0m \tTrain Epoch: 2 \tLoss: 0.474529 Acc@1: 4.218750\n",
      "\u001b[2m\u001b[36m(launch_and_fit pid=19339)\u001b[0m \tTrain Epoch: 2 \tLoss: 0.483743 Acc@1: 5.104167\n",
      "\u001b[2m\u001b[36m(launch_and_fit pid=19339)\u001b[0m \tTrain Epoch: 2 \tLoss: 0.469153 Acc@1: 3.828125\n",
      "\u001b[2m\u001b[36m(launch_and_fit pid=19339)\u001b[0m \tTrain Epoch: 2 \tLoss: 0.460870 Acc@1: 4.875000\n",
      "\u001b[2m\u001b[36m(launch_and_fit pid=19339)\u001b[0m \tTrain Epoch: 2 \tLoss: 0.456967 Acc@1: 4.062500\n",
      "\u001b[2m\u001b[36m(launch_and_fit pid=19339)\u001b[0m \tTrain Epoch: 2 \tLoss: 0.450230 Acc@1: 3.482143\n",
      "\u001b[2m\u001b[36m(launch_and_fit pid=19342)\u001b[0m \tTrain Epoch: 3 \tLoss: 0.511953 Acc@1: 0.000000\n",
      "\u001b[2m\u001b[36m(launch_and_fit pid=19342)\u001b[0m \tTrain Epoch: 3 \tLoss: 0.508428 Acc@1: 0.000000\n",
      "\u001b[2m\u001b[36m(launch_and_fit pid=19342)\u001b[0m \tTrain Epoch: 3 \tLoss: 0.514919 Acc@1: 0.000000\n",
      "\u001b[2m\u001b[36m(launch_and_fit pid=19342)\u001b[0m \tTrain Epoch: 3 \tLoss: 0.512897 Acc@1: 0.000000\n",
      "\u001b[2m\u001b[36m(launch_and_fit pid=19342)\u001b[0m \tTrain Epoch: 3 \tLoss: 0.514003 Acc@1: 0.000000\n",
      "\u001b[2m\u001b[36m(launch_and_fit pid=19342)\u001b[0m \tTrain Epoch: 4 \tLoss: 0.449992 Acc@1: 0.000000\n",
      "\u001b[2m\u001b[36m(launch_and_fit pid=19339)\u001b[0m \tTrain Epoch: 2 \tLoss: 0.451449 Acc@1: 3.046875\n",
      "\u001b[2m\u001b[36m(launch_and_fit pid=19339)\u001b[0m \tTrain Epoch: 2 \tLoss: 0.449065 Acc@1: 3.611111\n",
      "\u001b[2m\u001b[36m(launch_and_fit pid=19339)\u001b[0m \tTrain Epoch: 2 \tLoss: 0.454058 Acc@1: 3.250000\n",
      "\u001b[2m\u001b[36m(launch_and_fit pid=19339)\u001b[0m \tTrain Epoch: 2 \tLoss: 0.458786 Acc@1: 2.954545\n",
      "\u001b[2m\u001b[36m(launch_and_fit pid=19342)\u001b[0m \tTrain Epoch: 4 \tLoss: 0.477769 Acc@1: 0.000000\n",
      "\u001b[2m\u001b[36m(launch_and_fit pid=19342)\u001b[0m \tTrain Epoch: 4 \tLoss: 0.497191 Acc@1: 0.000000\n",
      "\u001b[2m\u001b[36m(launch_and_fit pid=19342)\u001b[0m \tTrain Epoch: 4 \tLoss: 0.511566 Acc@1: 0.000000\n",
      "\u001b[2m\u001b[36m(launch_and_fit pid=19342)\u001b[0m \tTrain Epoch: 4 \tLoss: 0.508051 Acc@1: 0.000000\n",
      "\u001b[2m\u001b[36m(launch_and_fit pid=19342)\u001b[0m \tTrain Epoch: 4 \tLoss: 0.514532 Acc@1: 0.000000\n",
      "\u001b[2m\u001b[36m(launch_and_fit pid=19339)\u001b[0m \tTrain Epoch: 3 \tLoss: 0.490767 Acc@1: 0.000000\n",
      "\u001b[2m\u001b[36m(launch_and_fit pid=19339)\u001b[0m \tTrain Epoch: 3 \tLoss: 0.474006 Acc@1: 4.218750\n",
      "\u001b[2m\u001b[36m(launch_and_fit pid=19339)\u001b[0m \tTrain Epoch: 3 \tLoss: 0.483308 Acc@1: 5.104167\n",
      "\u001b[2m\u001b[36m(launch_and_fit pid=19339)\u001b[0m \tTrain Epoch: 3 \tLoss: 0.468823 Acc@1: 3.828125\n",
      "\u001b[2m\u001b[36m(launch_and_fit pid=19339)\u001b[0m \tTrain Epoch: 3 \tLoss: 0.460571 Acc@1: 4.875000\n",
      "\u001b[2m\u001b[36m(launch_and_fit pid=19339)\u001b[0m \tTrain Epoch: 3 \tLoss: 0.456671 Acc@1: 4.062500\n",
      "\u001b[2m\u001b[36m(launch_and_fit pid=19342)\u001b[0m \tTrain Epoch: 4 \tLoss: 0.512501 Acc@1: 0.000000\n",
      "\u001b[2m\u001b[36m(launch_and_fit pid=19342)\u001b[0m \tTrain Epoch: 4 \tLoss: 0.513614 Acc@1: 0.000000\n",
      "\u001b[2m\u001b[36m(launch_and_fit pid=19342)\u001b[0m \tTrain Epoch: 5 \tLoss: 0.449461 Acc@1: 0.000000\n",
      "\u001b[2m\u001b[36m(launch_and_fit pid=19342)\u001b[0m \tTrain Epoch: 5 \tLoss: 0.477338 Acc@1: 0.000000\n",
      "\u001b[2m\u001b[36m(launch_and_fit pid=19342)\u001b[0m \tTrain Epoch: 5 \tLoss: 0.496793 Acc@1: 0.000000\n",
      "\u001b[2m\u001b[36m(launch_and_fit pid=19342)\u001b[0m \tTrain Epoch: 5 \tLoss: 0.511208 Acc@1: 0.000000\n",
      "\u001b[2m\u001b[36m(launch_and_fit pid=19342)\u001b[0m \tTrain Epoch: 5 \tLoss: 0.507701 Acc@1: 0.000000\n",
      "\u001b[2m\u001b[36m(launch_and_fit pid=19339)\u001b[0m \tTrain Epoch: 3 \tLoss: 0.449960 Acc@1: 3.482143\n",
      "\u001b[2m\u001b[36m(launch_and_fit pid=19339)\u001b[0m \tTrain Epoch: 3 \tLoss: 0.451199 Acc@1: 3.046875\n",
      "\u001b[2m\u001b[36m(launch_and_fit pid=19339)\u001b[0m \tTrain Epoch: 3 \tLoss: 0.448823 Acc@1: 3.611111\n",
      "\u001b[2m\u001b[36m(launch_and_fit pid=19339)\u001b[0m \tTrain Epoch: 3 \tLoss: 0.453794 Acc@1: 3.250000\n",
      "\u001b[2m\u001b[36m(launch_and_fit pid=19339)\u001b[0m \tTrain Epoch: 3 \tLoss: 0.458529 Acc@1: 2.954545\n"
     ]
    },
    {
     "name": "stderr",
     "output_type": "stream",
     "text": [
      "DEBUG flwr 2023-08-12 05:58:29,626 | server.py:229 | fit_round 4 received 2 results and 0 failures\n",
      "08/12/2023 05:58:29:DEBUG:fit_round 4 received 2 results and 0 failures\n",
      "INFO flwr 2023-08-12 05:58:29,651 | server.py:116 | fit progress: (4, 0.016899592084564465, {'accuracy': 0.7991071428571429}, 9.417529461992672)\n",
      "08/12/2023 05:58:29:INFO:fit progress: (4, 0.016899592084564465, {'accuracy': 0.7991071428571429}, 9.417529461992672)\n",
      "DEBUG flwr 2023-08-12 05:58:29,653 | server.py:165 | evaluate_round 4: strategy sampled 2 clients (out of 2)\n",
      "08/12/2023 05:58:29:DEBUG:evaluate_round 4: strategy sampled 2 clients (out of 2)\n"
     ]
    },
    {
     "name": "stdout",
     "output_type": "stream",
     "text": [
      "\u001b[2m\u001b[36m(launch_and_fit pid=19342)\u001b[0m \tTrain Epoch: 5 \tLoss: 0.514168 Acc@1: 0.000000\n",
      "\u001b[2m\u001b[36m(launch_and_fit pid=19342)\u001b[0m \tTrain Epoch: 5 \tLoss: 0.512126 Acc@1: 0.000000\n",
      "\u001b[2m\u001b[36m(launch_and_fit pid=19342)\u001b[0m \tTrain Epoch: 5 \tLoss: 0.513244 Acc@1: 0.000000\n",
      "\u001b[2m\u001b[36m(launch_and_fit pid=19342)\u001b[0m epsilon of client 1 : eps = 0\n",
      "\u001b[2m\u001b[36m(launch_and_fit pid=19339)\u001b[0m \tTrain Epoch: 4 \tLoss: 0.489992 Acc@1: 0.000000\n",
      "\u001b[2m\u001b[36m(launch_and_fit pid=19339)\u001b[0m \tTrain Epoch: 4 \tLoss: 0.473540 Acc@1: 4.218750\n",
      "\u001b[2m\u001b[36m(launch_and_fit pid=19339)\u001b[0m \tTrain Epoch: 4 \tLoss: 0.482938 Acc@1: 5.104167\n",
      "\u001b[2m\u001b[36m(launch_and_fit pid=19339)\u001b[0m \tTrain Epoch: 4 \tLoss: 0.468533 Acc@1: 3.828125\n",
      "\u001b[2m\u001b[36m(launch_and_fit pid=19339)\u001b[0m \tTrain Epoch: 4 \tLoss: 0.460306 Acc@1: 4.875000\n",
      "\u001b[2m\u001b[36m(launch_and_fit pid=19339)\u001b[0m \tTrain Epoch: 4 \tLoss: 0.456404 Acc@1: 4.062500\n",
      "\u001b[2m\u001b[36m(launch_and_fit pid=19339)\u001b[0m \tTrain Epoch: 4 \tLoss: 0.449706 Acc@1: 3.482143\n",
      "\u001b[2m\u001b[36m(launch_and_fit pid=19339)\u001b[0m \tTrain Epoch: 4 \tLoss: 0.450962 Acc@1: 3.046875\n",
      "\u001b[2m\u001b[36m(launch_and_fit pid=19339)\u001b[0m \tTrain Epoch: 4 \tLoss: 0.448589 Acc@1: 3.611111\n",
      "\u001b[2m\u001b[36m(launch_and_fit pid=19339)\u001b[0m \tTrain Epoch: 4 \tLoss: 0.453546 Acc@1: 3.250000\n",
      "\u001b[2m\u001b[36m(launch_and_fit pid=19339)\u001b[0m \tTrain Epoch: 4 \tLoss: 0.458290 Acc@1: 2.954545\n",
      "\u001b[2m\u001b[36m(launch_and_fit pid=19339)\u001b[0m \tTrain Epoch: 5 \tLoss: 0.489308 Acc@1: 0.000000\n",
      "\u001b[2m\u001b[36m(launch_and_fit pid=19339)\u001b[0m \tTrain Epoch: 5 \tLoss: 0.473133 Acc@1: 4.218750\n",
      "\u001b[2m\u001b[36m(launch_and_fit pid=19339)\u001b[0m \tTrain Epoch: 5 \tLoss: 0.482638 Acc@1: 5.104167\n",
      "\u001b[2m\u001b[36m(launch_and_fit pid=19339)\u001b[0m \tTrain Epoch: 5 \tLoss: 0.468290 Acc@1: 3.828125\n",
      "\u001b[2m\u001b[36m(launch_and_fit pid=19339)\u001b[0m \tTrain Epoch: 5 \tLoss: 0.460080 Acc@1: 4.875000\n",
      "Server-side evaluation loss 0.016899592084564465 / accuracy 0.7991071428571429\n"
     ]
    },
    {
     "name": "stderr",
     "output_type": "stream",
     "text": [
      "DEBUG flwr 2023-08-12 05:58:29,738 | server.py:179 | evaluate_round 4 received 2 results and 0 failures\n",
      "08/12/2023 05:58:29:DEBUG:evaluate_round 4 received 2 results and 0 failures\n",
      "DEBUG flwr 2023-08-12 05:58:29,743 | server.py:215 | fit_round 5: strategy sampled 2 clients (out of 2)\n",
      "08/12/2023 05:58:29:DEBUG:fit_round 5: strategy sampled 2 clients (out of 2)\n"
     ]
    },
    {
     "name": "stdout",
     "output_type": "stream",
     "text": [
      "\u001b[2m\u001b[36m(launch_and_fit pid=19339)\u001b[0m \tTrain Epoch: 5 \tLoss: 0.456166 Acc@1: 4.062500\n",
      "\u001b[2m\u001b[36m(launch_and_fit pid=19339)\u001b[0m \tTrain Epoch: 5 \tLoss: 0.449471 Acc@1: 3.482143\n",
      "\u001b[2m\u001b[36m(launch_and_fit pid=19339)\u001b[0m \tTrain Epoch: 5 \tLoss: 0.450740 Acc@1: 3.046875\n",
      "\u001b[2m\u001b[36m(launch_and_fit pid=19339)\u001b[0m \tTrain Epoch: 5 \tLoss: 0.448370 Acc@1: 3.611111\n",
      "\u001b[2m\u001b[36m(launch_and_fit pid=19339)\u001b[0m \tTrain Epoch: 5 \tLoss: 0.453317 Acc@1: 3.250000\n",
      "\u001b[2m\u001b[36m(launch_and_fit pid=19339)\u001b[0m \tTrain Epoch: 5 \tLoss: 0.458068 Acc@1: 2.954545\n",
      "\u001b[2m\u001b[36m(launch_and_fit pid=19339)\u001b[0m epsilon of client 0 : eps = 0\n",
      "\u001b[2m\u001b[36m(launch_and_evaluate pid=19342)\u001b[0m [Client 0] evaluate, config: {}\n",
      "\u001b[2m\u001b[36m(launch_and_evaluate pid=19339)\u001b[0m [Client 1] evaluate, config: {}\n",
      "\u001b[2m\u001b[36m(launch_and_fit pid=19342)\u001b[0m [Client 0] fit, config: {}\n",
      "\u001b[2m\u001b[36m(launch_and_fit pid=19342)\u001b[0m \tTrain Epoch: 0 \tLoss: 0.492288 Acc@1: 0.000000\n",
      "\u001b[2m\u001b[36m(launch_and_fit pid=19342)\u001b[0m \tTrain Epoch: 0 \tLoss: 0.474757 Acc@1: 4.218750\n",
      "\u001b[2m\u001b[36m(launch_and_fit pid=19342)\u001b[0m \tTrain Epoch: 0 \tLoss: 0.484041 Acc@1: 5.104167\n",
      "\u001b[2m\u001b[36m(launch_and_fit pid=19339)\u001b[0m [Client 1] fit, config: {}\n",
      "\u001b[2m\u001b[36m(launch_and_fit pid=19339)\u001b[0m \tTrain Epoch: 0 \tLoss: 0.452083 Acc@1: 0.000000\n",
      "\u001b[2m\u001b[36m(launch_and_fit pid=19339)\u001b[0m \tTrain Epoch: 0 \tLoss: 0.479336 Acc@1: 0.000000\n",
      "\u001b[2m\u001b[36m(launch_and_fit pid=19339)\u001b[0m \tTrain Epoch: 0 \tLoss: 0.498154 Acc@1: 0.000000\n",
      "\u001b[2m\u001b[36m(launch_and_fit pid=19339)\u001b[0m \tTrain Epoch: 0 \tLoss: 0.512307 Acc@1: 0.000000\n"
     ]
    },
    {
     "name": "stderr",
     "output_type": "stream",
     "text": [
      "\u001b[2m\u001b[36m(launch_and_fit pid=19339)\u001b[0m /home/hlpc/anaconda3/envs/openmined/lib/python3.8/site-packages/opacus/privacy_engine.py:142: UserWarning: Secure RNG turned off. This is perfectly fine for experimentation as it allows for much faster training performance, but remember to turn it on and retrain one last time before production with ``secure_mode`` turned on.\n",
      "\u001b[2m\u001b[36m(launch_and_fit pid=19339)\u001b[0m   warnings.warn(\n",
      "\u001b[2m\u001b[36m(launch_and_fit pid=19342)\u001b[0m /home/hlpc/anaconda3/envs/openmined/lib/python3.8/site-packages/opacus/privacy_engine.py:142: UserWarning: Secure RNG turned off. This is perfectly fine for experimentation as it allows for much faster training performance, but remember to turn it on and retrain one last time before production with ``secure_mode`` turned on.\n",
      "\u001b[2m\u001b[36m(launch_and_fit pid=19342)\u001b[0m   warnings.warn(\n"
     ]
    },
    {
     "name": "stdout",
     "output_type": "stream",
     "text": [
      "\u001b[2m\u001b[36m(launch_and_fit pid=19342)\u001b[0m \tTrain Epoch: 0 \tLoss: 0.469207 Acc@1: 3.828125\n",
      "\u001b[2m\u001b[36m(launch_and_fit pid=19342)\u001b[0m \tTrain Epoch: 0 \tLoss: 0.460847 Acc@1: 4.875000\n",
      "\u001b[2m\u001b[36m(launch_and_fit pid=19342)\u001b[0m \tTrain Epoch: 0 \tLoss: 0.456856 Acc@1: 4.062500\n",
      "\u001b[2m\u001b[36m(launch_and_fit pid=19342)\u001b[0m \tTrain Epoch: 0 \tLoss: 0.449984 Acc@1: 3.482143\n",
      "\u001b[2m\u001b[36m(launch_and_fit pid=19342)\u001b[0m \tTrain Epoch: 0 \tLoss: 0.451189 Acc@1: 3.046875\n",
      "\u001b[2m\u001b[36m(launch_and_fit pid=19339)\u001b[0m \tTrain Epoch: 0 \tLoss: 0.508759 Acc@1: 0.000000\n",
      "\u001b[2m\u001b[36m(launch_and_fit pid=19339)\u001b[0m \tTrain Epoch: 0 \tLoss: 0.515283 Acc@1: 0.000000\n",
      "\u001b[2m\u001b[36m(launch_and_fit pid=19339)\u001b[0m \tTrain Epoch: 0 \tLoss: 0.513235 Acc@1: 0.000000\n",
      "\u001b[2m\u001b[36m(launch_and_fit pid=19339)\u001b[0m \tTrain Epoch: 0 \tLoss: 0.514254 Acc@1: 0.000000\n",
      "\u001b[2m\u001b[36m(launch_and_fit pid=19342)\u001b[0m \tTrain Epoch: 0 \tLoss: 0.448751 Acc@1: 3.611111\n",
      "\u001b[2m\u001b[36m(launch_and_fit pid=19342)\u001b[0m \tTrain Epoch: 0 \tLoss: 0.453799 Acc@1: 3.250000\n",
      "\u001b[2m\u001b[36m(launch_and_fit pid=19342)\u001b[0m \tTrain Epoch: 0 \tLoss: 0.458508 Acc@1: 2.954545\n",
      "\u001b[2m\u001b[36m(launch_and_fit pid=19342)\u001b[0m \tTrain Epoch: 1 \tLoss: 0.490916 Acc@1: 0.000000\n",
      "\u001b[2m\u001b[36m(launch_and_fit pid=19342)\u001b[0m \tTrain Epoch: 1 \tLoss: 0.473932 Acc@1: 4.218750\n",
      "\u001b[2m\u001b[36m(launch_and_fit pid=19342)\u001b[0m \tTrain Epoch: 1 \tLoss: 0.483292 Acc@1: 5.104167\n",
      "\u001b[2m\u001b[36m(launch_and_fit pid=19339)\u001b[0m \tTrain Epoch: 1 \tLoss: 0.451315 Acc@1: 0.000000\n",
      "\u001b[2m\u001b[36m(launch_and_fit pid=19339)\u001b[0m \tTrain Epoch: 1 \tLoss: 0.478710 Acc@1: 0.000000\n",
      "\u001b[2m\u001b[36m(launch_and_fit pid=19339)\u001b[0m \tTrain Epoch: 1 \tLoss: 0.497640 Acc@1: 0.000000\n",
      "\u001b[2m\u001b[36m(launch_and_fit pid=19339)\u001b[0m \tTrain Epoch: 1 \tLoss: 0.511867 Acc@1: 0.000000\n",
      "\u001b[2m\u001b[36m(launch_and_fit pid=19339)\u001b[0m \tTrain Epoch: 1 \tLoss: 0.508324 Acc@1: 0.000000\n",
      "\u001b[2m\u001b[36m(launch_and_fit pid=19339)\u001b[0m \tTrain Epoch: 1 \tLoss: 0.514842 Acc@1: 0.000000\n",
      "\u001b[2m\u001b[36m(launch_and_fit pid=19339)\u001b[0m \tTrain Epoch: 1 \tLoss: 0.512786 Acc@1: 0.000000\n",
      "\u001b[2m\u001b[36m(launch_and_fit pid=19342)\u001b[0m \tTrain Epoch: 1 \tLoss: 0.468662 Acc@1: 3.828125\n",
      "\u001b[2m\u001b[36m(launch_and_fit pid=19342)\u001b[0m \tTrain Epoch: 1 \tLoss: 0.460384 Acc@1: 4.875000\n",
      "\u001b[2m\u001b[36m(launch_and_fit pid=19342)\u001b[0m \tTrain Epoch: 1 \tLoss: 0.456430 Acc@1: 4.062500\n",
      "\u001b[2m\u001b[36m(launch_and_fit pid=19342)\u001b[0m \tTrain Epoch: 1 \tLoss: 0.449635 Acc@1: 3.482143\n",
      "\u001b[2m\u001b[36m(launch_and_fit pid=19342)\u001b[0m \tTrain Epoch: 1 \tLoss: 0.450867 Acc@1: 3.046875\n",
      "\u001b[2m\u001b[36m(launch_and_fit pid=19342)\u001b[0m \tTrain Epoch: 1 \tLoss: 0.448456 Acc@1: 3.611111\n",
      "\u001b[2m\u001b[36m(launch_and_fit pid=19339)\u001b[0m \tTrain Epoch: 1 \tLoss: 0.513812 Acc@1: 0.000000\n",
      "\u001b[2m\u001b[36m(launch_and_fit pid=19339)\u001b[0m \tTrain Epoch: 2 \tLoss: 0.450600 Acc@1: 0.000000\n",
      "\u001b[2m\u001b[36m(launch_and_fit pid=19339)\u001b[0m \tTrain Epoch: 2 \tLoss: 0.478138 Acc@1: 0.000000\n",
      "\u001b[2m\u001b[36m(launch_and_fit pid=19339)\u001b[0m \tTrain Epoch: 2 \tLoss: 0.497155 Acc@1: 0.000000\n",
      "\u001b[2m\u001b[36m(launch_and_fit pid=19339)\u001b[0m \tTrain Epoch: 2 \tLoss: 0.511445 Acc@1: 0.000000\n",
      "\u001b[2m\u001b[36m(launch_and_fit pid=19339)\u001b[0m \tTrain Epoch: 2 \tLoss: 0.507906 Acc@1: 0.000000\n",
      "\u001b[2m\u001b[36m(launch_and_fit pid=19342)\u001b[0m \tTrain Epoch: 1 \tLoss: 0.453456 Acc@1: 3.250000\n",
      "\u001b[2m\u001b[36m(launch_and_fit pid=19342)\u001b[0m \tTrain Epoch: 1 \tLoss: 0.458162 Acc@1: 2.954545\n",
      "\u001b[2m\u001b[36m(launch_and_fit pid=19342)\u001b[0m \tTrain Epoch: 2 \tLoss: 0.489835 Acc@1: 0.000000\n",
      "\u001b[2m\u001b[36m(launch_and_fit pid=19342)\u001b[0m \tTrain Epoch: 2 \tLoss: 0.473303 Acc@1: 4.218750\n",
      "\u001b[2m\u001b[36m(launch_and_fit pid=19339)\u001b[0m \tTrain Epoch: 2 \tLoss: 0.514420 Acc@1: 0.000000\n",
      "\u001b[2m\u001b[36m(launch_and_fit pid=19339)\u001b[0m \tTrain Epoch: 2 \tLoss: 0.512355 Acc@1: 0.000000\n",
      "\u001b[2m\u001b[36m(launch_and_fit pid=19339)\u001b[0m \tTrain Epoch: 2 \tLoss: 0.513390 Acc@1: 0.000000\n",
      "\u001b[2m\u001b[36m(launch_and_fit pid=19339)\u001b[0m \tTrain Epoch: 3 \tLoss: 0.449967 Acc@1: 0.000000\n",
      "\u001b[2m\u001b[36m(launch_and_fit pid=19339)\u001b[0m \tTrain Epoch: 3 \tLoss: 0.477642 Acc@1: 0.000000\n",
      "\u001b[2m\u001b[36m(launch_and_fit pid=19342)\u001b[0m \tTrain Epoch: 2 \tLoss: 0.482757 Acc@1: 5.104167\n",
      "\u001b[2m\u001b[36m(launch_and_fit pid=19342)\u001b[0m \tTrain Epoch: 2 \tLoss: 0.468266 Acc@1: 3.828125\n",
      "\u001b[2m\u001b[36m(launch_and_fit pid=19342)\u001b[0m \tTrain Epoch: 2 \tLoss: 0.460044 Acc@1: 4.875000\n",
      "\u001b[2m\u001b[36m(launch_and_fit pid=19342)\u001b[0m \tTrain Epoch: 2 \tLoss: 0.456106 Acc@1: 4.062500\n",
      "\u001b[2m\u001b[36m(launch_and_fit pid=19342)\u001b[0m \tTrain Epoch: 2 \tLoss: 0.449352 Acc@1: 3.482143\n",
      "\u001b[2m\u001b[36m(launch_and_fit pid=19342)\u001b[0m \tTrain Epoch: 2 \tLoss: 0.450603 Acc@1: 3.046875\n",
      "\u001b[2m\u001b[36m(launch_and_fit pid=19339)\u001b[0m \tTrain Epoch: 3 \tLoss: 0.496719 Acc@1: 0.000000\n",
      "\u001b[2m\u001b[36m(launch_and_fit pid=19339)\u001b[0m \tTrain Epoch: 3 \tLoss: 0.511064 Acc@1: 0.000000\n",
      "\u001b[2m\u001b[36m(launch_and_fit pid=19339)\u001b[0m \tTrain Epoch: 3 \tLoss: 0.507530 Acc@1: 0.000000\n",
      "\u001b[2m\u001b[36m(launch_and_fit pid=19339)\u001b[0m \tTrain Epoch: 3 \tLoss: 0.514032 Acc@1: 0.000000\n",
      "\u001b[2m\u001b[36m(launch_and_fit pid=19339)\u001b[0m \tTrain Epoch: 3 \tLoss: 0.511955 Acc@1: 0.000000\n",
      "\u001b[2m\u001b[36m(launch_and_fit pid=19342)\u001b[0m \tTrain Epoch: 2 \tLoss: 0.448209 Acc@1: 3.611111\n",
      "\u001b[2m\u001b[36m(launch_and_fit pid=19342)\u001b[0m \tTrain Epoch: 2 \tLoss: 0.453178 Acc@1: 3.250000\n",
      "\u001b[2m\u001b[36m(launch_and_fit pid=19342)\u001b[0m \tTrain Epoch: 2 \tLoss: 0.457886 Acc@1: 2.954545\n",
      "\u001b[2m\u001b[36m(launch_and_fit pid=19342)\u001b[0m \tTrain Epoch: 3 \tLoss: 0.488976 Acc@1: 0.000000\n",
      "\u001b[2m\u001b[36m(launch_and_fit pid=19339)\u001b[0m \tTrain Epoch: 3 \tLoss: 0.512999 Acc@1: 0.000000\n",
      "\u001b[2m\u001b[36m(launch_and_fit pid=19339)\u001b[0m \tTrain Epoch: 4 \tLoss: 0.449377 Acc@1: 0.000000\n",
      "\u001b[2m\u001b[36m(launch_and_fit pid=19339)\u001b[0m \tTrain Epoch: 4 \tLoss: 0.477180 Acc@1: 0.000000\n",
      "\u001b[2m\u001b[36m(launch_and_fit pid=19339)\u001b[0m \tTrain Epoch: 4 \tLoss: 0.496293 Acc@1: 0.000000\n",
      "\u001b[2m\u001b[36m(launch_and_fit pid=19339)\u001b[0m \tTrain Epoch: 4 \tLoss: 0.510686 Acc@1: 0.000000\n",
      "\u001b[2m\u001b[36m(launch_and_fit pid=19339)\u001b[0m \tTrain Epoch: 4 \tLoss: 0.507159 Acc@1: 0.000000\n",
      "\u001b[2m\u001b[36m(launch_and_fit pid=19342)\u001b[0m \tTrain Epoch: 3 \tLoss: 0.472804 Acc@1: 4.218750\n",
      "\u001b[2m\u001b[36m(launch_and_fit pid=19342)\u001b[0m \tTrain Epoch: 3 \tLoss: 0.482359 Acc@1: 5.104167\n",
      "\u001b[2m\u001b[36m(launch_and_fit pid=19342)\u001b[0m \tTrain Epoch: 3 \tLoss: 0.467961 Acc@1: 3.828125\n",
      "\u001b[2m\u001b[36m(launch_and_fit pid=19342)\u001b[0m \tTrain Epoch: 3 \tLoss: 0.459774 Acc@1: 4.875000\n",
      "\u001b[2m\u001b[36m(launch_and_fit pid=19342)\u001b[0m \tTrain Epoch: 3 \tLoss: 0.455834 Acc@1: 4.062500\n",
      "\u001b[2m\u001b[36m(launch_and_fit pid=19342)\u001b[0m \tTrain Epoch: 3 \tLoss: 0.449098 Acc@1: 3.482143\n",
      "\u001b[2m\u001b[36m(launch_and_fit pid=19339)\u001b[0m \tTrain Epoch: 4 \tLoss: 0.513647 Acc@1: 0.000000\n",
      "\u001b[2m\u001b[36m(launch_and_fit pid=19339)\u001b[0m \tTrain Epoch: 4 \tLoss: 0.511559 Acc@1: 0.000000\n",
      "\u001b[2m\u001b[36m(launch_and_fit pid=19339)\u001b[0m \tTrain Epoch: 4 \tLoss: 0.512606 Acc@1: 0.000000\n",
      "\u001b[2m\u001b[36m(launch_and_fit pid=19339)\u001b[0m \tTrain Epoch: 5 \tLoss: 0.448858 Acc@1: 0.000000\n",
      "\u001b[2m\u001b[36m(launch_and_fit pid=19339)\u001b[0m \tTrain Epoch: 5 \tLoss: 0.476752 Acc@1: 0.000000\n",
      "\u001b[2m\u001b[36m(launch_and_fit pid=19339)\u001b[0m \tTrain Epoch: 5 \tLoss: 0.495895 Acc@1: 0.000000\n",
      "\u001b[2m\u001b[36m(launch_and_fit pid=19342)\u001b[0m \tTrain Epoch: 3 \tLoss: 0.450362 Acc@1: 3.046875\n",
      "\u001b[2m\u001b[36m(launch_and_fit pid=19342)\u001b[0m \tTrain Epoch: 3 \tLoss: 0.447979 Acc@1: 3.611111\n",
      "\u001b[2m\u001b[36m(launch_and_fit pid=19342)\u001b[0m \tTrain Epoch: 3 \tLoss: 0.452926 Acc@1: 3.250000\n",
      "\u001b[2m\u001b[36m(launch_and_fit pid=19342)\u001b[0m \tTrain Epoch: 3 \tLoss: 0.457637 Acc@1: 2.954545\n",
      "\u001b[2m\u001b[36m(launch_and_fit pid=19342)\u001b[0m \tTrain Epoch: 4 \tLoss: 0.488274 Acc@1: 0.000000\n",
      "\u001b[2m\u001b[36m(launch_and_fit pid=19342)\u001b[0m \tTrain Epoch: 4 \tLoss: 0.472385 Acc@1: 4.218750\n",
      "\u001b[2m\u001b[36m(launch_and_fit pid=19339)\u001b[0m \tTrain Epoch: 5 \tLoss: 0.510329 Acc@1: 0.000000\n",
      "\u001b[2m\u001b[36m(launch_and_fit pid=19339)\u001b[0m \tTrain Epoch: 5 \tLoss: 0.506809 Acc@1: 0.000000\n",
      "\u001b[2m\u001b[36m(launch_and_fit pid=19339)\u001b[0m \tTrain Epoch: 5 \tLoss: 0.513278 Acc@1: 0.000000\n",
      "\u001b[2m\u001b[36m(launch_and_fit pid=19339)\u001b[0m \tTrain Epoch: 5 \tLoss: 0.511181 Acc@1: 0.000000\n",
      "\u001b[2m\u001b[36m(launch_and_fit pid=19339)\u001b[0m \tTrain Epoch: 5 \tLoss: 0.512235 Acc@1: 0.000000\n",
      "\u001b[2m\u001b[36m(launch_and_fit pid=19339)\u001b[0m epsilon of client 1 : eps = 0\n"
     ]
    },
    {
     "name": "stderr",
     "output_type": "stream",
     "text": [
      "DEBUG flwr 2023-08-12 05:58:30,934 | server.py:229 | fit_round 5 received 2 results and 0 failures\n",
      "08/12/2023 05:58:30:DEBUG:fit_round 5 received 2 results and 0 failures\n",
      "INFO flwr 2023-08-12 05:58:30,960 | server.py:116 | fit progress: (5, 0.016844851150215386, {'accuracy': 0.7991071428571429}, 10.726170624984661)\n",
      "08/12/2023 05:58:30:INFO:fit progress: (5, 0.016844851150215386, {'accuracy': 0.7991071428571429}, 10.726170624984661)\n",
      "DEBUG flwr 2023-08-12 05:58:30,962 | server.py:165 | evaluate_round 5: strategy sampled 2 clients (out of 2)\n",
      "08/12/2023 05:58:30:DEBUG:evaluate_round 5: strategy sampled 2 clients (out of 2)\n"
     ]
    },
    {
     "name": "stdout",
     "output_type": "stream",
     "text": [
      "\u001b[2m\u001b[36m(launch_and_fit pid=19342)\u001b[0m \tTrain Epoch: 4 \tLoss: 0.482037 Acc@1: 5.104167\n",
      "\u001b[2m\u001b[36m(launch_and_fit pid=19342)\u001b[0m \tTrain Epoch: 4 \tLoss: 0.467703 Acc@1: 3.828125\n",
      "\u001b[2m\u001b[36m(launch_and_fit pid=19342)\u001b[0m \tTrain Epoch: 4 \tLoss: 0.459537 Acc@1: 4.875000\n",
      "\u001b[2m\u001b[36m(launch_and_fit pid=19342)\u001b[0m \tTrain Epoch: 4 \tLoss: 0.455588 Acc@1: 4.062500\n",
      "\u001b[2m\u001b[36m(launch_and_fit pid=19342)\u001b[0m \tTrain Epoch: 4 \tLoss: 0.448859 Acc@1: 3.482143\n",
      "\u001b[2m\u001b[36m(launch_and_fit pid=19342)\u001b[0m \tTrain Epoch: 4 \tLoss: 0.450136 Acc@1: 3.046875\n",
      "\u001b[2m\u001b[36m(launch_and_fit pid=19342)\u001b[0m \tTrain Epoch: 4 \tLoss: 0.447759 Acc@1: 3.611111\n",
      "\u001b[2m\u001b[36m(launch_and_fit pid=19342)\u001b[0m \tTrain Epoch: 4 \tLoss: 0.452693 Acc@1: 3.250000\n",
      "\u001b[2m\u001b[36m(launch_and_fit pid=19342)\u001b[0m \tTrain Epoch: 4 \tLoss: 0.457409 Acc@1: 2.954545\n",
      "\u001b[2m\u001b[36m(launch_and_fit pid=19342)\u001b[0m \tTrain Epoch: 5 \tLoss: 0.487706 Acc@1: 0.000000\n",
      "\u001b[2m\u001b[36m(launch_and_fit pid=19342)\u001b[0m \tTrain Epoch: 5 \tLoss: 0.472041 Acc@1: 4.218750\n",
      "\u001b[2m\u001b[36m(launch_and_fit pid=19342)\u001b[0m \tTrain Epoch: 5 \tLoss: 0.481781 Acc@1: 5.104167\n",
      "\u001b[2m\u001b[36m(launch_and_fit pid=19342)\u001b[0m \tTrain Epoch: 5 \tLoss: 0.467491 Acc@1: 3.828125\n",
      "\u001b[2m\u001b[36m(launch_and_fit pid=19342)\u001b[0m \tTrain Epoch: 5 \tLoss: 0.459333 Acc@1: 4.875000\n",
      "\u001b[2m\u001b[36m(launch_and_fit pid=19342)\u001b[0m \tTrain Epoch: 5 \tLoss: 0.455378 Acc@1: 4.062500\n",
      "\u001b[2m\u001b[36m(launch_and_fit pid=19342)\u001b[0m \tTrain Epoch: 5 \tLoss: 0.448649 Acc@1: 3.482143\n",
      "\u001b[2m\u001b[36m(launch_and_fit pid=19342)\u001b[0m \tTrain Epoch: 5 \tLoss: 0.449935 Acc@1: 3.046875\n",
      "\u001b[2m\u001b[36m(launch_and_fit pid=19342)\u001b[0m \tTrain Epoch: 5 \tLoss: 0.447561 Acc@1: 3.611111\n",
      "Server-side evaluation loss 0.016844851150215386 / accuracy 0.7991071428571429\n"
     ]
    },
    {
     "name": "stderr",
     "output_type": "stream",
     "text": [
      "DEBUG flwr 2023-08-12 05:58:31,034 | server.py:179 | evaluate_round 5 received 2 results and 0 failures\n",
      "08/12/2023 05:58:31:DEBUG:evaluate_round 5 received 2 results and 0 failures\n",
      "DEBUG flwr 2023-08-12 05:58:31,036 | server.py:215 | fit_round 6: strategy sampled 2 clients (out of 2)\n",
      "08/12/2023 05:58:31:DEBUG:fit_round 6: strategy sampled 2 clients (out of 2)\n",
      "\u001b[2m\u001b[36m(launch_and_fit pid=19339)\u001b[0m /home/hlpc/anaconda3/envs/openmined/lib/python3.8/site-packages/opacus/privacy_engine.py:142: UserWarning: Secure RNG turned off. This is perfectly fine for experimentation as it allows for much faster training performance, but remember to turn it on and retrain one last time before production with ``secure_mode`` turned on.\n",
      "\u001b[2m\u001b[36m(launch_and_fit pid=19339)\u001b[0m   warnings.warn(\n",
      "\u001b[2m\u001b[36m(launch_and_fit pid=19342)\u001b[0m /home/hlpc/anaconda3/envs/openmined/lib/python3.8/site-packages/opacus/privacy_engine.py:142: UserWarning: Secure RNG turned off. This is perfectly fine for experimentation as it allows for much faster training performance, but remember to turn it on and retrain one last time before production with ``secure_mode`` turned on.\n",
      "\u001b[2m\u001b[36m(launch_and_fit pid=19342)\u001b[0m   warnings.warn(\n"
     ]
    },
    {
     "name": "stdout",
     "output_type": "stream",
     "text": [
      "\u001b[2m\u001b[36m(launch_and_fit pid=19342)\u001b[0m \tTrain Epoch: 5 \tLoss: 0.452490 Acc@1: 3.250000\n",
      "\u001b[2m\u001b[36m(launch_and_fit pid=19342)\u001b[0m \tTrain Epoch: 5 \tLoss: 0.457211 Acc@1: 2.954545\n",
      "\u001b[2m\u001b[36m(launch_and_fit pid=19342)\u001b[0m epsilon of client 0 : eps = 0\n",
      "\u001b[2m\u001b[36m(launch_and_evaluate pid=19342)\u001b[0m [Client 1] evaluate, config: {}\n",
      "\u001b[2m\u001b[36m(launch_and_evaluate pid=19339)\u001b[0m [Client 0] evaluate, config: {}\n",
      "\u001b[2m\u001b[36m(launch_and_fit pid=19342)\u001b[0m [Client 1] fit, config: {}\n",
      "\u001b[2m\u001b[36m(launch_and_fit pid=19342)\u001b[0m \tTrain Epoch: 0 \tLoss: 0.451384 Acc@1: 0.000000\n",
      "\u001b[2m\u001b[36m(launch_and_fit pid=19342)\u001b[0m \tTrain Epoch: 0 \tLoss: 0.478627 Acc@1: 0.000000\n",
      "\u001b[2m\u001b[36m(launch_and_fit pid=19339)\u001b[0m [Client 0] fit, config: {}\n",
      "\u001b[2m\u001b[36m(launch_and_fit pid=19339)\u001b[0m \tTrain Epoch: 0 \tLoss: 0.490498 Acc@1: 0.000000\n",
      "\u001b[2m\u001b[36m(launch_and_fit pid=19342)\u001b[0m \tTrain Epoch: 0 \tLoss: 0.497197 Acc@1: 0.000000\n",
      "\u001b[2m\u001b[36m(launch_and_fit pid=19342)\u001b[0m \tTrain Epoch: 0 \tLoss: 0.511354 Acc@1: 0.000000\n",
      "\u001b[2m\u001b[36m(launch_and_fit pid=19342)\u001b[0m \tTrain Epoch: 0 \tLoss: 0.507813 Acc@1: 0.000000\n",
      "\u001b[2m\u001b[36m(launch_and_fit pid=19342)\u001b[0m \tTrain Epoch: 0 \tLoss: 0.514357 Acc@1: 0.000000\n",
      "\u001b[2m\u001b[36m(launch_and_fit pid=19342)\u001b[0m \tTrain Epoch: 0 \tLoss: 0.512250 Acc@1: 0.000000\n",
      "\u001b[2m\u001b[36m(launch_and_fit pid=19342)\u001b[0m \tTrain Epoch: 0 \tLoss: 0.513217 Acc@1: 0.000000\n",
      "\u001b[2m\u001b[36m(launch_and_fit pid=19339)\u001b[0m \tTrain Epoch: 0 \tLoss: 0.473536 Acc@1: 4.218750\n",
      "\u001b[2m\u001b[36m(launch_and_fit pid=19339)\u001b[0m \tTrain Epoch: 0 \tLoss: 0.483086 Acc@1: 5.104167\n",
      "\u001b[2m\u001b[36m(launch_and_fit pid=19339)\u001b[0m \tTrain Epoch: 0 \tLoss: 0.468339 Acc@1: 3.828125\n",
      "\u001b[2m\u001b[36m(launch_and_fit pid=19339)\u001b[0m \tTrain Epoch: 0 \tLoss: 0.460030 Acc@1: 4.875000\n",
      "\u001b[2m\u001b[36m(launch_and_fit pid=19339)\u001b[0m \tTrain Epoch: 0 \tLoss: 0.456004 Acc@1: 4.062500\n",
      "\u001b[2m\u001b[36m(launch_and_fit pid=19339)\u001b[0m \tTrain Epoch: 0 \tLoss: 0.449111 Acc@1: 3.482143\n",
      "\u001b[2m\u001b[36m(launch_and_fit pid=19342)\u001b[0m \tTrain Epoch: 1 \tLoss: 0.450629 Acc@1: 0.000000\n",
      "\u001b[2m\u001b[36m(launch_and_fit pid=19342)\u001b[0m \tTrain Epoch: 1 \tLoss: 0.478039 Acc@1: 0.000000\n",
      "\u001b[2m\u001b[36m(launch_and_fit pid=19342)\u001b[0m \tTrain Epoch: 1 \tLoss: 0.496696 Acc@1: 0.000000\n",
      "\u001b[2m\u001b[36m(launch_and_fit pid=19342)\u001b[0m \tTrain Epoch: 1 \tLoss: 0.510930 Acc@1: 0.000000\n",
      "\u001b[2m\u001b[36m(launch_and_fit pid=19342)\u001b[0m \tTrain Epoch: 1 \tLoss: 0.507393 Acc@1: 0.000000\n",
      "\u001b[2m\u001b[36m(launch_and_fit pid=19342)\u001b[0m \tTrain Epoch: 1 \tLoss: 0.513937 Acc@1: 0.000000\n",
      "\u001b[2m\u001b[36m(launch_and_fit pid=19339)\u001b[0m \tTrain Epoch: 0 \tLoss: 0.450344 Acc@1: 3.046875\n",
      "\u001b[2m\u001b[36m(launch_and_fit pid=19339)\u001b[0m \tTrain Epoch: 0 \tLoss: 0.447906 Acc@1: 3.611111\n",
      "\u001b[2m\u001b[36m(launch_and_fit pid=19339)\u001b[0m \tTrain Epoch: 0 \tLoss: 0.452928 Acc@1: 3.250000\n",
      "\u001b[2m\u001b[36m(launch_and_fit pid=19339)\u001b[0m \tTrain Epoch: 0 \tLoss: 0.457613 Acc@1: 2.954545\n",
      "\u001b[2m\u001b[36m(launch_and_fit pid=19339)\u001b[0m \tTrain Epoch: 1 \tLoss: 0.489197 Acc@1: 0.000000\n",
      "\u001b[2m\u001b[36m(launch_and_fit pid=19342)\u001b[0m \tTrain Epoch: 1 \tLoss: 0.511818 Acc@1: 0.000000\n",
      "\u001b[2m\u001b[36m(launch_and_fit pid=19342)\u001b[0m \tTrain Epoch: 1 \tLoss: 0.512794 Acc@1: 0.000000\n",
      "\u001b[2m\u001b[36m(launch_and_fit pid=19342)\u001b[0m \tTrain Epoch: 2 \tLoss: 0.449961 Acc@1: 0.000000\n",
      "\u001b[2m\u001b[36m(launch_and_fit pid=19342)\u001b[0m \tTrain Epoch: 2 \tLoss: 0.477524 Acc@1: 0.000000\n",
      "\u001b[2m\u001b[36m(launch_and_fit pid=19339)\u001b[0m \tTrain Epoch: 1 \tLoss: 0.472780 Acc@1: 4.218750\n",
      "\u001b[2m\u001b[36m(launch_and_fit pid=19339)\u001b[0m \tTrain Epoch: 1 \tLoss: 0.482419 Acc@1: 5.104167\n",
      "\u001b[2m\u001b[36m(launch_and_fit pid=19339)\u001b[0m \tTrain Epoch: 1 \tLoss: 0.467854 Acc@1: 3.828125\n",
      "\u001b[2m\u001b[36m(launch_and_fit pid=19339)\u001b[0m \tTrain Epoch: 1 \tLoss: 0.459626 Acc@1: 4.875000\n",
      "\u001b[2m\u001b[36m(launch_and_fit pid=19339)\u001b[0m \tTrain Epoch: 1 \tLoss: 0.455628 Acc@1: 4.062500\n",
      "\u001b[2m\u001b[36m(launch_and_fit pid=19342)\u001b[0m \tTrain Epoch: 2 \tLoss: 0.496239 Acc@1: 0.000000\n",
      "\u001b[2m\u001b[36m(launch_and_fit pid=19342)\u001b[0m \tTrain Epoch: 2 \tLoss: 0.510538 Acc@1: 0.000000\n",
      "\u001b[2m\u001b[36m(launch_and_fit pid=19342)\u001b[0m \tTrain Epoch: 2 \tLoss: 0.507004 Acc@1: 0.000000\n",
      "\u001b[2m\u001b[36m(launch_and_fit pid=19342)\u001b[0m \tTrain Epoch: 2 \tLoss: 0.513539 Acc@1: 0.000000\n",
      "\u001b[2m\u001b[36m(launch_and_fit pid=19342)\u001b[0m \tTrain Epoch: 2 \tLoss: 0.511407 Acc@1: 0.000000\n",
      "\u001b[2m\u001b[36m(launch_and_fit pid=19342)\u001b[0m \tTrain Epoch: 2 \tLoss: 0.512388 Acc@1: 0.000000\n",
      "\u001b[2m\u001b[36m(launch_and_fit pid=19342)\u001b[0m \tTrain Epoch: 3 \tLoss: 0.449351 Acc@1: 0.000000\n",
      "\u001b[2m\u001b[36m(launch_and_fit pid=19339)\u001b[0m \tTrain Epoch: 1 \tLoss: 0.448795 Acc@1: 3.482143\n",
      "\u001b[2m\u001b[36m(launch_and_fit pid=19339)\u001b[0m \tTrain Epoch: 1 \tLoss: 0.450047 Acc@1: 3.046875\n",
      "\u001b[2m\u001b[36m(launch_and_fit pid=19339)\u001b[0m \tTrain Epoch: 1 \tLoss: 0.447637 Acc@1: 3.611111\n",
      "\u001b[2m\u001b[36m(launch_and_fit pid=19339)\u001b[0m \tTrain Epoch: 1 \tLoss: 0.452615 Acc@1: 3.250000\n",
      "\u001b[2m\u001b[36m(launch_and_fit pid=19339)\u001b[0m \tTrain Epoch: 1 \tLoss: 0.457290 Acc@1: 2.954545\n",
      "\u001b[2m\u001b[36m(launch_and_fit pid=19342)\u001b[0m \tTrain Epoch: 3 \tLoss: 0.477037 Acc@1: 0.000000\n",
      "\u001b[2m\u001b[36m(launch_and_fit pid=19342)\u001b[0m \tTrain Epoch: 3 \tLoss: 0.495797 Acc@1: 0.000000\n",
      "\u001b[2m\u001b[36m(launch_and_fit pid=19342)\u001b[0m \tTrain Epoch: 3 \tLoss: 0.510153 Acc@1: 0.000000\n",
      "\u001b[2m\u001b[36m(launch_and_fit pid=19342)\u001b[0m \tTrain Epoch: 3 \tLoss: 0.506625 Acc@1: 0.000000\n",
      "\u001b[2m\u001b[36m(launch_and_fit pid=19342)\u001b[0m \tTrain Epoch: 3 \tLoss: 0.513147 Acc@1: 0.000000\n",
      "\u001b[2m\u001b[36m(launch_and_fit pid=19342)\u001b[0m \tTrain Epoch: 3 \tLoss: 0.511006 Acc@1: 0.000000\n",
      "\u001b[2m\u001b[36m(launch_and_fit pid=19339)\u001b[0m \tTrain Epoch: 2 \tLoss: 0.488250 Acc@1: 0.000000\n",
      "\u001b[2m\u001b[36m(launch_and_fit pid=19339)\u001b[0m \tTrain Epoch: 2 \tLoss: 0.472225 Acc@1: 4.218750\n",
      "\u001b[2m\u001b[36m(launch_and_fit pid=19339)\u001b[0m \tTrain Epoch: 2 \tLoss: 0.481945 Acc@1: 5.104167\n",
      "\u001b[2m\u001b[36m(launch_and_fit pid=19339)\u001b[0m \tTrain Epoch: 2 \tLoss: 0.467499 Acc@1: 3.828125\n",
      "\u001b[2m\u001b[36m(launch_and_fit pid=19339)\u001b[0m \tTrain Epoch: 2 \tLoss: 0.459320 Acc@1: 4.875000\n",
      "\u001b[2m\u001b[36m(launch_and_fit pid=19342)\u001b[0m \tTrain Epoch: 3 \tLoss: 0.511992 Acc@1: 0.000000\n",
      "\u001b[2m\u001b[36m(launch_and_fit pid=19342)\u001b[0m \tTrain Epoch: 4 \tLoss: 0.448834 Acc@1: 0.000000\n",
      "\u001b[2m\u001b[36m(launch_and_fit pid=19342)\u001b[0m \tTrain Epoch: 4 \tLoss: 0.476605 Acc@1: 0.000000\n",
      "\u001b[2m\u001b[36m(launch_and_fit pid=19342)\u001b[0m \tTrain Epoch: 4 \tLoss: 0.495403 Acc@1: 0.000000\n",
      "\u001b[2m\u001b[36m(launch_and_fit pid=19342)\u001b[0m \tTrain Epoch: 4 \tLoss: 0.509805 Acc@1: 0.000000\n",
      "\u001b[2m\u001b[36m(launch_and_fit pid=19342)\u001b[0m \tTrain Epoch: 4 \tLoss: 0.506281 Acc@1: 0.000000\n",
      "\u001b[2m\u001b[36m(launch_and_fit pid=19339)\u001b[0m \tTrain Epoch: 2 \tLoss: 0.455333 Acc@1: 4.062500\n",
      "\u001b[2m\u001b[36m(launch_and_fit pid=19339)\u001b[0m \tTrain Epoch: 2 \tLoss: 0.448536 Acc@1: 3.482143\n",
      "\u001b[2m\u001b[36m(launch_and_fit pid=19339)\u001b[0m \tTrain Epoch: 2 \tLoss: 0.449801 Acc@1: 3.046875\n",
      "\u001b[2m\u001b[36m(launch_and_fit pid=19339)\u001b[0m \tTrain Epoch: 2 \tLoss: 0.447408 Acc@1: 3.611111\n",
      "\u001b[2m\u001b[36m(launch_and_fit pid=19342)\u001b[0m \tTrain Epoch: 4 \tLoss: 0.512785 Acc@1: 0.000000\n",
      "\u001b[2m\u001b[36m(launch_and_fit pid=19342)\u001b[0m \tTrain Epoch: 4 \tLoss: 0.510635 Acc@1: 0.000000\n",
      "\u001b[2m\u001b[36m(launch_and_fit pid=19342)\u001b[0m \tTrain Epoch: 4 \tLoss: 0.511627 Acc@1: 0.000000\n",
      "\u001b[2m\u001b[36m(launch_and_fit pid=19342)\u001b[0m \tTrain Epoch: 5 \tLoss: 0.448363 Acc@1: 0.000000\n",
      "\u001b[2m\u001b[36m(launch_and_fit pid=19342)\u001b[0m \tTrain Epoch: 5 \tLoss: 0.476219 Acc@1: 0.000000\n",
      "\u001b[2m\u001b[36m(launch_and_fit pid=19339)\u001b[0m \tTrain Epoch: 2 \tLoss: 0.452361 Acc@1: 3.250000\n",
      "\u001b[2m\u001b[36m(launch_and_fit pid=19339)\u001b[0m \tTrain Epoch: 2 \tLoss: 0.457032 Acc@1: 2.954545\n",
      "\u001b[2m\u001b[36m(launch_and_fit pid=19339)\u001b[0m \tTrain Epoch: 3 \tLoss: 0.487545 Acc@1: 0.000000\n",
      "\u001b[2m\u001b[36m(launch_and_fit pid=19339)\u001b[0m \tTrain Epoch: 3 \tLoss: 0.471814 Acc@1: 4.218750\n",
      "\u001b[2m\u001b[36m(launch_and_fit pid=19339)\u001b[0m \tTrain Epoch: 3 \tLoss: 0.481609 Acc@1: 5.104167\n",
      "\u001b[2m\u001b[36m(launch_and_fit pid=19342)\u001b[0m \tTrain Epoch: 5 \tLoss: 0.495050 Acc@1: 0.000000\n",
      "\u001b[2m\u001b[36m(launch_and_fit pid=19342)\u001b[0m \tTrain Epoch: 5 \tLoss: 0.509485 Acc@1: 0.000000\n",
      "\u001b[2m\u001b[36m(launch_and_fit pid=19342)\u001b[0m \tTrain Epoch: 5 \tLoss: 0.505960 Acc@1: 0.000000\n",
      "\u001b[2m\u001b[36m(launch_and_fit pid=19342)\u001b[0m \tTrain Epoch: 5 \tLoss: 0.512442 Acc@1: 0.000000\n",
      "\u001b[2m\u001b[36m(launch_and_fit pid=19342)\u001b[0m \tTrain Epoch: 5 \tLoss: 0.510284 Acc@1: 0.000000\n",
      "\u001b[2m\u001b[36m(launch_and_fit pid=19339)\u001b[0m \tTrain Epoch: 3 \tLoss: 0.467239 Acc@1: 3.828125\n",
      "\u001b[2m\u001b[36m(launch_and_fit pid=19339)\u001b[0m \tTrain Epoch: 3 \tLoss: 0.459087 Acc@1: 4.875000\n",
      "\u001b[2m\u001b[36m(launch_and_fit pid=19339)\u001b[0m \tTrain Epoch: 3 \tLoss: 0.455106 Acc@1: 4.062500\n",
      "\u001b[2m\u001b[36m(launch_and_fit pid=19339)\u001b[0m \tTrain Epoch: 3 \tLoss: 0.448328 Acc@1: 3.482143\n",
      "\u001b[2m\u001b[36m(launch_and_fit pid=19339)\u001b[0m \tTrain Epoch: 3 \tLoss: 0.449601 Acc@1: 3.046875\n"
     ]
    },
    {
     "name": "stderr",
     "output_type": "stream",
     "text": [
      "DEBUG flwr 2023-08-12 05:58:32,250 | server.py:229 | fit_round 6 received 2 results and 0 failures\n",
      "08/12/2023 05:58:32:DEBUG:fit_round 6 received 2 results and 0 failures\n"
     ]
    },
    {
     "name": "stdout",
     "output_type": "stream",
     "text": [
      "\u001b[2m\u001b[36m(launch_and_fit pid=19342)\u001b[0m \tTrain Epoch: 5 \tLoss: 0.511278 Acc@1: 0.000000\n",
      "\u001b[2m\u001b[36m(launch_and_fit pid=19342)\u001b[0m epsilon of client 1 : eps = 0\n",
      "\u001b[2m\u001b[36m(launch_and_fit pid=19339)\u001b[0m \tTrain Epoch: 3 \tLoss: 0.447217 Acc@1: 3.611111\n",
      "\u001b[2m\u001b[36m(launch_and_fit pid=19339)\u001b[0m \tTrain Epoch: 3 \tLoss: 0.452155 Acc@1: 3.250000\n",
      "\u001b[2m\u001b[36m(launch_and_fit pid=19339)\u001b[0m \tTrain Epoch: 3 \tLoss: 0.456826 Acc@1: 2.954545\n",
      "\u001b[2m\u001b[36m(launch_and_fit pid=19339)\u001b[0m \tTrain Epoch: 4 \tLoss: 0.487054 Acc@1: 0.000000\n",
      "\u001b[2m\u001b[36m(launch_and_fit pid=19339)\u001b[0m \tTrain Epoch: 4 \tLoss: 0.471519 Acc@1: 4.218750\n",
      "\u001b[2m\u001b[36m(launch_and_fit pid=19339)\u001b[0m \tTrain Epoch: 4 \tLoss: 0.481372 Acc@1: 5.104167\n",
      "\u001b[2m\u001b[36m(launch_and_fit pid=19339)\u001b[0m \tTrain Epoch: 4 \tLoss: 0.467043 Acc@1: 3.828125\n",
      "\u001b[2m\u001b[36m(launch_and_fit pid=19339)\u001b[0m \tTrain Epoch: 4 \tLoss: 0.458906 Acc@1: 4.875000\n",
      "\u001b[2m\u001b[36m(launch_and_fit pid=19339)\u001b[0m \tTrain Epoch: 4 \tLoss: 0.454924 Acc@1: 4.062500\n",
      "\u001b[2m\u001b[36m(launch_and_fit pid=19339)\u001b[0m \tTrain Epoch: 4 \tLoss: 0.448154 Acc@1: 3.482143\n",
      "\u001b[2m\u001b[36m(launch_and_fit pid=19339)\u001b[0m \tTrain Epoch: 4 \tLoss: 0.449434 Acc@1: 3.046875\n",
      "\u001b[2m\u001b[36m(launch_and_fit pid=19339)\u001b[0m \tTrain Epoch: 4 \tLoss: 0.447054 Acc@1: 3.611111\n",
      "\u001b[2m\u001b[36m(launch_and_fit pid=19339)\u001b[0m \tTrain Epoch: 4 \tLoss: 0.451982 Acc@1: 3.250000\n",
      "\u001b[2m\u001b[36m(launch_and_fit pid=19339)\u001b[0m \tTrain Epoch: 4 \tLoss: 0.456656 Acc@1: 2.954545\n",
      "\u001b[2m\u001b[36m(launch_and_fit pid=19339)\u001b[0m \tTrain Epoch: 5 \tLoss: 0.486707 Acc@1: 0.000000\n",
      "\u001b[2m\u001b[36m(launch_and_fit pid=19339)\u001b[0m \tTrain Epoch: 5 \tLoss: 0.471296 Acc@1: 4.218750\n"
     ]
    },
    {
     "name": "stderr",
     "output_type": "stream",
     "text": [
      "INFO flwr 2023-08-12 05:58:32,282 | server.py:116 | fit progress: (6, 0.0167922142455332, {'accuracy': 0.7991071428571429}, 12.048729472007835)\n",
      "08/12/2023 05:58:32:INFO:fit progress: (6, 0.0167922142455332, {'accuracy': 0.7991071428571429}, 12.048729472007835)\n",
      "DEBUG flwr 2023-08-12 05:58:32,284 | server.py:165 | evaluate_round 6: strategy sampled 2 clients (out of 2)\n",
      "08/12/2023 05:58:32:DEBUG:evaluate_round 6: strategy sampled 2 clients (out of 2)\n",
      "DEBUG flwr 2023-08-12 05:58:32,346 | server.py:179 | evaluate_round 6 received 2 results and 0 failures\n",
      "08/12/2023 05:58:32:DEBUG:evaluate_round 6 received 2 results and 0 failures\n",
      "DEBUG flwr 2023-08-12 05:58:32,347 | server.py:215 | fit_round 7: strategy sampled 2 clients (out of 2)\n",
      "08/12/2023 05:58:32:DEBUG:fit_round 7: strategy sampled 2 clients (out of 2)\n"
     ]
    },
    {
     "name": "stdout",
     "output_type": "stream",
     "text": [
      "\u001b[2m\u001b[36m(launch_and_fit pid=19339)\u001b[0m \tTrain Epoch: 5 \tLoss: 0.481198 Acc@1: 5.104167\n",
      "\u001b[2m\u001b[36m(launch_and_fit pid=19339)\u001b[0m \tTrain Epoch: 5 \tLoss: 0.466891 Acc@1: 3.828125\n",
      "\u001b[2m\u001b[36m(launch_and_fit pid=19339)\u001b[0m \tTrain Epoch: 5 \tLoss: 0.458759 Acc@1: 4.875000\n",
      "\u001b[2m\u001b[36m(launch_and_fit pid=19339)\u001b[0m \tTrain Epoch: 5 \tLoss: 0.454768 Acc@1: 4.062500\n",
      "\u001b[2m\u001b[36m(launch_and_fit pid=19339)\u001b[0m \tTrain Epoch: 5 \tLoss: 0.448001 Acc@1: 3.482143\n",
      "\u001b[2m\u001b[36m(launch_and_fit pid=19339)\u001b[0m \tTrain Epoch: 5 \tLoss: 0.449284 Acc@1: 3.046875\n",
      "\u001b[2m\u001b[36m(launch_and_fit pid=19339)\u001b[0m \tTrain Epoch: 5 \tLoss: 0.446908 Acc@1: 3.611111\n",
      "\u001b[2m\u001b[36m(launch_and_fit pid=19339)\u001b[0m \tTrain Epoch: 5 \tLoss: 0.451828 Acc@1: 3.250000\n",
      "\u001b[2m\u001b[36m(launch_and_fit pid=19339)\u001b[0m \tTrain Epoch: 5 \tLoss: 0.456505 Acc@1: 2.954545\n",
      "\u001b[2m\u001b[36m(launch_and_fit pid=19339)\u001b[0m epsilon of client 0 : eps = 0\n",
      "Server-side evaluation loss 0.0167922142455332 / accuracy 0.7991071428571429\n",
      "\u001b[2m\u001b[36m(launch_and_evaluate pid=19342)\u001b[0m [Client 1] evaluate, config: {}\n",
      "\u001b[2m\u001b[36m(launch_and_evaluate pid=19339)\u001b[0m [Client 0] evaluate, config: {}\n"
     ]
    },
    {
     "name": "stderr",
     "output_type": "stream",
     "text": [
      "\u001b[2m\u001b[36m(launch_and_fit pid=19339)\u001b[0m /home/hlpc/anaconda3/envs/openmined/lib/python3.8/site-packages/opacus/privacy_engine.py:142: UserWarning: Secure RNG turned off. This is perfectly fine for experimentation as it allows for much faster training performance, but remember to turn it on and retrain one last time before production with ``secure_mode`` turned on.\n",
      "\u001b[2m\u001b[36m(launch_and_fit pid=19339)\u001b[0m   warnings.warn(\n",
      "\u001b[2m\u001b[36m(launch_and_fit pid=19342)\u001b[0m /home/hlpc/anaconda3/envs/openmined/lib/python3.8/site-packages/opacus/privacy_engine.py:142: UserWarning: Secure RNG turned off. This is perfectly fine for experimentation as it allows for much faster training performance, but remember to turn it on and retrain one last time before production with ``secure_mode`` turned on.\n",
      "\u001b[2m\u001b[36m(launch_and_fit pid=19342)\u001b[0m   warnings.warn(\n"
     ]
    },
    {
     "name": "stdout",
     "output_type": "stream",
     "text": [
      "\u001b[2m\u001b[36m(launch_and_fit pid=19342)\u001b[0m [Client 0] fit, config: {}\n",
      "\u001b[2m\u001b[36m(launch_and_fit pid=19342)\u001b[0m \tTrain Epoch: 0 \tLoss: 0.489008 Acc@1: 0.000000\n",
      "\u001b[2m\u001b[36m(launch_and_fit pid=19342)\u001b[0m \tTrain Epoch: 0 \tLoss: 0.472522 Acc@1: 4.218750\n",
      "\u001b[2m\u001b[36m(launch_and_fit pid=19342)\u001b[0m \tTrain Epoch: 0 \tLoss: 0.482313 Acc@1: 5.104167\n",
      "\u001b[2m\u001b[36m(launch_and_fit pid=19342)\u001b[0m \tTrain Epoch: 0 \tLoss: 0.467616 Acc@1: 3.828125\n",
      "\u001b[2m\u001b[36m(launch_and_fit pid=19339)\u001b[0m [Client 1] fit, config: {}\n",
      "\u001b[2m\u001b[36m(launch_and_fit pid=19339)\u001b[0m \tTrain Epoch: 0 \tLoss: 0.450573 Acc@1: 0.000000\n",
      "\u001b[2m\u001b[36m(launch_and_fit pid=19339)\u001b[0m \tTrain Epoch: 0 \tLoss: 0.477850 Acc@1: 0.000000\n",
      "\u001b[2m\u001b[36m(launch_and_fit pid=19339)\u001b[0m \tTrain Epoch: 0 \tLoss: 0.496184 Acc@1: 0.000000\n",
      "\u001b[2m\u001b[36m(launch_and_fit pid=19339)\u001b[0m \tTrain Epoch: 0 \tLoss: 0.510338 Acc@1: 0.000000\n",
      "\u001b[2m\u001b[36m(launch_and_fit pid=19342)\u001b[0m \tTrain Epoch: 0 \tLoss: 0.459351 Acc@1: 4.875000\n",
      "\u001b[2m\u001b[36m(launch_and_fit pid=19342)\u001b[0m \tTrain Epoch: 0 \tLoss: 0.455276 Acc@1: 4.062500\n",
      "\u001b[2m\u001b[36m(launch_and_fit pid=19342)\u001b[0m \tTrain Epoch: 0 \tLoss: 0.448343 Acc@1: 3.482143\n",
      "\u001b[2m\u001b[36m(launch_and_fit pid=19342)\u001b[0m \tTrain Epoch: 0 \tLoss: 0.449590 Acc@1: 3.046875\n",
      "\u001b[2m\u001b[36m(launch_and_fit pid=19342)\u001b[0m \tTrain Epoch: 0 \tLoss: 0.447159 Acc@1: 3.611111\n",
      "\u001b[2m\u001b[36m(launch_and_fit pid=19339)\u001b[0m \tTrain Epoch: 0 \tLoss: 0.506806 Acc@1: 0.000000\n",
      "\u001b[2m\u001b[36m(launch_and_fit pid=19339)\u001b[0m \tTrain Epoch: 0 \tLoss: 0.513347 Acc@1: 0.000000\n",
      "\u001b[2m\u001b[36m(launch_and_fit pid=19339)\u001b[0m \tTrain Epoch: 0 \tLoss: 0.511178 Acc@1: 0.000000\n",
      "\u001b[2m\u001b[36m(launch_and_fit pid=19339)\u001b[0m \tTrain Epoch: 0 \tLoss: 0.512105 Acc@1: 0.000000\n",
      "\u001b[2m\u001b[36m(launch_and_fit pid=19339)\u001b[0m \tTrain Epoch: 1 \tLoss: 0.449839 Acc@1: 0.000000\n",
      "\u001b[2m\u001b[36m(launch_and_fit pid=19339)\u001b[0m \tTrain Epoch: 1 \tLoss: 0.477285 Acc@1: 0.000000\n",
      "\u001b[2m\u001b[36m(launch_and_fit pid=19339)\u001b[0m \tTrain Epoch: 1 \tLoss: 0.495688 Acc@1: 0.000000\n",
      "\u001b[2m\u001b[36m(launch_and_fit pid=19342)\u001b[0m \tTrain Epoch: 0 \tLoss: 0.452157 Acc@1: 3.250000\n",
      "\u001b[2m\u001b[36m(launch_and_fit pid=19342)\u001b[0m \tTrain Epoch: 0 \tLoss: 0.456801 Acc@1: 2.954545\n",
      "\u001b[2m\u001b[36m(launch_and_fit pid=19342)\u001b[0m \tTrain Epoch: 1 \tLoss: 0.487811 Acc@1: 0.000000\n",
      "\u001b[2m\u001b[36m(launch_and_fit pid=19342)\u001b[0m \tTrain Epoch: 1 \tLoss: 0.471823 Acc@1: 4.218750\n",
      "\u001b[2m\u001b[36m(launch_and_fit pid=19342)\u001b[0m \tTrain Epoch: 1 \tLoss: 0.481676 Acc@1: 5.104167\n",
      "\u001b[2m\u001b[36m(launch_and_fit pid=19339)\u001b[0m \tTrain Epoch: 1 \tLoss: 0.509921 Acc@1: 0.000000\n",
      "\u001b[2m\u001b[36m(launch_and_fit pid=19339)\u001b[0m \tTrain Epoch: 1 \tLoss: 0.506394 Acc@1: 0.000000\n",
      "\u001b[2m\u001b[36m(launch_and_fit pid=19339)\u001b[0m \tTrain Epoch: 1 \tLoss: 0.512933 Acc@1: 0.000000\n",
      "\u001b[2m\u001b[36m(launch_and_fit pid=19339)\u001b[0m \tTrain Epoch: 1 \tLoss: 0.510749 Acc@1: 0.000000\n",
      "\u001b[2m\u001b[36m(launch_and_fit pid=19339)\u001b[0m \tTrain Epoch: 1 \tLoss: 0.511682 Acc@1: 0.000000\n",
      "\u001b[2m\u001b[36m(launch_and_fit pid=19339)\u001b[0m \tTrain Epoch: 2 \tLoss: 0.449188 Acc@1: 0.000000\n",
      "\u001b[2m\u001b[36m(launch_and_fit pid=19342)\u001b[0m \tTrain Epoch: 1 \tLoss: 0.467146 Acc@1: 3.828125\n",
      "\u001b[2m\u001b[36m(launch_and_fit pid=19342)\u001b[0m \tTrain Epoch: 1 \tLoss: 0.458958 Acc@1: 4.875000\n",
      "\u001b[2m\u001b[36m(launch_and_fit pid=19342)\u001b[0m \tTrain Epoch: 1 \tLoss: 0.454922 Acc@1: 4.062500\n",
      "\u001b[2m\u001b[36m(launch_and_fit pid=19342)\u001b[0m \tTrain Epoch: 1 \tLoss: 0.448060 Acc@1: 3.482143\n",
      "\u001b[2m\u001b[36m(launch_and_fit pid=19342)\u001b[0m \tTrain Epoch: 1 \tLoss: 0.449319 Acc@1: 3.046875\n",
      "\u001b[2m\u001b[36m(launch_and_fit pid=19342)\u001b[0m \tTrain Epoch: 1 \tLoss: 0.446917 Acc@1: 3.611111\n",
      "\u001b[2m\u001b[36m(launch_and_fit pid=19339)\u001b[0m \tTrain Epoch: 2 \tLoss: 0.476769 Acc@1: 0.000000\n",
      "\u001b[2m\u001b[36m(launch_and_fit pid=19339)\u001b[0m \tTrain Epoch: 2 \tLoss: 0.495231 Acc@1: 0.000000\n",
      "\u001b[2m\u001b[36m(launch_and_fit pid=19339)\u001b[0m \tTrain Epoch: 2 \tLoss: 0.509532 Acc@1: 0.000000\n",
      "\u001b[2m\u001b[36m(launch_and_fit pid=19339)\u001b[0m \tTrain Epoch: 2 \tLoss: 0.506011 Acc@1: 0.000000\n",
      "\u001b[2m\u001b[36m(launch_and_fit pid=19339)\u001b[0m \tTrain Epoch: 2 \tLoss: 0.512541 Acc@1: 0.000000\n",
      "\u001b[2m\u001b[36m(launch_and_fit pid=19339)\u001b[0m \tTrain Epoch: 2 \tLoss: 0.510348 Acc@1: 0.000000\n",
      "\u001b[2m\u001b[36m(launch_and_fit pid=19339)\u001b[0m \tTrain Epoch: 2 \tLoss: 0.511288 Acc@1: 0.000000\n",
      "\u001b[2m\u001b[36m(launch_and_fit pid=19342)\u001b[0m \tTrain Epoch: 1 \tLoss: 0.451874 Acc@1: 3.250000\n",
      "\u001b[2m\u001b[36m(launch_and_fit pid=19342)\u001b[0m \tTrain Epoch: 1 \tLoss: 0.456508 Acc@1: 2.954545\n",
      "\u001b[2m\u001b[36m(launch_and_fit pid=19342)\u001b[0m \tTrain Epoch: 2 \tLoss: 0.487002 Acc@1: 0.000000\n",
      "\u001b[2m\u001b[36m(launch_and_fit pid=19342)\u001b[0m \tTrain Epoch: 2 \tLoss: 0.471355 Acc@1: 4.218750\n",
      "\u001b[2m\u001b[36m(launch_and_fit pid=19342)\u001b[0m \tTrain Epoch: 2 \tLoss: 0.481260 Acc@1: 5.104167\n",
      "\u001b[2m\u001b[36m(launch_and_fit pid=19342)\u001b[0m \tTrain Epoch: 2 \tLoss: 0.466832 Acc@1: 3.828125\n",
      "\u001b[2m\u001b[36m(launch_and_fit pid=19339)\u001b[0m \tTrain Epoch: 3 \tLoss: 0.448644 Acc@1: 0.000000\n",
      "\u001b[2m\u001b[36m(launch_and_fit pid=19339)\u001b[0m \tTrain Epoch: 3 \tLoss: 0.476334 Acc@1: 0.000000\n",
      "\u001b[2m\u001b[36m(launch_and_fit pid=19339)\u001b[0m \tTrain Epoch: 3 \tLoss: 0.494842 Acc@1: 0.000000\n",
      "\u001b[2m\u001b[36m(launch_and_fit pid=19339)\u001b[0m \tTrain Epoch: 3 \tLoss: 0.509191 Acc@1: 0.000000\n",
      "\u001b[2m\u001b[36m(launch_and_fit pid=19339)\u001b[0m \tTrain Epoch: 3 \tLoss: 0.505670 Acc@1: 0.000000\n",
      "\u001b[2m\u001b[36m(launch_and_fit pid=19339)\u001b[0m \tTrain Epoch: 3 \tLoss: 0.512187 Acc@1: 0.000000\n",
      "\u001b[2m\u001b[36m(launch_and_fit pid=19342)\u001b[0m \tTrain Epoch: 2 \tLoss: 0.458689 Acc@1: 4.875000\n",
      "\u001b[2m\u001b[36m(launch_and_fit pid=19342)\u001b[0m \tTrain Epoch: 2 \tLoss: 0.454675 Acc@1: 4.062500\n",
      "\u001b[2m\u001b[36m(launch_and_fit pid=19342)\u001b[0m \tTrain Epoch: 2 \tLoss: 0.447854 Acc@1: 3.482143\n",
      "\u001b[2m\u001b[36m(launch_and_fit pid=19342)\u001b[0m \tTrain Epoch: 2 \tLoss: 0.449121 Acc@1: 3.046875\n",
      "\u001b[2m\u001b[36m(launch_and_fit pid=19342)\u001b[0m \tTrain Epoch: 2 \tLoss: 0.446737 Acc@1: 3.611111\n",
      "\u001b[2m\u001b[36m(launch_and_fit pid=19342)\u001b[0m \tTrain Epoch: 2 \tLoss: 0.451668 Acc@1: 3.250000\n",
      "\u001b[2m\u001b[36m(launch_and_fit pid=19339)\u001b[0m \tTrain Epoch: 3 \tLoss: 0.509984 Acc@1: 0.000000\n",
      "\u001b[2m\u001b[36m(launch_and_fit pid=19339)\u001b[0m \tTrain Epoch: 3 \tLoss: 0.510925 Acc@1: 0.000000\n",
      "\u001b[2m\u001b[36m(launch_and_fit pid=19339)\u001b[0m \tTrain Epoch: 4 \tLoss: 0.448157 Acc@1: 0.000000\n",
      "\u001b[2m\u001b[36m(launch_and_fit pid=19339)\u001b[0m \tTrain Epoch: 4 \tLoss: 0.475947 Acc@1: 0.000000\n",
      "\u001b[2m\u001b[36m(launch_and_fit pid=19339)\u001b[0m \tTrain Epoch: 4 \tLoss: 0.494482 Acc@1: 0.000000\n",
      "\u001b[2m\u001b[36m(launch_and_fit pid=19339)\u001b[0m \tTrain Epoch: 4 \tLoss: 0.508872 Acc@1: 0.000000\n",
      "\u001b[2m\u001b[36m(launch_and_fit pid=19339)\u001b[0m \tTrain Epoch: 4 \tLoss: 0.505349 Acc@1: 0.000000\n",
      "\u001b[2m\u001b[36m(launch_and_fit pid=19342)\u001b[0m \tTrain Epoch: 2 \tLoss: 0.456299 Acc@1: 2.954545\n",
      "\u001b[2m\u001b[36m(launch_and_fit pid=19342)\u001b[0m \tTrain Epoch: 3 \tLoss: 0.486484 Acc@1: 0.000000\n",
      "\u001b[2m\u001b[36m(launch_and_fit pid=19342)\u001b[0m \tTrain Epoch: 3 \tLoss: 0.471040 Acc@1: 4.218750\n",
      "\u001b[2m\u001b[36m(launch_and_fit pid=19342)\u001b[0m \tTrain Epoch: 3 \tLoss: 0.480987 Acc@1: 5.104167\n",
      "\u001b[2m\u001b[36m(launch_and_fit pid=19342)\u001b[0m \tTrain Epoch: 3 \tLoss: 0.466617 Acc@1: 3.828125\n",
      "\u001b[2m\u001b[36m(launch_and_fit pid=19339)\u001b[0m \tTrain Epoch: 4 \tLoss: 0.511848 Acc@1: 0.000000\n",
      "\u001b[2m\u001b[36m(launch_and_fit pid=19339)\u001b[0m \tTrain Epoch: 4 \tLoss: 0.509633 Acc@1: 0.000000\n",
      "\u001b[2m\u001b[36m(launch_and_fit pid=19339)\u001b[0m \tTrain Epoch: 4 \tLoss: 0.510575 Acc@1: 0.000000\n",
      "\u001b[2m\u001b[36m(launch_and_fit pid=19339)\u001b[0m \tTrain Epoch: 5 \tLoss: 0.447696 Acc@1: 0.000000\n",
      "\u001b[2m\u001b[36m(launch_and_fit pid=19339)\u001b[0m \tTrain Epoch: 5 \tLoss: 0.475573 Acc@1: 0.000000\n",
      "\u001b[2m\u001b[36m(launch_and_fit pid=19339)\u001b[0m \tTrain Epoch: 5 \tLoss: 0.494135 Acc@1: 0.000000\n",
      "\u001b[2m\u001b[36m(launch_and_fit pid=19342)\u001b[0m \tTrain Epoch: 3 \tLoss: 0.458498 Acc@1: 4.875000\n",
      "\u001b[2m\u001b[36m(launch_and_fit pid=19342)\u001b[0m \tTrain Epoch: 3 \tLoss: 0.454488 Acc@1: 4.062500\n",
      "\u001b[2m\u001b[36m(launch_and_fit pid=19342)\u001b[0m \tTrain Epoch: 3 \tLoss: 0.447688 Acc@1: 3.482143\n",
      "\u001b[2m\u001b[36m(launch_and_fit pid=19342)\u001b[0m \tTrain Epoch: 3 \tLoss: 0.448960 Acc@1: 3.046875\n",
      "\u001b[2m\u001b[36m(launch_and_fit pid=19342)\u001b[0m \tTrain Epoch: 3 \tLoss: 0.446585 Acc@1: 3.611111\n",
      "\u001b[2m\u001b[36m(launch_and_fit pid=19339)\u001b[0m \tTrain Epoch: 5 \tLoss: 0.508571 Acc@1: 0.000000\n",
      "\u001b[2m\u001b[36m(launch_and_fit pid=19339)\u001b[0m \tTrain Epoch: 5 \tLoss: 0.505045 Acc@1: 0.000000\n",
      "\u001b[2m\u001b[36m(launch_and_fit pid=19339)\u001b[0m \tTrain Epoch: 5 \tLoss: 0.511527 Acc@1: 0.000000\n",
      "\u001b[2m\u001b[36m(launch_and_fit pid=19342)\u001b[0m \tTrain Epoch: 3 \tLoss: 0.451498 Acc@1: 3.250000\n",
      "\u001b[2m\u001b[36m(launch_and_fit pid=19342)\u001b[0m \tTrain Epoch: 3 \tLoss: 0.456128 Acc@1: 2.954545\n",
      "\u001b[2m\u001b[36m(launch_and_fit pid=19342)\u001b[0m \tTrain Epoch: 4 \tLoss: 0.486066 Acc@1: 0.000000\n",
      "\u001b[2m\u001b[36m(launch_and_fit pid=19342)\u001b[0m \tTrain Epoch: 4 \tLoss: 0.470780 Acc@1: 4.218750\n",
      "\u001b[2m\u001b[36m(launch_and_fit pid=19342)\u001b[0m \tTrain Epoch: 4 \tLoss: 0.480772 Acc@1: 5.104167\n",
      "\u001b[2m\u001b[36m(launch_and_fit pid=19339)\u001b[0m \tTrain Epoch: 5 \tLoss: 0.509300 Acc@1: 0.000000\n",
      "\u001b[2m\u001b[36m(launch_and_fit pid=19339)\u001b[0m \tTrain Epoch: 5 \tLoss: 0.510242 Acc@1: 0.000000\n",
      "\u001b[2m\u001b[36m(launch_and_fit pid=19339)\u001b[0m epsilon of client 1 : eps = 0\n"
     ]
    },
    {
     "name": "stdout",
     "output_type": "stream",
     "text": [
      "\u001b[2m\u001b[36m(launch_and_fit pid=19342)\u001b[0m \tTrain Epoch: 4 \tLoss: 0.466439 Acc@1: 3.828125\n",
      "\u001b[2m\u001b[36m(launch_and_fit pid=19342)\u001b[0m \tTrain Epoch: 4 \tLoss: 0.458333 Acc@1: 4.875000\n",
      "\u001b[2m\u001b[36m(launch_and_fit pid=19342)\u001b[0m \tTrain Epoch: 4 \tLoss: 0.454319 Acc@1: 4.062500\n",
      "\u001b[2m\u001b[36m(launch_and_fit pid=19342)\u001b[0m \tTrain Epoch: 4 \tLoss: 0.447530 Acc@1: 3.482143\n",
      "\u001b[2m\u001b[36m(launch_and_fit pid=19342)\u001b[0m \tTrain Epoch: 4 \tLoss: 0.448806 Acc@1: 3.046875\n",
      "\u001b[2m\u001b[36m(launch_and_fit pid=19342)\u001b[0m \tTrain Epoch: 4 \tLoss: 0.446438 Acc@1: 3.611111\n",
      "\u001b[2m\u001b[36m(launch_and_fit pid=19342)\u001b[0m \tTrain Epoch: 4 \tLoss: 0.451340 Acc@1: 3.250000\n",
      "\u001b[2m\u001b[36m(launch_and_fit pid=19342)\u001b[0m \tTrain Epoch: 4 \tLoss: 0.455971 Acc@1: 2.954545\n",
      "\u001b[2m\u001b[36m(launch_and_fit pid=19342)\u001b[0m \tTrain Epoch: 5 \tLoss: 0.485731 Acc@1: 0.000000\n",
      "\u001b[2m\u001b[36m(launch_and_fit pid=19342)\u001b[0m \tTrain Epoch: 5 \tLoss: 0.470566 Acc@1: 4.218750\n",
      "\u001b[2m\u001b[36m(launch_and_fit pid=19342)\u001b[0m \tTrain Epoch: 5 \tLoss: 0.480600 Acc@1: 5.104167\n",
      "\u001b[2m\u001b[36m(launch_and_fit pid=19342)\u001b[0m \tTrain Epoch: 5 \tLoss: 0.466289 Acc@1: 3.828125\n",
      "\u001b[2m\u001b[36m(launch_and_fit pid=19342)\u001b[0m \tTrain Epoch: 5 \tLoss: 0.458187 Acc@1: 4.875000\n"
     ]
    },
    {
     "name": "stderr",
     "output_type": "stream",
     "text": [
      "DEBUG flwr 2023-08-12 05:58:33,617 | server.py:229 | fit_round 7 received 2 results and 0 failures\n",
      "08/12/2023 05:58:33:DEBUG:fit_round 7 received 2 results and 0 failures\n",
      "INFO flwr 2023-08-12 05:58:33,649 | server.py:116 | fit progress: (7, 0.016743475942017076, {'accuracy': 0.7991071428571429}, 13.415345294983126)\n",
      "08/12/2023 05:58:33:INFO:fit progress: (7, 0.016743475942017076, {'accuracy': 0.7991071428571429}, 13.415345294983126)\n",
      "DEBUG flwr 2023-08-12 05:58:33,651 | server.py:165 | evaluate_round 7: strategy sampled 2 clients (out of 2)\n",
      "08/12/2023 05:58:33:DEBUG:evaluate_round 7: strategy sampled 2 clients (out of 2)\n",
      "DEBUG flwr 2023-08-12 05:58:33,722 | server.py:179 | evaluate_round 7 received 2 results and 0 failures\n",
      "08/12/2023 05:58:33:DEBUG:evaluate_round 7 received 2 results and 0 failures\n",
      "DEBUG flwr 2023-08-12 05:58:33,724 | server.py:215 | fit_round 8: strategy sampled 2 clients (out of 2)\n",
      "08/12/2023 05:58:33:DEBUG:fit_round 8: strategy sampled 2 clients (out of 2)\n"
     ]
    },
    {
     "name": "stdout",
     "output_type": "stream",
     "text": [
      "\u001b[2m\u001b[36m(launch_and_fit pid=19342)\u001b[0m \tTrain Epoch: 5 \tLoss: 0.454165 Acc@1: 4.062500\n",
      "\u001b[2m\u001b[36m(launch_and_fit pid=19342)\u001b[0m \tTrain Epoch: 5 \tLoss: 0.447381 Acc@1: 3.482143\n",
      "\u001b[2m\u001b[36m(launch_and_fit pid=19342)\u001b[0m \tTrain Epoch: 5 \tLoss: 0.448659 Acc@1: 3.046875\n",
      "\u001b[2m\u001b[36m(launch_and_fit pid=19342)\u001b[0m \tTrain Epoch: 5 \tLoss: 0.446298 Acc@1: 3.611111\n",
      "\u001b[2m\u001b[36m(launch_and_fit pid=19342)\u001b[0m \tTrain Epoch: 5 \tLoss: 0.451191 Acc@1: 3.250000\n",
      "\u001b[2m\u001b[36m(launch_and_fit pid=19342)\u001b[0m \tTrain Epoch: 5 \tLoss: 0.455824 Acc@1: 2.954545\n",
      "Server-side evaluation loss 0.016743475942017076 / accuracy 0.7991071428571429\n",
      "\u001b[2m\u001b[36m(launch_and_fit pid=19342)\u001b[0m epsilon of client 0 : eps = 0\n",
      "\u001b[2m\u001b[36m(launch_and_evaluate pid=19342)\u001b[0m [Client 0] evaluate, config: {}\n",
      "\u001b[2m\u001b[36m(launch_and_evaluate pid=19339)\u001b[0m [Client 1] evaluate, config: {}\n"
     ]
    },
    {
     "name": "stderr",
     "output_type": "stream",
     "text": [
      "\u001b[2m\u001b[36m(launch_and_fit pid=19339)\u001b[0m /home/hlpc/anaconda3/envs/openmined/lib/python3.8/site-packages/opacus/privacy_engine.py:142: UserWarning: Secure RNG turned off. This is perfectly fine for experimentation as it allows for much faster training performance, but remember to turn it on and retrain one last time before production with ``secure_mode`` turned on.\n",
      "\u001b[2m\u001b[36m(launch_and_fit pid=19339)\u001b[0m   warnings.warn(\n",
      "\u001b[2m\u001b[36m(launch_and_fit pid=19342)\u001b[0m /home/hlpc/anaconda3/envs/openmined/lib/python3.8/site-packages/opacus/privacy_engine.py:142: UserWarning: Secure RNG turned off. This is perfectly fine for experimentation as it allows for much faster training performance, but remember to turn it on and retrain one last time before production with ``secure_mode`` turned on.\n",
      "\u001b[2m\u001b[36m(launch_and_fit pid=19342)\u001b[0m   warnings.warn(\n"
     ]
    },
    {
     "name": "stdout",
     "output_type": "stream",
     "text": [
      "\u001b[2m\u001b[36m(launch_and_fit pid=19342)\u001b[0m [Client 1] fit, config: {}\n",
      "\u001b[2m\u001b[36m(launch_and_fit pid=19342)\u001b[0m \tTrain Epoch: 0 \tLoss: 0.449840 Acc@1: 0.000000\n",
      "\u001b[2m\u001b[36m(launch_and_fit pid=19342)\u001b[0m \tTrain Epoch: 0 \tLoss: 0.477110 Acc@1: 0.000000\n",
      "\u001b[2m\u001b[36m(launch_and_fit pid=19339)\u001b[0m [Client 0] fit, config: {}\n",
      "\u001b[2m\u001b[36m(launch_and_fit pid=19339)\u001b[0m \tTrain Epoch: 0 \tLoss: 0.487696 Acc@1: 0.000000\n",
      "\u001b[2m\u001b[36m(launch_and_fit pid=19339)\u001b[0m \tTrain Epoch: 0 \tLoss: 0.471607 Acc@1: 4.218750\n",
      "\u001b[2m\u001b[36m(launch_and_fit pid=19342)\u001b[0m \tTrain Epoch: 0 \tLoss: 0.495230 Acc@1: 0.000000\n",
      "\u001b[2m\u001b[36m(launch_and_fit pid=19342)\u001b[0m \tTrain Epoch: 0 \tLoss: 0.509373 Acc@1: 0.000000\n",
      "\u001b[2m\u001b[36m(launch_and_fit pid=19342)\u001b[0m \tTrain Epoch: 0 \tLoss: 0.505841 Acc@1: 0.000000\n",
      "\u001b[2m\u001b[36m(launch_and_fit pid=19339)\u001b[0m \tTrain Epoch: 0 \tLoss: 0.481593 Acc@1: 5.104167\n",
      "\u001b[2m\u001b[36m(launch_and_fit pid=19339)\u001b[0m \tTrain Epoch: 0 \tLoss: 0.466927 Acc@1: 3.828125\n",
      "\u001b[2m\u001b[36m(launch_and_fit pid=19339)\u001b[0m \tTrain Epoch: 0 \tLoss: 0.458698 Acc@1: 4.875000\n",
      "\u001b[2m\u001b[36m(launch_and_fit pid=19339)\u001b[0m \tTrain Epoch: 0 \tLoss: 0.454591 Acc@1: 4.062500\n",
      "\u001b[2m\u001b[36m(launch_and_fit pid=19342)\u001b[0m \tTrain Epoch: 0 \tLoss: 0.512364 Acc@1: 0.000000\n",
      "\u001b[2m\u001b[36m(launch_and_fit pid=19342)\u001b[0m \tTrain Epoch: 0 \tLoss: 0.510136 Acc@1: 0.000000\n",
      "\u001b[2m\u001b[36m(launch_and_fit pid=19342)\u001b[0m \tTrain Epoch: 0 \tLoss: 0.511015 Acc@1: 0.000000\n",
      "\u001b[2m\u001b[36m(launch_and_fit pid=19339)\u001b[0m \tTrain Epoch: 0 \tLoss: 0.447642 Acc@1: 3.482143\n",
      "\u001b[2m\u001b[36m(launch_and_fit pid=19339)\u001b[0m \tTrain Epoch: 0 \tLoss: 0.448901 Acc@1: 3.046875\n",
      "\u001b[2m\u001b[36m(launch_and_fit pid=19339)\u001b[0m \tTrain Epoch: 0 \tLoss: 0.446486 Acc@1: 3.611111\n",
      "\u001b[2m\u001b[36m(launch_and_fit pid=19339)\u001b[0m \tTrain Epoch: 0 \tLoss: 0.451461 Acc@1: 3.250000\n",
      "\u001b[2m\u001b[36m(launch_and_fit pid=19339)\u001b[0m \tTrain Epoch: 0 \tLoss: 0.456070 Acc@1: 2.954545\n",
      "\u001b[2m\u001b[36m(launch_and_fit pid=19339)\u001b[0m \tTrain Epoch: 1 \tLoss: 0.486651 Acc@1: 0.000000\n",
      "\u001b[2m\u001b[36m(launch_and_fit pid=19342)\u001b[0m \tTrain Epoch: 1 \tLoss: 0.449117 Acc@1: 0.000000\n",
      "\u001b[2m\u001b[36m(launch_and_fit pid=19342)\u001b[0m \tTrain Epoch: 1 \tLoss: 0.476552 Acc@1: 0.000000\n",
      "\u001b[2m\u001b[36m(launch_and_fit pid=19342)\u001b[0m \tTrain Epoch: 1 \tLoss: 0.494759 Acc@1: 0.416667\n",
      "\u001b[2m\u001b[36m(launch_and_fit pid=19342)\u001b[0m \tTrain Epoch: 1 \tLoss: 0.508974 Acc@1: 0.312500\n",
      "\u001b[2m\u001b[36m(launch_and_fit pid=19342)\u001b[0m \tTrain Epoch: 1 \tLoss: 0.505446 Acc@1: 0.250000\n",
      "\u001b[2m\u001b[36m(launch_and_fit pid=19339)\u001b[0m \tTrain Epoch: 1 \tLoss: 0.470996 Acc@1: 4.218750\n",
      "\u001b[2m\u001b[36m(launch_and_fit pid=19339)\u001b[0m \tTrain Epoch: 1 \tLoss: 0.481016 Acc@1: 5.104167\n",
      "\u001b[2m\u001b[36m(launch_and_fit pid=19339)\u001b[0m \tTrain Epoch: 1 \tLoss: 0.466503 Acc@1: 3.828125\n",
      "\u001b[2m\u001b[36m(launch_and_fit pid=19339)\u001b[0m \tTrain Epoch: 1 \tLoss: 0.458349 Acc@1: 4.875000\n",
      "\u001b[2m\u001b[36m(launch_and_fit pid=19339)\u001b[0m \tTrain Epoch: 1 \tLoss: 0.454285 Acc@1: 4.062500\n",
      "\u001b[2m\u001b[36m(launch_and_fit pid=19342)\u001b[0m \tTrain Epoch: 1 \tLoss: 0.511964 Acc@1: 0.208333\n",
      "\u001b[2m\u001b[36m(launch_and_fit pid=19342)\u001b[0m \tTrain Epoch: 1 \tLoss: 0.509722 Acc@1: 0.178571\n",
      "\u001b[2m\u001b[36m(launch_and_fit pid=19342)\u001b[0m \tTrain Epoch: 1 \tLoss: 0.510609 Acc@1: 0.156250\n",
      "\u001b[2m\u001b[36m(launch_and_fit pid=19342)\u001b[0m \tTrain Epoch: 2 \tLoss: 0.448498 Acc@1: 0.000000\n",
      "\u001b[2m\u001b[36m(launch_and_fit pid=19342)\u001b[0m \tTrain Epoch: 2 \tLoss: 0.476076 Acc@1: 0.000000\n",
      "\u001b[2m\u001b[36m(launch_and_fit pid=19339)\u001b[0m \tTrain Epoch: 1 \tLoss: 0.447407 Acc@1: 3.482143\n",
      "\u001b[2m\u001b[36m(launch_and_fit pid=19339)\u001b[0m \tTrain Epoch: 1 \tLoss: 0.448674 Acc@1: 3.046875\n",
      "\u001b[2m\u001b[36m(launch_and_fit pid=19339)\u001b[0m \tTrain Epoch: 1 \tLoss: 0.446285 Acc@1: 3.611111\n",
      "\u001b[2m\u001b[36m(launch_and_fit pid=19339)\u001b[0m \tTrain Epoch: 1 \tLoss: 0.451218 Acc@1: 3.250000\n",
      "\u001b[2m\u001b[36m(launch_and_fit pid=19339)\u001b[0m \tTrain Epoch: 1 \tLoss: 0.455815 Acc@1: 2.954545\n",
      "\u001b[2m\u001b[36m(launch_and_fit pid=19342)\u001b[0m \tTrain Epoch: 2 \tLoss: 0.494343 Acc@1: 0.416667\n",
      "\u001b[2m\u001b[36m(launch_and_fit pid=19342)\u001b[0m \tTrain Epoch: 2 \tLoss: 0.508616 Acc@1: 0.312500\n",
      "\u001b[2m\u001b[36m(launch_and_fit pid=19342)\u001b[0m \tTrain Epoch: 2 \tLoss: 0.505087 Acc@1: 0.250000\n",
      "\u001b[2m\u001b[36m(launch_and_fit pid=19342)\u001b[0m \tTrain Epoch: 2 \tLoss: 0.511595 Acc@1: 0.208333\n",
      "\u001b[2m\u001b[36m(launch_and_fit pid=19342)\u001b[0m \tTrain Epoch: 2 \tLoss: 0.509338 Acc@1: 0.178571\n",
      "\u001b[2m\u001b[36m(launch_and_fit pid=19342)\u001b[0m \tTrain Epoch: 2 \tLoss: 0.510230 Acc@1: 0.156250\n",
      "\u001b[2m\u001b[36m(launch_and_fit pid=19342)\u001b[0m \tTrain Epoch: 3 \tLoss: 0.447928 Acc@1: 0.000000\n",
      "\u001b[2m\u001b[36m(launch_and_fit pid=19339)\u001b[0m \tTrain Epoch: 2 \tLoss: 0.485959 Acc@1: 0.000000\n",
      "\u001b[2m\u001b[36m(launch_and_fit pid=19339)\u001b[0m \tTrain Epoch: 2 \tLoss: 0.470584 Acc@1: 4.218750\n",
      "\u001b[2m\u001b[36m(launch_and_fit pid=19339)\u001b[0m \tTrain Epoch: 2 \tLoss: 0.480639 Acc@1: 5.104167\n",
      "\u001b[2m\u001b[36m(launch_and_fit pid=19339)\u001b[0m \tTrain Epoch: 2 \tLoss: 0.466221 Acc@1: 3.828125\n",
      "\u001b[2m\u001b[36m(launch_and_fit pid=19339)\u001b[0m \tTrain Epoch: 2 \tLoss: 0.458110 Acc@1: 4.875000\n",
      "\u001b[2m\u001b[36m(launch_and_fit pid=19339)\u001b[0m \tTrain Epoch: 2 \tLoss: 0.454062 Acc@1: 4.062500\n",
      "\u001b[2m\u001b[36m(launch_and_fit pid=19342)\u001b[0m \tTrain Epoch: 3 \tLoss: 0.475634 Acc@1: 0.000000\n",
      "\u001b[2m\u001b[36m(launch_and_fit pid=19342)\u001b[0m \tTrain Epoch: 3 \tLoss: 0.493946 Acc@1: 0.416667\n",
      "\u001b[2m\u001b[36m(launch_and_fit pid=19342)\u001b[0m \tTrain Epoch: 3 \tLoss: 0.508281 Acc@1: 0.312500\n",
      "\u001b[2m\u001b[36m(launch_and_fit pid=19342)\u001b[0m \tTrain Epoch: 3 \tLoss: 0.504750 Acc@1: 0.250000\n",
      "\u001b[2m\u001b[36m(launch_and_fit pid=19342)\u001b[0m \tTrain Epoch: 3 \tLoss: 0.511246 Acc@1: 0.208333\n",
      "\u001b[2m\u001b[36m(launch_and_fit pid=19339)\u001b[0m \tTrain Epoch: 2 \tLoss: 0.447226 Acc@1: 3.482143\n",
      "\u001b[2m\u001b[36m(launch_and_fit pid=19339)\u001b[0m \tTrain Epoch: 2 \tLoss: 0.448496 Acc@1: 3.046875\n",
      "\u001b[2m\u001b[36m(launch_and_fit pid=19339)\u001b[0m \tTrain Epoch: 2 \tLoss: 0.446125 Acc@1: 3.611111\n",
      "\u001b[2m\u001b[36m(launch_and_fit pid=19339)\u001b[0m \tTrain Epoch: 2 \tLoss: 0.451030 Acc@1: 3.250000\n",
      "\u001b[2m\u001b[36m(launch_and_fit pid=19339)\u001b[0m \tTrain Epoch: 2 \tLoss: 0.455621 Acc@1: 2.954545\n",
      "\u001b[2m\u001b[36m(launch_and_fit pid=19342)\u001b[0m \tTrain Epoch: 3 \tLoss: 0.508975 Acc@1: 0.178571\n",
      "\u001b[2m\u001b[36m(launch_and_fit pid=19342)\u001b[0m \tTrain Epoch: 3 \tLoss: 0.509870 Acc@1: 0.156250\n",
      "\u001b[2m\u001b[36m(launch_and_fit pid=19342)\u001b[0m \tTrain Epoch: 4 \tLoss: 0.447454 Acc@1: 0.000000\n",
      "\u001b[2m\u001b[36m(launch_and_fit pid=19342)\u001b[0m \tTrain Epoch: 4 \tLoss: 0.475255 Acc@1: 0.000000\n",
      "\u001b[2m\u001b[36m(launch_and_fit pid=19342)\u001b[0m \tTrain Epoch: 4 \tLoss: 0.493602 Acc@1: 0.416667\n",
      "\u001b[2m\u001b[36m(launch_and_fit pid=19342)\u001b[0m \tTrain Epoch: 4 \tLoss: 0.507990 Acc@1: 0.312500\n",
      "\u001b[2m\u001b[36m(launch_and_fit pid=19339)\u001b[0m \tTrain Epoch: 3 \tLoss: 0.485447 Acc@1: 0.000000\n",
      "\u001b[2m\u001b[36m(launch_and_fit pid=19339)\u001b[0m \tTrain Epoch: 3 \tLoss: 0.470272 Acc@1: 4.218750\n",
      "\u001b[2m\u001b[36m(launch_and_fit pid=19339)\u001b[0m \tTrain Epoch: 3 \tLoss: 0.480367 Acc@1: 5.104167\n",
      "\u001b[2m\u001b[36m(launch_and_fit pid=19339)\u001b[0m \tTrain Epoch: 3 \tLoss: 0.466006 Acc@1: 3.828125\n",
      "\u001b[2m\u001b[36m(launch_and_fit pid=19339)\u001b[0m \tTrain Epoch: 3 \tLoss: 0.457920 Acc@1: 4.875000\n",
      "\u001b[2m\u001b[36m(launch_and_fit pid=19342)\u001b[0m \tTrain Epoch: 4 \tLoss: 0.504455 Acc@1: 0.250000\n",
      "\u001b[2m\u001b[36m(launch_and_fit pid=19342)\u001b[0m \tTrain Epoch: 4 \tLoss: 0.510932 Acc@1: 0.208333\n",
      "\u001b[2m\u001b[36m(launch_and_fit pid=19342)\u001b[0m \tTrain Epoch: 4 \tLoss: 0.508648 Acc@1: 0.178571\n",
      "\u001b[2m\u001b[36m(launch_and_fit pid=19342)\u001b[0m \tTrain Epoch: 4 \tLoss: 0.509541 Acc@1: 0.156250\n",
      "\u001b[2m\u001b[36m(launch_and_fit pid=19342)\u001b[0m \tTrain Epoch: 5 \tLoss: 0.447029 Acc@1: 0.000000\n",
      "\u001b[2m\u001b[36m(launch_and_fit pid=19342)\u001b[0m \tTrain Epoch: 5 \tLoss: 0.474901 Acc@1: 0.000000\n",
      "\u001b[2m\u001b[36m(launch_and_fit pid=19339)\u001b[0m \tTrain Epoch: 3 \tLoss: 0.453876 Acc@1: 4.062500\n",
      "\u001b[2m\u001b[36m(launch_and_fit pid=19339)\u001b[0m \tTrain Epoch: 3 \tLoss: 0.447063 Acc@1: 3.482143\n",
      "\u001b[2m\u001b[36m(launch_and_fit pid=19339)\u001b[0m \tTrain Epoch: 3 \tLoss: 0.448337 Acc@1: 3.046875\n",
      "\u001b[2m\u001b[36m(launch_and_fit pid=19339)\u001b[0m \tTrain Epoch: 3 \tLoss: 0.445978 Acc@1: 3.611111\n",
      "\u001b[2m\u001b[36m(launch_and_fit pid=19339)\u001b[0m \tTrain Epoch: 3 \tLoss: 0.450865 Acc@1: 3.250000\n",
      "\u001b[2m\u001b[36m(launch_and_fit pid=19339)\u001b[0m \tTrain Epoch: 3 \tLoss: 0.455455 Acc@1: 2.954545\n",
      "\u001b[2m\u001b[36m(launch_and_fit pid=19342)\u001b[0m \tTrain Epoch: 5 \tLoss: 0.493281 Acc@1: 0.416667\n",
      "\u001b[2m\u001b[36m(launch_and_fit pid=19342)\u001b[0m \tTrain Epoch: 5 \tLoss: 0.507711 Acc@1: 0.312500\n",
      "\u001b[2m\u001b[36m(launch_and_fit pid=19342)\u001b[0m \tTrain Epoch: 5 \tLoss: 0.504170 Acc@1: 0.250000\n",
      "\u001b[2m\u001b[36m(launch_and_fit pid=19342)\u001b[0m \tTrain Epoch: 5 \tLoss: 0.510625 Acc@1: 0.208333\n",
      "\u001b[2m\u001b[36m(launch_and_fit pid=19342)\u001b[0m \tTrain Epoch: 5 \tLoss: 0.508327 Acc@1: 0.178571\n",
      "\u001b[2m\u001b[36m(launch_and_fit pid=19339)\u001b[0m \tTrain Epoch: 4 \tLoss: 0.485049 Acc@1: 0.000000\n",
      "\u001b[2m\u001b[36m(launch_and_fit pid=19339)\u001b[0m \tTrain Epoch: 4 \tLoss: 0.470031 Acc@1: 4.218750\n",
      "\u001b[2m\u001b[36m(launch_and_fit pid=19339)\u001b[0m \tTrain Epoch: 4 \tLoss: 0.480163 Acc@1: 5.104167\n",
      "\u001b[2m\u001b[36m(launch_and_fit pid=19339)\u001b[0m \tTrain Epoch: 4 \tLoss: 0.465838 Acc@1: 3.828125\n"
     ]
    },
    {
     "name": "stderr",
     "output_type": "stream",
     "text": [
      "DEBUG flwr 2023-08-12 05:58:34,975 | server.py:229 | fit_round 8 received 2 results and 0 failures\n",
      "08/12/2023 05:58:34:DEBUG:fit_round 8 received 2 results and 0 failures\n",
      "INFO flwr 2023-08-12 05:58:35,001 | server.py:116 | fit progress: (8, 0.016697474306435894, {'accuracy': 0.7991071428571429}, 14.766894028987736)\n",
      "08/12/2023 05:58:35:INFO:fit progress: (8, 0.016697474306435894, {'accuracy': 0.7991071428571429}, 14.766894028987736)\n",
      "DEBUG flwr 2023-08-12 05:58:35,002 | server.py:165 | evaluate_round 8: strategy sampled 2 clients (out of 2)\n",
      "08/12/2023 05:58:35:DEBUG:evaluate_round 8: strategy sampled 2 clients (out of 2)\n"
     ]
    },
    {
     "name": "stdout",
     "output_type": "stream",
     "text": [
      "\u001b[2m\u001b[36m(launch_and_fit pid=19342)\u001b[0m \tTrain Epoch: 5 \tLoss: 0.509218 Acc@1: 0.156250\n",
      "\u001b[2m\u001b[36m(launch_and_fit pid=19342)\u001b[0m epsilon of client 1 : eps = 0\n",
      "\u001b[2m\u001b[36m(launch_and_fit pid=19339)\u001b[0m \tTrain Epoch: 4 \tLoss: 0.457762 Acc@1: 4.875000\n",
      "\u001b[2m\u001b[36m(launch_and_fit pid=19339)\u001b[0m \tTrain Epoch: 4 \tLoss: 0.453715 Acc@1: 4.062500\n",
      "\u001b[2m\u001b[36m(launch_and_fit pid=19339)\u001b[0m \tTrain Epoch: 4 \tLoss: 0.446917 Acc@1: 3.482143\n",
      "\u001b[2m\u001b[36m(launch_and_fit pid=19339)\u001b[0m \tTrain Epoch: 4 \tLoss: 0.448193 Acc@1: 3.046875\n",
      "\u001b[2m\u001b[36m(launch_and_fit pid=19339)\u001b[0m \tTrain Epoch: 4 \tLoss: 0.445843 Acc@1: 3.611111\n",
      "\u001b[2m\u001b[36m(launch_and_fit pid=19339)\u001b[0m \tTrain Epoch: 4 \tLoss: 0.450717 Acc@1: 3.250000\n",
      "\u001b[2m\u001b[36m(launch_and_fit pid=19339)\u001b[0m \tTrain Epoch: 4 \tLoss: 0.455307 Acc@1: 2.954545\n",
      "\u001b[2m\u001b[36m(launch_and_fit pid=19339)\u001b[0m \tTrain Epoch: 5 \tLoss: 0.484710 Acc@1: 0.000000\n",
      "\u001b[2m\u001b[36m(launch_and_fit pid=19339)\u001b[0m \tTrain Epoch: 5 \tLoss: 0.469822 Acc@1: 4.218750\n",
      "\u001b[2m\u001b[36m(launch_and_fit pid=19339)\u001b[0m \tTrain Epoch: 5 \tLoss: 0.479991 Acc@1: 5.104167\n",
      "\u001b[2m\u001b[36m(launch_and_fit pid=19339)\u001b[0m \tTrain Epoch: 5 \tLoss: 0.465688 Acc@1: 3.828125\n",
      "\u001b[2m\u001b[36m(launch_and_fit pid=19339)\u001b[0m \tTrain Epoch: 5 \tLoss: 0.457618 Acc@1: 4.875000\n",
      "\u001b[2m\u001b[36m(launch_and_fit pid=19339)\u001b[0m \tTrain Epoch: 5 \tLoss: 0.453563 Acc@1: 4.062500\n",
      "\u001b[2m\u001b[36m(launch_and_fit pid=19339)\u001b[0m \tTrain Epoch: 5 \tLoss: 0.446775 Acc@1: 3.482143\n",
      "\u001b[2m\u001b[36m(launch_and_fit pid=19339)\u001b[0m \tTrain Epoch: 5 \tLoss: 0.448054 Acc@1: 3.046875\n",
      "\u001b[2m\u001b[36m(launch_and_fit pid=19339)\u001b[0m \tTrain Epoch: 5 \tLoss: 0.445711 Acc@1: 3.611111\n",
      "\u001b[2m\u001b[36m(launch_and_fit pid=19339)\u001b[0m \tTrain Epoch: 5 \tLoss: 0.450575 Acc@1: 3.250000\n",
      "Server-side evaluation loss 0.016697474306435894 / accuracy 0.7991071428571429\n"
     ]
    },
    {
     "name": "stderr",
     "output_type": "stream",
     "text": [
      "DEBUG flwr 2023-08-12 05:58:35,081 | server.py:179 | evaluate_round 8 received 2 results and 0 failures\n",
      "08/12/2023 05:58:35:DEBUG:evaluate_round 8 received 2 results and 0 failures\n",
      "DEBUG flwr 2023-08-12 05:58:35,083 | server.py:215 | fit_round 9: strategy sampled 2 clients (out of 2)\n",
      "08/12/2023 05:58:35:DEBUG:fit_round 9: strategy sampled 2 clients (out of 2)\n",
      "\u001b[2m\u001b[36m(launch_and_fit pid=19339)\u001b[0m /home/hlpc/anaconda3/envs/openmined/lib/python3.8/site-packages/opacus/privacy_engine.py:142: UserWarning: Secure RNG turned off. This is perfectly fine for experimentation as it allows for much faster training performance, but remember to turn it on and retrain one last time before production with ``secure_mode`` turned on.\n",
      "\u001b[2m\u001b[36m(launch_and_fit pid=19339)\u001b[0m   warnings.warn(\n",
      "\u001b[2m\u001b[36m(launch_and_fit pid=19342)\u001b[0m /home/hlpc/anaconda3/envs/openmined/lib/python3.8/site-packages/opacus/privacy_engine.py:142: UserWarning: Secure RNG turned off. This is perfectly fine for experimentation as it allows for much faster training performance, but remember to turn it on and retrain one last time before production with ``secure_mode`` turned on.\n",
      "\u001b[2m\u001b[36m(launch_and_fit pid=19342)\u001b[0m   warnings.warn(\n"
     ]
    },
    {
     "name": "stdout",
     "output_type": "stream",
     "text": [
      "\u001b[2m\u001b[36m(launch_and_evaluate pid=19342)\u001b[0m [Client 0] evaluate, config: {}\n",
      "\u001b[2m\u001b[36m(launch_and_fit pid=19339)\u001b[0m \tTrain Epoch: 5 \tLoss: 0.455165 Acc@1: 2.954545\n",
      "\u001b[2m\u001b[36m(launch_and_fit pid=19339)\u001b[0m epsilon of client 0 : eps = 0\n",
      "\u001b[2m\u001b[36m(launch_and_fit pid=19342)\u001b[0m [Client 0] fit, config: {}\n",
      "\u001b[2m\u001b[36m(launch_and_fit pid=19342)\u001b[0m \tTrain Epoch: 0 \tLoss: 0.486565 Acc@1: 0.000000\n",
      "\u001b[2m\u001b[36m(launch_and_evaluate pid=19339)\u001b[0m [Client 1] evaluate, config: {}\n",
      "\u001b[2m\u001b[36m(launch_and_fit pid=19339)\u001b[0m [Client 1] fit, config: {}\n",
      "\u001b[2m\u001b[36m(launch_and_fit pid=19339)\u001b[0m \tTrain Epoch: 0 \tLoss: 0.449103 Acc@1: 0.000000\n",
      "\u001b[2m\u001b[36m(launch_and_fit pid=19342)\u001b[0m \tTrain Epoch: 0 \tLoss: 0.470797 Acc@1: 4.218750\n",
      "\u001b[2m\u001b[36m(launch_and_fit pid=19342)\u001b[0m \tTrain Epoch: 0 \tLoss: 0.480952 Acc@1: 5.104167\n",
      "\u001b[2m\u001b[36m(launch_and_fit pid=19342)\u001b[0m \tTrain Epoch: 0 \tLoss: 0.466307 Acc@1: 3.828125\n",
      "\u001b[2m\u001b[36m(launch_and_fit pid=19342)\u001b[0m \tTrain Epoch: 0 \tLoss: 0.458105 Acc@1: 4.875000\n",
      "\u001b[2m\u001b[36m(launch_and_fit pid=19342)\u001b[0m \tTrain Epoch: 0 \tLoss: 0.453964 Acc@1: 4.062500\n",
      "\u001b[2m\u001b[36m(launch_and_fit pid=19342)\u001b[0m \tTrain Epoch: 0 \tLoss: 0.447012 Acc@1: 3.482143\n",
      "\u001b[2m\u001b[36m(launch_and_fit pid=19339)\u001b[0m \tTrain Epoch: 0 \tLoss: 0.476368 Acc@1: 0.000000\n",
      "\u001b[2m\u001b[36m(launch_and_fit pid=19339)\u001b[0m \tTrain Epoch: 0 \tLoss: 0.494330 Acc@1: 0.416667\n",
      "\u001b[2m\u001b[36m(launch_and_fit pid=19339)\u001b[0m \tTrain Epoch: 0 \tLoss: 0.508455 Acc@1: 0.312500\n",
      "\u001b[2m\u001b[36m(launch_and_fit pid=19339)\u001b[0m \tTrain Epoch: 0 \tLoss: 0.504910 Acc@1: 0.250000\n",
      "\u001b[2m\u001b[36m(launch_and_fit pid=19339)\u001b[0m \tTrain Epoch: 0 \tLoss: 0.511407 Acc@1: 0.208333\n",
      "\u001b[2m\u001b[36m(launch_and_fit pid=19339)\u001b[0m \tTrain Epoch: 0 \tLoss: 0.509121 Acc@1: 0.178571\n",
      "\u001b[2m\u001b[36m(launch_and_fit pid=19339)\u001b[0m \tTrain Epoch: 0 \tLoss: 0.509950 Acc@1: 0.156250\n",
      "\u001b[2m\u001b[36m(launch_and_fit pid=19342)\u001b[0m \tTrain Epoch: 0 \tLoss: 0.448274 Acc@1: 3.046875\n",
      "\u001b[2m\u001b[36m(launch_and_fit pid=19342)\u001b[0m \tTrain Epoch: 0 \tLoss: 0.445881 Acc@1: 3.611111\n",
      "\u001b[2m\u001b[36m(launch_and_fit pid=19342)\u001b[0m \tTrain Epoch: 0 \tLoss: 0.450827 Acc@1: 3.250000\n",
      "\u001b[2m\u001b[36m(launch_and_fit pid=19342)\u001b[0m \tTrain Epoch: 0 \tLoss: 0.455404 Acc@1: 2.954545\n",
      "\u001b[2m\u001b[36m(launch_and_fit pid=19342)\u001b[0m \tTrain Epoch: 1 \tLoss: 0.485590 Acc@1: 0.000000\n",
      "\u001b[2m\u001b[36m(launch_and_fit pid=19339)\u001b[0m \tTrain Epoch: 1 \tLoss: 0.448403 Acc@1: 0.000000\n",
      "\u001b[2m\u001b[36m(launch_and_fit pid=19339)\u001b[0m \tTrain Epoch: 1 \tLoss: 0.475843 Acc@1: 0.000000\n",
      "\u001b[2m\u001b[36m(launch_and_fit pid=19339)\u001b[0m \tTrain Epoch: 1 \tLoss: 0.493879 Acc@1: 0.416667\n",
      "\u001b[2m\u001b[36m(launch_and_fit pid=19339)\u001b[0m \tTrain Epoch: 1 \tLoss: 0.508077 Acc@1: 0.312500\n",
      "\u001b[2m\u001b[36m(launch_and_fit pid=19339)\u001b[0m \tTrain Epoch: 1 \tLoss: 0.504534 Acc@1: 0.250000\n",
      "\u001b[2m\u001b[36m(launch_and_fit pid=19339)\u001b[0m \tTrain Epoch: 1 \tLoss: 0.511026 Acc@1: 0.208333\n",
      "\u001b[2m\u001b[36m(launch_and_fit pid=19342)\u001b[0m \tTrain Epoch: 1 \tLoss: 0.470217 Acc@1: 4.218750\n",
      "\u001b[2m\u001b[36m(launch_and_fit pid=19342)\u001b[0m \tTrain Epoch: 1 \tLoss: 0.480399 Acc@1: 5.104167\n",
      "\u001b[2m\u001b[36m(launch_and_fit pid=19342)\u001b[0m \tTrain Epoch: 1 \tLoss: 0.465903 Acc@1: 3.828125\n",
      "\u001b[2m\u001b[36m(launch_and_fit pid=19342)\u001b[0m \tTrain Epoch: 1 \tLoss: 0.457774 Acc@1: 4.875000\n",
      "\u001b[2m\u001b[36m(launch_and_fit pid=19342)\u001b[0m \tTrain Epoch: 1 \tLoss: 0.453671 Acc@1: 4.062500\n",
      "\u001b[2m\u001b[36m(launch_and_fit pid=19342)\u001b[0m \tTrain Epoch: 1 \tLoss: 0.446789 Acc@1: 3.482143\n",
      "\u001b[2m\u001b[36m(launch_and_fit pid=19342)\u001b[0m \tTrain Epoch: 1 \tLoss: 0.448055 Acc@1: 3.046875\n",
      "\u001b[2m\u001b[36m(launch_and_fit pid=19339)\u001b[0m \tTrain Epoch: 1 \tLoss: 0.508722 Acc@1: 0.178571\n",
      "\u001b[2m\u001b[36m(launch_and_fit pid=19339)\u001b[0m \tTrain Epoch: 1 \tLoss: 0.509559 Acc@1: 0.156250\n",
      "\u001b[2m\u001b[36m(launch_and_fit pid=19339)\u001b[0m \tTrain Epoch: 2 \tLoss: 0.447790 Acc@1: 0.000000\n",
      "\u001b[2m\u001b[36m(launch_and_fit pid=19339)\u001b[0m \tTrain Epoch: 2 \tLoss: 0.475377 Acc@1: 0.000000\n",
      "\u001b[2m\u001b[36m(launch_and_fit pid=19339)\u001b[0m \tTrain Epoch: 2 \tLoss: 0.493473 Acc@1: 0.416667\n",
      "\u001b[2m\u001b[36m(launch_and_fit pid=19339)\u001b[0m \tTrain Epoch: 2 \tLoss: 0.507743 Acc@1: 0.312500\n",
      "\u001b[2m\u001b[36m(launch_and_fit pid=19342)\u001b[0m \tTrain Epoch: 1 \tLoss: 0.445691 Acc@1: 3.611111\n",
      "\u001b[2m\u001b[36m(launch_and_fit pid=19342)\u001b[0m \tTrain Epoch: 1 \tLoss: 0.450595 Acc@1: 3.250000\n",
      "\u001b[2m\u001b[36m(launch_and_fit pid=19342)\u001b[0m \tTrain Epoch: 1 \tLoss: 0.455159 Acc@1: 2.954545\n",
      "\u001b[2m\u001b[36m(launch_and_fit pid=19342)\u001b[0m \tTrain Epoch: 2 \tLoss: 0.484915 Acc@1: 0.000000\n",
      "\u001b[2m\u001b[36m(launch_and_fit pid=19339)\u001b[0m \tTrain Epoch: 2 \tLoss: 0.504198 Acc@1: 0.250000\n",
      "\u001b[2m\u001b[36m(launch_and_fit pid=19339)\u001b[0m \tTrain Epoch: 2 \tLoss: 0.510680 Acc@1: 0.208333\n",
      "\u001b[2m\u001b[36m(launch_and_fit pid=19339)\u001b[0m \tTrain Epoch: 2 \tLoss: 0.508358 Acc@1: 0.178571\n",
      "\u001b[2m\u001b[36m(launch_and_fit pid=19339)\u001b[0m \tTrain Epoch: 2 \tLoss: 0.509198 Acc@1: 0.156250\n",
      "\u001b[2m\u001b[36m(launch_and_fit pid=19342)\u001b[0m \tTrain Epoch: 2 \tLoss: 0.469818 Acc@1: 4.218750\n",
      "\u001b[2m\u001b[36m(launch_and_fit pid=19342)\u001b[0m \tTrain Epoch: 2 \tLoss: 0.480028 Acc@1: 5.104167\n",
      "\u001b[2m\u001b[36m(launch_and_fit pid=19342)\u001b[0m \tTrain Epoch: 2 \tLoss: 0.465622 Acc@1: 3.828125\n",
      "\u001b[2m\u001b[36m(launch_and_fit pid=19342)\u001b[0m \tTrain Epoch: 2 \tLoss: 0.457535 Acc@1: 4.875000\n",
      "\u001b[2m\u001b[36m(launch_and_fit pid=19342)\u001b[0m \tTrain Epoch: 2 \tLoss: 0.453451 Acc@1: 4.062500\n",
      "\u001b[2m\u001b[36m(launch_and_fit pid=19339)\u001b[0m \tTrain Epoch: 3 \tLoss: 0.447268 Acc@1: 0.000000\n",
      "\u001b[2m\u001b[36m(launch_and_fit pid=19339)\u001b[0m \tTrain Epoch: 3 \tLoss: 0.474965 Acc@1: 0.000000\n",
      "\u001b[2m\u001b[36m(launch_and_fit pid=19339)\u001b[0m \tTrain Epoch: 3 \tLoss: 0.493113 Acc@1: 0.416667\n",
      "\u001b[2m\u001b[36m(launch_and_fit pid=19339)\u001b[0m \tTrain Epoch: 3 \tLoss: 0.507440 Acc@1: 0.312500\n",
      "\u001b[2m\u001b[36m(launch_and_fit pid=19339)\u001b[0m \tTrain Epoch: 3 \tLoss: 0.503890 Acc@1: 0.250000\n",
      "\u001b[2m\u001b[36m(launch_and_fit pid=19342)\u001b[0m \tTrain Epoch: 2 \tLoss: 0.446611 Acc@1: 3.482143\n",
      "\u001b[2m\u001b[36m(launch_and_fit pid=19342)\u001b[0m \tTrain Epoch: 2 \tLoss: 0.447882 Acc@1: 3.046875\n",
      "\u001b[2m\u001b[36m(launch_and_fit pid=19342)\u001b[0m \tTrain Epoch: 2 \tLoss: 0.445538 Acc@1: 3.611111\n",
      "\u001b[2m\u001b[36m(launch_and_fit pid=19342)\u001b[0m \tTrain Epoch: 2 \tLoss: 0.450414 Acc@1: 3.250000\n",
      "\u001b[2m\u001b[36m(launch_and_fit pid=19342)\u001b[0m \tTrain Epoch: 2 \tLoss: 0.454971 Acc@1: 2.954545\n",
      "\u001b[2m\u001b[36m(launch_and_fit pid=19339)\u001b[0m \tTrain Epoch: 3 \tLoss: 0.510355 Acc@1: 0.208333\n",
      "\u001b[2m\u001b[36m(launch_and_fit pid=19339)\u001b[0m \tTrain Epoch: 3 \tLoss: 0.508016 Acc@1: 0.178571\n",
      "\u001b[2m\u001b[36m(launch_and_fit pid=19339)\u001b[0m \tTrain Epoch: 3 \tLoss: 0.508857 Acc@1: 0.156250\n",
      "\u001b[2m\u001b[36m(launch_and_fit pid=19339)\u001b[0m \tTrain Epoch: 4 \tLoss: 0.446785 Acc@1: 0.000000\n",
      "\u001b[2m\u001b[36m(launch_and_fit pid=19339)\u001b[0m \tTrain Epoch: 4 \tLoss: 0.474580 Acc@1: 0.000000\n",
      "\u001b[2m\u001b[36m(launch_and_fit pid=19342)\u001b[0m \tTrain Epoch: 3 \tLoss: 0.484407 Acc@1: 0.000000\n",
      "\u001b[2m\u001b[36m(launch_and_fit pid=19342)\u001b[0m \tTrain Epoch: 3 \tLoss: 0.469517 Acc@1: 4.218750\n",
      "\u001b[2m\u001b[36m(launch_and_fit pid=19342)\u001b[0m \tTrain Epoch: 3 \tLoss: 0.479757 Acc@1: 5.104167\n",
      "\u001b[2m\u001b[36m(launch_and_fit pid=19342)\u001b[0m \tTrain Epoch: 3 \tLoss: 0.465409 Acc@1: 3.828125\n",
      "\u001b[2m\u001b[36m(launch_and_fit pid=19342)\u001b[0m \tTrain Epoch: 3 \tLoss: 0.457346 Acc@1: 4.875000\n",
      "\u001b[2m\u001b[36m(launch_and_fit pid=19342)\u001b[0m \tTrain Epoch: 3 \tLoss: 0.453267 Acc@1: 4.062500\n",
      "\u001b[2m\u001b[36m(launch_and_fit pid=19339)\u001b[0m \tTrain Epoch: 4 \tLoss: 0.492773 Acc@1: 0.416667\n",
      "\u001b[2m\u001b[36m(launch_and_fit pid=19339)\u001b[0m \tTrain Epoch: 4 \tLoss: 0.507148 Acc@1: 0.312500\n",
      "\u001b[2m\u001b[36m(launch_and_fit pid=19339)\u001b[0m \tTrain Epoch: 4 \tLoss: 0.503592 Acc@1: 0.250000\n",
      "\u001b[2m\u001b[36m(launch_and_fit pid=19339)\u001b[0m \tTrain Epoch: 4 \tLoss: 0.510035 Acc@1: 0.208333\n",
      "\u001b[2m\u001b[36m(launch_and_fit pid=19339)\u001b[0m \tTrain Epoch: 4 \tLoss: 0.507678 Acc@1: 0.178571\n",
      "\u001b[2m\u001b[36m(launch_and_fit pid=19339)\u001b[0m \tTrain Epoch: 4 \tLoss: 0.508521 Acc@1: 0.156250\n",
      "\u001b[2m\u001b[36m(launch_and_fit pid=19342)\u001b[0m \tTrain Epoch: 3 \tLoss: 0.446458 Acc@1: 3.482143\n",
      "\u001b[2m\u001b[36m(launch_and_fit pid=19342)\u001b[0m \tTrain Epoch: 3 \tLoss: 0.447732 Acc@1: 3.046875\n",
      "\u001b[2m\u001b[36m(launch_and_fit pid=19342)\u001b[0m \tTrain Epoch: 3 \tLoss: 0.445401 Acc@1: 3.611111\n",
      "\u001b[2m\u001b[36m(launch_and_fit pid=19342)\u001b[0m \tTrain Epoch: 3 \tLoss: 0.450256 Acc@1: 3.250000\n",
      "\u001b[2m\u001b[36m(launch_and_fit pid=19342)\u001b[0m \tTrain Epoch: 3 \tLoss: 0.454809 Acc@1: 2.954545\n",
      "\u001b[2m\u001b[36m(launch_and_fit pid=19339)\u001b[0m \tTrain Epoch: 5 \tLoss: 0.446358 Acc@1: 0.000000\n",
      "\u001b[2m\u001b[36m(launch_and_fit pid=19339)\u001b[0m \tTrain Epoch: 5 \tLoss: 0.474236 Acc@1: 0.000000\n",
      "\u001b[2m\u001b[36m(launch_and_fit pid=19339)\u001b[0m \tTrain Epoch: 5 \tLoss: 0.492456 Acc@1: 0.416667\n",
      "\u001b[2m\u001b[36m(launch_and_fit pid=19339)\u001b[0m \tTrain Epoch: 5 \tLoss: 0.506870 Acc@1: 0.312500\n",
      "\u001b[2m\u001b[36m(launch_and_fit pid=19339)\u001b[0m \tTrain Epoch: 5 \tLoss: 0.503306 Acc@1: 0.250000\n",
      "\u001b[2m\u001b[36m(launch_and_fit pid=19339)\u001b[0m \tTrain Epoch: 5 \tLoss: 0.509724 Acc@1: 0.208333\n"
     ]
    },
    {
     "name": "stderr",
     "output_type": "stream",
     "text": [
      "\u001b[2m\u001b[33m(raylet)\u001b[0m [2023-08-12 05:58:35,887 E 19282 19307] (raylet) file_system_monitor.cc:105: /tmp/ray/session_2023-08-12_05-58-14_586539_19229 is over 95% full, available space: 6573752320; capacity: 250375106560. Object creation will fail if spilling is required.\n",
      "DEBUG flwr 2023-08-12 05:58:36,267 | server.py:229 | fit_round 9 received 2 results and 0 failures\n",
      "08/12/2023 05:58:36:DEBUG:fit_round 9 received 2 results and 0 failures\n"
     ]
    },
    {
     "name": "stdout",
     "output_type": "stream",
     "text": [
      "\u001b[2m\u001b[36m(launch_and_fit pid=19342)\u001b[0m \tTrain Epoch: 4 \tLoss: 0.483981 Acc@1: 0.000000\n",
      "\u001b[2m\u001b[36m(launch_and_fit pid=19342)\u001b[0m \tTrain Epoch: 4 \tLoss: 0.469263 Acc@1: 4.218750\n",
      "\u001b[2m\u001b[36m(launch_and_fit pid=19342)\u001b[0m \tTrain Epoch: 4 \tLoss: 0.479538 Acc@1: 5.104167\n",
      "\u001b[2m\u001b[36m(launch_and_fit pid=19342)\u001b[0m \tTrain Epoch: 4 \tLoss: 0.465227 Acc@1: 3.828125\n",
      "\u001b[2m\u001b[36m(launch_and_fit pid=19342)\u001b[0m \tTrain Epoch: 4 \tLoss: 0.457177 Acc@1: 4.875000\n",
      "\u001b[2m\u001b[36m(launch_and_fit pid=19342)\u001b[0m \tTrain Epoch: 4 \tLoss: 0.453098 Acc@1: 4.062500\n",
      "\u001b[2m\u001b[36m(launch_and_fit pid=19342)\u001b[0m \tTrain Epoch: 4 \tLoss: 0.446309 Acc@1: 3.482143\n",
      "\u001b[2m\u001b[36m(launch_and_fit pid=19342)\u001b[0m \tTrain Epoch: 4 \tLoss: 0.447586 Acc@1: 3.046875\n",
      "\u001b[2m\u001b[36m(launch_and_fit pid=19342)\u001b[0m \tTrain Epoch: 4 \tLoss: 0.445263 Acc@1: 3.611111\n",
      "\u001b[2m\u001b[36m(launch_and_fit pid=19339)\u001b[0m \tTrain Epoch: 5 \tLoss: 0.507352 Acc@1: 0.178571\n",
      "\u001b[2m\u001b[36m(launch_and_fit pid=19339)\u001b[0m \tTrain Epoch: 5 \tLoss: 0.508198 Acc@1: 0.156250\n",
      "\u001b[2m\u001b[36m(launch_and_fit pid=19339)\u001b[0m epsilon of client 1 : eps = 0\n",
      "\u001b[2m\u001b[36m(launch_and_fit pid=19342)\u001b[0m \tTrain Epoch: 4 \tLoss: 0.450104 Acc@1: 3.250000\n",
      "\u001b[2m\u001b[36m(launch_and_fit pid=19342)\u001b[0m \tTrain Epoch: 4 \tLoss: 0.454655 Acc@1: 2.954545\n",
      "\u001b[2m\u001b[36m(launch_and_fit pid=19342)\u001b[0m \tTrain Epoch: 5 \tLoss: 0.483623 Acc@1: 0.000000\n",
      "\u001b[2m\u001b[36m(launch_and_fit pid=19342)\u001b[0m \tTrain Epoch: 5 \tLoss: 0.469042 Acc@1: 4.218750\n",
      "\u001b[2m\u001b[36m(launch_and_fit pid=19342)\u001b[0m \tTrain Epoch: 5 \tLoss: 0.479355 Acc@1: 5.104167\n",
      "\u001b[2m\u001b[36m(launch_and_fit pid=19342)\u001b[0m \tTrain Epoch: 5 \tLoss: 0.465066 Acc@1: 3.828125\n",
      "\u001b[2m\u001b[36m(launch_and_fit pid=19342)\u001b[0m \tTrain Epoch: 5 \tLoss: 0.457022 Acc@1: 4.875000\n",
      "\u001b[2m\u001b[36m(launch_and_fit pid=19342)\u001b[0m \tTrain Epoch: 5 \tLoss: 0.452939 Acc@1: 4.062500\n"
     ]
    },
    {
     "name": "stderr",
     "output_type": "stream",
     "text": [
      "INFO flwr 2023-08-12 05:58:36,304 | server.py:116 | fit progress: (9, 0.016653654386671327, {'accuracy': 0.7991071428571429}, 16.070254057995044)\n",
      "08/12/2023 05:58:36:INFO:fit progress: (9, 0.016653654386671327, {'accuracy': 0.7991071428571429}, 16.070254057995044)\n",
      "DEBUG flwr 2023-08-12 05:58:36,307 | server.py:165 | evaluate_round 9: strategy sampled 2 clients (out of 2)\n",
      "08/12/2023 05:58:36:DEBUG:evaluate_round 9: strategy sampled 2 clients (out of 2)\n",
      "DEBUG flwr 2023-08-12 05:58:36,391 | server.py:179 | evaluate_round 9 received 2 results and 0 failures\n",
      "08/12/2023 05:58:36:DEBUG:evaluate_round 9 received 2 results and 0 failures\n",
      "DEBUG flwr 2023-08-12 05:58:36,397 | server.py:215 | fit_round 10: strategy sampled 2 clients (out of 2)\n",
      "08/12/2023 05:58:36:DEBUG:fit_round 10: strategy sampled 2 clients (out of 2)\n"
     ]
    },
    {
     "name": "stdout",
     "output_type": "stream",
     "text": [
      "\u001b[2m\u001b[36m(launch_and_fit pid=19342)\u001b[0m \tTrain Epoch: 5 \tLoss: 0.446162 Acc@1: 3.482143\n",
      "\u001b[2m\u001b[36m(launch_and_fit pid=19342)\u001b[0m \tTrain Epoch: 5 \tLoss: 0.447440 Acc@1: 3.046875\n",
      "\u001b[2m\u001b[36m(launch_and_fit pid=19342)\u001b[0m \tTrain Epoch: 5 \tLoss: 0.445122 Acc@1: 3.611111\n",
      "\u001b[2m\u001b[36m(launch_and_fit pid=19342)\u001b[0m \tTrain Epoch: 5 \tLoss: 0.449957 Acc@1: 3.250000\n",
      "\u001b[2m\u001b[36m(launch_and_fit pid=19342)\u001b[0m \tTrain Epoch: 5 \tLoss: 0.454507 Acc@1: 2.954545\n",
      "\u001b[2m\u001b[36m(launch_and_fit pid=19342)\u001b[0m epsilon of client 0 : eps = 0\n",
      "Server-side evaluation loss 0.016653654386671327 / accuracy 0.7991071428571429\n",
      "\u001b[2m\u001b[36m(launch_and_evaluate pid=19342)\u001b[0m [Client 0] evaluate, config: {}\n",
      "\u001b[2m\u001b[36m(launch_and_evaluate pid=19339)\u001b[0m [Client 1] evaluate, config: {}\n"
     ]
    },
    {
     "name": "stderr",
     "output_type": "stream",
     "text": [
      "\u001b[2m\u001b[36m(launch_and_fit pid=19339)\u001b[0m /home/hlpc/anaconda3/envs/openmined/lib/python3.8/site-packages/opacus/privacy_engine.py:142: UserWarning: Secure RNG turned off. This is perfectly fine for experimentation as it allows for much faster training performance, but remember to turn it on and retrain one last time before production with ``secure_mode`` turned on.\n",
      "\u001b[2m\u001b[36m(launch_and_fit pid=19339)\u001b[0m   warnings.warn(\n",
      "\u001b[2m\u001b[36m(launch_and_fit pid=19342)\u001b[0m /home/hlpc/anaconda3/envs/openmined/lib/python3.8/site-packages/opacus/privacy_engine.py:142: UserWarning: Secure RNG turned off. This is perfectly fine for experimentation as it allows for much faster training performance, but remember to turn it on and retrain one last time before production with ``secure_mode`` turned on.\n",
      "\u001b[2m\u001b[36m(launch_and_fit pid=19342)\u001b[0m   warnings.warn(\n"
     ]
    },
    {
     "name": "stdout",
     "output_type": "stream",
     "text": [
      "\u001b[2m\u001b[36m(launch_and_fit pid=19342)\u001b[0m [Client 1] fit, config: {}\n",
      "\u001b[2m\u001b[36m(launch_and_fit pid=19342)\u001b[0m \tTrain Epoch: 0 \tLoss: 0.448427 Acc@1: 0.000000\n",
      "\u001b[2m\u001b[36m(launch_and_fit pid=19342)\u001b[0m \tTrain Epoch: 0 \tLoss: 0.475690 Acc@1: 0.000000\n",
      "\u001b[2m\u001b[36m(launch_and_fit pid=19342)\u001b[0m \tTrain Epoch: 0 \tLoss: 0.493504 Acc@1: 0.416667\n",
      "\u001b[2m\u001b[36m(launch_and_fit pid=19342)\u001b[0m \tTrain Epoch: 0 \tLoss: 0.507607 Acc@1: 0.312500\n",
      "\u001b[2m\u001b[36m(launch_and_fit pid=19342)\u001b[0m \tTrain Epoch: 0 \tLoss: 0.504043 Acc@1: 0.250000\n",
      "\u001b[2m\u001b[36m(launch_and_fit pid=19342)\u001b[0m \tTrain Epoch: 0 \tLoss: 0.510508 Acc@1: 0.208333\n",
      "\u001b[2m\u001b[36m(launch_and_fit pid=19339)\u001b[0m [Client 0] fit, config: {}\n",
      "\u001b[2m\u001b[36m(launch_and_fit pid=19339)\u001b[0m \tTrain Epoch: 0 \tLoss: 0.485432 Acc@1: 0.000000\n",
      "\u001b[2m\u001b[36m(launch_and_fit pid=19339)\u001b[0m \tTrain Epoch: 0 \tLoss: 0.469973 Acc@1: 4.218750\n",
      "\u001b[2m\u001b[36m(launch_and_fit pid=19339)\u001b[0m \tTrain Epoch: 0 \tLoss: 0.480299 Acc@1: 5.104167\n",
      "\u001b[2m\u001b[36m(launch_and_fit pid=19342)\u001b[0m \tTrain Epoch: 0 \tLoss: 0.508160 Acc@1: 0.178571\n",
      "\u001b[2m\u001b[36m(launch_and_fit pid=19342)\u001b[0m \tTrain Epoch: 0 \tLoss: 0.508937 Acc@1: 0.156250\n",
      "\u001b[2m\u001b[36m(launch_and_fit pid=19342)\u001b[0m \tTrain Epoch: 1 \tLoss: 0.447731 Acc@1: 0.000000\n",
      "\u001b[2m\u001b[36m(launch_and_fit pid=19342)\u001b[0m \tTrain Epoch: 1 \tLoss: 0.475169 Acc@1: 0.000000\n",
      "\u001b[2m\u001b[36m(launch_and_fit pid=19342)\u001b[0m \tTrain Epoch: 1 \tLoss: 0.493061 Acc@1: 0.416667\n",
      "\u001b[2m\u001b[36m(launch_and_fit pid=19342)\u001b[0m \tTrain Epoch: 1 \tLoss: 0.507252 Acc@1: 0.312500\n",
      "\u001b[2m\u001b[36m(launch_and_fit pid=19339)\u001b[0m \tTrain Epoch: 0 \tLoss: 0.465682 Acc@1: 3.828125\n",
      "\u001b[2m\u001b[36m(launch_and_fit pid=19339)\u001b[0m \tTrain Epoch: 0 \tLoss: 0.457509 Acc@1: 4.875000\n",
      "\u001b[2m\u001b[36m(launch_and_fit pid=19339)\u001b[0m \tTrain Epoch: 0 \tLoss: 0.453332 Acc@1: 4.062500\n",
      "\u001b[2m\u001b[36m(launch_and_fit pid=19339)\u001b[0m \tTrain Epoch: 0 \tLoss: 0.446384 Acc@1: 3.482143\n",
      "\u001b[2m\u001b[36m(launch_and_fit pid=19339)\u001b[0m \tTrain Epoch: 0 \tLoss: 0.447649 Acc@1: 3.046875\n",
      "\u001b[2m\u001b[36m(launch_and_fit pid=19339)\u001b[0m \tTrain Epoch: 0 \tLoss: 0.445284 Acc@1: 3.611111\n",
      "\u001b[2m\u001b[36m(launch_and_fit pid=19342)\u001b[0m \tTrain Epoch: 1 \tLoss: 0.503687 Acc@1: 0.250000\n",
      "\u001b[2m\u001b[36m(launch_and_fit pid=19342)\u001b[0m \tTrain Epoch: 1 \tLoss: 0.510148 Acc@1: 0.208333\n",
      "\u001b[2m\u001b[36m(launch_and_fit pid=19342)\u001b[0m \tTrain Epoch: 1 \tLoss: 0.507778 Acc@1: 0.178571\n",
      "\u001b[2m\u001b[36m(launch_and_fit pid=19342)\u001b[0m \tTrain Epoch: 1 \tLoss: 0.508560 Acc@1: 0.156250\n",
      "\u001b[2m\u001b[36m(launch_and_fit pid=19342)\u001b[0m \tTrain Epoch: 2 \tLoss: 0.447130 Acc@1: 0.000000\n",
      "\u001b[2m\u001b[36m(launch_and_fit pid=19342)\u001b[0m \tTrain Epoch: 2 \tLoss: 0.474703 Acc@1: 0.000000\n",
      "\u001b[2m\u001b[36m(launch_and_fit pid=19339)\u001b[0m \tTrain Epoch: 0 \tLoss: 0.450196 Acc@1: 3.250000\n",
      "\u001b[2m\u001b[36m(launch_and_fit pid=19339)\u001b[0m \tTrain Epoch: 0 \tLoss: 0.454743 Acc@1: 2.954545\n",
      "\u001b[2m\u001b[36m(launch_and_fit pid=19339)\u001b[0m \tTrain Epoch: 1 \tLoss: 0.484514 Acc@1: 0.000000\n",
      "\u001b[2m\u001b[36m(launch_and_fit pid=19339)\u001b[0m \tTrain Epoch: 1 \tLoss: 0.469432 Acc@1: 4.218750\n",
      "\u001b[2m\u001b[36m(launch_and_fit pid=19339)\u001b[0m \tTrain Epoch: 1 \tLoss: 0.479777 Acc@1: 5.104167\n",
      "\u001b[2m\u001b[36m(launch_and_fit pid=19339)\u001b[0m \tTrain Epoch: 1 \tLoss: 0.465299 Acc@1: 3.828125\n",
      "\u001b[2m\u001b[36m(launch_and_fit pid=19342)\u001b[0m \tTrain Epoch: 2 \tLoss: 0.492664 Acc@1: 0.416667\n",
      "\u001b[2m\u001b[36m(launch_and_fit pid=19342)\u001b[0m \tTrain Epoch: 2 \tLoss: 0.506925 Acc@1: 0.312500\n",
      "\u001b[2m\u001b[36m(launch_and_fit pid=19342)\u001b[0m \tTrain Epoch: 2 \tLoss: 0.503355 Acc@1: 0.250000\n",
      "\u001b[2m\u001b[36m(launch_and_fit pid=19342)\u001b[0m \tTrain Epoch: 2 \tLoss: 0.509803 Acc@1: 0.208333\n",
      "\u001b[2m\u001b[36m(launch_and_fit pid=19342)\u001b[0m \tTrain Epoch: 2 \tLoss: 0.507414 Acc@1: 0.178571\n",
      "\u001b[2m\u001b[36m(launch_and_fit pid=19342)\u001b[0m \tTrain Epoch: 2 \tLoss: 0.508200 Acc@1: 0.156250\n",
      "\u001b[2m\u001b[36m(launch_and_fit pid=19342)\u001b[0m \tTrain Epoch: 3 \tLoss: 0.446597 Acc@1: 0.000000\n",
      "\u001b[2m\u001b[36m(launch_and_fit pid=19339)\u001b[0m \tTrain Epoch: 1 \tLoss: 0.457194 Acc@1: 4.875000\n",
      "\u001b[2m\u001b[36m(launch_and_fit pid=19339)\u001b[0m \tTrain Epoch: 1 \tLoss: 0.453053 Acc@1: 4.062500\n",
      "\u001b[2m\u001b[36m(launch_and_fit pid=19339)\u001b[0m \tTrain Epoch: 1 \tLoss: 0.446178 Acc@1: 3.482143\n",
      "\u001b[2m\u001b[36m(launch_and_fit pid=19339)\u001b[0m \tTrain Epoch: 1 \tLoss: 0.447447 Acc@1: 3.046875\n",
      "\u001b[2m\u001b[36m(launch_and_fit pid=19339)\u001b[0m \tTrain Epoch: 1 \tLoss: 0.445112 Acc@1: 3.611111\n",
      "\u001b[2m\u001b[36m(launch_and_fit pid=19339)\u001b[0m \tTrain Epoch: 1 \tLoss: 0.449982 Acc@1: 3.250000\n",
      "\u001b[2m\u001b[36m(launch_and_fit pid=19342)\u001b[0m \tTrain Epoch: 3 \tLoss: 0.474291 Acc@1: 0.000000\n",
      "\u001b[2m\u001b[36m(launch_and_fit pid=19342)\u001b[0m \tTrain Epoch: 3 \tLoss: 0.492303 Acc@1: 0.416667\n",
      "\u001b[2m\u001b[36m(launch_and_fit pid=19342)\u001b[0m \tTrain Epoch: 3 \tLoss: 0.506620 Acc@1: 0.312500\n",
      "\u001b[2m\u001b[36m(launch_and_fit pid=19342)\u001b[0m \tTrain Epoch: 3 \tLoss: 0.503043 Acc@1: 0.250000\n",
      "\u001b[2m\u001b[36m(launch_and_fit pid=19339)\u001b[0m \tTrain Epoch: 1 \tLoss: 0.454514 Acc@1: 2.954545\n",
      "\u001b[2m\u001b[36m(launch_and_fit pid=19339)\u001b[0m \tTrain Epoch: 2 \tLoss: 0.483866 Acc@1: 0.000000\n",
      "\u001b[2m\u001b[36m(launch_and_fit pid=19339)\u001b[0m \tTrain Epoch: 2 \tLoss: 0.469054 Acc@1: 4.218750\n",
      "\u001b[2m\u001b[36m(launch_and_fit pid=19339)\u001b[0m \tTrain Epoch: 2 \tLoss: 0.479420 Acc@1: 5.104167\n",
      "\u001b[2m\u001b[36m(launch_and_fit pid=19339)\u001b[0m \tTrain Epoch: 2 \tLoss: 0.465028 Acc@1: 3.828125\n",
      "\u001b[2m\u001b[36m(launch_and_fit pid=19342)\u001b[0m \tTrain Epoch: 3 \tLoss: 0.509473 Acc@1: 0.208333\n",
      "\u001b[2m\u001b[36m(launch_and_fit pid=19342)\u001b[0m \tTrain Epoch: 3 \tLoss: 0.507066 Acc@1: 0.178571\n",
      "\u001b[2m\u001b[36m(launch_and_fit pid=19342)\u001b[0m \tTrain Epoch: 3 \tLoss: 0.507858 Acc@1: 0.156250\n",
      "\u001b[2m\u001b[36m(launch_and_fit pid=19342)\u001b[0m \tTrain Epoch: 4 \tLoss: 0.446137 Acc@1: 0.000000\n",
      "\u001b[2m\u001b[36m(launch_and_fit pid=19342)\u001b[0m \tTrain Epoch: 4 \tLoss: 0.473927 Acc@1: 0.000000\n",
      "\u001b[2m\u001b[36m(launch_and_fit pid=19339)\u001b[0m \tTrain Epoch: 2 \tLoss: 0.456961 Acc@1: 4.875000\n",
      "\u001b[2m\u001b[36m(launch_and_fit pid=19339)\u001b[0m \tTrain Epoch: 2 \tLoss: 0.452839 Acc@1: 4.062500\n",
      "\u001b[2m\u001b[36m(launch_and_fit pid=19339)\u001b[0m \tTrain Epoch: 2 \tLoss: 0.446010 Acc@1: 3.482143\n",
      "\u001b[2m\u001b[36m(launch_and_fit pid=19342)\u001b[0m \tTrain Epoch: 4 \tLoss: 0.491975 Acc@1: 0.416667\n",
      "\u001b[2m\u001b[36m(launch_and_fit pid=19342)\u001b[0m \tTrain Epoch: 4 \tLoss: 0.506334 Acc@1: 0.312500\n",
      "\u001b[2m\u001b[36m(launch_and_fit pid=19342)\u001b[0m \tTrain Epoch: 4 \tLoss: 0.502753 Acc@1: 0.250000\n",
      "\u001b[2m\u001b[36m(launch_and_fit pid=19342)\u001b[0m \tTrain Epoch: 4 \tLoss: 0.509160 Acc@1: 0.208333\n",
      "\u001b[2m\u001b[36m(launch_and_fit pid=19339)\u001b[0m \tTrain Epoch: 2 \tLoss: 0.447282 Acc@1: 3.046875\n",
      "\u001b[2m\u001b[36m(launch_and_fit pid=19339)\u001b[0m \tTrain Epoch: 2 \tLoss: 0.444965 Acc@1: 3.611111\n",
      "\u001b[2m\u001b[36m(launch_and_fit pid=19339)\u001b[0m \tTrain Epoch: 2 \tLoss: 0.449806 Acc@1: 3.250000\n",
      "\u001b[2m\u001b[36m(launch_and_fit pid=19339)\u001b[0m \tTrain Epoch: 2 \tLoss: 0.454329 Acc@1: 2.954545\n",
      "\u001b[2m\u001b[36m(launch_and_fit pid=19339)\u001b[0m \tTrain Epoch: 3 \tLoss: 0.483343 Acc@1: 0.000000\n",
      "\u001b[2m\u001b[36m(launch_and_fit pid=19342)\u001b[0m \tTrain Epoch: 4 \tLoss: 0.506737 Acc@1: 0.178571\n",
      "\u001b[2m\u001b[36m(launch_and_fit pid=19342)\u001b[0m \tTrain Epoch: 4 \tLoss: 0.507533 Acc@1: 0.156250\n",
      "\u001b[2m\u001b[36m(launch_and_fit pid=19342)\u001b[0m \tTrain Epoch: 5 \tLoss: 0.445710 Acc@1: 0.000000\n",
      "\u001b[2m\u001b[36m(launch_and_fit pid=19342)\u001b[0m \tTrain Epoch: 5 \tLoss: 0.473584 Acc@1: 0.000000\n",
      "\u001b[2m\u001b[36m(launch_and_fit pid=19342)\u001b[0m \tTrain Epoch: 5 \tLoss: 0.491673 Acc@1: 0.416667\n",
      "\u001b[2m\u001b[36m(launch_and_fit pid=19339)\u001b[0m \tTrain Epoch: 3 \tLoss: 0.468748 Acc@1: 4.218750\n",
      "\u001b[2m\u001b[36m(launch_and_fit pid=19339)\u001b[0m \tTrain Epoch: 3 \tLoss: 0.479146 Acc@1: 5.104167\n",
      "\u001b[2m\u001b[36m(launch_and_fit pid=19339)\u001b[0m \tTrain Epoch: 3 \tLoss: 0.464811 Acc@1: 3.828125\n",
      "\u001b[2m\u001b[36m(launch_and_fit pid=19339)\u001b[0m \tTrain Epoch: 3 \tLoss: 0.456767 Acc@1: 4.875000\n",
      "\u001b[2m\u001b[36m(launch_and_fit pid=19339)\u001b[0m \tTrain Epoch: 3 \tLoss: 0.452652 Acc@1: 4.062500\n",
      "\u001b[2m\u001b[36m(launch_and_fit pid=19339)\u001b[0m \tTrain Epoch: 3 \tLoss: 0.445854 Acc@1: 3.482143\n",
      "\u001b[2m\u001b[36m(launch_and_fit pid=19342)\u001b[0m \tTrain Epoch: 5 \tLoss: 0.506065 Acc@1: 0.312500\n",
      "\u001b[2m\u001b[36m(launch_and_fit pid=19342)\u001b[0m \tTrain Epoch: 5 \tLoss: 0.502478 Acc@1: 0.250000\n",
      "\u001b[2m\u001b[36m(launch_and_fit pid=19342)\u001b[0m \tTrain Epoch: 5 \tLoss: 0.508858 Acc@1: 0.208333\n",
      "\u001b[2m\u001b[36m(launch_and_fit pid=19342)\u001b[0m \tTrain Epoch: 5 \tLoss: 0.506420 Acc@1: 0.178571\n",
      "\u001b[2m\u001b[36m(launch_and_fit pid=19342)\u001b[0m \tTrain Epoch: 5 \tLoss: 0.507218 Acc@1: 0.156250\n",
      "\u001b[2m\u001b[36m(launch_and_fit pid=19342)\u001b[0m epsilon of client 1 : eps = 0\n",
      "\u001b[2m\u001b[36m(launch_and_fit pid=19339)\u001b[0m \tTrain Epoch: 3 \tLoss: 0.447126 Acc@1: 3.046875\n",
      "\u001b[2m\u001b[36m(launch_and_fit pid=19339)\u001b[0m \tTrain Epoch: 3 \tLoss: 0.444819 Acc@1: 3.611111\n",
      "\u001b[2m\u001b[36m(launch_and_fit pid=19339)\u001b[0m \tTrain Epoch: 3 \tLoss: 0.449646 Acc@1: 3.250000\n",
      "\u001b[2m\u001b[36m(launch_and_fit pid=19339)\u001b[0m \tTrain Epoch: 3 \tLoss: 0.454162 Acc@1: 2.954545\n",
      "\u001b[2m\u001b[36m(launch_and_fit pid=19339)\u001b[0m \tTrain Epoch: 4 \tLoss: 0.482911 Acc@1: 0.000000\n",
      "\u001b[2m\u001b[36m(launch_and_fit pid=19339)\u001b[0m \tTrain Epoch: 4 \tLoss: 0.468489 Acc@1: 4.218750\n",
      "\u001b[2m\u001b[36m(launch_and_fit pid=19339)\u001b[0m \tTrain Epoch: 4 \tLoss: 0.478926 Acc@1: 5.104167\n",
      "\u001b[2m\u001b[36m(launch_and_fit pid=19339)\u001b[0m \tTrain Epoch: 4 \tLoss: 0.464626 Acc@1: 3.828125\n",
      "\u001b[2m\u001b[36m(launch_and_fit pid=19339)\u001b[0m \tTrain Epoch: 4 \tLoss: 0.456596 Acc@1: 4.875000\n",
      "\u001b[2m\u001b[36m(launch_and_fit pid=19339)\u001b[0m \tTrain Epoch: 4 \tLoss: 0.452480 Acc@1: 4.062500\n",
      "\u001b[2m\u001b[36m(launch_and_fit pid=19339)\u001b[0m \tTrain Epoch: 4 \tLoss: 0.445702 Acc@1: 3.482143\n",
      "\u001b[2m\u001b[36m(launch_and_fit pid=19339)\u001b[0m \tTrain Epoch: 4 \tLoss: 0.446974 Acc@1: 3.046875\n",
      "\u001b[2m\u001b[36m(launch_and_fit pid=19339)\u001b[0m \tTrain Epoch: 4 \tLoss: 0.444676 Acc@1: 3.611111\n",
      "\u001b[2m\u001b[36m(launch_and_fit pid=19339)\u001b[0m \tTrain Epoch: 4 \tLoss: 0.449493 Acc@1: 3.250000\n"
     ]
    },
    {
     "name": "stderr",
     "output_type": "stream",
     "text": [
      "DEBUG flwr 2023-08-12 05:58:37,759 | server.py:229 | fit_round 10 received 2 results and 0 failures\n",
      "08/12/2023 05:58:37:DEBUG:fit_round 10 received 2 results and 0 failures\n",
      "INFO flwr 2023-08-12 05:58:37,792 | server.py:116 | fit progress: (10, 0.01661019152302822, {'accuracy': 0.7991071428571429}, 17.55803451000247)\n",
      "08/12/2023 05:58:37:INFO:fit progress: (10, 0.01661019152302822, {'accuracy': 0.7991071428571429}, 17.55803451000247)\n",
      "DEBUG flwr 2023-08-12 05:58:37,794 | server.py:165 | evaluate_round 10: strategy sampled 2 clients (out of 2)\n",
      "08/12/2023 05:58:37:DEBUG:evaluate_round 10: strategy sampled 2 clients (out of 2)\n"
     ]
    },
    {
     "name": "stdout",
     "output_type": "stream",
     "text": [
      "\u001b[2m\u001b[36m(launch_and_fit pid=19339)\u001b[0m \tTrain Epoch: 4 \tLoss: 0.454006 Acc@1: 2.954545\n",
      "\u001b[2m\u001b[36m(launch_and_fit pid=19339)\u001b[0m \tTrain Epoch: 5 \tLoss: 0.482523 Acc@1: 0.000000\n",
      "\u001b[2m\u001b[36m(launch_and_fit pid=19339)\u001b[0m \tTrain Epoch: 5 \tLoss: 0.468255 Acc@1: 4.218750\n",
      "\u001b[2m\u001b[36m(launch_and_fit pid=19339)\u001b[0m \tTrain Epoch: 5 \tLoss: 0.478733 Acc@1: 5.104167\n",
      "\u001b[2m\u001b[36m(launch_and_fit pid=19339)\u001b[0m \tTrain Epoch: 5 \tLoss: 0.464459 Acc@1: 3.828125\n",
      "\u001b[2m\u001b[36m(launch_and_fit pid=19339)\u001b[0m \tTrain Epoch: 5 \tLoss: 0.456441 Acc@1: 4.875000\n",
      "\u001b[2m\u001b[36m(launch_and_fit pid=19339)\u001b[0m \tTrain Epoch: 5 \tLoss: 0.452320 Acc@1: 4.062500\n",
      "\u001b[2m\u001b[36m(launch_and_fit pid=19339)\u001b[0m \tTrain Epoch: 5 \tLoss: 0.445554 Acc@1: 3.482143\n",
      "\u001b[2m\u001b[36m(launch_and_fit pid=19339)\u001b[0m \tTrain Epoch: 5 \tLoss: 0.446831 Acc@1: 3.046875\n",
      "\u001b[2m\u001b[36m(launch_and_fit pid=19339)\u001b[0m \tTrain Epoch: 5 \tLoss: 0.444539 Acc@1: 3.611111\n",
      "\u001b[2m\u001b[36m(launch_and_fit pid=19339)\u001b[0m \tTrain Epoch: 5 \tLoss: 0.449349 Acc@1: 3.250000\n",
      "\u001b[2m\u001b[36m(launch_and_fit pid=19339)\u001b[0m \tTrain Epoch: 5 \tLoss: 0.453863 Acc@1: 2.954545\n",
      "\u001b[2m\u001b[36m(launch_and_fit pid=19339)\u001b[0m epsilon of client 0 : eps = 0\n",
      "Server-side evaluation loss 0.01661019152302822 / accuracy 0.7991071428571429\n"
     ]
    },
    {
     "name": "stderr",
     "output_type": "stream",
     "text": [
      "DEBUG flwr 2023-08-12 05:58:37,883 | server.py:179 | evaluate_round 10 received 2 results and 0 failures\n",
      "08/12/2023 05:58:37:DEBUG:evaluate_round 10 received 2 results and 0 failures\n",
      "INFO flwr 2023-08-12 05:58:37,884 | server.py:144 | FL finished in 17.650714465999044\n",
      "08/12/2023 05:58:37:INFO:FL finished in 17.650714465999044\n",
      "INFO flwr 2023-08-12 05:58:37,886 | app.py:202 | app_fit: losses_distributed [(1, 0.0162470310332346), (2, 0.016198821136130293), (3, 0.016154281206448184), (4, 0.016108786852860466), (5, 0.01606626015489596), (6, 0.01602427473972204), (7, 0.015985935291895934), (8, 0.01594928442979986), (9, 0.015915465608378063), (10, 0.0158816590347557)]\n",
      "08/12/2023 05:58:37:INFO:app_fit: losses_distributed [(1, 0.0162470310332346), (2, 0.016198821136130293), (3, 0.016154281206448184), (4, 0.016108786852860466), (5, 0.01606626015489596), (6, 0.01602427473972204), (7, 0.015985935291895934), (8, 0.01594928442979986), (9, 0.015915465608378063), (10, 0.0158816590347557)]\n",
      "INFO flwr 2023-08-12 05:58:37,888 | app.py:203 | app_fit: metrics_distributed {}\n",
      "08/12/2023 05:58:37:INFO:app_fit: metrics_distributed {}\n",
      "INFO flwr 2023-08-12 05:58:37,889 | app.py:204 | app_fit: losses_centralized [(0, 0.017081703785226214), (1, 0.017058201116337764), (2, 0.017012660594867002), (3, 0.016957563247612054), (4, 0.016899592084564465), (5, 0.016844851150215386), (6, 0.0167922142455332), (7, 0.016743475942017076), (8, 0.016697474306435894), (9, 0.016653654386671327), (10, 0.01661019152302822)]\n",
      "08/12/2023 05:58:37:INFO:app_fit: losses_centralized [(0, 0.017081703785226214), (1, 0.017058201116337764), (2, 0.017012660594867002), (3, 0.016957563247612054), (4, 0.016899592084564465), (5, 0.016844851150215386), (6, 0.0167922142455332), (7, 0.016743475942017076), (8, 0.016697474306435894), (9, 0.016653654386671327), (10, 0.01661019152302822)]\n",
      "INFO flwr 2023-08-12 05:58:37,891 | app.py:205 | app_fit: metrics_centralized {'accuracy': [(0, 0.7991071428571429), (1, 0.7991071428571429), (2, 0.7991071428571429), (3, 0.7991071428571429), (4, 0.7991071428571429), (5, 0.7991071428571429), (6, 0.7991071428571429), (7, 0.7991071428571429), (8, 0.7991071428571429), (9, 0.7991071428571429), (10, 0.7991071428571429)]}\n",
      "08/12/2023 05:58:37:INFO:app_fit: metrics_centralized {'accuracy': [(0, 0.7991071428571429), (1, 0.7991071428571429), (2, 0.7991071428571429), (3, 0.7991071428571429), (4, 0.7991071428571429), (5, 0.7991071428571429), (6, 0.7991071428571429), (7, 0.7991071428571429), (8, 0.7991071428571429), (9, 0.7991071428571429), (10, 0.7991071428571429)]}\n"
     ]
    },
    {
     "name": "stdout",
     "output_type": "stream",
     "text": [
      "\u001b[2m\u001b[36m(launch_and_evaluate pid=19339)\u001b[0m [Client 0] evaluate, config: {}\n"
     ]
    }
   ],
   "source": [
    "#Create a pipeline\n",
    "from Medfl.LearningManager.flpipeline import *\n",
    "ppl_1 = FLpipeline( name =\"the first fl_pipeline\",description = \"this is our first FL pipeline\",server = server)\n",
    "ppl_1.server.run()"
   ]
  },
  {
   "cell_type": "code",
   "execution_count": 26,
   "id": "5493bbfc",
   "metadata": {},
   "outputs": [
    {
     "name": "stdout",
     "output_type": "stream",
     "text": [
      "\u001b[2m\u001b[36m(launch_and_evaluate pid=19342)\u001b[0m [Client 1] evaluate, config: {}\n"
     ]
    },
    {
     "data": {
      "image/png": "[encoded data removed]",
      "text/plain": [
       "<Figure size 800x600 with 1 Axes>"
      ]
     },
     "metadata": {},
     "output_type": "display_data"
    }
   ],
   "source": [
    "# making some plots\n",
    "from Medfl.LearningManager.plot import AccuracyLossPlotter\n",
    "\n",
    "global_accuracy,global_loss = ppl_1.server.accuracies,ppl_1.server.losses\n",
    "results_dict = {\n",
    "    ('LR: 0.001, Optimizer: SGD', 'accuracy'): global_accuracy,\n",
    "    ('LR: 0.001, Optimizer: SGD', 'loss'): global_loss\n",
    "}\n",
    "plotter = AccuracyLossPlotter(results_dict)\n",
    "plotter.plot_accuracy_loss()"
   ]
  },
  {
   "cell_type": "code",
   "execution_count": 27,
   "id": "1ff0cf53",
   "metadata": {},
   "outputs": [
    {
     "data": {
      "text/plain": [
       "\"\\nfrom Medfl.LearningManager.plot import AccuracyLossPlotter\\n\\nclient1_accuracy,client1_loss,client1_epsilon = ppl_1.server.flower_clients[0].accuracies,ppl_1.server.flower_clients[0].losses,ppl_1.server.flower_clients[0].epsilons\\nresults_dict = {\\n    ('LR: 0.001, Optimizer: SGD', 'accuracy'): client1_accuracy,\\n    ('LR: 0.001, Optimizer: SGD', 'loss'): client1_loss,\\n    ('LR: 0.001, Optimizer: SGD', 'epsilon'): client1_epsilon\\n}\\nplotter = AccuracyLossPlotter(results_dict)\\nplotter.plot_accuracy_loss()\\n\""
      ]
     },
     "execution_count": 27,
     "metadata": {},
     "output_type": "execute_result"
    }
   ],
   "source": [
    "\"\"\"\n",
    "from Medfl.LearningManager.plot import AccuracyLossPlotter\n",
    "\n",
    "client1_accuracy,client1_loss,client1_epsilon = ppl_1.server.flower_clients[0].accuracies,ppl_1.server.flower_clients[0].losses,ppl_1.server.flower_clients[0].epsilons\n",
    "results_dict = {\n",
    "    ('LR: 0.001, Optimizer: SGD', 'accuracy'): client1_accuracy,\n",
    "    ('LR: 0.001, Optimizer: SGD', 'loss'): client1_loss,\n",
    "    ('LR: 0.001, Optimizer: SGD', 'epsilon'): client1_epsilon\n",
    "}\n",
    "plotter = AccuracyLossPlotter(results_dict)\n",
    "plotter.plot_accuracy_loss()\n",
    "\"\"\""
   ]
  },
  {
   "cell_type": "code",
   "execution_count": 28,
   "id": "b0974d51",
   "metadata": {},
   "outputs": [
    {
     "name": "stderr",
     "output_type": "stream",
     "text": [
      "/home/hlpc/Desktop/Github/MEDfl/Medfl/LearningManager/utils.py:28: RuntimeWarning: invalid value encountered in scalar divide\n",
      "  f1 = 2 * (sen * ppv) / (sen + ppv)\n"
     ]
    },
    {
     "data": {
      "text/plain": [
       "[{'node_name': 'Midwest',\n",
       "  'classification_report': \"{'confusion matrix': {'TP': 0, 'FP': 2, 'FN': 169, 'TN': 872}, 'Accuracy': 0.836, 'Sensitivity/Recall': 0.0, 'Specificity': 0.998, 'PPV/Precision': 0.0, 'NPV': 0.838, 'F1-score': nan, 'False positive rate': 0.002, 'True positive rate': 0.0}\"},\n",
       " {'node_name': 'South',\n",
       "  'classification_report': \"{'confusion matrix': {'TP': 4, 'FP': 3, 'FN': 142, 'TN': 559}, 'Accuracy': 0.795, 'Sensitivity/Recall': 0.027, 'Specificity': 0.995, 'PPV/Precision': 0.571, 'NPV': 0.797, 'F1-score': 0.052, 'False positive rate': 0.005, 'True positive rate': 0.027}\"},\n",
       " {'node_name': 'West',\n",
       "  'classification_report': \"{'confusion matrix': {'TP': 1, 'FP': 2, 'FN': 547, 'TN': 2351}, 'Accuracy': 0.811, 'Sensitivity/Recall': 0.002, 'Specificity': 0.999, 'PPV/Precision': 0.333, 'NPV': 0.811, 'F1-score': 0.004, 'False positive rate': 0.001, 'True positive rate': 0.002}\"},\n",
       " {'node_name': 'Northeast',\n",
       "  'classification_report': \"{'confusion matrix': {'TP': 19, 'FP': 16, 'FN': 240, 'TN': 969}, 'Accuracy': 0.794, 'Sensitivity/Recall': 0.073, 'Specificity': 0.984, 'PPV/Precision': 0.543, 'NPV': 0.801, 'F1-score': 0.129, 'False positive rate': 0.016, 'True positive rate': 0.073}\"}]"
      ]
     },
     "execution_count": 28,
     "metadata": {},
     "output_type": "execute_result"
    },
    {
     "name": "stderr",
     "output_type": "stream",
     "text": [
      "\u001b[2m\u001b[33m(raylet)\u001b[0m [2023-08-12 05:58:45,897 E 19282 19307] (raylet) file_system_monitor.cc:105: /tmp/ray/session_2023-08-12_05-58-14_586539_19229 is over 95% full, available space: 6573744128; capacity: 250375106560. Object creation will fail if spilling is required.\n",
      "\u001b[2m\u001b[33m(raylet)\u001b[0m [2023-08-12 05:58:55,904 E 19282 19307] (raylet) file_system_monitor.cc:105: /tmp/ray/session_2023-08-12_05-58-14_586539_19229 is over 95% full, available space: 6573740032; capacity: 250375106560. Object creation will fail if spilling is required.\n",
      "\u001b[2m\u001b[33m(raylet)\u001b[0m [2023-08-12 05:59:05,910 E 19282 19307] (raylet) file_system_monitor.cc:105: /tmp/ray/session_2023-08-12_05-58-14_586539_19229 is over 95% full, available space: 6573740032; capacity: 250375106560. Object creation will fail if spilling is required.\n",
      "\u001b[2m\u001b[33m(raylet)\u001b[0m [2023-08-12 05:59:15,916 E 19282 19307] (raylet) file_system_monitor.cc:105: /tmp/ray/session_2023-08-12_05-58-14_586539_19229 is over 95% full, available space: 6573711360; capacity: 250375106560. Object creation will fail if spilling is required.\n",
      "\u001b[2m\u001b[33m(raylet)\u001b[0m [2023-08-12 05:59:25,923 E 19282 19307] (raylet) file_system_monitor.cc:105: /tmp/ray/session_2023-08-12_05-58-14_586539_19229 is over 95% full, available space: 6573711360; capacity: 250375106560. Object creation will fail if spilling is required.\n",
      "\u001b[2m\u001b[33m(raylet)\u001b[0m [2023-08-12 05:59:35,928 E 19282 19307] (raylet) file_system_monitor.cc:105: /tmp/ray/session_2023-08-12_05-58-14_586539_19229 is over 95% full, available space: 6573707264; capacity: 250375106560. Object creation will fail if spilling is required.\n",
      "\u001b[2m\u001b[33m(raylet)\u001b[0m [2023-08-12 05:59:45,933 E 19282 19307] (raylet) file_system_monitor.cc:105: /tmp/ray/session_2023-08-12_05-58-14_586539_19229 is over 95% full, available space: 6573707264; capacity: 250375106560. Object creation will fail if spilling is required.\n",
      "\u001b[2m\u001b[33m(raylet)\u001b[0m [2023-08-12 05:59:55,939 E 19282 19307] (raylet) file_system_monitor.cc:105: /tmp/ray/session_2023-08-12_05-58-14_586539_19229 is over 95% full, available space: 6573699072; capacity: 250375106560. Object creation will fail if spilling is required.\n",
      "\u001b[2m\u001b[33m(raylet)\u001b[0m [2023-08-12 06:00:05,944 E 19282 19307] (raylet) file_system_monitor.cc:105: /tmp/ray/session_2023-08-12_05-58-14_586539_19229 is over 95% full, available space: 6573699072; capacity: 250375106560. Object creation will fail if spilling is required.\n",
      "\u001b[2m\u001b[33m(raylet)\u001b[0m [2023-08-12 06:00:15,950 E 19282 19307] (raylet) file_system_monitor.cc:105: /tmp/ray/session_2023-08-12_05-58-14_586539_19229 is over 95% full, available space: 6573641728; capacity: 250375106560. Object creation will fail if spilling is required.\n",
      "\u001b[2m\u001b[33m(raylet)\u001b[0m [2023-08-12 06:00:25,958 E 19282 19307] (raylet) file_system_monitor.cc:105: /tmp/ray/session_2023-08-12_05-58-14_586539_19229 is over 95% full, available space: 6573645824; capacity: 250375106560. Object creation will fail if spilling is required.\n",
      "\u001b[2m\u001b[33m(raylet)\u001b[0m [2023-08-12 06:00:35,964 E 19282 19307] (raylet) file_system_monitor.cc:105: /tmp/ray/session_2023-08-12_05-58-14_586539_19229 is over 95% full, available space: 6573641728; capacity: 250375106560. Object creation will fail if spilling is required.\n",
      "\u001b[2m\u001b[33m(raylet)\u001b[0m [2023-08-12 06:00:45,969 E 19282 19307] (raylet) file_system_monitor.cc:105: /tmp/ray/session_2023-08-12_05-58-14_586539_19229 is over 95% full, available space: 6573641728; capacity: 250375106560. Object creation will fail if spilling is required.\n",
      "\u001b[2m\u001b[33m(raylet)\u001b[0m [2023-08-12 06:00:55,976 E 19282 19307] (raylet) file_system_monitor.cc:105: /tmp/ray/session_2023-08-12_05-58-14_586539_19229 is over 95% full, available space: 6573641728; capacity: 250375106560. Object creation will fail if spilling is required.\n",
      "\u001b[2m\u001b[33m(raylet)\u001b[0m [2023-08-12 06:01:05,982 E 19282 19307] (raylet) file_system_monitor.cc:105: /tmp/ray/session_2023-08-12_05-58-14_586539_19229 is over 95% full, available space: 6573645824; capacity: 250375106560. Object creation will fail if spilling is required.\n",
      "\u001b[2m\u001b[33m(raylet)\u001b[0m [2023-08-12 06:01:15,990 E 19282 19307] (raylet) file_system_monitor.cc:105: /tmp/ray/session_2023-08-12_05-58-14_586539_19229 is over 95% full, available space: 6573596672; capacity: 250375106560. Object creation will fail if spilling is required.\n",
      "\u001b[2m\u001b[33m(raylet)\u001b[0m [2023-08-12 06:01:25,996 E 19282 19307] (raylet) file_system_monitor.cc:105: /tmp/ray/session_2023-08-12_05-58-14_586539_19229 is over 95% full, available space: 6573588480; capacity: 250375106560. Object creation will fail if spilling is required.\n",
      "\u001b[2m\u001b[33m(raylet)\u001b[0m [2023-08-12 06:01:36,003 E 19282 19307] (raylet) file_system_monitor.cc:105: /tmp/ray/session_2023-08-12_05-58-14_586539_19229 is over 95% full, available space: 6573580288; capacity: 250375106560. Object creation will fail if spilling is required.\n",
      "\u001b[2m\u001b[33m(raylet)\u001b[0m [2023-08-12 06:01:46,010 E 19282 19307] (raylet) file_system_monitor.cc:105: /tmp/ray/session_2023-08-12_05-58-14_586539_19229 is over 95% full, available space: 6573551616; capacity: 250375106560. Object creation will fail if spilling is required.\n",
      "\u001b[2m\u001b[33m(raylet)\u001b[0m [2023-08-12 06:01:56,018 E 19282 19307] (raylet) file_system_monitor.cc:105: /tmp/ray/session_2023-08-12_05-58-14_586539_19229 is over 95% full, available space: 6573572096; capacity: 250375106560. Object creation will fail if spilling is required.\n",
      "\u001b[2m\u001b[33m(raylet)\u001b[0m [2023-08-12 06:02:06,025 E 19282 19307] (raylet) file_system_monitor.cc:105: /tmp/ray/session_2023-08-12_05-58-14_586539_19229 is over 95% full, available space: 6573559808; capacity: 250375106560. Object creation will fail if spilling is required.\n",
      "\u001b[2m\u001b[33m(raylet)\u001b[0m [2023-08-12 06:02:16,032 E 19282 19307] (raylet) file_system_monitor.cc:105: /tmp/ray/session_2023-08-12_05-58-14_586539_19229 is over 95% full, available space: 6573535232; capacity: 250375106560. Object creation will fail if spilling is required.\n",
      "\u001b[2m\u001b[33m(raylet)\u001b[0m [2023-08-12 06:02:26,038 E 19282 19307] (raylet) file_system_monitor.cc:105: /tmp/ray/session_2023-08-12_05-58-14_586539_19229 is over 95% full, available space: 6573527040; capacity: 250375106560. Object creation will fail if spilling is required.\n",
      "\u001b[2m\u001b[33m(raylet)\u001b[0m [2023-08-12 06:02:36,045 E 19282 19307] (raylet) file_system_monitor.cc:105: /tmp/ray/session_2023-08-12_05-58-14_586539_19229 is over 95% full, available space: 6573527040; capacity: 250375106560. Object creation will fail if spilling is required.\n",
      "\u001b[2m\u001b[33m(raylet)\u001b[0m [2023-08-12 06:02:46,049 E 19282 19307] (raylet) file_system_monitor.cc:105: /tmp/ray/session_2023-08-12_05-58-14_586539_19229 is over 95% full, available space: 6573522944; capacity: 250375106560. Object creation will fail if spilling is required.\n",
      "\u001b[2m\u001b[33m(raylet)\u001b[0m [2023-08-12 06:02:56,056 E 19282 19307] (raylet) file_system_monitor.cc:105: /tmp/ray/session_2023-08-12_05-58-14_586539_19229 is over 95% full, available space: 6572957696; capacity: 250375106560. Object creation will fail if spilling is required.\n",
      "\u001b[2m\u001b[33m(raylet)\u001b[0m [2023-08-12 06:03:06,062 E 19282 19307] (raylet) file_system_monitor.cc:105: /tmp/ray/session_2023-08-12_05-58-14_586539_19229 is over 95% full, available space: 6571982848; capacity: 250375106560. Object creation will fail if spilling is required.\n",
      "\u001b[2m\u001b[33m(raylet)\u001b[0m [2023-08-12 06:03:16,067 E 19282 19307] (raylet) file_system_monitor.cc:105: /tmp/ray/session_2023-08-12_05-58-14_586539_19229 is over 95% full, available space: 6571958272; capacity: 250375106560. Object creation will fail if spilling is required.\n",
      "\u001b[2m\u001b[33m(raylet)\u001b[0m [2023-08-12 06:03:26,073 E 19282 19307] (raylet) file_system_monitor.cc:105: /tmp/ray/session_2023-08-12_05-58-14_586539_19229 is over 95% full, available space: 6571941888; capacity: 250375106560. Object creation will fail if spilling is required.\n",
      "\u001b[2m\u001b[33m(raylet)\u001b[0m [2023-08-12 06:03:36,079 E 19282 19307] (raylet) file_system_monitor.cc:105: /tmp/ray/session_2023-08-12_05-58-14_586539_19229 is over 95% full, available space: 6571139072; capacity: 250375106560. Object creation will fail if spilling is required.\n",
      "\u001b[2m\u001b[33m(raylet)\u001b[0m [2023-08-12 06:03:46,085 E 19282 19307] (raylet) file_system_monitor.cc:105: /tmp/ray/session_2023-08-12_05-58-14_586539_19229 is over 95% full, available space: 6571061248; capacity: 250375106560. Object creation will fail if spilling is required.\n"
     ]
    },
    {
     "name": "stderr",
     "output_type": "stream",
     "text": [
      "\u001b[2m\u001b[33m(raylet)\u001b[0m [2023-08-12 06:03:56,090 E 19282 19307] (raylet) file_system_monitor.cc:105: /tmp/ray/session_2023-08-12_05-58-14_586539_19229 is over 95% full, available space: 6571012096; capacity: 250375106560. Object creation will fail if spilling is required.\n",
      "\u001b[2m\u001b[33m(raylet)\u001b[0m [2023-08-12 06:04:06,101 E 19282 19307] (raylet) file_system_monitor.cc:105: /tmp/ray/session_2023-08-12_05-58-14_586539_19229 is over 95% full, available space: 6570938368; capacity: 250375106560. Object creation will fail if spilling is required.\n",
      "\u001b[2m\u001b[33m(raylet)\u001b[0m [2023-08-12 06:04:16,108 E 19282 19307] (raylet) file_system_monitor.cc:105: /tmp/ray/session_2023-08-12_05-58-14_586539_19229 is over 95% full, available space: 6570803200; capacity: 250375106560. Object creation will fail if spilling is required.\n",
      "\u001b[2m\u001b[33m(raylet)\u001b[0m [2023-08-12 06:04:26,114 E 19282 19307] (raylet) file_system_monitor.cc:105: /tmp/ray/session_2023-08-12_05-58-14_586539_19229 is over 95% full, available space: 6570790912; capacity: 250375106560. Object creation will fail if spilling is required.\n",
      "\u001b[2m\u001b[33m(raylet)\u001b[0m [2023-08-12 06:04:36,119 E 19282 19307] (raylet) file_system_monitor.cc:105: /tmp/ray/session_2023-08-12_05-58-14_586539_19229 is over 95% full, available space: 6570782720; capacity: 250375106560. Object creation will fail if spilling is required.\n",
      "\u001b[2m\u001b[33m(raylet)\u001b[0m [2023-08-12 06:04:46,124 E 19282 19307] (raylet) file_system_monitor.cc:105: /tmp/ray/session_2023-08-12_05-58-14_586539_19229 is over 95% full, available space: 6570782720; capacity: 250375106560. Object creation will fail if spilling is required.\n",
      "\u001b[2m\u001b[33m(raylet)\u001b[0m [2023-08-12 06:04:56,129 E 19282 19307] (raylet) file_system_monitor.cc:105: /tmp/ray/session_2023-08-12_05-58-14_586539_19229 is over 95% full, available space: 6570778624; capacity: 250375106560. Object creation will fail if spilling is required.\n",
      "\u001b[2m\u001b[33m(raylet)\u001b[0m [2023-08-12 06:05:06,134 E 19282 19307] (raylet) file_system_monitor.cc:105: /tmp/ray/session_2023-08-12_05-58-14_586539_19229 is over 95% full, available space: 6570774528; capacity: 250375106560. Object creation will fail if spilling is required.\n",
      "\u001b[2m\u001b[33m(raylet)\u001b[0m [2023-08-12 06:05:16,141 E 19282 19307] (raylet) file_system_monitor.cc:105: /tmp/ray/session_2023-08-12_05-58-14_586539_19229 is over 95% full, available space: 6570721280; capacity: 250375106560. Object creation will fail if spilling is required.\n",
      "\u001b[2m\u001b[33m(raylet)\u001b[0m [2023-08-12 06:05:26,147 E 19282 19307] (raylet) file_system_monitor.cc:105: /tmp/ray/session_2023-08-12_05-58-14_586539_19229 is over 95% full, available space: 6570745856; capacity: 250375106560. Object creation will fail if spilling is required.\n",
      "\u001b[2m\u001b[33m(raylet)\u001b[0m [2023-08-12 06:05:36,153 E 19282 19307] (raylet) file_system_monitor.cc:105: /tmp/ray/session_2023-08-12_05-58-14_586539_19229 is over 95% full, available space: 6570463232; capacity: 250375106560. Object creation will fail if spilling is required.\n",
      "\u001b[2m\u001b[33m(raylet)\u001b[0m [2023-08-12 06:05:46,159 E 19282 19307] (raylet) file_system_monitor.cc:105: /tmp/ray/session_2023-08-12_05-58-14_586539_19229 is over 95% full, available space: 6570459136; capacity: 250375106560. Object creation will fail if spilling is required.\n",
      "\u001b[2m\u001b[33m(raylet)\u001b[0m [2023-08-12 06:05:56,164 E 19282 19307] (raylet) file_system_monitor.cc:105: /tmp/ray/session_2023-08-12_05-58-14_586539_19229 is over 95% full, available space: 6570450944; capacity: 250375106560. Object creation will fail if spilling is required.\n",
      "\u001b[2m\u001b[33m(raylet)\u001b[0m [2023-08-12 06:06:06,170 E 19282 19307] (raylet) file_system_monitor.cc:105: /tmp/ray/session_2023-08-12_05-58-14_586539_19229 is over 95% full, available space: 6570442752; capacity: 250375106560. Object creation will fail if spilling is required.\n",
      "\u001b[2m\u001b[33m(raylet)\u001b[0m [2023-08-12 06:06:16,176 E 19282 19307] (raylet) file_system_monitor.cc:105: /tmp/ray/session_2023-08-12_05-58-14_586539_19229 is over 95% full, available space: 6570369024; capacity: 250375106560. Object creation will fail if spilling is required.\n",
      "\u001b[2m\u001b[33m(raylet)\u001b[0m [2023-08-12 06:06:26,181 E 19282 19307] (raylet) file_system_monitor.cc:105: /tmp/ray/session_2023-08-12_05-58-14_586539_19229 is over 95% full, available space: 6570057728; capacity: 250375106560. Object creation will fail if spilling is required.\n",
      "\u001b[2m\u001b[33m(raylet)\u001b[0m [2023-08-12 06:06:36,187 E 19282 19307] (raylet) file_system_monitor.cc:105: /tmp/ray/session_2023-08-12_05-58-14_586539_19229 is over 95% full, available space: 6570053632; capacity: 250375106560. Object creation will fail if spilling is required.\n",
      "\u001b[2m\u001b[33m(raylet)\u001b[0m [2023-08-12 06:06:46,192 E 19282 19307] (raylet) file_system_monitor.cc:105: /tmp/ray/session_2023-08-12_05-58-14_586539_19229 is over 95% full, available space: 6569545728; capacity: 250375106560. Object creation will fail if spilling is required.\n",
      "\u001b[2m\u001b[33m(raylet)\u001b[0m [2023-08-12 06:06:56,199 E 19282 19307] (raylet) file_system_monitor.cc:105: /tmp/ray/session_2023-08-12_05-58-14_586539_19229 is over 95% full, available space: 6569185280; capacity: 250375106560. Object creation will fail if spilling is required.\n",
      "\u001b[2m\u001b[33m(raylet)\u001b[0m [2023-08-12 06:07:06,221 E 19282 19307] (raylet) file_system_monitor.cc:105: /tmp/ray/session_2023-08-12_05-58-14_586539_19229 is over 95% full, available space: 6568988672; capacity: 250375106560. Object creation will fail if spilling is required.\n",
      "\u001b[2m\u001b[33m(raylet)\u001b[0m [2023-08-12 06:07:16,227 E 19282 19307] (raylet) file_system_monitor.cc:105: /tmp/ray/session_2023-08-12_05-58-14_586539_19229 is over 95% full, available space: 6568968192; capacity: 250375106560. Object creation will fail if spilling is required.\n",
      "\u001b[2m\u001b[33m(raylet)\u001b[0m [2023-08-12 06:07:26,233 E 19282 19307] (raylet) file_system_monitor.cc:105: /tmp/ray/session_2023-08-12_05-58-14_586539_19229 is over 95% full, available space: 6568951808; capacity: 250375106560. Object creation will fail if spilling is required.\n",
      "\u001b[2m\u001b[33m(raylet)\u001b[0m [2023-08-12 06:07:36,240 E 19282 19307] (raylet) file_system_monitor.cc:105: /tmp/ray/session_2023-08-12_05-58-14_586539_19229 is over 95% full, available space: 6568947712; capacity: 250375106560. Object creation will fail if spilling is required.\n",
      "\u001b[2m\u001b[33m(raylet)\u001b[0m [2023-08-12 06:07:46,246 E 19282 19307] (raylet) file_system_monitor.cc:105: /tmp/ray/session_2023-08-12_05-58-14_586539_19229 is over 95% full, available space: 6568927232; capacity: 250375106560. Object creation will fail if spilling is required.\n",
      "\u001b[2m\u001b[33m(raylet)\u001b[0m [2023-08-12 06:07:56,253 E 19282 19307] (raylet) file_system_monitor.cc:105: /tmp/ray/session_2023-08-12_05-58-14_586539_19229 is over 95% full, available space: 6568927232; capacity: 250375106560. Object creation will fail if spilling is required.\n",
      "\u001b[2m\u001b[33m(raylet)\u001b[0m [2023-08-12 06:08:06,258 E 19282 19307] (raylet) file_system_monitor.cc:105: /tmp/ray/session_2023-08-12_05-58-14_586539_19229 is over 95% full, available space: 6568460288; capacity: 250375106560. Object creation will fail if spilling is required.\n",
      "\u001b[2m\u001b[33m(raylet)\u001b[0m [2023-08-12 06:08:16,263 E 19282 19307] (raylet) file_system_monitor.cc:105: /tmp/ray/session_2023-08-12_05-58-14_586539_19229 is over 95% full, available space: 6568431616; capacity: 250375106560. Object creation will fail if spilling is required.\n",
      "\u001b[2m\u001b[33m(raylet)\u001b[0m [2023-08-12 06:08:26,268 E 19282 19307] (raylet) file_system_monitor.cc:105: /tmp/ray/session_2023-08-12_05-58-14_586539_19229 is over 95% full, available space: 6568415232; capacity: 250375106560. Object creation will fail if spilling is required.\n",
      "\u001b[2m\u001b[33m(raylet)\u001b[0m [2023-08-12 06:08:36,274 E 19282 19307] (raylet) file_system_monitor.cc:105: /tmp/ray/session_2023-08-12_05-58-14_586539_19229 is over 95% full, available space: 6568361984; capacity: 250375106560. Object creation will fail if spilling is required.\n",
      "\u001b[2m\u001b[33m(raylet)\u001b[0m [2023-08-12 06:08:46,280 E 19282 19307] (raylet) file_system_monitor.cc:105: /tmp/ray/session_2023-08-12_05-58-14_586539_19229 is over 95% full, available space: 6568357888; capacity: 250375106560. Object creation will fail if spilling is required.\n",
      "\u001b[2m\u001b[33m(raylet)\u001b[0m [2023-08-12 06:08:56,287 E 19282 19307] (raylet) file_system_monitor.cc:105: /tmp/ray/session_2023-08-12_05-58-14_586539_19229 is over 95% full, available space: 6568357888; capacity: 250375106560. Object creation will fail if spilling is required.\n"
     ]
    },
    {
     "name": "stderr",
     "output_type": "stream",
     "text": [
      "\u001b[2m\u001b[33m(raylet)\u001b[0m [2023-08-12 06:09:06,294 E 19282 19307] (raylet) file_system_monitor.cc:105: /tmp/ray/session_2023-08-12_05-58-14_586539_19229 is over 95% full, available space: 6568349696; capacity: 250375106560. Object creation will fail if spilling is required.\n",
      "\u001b[2m\u001b[33m(raylet)\u001b[0m [2023-08-12 06:09:16,301 E 19282 19307] (raylet) file_system_monitor.cc:105: /tmp/ray/session_2023-08-12_05-58-14_586539_19229 is over 95% full, available space: 6568321024; capacity: 250375106560. Object creation will fail if spilling is required.\n",
      "\u001b[2m\u001b[33m(raylet)\u001b[0m [2023-08-12 06:09:26,307 E 19282 19307] (raylet) file_system_monitor.cc:105: /tmp/ray/session_2023-08-12_05-58-14_586539_19229 is over 95% full, available space: 6568308736; capacity: 250375106560. Object creation will fail if spilling is required.\n",
      "\u001b[2m\u001b[33m(raylet)\u001b[0m [2023-08-12 06:09:36,313 E 19282 19307] (raylet) file_system_monitor.cc:105: /tmp/ray/session_2023-08-12_05-58-14_586539_19229 is over 95% full, available space: 6568300544; capacity: 250375106560. Object creation will fail if spilling is required.\n",
      "\u001b[2m\u001b[33m(raylet)\u001b[0m [2023-08-12 06:09:46,324 E 19282 19307] (raylet) file_system_monitor.cc:105: /tmp/ray/session_2023-08-12_05-58-14_586539_19229 is over 95% full, available space: 6568292352; capacity: 250375106560. Object creation will fail if spilling is required.\n",
      "\u001b[2m\u001b[33m(raylet)\u001b[0m [2023-08-12 06:09:56,329 E 19282 19307] (raylet) file_system_monitor.cc:105: /tmp/ray/session_2023-08-12_05-58-14_586539_19229 is over 95% full, available space: 6567866368; capacity: 250375106560. Object creation will fail if spilling is required.\n",
      "\u001b[2m\u001b[33m(raylet)\u001b[0m [2023-08-12 06:10:06,336 E 19282 19307] (raylet) file_system_monitor.cc:105: /tmp/ray/session_2023-08-12_05-58-14_586539_19229 is over 95% full, available space: 6567858176; capacity: 250375106560. Object creation will fail if spilling is required.\n",
      "\u001b[2m\u001b[33m(raylet)\u001b[0m [2023-08-12 06:10:16,342 E 19282 19307] (raylet) file_system_monitor.cc:105: /tmp/ray/session_2023-08-12_05-58-14_586539_19229 is over 95% full, available space: 6567800832; capacity: 250375106560. Object creation will fail if spilling is required.\n",
      "\u001b[2m\u001b[33m(raylet)\u001b[0m [2023-08-12 06:10:26,349 E 19282 19307] (raylet) file_system_monitor.cc:105: /tmp/ray/session_2023-08-12_05-58-14_586539_19229 is over 95% full, available space: 6567768064; capacity: 250375106560. Object creation will fail if spilling is required.\n",
      "\u001b[2m\u001b[33m(raylet)\u001b[0m [2023-08-12 06:10:36,355 E 19282 19307] (raylet) file_system_monitor.cc:105: /tmp/ray/session_2023-08-12_05-58-14_586539_19229 is over 95% full, available space: 6567763968; capacity: 250375106560. Object creation will fail if spilling is required.\n",
      "\u001b[2m\u001b[33m(raylet)\u001b[0m [2023-08-12 06:10:46,359 E 19282 19307] (raylet) file_system_monitor.cc:105: /tmp/ray/session_2023-08-12_05-58-14_586539_19229 is over 95% full, available space: 6567731200; capacity: 250375106560. Object creation will fail if spilling is required.\n",
      "\u001b[2m\u001b[33m(raylet)\u001b[0m [2023-08-12 06:10:56,365 E 19282 19307] (raylet) file_system_monitor.cc:105: /tmp/ray/session_2023-08-12_05-58-14_586539_19229 is over 95% full, available space: 6567727104; capacity: 250375106560. Object creation will fail if spilling is required.\n",
      "\u001b[2m\u001b[33m(raylet)\u001b[0m [2023-08-12 06:11:06,370 E 19282 19307] (raylet) file_system_monitor.cc:105: /tmp/ray/session_2023-08-12_05-58-14_586539_19229 is over 95% full, available space: 6567723008; capacity: 250375106560. Object creation will fail if spilling is required.\n",
      "\u001b[2m\u001b[33m(raylet)\u001b[0m [2023-08-12 06:11:16,376 E 19282 19307] (raylet) file_system_monitor.cc:105: /tmp/ray/session_2023-08-12_05-58-14_586539_19229 is over 95% full, available space: 6567612416; capacity: 250375106560. Object creation will fail if spilling is required.\n",
      "\u001b[2m\u001b[33m(raylet)\u001b[0m [2023-08-12 06:11:26,387 E 19282 19307] (raylet) file_system_monitor.cc:105: /tmp/ray/session_2023-08-12_05-58-14_586539_19229 is over 95% full, available space: 6567591936; capacity: 250375106560. Object creation will fail if spilling is required.\n",
      "\u001b[2m\u001b[33m(raylet)\u001b[0m [2023-08-12 06:11:36,391 E 19282 19307] (raylet) file_system_monitor.cc:105: /tmp/ray/session_2023-08-12_05-58-14_586539_19229 is over 95% full, available space: 6567587840; capacity: 250375106560. Object creation will fail if spilling is required.\n",
      "\u001b[2m\u001b[33m(raylet)\u001b[0m [2023-08-12 06:11:46,396 E 19282 19307] (raylet) file_system_monitor.cc:105: /tmp/ray/session_2023-08-12_05-58-14_586539_19229 is over 95% full, available space: 6567583744; capacity: 250375106560. Object creation will fail if spilling is required.\n",
      "\u001b[2m\u001b[33m(raylet)\u001b[0m [2023-08-12 06:11:56,403 E 19282 19307] (raylet) file_system_monitor.cc:105: /tmp/ray/session_2023-08-12_05-58-14_586539_19229 is over 95% full, available space: 6567575552; capacity: 250375106560. Object creation will fail if spilling is required.\n",
      "\u001b[2m\u001b[33m(raylet)\u001b[0m [2023-08-12 06:12:06,410 E 19282 19307] (raylet) file_system_monitor.cc:105: /tmp/ray/session_2023-08-12_05-58-14_586539_19229 is over 95% full, available space: 6567534592; capacity: 250375106560. Object creation will fail if spilling is required.\n",
      "\u001b[2m\u001b[33m(raylet)\u001b[0m [2023-08-12 06:12:16,417 E 19282 19307] (raylet) file_system_monitor.cc:105: /tmp/ray/session_2023-08-12_05-58-14_586539_19229 is over 95% full, available space: 6567501824; capacity: 250375106560. Object creation will fail if spilling is required.\n",
      "\u001b[2m\u001b[33m(raylet)\u001b[0m [2023-08-12 06:12:26,424 E 19282 19307] (raylet) file_system_monitor.cc:105: /tmp/ray/session_2023-08-12_05-58-14_586539_19229 is over 95% full, available space: 6567489536; capacity: 250375106560. Object creation will fail if spilling is required.\n",
      "\u001b[2m\u001b[33m(raylet)\u001b[0m [2023-08-12 06:12:36,430 E 19282 19307] (raylet) file_system_monitor.cc:105: /tmp/ray/session_2023-08-12_05-58-14_586539_19229 is over 95% full, available space: 6566920192; capacity: 250375106560. Object creation will fail if spilling is required.\n",
      "\u001b[2m\u001b[33m(raylet)\u001b[0m [2023-08-12 06:12:46,435 E 19282 19307] (raylet) file_system_monitor.cc:105: /tmp/ray/session_2023-08-12_05-58-14_586539_19229 is over 95% full, available space: 6566916096; capacity: 250375106560. Object creation will fail if spilling is required.\n",
      "\u001b[2m\u001b[33m(raylet)\u001b[0m [2023-08-12 06:12:56,441 E 19282 19307] (raylet) file_system_monitor.cc:105: /tmp/ray/session_2023-08-12_05-58-14_586539_19229 is over 95% full, available space: 6566916096; capacity: 250375106560. Object creation will fail if spilling is required.\n",
      "\u001b[2m\u001b[33m(raylet)\u001b[0m [2023-08-12 06:13:06,447 E 19282 19307] (raylet) file_system_monitor.cc:105: /tmp/ray/session_2023-08-12_05-58-14_586539_19229 is over 95% full, available space: 6566461440; capacity: 250375106560. Object creation will fail if spilling is required.\n",
      "\u001b[2m\u001b[33m(raylet)\u001b[0m [2023-08-12 06:13:16,452 E 19282 19307] (raylet) file_system_monitor.cc:105: /tmp/ray/session_2023-08-12_05-58-14_586539_19229 is over 95% full, available space: 6566318080; capacity: 250375106560. Object creation will fail if spilling is required.\n"
     ]
    }
   ],
   "source": [
    "ppl_1.auto_test()"
   ]
  },
  {
   "cell_type": "code",
   "execution_count": null,
   "id": "cbcf208e",
   "metadata": {},
   "outputs": [],
   "source": []
  }
 ],
 "metadata": {
  "kernelspec": {
   "display_name": "Python 3 (ipykernel)",
   "language": "python",
   "name": "python3"
  },
  "language_info": {
   "codemirror_mode": {
    "name": "ipython",
    "version": 3
   },
   "file_extension": ".py",
   "mimetype": "text/x-python",
   "name": "python",
   "nbconvert_exporter": "python",
   "pygments_lexer": "ipython3",
   "version": "3.8.16"
  }
 },
 "nbformat": 4,
 "nbformat_minor": 5
}
