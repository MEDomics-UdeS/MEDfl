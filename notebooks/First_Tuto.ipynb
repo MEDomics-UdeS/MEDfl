{
 "cells": [
  {
   "cell_type": "markdown",
   "id": "ea17612d",
   "metadata": {},
   "source": [
    "<h1>What's Federated Learning</h1>\n",
    "The concept of federated learning is proposed by Google AI on 2016, Their main idea is\n",
    "to build machine learning models based on data sets that are distributed across multiple devices\n",
    "while preventing data leakage and sharing data between any two couple of devices. Recent improvements have been focusing on overcoming the statistical challenges, (such as non iid-data and the amount of data hold by each client) and also in improving security in federated learning.\n",
    "Federated Learning (FL), is highly adapted to the healthcare domain, it's simply used to make a set of hospitals to collaboratively train a joint model, which will be used by all the hospitals after that.\n",
    "<img src=\"Images/FL_gen.png\"  style=\"width:600px ;height:600px\"> "
   ]
  },
  {
   "cell_type": "markdown",
   "id": "f1785d1e",
   "metadata": {},
   "source": [
    "<h1>What's Differential Privacy</h1>\n",
    "Differential Privacy was early introduced by Dwork et al,  The methods of differential privacy, k-anonymity, and\n",
    "diversification  involve in adding noise to the data, or using generalization methods to obscure\n",
    "certain sensitive attributes until the third party cannot distinguish the individual, thereby making\n",
    "the data impossible to be restore to protect user privacy. However, the root of these methods still\n",
    "require that the data are transmitted elsewhere and these work usually involve a trade-off between\n",
    "accuracy and privacy. In, most of recents reseach has introduced a differential privacy approach to federated\n",
    "learning in order to add protection to client-side data by hiding client’s contributions during\n",
    "training, using differents approaches.\n",
    "<img src=\"Images/GDP.png\"  style=\"width:400px ;height:200px\"> <img src=\"Images/LDP.png\"  style=\"width:400px ;height:200px\">\n",
    " "
   ]
  },
  {
   "cell_type": "markdown",
   "id": "0f71885b",
   "metadata": {},
   "source": [
    "<h1>Privacy Enhancing Technologies (PETs)</h1>\n",
    "Privacy-enhancing technologies or PET are designed to prevent data leaks while balancing privacy with usability. Some PETs even prevent bad actors from identifying to whom the collected data belongs - if a leak were to occur, the data would be virtually useless to cybercriminals, and they are mainly digital solutions (Softwares).\n",
    "There are many different types of PETs, each designed to solve a specific business problem. While some are better at aggregated analytics, others are more suited for precise results. Likewise, some may be ideal for deriving insights from sensitive data, while others are best for data exploration.\n",
    "we will mention  the following frameworks:\n",
    "<ul>\n",
    "    <li>  <a href=\"https://flower.dev\">Flower</a> </li>\n",
    "    <li>  <a href=\"https://github.com/OpenMined/PySyft\">Pysyft</a> </li>\n",
    "    <li>  <a href=\"https://opacus.ai/\">Opacus</a></li>\n",
    "</ul>"
   ]
  },
  {
   "cell_type": "markdown",
   "id": "d874db93",
   "metadata": {},
   "source": [
    "<h1> MEDfl</h1>\n",
    "MEDfl is a new python package, which is a hybridization of Flower and Opacus, while getting inspired by the Pysyft framework, the main strengths of MEDfl is that  both users and developpers will  benifit from  all features of the three listed frameworks.\n",
    "<h2>A small real world scenario</h2>\n",
    "<b>Martin</b> is an AI researcher, his main interest is  the applications of AI into the healthcare domain.\n",
    "Recently, he has obtained a call from a prestigious institute, in order to make a study about the realisation of a new project. The project's goal is  designing and developping a federated learning system between a set of hospitals, and that by training and using a deep learning model with preserving the privacy of all patient records.\n",
    "\n",
    "When Martin finished the first analysis of the project statement, he realized that the project involve the use of Federated Learning, Differential Privacy within a good storage monitoring system.\n",
    "\n",
    "Fortunately, Martin knows MEDfl, and he is pretty sure that it's designed for such tasks, and it will be do the desired work.\n",
    "Medfl with his two main sub-packages,<b>NetManager</b> , <b>Federated</b>, let us designing FL expirements and simulating real world scenarios, and that by using differents options to make  differents FL architectures (or setups) as well as using differents FL pipelines.\n",
    "\n"
   ]
  },
  {
   "cell_type": "markdown",
   "id": "a187931d",
   "metadata": {},
   "source": [
    "<h1> MEDfl</h1>\n",
    "MEDfl is a new python package, which is a hybridization of Flower and Opacus, while getting inspired by the Pysyft framework, the main strengths of MEDfl is that  both users and developpers will  benifit from  all features of the three listed frameworks.\n",
    "<h2>A small real world scenario</h2>\n",
    "<b>Martin</b> is an AI researcher, his main interest is  the applications of AI into the healthcare domain.\n",
    "Recently, he has recieved a call from a prestigious institute, in order to make a study about the realisation of a new project. The project's goal is  designing and developping a federated learning system between a set of hospitals, and that by training and using a deep learning model with preserving the privacy of all patient records.\n",
    "\n",
    "When Martin finished the first analysis of the project statement, he realized that the project involve the use of Federated Learning, Differential Privacy within a good storage monitoring system.\n",
    "\n",
    "Fortunately, Martin knows MEDfl, and he is pretty sure that it's designed for such tasks, and it will be do the desired work.\n",
    "Medfl with his two main sub-packages,<b>NetManager</b> , <b>Federated</b>, let us designing FL expirements and simulating real world scenarios, and that by using differents options to make  differents FL architectures (or setups) as well as using differents FL pipelines.\n",
    "\n"
   ]
  },
  {
   "cell_type": "markdown",
   "id": "560586a4",
   "metadata": {},
   "source": [
    "<h1>NetManager Sub-Package</h1>\n",
    "In order ot start simulating, hospitals architectures, their datasets, and theirs interactions. Martin should  familiarize with The NetManager Sub-Package, because, it provides the mechanizmes to :\n",
    "  <ul>\n",
    "    <li> Choose the dataset format used by all hospitals, as we are working in a <b>Horizontal Federated Learning HFL</b> settings.  </li>\n",
    "    <li> Create virtual hospitals in a two way :</li>\n",
    "    <h5>Automatically : </h5> \n",
    "      This method used when Martin doesn't have an idea about hospitals name, their datasets. so, the creation will based on some  variables on the datasets, in our Proof-Of-Concept with the eICU dataset, there are two variables that can be used, \"site_hosiptal, and \"site_region\".  <br> Note that, hospitals can participate for <b>training</b> or for <b>testing</b> only. (this may be changed to support both modes) . <br> the set of hospitals or (Nodes) perform a network, and on MEDfl terminology, a network and its additional informations, refered as a <b>FLsetup (Federated Learning Setup)</b> <br>After the creation of an <b>FLsetup</b> it will be stored on the DB, by a unique ID, a name, a description, and a creation date.\n",
    "  <h5>Manually :</h5>\n",
    "      Martin can also create a FLsetup manually, create a network, and add each node separately, then uploade a dataset on each node.\n",
    "    \n",
    "  </ul>  \n",
    "In the following section we will tranlsate all this paragraph to code, and show how powerful and easy to use <b>MEDfl</b> is !\n",
    "    "
   ]
  },
  {
   "cell_type": "markdown",
   "id": "e9f24fd3",
   "metadata": {},
   "source": [
    "<h3> 1) Create a FLsetup Automatically</h3>\n",
    "To create a FLsetup (network, training nodes and test nodes) manually, with MEDfl, we should follow the following steps: <ul>\n",
    "    <li>Create a network </li>\n",
    "    <li>Create the FLsetup object, to make things more organized, and facilitate the storage process</li>\n",
    "    <li>Create the master dataset table, that contains the dataset that be used to create all the nodes (hospitals).</li>\n",
    "    <li>Select a column from the dataset, then create training and testing nodes using its modalities (unique values)</li>  \n",
    " \n",
    "</ul>   \n",
    " "
   ]
  },
  {
   "cell_type": "code",
   "execution_count": 57,
   "id": "a98caa04",
   "metadata": {},
   "outputs": [],
   "source": [
    "import sys\n",
    "sys.path.append('..')\n",
    "\n",
    "import os\n",
    "os.environ['PYTHONPATH'] = '..'"
   ]
  },
  {
   "cell_type": "code",
   "execution_count": 58,
   "id": "cc1e96c2",
   "metadata": {},
   "outputs": [],
   "source": [
    "!python ../scripts/create_db.py\n"
   ]
  },
  {
   "cell_type": "code",
   "execution_count": 59,
   "id": "b25ee1e0",
   "metadata": {},
   "outputs": [],
   "source": [
    "from Medfl.LearningManager.utils import *\n",
    "empty_db()"
   ]
  },
  {
   "cell_type": "markdown",
   "id": "e1d14686",
   "metadata": {},
   "source": [
    "<h4>Network Creation</h4>\n",
    "The creation of a network in MEDfl, like any object creation in Python, is simply done by calling the Network Class, and create a network object by passing the name of the network. below you find the illustration of the network class, its attributes and functions.\n",
    "(add class diagram)"
   ]
  },
  {
   "cell_type": "code",
   "execution_count": 60,
   "id": "503cbd2f",
   "metadata": {},
   "outputs": [
    {
     "name": "stdout",
     "output_type": "stream",
     "text": [
      "Auto_network\n"
     ]
    }
   ],
   "source": [
    "from Medfl.NetManager.network import Network\n",
    "network_obj = Network(name=\"Auto_network\")\n",
    "\n",
    "print(network_obj.name)\n"
   ]
  },
  {
   "cell_type": "markdown",
   "id": "ec141f11",
   "metadata": {},
   "source": [
    "<h4> Master Dataset Table Creation</h4>\n",
    "To create a the master dataset table, we have to provide a <b>CSV File</b>, that contain the dataset, \n",
    "then the \"create_master_dataset\" function from the Network class, will create a table on the MySQL DB. \n",
    "and from this table, we will generate our train/test nodes and datasets. <br>\n",
    "<b>Note:</b> if the table already exists on the DataBase, the function will retrun an exception message."
   ]
  },
  {
   "cell_type": "code",
   "execution_count": 61,
   "id": "42857771",
   "metadata": {},
   "outputs": [],
   "source": [
    "\n",
    "\n",
    "network_obj.create_master_dataset()\n",
    "\n"
   ]
  },
  {
   "cell_type": "markdown",
   "id": "dd8b5118",
   "metadata": {},
   "source": [
    "<h4>FLsetup Creation</h4>\n",
    "The same for FLsetup, we call the FLsetup Class, to create a FLsetup object by passing the name of the FLsetup, its description, and the network associated ot it. <br>below you find the illustration of the network class, its attributes and functions. (add class diagramm)"
   ]
  },
  {
   "cell_type": "code",
   "execution_count": 62,
   "id": "8b2e4d5a",
   "metadata": {},
   "outputs": [],
   "source": [
    "from Medfl.NetManager.flsetup import FLsetup\n",
    "fl_setup = FLsetup(name = \"Flsetup1\", description = \"The first fl setup\",network = network_obj)"
   ]
  },
  {
   "cell_type": "markdown",
   "id": "5d34218e",
   "metadata": {},
   "source": [
    "<h4>Nodes Creation</h4>\n",
    "The user should create a parameters dictionary that contains  :\n",
    "<ul> \n",
    "    <li>The name of the column that be used to create the nodes, which is the main element in the <b>Automatic Method</b></li> \n",
    "    <li> The lists of the train/test nodes</li>\n",
    "    </ul> \n",
    "and parse it to the create_nodes_from_master_dataset function from the FLsetup class.<br>\n",
    "Node is also an object, and it will be stored on the DataBase."
   ]
  },
  {
   "cell_type": "code",
   "execution_count": 63,
   "id": "bf1a5056",
   "metadata": {},
   "outputs": [
    {
     "data": {
      "text/plain": [
       "['Midwest', 'South', 'West', 'Northeast']"
      ]
     },
     "execution_count": 63,
     "metadata": {},
     "output_type": "execute_result"
    }
   ],
   "source": [
    "params_dict = {'column_name' : 'site_region','train_nodes' : [\"Midwest\",\"South\"] , 'test_nodes' : ['West','Northeast'] }\n",
    "\n",
    "eicu_nodes = fl_setup.create_nodes_from_master_dataset(params_dict = params_dict )\n",
    "\n",
    "[node.name  for node in eicu_nodes]  "
   ]
  },
  {
   "cell_type": "markdown",
   "id": "6a9cef61",
   "metadata": {},
   "source": [
    "<h4>Federated DataSet</h4>\n",
    "the function \"create_federated_dataset\", will create, train loaders, test loaders from the datasets of the nodes.\n",
    "in the automatic method, the datasets is created from the master dataset table, the trainloader of each node will contains the records with the same name.<br>\n",
    "After the creation of the federated dataset, the FLsetup will be stored into the FLsetup table in the DB.\n"
   ]
  },
  {
   "cell_type": "code",
   "execution_count": 64,
   "id": "6994ad7a",
   "metadata": {},
   "outputs": [
    {
     "name": "stdout",
     "output_type": "stream",
     "text": [
      "SELECT * FROM MasterDataset WHERE site_region = 'Midwest'\n",
      "SELECT * FROM MasterDataset WHERE site_region = 'South'\n",
      "SELECT * FROM MasterDataset WHERE site_region = 'West'\n",
      "SELECT * FROM MasterDataset WHERE site_region = 'Northeast'\n"
     ]
    },
    {
     "data": {
      "text/plain": [
       "708"
      ]
     },
     "execution_count": 64,
     "metadata": {},
     "output_type": "execute_result"
    }
   ],
   "source": [
    "fl_dataset = fl_setup.create_federated_dataset()\n",
    "len(fl_dataset.testloaders[1])"
   ]
  },
  {
   "cell_type": "markdown",
   "id": "6da28438",
   "metadata": {},
   "source": [
    "<h3>2) Create a FLsetup Manually</h3>\n",
    "The manual creation of a FLsetup  with MEDfl, it's a bit different from the the automatic method,but it stays on the same scope, the only difference is here, we should create all the object (FLsetup,network, training nodes and test nodes),\n",
    "We will start doing the following : <ul>\n",
    "    <li>Create a network </li>\n",
    "    <li>Create Master Dataset, Here the master_dataset table will be used to ensure that all nodes hold the same dataset format (horizontal federated learning)</li>\n",
    "    <li> Create train and test nodes, inside the created network .\n",
    "    <li> Upload datasets inside each node </li>    \n",
    "    <li>Create the FLsetup object, to make things more organized, and facilitate the storage process</li>\n",
    "     \n",
    " \n",
    "</ul>   "
   ]
  },
  {
   "cell_type": "markdown",
   "id": "8cc5fce4",
   "metadata": {},
   "source": [
    "<h3>Network Creation</h3>"
   ]
  },
  {
   "cell_type": "code",
   "execution_count": 65,
   "id": "b5403e9d",
   "metadata": {},
   "outputs": [],
   "source": [
    "from Medfl.NetManager.network import Network\n",
    "network_obj = Network(name=\"man_network\")\n",
    "network_obj.create_network()"
   ]
  },
  {
   "cell_type": "markdown",
   "id": "c2e768e6",
   "metadata": {},
   "source": [
    "<h3>Nodes creation</h3>\n",
    "we will create 3 hospitals, two are for training, and the last one is for testing (after the federation, and this by setting the train variable to \"1\" for the training nodes, and to \"0\" for the testing Node. <br>\n",
    "Then we add these nodes to our network."
   ]
  },
  {
   "cell_type": "code",
   "execution_count": 66,
   "id": "471f4387",
   "metadata": {},
   "outputs": [],
   "source": [
    "from Medfl.NetManager.node import Node\n",
    "\n",
    "hospital_1,hospital_2,hospital_3 = Node(name = \"hospital_1\", train = 1),Node(name = \"hospital_2\", train = 1), Node(name = \"hospital_3\", train = 0) \n",
    "\n"
   ]
  },
  {
   "cell_type": "markdown",
   "id": "85e69433",
   "metadata": {},
   "source": [
    "<h3>Add this nodes to the network</h3>"
   ]
  },
  {
   "cell_type": "code",
   "execution_count": 67,
   "id": "63de4adb",
   "metadata": {},
   "outputs": [],
   "source": [
    "network_obj.add_node(hospital_1)\n",
    "network_obj.add_node(hospital_2)\n",
    "network_obj.add_node(hospital_3)"
   ]
  },
  {
   "cell_type": "markdown",
   "id": "fb08365d",
   "metadata": {},
   "source": [
    "<h3>Uploading Datasets into nodes</h3>\n",
    "To upload a dataset into a node, we have to choose a csv file, then this file will be stored on the DataSet table on the DB."
   ]
  },
  {
   "cell_type": "code",
   "execution_count": 68,
   "id": "d5bd0bde",
   "metadata": {},
   "outputs": [],
   "source": [
    "\n",
    "hospital_1.upload_dataset( dataset_name = \"hospital_1_dataset\" , path_to_csv='D:\\\\ESI\\\\3CS\\\\PFE\\\\last_year\\\\Code\\\\MEDfl\\\\notebooks\\\\eicu_test_1.csv'  )\n",
    "hospital_2.upload_dataset( dataset_name = \"hospital_2_dataset\" , path_to_csv='D:\\\\ESI\\\\3CS\\\\PFE\\\\last_year\\\\Code\\\\MEDfl\\\\notebooks\\\\eicu_test_2.csv')\n",
    "hospital_3.upload_dataset( dataset_name = \"hospital_3_dataset\" , path_to_csv='D:\\\\ESI\\\\3CS\\\\PFE\\\\last_year\\\\Code\\\\MEDfl\\\\notebooks\\\\eicu_test_3.csv' )"
   ]
  },
  {
   "cell_type": "markdown",
   "id": "2daa1460",
   "metadata": {},
   "source": [
    "<h3>Create the FLsetup and Generate the federated dataset</h3>"
   ]
  },
  {
   "cell_type": "code",
   "execution_count": 69,
   "id": "cddae9c3",
   "metadata": {},
   "outputs": [],
   "source": [
    "from Medfl.NetManager.flsetup import FLsetup\n",
    "fl_setup = FLsetup(name = \"Manual_Flsetup\", description = \"The first manual fl setup\",network = network_obj)"
   ]
  },
  {
   "cell_type": "code",
   "execution_count": 70,
   "id": "46c06658",
   "metadata": {},
   "outputs": [],
   "source": [
    "fl_dataset = fl_setup.create_federated_dataset()\n",
    " "
   ]
  },
  {
   "cell_type": "code",
   "execution_count": null,
   "id": "6a680a7c",
   "metadata": {},
   "outputs": [],
   "source": []
  },
  {
   "cell_type": "markdown",
   "id": "609ee9b0",
   "metadata": {},
   "source": [
    "<h1>Federated Sub-Package</h1>\n",
    "Once Martin Finish his work on the architecture of hospitals, and their datasets, He starts thinking on the theoritical side of federated learning of the project, that includes, the machine learning model and its parameters and hyperparameters, the federated learning server and its parameters (number of rounds, number of clients per rounds, the aggregation algorithms, ...etc). <br>\n",
    "<b>The Federated module</b>  of <b>MEDfl</b>, which is based on the <a href=\"https://flower.dev/\">Flower</a> framework, is well designed for doing this task, it's mainly follows the flower paradigm, but with many customization, to deal with the SQL database, and to be homogeneous with the <b>NetManager</b>\n",
    "\n",
    "<h2>How it works ?</h2>\n",
    "The Federated module, can only be used after the creation of an <b>FLsetup</b>, because the FLsetup will generate a federated dataset, which be used by an <b>FLpipeline</b> object.\n",
    "<h2> The Code</h2>\n",
    "Let's create a random FLsetup, then use its object to read one of the created FLsetup from the database."
   ]
  },
  {
   "cell_type": "code",
   "execution_count": 71,
   "id": "2cc7b27e",
   "metadata": {},
   "outputs": [],
   "source": [
    "random_flsetup = FLsetup(name = \"Random_FLsetup\", description = \"A random FLsetup\",network = Network(\"Random_net\"))"
   ]
  },
  {
   "cell_type": "code",
   "execution_count": 72,
   "id": "291a10cf",
   "metadata": {},
   "outputs": [
    {
     "data": {
      "text/html": [
       "<div>\n",
       "<style scoped>\n",
       "    .dataframe tbody tr th:only-of-type {\n",
       "        vertical-align: middle;\n",
       "    }\n",
       "\n",
       "    .dataframe tbody tr th {\n",
       "        vertical-align: top;\n",
       "    }\n",
       "\n",
       "    .dataframe thead th {\n",
       "        text-align: right;\n",
       "    }\n",
       "</style>\n",
       "<table border=\"1\" class=\"dataframe\">\n",
       "  <thead>\n",
       "    <tr style=\"text-align: right;\">\n",
       "      <th></th>\n",
       "      <th>FLsetupId</th>\n",
       "      <th>name</th>\n",
       "      <th>description</th>\n",
       "      <th>creation_date</th>\n",
       "      <th>NetId</th>\n",
       "      <th>column_name</th>\n",
       "    </tr>\n",
       "  </thead>\n",
       "  <tbody>\n",
       "    <tr>\n",
       "      <th>0</th>\n",
       "      <td>1</td>\n",
       "      <td>Flsetup1</td>\n",
       "      <td>The first fl setup</td>\n",
       "      <td>2023-11-13 15:20:22</td>\n",
       "      <td>1</td>\n",
       "      <td>site_region</td>\n",
       "    </tr>\n",
       "    <tr>\n",
       "      <th>1</th>\n",
       "      <td>2</td>\n",
       "      <td>Manual_Flsetup</td>\n",
       "      <td>The first manual fl setup</td>\n",
       "      <td>2023-11-13 15:20:23</td>\n",
       "      <td>2</td>\n",
       "      <td>None</td>\n",
       "    </tr>\n",
       "  </tbody>\n",
       "</table>\n",
       "</div>"
      ],
      "text/plain": [
       "   FLsetupId            name                description       creation_date  \\\n",
       "0          1        Flsetup1         The first fl setup 2023-11-13 15:20:22   \n",
       "1          2  Manual_Flsetup  The first manual fl setup 2023-11-13 15:20:23   \n",
       "\n",
       "   NetId  column_name  \n",
       "0      1  site_region  \n",
       "1      2         None  "
      ]
     },
     "execution_count": 72,
     "metadata": {},
     "output_type": "execute_result"
    }
   ],
   "source": [
    "random_flsetup.list_allsetups()"
   ]
  },
  {
   "cell_type": "code",
   "execution_count": 73,
   "id": "583ba1be",
   "metadata": {},
   "outputs": [],
   "source": [
    "New_flsetup = random_flsetup.read_setup( FLsetupId = 1) # this is not working with auto_net"
   ]
  },
  {
   "cell_type": "code",
   "execution_count": 74,
   "id": "8bdd786e",
   "metadata": {},
   "outputs": [
    {
     "data": {
      "text/plain": [
       "'Auto_network'"
      ]
     },
     "execution_count": 74,
     "metadata": {},
     "output_type": "execute_result"
    }
   ],
   "source": [
    "New_flsetup.network.name"
   ]
  },
  {
   "cell_type": "code",
   "execution_count": 75,
   "id": "a6bd7a2b",
   "metadata": {},
   "outputs": [
    {
     "data": {
      "text/plain": [
       "'site_region'"
      ]
     },
     "execution_count": 75,
     "metadata": {},
     "output_type": "execute_result"
    }
   ],
   "source": [
    "New_flsetup.column_name"
   ]
  },
  {
   "cell_type": "markdown",
   "id": "c2ac4f10",
   "metadata": {},
   "source": [
    "<h2>Federated DataSet</h2> \n",
    "This object has the role of the connector between the <b>NetManager</b> and the <b>Federated</b> modules.<br>\n",
    "The FLsetup class's function \"create_federated_dataset\", will go through all nodes,and generate trainloders & valloaders for the train nodes, and testloaders for the test nodes"
   ]
  },
  {
   "cell_type": "code",
   "execution_count": 76,
   "id": "4ccaac60",
   "metadata": {},
   "outputs": [
    {
     "name": "stdout",
     "output_type": "stream",
     "text": [
      "SELECT * FROM MasterDataset WHERE site_region = 'Midwest'\n",
      "SELECT * FROM MasterDataset WHERE site_region = 'South'\n",
      "SELECT * FROM MasterDataset WHERE site_region = 'West'\n",
      "SELECT * FROM MasterDataset WHERE site_region = 'Northeast'\n"
     ]
    },
    {
     "data": {
      "text/plain": [
       "17"
      ]
     },
     "execution_count": 76,
     "metadata": {},
     "output_type": "execute_result"
    }
   ],
   "source": [
    "#here's the reduduncy of feddatasets\n",
    "fl_dataset = New_flsetup.create_federated_dataset()\n",
    "\n",
    "fl_dataset.size"
   ]
  },
  {
   "cell_type": "markdown",
   "id": "48b94636",
   "metadata": {},
   "source": [
    "<h2>Machine Learning </h2>\n",
    "As MEDfl is based on flower, it has only 3 models based on torch neural nets  :\n",
    "<ul>\n",
    "    <li> Binary Classifier </li>\n",
    "    <li> Multiclass Classifier</li>\n",
    "    <li> Linear Regressor</li>\n",
    "</ul>\n",
    "the choice of the model and all machine learning parameters (learning rate, eopch size, train epochs), should be declared on a YAML file."
   ]
  },
  {
   "cell_type": "code",
   "execution_count": 77,
   "id": "ec872e9a",
   "metadata": {},
   "outputs": [
    {
     "data": {
      "text/plain": [
       "BinaryClassifier(\n",
       "  (fc1): Linear(in_features=17, out_features=6, bias=True)\n",
       "  (fc2): Linear(in_features=6, out_features=12, bias=True)\n",
       "  (fc3): Linear(in_features=12, out_features=1, bias=True)\n",
       ")"
      ]
     },
     "execution_count": 77,
     "metadata": {},
     "output_type": "execute_result"
    }
   ],
   "source": [
    "import torch\n",
    "import torch.nn as nn\n",
    "import torch.optim as optim\n",
    "\n",
    "class BinaryClassifier(nn.Module):\n",
    "  def __init__(self,input_dim,hidden_dim,output_dim):\n",
    "\n",
    "    super(BinaryClassifier, self).__init__()\n",
    "    self.fc1 = nn.Linear(input_dim,hidden_dim)\n",
    "    self.fc2 = nn.Linear(hidden_dim,2*hidden_dim)\n",
    "    self.fc3 = nn.Linear(2*hidden_dim,output_dim)\n",
    "\n",
    "  def forward(self,x):\n",
    "    x = torch.relu(self.fc1(x))\n",
    "    x = torch.relu(self.fc2(x))\n",
    "    x = torch.sigmoid(self.fc3(x))#softmax\n",
    "    return x\n",
    "binary_classifier= BinaryClassifier(17,6,1)\n",
    "optimizer,criterion = optim.SGD(binary_classifier.parameters(), lr=0.0001),nn.BCELoss()\n",
    "binary_classifier"
   ]
  },
  {
   "cell_type": "code",
   "execution_count": 78,
   "id": "67d1b32f",
   "metadata": {},
   "outputs": [],
   "source": [
    "from Medfl.LearningManager.model import Model\n",
    "global_model = Model(binary_classifier,optimizer,criterion)"
   ]
  },
  {
   "cell_type": "markdown",
   "id": "01eb2409",
   "metadata": {},
   "source": [
    "<h2>Aggregation Algorithms (Strategy)</h2>\n",
    "Aggregation algorithms are the mechanizms used by the server to produce a joint unified model, they are known as <b>Strategies</b> on <b>Flower</b>,  in the literature we have many aggregation algorithms, it's true that not all of them are implemented in flower, but we have the most used ones:\n",
    " <ul>\n",
    "    <li><a href = \"arxiv.org/abs/1602.05629\">Federated Averaging (FedAvg)</a></li>\n",
    "    <li><a href = \"arxiv.org/abs/2003.00295\">Adaptive Federated Optimization using Adam (FedAdam)</a></li>\n",
    "    <li><a href = \"arxiv.org/pdf/1803.01498v1.pdf\">Federated Median (FedMedian)</a></li>\n",
    "    <li><a href = \"arxiv.org/pdf/1909.06335.pdf\">Federated Averaging with Momentum (FedAvgM)</a></li>\n",
    "    <li><a href = \"arxiv.org/abs/2003.00295\">Adaptive Federated Optimization using Yogi (FedYogi)</a></li>\n",
    "    <li><a href = \"arxiv.org/abs/2003.00295\">Adaptive Federated Optimization (FedOpt)</a></li>\n",
    "    <li><a href = \"arxiv.org/abs/1812.06127\">Federated Optimization (FedProx)</a></li>\n",
    "    <li><a href = \"openreview.net/pdf?id=ByexElSYDr\">FAIR RESOURCE ALLOCATION IN FEDERATED LEARNING (QFedAvg)</a></li>\n",
    "    <li><a href = \"arxiv.org/abs/2003.00295\">Adaptive Federated Optimization using Adagrad (FedAdagrad)</a></li>\n",
    " </ul>\n",
    "We can also find them on the strategy directory on Flower."
   ]
  },
  {
   "cell_type": "code",
   "execution_count": 79,
   "id": "92f91cc7",
   "metadata": {},
   "outputs": [
    {
     "data": {
      "text/plain": [
       "['FaultTolerantFedAvg',\n",
       " 'FedAdagrad',\n",
       " 'FedAdam',\n",
       " 'FedAvg',\n",
       " 'FedAvgAndroid',\n",
       " 'FedAvgM',\n",
       " 'FedMedian',\n",
       " 'FedOpt',\n",
       " 'FedProx',\n",
       " 'FedTrimmedAvg',\n",
       " 'FedXgbNnAvg',\n",
       " 'FedYogi',\n",
       " 'QFedAvg',\n",
       " 'Strategy',\n",
       " '__all__',\n",
       " '__builtins__',\n",
       " '__cached__',\n",
       " '__doc__',\n",
       " '__file__',\n",
       " '__loader__',\n",
       " '__name__',\n",
       " '__package__',\n",
       " '__path__',\n",
       " '__spec__',\n",
       " 'aggregate',\n",
       " 'fault_tolerant_fedavg',\n",
       " 'fedadagrad',\n",
       " 'fedadam',\n",
       " 'fedavg',\n",
       " 'fedavg_android',\n",
       " 'fedavgm',\n",
       " 'fedmedian',\n",
       " 'fedopt',\n",
       " 'fedprox',\n",
       " 'fedtrimmedavg',\n",
       " 'fedxgb_nn_avg',\n",
       " 'fedyogi',\n",
       " 'qfedavg',\n",
       " 'strategy']"
      ]
     },
     "execution_count": 79,
     "metadata": {},
     "output_type": "execute_result"
    }
   ],
   "source": [
    "import flwr as fl\n",
    "dir(fl.server.strategy)"
   ]
  },
  {
   "cell_type": "markdown",
   "id": "750b994b",
   "metadata": {},
   "source": [
    "The creation of a strategy is based on the \"Strategy\" Class, it's enough to pass the name of one of the mentionned strategies, and other federated learning parameters which are used during federation rounds.\n",
    "<ul>\n",
    "    <li>fraction_fit : the fraction of clients to sample in order  to train the model </li>\n",
    "    <li>fraction_evaluate  : the fraction of clients to sample in order to evaluate the model (validation) </li>\n",
    "    <li>min_fit_clients :  the minimum number of clients to sample for the training on each round</li>\n",
    "    <li>min_evaluate_clients : the minimum number of clients to be sampled for the evaluation on each round </li>\n",
    "    <li>min_available_clients : the minimum  required number of available clients to start a federation round </li>\n",
    "<ul>"
   ]
  },
  {
   "cell_type": "code",
   "execution_count": 80,
   "id": "9a020ad9",
   "metadata": {},
   "outputs": [],
   "source": [
    "from Medfl.LearningManager.strategy import Strategy\n",
    "fed_avg = Strategy(\"FedAvg\", fraction_fit = 1.0 ,fraction_evaluate = 1.0,min_fit_clients = 2,min_evaluate_clients = 2,min_available_clients = 2)"
   ]
  },
  {
   "cell_type": "markdown",
   "id": "f4ed851d",
   "metadata": {},
   "source": [
    "<h3>Federated Learning Server</h3>\n",
    "The server in the FL terminology, is the set of the mechanizms that orchestrate  all the FL processes, (distributing the model to  clients, getting the models updates from clients, aggregate these updates. <br>\n",
    "<b>Remark :</b> The FL ServerIt has no relation ! with webservers or any other server concepts.\n",
    "<h4>MEDfl server</h4>\n",
    "The FL server on MEDfl, is based on the server class of Flower, but with our customization, because <b>we have added</b> a gradient perturbing feature using <b> Opacus</b>, so we can make the FLpipeline <b>differentially private </b> <br>\n",
    "The FLserver in MEDfl, has the follwoing attributes : \n",
    "<ul>\n",
    "    <li> global_model : The global model\n",
    "    <li> strategy : The  aggregation strategy\n",
    "    <li> num_rounds : The number of federation rounds\n",
    "    <li> num_clients : The number of train nodes\n",
    "    <li>dataset : The federated dataset generated by an FLsetup\n",
    "    <li> diff_privacy : a boolean variable to  enable (disable) the Differentially Private training mode\n",
    "</ul>"
   ]
  },
  {
   "cell_type": "code",
   "execution_count": 81,
   "id": "6f4da9e7",
   "metadata": {},
   "outputs": [],
   "source": [
    "#Create a server\n",
    "from Medfl.LearningManager.server import *\n",
    "\n",
    "server = FlowerServer(global_model, strategy = fed_avg, num_rounds = 10,\n",
    "                       num_clients  = len(fl_dataset.trainloaders), \n",
    "                       fed_dataset = fl_dataset,diff_privacy = False)"
   ]
  },
  {
   "cell_type": "markdown",
   "id": "1c35914e",
   "metadata": {},
   "source": [
    "<h3>The federated learning pipeline (FLpipeline)</h3>"
   ]
  },
  {
   "cell_type": "code",
   "execution_count": 82,
   "id": "0552988c",
   "metadata": {},
   "outputs": [
    {
     "name": "stderr",
     "output_type": "stream",
     "text": [
      "INFO flwr 2023-11-13 15:20:24,388 | app.py:175 | Starting Flower simulation, config: ServerConfig(num_rounds=10, round_timeout=None)\n",
      "11/13/2023 15:20:24:INFO:Starting Flower simulation, config: ServerConfig(num_rounds=10, round_timeout=None)\n"
     ]
    },
    {
     "name": "stderr",
     "output_type": "stream",
     "text": [
      "2023-11-13 15:20:30,081\tINFO worker.py:1621 -- Started a local Ray instance.\n",
      "INFO flwr 2023-11-13 15:20:33,809 | app.py:210 | Flower VCE: Ray initialized with resources: {'node:__internal_head__': 1.0, 'object_store_memory': 373937356.0, 'memory': 747874715.0, 'node:127.0.0.1': 1.0, 'CPU': 8.0}\n",
      "11/13/2023 15:20:33:INFO:Flower VCE: Ray initialized with resources: {'node:__internal_head__': 1.0, 'object_store_memory': 373937356.0, 'memory': 747874715.0, 'node:127.0.0.1': 1.0, 'CPU': 8.0}\n",
      "INFO flwr 2023-11-13 15:20:33,812 | app.py:218 | No `client_resources` specified. Using minimal resources for clients.\n",
      "11/13/2023 15:20:33:INFO:No `client_resources` specified. Using minimal resources for clients.\n",
      "INFO flwr 2023-11-13 15:20:33,815 | app.py:224 | Flower VCE: Resources for each Virtual Client: {'num_cpus': 1, 'num_gpus': 0.0}\n",
      "11/13/2023 15:20:33:INFO:Flower VCE: Resources for each Virtual Client: {'num_cpus': 1, 'num_gpus': 0.0}\n",
      "INFO flwr 2023-11-13 15:20:33,839 | app.py:270 | Flower VCE: Creating VirtualClientEngineActorPool with 8 actors\n",
      "11/13/2023 15:20:33:INFO:Flower VCE: Creating VirtualClientEngineActorPool with 8 actors\n",
      "INFO flwr 2023-11-13 15:20:33,843 | server.py:89 | Initializing global parameters\n",
      "11/13/2023 15:20:33:INFO:Initializing global parameters\n",
      "INFO flwr 2023-11-13 15:20:33,846 | server.py:272 | Using initial parameters provided by strategy\n",
      "11/13/2023 15:20:33:INFO:Using initial parameters provided by strategy\n",
      "INFO flwr 2023-11-13 15:20:33,850 | server.py:91 | Evaluating initial parameters\n",
      "11/13/2023 15:20:33:INFO:Evaluating initial parameters\n",
      "INFO flwr 2023-11-13 15:20:33,903 | server.py:94 | initial parameters (loss, other metrics): 0.02428148361704618, {'accuracy': 0.47098214285714285}\n",
      "11/13/2023 15:20:33:INFO:initial parameters (loss, other metrics): 0.02428148361704618, {'accuracy': 0.47098214285714285}\n",
      "INFO flwr 2023-11-13 15:20:33,908 | server.py:104 | FL starting\n",
      "11/13/2023 15:20:33:INFO:FL starting\n",
      "DEBUG flwr 2023-11-13 15:20:33,912 | server.py:222 | fit_round 1: strategy sampled 2 clients (out of 2)\n",
      "11/13/2023 15:20:33:DEBUG:fit_round 1: strategy sampled 2 clients (out of 2)\n"
     ]
    },
    {
     "name": "stdout",
     "output_type": "stream",
     "text": [
      "Server-side evaluation loss 0.02428148361704618 / accuracy 0.47098214285714285\n"
     ]
    },
    {
     "name": "stderr",
     "output_type": "stream",
     "text": [
      "\u001b[2m\u001b[36m(DefaultActor pid=14608)\u001b[0m C:\\Users\\HP User\\AppData\\Roaming\\Python\\Python39\\site-packages\\opacus\\privacy_engine.py:142: UserWarning: Secure RNG turned off. This is perfectly fine for experimentation as it allows for much faster training performance, but remember to turn it on and retrain one last time before production with ``secure_mode`` turned on.\n",
      "\u001b[2m\u001b[36m(DefaultActor pid=14608)\u001b[0m   warnings.warn(\n"
     ]
    },
    {
     "name": "stdout",
     "output_type": "stream",
     "text": [
      "\u001b[2m\u001b[36m(DefaultActor pid=14608)\u001b[0m [Client 0] fit, config: {}\n",
      "\u001b[2m\u001b[36m(DefaultActor pid=14608)\u001b[0m \tTrain Epoch: 0 \tLoss: 0.712323 Acc@1: 0.000000\n",
      "\u001b[2m\u001b[36m(DefaultActor pid=14608)\u001b[0m \tTrain Epoch: 0 \tLoss: 0.688506 Acc@1: 3.593750\n",
      "\u001b[2m\u001b[36m(DefaultActor pid=14608)\u001b[0m \tTrain Epoch: 0 \tLoss: 0.675578 Acc@1: 6.562500\n",
      "\u001b[2m\u001b[36m(DefaultActor pid=15088)\u001b[0m epsilon of client 1 : eps = 0\n"
     ]
    },
    {
     "name": "stderr",
     "output_type": "stream",
     "text": [
      "DEBUG flwr 2023-11-13 15:20:42,352 | server.py:236 | fit_round 1 received 2 results and 0 failures\n",
      "11/13/2023 15:20:42:DEBUG:fit_round 1 received 2 results and 0 failures\n",
      "WARNING flwr 2023-11-13 15:20:42,357 | fedavg.py:242 | No fit_metrics_aggregation_fn provided\n",
      "11/13/2023 15:20:42:WARNING:No fit_metrics_aggregation_fn provided\n",
      "INFO flwr 2023-11-13 15:20:42,381 | server.py:125 | fit progress: (1, 0.016822809509807926, {'accuracy': 0.8571428571428571}, 8.468211200000042)\n",
      "11/13/2023 15:20:42:INFO:fit progress: (1, 0.016822809509807926, {'accuracy': 0.8571428571428571}, 8.468211200000042)\n",
      "DEBUG flwr 2023-11-13 15:20:42,382 | server.py:173 | evaluate_round 1: strategy sampled 2 clients (out of 2)\n",
      "11/13/2023 15:20:42:DEBUG:evaluate_round 1: strategy sampled 2 clients (out of 2)\n",
      "DEBUG flwr 2023-11-13 15:20:42,443 | server.py:187 | evaluate_round 1 received 2 results and 0 failures\n",
      "11/13/2023 15:20:42:DEBUG:evaluate_round 1 received 2 results and 0 failures\n",
      "WARNING flwr 2023-11-13 15:20:42,445 | fedavg.py:273 | No evaluate_metrics_aggregation_fn provided\n",
      "11/13/2023 15:20:42:WARNING:No evaluate_metrics_aggregation_fn provided\n",
      "DEBUG flwr 2023-11-13 15:20:42,447 | server.py:222 | fit_round 2: strategy sampled 2 clients (out of 2)\n",
      "11/13/2023 15:20:42:DEBUG:fit_round 2: strategy sampled 2 clients (out of 2)\n"
     ]
    },
    {
     "name": "stdout",
     "output_type": "stream",
     "text": [
      "Server-side evaluation loss 0.016822809509807926 / accuracy 0.8571428571428571\n",
      "\u001b[2m\u001b[36m(DefaultActor pid=14608)\u001b[0m [Client 1] evaluate, config: {}\n"
     ]
    },
    {
     "name": "stderr",
     "output_type": "stream",
     "text": [
      "DEBUG flwr 2023-11-13 15:20:43,545 | server.py:236 | fit_round 2 received 2 results and 0 failures\n",
      "11/13/2023 15:20:43:DEBUG:fit_round 2 received 2 results and 0 failures\n",
      "INFO flwr 2023-11-13 15:20:43,568 | server.py:125 | fit progress: (2, 0.015994122345670523, {'accuracy': 0.8571428571428571}, 9.655947800000035)\n",
      "11/13/2023 15:20:43:INFO:fit progress: (2, 0.015994122345670523, {'accuracy': 0.8571428571428571}, 9.655947800000035)\n",
      "DEBUG flwr 2023-11-13 15:20:43,572 | server.py:173 | evaluate_round 2: strategy sampled 2 clients (out of 2)\n",
      "11/13/2023 15:20:43:DEBUG:evaluate_round 2: strategy sampled 2 clients (out of 2)\n",
      "DEBUG flwr 2023-11-13 15:20:43,633 | server.py:187 | evaluate_round 2 received 2 results and 0 failures\n",
      "11/13/2023 15:20:43:DEBUG:evaluate_round 2 received 2 results and 0 failures\n",
      "DEBUG flwr 2023-11-13 15:20:43,637 | server.py:222 | fit_round 3: strategy sampled 2 clients (out of 2)\n",
      "11/13/2023 15:20:43:DEBUG:fit_round 3: strategy sampled 2 clients (out of 2)\n"
     ]
    },
    {
     "name": "stdout",
     "output_type": "stream",
     "text": [
      "Server-side evaluation loss 0.015994122345670523 / accuracy 0.8571428571428571\n"
     ]
    },
    {
     "name": "stderr",
     "output_type": "stream",
     "text": [
      "DEBUG flwr 2023-11-13 15:20:44,740 | server.py:236 | fit_round 3 received 2 results and 0 failures\n",
      "11/13/2023 15:20:44:DEBUG:fit_round 3 received 2 results and 0 failures\n",
      "INFO flwr 2023-11-13 15:20:44,768 | server.py:125 | fit progress: (3, 0.01579121970158401, {'accuracy': 0.8571428571428571}, 10.855381800000032)\n",
      "11/13/2023 15:20:44:INFO:fit progress: (3, 0.01579121970158401, {'accuracy': 0.8571428571428571}, 10.855381800000032)\n",
      "DEBUG flwr 2023-11-13 15:20:44,769 | server.py:173 | evaluate_round 3: strategy sampled 2 clients (out of 2)\n",
      "11/13/2023 15:20:44:DEBUG:evaluate_round 3: strategy sampled 2 clients (out of 2)\n",
      "DEBUG flwr 2023-11-13 15:20:44,831 | server.py:187 | evaluate_round 3 received 2 results and 0 failures\n",
      "11/13/2023 15:20:44:DEBUG:evaluate_round 3 received 2 results and 0 failures\n",
      "DEBUG flwr 2023-11-13 15:20:44,832 | server.py:222 | fit_round 4: strategy sampled 2 clients (out of 2)\n",
      "11/13/2023 15:20:44:DEBUG:fit_round 4: strategy sampled 2 clients (out of 2)\n"
     ]
    },
    {
     "name": "stdout",
     "output_type": "stream",
     "text": [
      "Server-side evaluation loss 0.01579121970158401 / accuracy 0.8571428571428571\n"
     ]
    },
    {
     "name": "stderr",
     "output_type": "stream",
     "text": [
      "DEBUG flwr 2023-11-13 15:20:46,069 | server.py:236 | fit_round 4 received 2 results and 0 failures\n",
      "11/13/2023 15:20:46:DEBUG:fit_round 4 received 2 results and 0 failures\n",
      "INFO flwr 2023-11-13 15:20:46,095 | server.py:125 | fit progress: (4, 0.015719253096363243, {'accuracy': 0.8571428571428571}, 12.182843400000024)\n",
      "11/13/2023 15:20:46:INFO:fit progress: (4, 0.015719253096363243, {'accuracy': 0.8571428571428571}, 12.182843400000024)\n",
      "DEBUG flwr 2023-11-13 15:20:46,098 | server.py:173 | evaluate_round 4: strategy sampled 2 clients (out of 2)\n",
      "11/13/2023 15:20:46:DEBUG:evaluate_round 4: strategy sampled 2 clients (out of 2)\n",
      "DEBUG flwr 2023-11-13 15:20:46,161 | server.py:187 | evaluate_round 4 received 2 results and 0 failures\n",
      "11/13/2023 15:20:46:DEBUG:evaluate_round 4 received 2 results and 0 failures\n",
      "DEBUG flwr 2023-11-13 15:20:46,163 | server.py:222 | fit_round 5: strategy sampled 2 clients (out of 2)\n",
      "11/13/2023 15:20:46:DEBUG:fit_round 5: strategy sampled 2 clients (out of 2)\n"
     ]
    },
    {
     "name": "stdout",
     "output_type": "stream",
     "text": [
      "Server-side evaluation loss 0.015719253096363243 / accuracy 0.8571428571428571\n",
      "\u001b[2m\u001b[36m(DefaultActor pid=15088)\u001b[0m [Client 0] fit, config: {}\u001b[32m [repeated 9x across cluster]\u001b[0m\n",
      "\u001b[2m\u001b[36m(DefaultActor pid=14608)\u001b[0m \tTrain Epoch: 1 \tLoss: 0.545423 Acc@1: 0.000000\u001b[32m [repeated 467x across cluster]\u001b[0m\n",
      "\u001b[2m\u001b[36m(DefaultActor pid=14608)\u001b[0m epsilon of client 1 : eps = 0\u001b[32m [repeated 8x across cluster]\u001b[0m\n"
     ]
    },
    {
     "name": "stderr",
     "output_type": "stream",
     "text": [
      "DEBUG flwr 2023-11-13 15:20:47,421 | server.py:236 | fit_round 5 received 2 results and 0 failures\n",
      "11/13/2023 15:20:47:DEBUG:fit_round 5 received 2 results and 0 failures\n",
      "INFO flwr 2023-11-13 15:20:47,447 | server.py:125 | fit progress: (5, 0.01567420327692009, {'accuracy': 0.8571428571428571}, 13.534613700000023)\n",
      "11/13/2023 15:20:47:INFO:fit progress: (5, 0.01567420327692009, {'accuracy': 0.8571428571428571}, 13.534613700000023)\n",
      "DEBUG flwr 2023-11-13 15:20:47,450 | server.py:173 | evaluate_round 5: strategy sampled 2 clients (out of 2)\n",
      "11/13/2023 15:20:47:DEBUG:evaluate_round 5: strategy sampled 2 clients (out of 2)\n",
      "DEBUG flwr 2023-11-13 15:20:47,510 | server.py:187 | evaluate_round 5 received 2 results and 0 failures\n",
      "11/13/2023 15:20:47:DEBUG:evaluate_round 5 received 2 results and 0 failures\n",
      "DEBUG flwr 2023-11-13 15:20:47,514 | server.py:222 | fit_round 6: strategy sampled 2 clients (out of 2)\n",
      "11/13/2023 15:20:47:DEBUG:fit_round 6: strategy sampled 2 clients (out of 2)\n",
      "\u001b[2m\u001b[36m(DefaultActor pid=14608)\u001b[0m C:\\Users\\HP User\\AppData\\Roaming\\Python\\Python39\\site-packages\\opacus\\privacy_engine.py:142: UserWarning: Secure RNG turned off. This is perfectly fine for experimentation as it allows for much faster training performance, but remember to turn it on and retrain one last time before production with ``secure_mode`` turned on.\u001b[32m [repeated 10x across cluster]\u001b[0m\n",
      "\u001b[2m\u001b[36m(DefaultActor pid=14608)\u001b[0m   warnings.warn(\u001b[32m [repeated 10x across cluster]\u001b[0m\n"
     ]
    },
    {
     "name": "stdout",
     "output_type": "stream",
     "text": [
      "Server-side evaluation loss 0.01567420327692009 / accuracy 0.8571428571428571\n",
      "\u001b[2m\u001b[36m(DefaultActor pid=14608)\u001b[0m [Client 1] evaluate, config: {}\u001b[32m [repeated 8x across cluster]\u001b[0m\n"
     ]
    },
    {
     "name": "stderr",
     "output_type": "stream",
     "text": [
      "DEBUG flwr 2023-11-13 15:20:49,306 | server.py:236 | fit_round 6 received 2 results and 0 failures\n",
      "11/13/2023 15:20:49:DEBUG:fit_round 6 received 2 results and 0 failures\n",
      "INFO flwr 2023-11-13 15:20:49,351 | server.py:125 | fit progress: (6, 0.01563327060900718, {'accuracy': 0.8571428571428571}, 15.43799899999999)\n",
      "11/13/2023 15:20:49:INFO:fit progress: (6, 0.01563327060900718, {'accuracy': 0.8571428571428571}, 15.43799899999999)\n",
      "DEBUG flwr 2023-11-13 15:20:49,356 | server.py:173 | evaluate_round 6: strategy sampled 2 clients (out of 2)\n",
      "11/13/2023 15:20:49:DEBUG:evaluate_round 6: strategy sampled 2 clients (out of 2)\n",
      "DEBUG flwr 2023-11-13 15:20:49,512 | server.py:187 | evaluate_round 6 received 2 results and 0 failures\n",
      "11/13/2023 15:20:49:DEBUG:evaluate_round 6 received 2 results and 0 failures\n",
      "DEBUG flwr 2023-11-13 15:20:49,515 | server.py:222 | fit_round 7: strategy sampled 2 clients (out of 2)\n",
      "11/13/2023 15:20:49:DEBUG:fit_round 7: strategy sampled 2 clients (out of 2)\n"
     ]
    },
    {
     "name": "stdout",
     "output_type": "stream",
     "text": [
      "Server-side evaluation loss 0.01563327060900718 / accuracy 0.8571428571428571\n"
     ]
    },
    {
     "name": "stderr",
     "output_type": "stream",
     "text": [
      "DEBUG flwr 2023-11-13 15:20:50,914 | server.py:236 | fit_round 7 received 2 results and 0 failures\n",
      "11/13/2023 15:20:50:DEBUG:fit_round 7 received 2 results and 0 failures\n",
      "INFO flwr 2023-11-13 15:20:50,939 | server.py:125 | fit progress: (7, 0.015600289157826266, {'accuracy': 0.8571428571428571}, 17.026630899999986)\n",
      "11/13/2023 15:20:50:INFO:fit progress: (7, 0.015600289157826266, {'accuracy': 0.8571428571428571}, 17.026630899999986)\n",
      "DEBUG flwr 2023-11-13 15:20:50,943 | server.py:173 | evaluate_round 7: strategy sampled 2 clients (out of 2)\n",
      "11/13/2023 15:20:50:DEBUG:evaluate_round 7: strategy sampled 2 clients (out of 2)\n",
      "DEBUG flwr 2023-11-13 15:20:51,026 | server.py:187 | evaluate_round 7 received 2 results and 0 failures\n",
      "11/13/2023 15:20:51:DEBUG:evaluate_round 7 received 2 results and 0 failures\n",
      "DEBUG flwr 2023-11-13 15:20:51,029 | server.py:222 | fit_round 8: strategy sampled 2 clients (out of 2)\n",
      "11/13/2023 15:20:51:DEBUG:fit_round 8: strategy sampled 2 clients (out of 2)\n"
     ]
    },
    {
     "name": "stdout",
     "output_type": "stream",
     "text": [
      "Server-side evaluation loss 0.015600289157826266 / accuracy 0.8571428571428571\n",
      "\u001b[2m\u001b[36m(DefaultActor pid=15088)\u001b[0m [Client 1] fit, config: {}\u001b[32m [repeated 6x across cluster]\u001b[0m\n",
      "\u001b[2m\u001b[36m(DefaultActor pid=14608)\u001b[0m \tTrain Epoch: 1 \tLoss: 0.454684 Acc@1: 2.455357\u001b[32m [repeated 356x across cluster]\u001b[0m\n"
     ]
    },
    {
     "name": "stderr",
     "output_type": "stream",
     "text": [
      "DEBUG flwr 2023-11-13 15:20:52,206 | server.py:236 | fit_round 8 received 2 results and 0 failures\n",
      "11/13/2023 15:20:52:DEBUG:fit_round 8 received 2 results and 0 failures\n",
      "INFO flwr 2023-11-13 15:20:52,243 | server.py:125 | fit progress: (8, 0.015571455232245172, {'accuracy': 0.8571428571428571}, 18.33054130000005)\n",
      "11/13/2023 15:20:52:INFO:fit progress: (8, 0.015571455232245172, {'accuracy': 0.8571428571428571}, 18.33054130000005)\n",
      "DEBUG flwr 2023-11-13 15:20:52,245 | server.py:173 | evaluate_round 8: strategy sampled 2 clients (out of 2)\n",
      "11/13/2023 15:20:52:DEBUG:evaluate_round 8: strategy sampled 2 clients (out of 2)\n",
      "DEBUG flwr 2023-11-13 15:20:52,327 | server.py:187 | evaluate_round 8 received 2 results and 0 failures\n",
      "11/13/2023 15:20:52:DEBUG:evaluate_round 8 received 2 results and 0 failures\n",
      "DEBUG flwr 2023-11-13 15:20:52,329 | server.py:222 | fit_round 9: strategy sampled 2 clients (out of 2)\n",
      "11/13/2023 15:20:52:DEBUG:fit_round 9: strategy sampled 2 clients (out of 2)\n"
     ]
    },
    {
     "name": "stdout",
     "output_type": "stream",
     "text": [
      "Server-side evaluation loss 0.015571455232245172 / accuracy 0.8571428571428571\n",
      "\u001b[2m\u001b[36m(DefaultActor pid=14608)\u001b[0m epsilon of client 0 : eps = 0\u001b[32m [repeated 7x across cluster]\u001b[0m\n",
      "\u001b[2m\u001b[36m(DefaultActor pid=15088)\u001b[0m [Client 1] evaluate, config: {}\u001b[32m [repeated 7x across cluster]\u001b[0m\n"
     ]
    },
    {
     "name": "stderr",
     "output_type": "stream",
     "text": [
      "DEBUG flwr 2023-11-13 15:20:53,642 | server.py:236 | fit_round 9 received 2 results and 0 failures\n",
      "11/13/2023 15:20:53:DEBUG:fit_round 9 received 2 results and 0 failures\n",
      "INFO flwr 2023-11-13 15:20:53,676 | server.py:125 | fit progress: (9, 0.01554250631401007, {'accuracy': 0.8571428571428571}, 19.763440100000025)\n",
      "11/13/2023 15:20:53:INFO:fit progress: (9, 0.01554250631401007, {'accuracy': 0.8571428571428571}, 19.763440100000025)\n",
      "DEBUG flwr 2023-11-13 15:20:53,678 | server.py:173 | evaluate_round 9: strategy sampled 2 clients (out of 2)\n",
      "11/13/2023 15:20:53:DEBUG:evaluate_round 9: strategy sampled 2 clients (out of 2)\n",
      "DEBUG flwr 2023-11-13 15:20:53,775 | server.py:187 | evaluate_round 9 received 2 results and 0 failures\n",
      "11/13/2023 15:20:53:DEBUG:evaluate_round 9 received 2 results and 0 failures\n",
      "DEBUG flwr 2023-11-13 15:20:53,777 | server.py:222 | fit_round 10: strategy sampled 2 clients (out of 2)\n",
      "11/13/2023 15:20:53:DEBUG:fit_round 10: strategy sampled 2 clients (out of 2)\n"
     ]
    },
    {
     "name": "stdout",
     "output_type": "stream",
     "text": [
      "Server-side evaluation loss 0.01554250631401007 / accuracy 0.8571428571428571\n"
     ]
    },
    {
     "name": "stderr",
     "output_type": "stream",
     "text": [
      "\u001b[2m\u001b[36m(DefaultActor pid=14608)\u001b[0m C:\\Users\\HP User\\AppData\\Roaming\\Python\\Python39\\site-packages\\opacus\\privacy_engine.py:142: UserWarning: Secure RNG turned off. This is perfectly fine for experimentation as it allows for much faster training performance, but remember to turn it on and retrain one last time before production with ``secure_mode`` turned on.\u001b[32m [repeated 8x across cluster]\u001b[0m\n",
      "\u001b[2m\u001b[36m(DefaultActor pid=14608)\u001b[0m   warnings.warn(\u001b[32m [repeated 8x across cluster]\u001b[0m\n",
      "DEBUG flwr 2023-11-13 15:20:55,107 | server.py:236 | fit_round 10 received 2 results and 0 failures\n",
      "11/13/2023 15:20:55:DEBUG:fit_round 10 received 2 results and 0 failures\n",
      "INFO flwr 2023-11-13 15:20:55,131 | server.py:125 | fit progress: (10, 0.015513680678763265, {'accuracy': 0.8571428571428571}, 21.218699300000026)\n",
      "11/13/2023 15:20:55:INFO:fit progress: (10, 0.015513680678763265, {'accuracy': 0.8571428571428571}, 21.218699300000026)\n",
      "DEBUG flwr 2023-11-13 15:20:55,135 | server.py:173 | evaluate_round 10: strategy sampled 2 clients (out of 2)\n",
      "11/13/2023 15:20:55:DEBUG:evaluate_round 10: strategy sampled 2 clients (out of 2)\n",
      "DEBUG flwr 2023-11-13 15:20:55,223 | server.py:187 | evaluate_round 10 received 2 results and 0 failures\n",
      "11/13/2023 15:20:55:DEBUG:evaluate_round 10 received 2 results and 0 failures\n",
      "INFO flwr 2023-11-13 15:20:55,225 | server.py:153 | FL finished in 21.312454600000024\n",
      "11/13/2023 15:20:55:INFO:FL finished in 21.312454600000024\n",
      "INFO flwr 2023-11-13 15:20:55,227 | app.py:225 | app_fit: losses_distributed [(1, 0.01713061273596547), (2, 0.0163879546740823), (3, 0.01620005138791344), (4, 0.016137087798886687), (5, 0.016101571123571457), (6, 0.016071248765830718), (7, 0.016047404161487384), (8, 0.01602682089036331), (9, 0.01600385533619416), (10, 0.015980723552776487)]\n",
      "11/13/2023 15:20:55:INFO:app_fit: losses_distributed [(1, 0.01713061273596547), (2, 0.0163879546740823), (3, 0.01620005138791344), (4, 0.016137087798886687), (5, 0.016101571123571457), (6, 0.016071248765830718), (7, 0.016047404161487384), (8, 0.01602682089036331), (9, 0.01600385533619416), (10, 0.015980723552776487)]\n",
      "INFO flwr 2023-11-13 15:20:55,231 | app.py:226 | app_fit: metrics_distributed_fit {}\n",
      "11/13/2023 15:20:55:INFO:app_fit: metrics_distributed_fit {}\n",
      "INFO flwr 2023-11-13 15:20:55,233 | app.py:227 | app_fit: metrics_distributed {}\n",
      "11/13/2023 15:20:55:INFO:app_fit: metrics_distributed {}\n",
      "INFO flwr 2023-11-13 15:20:55,234 | app.py:228 | app_fit: losses_centralized [(0, 0.02428148361704618), (1, 0.016822809509807926), (2, 0.015994122345670523), (3, 0.01579121970158401), (4, 0.015719253096363243), (5, 0.01567420327692009), (6, 0.01563327060900718), (7, 0.015600289157826266), (8, 0.015571455232245172), (9, 0.01554250631401007), (10, 0.015513680678763265)]\n",
      "11/13/2023 15:20:55:INFO:app_fit: losses_centralized [(0, 0.02428148361704618), (1, 0.016822809509807926), (2, 0.015994122345670523), (3, 0.01579121970158401), (4, 0.015719253096363243), (5, 0.01567420327692009), (6, 0.01563327060900718), (7, 0.015600289157826266), (8, 0.015571455232245172), (9, 0.01554250631401007), (10, 0.015513680678763265)]\n",
      "INFO flwr 2023-11-13 15:20:55,236 | app.py:229 | app_fit: metrics_centralized {'accuracy': [(0, 0.47098214285714285), (1, 0.8571428571428571), (2, 0.8571428571428571), (3, 0.8571428571428571), (4, 0.8571428571428571), (5, 0.8571428571428571), (6, 0.8571428571428571), (7, 0.8571428571428571), (8, 0.8571428571428571), (9, 0.8571428571428571), (10, 0.8571428571428571)]}\n",
      "11/13/2023 15:20:55:INFO:app_fit: metrics_centralized {'accuracy': [(0, 0.47098214285714285), (1, 0.8571428571428571), (2, 0.8571428571428571), (3, 0.8571428571428571), (4, 0.8571428571428571), (5, 0.8571428571428571), (6, 0.8571428571428571), (7, 0.8571428571428571), (8, 0.8571428571428571), (9, 0.8571428571428571), (10, 0.8571428571428571)]}\n"
     ]
    },
    {
     "name": "stdout",
     "output_type": "stream",
     "text": [
      "Server-side evaluation loss 0.015513680678763265 / accuracy 0.8571428571428571\n"
     ]
    }
   ],
   "source": [
    "#Create a pipeline\n",
    "from Medfl.LearningManager.flpipeline import *\n",
    "ppl_1 = FLpipeline( name =\"the first fl_pipeline\",description = \"this is our first FL pipeline\",\n",
    "                   server = server)\n",
    "ppl_1.server.run()"
   ]
  },
  {
   "cell_type": "code",
   "execution_count": 83,
   "id": "5493bbfc",
   "metadata": {},
   "outputs": [
    {
     "data": {
      "image/png": "[encoded data removed]",
      "text/plain": [
       "<Figure size 800x600 with 1 Axes>"
      ]
     },
     "metadata": {},
     "output_type": "display_data"
    }
   ],
   "source": [
    "# making some plots\n",
    "from Medfl.LearningManager.plot import AccuracyLossPlotter\n",
    "\n",
    "global_accuracy,global_loss = ppl_1.server.accuracies,ppl_1.server.losses\n",
    "results_dict = {\n",
    "    ('LR: 0.001, Optimizer: SGD', 'accuracy'): global_accuracy,\n",
    "    ('LR: 0.001, Optimizer: SGD', 'loss'): global_loss\n",
    "}\n",
    "plotter = AccuracyLossPlotter(results_dict)\n",
    "\n",
    "plotter.plot_accuracy_loss()"
   ]
  },
  {
   "cell_type": "code",
   "execution_count": null,
   "id": "1ff0cf53",
   "metadata": {},
   "outputs": [],
   "source": []
  },
  {
   "cell_type": "code",
   "execution_count": 84,
   "id": "b0974d51",
   "metadata": {},
   "outputs": [
    {
     "data": {
      "text/plain": [
       "[{'node_name': 'Midwest',\n",
       "  'classification_report': \"{'confusion matrix': {'TP': 0, 'FP': 3, 'FN': 157, 'TN': 883}, 'Accuracy': 0.847, 'Sensitivity/Recall': 0.0, 'Specificity': 0.997, 'PPV/Precision': 0.0, 'NPV': 0.849, 'F1-score': 0.0, 'False positive rate': 0.003, 'True positive rate': 0.0}\"},\n",
       " {'node_name': 'South',\n",
       "  'classification_report': \"{'confusion matrix': {'TP': 2, 'FP': 5, 'FN': 141, 'TN': 560}, 'Accuracy': 0.794, 'Sensitivity/Recall': 0.014, 'Specificity': 0.991, 'PPV/Precision': 0.286, 'NPV': 0.799, 'F1-score': 0.027, 'False positive rate': 0.009, 'True positive rate': 0.014}\"},\n",
       " {'node_name': 'West',\n",
       "  'classification_report': \"{'confusion matrix': {'TP': 0, 'FP': 1, 'FN': 548, 'TN': 2352}, 'Accuracy': 0.811, 'Sensitivity/Recall': 0.0, 'Specificity': 1.0, 'PPV/Precision': 0.0, 'NPV': 0.811, 'F1-score': 0.0, 'False positive rate': 0.0, 'True positive rate': 0.0}\"},\n",
       " {'node_name': 'Northeast',\n",
       "  'classification_report': \"{'confusion matrix': {'TP': 10, 'FP': 25, 'FN': 249, 'TN': 960}, 'Accuracy': 0.78, 'Sensitivity/Recall': 0.039, 'Specificity': 0.975, 'PPV/Precision': 0.286, 'NPV': 0.794, 'F1-score': 0.068, 'False positive rate': 0.025, 'True positive rate': 0.039}\"}]"
      ]
     },
     "execution_count": 84,
     "metadata": {},
     "output_type": "execute_result"
    }
   ],
   "source": [
    "ppl_1.auto_test()\n"
   ]
  },
  {
   "cell_type": "code",
   "execution_count": 85,
   "id": "cbcf208e",
   "metadata": {},
   "outputs": [
    {
     "name": "stdout",
     "output_type": "stream",
     "text": [
      "{\"TP\": 0, \"FP\": 1, \"FN\": 164, \"TN\": 878}\n",
      "{\"TP\": 1, \"FP\": 3, \"FN\": 161, \"TN\": 543}\n",
      "{\"TP\": 5, \"FP\": 17, \"FN\": 543, \"TN\": 2336}\n",
      "{\"TP\": 13, \"FP\": 25, \"FN\": 246, \"TN\": 960}\n"
     ]
    }
   ],
   "source": [
    "import json \n",
    "\n",
    "result = [{'node_name': 'Midwest',\n",
    "  'classification_report': \"{'confusion matrix': {'TP': 0, 'FP': 1, 'FN': 164, 'TN': 878}, 'Accuracy': 0.842, 'Sensitivity/Recall': 0.0, 'Specificity': 0.999, 'PPV/Precision': 0.0, 'NPV': 0.843, 'F1-score': 0.01, 'False positive rate': 0.001, 'True positive rate': 0.0}\"},\n",
    " {'node_name': 'South',\n",
    "  'classification_report': \"{'confusion matrix': {'TP': 1, 'FP': 3, 'FN': 161, 'TN': 543}, 'Accuracy': 0.768, 'Sensitivity/Recall': 0.006, 'Specificity': 0.995, 'PPV/Precision': 0.25, 'NPV': 0.771, 'F1-score': 0.012, 'False positive rate': 0.005, 'True positive rate': 0.006}\"},\n",
    " {'node_name': 'West',\n",
    "  'classification_report': \"{'confusion matrix': {'TP': 5, 'FP': 17, 'FN': 543, 'TN': 2336}, 'Accuracy': 0.807, 'Sensitivity/Recall': 0.009, 'Specificity': 0.993, 'PPV/Precision': 0.227, 'NPV': 0.811, 'F1-score': 0.018, 'False positive rate': 0.007, 'True positive rate': 0.009}\"},\n",
    " {'node_name': 'Northeast',\n",
    "  'classification_report': \"{'confusion matrix': {'TP': 13, 'FP': 25, 'FN': 246, 'TN': 960}, 'Accuracy': 0.782, 'Sensitivity/Recall': 0.05, 'Specificity': 0.975, 'PPV/Precision': 0.342, 'NPV': 0.796, 'F1-score': 0.088, 'False positive rate': 0.025, 'True positive rate': 0.05}\"}]\n",
    "\n",
    "for entry in result:\n",
    "           node_name = entry['node_name']\n",
    "           classification_report_str = entry['classification_report']\n",
    "\n",
    "           # Convert the 'classification_report' string to a dictionary\n",
    "           classification_report_dict = json.loads(classification_report_str.replace(\"'\", \"\\\"\"))\n",
    "\n",
    "           # Extract specific values\n",
    "           accuracy = classification_report_dict['Accuracy']\n",
    "           sensitivity = classification_report_dict['Sensitivity/Recall']\n",
    "           precision = classification_report_dict['PPV/Precision']\n",
    "           # ... and so on\n",
    "\n",
    "           # Insert record into the 'testResults' table\n",
    "           print (json.dumps(classification_report_dict['confusion matrix']))"
   ]
  }
 ],
 "metadata": {
  "kernelspec": {
   "display_name": "Python 3 (ipykernel)",
   "language": "python",
   "name": "python3"
  },
  "language_info": {
   "codemirror_mode": {
    "name": "ipython",
    "version": 3
   },
   "file_extension": ".py",
   "mimetype": "text/x-python",
   "name": "python",
   "nbconvert_exporter": "python",
   "pygments_lexer": "ipython3",
   "version": "3.9.4"
  }
 },
 "nbformat": 4,
 "nbformat_minor": 5
}
