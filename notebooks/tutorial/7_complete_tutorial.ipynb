{
 "cells": [
  {
   "cell_type": "markdown",
   "metadata": {},
   "source": [
    "## **MEDfl Complete tutorial**"
   ]
  },
  {
   "cell_type": "markdown",
   "metadata": {},
   "source": [
    "In this complete tutorial, we will demonstrate the utilization of the **MEDfl** package for establishing a federated learning environment to simulate model training using federated learning and transfer learning. The tutorial begins with the setup of the database, networks, and nodes using the netManager. This step ensures the creation of a federated dataset, setting the stage for the Learning Manager. In the Learning Manager, users have the flexibility to design and train custom models. Finally, the tutorial concludes with testing the model and comparing results across various configurations."
   ]
  },
  {
   "cell_type": "code",
   "execution_count": 1,
   "metadata": {},
   "outputs": [],
   "source": [
    "import sys\n",
    "sys.path.append('../..')\n",
    "\n",
    "import os\n",
    "os.environ['PYTHONPATH'] = '../..'"
   ]
  },
  {
   "cell_type": "markdown",
   "metadata": {},
   "source": [
    "Imports "
   ]
  },
  {
   "cell_type": "code",
   "execution_count": 2,
   "metadata": {},
   "outputs": [
    {
     "name": "stderr",
     "output_type": "stream",
     "text": [
      "C:\\Users\\HP User\\AppData\\Local\\Temp\\ipykernel_19956\\3319853876.py:2: DeprecationWarning: \n",
      "Pyarrow will become a required dependency of pandas in the next major release of pandas (pandas 3.0),\n",
      "(to allow more performant data types, such as the Arrow string type, and better interoperability with other libraries)\n",
      "but was not found to be installed on your system.\n",
      "If this would cause problems for you,\n",
      "please provide us feedback at https://github.com/pandas-dev/pandas/issues/54466\n",
      "        \n",
      "  import pandas as pd\n",
      "2024-02-10 18:37:46,680\tINFO util.py:159 -- Missing packages: ['ipywidgets']. Run `pip install -U ipywidgets`, then restart the notebook server for rich notebook output.\n"
     ]
    }
   ],
   "source": [
    "import mysql.connector\n",
    "import pandas as pd\n",
    "from sqlalchemy import create_engine,text\n",
    "\n",
    "# Torch imports\n",
    "import torch\n",
    "import torch.nn as nn\n",
    "import torch.optim as optim\n",
    "\n",
    "## MedFL Imports \n",
    "## Network Manager Imports \n",
    "from Medfl.NetManager.node import Node\n",
    "from Medfl.NetManager.network import Network\n",
    "from Medfl.NetManager.dataset import DataSet\n",
    "from Medfl.NetManager.flsetup import FLsetup\n",
    "\n",
    "# flower imports \n",
    "import flwr as fl\n",
    "\n",
    "## Learning Manager imports \n",
    "from Medfl.LearningManager.dynamicModal import DynamicModel\n",
    "from Medfl.LearningManager.model import Model\n",
    "from Medfl.LearningManager.strategy import Strategy\n",
    "from Medfl.LearningManager.server import *\n",
    "from Medfl.LearningManager.flpipeline import *\n",
    "from Medfl.LearningManager.plot import AccuracyLossPlotter\n",
    "\n",
    "\n",
    "\n",
    "# Utils\n",
    "from Medfl.LearningManager.utils import *\n"
   ]
  },
  {
   "cell_type": "markdown",
   "metadata": {},
   "source": [
    "### **1. Learning Manager**"
   ]
  },
  {
   "cell_type": "markdown",
   "metadata": {},
   "source": [
    "In this tutorial, we will create an automated network using the eICU database. If you are interested in exploring additional options and getting more details about the Learning Manager sub-package, feel free to check the tutorial labeled `2_NetManager`."
   ]
  },
  {
   "cell_type": "markdown",
   "metadata": {},
   "source": [
    "#### 1.1 DB Preparation\n",
    "DB Creation: \n",
    "Check the `1_DB-checkpoint` tutorial to learn more about this step"
   ]
  },
  {
   "cell_type": "code",
   "execution_count": 3,
   "metadata": {},
   "outputs": [],
   "source": [
    "# If you didn't create the MEDfl database before you need to execute the script else you can skeep the next line and just empty the database \n",
    "# !python ../../scripts/create_db.py\n",
    "\n",
    "# clearn DB \n",
    "empty_db()"
   ]
  },
  {
   "cell_type": "markdown",
   "metadata": {},
   "source": [
    "#### 1.2 Network Creation\n"
   ]
  },
  {
   "cell_type": "code",
   "execution_count": 4,
   "metadata": {},
   "outputs": [
    {
     "data": {
      "text/plain": [
       "'Auto_Net'"
      ]
     },
     "execution_count": 4,
     "metadata": {},
     "output_type": "execute_result"
    }
   ],
   "source": [
    "# Create a nestwork \"Net_1\"\n",
    "Net_1 = Network(name=\"Auto_Net\")\n",
    "Net_1.create_network()\n",
    "\n",
    "Net_1.name"
   ]
  },
  {
   "cell_type": "code",
   "execution_count": 5,
   "metadata": {},
   "outputs": [
    {
     "name": "stdout",
     "output_type": "stream",
     "text": [
      "D:\\ESI\\3CS\\PFE\\last_year\\Code\\MEDfl\\notebooks\\eicu_test.csv\n"
     ]
    },
    {
     "data": {
      "text/plain": [
       "1"
      ]
     },
     "execution_count": 5,
     "metadata": {},
     "output_type": "execute_result"
    }
   ],
   "source": [
    "# Create a MasterDataSet from Net_1\n",
    "Net_1.create_master_dataset()\n",
    "\n",
    "# Check if the Network has a masterDataSet Table ( 1: Table exists ; 0: Table doesn't exist)\n",
    "Net_1.mtable_exists"
   ]
  },
  {
   "cell_type": "markdown",
   "metadata": {},
   "source": [
    "#### 1.3. Federeated Learning setup Creation (FlSetup creation)"
   ]
  },
  {
   "cell_type": "code",
   "execution_count": 6,
   "metadata": {},
   "outputs": [
    {
     "data": {
      "text/html": [
       "<div>\n",
       "<style scoped>\n",
       "    .dataframe tbody tr th:only-of-type {\n",
       "        vertical-align: middle;\n",
       "    }\n",
       "\n",
       "    .dataframe tbody tr th {\n",
       "        vertical-align: top;\n",
       "    }\n",
       "\n",
       "    .dataframe thead th {\n",
       "        text-align: right;\n",
       "    }\n",
       "</style>\n",
       "<table border=\"1\" class=\"dataframe\">\n",
       "  <thead>\n",
       "    <tr style=\"text-align: right;\">\n",
       "      <th></th>\n",
       "      <th>FLsetupId</th>\n",
       "      <th>name</th>\n",
       "      <th>description</th>\n",
       "      <th>creation_date</th>\n",
       "      <th>NetId</th>\n",
       "      <th>column_name</th>\n",
       "    </tr>\n",
       "  </thead>\n",
       "  <tbody>\n",
       "    <tr>\n",
       "      <th>0</th>\n",
       "      <td>1</td>\n",
       "      <td>Flsetup_1</td>\n",
       "      <td>The first fl setup</td>\n",
       "      <td>2024-02-10 18:38:09</td>\n",
       "      <td>1</td>\n",
       "      <td>None</td>\n",
       "    </tr>\n",
       "  </tbody>\n",
       "</table>\n",
       "</div>"
      ],
      "text/plain": [
       "   FLsetupId       name         description       creation_date  NetId  \\\n",
       "0          1  Flsetup_1  The first fl setup 2024-02-10 18:38:09      1   \n",
       "\n",
       "  column_name  \n",
       "0        None  "
      ]
     },
     "execution_count": 6,
     "metadata": {},
     "output_type": "execute_result"
    }
   ],
   "source": [
    "# auto FLsetup creation\n",
    "autoFl  = FLsetup(name = \"Flsetup_1\", description = \"The first fl setup\",network = Net_1)\n",
    "autoFl.create()\n",
    "\n",
    "# List all setups \n",
    "FLsetup.list_allsetups()"
   ]
  },
  {
   "cell_type": "markdown",
   "metadata": {},
   "source": [
    "#### 1.4. Nodes Creation:\n"
   ]
  },
  {
   "cell_type": "code",
   "execution_count": 7,
   "metadata": {},
   "outputs": [
    {
     "data": {
      "text/plain": [
       "['Midwest', 'South', 'West', 'Northeast']"
      ]
     },
     "execution_count": 7,
     "metadata": {},
     "output_type": "execute_result"
    }
   ],
   "source": [
    "params_dict = {'column_name' : 'site_region','train_nodes' : [\"Midwest\",\"South\"] , 'test_nodes' : ['West','Northeast'] }\n",
    "\n",
    "eicu_nodes = autoFl.create_nodes_from_master_dataset(params_dict = params_dict )\n",
    "\n",
    "[node.name  for node in eicu_nodes]  "
   ]
  },
  {
   "cell_type": "markdown",
   "metadata": {},
   "source": [
    "#### 1.5. Creating a Federated Dataset\n"
   ]
  },
  {
   "cell_type": "code",
   "execution_count": 8,
   "metadata": {},
   "outputs": [],
   "source": [
    "# Create a Federated DataSet for the autoFL\n",
    "fl_dataset = autoFl.create_federated_dataset(\n",
    "    output=\"event_death\", \n",
    "    fit_encode=[\"site_hospital\", \"site_region\"], \n",
    "    to_drop=[ \"event_death\" , \"id\"], \n",
    " )"
   ]
  },
  {
   "cell_type": "code",
   "execution_count": 9,
   "metadata": {},
   "outputs": [
    {
     "data": {
      "text/plain": [
       "17"
      ]
     },
     "execution_count": 9,
     "metadata": {},
     "output_type": "execute_result"
    }
   ],
   "source": [
    "fl_dataset.size"
   ]
  },
  {
   "cell_type": "code",
   "execution_count": 10,
   "metadata": {},
   "outputs": [
    {
     "data": {
      "text/html": [
       "<div>\n",
       "<style scoped>\n",
       "    .dataframe tbody tr th:only-of-type {\n",
       "        vertical-align: middle;\n",
       "    }\n",
       "\n",
       "    .dataframe tbody tr th {\n",
       "        vertical-align: top;\n",
       "    }\n",
       "\n",
       "    .dataframe thead th {\n",
       "        text-align: right;\n",
       "    }\n",
       "</style>\n",
       "<table border=\"1\" class=\"dataframe\">\n",
       "  <thead>\n",
       "    <tr style=\"text-align: right;\">\n",
       "      <th></th>\n",
       "      <th>FedId</th>\n",
       "      <th>FLsetupId</th>\n",
       "      <th>FLpipeId</th>\n",
       "      <th>name</th>\n",
       "    </tr>\n",
       "  </thead>\n",
       "  <tbody>\n",
       "    <tr>\n",
       "      <th>0</th>\n",
       "      <td>1</td>\n",
       "      <td>1</td>\n",
       "      <td>None</td>\n",
       "      <td>Flsetup_1_Feddataset</td>\n",
       "    </tr>\n",
       "  </tbody>\n",
       "</table>\n",
       "</div>"
      ],
      "text/plain": [
       "   FedId  FLsetupId FLpipeId                  name\n",
       "0      1          1     None  Flsetup_1_Feddataset"
      ]
     },
     "execution_count": 10,
     "metadata": {},
     "output_type": "execute_result"
    }
   ],
   "source": [
    "# Get the Federated DataSet of the auto FL \n",
    "data = autoFl.get_flDataSet() \n",
    "data "
   ]
  },
  {
   "cell_type": "code",
   "execution_count": 11,
   "metadata": {},
   "outputs": [
    {
     "data": {
      "text/html": [
       "<div>\n",
       "<style scoped>\n",
       "    .dataframe tbody tr th:only-of-type {\n",
       "        vertical-align: middle;\n",
       "    }\n",
       "\n",
       "    .dataframe tbody tr th {\n",
       "        vertical-align: top;\n",
       "    }\n",
       "\n",
       "    .dataframe thead th {\n",
       "        text-align: right;\n",
       "    }\n",
       "</style>\n",
       "<table border=\"1\" class=\"dataframe\">\n",
       "  <thead>\n",
       "    <tr style=\"text-align: right;\">\n",
       "      <th></th>\n",
       "      <th>NodeId</th>\n",
       "      <th>NodeName</th>\n",
       "      <th>train</th>\n",
       "      <th>NetId</th>\n",
       "    </tr>\n",
       "  </thead>\n",
       "  <tbody>\n",
       "    <tr>\n",
       "      <th>0</th>\n",
       "      <td>1</td>\n",
       "      <td>Midwest</td>\n",
       "      <td>1</td>\n",
       "      <td>1</td>\n",
       "    </tr>\n",
       "    <tr>\n",
       "      <th>1</th>\n",
       "      <td>2</td>\n",
       "      <td>South</td>\n",
       "      <td>1</td>\n",
       "      <td>1</td>\n",
       "    </tr>\n",
       "    <tr>\n",
       "      <th>2</th>\n",
       "      <td>3</td>\n",
       "      <td>West</td>\n",
       "      <td>0</td>\n",
       "      <td>1</td>\n",
       "    </tr>\n",
       "    <tr>\n",
       "      <th>3</th>\n",
       "      <td>4</td>\n",
       "      <td>Northeast</td>\n",
       "      <td>0</td>\n",
       "      <td>1</td>\n",
       "    </tr>\n",
       "  </tbody>\n",
       "</table>\n",
       "</div>"
      ],
      "text/plain": [
       "   NodeId   NodeName  train  NetId\n",
       "0       1    Midwest      1      1\n",
       "1       2      South      1      1\n",
       "2       3       West      0      1\n",
       "3       4  Northeast      0      1"
      ]
     },
     "execution_count": 11,
     "metadata": {},
     "output_type": "execute_result"
    }
   ],
   "source": [
    "# List all created nodes on the db \n",
    "Node.list_allnodes()"
   ]
  },
  {
   "cell_type": "markdown",
   "metadata": {},
   "source": [
    "### 2. Learning manager"
   ]
  },
  {
   "cell_type": "markdown",
   "metadata": {},
   "source": [
    "#### 2.1. Modal inialization\n",
    "In this tutorial, we will use the dynamic model class to create a custom model. MEDfl enables users to create models from scratch or even use pre-trained models. For more details about the available options, please refer to Tutorial 4: Learning Manager.\n",
    "Note that there is also a tutorial available for more detailed information about creating a dynamic model using MEDfl and the various parameters required for each model. "
   ]
  },
  {
   "cell_type": "code",
   "execution_count": 12,
   "metadata": {},
   "outputs": [
    {
     "data": {
      "text/plain": [
       "[array([[ 0.24036112, -0.06187619, -0.10428822,  0.13734078,  0.02280357,\n",
       "          0.06947914,  0.23593602, -0.15241094,  0.18512881, -0.19714823,\n",
       "         -0.15537032,  0.06097946, -0.11022836, -0.22459267, -0.01060788,\n",
       "         -0.18641677, -0.21690527]], dtype=float32),\n",
       " array([-0.1005172], dtype=float32)]"
      ]
     },
     "execution_count": 12,
     "metadata": {},
     "output_type": "execute_result"
    }
   ],
   "source": [
    "# Creating a DynamicModel instance\n",
    "dynamic_model = DynamicModel()\n",
    "\n",
    "# Creating a specific model dynamically using DynamicModel\n",
    "specific_model = dynamic_model.create_model(model_type='Logistic Regressor', params_dict={\"input_dim\": 17, \"output_dim\": 1})\n",
    "\n",
    "# Pass the specific_model to the Model class\n",
    "optimizer = optim.SGD(specific_model.parameters(), lr=0.0001)\n",
    "criterion = nn.BCELoss()\n",
    "\n",
    "\n",
    "# Creating a new Model instance using the specific model created by DynamicModel\n",
    "global_model = Model(specific_model, optimizer, criterion)\n",
    "\n",
    "# The modal to be passed to the server\n",
    "global_model.get_parameters()"
   ]
  },
  {
   "cell_type": "markdown",
   "metadata": {},
   "source": [
    "#### 2.2 Define the Aggregation Algorithms (**Aggregation Strategy**)\n",
    "\n",
    "in this tuto we will use the FedAvg algorithm for the aggregation strategy \n"
   ]
  },
  {
   "cell_type": "code",
   "execution_count": 13,
   "metadata": {},
   "outputs": [],
   "source": [
    "# Create the strategy\n",
    "fed_avg = Strategy(\"FedAvg\", \n",
    "                   fraction_fit = 1.0 ,\n",
    "                   fraction_evaluate = 1.0,\n",
    "                   min_fit_clients = 2,\n",
    "                   min_evaluate_clients = 2,\n",
    "                   min_available_clients = 2 , \n",
    "                   initial_parameters=global_model.get_parameters())"
   ]
  },
  {
   "cell_type": "markdown",
   "metadata": {},
   "source": [
    "####  2.3 Federated Learning Server\n"
   ]
  },
  {
   "cell_type": "code",
   "execution_count": 14,
   "metadata": {},
   "outputs": [],
   "source": [
    "# Create The server \n",
    "server = FlowerServer(global_model, strategy = fed_avg, num_rounds = 10,\n",
    "                       num_clients  = len(fl_dataset.trainloaders), \n",
    "                       fed_dataset = fl_dataset,diff_privacy = False ,\n",
    "                       # You can change the resources alocated for each client based on your machine \n",
    "                       client_resources={'num_cpus': 1.0, 'num_gpus': 0.0}\n",
    "                       )"
   ]
  },
  {
   "cell_type": "markdown",
   "metadata": {},
   "source": [
    "#### 2.4. FL Pipeline Creation\n"
   ]
  },
  {
   "cell_type": "code",
   "execution_count": 15,
   "metadata": {},
   "outputs": [],
   "source": [
    "# Create the pipeline \n",
    "ppl_1 = FLpipeline( name =\"the first fl_pipeline\",description = \"this is our first FL pipeline\",\n",
    "                   server = server)"
   ]
  },
  {
   "cell_type": "code",
   "execution_count": 16,
   "metadata": {},
   "outputs": [
    {
     "name": "stderr",
     "output_type": "stream",
     "text": [
      "INFO flwr 2024-02-10 18:40:30,950 | app.py:178 | Starting Flower simulation, config: ServerConfig(num_rounds=10, round_timeout=None)\n",
      "02/10/2024 18:40:30:INFO:Starting Flower simulation, config: ServerConfig(num_rounds=10, round_timeout=None)\n",
      "2024-02-10 18:40:35,973\tINFO worker.py:1621 -- Started a local Ray instance.\n",
      "INFO flwr 2024-02-10 18:40:40,434 | app.py:213 | Flower VCE: Ray initialized with resources: {'node:__internal_head__': 1.0, 'node:127.0.0.1': 1.0, 'object_store_memory': 78643200.0, 'memory': 1346913485.0, 'CPU': 8.0}\n",
      "02/10/2024 18:40:40:INFO:Flower VCE: Ray initialized with resources: {'node:__internal_head__': 1.0, 'node:127.0.0.1': 1.0, 'object_store_memory': 78643200.0, 'memory': 1346913485.0, 'CPU': 8.0}\n",
      "INFO flwr 2024-02-10 18:40:40,437 | app.py:219 | Optimize your simulation with Flower VCE: https://flower.dev/docs/framework/how-to-run-simulations.html\n",
      "02/10/2024 18:40:40:INFO:Optimize your simulation with Flower VCE: https://flower.dev/docs/framework/how-to-run-simulations.html\n",
      "INFO flwr 2024-02-10 18:40:40,440 | app.py:242 | Flower VCE: Resources for each Virtual Client: {'num_cpus': 1.0, 'num_gpus': 0.0}\n",
      "02/10/2024 18:40:40:INFO:Flower VCE: Resources for each Virtual Client: {'num_cpus': 1.0, 'num_gpus': 0.0}\n",
      "INFO flwr 2024-02-10 18:40:40,463 | app.py:288 | Flower VCE: Creating VirtualClientEngineActorPool with 8 actors\n",
      "02/10/2024 18:40:40:INFO:Flower VCE: Creating VirtualClientEngineActorPool with 8 actors\n",
      "INFO flwr 2024-02-10 18:40:40,467 | server.py:89 | Initializing global parameters\n",
      "02/10/2024 18:40:40:INFO:Initializing global parameters\n",
      "INFO flwr 2024-02-10 18:40:40,471 | server.py:272 | Using initial parameters provided by strategy\n",
      "02/10/2024 18:40:40:INFO:Using initial parameters provided by strategy\n",
      "INFO flwr 2024-02-10 18:40:40,476 | server.py:91 | Evaluating initial parameters\n",
      "02/10/2024 18:40:40:INFO:Evaluating initial parameters\n",
      "INFO flwr 2024-02-10 18:40:40,511 | server.py:94 | initial parameters (loss, other metrics): 0.21158117055892944, {'accuracy': 0.375}\n",
      "02/10/2024 18:40:40:INFO:initial parameters (loss, other metrics): 0.21158117055892944, {'accuracy': 0.375}\n",
      "INFO flwr 2024-02-10 18:40:40,517 | server.py:104 | FL starting\n",
      "02/10/2024 18:40:40:INFO:FL starting\n",
      "DEBUG flwr 2024-02-10 18:40:40,522 | server.py:222 | fit_round 1: strategy sampled 2 clients (out of 2)\n",
      "02/10/2024 18:40:40:DEBUG:fit_round 1: strategy sampled 2 clients (out of 2)\n"
     ]
    },
    {
     "name": "stdout",
     "output_type": "stream",
     "text": [
      "Server-side evaluation loss 0.21158117055892944 / accuracy 0.375\n"
     ]
    },
    {
     "name": "stderr",
     "output_type": "stream",
     "text": [
      "\u001b[2m\u001b[36m(DefaultActor pid=15280)\u001b[0m d:\\ESI\\3CS\\PFE\\last_year\\Code\\MEDfl\\Medfl\\LearningManager\\utils.py:13: DeprecationWarning: \n",
      "\u001b[2m\u001b[36m(DefaultActor pid=15280)\u001b[0m Pyarrow will become a required dependency of pandas in the next major release of pandas (pandas 3.0),\n",
      "\u001b[2m\u001b[36m(DefaultActor pid=15280)\u001b[0m (to allow more performant data types, such as the Arrow string type, and better interoperability with other libraries)\n",
      "\u001b[2m\u001b[36m(DefaultActor pid=15280)\u001b[0m but was not found to be installed on your system.\n",
      "\u001b[2m\u001b[36m(DefaultActor pid=15280)\u001b[0m If this would cause problems for you,\n",
      "\u001b[2m\u001b[36m(DefaultActor pid=15280)\u001b[0m please provide us feedback at https://github.com/pandas-dev/pandas/issues/54466\n",
      "\u001b[2m\u001b[36m(DefaultActor pid=15280)\u001b[0m         \n",
      "\u001b[2m\u001b[36m(DefaultActor pid=15280)\u001b[0m   import pandas as pd\n",
      "DEBUG flwr 2024-02-10 18:40:48,841 | server.py:236 | fit_round 1 received 2 results and 0 failures\n",
      "02/10/2024 18:40:48:DEBUG:fit_round 1 received 2 results and 0 failures\n",
      "WARNING flwr 2024-02-10 18:40:48,844 | fedavg.py:250 | No fit_metrics_aggregation_fn provided\n",
      "02/10/2024 18:40:48:WARNING:No fit_metrics_aggregation_fn provided\n",
      "INFO flwr 2024-02-10 18:40:48,850 | server.py:125 | fit progress: (1, 0.19184929132461548, {'accuracy': 0.375}, 8.328775400000012)\n",
      "02/10/2024 18:40:48:INFO:fit progress: (1, 0.19184929132461548, {'accuracy': 0.375}, 8.328775400000012)\n",
      "DEBUG flwr 2024-02-10 18:40:48,851 | server.py:173 | evaluate_round 1: strategy sampled 2 clients (out of 2)\n",
      "02/10/2024 18:40:48:DEBUG:evaluate_round 1: strategy sampled 2 clients (out of 2)\n",
      "\u001b[2m\u001b[36m(DefaultActor pid=15280)\u001b[0m C:\\Users\\HP User\\AppData\\Roaming\\Python\\Python39\\site-packages\\opacus\\privacy_engine.py:142: UserWarning: Secure RNG turned off. This is perfectly fine for experimentation as it allows for much faster training performance, but remember to turn it on and retrain one last time before production with ``secure_mode`` turned on.\n",
      "\u001b[2m\u001b[36m(DefaultActor pid=15280)\u001b[0m   warnings.warn(\n",
      "\u001b[2m\u001b[36m(DefaultActor pid=15280)\u001b[0m C:\\Users\\HP User\\AppData\\Roaming\\Python\\Python39\\site-packages\\flwr\\simulation\\ray_transport\\ray_actor.py:72: DeprecationWarning:  Ensure your client is of type `flwr.client.Client`. Please convert it using the `.to_client()` method before returning it in the `client_fn` you pass to `start_simulation`. We have applied this conversion on your behalf. Not returning a `Client` might trigger an error in future versions of Flower.\n",
      "\u001b[2m\u001b[36m(DefaultActor pid=15280)\u001b[0m   client = check_clientfn_returns_client(client_fn(cid))\n",
      "DEBUG flwr 2024-02-10 18:40:48,894 | server.py:187 | evaluate_round 1 received 2 results and 0 failures\n",
      "02/10/2024 18:40:48:DEBUG:evaluate_round 1 received 2 results and 0 failures\n",
      "WARNING flwr 2024-02-10 18:40:48,898 | fedavg.py:281 | No evaluate_metrics_aggregation_fn provided\n",
      "02/10/2024 18:40:48:WARNING:No evaluate_metrics_aggregation_fn provided\n",
      "DEBUG flwr 2024-02-10 18:40:48,906 | server.py:222 | fit_round 2: strategy sampled 2 clients (out of 2)\n",
      "02/10/2024 18:40:48:DEBUG:fit_round 2: strategy sampled 2 clients (out of 2)\n",
      "DEBUG flwr 2024-02-10 18:40:49,028 | server.py:236 | fit_round 2 received 2 results and 0 failures\n",
      "02/10/2024 18:40:49:DEBUG:fit_round 2 received 2 results and 0 failures\n"
     ]
    },
    {
     "name": "stdout",
     "output_type": "stream",
     "text": [
      "Server-side evaluation loss 0.19184929132461548 / accuracy 0.375\n",
      "\u001b[2m\u001b[36m(DefaultActor pid=15280)\u001b[0m [Client 1] fit, config: {}\n",
      "\u001b[2m\u001b[36m(DefaultActor pid=15280)\u001b[0m epsilon of client 1 : eps = 0\n",
      "\u001b[2m\u001b[36m(DefaultActor pid=15280)\u001b[0m [Client 1] evaluate, config: {}\n"
     ]
    },
    {
     "name": "stderr",
     "output_type": "stream",
     "text": [
      "INFO flwr 2024-02-10 18:40:49,048 | server.py:125 | fit progress: (2, 0.1759377121925354, {'accuracy': 0.375}, 8.527061199999991)\n",
      "02/10/2024 18:40:49:INFO:fit progress: (2, 0.1759377121925354, {'accuracy': 0.375}, 8.527061199999991)\n",
      "DEBUG flwr 2024-02-10 18:40:49,051 | server.py:173 | evaluate_round 2: strategy sampled 2 clients (out of 2)\n",
      "02/10/2024 18:40:49:DEBUG:evaluate_round 2: strategy sampled 2 clients (out of 2)\n",
      "DEBUG flwr 2024-02-10 18:40:49,109 | server.py:187 | evaluate_round 2 received 2 results and 0 failures\n",
      "02/10/2024 18:40:49:DEBUG:evaluate_round 2 received 2 results and 0 failures\n",
      "DEBUG flwr 2024-02-10 18:40:49,117 | server.py:222 | fit_round 3: strategy sampled 2 clients (out of 2)\n",
      "02/10/2024 18:40:49:DEBUG:fit_round 3: strategy sampled 2 clients (out of 2)\n",
      "DEBUG flwr 2024-02-10 18:40:49,226 | server.py:236 | fit_round 3 received 2 results and 0 failures\n"
     ]
    },
    {
     "name": "stdout",
     "output_type": "stream",
     "text": [
      "Server-side evaluation loss 0.1759377121925354 / accuracy 0.375\n"
     ]
    },
    {
     "name": "stderr",
     "output_type": "stream",
     "text": [
      "02/10/2024 18:40:49:DEBUG:fit_round 3 received 2 results and 0 failures\n",
      "INFO flwr 2024-02-10 18:40:49,244 | server.py:125 | fit progress: (3, 0.1635388880968094, {'accuracy': 0.375}, 8.72275350000001)\n",
      "02/10/2024 18:40:49:INFO:fit progress: (3, 0.1635388880968094, {'accuracy': 0.375}, 8.72275350000001)\n",
      "DEBUG flwr 2024-02-10 18:40:49,250 | server.py:173 | evaluate_round 3: strategy sampled 2 clients (out of 2)\n",
      "02/10/2024 18:40:49:DEBUG:evaluate_round 3: strategy sampled 2 clients (out of 2)\n",
      "DEBUG flwr 2024-02-10 18:40:49,307 | server.py:187 | evaluate_round 3 received 2 results and 0 failures\n",
      "02/10/2024 18:40:49:DEBUG:evaluate_round 3 received 2 results and 0 failures\n",
      "DEBUG flwr 2024-02-10 18:40:49,311 | server.py:222 | fit_round 4: strategy sampled 2 clients (out of 2)\n",
      "02/10/2024 18:40:49:DEBUG:fit_round 4: strategy sampled 2 clients (out of 2)\n",
      "DEBUG flwr 2024-02-10 18:40:49,419 | server.py:236 | fit_round 4 received 2 results and 0 failures\n",
      "02/10/2024 18:40:49:DEBUG:fit_round 4 received 2 results and 0 failures\n",
      "INFO flwr 2024-02-10 18:40:49,427 | server.py:125 | fit progress: (4, 0.15425345301628113, {'accuracy': 0.375}, 8.905809599999998)\n"
     ]
    },
    {
     "name": "stdout",
     "output_type": "stream",
     "text": [
      "Server-side evaluation loss 0.1635388880968094 / accuracy 0.375\n",
      "Server-side evaluation loss 0.15425345301628113 / accuracy 0.375\n"
     ]
    },
    {
     "name": "stderr",
     "output_type": "stream",
     "text": [
      "02/10/2024 18:40:49:INFO:fit progress: (4, 0.15425345301628113, {'accuracy': 0.375}, 8.905809599999998)\n",
      "DEBUG flwr 2024-02-10 18:40:49,434 | server.py:173 | evaluate_round 4: strategy sampled 2 clients (out of 2)\n",
      "02/10/2024 18:40:49:DEBUG:evaluate_round 4: strategy sampled 2 clients (out of 2)\n",
      "DEBUG flwr 2024-02-10 18:40:49,488 | server.py:187 | evaluate_round 4 received 2 results and 0 failures\n",
      "02/10/2024 18:40:49:DEBUG:evaluate_round 4 received 2 results and 0 failures\n",
      "DEBUG flwr 2024-02-10 18:40:49,495 | server.py:222 | fit_round 5: strategy sampled 2 clients (out of 2)\n",
      "02/10/2024 18:40:49:DEBUG:fit_round 5: strategy sampled 2 clients (out of 2)\n",
      "DEBUG flwr 2024-02-10 18:40:49,608 | server.py:236 | fit_round 5 received 2 results and 0 failures\n",
      "02/10/2024 18:40:49:DEBUG:fit_round 5 received 2 results and 0 failures\n",
      "INFO flwr 2024-02-10 18:40:49,619 | server.py:125 | fit progress: (5, 0.14760272204875946, {'accuracy': 0.375}, 9.097231499999992)\n",
      "02/10/2024 18:40:49:INFO:fit progress: (5, 0.14760272204875946, {'accuracy': 0.375}, 9.097231499999992)\n",
      "DEBUG flwr 2024-02-10 18:40:49,621 | server.py:173 | evaluate_round 5: strategy sampled 2 clients (out of 2)\n",
      "02/10/2024 18:40:49:DEBUG:evaluate_round 5: strategy sampled 2 clients (out of 2)\n",
      "DEBUG flwr 2024-02-10 18:40:49,665 | server.py:187 | evaluate_round 5 received 2 results and 0 failures\n",
      "02/10/2024 18:40:49:DEBUG:evaluate_round 5 received 2 results and 0 failures\n",
      "DEBUG flwr 2024-02-10 18:40:49,673 | server.py:222 | fit_round 6: strategy sampled 2 clients (out of 2)\n",
      "02/10/2024 18:40:49:DEBUG:fit_round 6: strategy sampled 2 clients (out of 2)\n",
      "DEBUG flwr 2024-02-10 18:40:49,775 | server.py:236 | fit_round 6 received 2 results and 0 failures\n",
      "02/10/2024 18:40:49:DEBUG:fit_round 6 received 2 results and 0 failures\n",
      "INFO flwr 2024-02-10 18:40:49,785 | server.py:125 | fit progress: (6, 0.14307555556297302, {'accuracy': 0.375}, 9.26381520000001)\n",
      "02/10/2024 18:40:49:INFO:fit progress: (6, 0.14307555556297302, {'accuracy': 0.375}, 9.26381520000001)\n",
      "DEBUG flwr 2024-02-10 18:40:49,788 | server.py:173 | evaluate_round 6: strategy sampled 2 clients (out of 2)\n",
      "02/10/2024 18:40:49:DEBUG:evaluate_round 6: strategy sampled 2 clients (out of 2)\n"
     ]
    },
    {
     "name": "stdout",
     "output_type": "stream",
     "text": [
      "Server-side evaluation loss 0.14760272204875946 / accuracy 0.375\n",
      "Server-side evaluation loss 0.14307555556297302 / accuracy 0.375\n"
     ]
    },
    {
     "name": "stderr",
     "output_type": "stream",
     "text": [
      "DEBUG flwr 2024-02-10 18:40:49,831 | server.py:187 | evaluate_round 6 received 2 results and 0 failures\n",
      "02/10/2024 18:40:49:DEBUG:evaluate_round 6 received 2 results and 0 failures\n",
      "DEBUG flwr 2024-02-10 18:40:49,842 | server.py:222 | fit_round 7: strategy sampled 2 clients (out of 2)\n",
      "02/10/2024 18:40:49:DEBUG:fit_round 7: strategy sampled 2 clients (out of 2)\n",
      "DEBUG flwr 2024-02-10 18:40:49,940 | server.py:236 | fit_round 7 received 2 results and 0 failures\n",
      "02/10/2024 18:40:49:DEBUG:fit_round 7 received 2 results and 0 failures\n",
      "INFO flwr 2024-02-10 18:40:49,949 | server.py:125 | fit progress: (7, 0.14018292725086212, {'accuracy': 0.375}, 9.427528600000016)\n",
      "02/10/2024 18:40:49:INFO:fit progress: (7, 0.14018292725086212, {'accuracy': 0.375}, 9.427528600000016)\n",
      "DEBUG flwr 2024-02-10 18:40:49,951 | server.py:173 | evaluate_round 7: strategy sampled 2 clients (out of 2)\n",
      "02/10/2024 18:40:49:DEBUG:evaluate_round 7: strategy sampled 2 clients (out of 2)\n",
      "DEBUG flwr 2024-02-10 18:40:49,993 | server.py:187 | evaluate_round 7 received 2 results and 0 failures\n",
      "02/10/2024 18:40:49:DEBUG:evaluate_round 7 received 2 results and 0 failures\n",
      "DEBUG flwr 2024-02-10 18:40:49,998 | server.py:222 | fit_round 8: strategy sampled 2 clients (out of 2)\n",
      "02/10/2024 18:40:49:DEBUG:fit_round 8: strategy sampled 2 clients (out of 2)\n",
      "DEBUG flwr 2024-02-10 18:40:50,066 | server.py:236 | fit_round 8 received 2 results and 0 failures\n",
      "02/10/2024 18:40:50:DEBUG:fit_round 8 received 2 results and 0 failures\n",
      "INFO flwr 2024-02-10 18:40:50,077 | server.py:125 | fit progress: (8, 0.13849800825119019, {'accuracy': 0.375}, 9.555396800000011)\n",
      "02/10/2024 18:40:50:INFO:fit progress: (8, 0.13849800825119019, {'accuracy': 0.375}, 9.555396800000011)\n",
      "DEBUG flwr 2024-02-10 18:40:50,083 | server.py:173 | evaluate_round 8: strategy sampled 2 clients (out of 2)\n",
      "02/10/2024 18:40:50:DEBUG:evaluate_round 8: strategy sampled 2 clients (out of 2)\n",
      "DEBUG flwr 2024-02-10 18:40:50,121 | server.py:187 | evaluate_round 8 received 2 results and 0 failures\n",
      "02/10/2024 18:40:50:DEBUG:evaluate_round 8 received 2 results and 0 failures\n",
      "DEBUG flwr 2024-02-10 18:40:50,124 | server.py:222 | fit_round 9: strategy sampled 2 clients (out of 2)\n",
      "02/10/2024 18:40:50:DEBUG:fit_round 9: strategy sampled 2 clients (out of 2)\n"
     ]
    },
    {
     "name": "stdout",
     "output_type": "stream",
     "text": [
      "Server-side evaluation loss 0.14018292725086212 / accuracy 0.375\n",
      "Server-side evaluation loss 0.13849800825119019 / accuracy 0.375\n"
     ]
    },
    {
     "name": "stderr",
     "output_type": "stream",
     "text": [
      "DEBUG flwr 2024-02-10 18:40:50,217 | server.py:236 | fit_round 9 received 2 results and 0 failures\n",
      "02/10/2024 18:40:50:DEBUG:fit_round 9 received 2 results and 0 failures\n",
      "INFO flwr 2024-02-10 18:40:50,224 | server.py:125 | fit progress: (9, 0.13767388463020325, {'accuracy': 0.375}, 9.70275620000001)\n",
      "02/10/2024 18:40:50:INFO:fit progress: (9, 0.13767388463020325, {'accuracy': 0.375}, 9.70275620000001)\n",
      "DEBUG flwr 2024-02-10 18:40:50,226 | server.py:173 | evaluate_round 9: strategy sampled 2 clients (out of 2)\n",
      "02/10/2024 18:40:50:DEBUG:evaluate_round 9: strategy sampled 2 clients (out of 2)\n",
      "DEBUG flwr 2024-02-10 18:40:50,319 | server.py:187 | evaluate_round 9 received 2 results and 0 failures\n",
      "02/10/2024 18:40:50:DEBUG:evaluate_round 9 received 2 results and 0 failures\n",
      "DEBUG flwr 2024-02-10 18:40:50,322 | server.py:222 | fit_round 10: strategy sampled 2 clients (out of 2)\n",
      "02/10/2024 18:40:50:DEBUG:fit_round 10: strategy sampled 2 clients (out of 2)\n",
      "DEBUG flwr 2024-02-10 18:40:50,393 | server.py:236 | fit_round 10 received 2 results and 0 failures\n",
      "02/10/2024 18:40:50:DEBUG:fit_round 10 received 2 results and 0 failures\n",
      "INFO flwr 2024-02-10 18:40:50,406 | server.py:125 | fit progress: (10, 0.13744314014911652, {'accuracy': 0.625}, 9.884937199999996)\n",
      "02/10/2024 18:40:50:INFO:fit progress: (10, 0.13744314014911652, {'accuracy': 0.625}, 9.884937199999996)\n",
      "DEBUG flwr 2024-02-10 18:40:50,408 | server.py:173 | evaluate_round 10: strategy sampled 2 clients (out of 2)\n",
      "02/10/2024 18:40:50:DEBUG:evaluate_round 10: strategy sampled 2 clients (out of 2)\n"
     ]
    },
    {
     "name": "stdout",
     "output_type": "stream",
     "text": [
      "Server-side evaluation loss 0.13767388463020325 / accuracy 0.375\n",
      "Server-side evaluation loss 0.13744314014911652 / accuracy 0.625\n"
     ]
    },
    {
     "name": "stderr",
     "output_type": "stream",
     "text": [
      "DEBUG flwr 2024-02-10 18:40:50,447 | server.py:187 | evaluate_round 10 received 2 results and 0 failures\n",
      "02/10/2024 18:40:50:DEBUG:evaluate_round 10 received 2 results and 0 failures\n",
      "INFO flwr 2024-02-10 18:40:50,450 | server.py:153 | FL finished in 9.928412699999996\n",
      "02/10/2024 18:40:50:INFO:FL finished in 9.928412699999996\n",
      "INFO flwr 2024-02-10 18:40:50,452 | app.py:226 | app_fit: losses_distributed [(1, 0.1592227014211508), (2, 0.14563817932055545), (3, 0.13540855795145035), (4, 0.12811658817988175), (5, 0.12320059480575415), (6, 0.12007939242399657), (7, 0.11824574894629991), (8, 0.11730094368641193), (9, 0.11695035718954527), (10, 0.11698419829973808)]\n",
      "02/10/2024 18:40:50:INFO:app_fit: losses_distributed [(1, 0.1592227014211508), (2, 0.14563817932055545), (3, 0.13540855795145035), (4, 0.12811658817988175), (5, 0.12320059480575415), (6, 0.12007939242399657), (7, 0.11824574894629991), (8, 0.11730094368641193), (9, 0.11695035718954527), (10, 0.11698419829973808)]\n",
      "INFO flwr 2024-02-10 18:40:50,454 | app.py:227 | app_fit: metrics_distributed_fit {}\n",
      "02/10/2024 18:40:50:INFO:app_fit: metrics_distributed_fit {}\n",
      "INFO flwr 2024-02-10 18:40:50,456 | app.py:228 | app_fit: metrics_distributed {}\n",
      "02/10/2024 18:40:50:INFO:app_fit: metrics_distributed {}\n",
      "INFO flwr 2024-02-10 18:40:50,459 | app.py:229 | app_fit: losses_centralized [(0, 0.21158117055892944), (1, 0.19184929132461548), (2, 0.1759377121925354), (3, 0.1635388880968094), (4, 0.15425345301628113), (5, 0.14760272204875946), (6, 0.14307555556297302), (7, 0.14018292725086212), (8, 0.13849800825119019), (9, 0.13767388463020325), (10, 0.13744314014911652)]\n",
      "02/10/2024 18:40:50:INFO:app_fit: losses_centralized [(0, 0.21158117055892944), (1, 0.19184929132461548), (2, 0.1759377121925354), (3, 0.1635388880968094), (4, 0.15425345301628113), (5, 0.14760272204875946), (6, 0.14307555556297302), (7, 0.14018292725086212), (8, 0.13849800825119019), (9, 0.13767388463020325), (10, 0.13744314014911652)]\n",
      "INFO flwr 2024-02-10 18:40:50,476 | app.py:230 | app_fit: metrics_centralized {'accuracy': [(0, 0.375), (1, 0.375), (2, 0.375), (3, 0.375), (4, 0.375), (5, 0.375), (6, 0.375), (7, 0.375), (8, 0.375), (9, 0.375), (10, 0.625)]}\n",
      "02/10/2024 18:40:50:INFO:app_fit: metrics_centralized {'accuracy': [(0, 0.375), (1, 0.375), (2, 0.375), (3, 0.375), (4, 0.375), (5, 0.375), (6, 0.375), (7, 0.375), (8, 0.375), (9, 0.375), (10, 0.625)]}\n"
     ]
    }
   ],
   "source": [
    "# Run the Traning of the model\n",
    "history = ppl_1.server.run()"
   ]
  },
  {
   "cell_type": "code",
   "execution_count": 17,
   "metadata": {},
   "outputs": [
    {
     "data": {
      "image/png": "[encoded data removed]",
      "text/plain": [
       "<Figure size 800x600 with 1 Axes>"
      ]
     },
     "metadata": {},
     "output_type": "display_data"
    }
   ],
   "source": [
    "# Make some plots \n",
    "global_accuracy,global_loss = ppl_1.server.accuracies,ppl_1.server.losses\n",
    "results_dict = {\n",
    "    ('LR: 0.001, Optimizer: SGD', 'accuracy'): global_accuracy,\n",
    "    ('LR: 0.001, Optimizer: SGD', 'loss'): global_loss\n",
    "}\n",
    "plotter = AccuracyLossPlotter(results_dict)\n",
    "\n",
    "plotter.plot_accuracy_loss()"
   ]
  },
  {
   "cell_type": "code",
   "execution_count": 18,
   "metadata": {},
   "outputs": [
    {
     "data": {
      "text/plain": [
       "[{'node_name': 'Midwest',\n",
       "  'classification_report': \"{'confusion matrix': {'TP': 0, 'FP': 4, 'FN': 4, 'TN': 10}, 'Accuracy': 0.556, 'Sensitivity/Recall': 0.0, 'Specificity': 0.714, 'PPV/Precision': 0.0, 'NPV': 0.714, 'F1-score': 0.0, 'False positive rate': 0.286, 'True positive rate': 0.0}\"},\n",
       " {'node_name': 'South',\n",
       "  'classification_report': \"{'confusion matrix': {'TP': 0, 'FP': 9, 'FN': 3, 'TN': 20}, 'Accuracy': 0.625, 'Sensitivity/Recall': 0.0, 'Specificity': 0.69, 'PPV/Precision': 0.0, 'NPV': 0.87, 'F1-score': 0.0, 'False positive rate': 0.31, 'True positive rate': 0.0}\"},\n",
       " {'node_name': 'West',\n",
       "  'classification_report': \"{'confusion matrix': {'TP': 0, 'FP': 6, 'FN': 21, 'TN': 66}, 'Accuracy': 0.71, 'Sensitivity/Recall': 0.0, 'Specificity': 0.917, 'PPV/Precision': 0.0, 'NPV': 0.759, 'F1-score': 0.0, 'False positive rate': 0.083, 'True positive rate': 0.0}\"},\n",
       " {'node_name': 'Northeast',\n",
       "  'classification_report': \"{'confusion matrix': {'TP': 0, 'FP': 3, 'FN': 12, 'TN': 31}, 'Accuracy': 0.674, 'Sensitivity/Recall': 0.0, 'Specificity': 0.912, 'PPV/Precision': 0.0, 'NPV': 0.721, 'F1-score': 0.0, 'False positive rate': 0.088, 'True positive rate': 0.0}\"}]"
      ]
     },
     "execution_count": 18,
     "metadata": {},
     "output_type": "execute_result"
    }
   ],
   "source": [
    "# Test the Modal on the Test nodes and store the results on the DB\n",
    "ppl_1.auto_test()"
   ]
  }
 ],
 "metadata": {
  "kernelspec": {
   "display_name": "Python 3",
   "language": "python",
   "name": "python3"
  },
  "language_info": {
   "codemirror_mode": {
    "name": "ipython",
    "version": 3
   },
   "file_extension": ".py",
   "mimetype": "text/x-python",
   "name": "python",
   "nbconvert_exporter": "python",
   "pygments_lexer": "ipython3",
   "version": "3.9.4"
  },
  "orig_nbformat": 4
 },
 "nbformat": 4,
 "nbformat_minor": 2
}
