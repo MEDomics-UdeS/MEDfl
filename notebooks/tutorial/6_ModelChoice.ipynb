{
 "cells": [
  {
   "cell_type": "markdown",
   "metadata": {},
   "source": [
    "## **DynamicModel**: A Versatile Neural Network Creation in MEDfl\n",
    "\n",
    "The **DynamicModel** class in the `MEDfl` package enables dynamic creation of diverse neural network architectures. By allowing users to specify key parameters `params_dict` like input dimensions, hidden layer sizes, and output dimensions ...\n",
    "\n",
    "the class provides adaptability to various machine learning tasks:\n",
    "|N| Machine Learning Task | Parameters |\n",
    "|--| ----------------------|------------|\n",
    "|1| **Binary Classification** | params = {<br>`input_dim`: 30,<br>`hidden_dims`: [64, 32],<br>`    output_dim`: 1,<br>` activation`: 'relu'<br>`    dropout_rate`: 0.2,<br>`    batch_norm`: True,<br>` use_gpu`: False <br>} |\n",
    "|2| **Multiclass Classification** | params = {<br>`    input_dim`: 30,<br>`    hidden_dims`: [64, 32],<br>` output_dim`: 3,<br>`    activation`: 'relu',<br>` dropout_rate`: 0.2,<br>`    batch_norm`: True,<br>` use_gpu`: False <br>} |\n",
    "|3| **Linear Regression** | params = {<br>`    input_dim`: 30,<br>`    output_dim`: 1,<br>` use_gpu`: False <br>}|\n",
    "|4| **Logistic Regression** | params = {<br>`    input_dim`: 30,<br>` use_gpu`: False <br>} |\n",
    "|5| **Convolutional Neural Network (CNN)** | params = {<br>`    input_channels`: 3,<br>` output_channels`: 16,<br>`    kernel_size`: 3,<br>` use_gpu`: False <br>} |\n",
    "|6| **Recurrent Neural Network (RNN)** | params = {<br>`    input_size`: 10,<br>` hidden_size`: 32,<br>`    use_gpu`: False <br>}|\n",
    "|7| **LSTM Network**                   |params = {<br>` input_size`: 10,<br>`    hidden_size`: 32,<br>` use_gpu`: False <br>} |\n",
    "|8| **Autoencoder** | params = {<br>`    input_size`: 30,<br>` encoder_hidden_size`: 16,<br>`    use_gpu`: False <br>} |\n",
    "\n",
    "\n",
    " As an integral part of the **MEDfl** package, the **DynamicModel** class aligns with the package's goal of delivering accessible, efficient, and adaptable tools for medical-focused machine learning applications, enabling users to seamlessly generate and  models for diverse medical classification and regression tasks.\n"
   ]
  },
  {
   "cell_type": "code",
   "execution_count": 1,
   "metadata": {},
   "outputs": [
    {
     "name": "stdout",
     "output_type": "stream",
     "text": [
      "/bin/python3\n"
     ]
    }
   ],
   "source": [
    "from Medfl.LearningManager.utils import global_params\n",
    "\n",
    "import sys\n",
    "sys.path.append(global_params['base_url'])\n",
    "\n",
    "import os\n",
    "os.environ['PYTHONPATH'] = global_params['base_url']"
   ]
  },
  {
   "cell_type": "markdown",
   "metadata": {},
   "source": [
    "## Start Creating Dynamic models\n",
    "\n",
    "to create a dynamic model we use the methode `create_model()` of the class `DynamicModel`, the model requeres two parametre \n",
    "1. `model_type` (**str**) : to define the model type and it accepts this list of models \n",
    "  * 'Binary Classifier'\n",
    "  * 'Multiclass Classifier'\n",
    "  * 'Linear Regressor'\n",
    "  * 'Logistic Regressor'\n",
    "  * 'Convolutional Neural Network'\n",
    "  * 'Recurrent Neural Network'\n",
    "  * 'LSTM Network'\n",
    "  * 'Autoencoder'\n",
    "2. `params_dic` (**dict**): Dictionary containing parameters for model creation.\n",
    " : \n",
    "  \n"
   ]
  },
  {
   "cell_type": "markdown",
   "metadata": {},
   "source": [
    "Now, let's illustrate the process of creating a dynamic model with an example. In this instance, we will focus on the **Binary Classifier**. To generate a different type of model, simply modify the `model_type` parameter to your desired model and define the corresponding `params_dict` according to the specifications outlined in the table above."
   ]
  },
  {
   "cell_type": "markdown",
   "metadata": {},
   "source": [
    "## 1. Binary classifier"
   ]
  },
  {
   "cell_type": "markdown",
   "metadata": {},
   "source": [
    "We will use the Dynamic model class of MEDfl to create  a binary classifier "
   ]
  },
  {
   "cell_type": "markdown",
   "metadata": {},
   "source": [
    "Specify the model parameters"
   ]
  },
  {
   "cell_type": "code",
   "execution_count": 2,
   "metadata": {},
   "outputs": [],
   "source": [
    "# Example of using the DynamicModel to create a binary classifier\n",
    "params = {\n",
    "    'input_dim': 30,  # Adjust based on the number of features in your dataset\n",
    "    'hidden_dims': [64, 32],\n",
    "    'output_dim': 1,\n",
    "    'activation': 'relu',\n",
    "    'dropout_rate': 0.2,\n",
    "    'batch_norm': True,\n",
    "    'use_gpu': False\n",
    "}\n"
   ]
  },
  {
   "cell_type": "markdown",
   "metadata": {},
   "source": [
    "Create the Binary classifier Model "
   ]
  },
  {
   "cell_type": "code",
   "execution_count": 3,
   "metadata": {},
   "outputs": [],
   "source": [
    "from Medfl.LearningManager.dynamicModal import DynamicModel\n",
    "# Create an instance of the class binary classifier\n",
    "dynamic_model = DynamicModel() \n",
    "# Create the binary classifier\n",
    "binary_classifier = dynamic_model.create_model(model_type='Binary Classifier', params_dict=params)"
   ]
  },
  {
   "cell_type": "markdown",
   "metadata": {},
   "source": [
    "# END"
   ]
  }
 ],
 "metadata": {
  "kernelspec": {
   "display_name": "Python 3",
   "language": "python",
   "name": "python3"
  },
  "language_info": {
   "codemirror_mode": {
    "name": "ipython",
    "version": 3
   },
   "file_extension": ".py",
   "mimetype": "text/x-python",
   "name": "python",
   "nbconvert_exporter": "python",
   "pygments_lexer": "ipython3",
   "version": "3.8.10"
  },
  "orig_nbformat": 4
 },
 "nbformat": 4,
 "nbformat_minor": 2
}
