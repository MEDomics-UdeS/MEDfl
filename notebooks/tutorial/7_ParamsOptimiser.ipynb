{
 "cells": [
  {
   "cell_type": "markdown",
   "metadata": {},
   "source": [
    "## **ParamsOptimiser**: Optimise your model parameters with MEDfl\n",
    "\n",
    "In the field of machine learning, scientists frequently engage in a process of experimenting with diverse model configurations, adjusting parameters from one experiment to another. This iterative approach is aimed at uncovering the optimal combination of parameters that can enhance a model's performance. Particularly in the medical domain, datasets often exhibit a significant class imbalance, posing challenges in constructing models with robust performance. The quest for identifying the most suitable parameters becomes crucial in achieving optimal results for such imbalanced datasets.\n",
    "\n",
    "With `MEDfl`, users are empowered to efficiently explore and discover the best parameter combinations that yield optimal model performance. The platform facilitates the intricate task of parameter tuning, enabling practitioners to navigate the complexities associated with imbalanced medical datasets. Through systematic experimentation and automated parameter optimization, `MEDfl` streamlines the process of finding configurations that enhance model efficacy, ultimately contributing to more effective and reliable machine learning models in the medical field. \n",
    "\n",
    "# 1. GRID SEARCH optimization\n",
    "to optimise your model parameters usingn MEDfl grid search follow these steps:\n",
    "1. **Define Parameter Configurations:**  a dictionary encapsulating diverse configurations of the selected parameters targeted for optimization. \n",
    "\n",
    "Parameter | Description             | ex.\n",
    "----------| -----------------------|-------\n",
    "hidden_dim|model hidden dimention | 'hidden_dim': [70 , 30]\n",
    "lr        |Learning rate          |'lr': [0.001 , 0.001]\n",
    "pos_weight|loss function weight    |  'pos_weight': [ 6 ,5]\n",
    "max_epochs|max training iterations |    'max_epochs': [10, 20, 30] \n",
    "\n",
    "\n",
    "```python\n",
    "param_grid = {\n",
    "    'hidden_dim': [70 , 30], \n",
    "    'lr': [0.001 , 0.001], \n",
    "    'pos_weight': [ 6 ,5], \n",
    "    'max_epochs': [10, 20, 30] \n",
    "}\n",
    "```\n",
    "\n",
    "2. **Select a Scoring Metric:** Identify a scoring metric, crucial for ranking configurations according to their performance scores in relation to the chosen metric."
   ]
  },
  {
   "cell_type": "code",
   "execution_count": 1,
   "metadata": {},
   "outputs": [],
   "source": [
    "from MEDfl.LearningManager.utils import global_params\n",
    "\n",
    "import sys\n",
    "sys.path.append(global_params['base_url'])\n",
    "\n",
    "import os\n",
    "os.environ['PYTHONPATH'] = global_params['base_url']\n"
   ]
  },
  {
   "cell_type": "markdown",
   "metadata": {},
   "source": [
    "Imports"
   ]
  },
  {
   "cell_type": "code",
   "execution_count": 2,
   "metadata": {},
   "outputs": [],
   "source": [
    "from sklearn.model_selection import train_test_split\n",
    "import pandas as pd\n",
    "\n",
    "# MEDfl imports \n",
    "from MEDfl.LearningManager.params_optimiser import ParamsOptimiser"
   ]
  },
  {
   "cell_type": "markdown",
   "metadata": {},
   "source": [
    "### Dataset\n",
    "for this tutorial we will use the Mimic_train dataset"
   ]
  },
  {
   "cell_type": "code",
   "execution_count": 3,
   "metadata": {},
   "outputs": [
    {
     "data": {
      "text/html": [
       "<div>\n",
       "<style scoped>\n",
       "    .dataframe tbody tr th:only-of-type {\n",
       "        vertical-align: middle;\n",
       "    }\n",
       "\n",
       "    .dataframe tbody tr th {\n",
       "        vertical-align: top;\n",
       "    }\n",
       "\n",
       "    .dataframe thead th {\n",
       "        text-align: right;\n",
       "    }\n",
       "</style>\n",
       "<table border=\"1\" class=\"dataframe\">\n",
       "  <thead>\n",
       "    <tr style=\"text-align: right;\">\n",
       "      <th></th>\n",
       "      <th>age</th>\n",
       "      <th>pao2fio2</th>\n",
       "      <th>uo</th>\n",
       "      <th>aids</th>\n",
       "      <th>hem</th>\n",
       "      <th>mets</th>\n",
       "      <th>admissiontype</th>\n",
       "      <th>bicarbonate</th>\n",
       "      <th>bilirubin</th>\n",
       "      <th>bun</th>\n",
       "      <th>gcs</th>\n",
       "      <th>hr</th>\n",
       "      <th>potassium</th>\n",
       "      <th>sbp</th>\n",
       "      <th>sodium</th>\n",
       "      <th>tempc</th>\n",
       "      <th>wbc</th>\n",
       "      <th>deceased</th>\n",
       "    </tr>\n",
       "  </thead>\n",
       "  <tbody>\n",
       "    <tr>\n",
       "      <th>0</th>\n",
       "      <td>72.955645</td>\n",
       "      <td>6</td>\n",
       "      <td>1155.0</td>\n",
       "      <td>0.0</td>\n",
       "      <td>0.0</td>\n",
       "      <td>0.0</td>\n",
       "      <td>0.0</td>\n",
       "      <td>21.0</td>\n",
       "      <td>1.525</td>\n",
       "      <td>10.0</td>\n",
       "      <td>15.0</td>\n",
       "      <td>64.0</td>\n",
       "      <td>4.8</td>\n",
       "      <td>85.0</td>\n",
       "      <td>138.0</td>\n",
       "      <td>36.56</td>\n",
       "      <td>6.7</td>\n",
       "      <td>0</td>\n",
       "    </tr>\n",
       "    <tr>\n",
       "      <th>1</th>\n",
       "      <td>50.847052</td>\n",
       "      <td>9</td>\n",
       "      <td>375.0</td>\n",
       "      <td>0.0</td>\n",
       "      <td>0.0</td>\n",
       "      <td>0.0</td>\n",
       "      <td>6.0</td>\n",
       "      <td>2.0</td>\n",
       "      <td>2.500</td>\n",
       "      <td>64.0</td>\n",
       "      <td>4.0</td>\n",
       "      <td>67.0</td>\n",
       "      <td>5.8</td>\n",
       "      <td>63.0</td>\n",
       "      <td>136.0</td>\n",
       "      <td>34.40</td>\n",
       "      <td>3.9</td>\n",
       "      <td>1</td>\n",
       "    </tr>\n",
       "    <tr>\n",
       "      <th>2</th>\n",
       "      <td>44.495798</td>\n",
       "      <td>6</td>\n",
       "      <td>1965.0</td>\n",
       "      <td>0.0</td>\n",
       "      <td>0.0</td>\n",
       "      <td>0.0</td>\n",
       "      <td>8.0</td>\n",
       "      <td>20.0</td>\n",
       "      <td>3.800</td>\n",
       "      <td>15.0</td>\n",
       "      <td>15.0</td>\n",
       "      <td>112.0</td>\n",
       "      <td>4.4</td>\n",
       "      <td>92.0</td>\n",
       "      <td>132.0</td>\n",
       "      <td>38.44</td>\n",
       "      <td>25.2</td>\n",
       "      <td>0</td>\n",
       "    </tr>\n",
       "    <tr>\n",
       "      <th>3</th>\n",
       "      <td>42.396548</td>\n",
       "      <td>11</td>\n",
       "      <td>2685.0</td>\n",
       "      <td>0.0</td>\n",
       "      <td>0.0</td>\n",
       "      <td>0.0</td>\n",
       "      <td>6.0</td>\n",
       "      <td>23.0</td>\n",
       "      <td>2.000</td>\n",
       "      <td>18.0</td>\n",
       "      <td>15.0</td>\n",
       "      <td>105.0</td>\n",
       "      <td>3.9</td>\n",
       "      <td>88.0</td>\n",
       "      <td>147.0</td>\n",
       "      <td>37.36</td>\n",
       "      <td>4.7</td>\n",
       "      <td>1</td>\n",
       "    </tr>\n",
       "    <tr>\n",
       "      <th>4</th>\n",
       "      <td>76.452877</td>\n",
       "      <td>9</td>\n",
       "      <td>1200.0</td>\n",
       "      <td>0.0</td>\n",
       "      <td>0.0</td>\n",
       "      <td>0.0</td>\n",
       "      <td>6.0</td>\n",
       "      <td>20.0</td>\n",
       "      <td>0.400</td>\n",
       "      <td>27.0</td>\n",
       "      <td>14.0</td>\n",
       "      <td>41.0</td>\n",
       "      <td>4.5</td>\n",
       "      <td>77.0</td>\n",
       "      <td>142.0</td>\n",
       "      <td>38.50</td>\n",
       "      <td>11.6</td>\n",
       "      <td>1</td>\n",
       "    </tr>\n",
       "  </tbody>\n",
       "</table>\n",
       "</div>"
      ],
      "text/plain": [
       "         age  pao2fio2      uo  aids  hem  mets  admissiontype  bicarbonate  \\\n",
       "0  72.955645         6  1155.0   0.0  0.0   0.0            0.0         21.0   \n",
       "1  50.847052         9   375.0   0.0  0.0   0.0            6.0          2.0   \n",
       "2  44.495798         6  1965.0   0.0  0.0   0.0            8.0         20.0   \n",
       "3  42.396548        11  2685.0   0.0  0.0   0.0            6.0         23.0   \n",
       "4  76.452877         9  1200.0   0.0  0.0   0.0            6.0         20.0   \n",
       "\n",
       "   bilirubin   bun   gcs     hr  potassium   sbp  sodium  tempc   wbc  \\\n",
       "0      1.525  10.0  15.0   64.0        4.8  85.0   138.0  36.56   6.7   \n",
       "1      2.500  64.0   4.0   67.0        5.8  63.0   136.0  34.40   3.9   \n",
       "2      3.800  15.0  15.0  112.0        4.4  92.0   132.0  38.44  25.2   \n",
       "3      2.000  18.0  15.0  105.0        3.9  88.0   147.0  37.36   4.7   \n",
       "4      0.400  27.0  14.0   41.0        4.5  77.0   142.0  38.50  11.6   \n",
       "\n",
       "   deceased  \n",
       "0         0  \n",
       "1         1  \n",
       "2         0  \n",
       "3         1  \n",
       "4         1  "
      ]
     },
     "execution_count": 3,
     "metadata": {},
     "output_type": "execute_result"
    }
   ],
   "source": [
    "data = pd.read_csv( '../data/masterDataSet/Mimic_ouael.csv')\n",
    "\n",
    "data.head()"
   ]
  },
  {
   "cell_type": "code",
   "execution_count": 4,
   "metadata": {},
   "outputs": [],
   "source": [
    "\n",
    "# Define features and target variable\n",
    "features = [col for col in data.columns if col != 'deceased']\n",
    "target = 'deceased'\n",
    "\n",
    "X_train, X_test, y_train, y_test = train_test_split(data[features], data[target], test_size=0.2, random_state=42)\n"
   ]
  },
  {
   "cell_type": "markdown",
   "metadata": {},
   "source": [
    "### Test Parameters\n",
    "we define the param_grid dictionary "
   ]
  },
  {
   "cell_type": "code",
   "execution_count": 5,
   "metadata": {},
   "outputs": [],
   "source": [
    "param_grid = {\n",
    "    'hidden_dim': [70, 20],\n",
    "    'lr': [0.001 , 0.01],\n",
    "    'pos_weight': [5,1,6],\n",
    "    'max_epochs': [10, 30]\n",
    "}"
   ]
  },
  {
   "cell_type": "markdown",
   "metadata": {},
   "source": [
    "### ParamsOptimiser"
   ]
  },
  {
   "cell_type": "code",
   "execution_count": 6,
   "metadata": {},
   "outputs": [],
   "source": [
    "# Initiate the ParamsOptimiser class \n",
    "\n",
    "trainer = ParamsOptimiser(X_train, y_train, X_test, y_test)"
   ]
  },
  {
   "cell_type": "code",
   "execution_count": 7,
   "metadata": {},
   "outputs": [
    {
     "name": "stdout",
     "output_type": "stream",
     "text": [
      "Fitting 3 folds for each of 24 candidates, totalling 72 fits\n"
     ]
    },
    {
     "name": "stdout",
     "output_type": "stream",
     "text": [
      "Best Parameters: {'hidden_dim': 20, 'lr': 0.001, 'max_epochs': 30, 'pos_weight': 5}\n",
      "Best Score: 0.39908695897609997\n"
     ]
    }
   ],
   "source": [
    "# Perform grid search for recall\n",
    "recall_grid_search = trainer.perform_grid_search(param_grid, scoring_metric='f1')\n",
    "\n",
    "# Get the best parameters and the best score\n",
    "print(\"Best Parameters:\", recall_grid_search.best_params_)\n",
    "print(\"Best Score:\", recall_grid_search.best_score_)"
   ]
  },
  {
   "cell_type": "code",
   "execution_count": 8,
   "metadata": {},
   "outputs": [
    {
     "data": {
      "image/png": "[encoded data removed]",
      "text/plain": [
       "<Figure size 1500x800 with 1 Axes>"
      ]
     },
     "metadata": {},
     "output_type": "display_data"
    }
   ],
   "source": [
    "trainer.plot_results()"
   ]
  },
  {
   "cell_type": "markdown",
   "metadata": {},
   "source": [
    "# 2. Optuna optimisation\n",
    "\n",
    "[**Optuna**](https://optuna.org/) is an open-source hyperparameter optimization library for machine learning. It automates the process of searching for the best hyperparameter configurations to enhance model performance. Commonly used with frameworks such as TensorFlow, PyTorch, and Scikit-Learn, Optuna employs a Bayesian optimization approach to efficiently explore the hyperparameter space.\n",
    "\n",
    "For more information, you can check the [official Optuna documentation](https://optuna.readthedocs.io/en/stable/).\n",
    "\n",
    "\n",
    "**MEDfl** integrates optuna for the optimisation of the initial model of the traning, it offers the functionalities of Optuna to be used on both centralised and federated mode \n",
    "\n",
    "to use the Optuna optimisation with MEDfl the you have to: \n",
    "\n",
    "1. Specify the optimisation direction: the optimisation direction tell the direction on which we optimise the objective function, it can be `maximize` or `minimize`\n",
    "2. Specify the optimization metric: the optimisation metric is the value on which the algorithm should optimize \n",
    "3. define the hyperparameters of the optimisation\n",
    "4. start the optimisation \n",
    "5. visualize the results of the optimisation \n",
    "6. find the best threshold for the optimized model \n",
    "7. Test the final model \n",
    "8. save the final model \n",
    "\n",
    "<img src='../Images/optuna_optim_diag.png' />\n",
    "\n"
   ]
  },
  {
   "cell_type": "markdown",
   "metadata": {},
   "source": [
    "### Specify the optimisation direction"
   ]
  },
  {
   "cell_type": "code",
   "execution_count": 7,
   "metadata": {},
   "outputs": [],
   "source": [
    "direction = 'maximize'"
   ]
  },
  {
   "cell_type": "markdown",
   "metadata": {},
   "source": [
    "### define the hyperparameters for the optimisation"
   ]
  },
  {
   "cell_type": "code",
   "execution_count": 11,
   "metadata": {},
   "outputs": [],
   "source": [
    "optuna_params = {\n",
    "    'num_layers': {'low': 1, 'high': 10},\n",
    "    'hidden_size': {'low': 17, 'high': 75},\n",
    "    'num_epochs': {'low': 50, 'high': 180},\n",
    "    'learning_rate': {'low': 1e-5, 'high': 1e-1, 'log': True},\n",
    "    'optimizer': ['Adam', 'SGD', 'RMSprop'],\n",
    "    'n_trials': 10,\n",
    "    'batch_size' : {'low': 8, 'high': 256}\n",
    "}"
   ]
  },
  {
   "cell_type": "markdown",
   "metadata": {},
   "source": [
    "### Start the optimisation\n",
    "To sart the optimisation we will use the methode optuna_optimisation of the class ParamsOptimizer that take two main arguments "
   ]
  },
  {
   "cell_type": "code",
   "execution_count": 12,
   "metadata": {},
   "outputs": [
    {
     "name": "stderr",
     "output_type": "stream",
     "text": [
      "[I 2024-03-07 13:44:47,794] A new study created in memory with name: no-name-7ca4bbf7-1d71-4195-8525-9d73a4741d11\n",
      "[I 2024-03-07 13:45:00,608] Trial 0 finished with value: 0.7175449791056727 and parameters: {'batch_size': 82, 'num_layers': 4, 'hidden_size': 49, 'optimizer': 'SGD', 'learning_rate': 0.017858521491490885, 'num_epochs': 94}. Best is trial 0 with value: 0.7175449791056727.\n",
      "[I 2024-03-07 13:45:39,769] Trial 1 finished with value: 0.7200045458715978 and parameters: {'batch_size': 29, 'num_layers': 4, 'hidden_size': 57, 'optimizer': 'SGD', 'learning_rate': 1.670024678165503e-05, 'num_epochs': 138}. Best is trial 1 with value: 0.7200045458715978.\n",
      "[I 2024-03-07 13:45:44,641] Trial 2 finished with value: 0.7081039544912378 and parameters: {'batch_size': 210, 'num_layers': 4, 'hidden_size': 17, 'optimizer': 'SGD', 'learning_rate': 0.001142368616413143, 'num_epochs': 56}. Best is trial 1 with value: 0.7200045458715978.\n",
      "[I 2024-03-07 13:45:50,478] Trial 3 finished with value: 0.7535949920342984 and parameters: {'batch_size': 233, 'num_layers': 1, 'hidden_size': 45, 'optimizer': 'RMSprop', 'learning_rate': 0.0064893283912399865, 'num_epochs': 77}. Best is trial 3 with value: 0.7535949920342984.\n",
      "[I 2024-03-07 13:46:36,194] Trial 4 finished with value: 0.5 and parameters: {'batch_size': 30, 'num_layers': 10, 'hidden_size': 29, 'optimizer': 'Adam', 'learning_rate': 0.00933379497758321, 'num_epochs': 69}. Best is trial 3 with value: 0.7535949920342984.\n",
      "[I 2024-03-07 13:46:36,392] Trial 5 pruned. \n",
      "[I 2024-03-07 13:47:57,697] Trial 6 finished with value: 0.7650660194012795 and parameters: {'batch_size': 26, 'num_layers': 10, 'hidden_size': 43, 'optimizer': 'RMSprop', 'learning_rate': 0.0007803846815877282, 'num_epochs': 116}. Best is trial 6 with value: 0.7650660194012795.\n",
      "[I 2024-03-07 13:47:57,810] Trial 7 pruned. \n",
      "[I 2024-03-07 13:47:57,909] Trial 8 pruned. \n",
      "[I 2024-03-07 13:47:57,984] Trial 9 pruned. \n"
     ]
    },
    {
     "name": "stdout",
     "output_type": "stream",
     "text": [
      "Best Hyperparameters: {'batch_size': 26, 'num_layers': 10, 'hidden_size': 43, 'optimizer': 'RMSprop', 'learning_rate': 0.0007803846815877282, 'num_epochs': 116}\n"
     ]
    }
   ],
   "source": [
    "# start Optuna_optimisation\n",
    "study = trainer.optuna_optimisation(direction=direction , params=optuna_params)"
   ]
  },
  {
   "cell_type": "markdown",
   "metadata": {},
   "source": [
    "### Visualize the optimization results "
   ]
  },
  {
   "cell_type": "code",
   "execution_count": 13,
   "metadata": {},
   "outputs": [
    {
     "data": {
      "application/vnd.plotly.v1+json": {
       "config": {
        "plotlyServerURL": "https://plot.ly"
       },
       "data": [
        {
         "mode": "markers",
         "name": "Objective Value",
         "type": "scatter",
         "x": [
          0,
          1,
          2,
          3,
          4,
          6
         ],
         "y": [
          0.7175449791056727,
          0.7200045458715978,
          0.7081039544912378,
          0.7535949920342984,
          0.5,
          0.7650660194012795
         ]
        },
        {
         "mode": "lines",
         "name": "Best Value",
         "type": "scatter",
         "x": [
          0,
          1,
          2,
          3,
          4,
          5,
          6,
          7,
          8,
          9
         ],
         "y": [
          0.7175449791056727,
          0.7200045458715978,
          0.7200045458715978,
          0.7535949920342984,
          0.7535949920342984,
          0.7535949920342984,
          0.7650660194012795,
          0.7650660194012795,
          0.7650660194012795,
          0.7650660194012795
         ]
        },
        {
         "marker": {
          "color": "#cccccc"
         },
         "mode": "markers",
         "name": "Infeasible Trial",
         "showlegend": false,
         "type": "scatter",
         "x": [],
         "y": []
        }
       ],
       "layout": {
        "template": {
         "data": {
          "bar": [
           {
            "error_x": {
             "color": "#2a3f5f"
            },
            "error_y": {
             "color": "#2a3f5f"
            },
            "marker": {
             "line": {
              "color": "#E5ECF6",
              "width": 0.5
             },
             "pattern": {
              "fillmode": "overlay",
              "size": 10,
              "solidity": 0.2
             }
            },
            "type": "bar"
           }
          ],
          "barpolar": [
           {
            "marker": {
             "line": {
              "color": "#E5ECF6",
              "width": 0.5
             },
             "pattern": {
              "fillmode": "overlay",
              "size": 10,
              "solidity": 0.2
             }
            },
            "type": "barpolar"
           }
          ],
          "carpet": [
           {
            "aaxis": {
             "endlinecolor": "#2a3f5f",
             "gridcolor": "white",
             "linecolor": "white",
             "minorgridcolor": "white",
             "startlinecolor": "#2a3f5f"
            },
            "baxis": {
             "endlinecolor": "#2a3f5f",
             "gridcolor": "white",
             "linecolor": "white",
             "minorgridcolor": "white",
             "startlinecolor": "#2a3f5f"
            },
            "type": "carpet"
           }
          ],
          "choropleth": [
           {
            "colorbar": {
             "outlinewidth": 0,
             "ticks": ""
            },
            "type": "choropleth"
           }
          ],
          "contour": [
           {
            "colorbar": {
             "outlinewidth": 0,
             "ticks": ""
            },
            "colorscale": [
             [
              0,
              "#0d0887"
             ],
             [
              0.1111111111111111,
              "#46039f"
             ],
             [
              0.2222222222222222,
              "#7201a8"
             ],
             [
              0.3333333333333333,
              "#9c179e"
             ],
             [
              0.4444444444444444,
              "#bd3786"
             ],
             [
              0.5555555555555556,
              "#d8576b"
             ],
             [
              0.6666666666666666,
              "#ed7953"
             ],
             [
              0.7777777777777778,
              "#fb9f3a"
             ],
             [
              0.8888888888888888,
              "#fdca26"
             ],
             [
              1,
              "#f0f921"
             ]
            ],
            "type": "contour"
           }
          ],
          "contourcarpet": [
           {
            "colorbar": {
             "outlinewidth": 0,
             "ticks": ""
            },
            "type": "contourcarpet"
           }
          ],
          "heatmap": [
           {
            "colorbar": {
             "outlinewidth": 0,
             "ticks": ""
            },
            "colorscale": [
             [
              0,
              "#0d0887"
             ],
             [
              0.1111111111111111,
              "#46039f"
             ],
             [
              0.2222222222222222,
              "#7201a8"
             ],
             [
              0.3333333333333333,
              "#9c179e"
             ],
             [
              0.4444444444444444,
              "#bd3786"
             ],
             [
              0.5555555555555556,
              "#d8576b"
             ],
             [
              0.6666666666666666,
              "#ed7953"
             ],
             [
              0.7777777777777778,
              "#fb9f3a"
             ],
             [
              0.8888888888888888,
              "#fdca26"
             ],
             [
              1,
              "#f0f921"
             ]
            ],
            "type": "heatmap"
           }
          ],
          "heatmapgl": [
           {
            "colorbar": {
             "outlinewidth": 0,
             "ticks": ""
            },
            "colorscale": [
             [
              0,
              "#0d0887"
             ],
             [
              0.1111111111111111,
              "#46039f"
             ],
             [
              0.2222222222222222,
              "#7201a8"
             ],
             [
              0.3333333333333333,
              "#9c179e"
             ],
             [
              0.4444444444444444,
              "#bd3786"
             ],
             [
              0.5555555555555556,
              "#d8576b"
             ],
             [
              0.6666666666666666,
              "#ed7953"
             ],
             [
              0.7777777777777778,
              "#fb9f3a"
             ],
             [
              0.8888888888888888,
              "#fdca26"
             ],
             [
              1,
              "#f0f921"
             ]
            ],
            "type": "heatmapgl"
           }
          ],
          "histogram": [
           {
            "marker": {
             "pattern": {
              "fillmode": "overlay",
              "size": 10,
              "solidity": 0.2
             }
            },
            "type": "histogram"
           }
          ],
          "histogram2d": [
           {
            "colorbar": {
             "outlinewidth": 0,
             "ticks": ""
            },
            "colorscale": [
             [
              0,
              "#0d0887"
             ],
             [
              0.1111111111111111,
              "#46039f"
             ],
             [
              0.2222222222222222,
              "#7201a8"
             ],
             [
              0.3333333333333333,
              "#9c179e"
             ],
             [
              0.4444444444444444,
              "#bd3786"
             ],
             [
              0.5555555555555556,
              "#d8576b"
             ],
             [
              0.6666666666666666,
              "#ed7953"
             ],
             [
              0.7777777777777778,
              "#fb9f3a"
             ],
             [
              0.8888888888888888,
              "#fdca26"
             ],
             [
              1,
              "#f0f921"
             ]
            ],
            "type": "histogram2d"
           }
          ],
          "histogram2dcontour": [
           {
            "colorbar": {
             "outlinewidth": 0,
             "ticks": ""
            },
            "colorscale": [
             [
              0,
              "#0d0887"
             ],
             [
              0.1111111111111111,
              "#46039f"
             ],
             [
              0.2222222222222222,
              "#7201a8"
             ],
             [
              0.3333333333333333,
              "#9c179e"
             ],
             [
              0.4444444444444444,
              "#bd3786"
             ],
             [
              0.5555555555555556,
              "#d8576b"
             ],
             [
              0.6666666666666666,
              "#ed7953"
             ],
             [
              0.7777777777777778,
              "#fb9f3a"
             ],
             [
              0.8888888888888888,
              "#fdca26"
             ],
             [
              1,
              "#f0f921"
             ]
            ],
            "type": "histogram2dcontour"
           }
          ],
          "mesh3d": [
           {
            "colorbar": {
             "outlinewidth": 0,
             "ticks": ""
            },
            "type": "mesh3d"
           }
          ],
          "parcoords": [
           {
            "line": {
             "colorbar": {
              "outlinewidth": 0,
              "ticks": ""
             }
            },
            "type": "parcoords"
           }
          ],
          "pie": [
           {
            "automargin": true,
            "type": "pie"
           }
          ],
          "scatter": [
           {
            "fillpattern": {
             "fillmode": "overlay",
             "size": 10,
             "solidity": 0.2
            },
            "type": "scatter"
           }
          ],
          "scatter3d": [
           {
            "line": {
             "colorbar": {
              "outlinewidth": 0,
              "ticks": ""
             }
            },
            "marker": {
             "colorbar": {
              "outlinewidth": 0,
              "ticks": ""
             }
            },
            "type": "scatter3d"
           }
          ],
          "scattercarpet": [
           {
            "marker": {
             "colorbar": {
              "outlinewidth": 0,
              "ticks": ""
             }
            },
            "type": "scattercarpet"
           }
          ],
          "scattergeo": [
           {
            "marker": {
             "colorbar": {
              "outlinewidth": 0,
              "ticks": ""
             }
            },
            "type": "scattergeo"
           }
          ],
          "scattergl": [
           {
            "marker": {
             "colorbar": {
              "outlinewidth": 0,
              "ticks": ""
             }
            },
            "type": "scattergl"
           }
          ],
          "scattermapbox": [
           {
            "marker": {
             "colorbar": {
              "outlinewidth": 0,
              "ticks": ""
             }
            },
            "type": "scattermapbox"
           }
          ],
          "scatterpolar": [
           {
            "marker": {
             "colorbar": {
              "outlinewidth": 0,
              "ticks": ""
             }
            },
            "type": "scatterpolar"
           }
          ],
          "scatterpolargl": [
           {
            "marker": {
             "colorbar": {
              "outlinewidth": 0,
              "ticks": ""
             }
            },
            "type": "scatterpolargl"
           }
          ],
          "scatterternary": [
           {
            "marker": {
             "colorbar": {
              "outlinewidth": 0,
              "ticks": ""
             }
            },
            "type": "scatterternary"
           }
          ],
          "surface": [
           {
            "colorbar": {
             "outlinewidth": 0,
             "ticks": ""
            },
            "colorscale": [
             [
              0,
              "#0d0887"
             ],
             [
              0.1111111111111111,
              "#46039f"
             ],
             [
              0.2222222222222222,
              "#7201a8"
             ],
             [
              0.3333333333333333,
              "#9c179e"
             ],
             [
              0.4444444444444444,
              "#bd3786"
             ],
             [
              0.5555555555555556,
              "#d8576b"
             ],
             [
              0.6666666666666666,
              "#ed7953"
             ],
             [
              0.7777777777777778,
              "#fb9f3a"
             ],
             [
              0.8888888888888888,
              "#fdca26"
             ],
             [
              1,
              "#f0f921"
             ]
            ],
            "type": "surface"
           }
          ],
          "table": [
           {
            "cells": {
             "fill": {
              "color": "#EBF0F8"
             },
             "line": {
              "color": "white"
             }
            },
            "header": {
             "fill": {
              "color": "#C8D4E3"
             },
             "line": {
              "color": "white"
             }
            },
            "type": "table"
           }
          ]
         },
         "layout": {
          "annotationdefaults": {
           "arrowcolor": "#2a3f5f",
           "arrowhead": 0,
           "arrowwidth": 1
          },
          "autotypenumbers": "strict",
          "coloraxis": {
           "colorbar": {
            "outlinewidth": 0,
            "ticks": ""
           }
          },
          "colorscale": {
           "diverging": [
            [
             0,
             "#8e0152"
            ],
            [
             0.1,
             "#c51b7d"
            ],
            [
             0.2,
             "#de77ae"
            ],
            [
             0.3,
             "#f1b6da"
            ],
            [
             0.4,
             "#fde0ef"
            ],
            [
             0.5,
             "#f7f7f7"
            ],
            [
             0.6,
             "#e6f5d0"
            ],
            [
             0.7,
             "#b8e186"
            ],
            [
             0.8,
             "#7fbc41"
            ],
            [
             0.9,
             "#4d9221"
            ],
            [
             1,
             "#276419"
            ]
           ],
           "sequential": [
            [
             0,
             "#0d0887"
            ],
            [
             0.1111111111111111,
             "#46039f"
            ],
            [
             0.2222222222222222,
             "#7201a8"
            ],
            [
             0.3333333333333333,
             "#9c179e"
            ],
            [
             0.4444444444444444,
             "#bd3786"
            ],
            [
             0.5555555555555556,
             "#d8576b"
            ],
            [
             0.6666666666666666,
             "#ed7953"
            ],
            [
             0.7777777777777778,
             "#fb9f3a"
            ],
            [
             0.8888888888888888,
             "#fdca26"
            ],
            [
             1,
             "#f0f921"
            ]
           ],
           "sequentialminus": [
            [
             0,
             "#0d0887"
            ],
            [
             0.1111111111111111,
             "#46039f"
            ],
            [
             0.2222222222222222,
             "#7201a8"
            ],
            [
             0.3333333333333333,
             "#9c179e"
            ],
            [
             0.4444444444444444,
             "#bd3786"
            ],
            [
             0.5555555555555556,
             "#d8576b"
            ],
            [
             0.6666666666666666,
             "#ed7953"
            ],
            [
             0.7777777777777778,
             "#fb9f3a"
            ],
            [
             0.8888888888888888,
             "#fdca26"
            ],
            [
             1,
             "#f0f921"
            ]
           ]
          },
          "colorway": [
           "#636efa",
           "#EF553B",
           "#00cc96",
           "#ab63fa",
           "#FFA15A",
           "#19d3f3",
           "#FF6692",
           "#B6E880",
           "#FF97FF",
           "#FECB52"
          ],
          "font": {
           "color": "#2a3f5f"
          },
          "geo": {
           "bgcolor": "white",
           "lakecolor": "white",
           "landcolor": "#E5ECF6",
           "showlakes": true,
           "showland": true,
           "subunitcolor": "white"
          },
          "hoverlabel": {
           "align": "left"
          },
          "hovermode": "closest",
          "mapbox": {
           "style": "light"
          },
          "paper_bgcolor": "white",
          "plot_bgcolor": "#E5ECF6",
          "polar": {
           "angularaxis": {
            "gridcolor": "white",
            "linecolor": "white",
            "ticks": ""
           },
           "bgcolor": "#E5ECF6",
           "radialaxis": {
            "gridcolor": "white",
            "linecolor": "white",
            "ticks": ""
           }
          },
          "scene": {
           "xaxis": {
            "backgroundcolor": "#E5ECF6",
            "gridcolor": "white",
            "gridwidth": 2,
            "linecolor": "white",
            "showbackground": true,
            "ticks": "",
            "zerolinecolor": "white"
           },
           "yaxis": {
            "backgroundcolor": "#E5ECF6",
            "gridcolor": "white",
            "gridwidth": 2,
            "linecolor": "white",
            "showbackground": true,
            "ticks": "",
            "zerolinecolor": "white"
           },
           "zaxis": {
            "backgroundcolor": "#E5ECF6",
            "gridcolor": "white",
            "gridwidth": 2,
            "linecolor": "white",
            "showbackground": true,
            "ticks": "",
            "zerolinecolor": "white"
           }
          },
          "shapedefaults": {
           "line": {
            "color": "#2a3f5f"
           }
          },
          "ternary": {
           "aaxis": {
            "gridcolor": "white",
            "linecolor": "white",
            "ticks": ""
           },
           "baxis": {
            "gridcolor": "white",
            "linecolor": "white",
            "ticks": ""
           },
           "bgcolor": "#E5ECF6",
           "caxis": {
            "gridcolor": "white",
            "linecolor": "white",
            "ticks": ""
           }
          },
          "title": {
           "x": 0.05
          },
          "xaxis": {
           "automargin": true,
           "gridcolor": "white",
           "linecolor": "white",
           "ticks": "",
           "title": {
            "standoff": 15
           },
           "zerolinecolor": "white",
           "zerolinewidth": 2
          },
          "yaxis": {
           "automargin": true,
           "gridcolor": "white",
           "linecolor": "white",
           "ticks": "",
           "title": {
            "standoff": 15
           },
           "zerolinecolor": "white",
           "zerolinewidth": 2
          }
         }
        },
        "title": {
         "text": "Optimization History Plot"
        },
        "xaxis": {
         "title": {
          "text": "Trial"
         }
        },
        "yaxis": {
         "title": {
          "text": "Objective Value"
         }
        }
       }
      }
     },
     "metadata": {},
     "output_type": "display_data"
    }
   ],
   "source": [
    "trainer.plot_optimization_history()"
   ]
  },
  {
   "cell_type": "code",
   "execution_count": 13,
   "metadata": {},
   "outputs": [
    {
     "data": {
      "application/vnd.plotly.v1+json": {
       "config": {
        "plotlyServerURL": "https://plot.ly"
       },
       "data": [
        {
         "dimensions": [
          {
           "label": "Objective Value",
           "range": [
            0.5004816955684008,
            0.7772773148495692
           ],
           "values": [
            0.6918722735196724,
            0.7452247495600096,
            0.730410004253935,
            0.7416579085654232,
            0.7346451717839002,
            0.7649987696953015,
            0.7424680329304607,
            0.7674536446212746,
            0.7440257237945098,
            0.743783833379209,
            0.5004816955684008,
            0.7479793809273577,
            0.7519069722826948,
            0.7630031737690698,
            0.7734060255736557,
            0.7660346236935831,
            0.7673154960004671,
            0.7743553411906013,
            0.7566947342958904,
            0.7676381903260515,
            0.7677679978980558,
            0.7658010743270859,
            0.7520268748592449,
            0.7653704676826065,
            0.7456449298934847,
            0.7691348872707254,
            0.7618291711499803,
            0.7673353059913754,
            0.7758963499570436,
            0.7685369383346262,
            0.7663349014505083,
            0.7560628998490271,
            0.7666946091801583,
            0.771983876752663,
            0.7772773148495692,
            0.7602198700464596,
            0.7666143265854248,
            0.7638742920534828,
            0.7620142381703076,
            0.7747286031245568,
            0.77269703642536,
            0.762802467282236,
            0.7630589545329429,
            0.7602761721258832,
            0.7543811358840262,
            0.6952681230137878,
            0.721173335335185,
            0.7660883191952557,
            0.7676924071432742
           ]
          },
          {
           "label": "batch_size",
           "range": [
            8,
            225
           ],
           "values": [
            225,
            134,
            171,
            176,
            149,
            73,
            218,
            99,
            101,
            96,
            116,
            57,
            45,
            14,
            19,
            18,
            17,
            16,
            19,
            13,
            8,
            19,
            25,
            19,
            24,
            14,
            22,
            8,
            13,
            11,
            17,
            18,
            27,
            8,
            16,
            12,
            13,
            8,
            8,
            11,
            13,
            15,
            8,
            8,
            12,
            21,
            8,
            14,
            12
           ]
          },
          {
           "label": "hidden_size",
           "range": [
            22,
            75
           ],
           "values": [
            56,
            33,
            61,
            60,
            27,
            25,
            48,
            26,
            50,
            29,
            48,
            75,
            53,
            45,
            37,
            38,
            38,
            40,
            38,
            35,
            37,
            43,
            46,
            41,
            40,
            39,
            36,
            34,
            37,
            34,
            34,
            36,
            38,
            42,
            46,
            45,
            24,
            25,
            28,
            22,
            40,
            45,
            35,
            35,
            34,
            32,
            36,
            27,
            28
           ]
          },
          {
           "label": "learning_rate",
           "range": [
            -3.6671036352142266,
            -1.6604216974288837
           ],
           "ticktext": [
            "0.000215",
            "0.001",
            "0.01",
            "0.0219"
           ],
           "tickvals": [
            -3.6671036352142266,
            -3,
            -2,
            -1.6604216974288837
           ],
           "values": [
            -3.3250245717367712,
            -3.096651645799682,
            -3.6671036352142266,
            -3.638590476914326,
            -2.216457478114363,
            -2.1928350568790362,
            -2.922865762190436,
            -2.375142044387548,
            -1.6604216974288837,
            -2.9512671260297436,
            -1.6977604023323134,
            -2.6246924962575835,
            -2.792051441483894,
            -2.7177197755906306,
            -2.7052644059484368,
            -2.686208389250382,
            -2.619358921803677,
            -2.6614039596759436,
            -2.655803629444933,
            -2.7458175268427323,
            -3.02667971677702,
            -3.0511023627122524,
            -3.0159641461949582,
            -2.6363762985712653,
            -2.526851464301493,
            -3.148931323148066,
            -2.6091319943364577,
            -2.802228147685557,
            -2.763037069612378,
            -2.9605686455731086,
            -2.893380244639086,
            -2.6759257309116413,
            -2.6022496933403474,
            -2.8237778228366475,
            -2.700257495629176,
            -2.759709269022104,
            -2.7085632428146234,
            -2.7117101956481635,
            -2.6599238383839894,
            -2.7475134055311363,
            -2.7362078779783374,
            -2.7201325282098776,
            -2.837897227548778,
            -2.82147139291042,
            -2.881569763824531,
            -2.8240559414111943,
            -2.6400028411460226,
            -2.4657750890882175,
            -2.6951075527742216
           ]
          },
          {
           "label": "num_epochs",
           "range": [
            79,
            188
           ],
           "values": [
            154,
            172,
            102,
            131,
            188,
            87,
            79,
            146,
            86,
            140,
            89,
            126,
            138,
            151,
            144,
            144,
            151,
            146,
            151,
            135,
            144,
            143,
            145,
            148,
            147,
            155,
            154,
            143,
            153,
            148,
            156,
            156,
            139,
            150,
            157,
            151,
            158,
            164,
            159,
            163,
            157,
            149,
            141,
            141,
            145,
            105,
            144,
            129,
            125
           ]
          },
          {
           "label": "num_layers",
           "range": [
            1,
            10
           ],
           "values": [
            4,
            7,
            4,
            2,
            10,
            10,
            4,
            7,
            1,
            7,
            3,
            5,
            4,
            6,
            6,
            6,
            6,
            6,
            6,
            6,
            6,
            6,
            7,
            6,
            7,
            6,
            6,
            7,
            6,
            6,
            7,
            7,
            6,
            6,
            6,
            6,
            5,
            5,
            5,
            6,
            6,
            6,
            7,
            7,
            7,
            7,
            6,
            6,
            6
           ]
          },
          {
           "label": "optimizer",
           "range": [
            0,
            2
           ],
           "ticktext": [
            "SGD",
            "RMSprop",
            "Adam"
           ],
           "tickvals": [
            0,
            1,
            2
           ],
           "values": [
            0,
            1,
            0,
            0,
            0,
            2,
            1,
            1,
            2,
            1,
            2,
            1,
            1,
            1,
            1,
            1,
            1,
            1,
            1,
            1,
            1,
            1,
            1,
            1,
            1,
            1,
            1,
            1,
            1,
            1,
            1,
            1,
            1,
            1,
            1,
            1,
            1,
            1,
            1,
            1,
            1,
            1,
            1,
            1,
            1,
            1,
            1,
            1,
            1
           ]
          }
         ],
         "labelangle": 30,
         "labelside": "bottom",
         "line": {
          "color": [
           0.6918722735196724,
           0.7452247495600096,
           0.730410004253935,
           0.7416579085654232,
           0.7346451717839002,
           0.7649987696953015,
           0.7424680329304607,
           0.7674536446212746,
           0.7440257237945098,
           0.743783833379209,
           0.5004816955684008,
           0.7479793809273577,
           0.7519069722826948,
           0.7630031737690698,
           0.7734060255736557,
           0.7660346236935831,
           0.7673154960004671,
           0.7743553411906013,
           0.7566947342958904,
           0.7676381903260515,
           0.7677679978980558,
           0.7658010743270859,
           0.7520268748592449,
           0.7653704676826065,
           0.7456449298934847,
           0.7691348872707254,
           0.7618291711499803,
           0.7673353059913754,
           0.7758963499570436,
           0.7685369383346262,
           0.7663349014505083,
           0.7560628998490271,
           0.7666946091801583,
           0.771983876752663,
           0.7772773148495692,
           0.7602198700464596,
           0.7666143265854248,
           0.7638742920534828,
           0.7620142381703076,
           0.7747286031245568,
           0.77269703642536,
           0.762802467282236,
           0.7630589545329429,
           0.7602761721258832,
           0.7543811358840262,
           0.6952681230137878,
           0.721173335335185,
           0.7660883191952557,
           0.7676924071432742
          ],
          "colorbar": {
           "title": {
            "text": "Objective Value"
           }
          },
          "colorscale": [
           [
            0,
            "rgb(247,251,255)"
           ],
           [
            0.125,
            "rgb(222,235,247)"
           ],
           [
            0.25,
            "rgb(198,219,239)"
           ],
           [
            0.375,
            "rgb(158,202,225)"
           ],
           [
            0.5,
            "rgb(107,174,214)"
           ],
           [
            0.625,
            "rgb(66,146,198)"
           ],
           [
            0.75,
            "rgb(33,113,181)"
           ],
           [
            0.875,
            "rgb(8,81,156)"
           ],
           [
            1,
            "rgb(8,48,107)"
           ]
          ],
          "reversescale": false,
          "showscale": true
         },
         "type": "parcoords"
        }
       ],
       "layout": {
        "template": {
         "data": {
          "bar": [
           {
            "error_x": {
             "color": "#2a3f5f"
            },
            "error_y": {
             "color": "#2a3f5f"
            },
            "marker": {
             "line": {
              "color": "#E5ECF6",
              "width": 0.5
             },
             "pattern": {
              "fillmode": "overlay",
              "size": 10,
              "solidity": 0.2
             }
            },
            "type": "bar"
           }
          ],
          "barpolar": [
           {
            "marker": {
             "line": {
              "color": "#E5ECF6",
              "width": 0.5
             },
             "pattern": {
              "fillmode": "overlay",
              "size": 10,
              "solidity": 0.2
             }
            },
            "type": "barpolar"
           }
          ],
          "carpet": [
           {
            "aaxis": {
             "endlinecolor": "#2a3f5f",
             "gridcolor": "white",
             "linecolor": "white",
             "minorgridcolor": "white",
             "startlinecolor": "#2a3f5f"
            },
            "baxis": {
             "endlinecolor": "#2a3f5f",
             "gridcolor": "white",
             "linecolor": "white",
             "minorgridcolor": "white",
             "startlinecolor": "#2a3f5f"
            },
            "type": "carpet"
           }
          ],
          "choropleth": [
           {
            "colorbar": {
             "outlinewidth": 0,
             "ticks": ""
            },
            "type": "choropleth"
           }
          ],
          "contour": [
           {
            "colorbar": {
             "outlinewidth": 0,
             "ticks": ""
            },
            "colorscale": [
             [
              0,
              "#0d0887"
             ],
             [
              0.1111111111111111,
              "#46039f"
             ],
             [
              0.2222222222222222,
              "#7201a8"
             ],
             [
              0.3333333333333333,
              "#9c179e"
             ],
             [
              0.4444444444444444,
              "#bd3786"
             ],
             [
              0.5555555555555556,
              "#d8576b"
             ],
             [
              0.6666666666666666,
              "#ed7953"
             ],
             [
              0.7777777777777778,
              "#fb9f3a"
             ],
             [
              0.8888888888888888,
              "#fdca26"
             ],
             [
              1,
              "#f0f921"
             ]
            ],
            "type": "contour"
           }
          ],
          "contourcarpet": [
           {
            "colorbar": {
             "outlinewidth": 0,
             "ticks": ""
            },
            "type": "contourcarpet"
           }
          ],
          "heatmap": [
           {
            "colorbar": {
             "outlinewidth": 0,
             "ticks": ""
            },
            "colorscale": [
             [
              0,
              "#0d0887"
             ],
             [
              0.1111111111111111,
              "#46039f"
             ],
             [
              0.2222222222222222,
              "#7201a8"
             ],
             [
              0.3333333333333333,
              "#9c179e"
             ],
             [
              0.4444444444444444,
              "#bd3786"
             ],
             [
              0.5555555555555556,
              "#d8576b"
             ],
             [
              0.6666666666666666,
              "#ed7953"
             ],
             [
              0.7777777777777778,
              "#fb9f3a"
             ],
             [
              0.8888888888888888,
              "#fdca26"
             ],
             [
              1,
              "#f0f921"
             ]
            ],
            "type": "heatmap"
           }
          ],
          "heatmapgl": [
           {
            "colorbar": {
             "outlinewidth": 0,
             "ticks": ""
            },
            "colorscale": [
             [
              0,
              "#0d0887"
             ],
             [
              0.1111111111111111,
              "#46039f"
             ],
             [
              0.2222222222222222,
              "#7201a8"
             ],
             [
              0.3333333333333333,
              "#9c179e"
             ],
             [
              0.4444444444444444,
              "#bd3786"
             ],
             [
              0.5555555555555556,
              "#d8576b"
             ],
             [
              0.6666666666666666,
              "#ed7953"
             ],
             [
              0.7777777777777778,
              "#fb9f3a"
             ],
             [
              0.8888888888888888,
              "#fdca26"
             ],
             [
              1,
              "#f0f921"
             ]
            ],
            "type": "heatmapgl"
           }
          ],
          "histogram": [
           {
            "marker": {
             "pattern": {
              "fillmode": "overlay",
              "size": 10,
              "solidity": 0.2
             }
            },
            "type": "histogram"
           }
          ],
          "histogram2d": [
           {
            "colorbar": {
             "outlinewidth": 0,
             "ticks": ""
            },
            "colorscale": [
             [
              0,
              "#0d0887"
             ],
             [
              0.1111111111111111,
              "#46039f"
             ],
             [
              0.2222222222222222,
              "#7201a8"
             ],
             [
              0.3333333333333333,
              "#9c179e"
             ],
             [
              0.4444444444444444,
              "#bd3786"
             ],
             [
              0.5555555555555556,
              "#d8576b"
             ],
             [
              0.6666666666666666,
              "#ed7953"
             ],
             [
              0.7777777777777778,
              "#fb9f3a"
             ],
             [
              0.8888888888888888,
              "#fdca26"
             ],
             [
              1,
              "#f0f921"
             ]
            ],
            "type": "histogram2d"
           }
          ],
          "histogram2dcontour": [
           {
            "colorbar": {
             "outlinewidth": 0,
             "ticks": ""
            },
            "colorscale": [
             [
              0,
              "#0d0887"
             ],
             [
              0.1111111111111111,
              "#46039f"
             ],
             [
              0.2222222222222222,
              "#7201a8"
             ],
             [
              0.3333333333333333,
              "#9c179e"
             ],
             [
              0.4444444444444444,
              "#bd3786"
             ],
             [
              0.5555555555555556,
              "#d8576b"
             ],
             [
              0.6666666666666666,
              "#ed7953"
             ],
             [
              0.7777777777777778,
              "#fb9f3a"
             ],
             [
              0.8888888888888888,
              "#fdca26"
             ],
             [
              1,
              "#f0f921"
             ]
            ],
            "type": "histogram2dcontour"
           }
          ],
          "mesh3d": [
           {
            "colorbar": {
             "outlinewidth": 0,
             "ticks": ""
            },
            "type": "mesh3d"
           }
          ],
          "parcoords": [
           {
            "line": {
             "colorbar": {
              "outlinewidth": 0,
              "ticks": ""
             }
            },
            "type": "parcoords"
           }
          ],
          "pie": [
           {
            "automargin": true,
            "type": "pie"
           }
          ],
          "scatter": [
           {
            "fillpattern": {
             "fillmode": "overlay",
             "size": 10,
             "solidity": 0.2
            },
            "type": "scatter"
           }
          ],
          "scatter3d": [
           {
            "line": {
             "colorbar": {
              "outlinewidth": 0,
              "ticks": ""
             }
            },
            "marker": {
             "colorbar": {
              "outlinewidth": 0,
              "ticks": ""
             }
            },
            "type": "scatter3d"
           }
          ],
          "scattercarpet": [
           {
            "marker": {
             "colorbar": {
              "outlinewidth": 0,
              "ticks": ""
             }
            },
            "type": "scattercarpet"
           }
          ],
          "scattergeo": [
           {
            "marker": {
             "colorbar": {
              "outlinewidth": 0,
              "ticks": ""
             }
            },
            "type": "scattergeo"
           }
          ],
          "scattergl": [
           {
            "marker": {
             "colorbar": {
              "outlinewidth": 0,
              "ticks": ""
             }
            },
            "type": "scattergl"
           }
          ],
          "scattermapbox": [
           {
            "marker": {
             "colorbar": {
              "outlinewidth": 0,
              "ticks": ""
             }
            },
            "type": "scattermapbox"
           }
          ],
          "scatterpolar": [
           {
            "marker": {
             "colorbar": {
              "outlinewidth": 0,
              "ticks": ""
             }
            },
            "type": "scatterpolar"
           }
          ],
          "scatterpolargl": [
           {
            "marker": {
             "colorbar": {
              "outlinewidth": 0,
              "ticks": ""
             }
            },
            "type": "scatterpolargl"
           }
          ],
          "scatterternary": [
           {
            "marker": {
             "colorbar": {
              "outlinewidth": 0,
              "ticks": ""
             }
            },
            "type": "scatterternary"
           }
          ],
          "surface": [
           {
            "colorbar": {
             "outlinewidth": 0,
             "ticks": ""
            },
            "colorscale": [
             [
              0,
              "#0d0887"
             ],
             [
              0.1111111111111111,
              "#46039f"
             ],
             [
              0.2222222222222222,
              "#7201a8"
             ],
             [
              0.3333333333333333,
              "#9c179e"
             ],
             [
              0.4444444444444444,
              "#bd3786"
             ],
             [
              0.5555555555555556,
              "#d8576b"
             ],
             [
              0.6666666666666666,
              "#ed7953"
             ],
             [
              0.7777777777777778,
              "#fb9f3a"
             ],
             [
              0.8888888888888888,
              "#fdca26"
             ],
             [
              1,
              "#f0f921"
             ]
            ],
            "type": "surface"
           }
          ],
          "table": [
           {
            "cells": {
             "fill": {
              "color": "#EBF0F8"
             },
             "line": {
              "color": "white"
             }
            },
            "header": {
             "fill": {
              "color": "#C8D4E3"
             },
             "line": {
              "color": "white"
             }
            },
            "type": "table"
           }
          ]
         },
         "layout": {
          "annotationdefaults": {
           "arrowcolor": "#2a3f5f",
           "arrowhead": 0,
           "arrowwidth": 1
          },
          "autotypenumbers": "strict",
          "coloraxis": {
           "colorbar": {
            "outlinewidth": 0,
            "ticks": ""
           }
          },
          "colorscale": {
           "diverging": [
            [
             0,
             "#8e0152"
            ],
            [
             0.1,
             "#c51b7d"
            ],
            [
             0.2,
             "#de77ae"
            ],
            [
             0.3,
             "#f1b6da"
            ],
            [
             0.4,
             "#fde0ef"
            ],
            [
             0.5,
             "#f7f7f7"
            ],
            [
             0.6,
             "#e6f5d0"
            ],
            [
             0.7,
             "#b8e186"
            ],
            [
             0.8,
             "#7fbc41"
            ],
            [
             0.9,
             "#4d9221"
            ],
            [
             1,
             "#276419"
            ]
           ],
           "sequential": [
            [
             0,
             "#0d0887"
            ],
            [
             0.1111111111111111,
             "#46039f"
            ],
            [
             0.2222222222222222,
             "#7201a8"
            ],
            [
             0.3333333333333333,
             "#9c179e"
            ],
            [
             0.4444444444444444,
             "#bd3786"
            ],
            [
             0.5555555555555556,
             "#d8576b"
            ],
            [
             0.6666666666666666,
             "#ed7953"
            ],
            [
             0.7777777777777778,
             "#fb9f3a"
            ],
            [
             0.8888888888888888,
             "#fdca26"
            ],
            [
             1,
             "#f0f921"
            ]
           ],
           "sequentialminus": [
            [
             0,
             "#0d0887"
            ],
            [
             0.1111111111111111,
             "#46039f"
            ],
            [
             0.2222222222222222,
             "#7201a8"
            ],
            [
             0.3333333333333333,
             "#9c179e"
            ],
            [
             0.4444444444444444,
             "#bd3786"
            ],
            [
             0.5555555555555556,
             "#d8576b"
            ],
            [
             0.6666666666666666,
             "#ed7953"
            ],
            [
             0.7777777777777778,
             "#fb9f3a"
            ],
            [
             0.8888888888888888,
             "#fdca26"
            ],
            [
             1,
             "#f0f921"
            ]
           ]
          },
          "colorway": [
           "#636efa",
           "#EF553B",
           "#00cc96",
           "#ab63fa",
           "#FFA15A",
           "#19d3f3",
           "#FF6692",
           "#B6E880",
           "#FF97FF",
           "#FECB52"
          ],
          "font": {
           "color": "#2a3f5f"
          },
          "geo": {
           "bgcolor": "white",
           "lakecolor": "white",
           "landcolor": "#E5ECF6",
           "showlakes": true,
           "showland": true,
           "subunitcolor": "white"
          },
          "hoverlabel": {
           "align": "left"
          },
          "hovermode": "closest",
          "mapbox": {
           "style": "light"
          },
          "paper_bgcolor": "white",
          "plot_bgcolor": "#E5ECF6",
          "polar": {
           "angularaxis": {
            "gridcolor": "white",
            "linecolor": "white",
            "ticks": ""
           },
           "bgcolor": "#E5ECF6",
           "radialaxis": {
            "gridcolor": "white",
            "linecolor": "white",
            "ticks": ""
           }
          },
          "scene": {
           "xaxis": {
            "backgroundcolor": "#E5ECF6",
            "gridcolor": "white",
            "gridwidth": 2,
            "linecolor": "white",
            "showbackground": true,
            "ticks": "",
            "zerolinecolor": "white"
           },
           "yaxis": {
            "backgroundcolor": "#E5ECF6",
            "gridcolor": "white",
            "gridwidth": 2,
            "linecolor": "white",
            "showbackground": true,
            "ticks": "",
            "zerolinecolor": "white"
           },
           "zaxis": {
            "backgroundcolor": "#E5ECF6",
            "gridcolor": "white",
            "gridwidth": 2,
            "linecolor": "white",
            "showbackground": true,
            "ticks": "",
            "zerolinecolor": "white"
           }
          },
          "shapedefaults": {
           "line": {
            "color": "#2a3f5f"
           }
          },
          "ternary": {
           "aaxis": {
            "gridcolor": "white",
            "linecolor": "white",
            "ticks": ""
           },
           "baxis": {
            "gridcolor": "white",
            "linecolor": "white",
            "ticks": ""
           },
           "bgcolor": "#E5ECF6",
           "caxis": {
            "gridcolor": "white",
            "linecolor": "white",
            "ticks": ""
           }
          },
          "title": {
           "x": 0.05
          },
          "xaxis": {
           "automargin": true,
           "gridcolor": "white",
           "linecolor": "white",
           "ticks": "",
           "title": {
            "standoff": 15
           },
           "zerolinecolor": "white",
           "zerolinewidth": 2
          },
          "yaxis": {
           "automargin": true,
           "gridcolor": "white",
           "linecolor": "white",
           "ticks": "",
           "title": {
            "standoff": 15
           },
           "zerolinecolor": "white",
           "zerolinewidth": 2
          }
         }
        },
        "title": {
         "text": "Parallel Coordinate Plot"
        }
       }
      }
     },
     "metadata": {},
     "output_type": "display_data"
    }
   ],
   "source": [
    "trainer.plot_parallel_coordinate()"
   ]
  },
  {
   "cell_type": "code",
   "execution_count": 14,
   "metadata": {},
   "outputs": [
    {
     "data": {
      "application/vnd.plotly.v1+json": {
       "config": {
        "plotlyServerURL": "https://plot.ly"
       },
       "data": [
        {
         "cliponaxis": false,
         "hovertemplate": [
          "hidden_size (IntDistribution): 0.06853798984496931<extra></extra>",
          "num_epochs (IntDistribution): 0.0848506523831212<extra></extra>",
          "num_layers (IntDistribution): 0.1234659267797084<extra></extra>",
          "optimizer (CategoricalDistribution): 0.12793625542792705<extra></extra>",
          "learning_rate (FloatDistribution): 0.2663477771576517<extra></extra>",
          "batch_size (IntDistribution): 0.32886139840662226<extra></extra>"
         ],
         "name": "Objective Value",
         "orientation": "h",
         "text": [
          "0.07",
          "0.08",
          "0.12",
          "0.13",
          "0.27",
          "0.33"
         ],
         "textposition": "outside",
         "type": "bar",
         "x": [
          0.06853798984496931,
          0.0848506523831212,
          0.1234659267797084,
          0.12793625542792705,
          0.2663477771576517,
          0.32886139840662226
         ],
         "y": [
          "hidden_size",
          "num_epochs",
          "num_layers",
          "optimizer",
          "learning_rate",
          "batch_size"
         ]
        }
       ],
       "layout": {
        "template": {
         "data": {
          "bar": [
           {
            "error_x": {
             "color": "#2a3f5f"
            },
            "error_y": {
             "color": "#2a3f5f"
            },
            "marker": {
             "line": {
              "color": "#E5ECF6",
              "width": 0.5
             },
             "pattern": {
              "fillmode": "overlay",
              "size": 10,
              "solidity": 0.2
             }
            },
            "type": "bar"
           }
          ],
          "barpolar": [
           {
            "marker": {
             "line": {
              "color": "#E5ECF6",
              "width": 0.5
             },
             "pattern": {
              "fillmode": "overlay",
              "size": 10,
              "solidity": 0.2
             }
            },
            "type": "barpolar"
           }
          ],
          "carpet": [
           {
            "aaxis": {
             "endlinecolor": "#2a3f5f",
             "gridcolor": "white",
             "linecolor": "white",
             "minorgridcolor": "white",
             "startlinecolor": "#2a3f5f"
            },
            "baxis": {
             "endlinecolor": "#2a3f5f",
             "gridcolor": "white",
             "linecolor": "white",
             "minorgridcolor": "white",
             "startlinecolor": "#2a3f5f"
            },
            "type": "carpet"
           }
          ],
          "choropleth": [
           {
            "colorbar": {
             "outlinewidth": 0,
             "ticks": ""
            },
            "type": "choropleth"
           }
          ],
          "contour": [
           {
            "colorbar": {
             "outlinewidth": 0,
             "ticks": ""
            },
            "colorscale": [
             [
              0,
              "#0d0887"
             ],
             [
              0.1111111111111111,
              "#46039f"
             ],
             [
              0.2222222222222222,
              "#7201a8"
             ],
             [
              0.3333333333333333,
              "#9c179e"
             ],
             [
              0.4444444444444444,
              "#bd3786"
             ],
             [
              0.5555555555555556,
              "#d8576b"
             ],
             [
              0.6666666666666666,
              "#ed7953"
             ],
             [
              0.7777777777777778,
              "#fb9f3a"
             ],
             [
              0.8888888888888888,
              "#fdca26"
             ],
             [
              1,
              "#f0f921"
             ]
            ],
            "type": "contour"
           }
          ],
          "contourcarpet": [
           {
            "colorbar": {
             "outlinewidth": 0,
             "ticks": ""
            },
            "type": "contourcarpet"
           }
          ],
          "heatmap": [
           {
            "colorbar": {
             "outlinewidth": 0,
             "ticks": ""
            },
            "colorscale": [
             [
              0,
              "#0d0887"
             ],
             [
              0.1111111111111111,
              "#46039f"
             ],
             [
              0.2222222222222222,
              "#7201a8"
             ],
             [
              0.3333333333333333,
              "#9c179e"
             ],
             [
              0.4444444444444444,
              "#bd3786"
             ],
             [
              0.5555555555555556,
              "#d8576b"
             ],
             [
              0.6666666666666666,
              "#ed7953"
             ],
             [
              0.7777777777777778,
              "#fb9f3a"
             ],
             [
              0.8888888888888888,
              "#fdca26"
             ],
             [
              1,
              "#f0f921"
             ]
            ],
            "type": "heatmap"
           }
          ],
          "heatmapgl": [
           {
            "colorbar": {
             "outlinewidth": 0,
             "ticks": ""
            },
            "colorscale": [
             [
              0,
              "#0d0887"
             ],
             [
              0.1111111111111111,
              "#46039f"
             ],
             [
              0.2222222222222222,
              "#7201a8"
             ],
             [
              0.3333333333333333,
              "#9c179e"
             ],
             [
              0.4444444444444444,
              "#bd3786"
             ],
             [
              0.5555555555555556,
              "#d8576b"
             ],
             [
              0.6666666666666666,
              "#ed7953"
             ],
             [
              0.7777777777777778,
              "#fb9f3a"
             ],
             [
              0.8888888888888888,
              "#fdca26"
             ],
             [
              1,
              "#f0f921"
             ]
            ],
            "type": "heatmapgl"
           }
          ],
          "histogram": [
           {
            "marker": {
             "pattern": {
              "fillmode": "overlay",
              "size": 10,
              "solidity": 0.2
             }
            },
            "type": "histogram"
           }
          ],
          "histogram2d": [
           {
            "colorbar": {
             "outlinewidth": 0,
             "ticks": ""
            },
            "colorscale": [
             [
              0,
              "#0d0887"
             ],
             [
              0.1111111111111111,
              "#46039f"
             ],
             [
              0.2222222222222222,
              "#7201a8"
             ],
             [
              0.3333333333333333,
              "#9c179e"
             ],
             [
              0.4444444444444444,
              "#bd3786"
             ],
             [
              0.5555555555555556,
              "#d8576b"
             ],
             [
              0.6666666666666666,
              "#ed7953"
             ],
             [
              0.7777777777777778,
              "#fb9f3a"
             ],
             [
              0.8888888888888888,
              "#fdca26"
             ],
             [
              1,
              "#f0f921"
             ]
            ],
            "type": "histogram2d"
           }
          ],
          "histogram2dcontour": [
           {
            "colorbar": {
             "outlinewidth": 0,
             "ticks": ""
            },
            "colorscale": [
             [
              0,
              "#0d0887"
             ],
             [
              0.1111111111111111,
              "#46039f"
             ],
             [
              0.2222222222222222,
              "#7201a8"
             ],
             [
              0.3333333333333333,
              "#9c179e"
             ],
             [
              0.4444444444444444,
              "#bd3786"
             ],
             [
              0.5555555555555556,
              "#d8576b"
             ],
             [
              0.6666666666666666,
              "#ed7953"
             ],
             [
              0.7777777777777778,
              "#fb9f3a"
             ],
             [
              0.8888888888888888,
              "#fdca26"
             ],
             [
              1,
              "#f0f921"
             ]
            ],
            "type": "histogram2dcontour"
           }
          ],
          "mesh3d": [
           {
            "colorbar": {
             "outlinewidth": 0,
             "ticks": ""
            },
            "type": "mesh3d"
           }
          ],
          "parcoords": [
           {
            "line": {
             "colorbar": {
              "outlinewidth": 0,
              "ticks": ""
             }
            },
            "type": "parcoords"
           }
          ],
          "pie": [
           {
            "automargin": true,
            "type": "pie"
           }
          ],
          "scatter": [
           {
            "fillpattern": {
             "fillmode": "overlay",
             "size": 10,
             "solidity": 0.2
            },
            "type": "scatter"
           }
          ],
          "scatter3d": [
           {
            "line": {
             "colorbar": {
              "outlinewidth": 0,
              "ticks": ""
             }
            },
            "marker": {
             "colorbar": {
              "outlinewidth": 0,
              "ticks": ""
             }
            },
            "type": "scatter3d"
           }
          ],
          "scattercarpet": [
           {
            "marker": {
             "colorbar": {
              "outlinewidth": 0,
              "ticks": ""
             }
            },
            "type": "scattercarpet"
           }
          ],
          "scattergeo": [
           {
            "marker": {
             "colorbar": {
              "outlinewidth": 0,
              "ticks": ""
             }
            },
            "type": "scattergeo"
           }
          ],
          "scattergl": [
           {
            "marker": {
             "colorbar": {
              "outlinewidth": 0,
              "ticks": ""
             }
            },
            "type": "scattergl"
           }
          ],
          "scattermapbox": [
           {
            "marker": {
             "colorbar": {
              "outlinewidth": 0,
              "ticks": ""
             }
            },
            "type": "scattermapbox"
           }
          ],
          "scatterpolar": [
           {
            "marker": {
             "colorbar": {
              "outlinewidth": 0,
              "ticks": ""
             }
            },
            "type": "scatterpolar"
           }
          ],
          "scatterpolargl": [
           {
            "marker": {
             "colorbar": {
              "outlinewidth": 0,
              "ticks": ""
             }
            },
            "type": "scatterpolargl"
           }
          ],
          "scatterternary": [
           {
            "marker": {
             "colorbar": {
              "outlinewidth": 0,
              "ticks": ""
             }
            },
            "type": "scatterternary"
           }
          ],
          "surface": [
           {
            "colorbar": {
             "outlinewidth": 0,
             "ticks": ""
            },
            "colorscale": [
             [
              0,
              "#0d0887"
             ],
             [
              0.1111111111111111,
              "#46039f"
             ],
             [
              0.2222222222222222,
              "#7201a8"
             ],
             [
              0.3333333333333333,
              "#9c179e"
             ],
             [
              0.4444444444444444,
              "#bd3786"
             ],
             [
              0.5555555555555556,
              "#d8576b"
             ],
             [
              0.6666666666666666,
              "#ed7953"
             ],
             [
              0.7777777777777778,
              "#fb9f3a"
             ],
             [
              0.8888888888888888,
              "#fdca26"
             ],
             [
              1,
              "#f0f921"
             ]
            ],
            "type": "surface"
           }
          ],
          "table": [
           {
            "cells": {
             "fill": {
              "color": "#EBF0F8"
             },
             "line": {
              "color": "white"
             }
            },
            "header": {
             "fill": {
              "color": "#C8D4E3"
             },
             "line": {
              "color": "white"
             }
            },
            "type": "table"
           }
          ]
         },
         "layout": {
          "annotationdefaults": {
           "arrowcolor": "#2a3f5f",
           "arrowhead": 0,
           "arrowwidth": 1
          },
          "autotypenumbers": "strict",
          "coloraxis": {
           "colorbar": {
            "outlinewidth": 0,
            "ticks": ""
           }
          },
          "colorscale": {
           "diverging": [
            [
             0,
             "#8e0152"
            ],
            [
             0.1,
             "#c51b7d"
            ],
            [
             0.2,
             "#de77ae"
            ],
            [
             0.3,
             "#f1b6da"
            ],
            [
             0.4,
             "#fde0ef"
            ],
            [
             0.5,
             "#f7f7f7"
            ],
            [
             0.6,
             "#e6f5d0"
            ],
            [
             0.7,
             "#b8e186"
            ],
            [
             0.8,
             "#7fbc41"
            ],
            [
             0.9,
             "#4d9221"
            ],
            [
             1,
             "#276419"
            ]
           ],
           "sequential": [
            [
             0,
             "#0d0887"
            ],
            [
             0.1111111111111111,
             "#46039f"
            ],
            [
             0.2222222222222222,
             "#7201a8"
            ],
            [
             0.3333333333333333,
             "#9c179e"
            ],
            [
             0.4444444444444444,
             "#bd3786"
            ],
            [
             0.5555555555555556,
             "#d8576b"
            ],
            [
             0.6666666666666666,
             "#ed7953"
            ],
            [
             0.7777777777777778,
             "#fb9f3a"
            ],
            [
             0.8888888888888888,
             "#fdca26"
            ],
            [
             1,
             "#f0f921"
            ]
           ],
           "sequentialminus": [
            [
             0,
             "#0d0887"
            ],
            [
             0.1111111111111111,
             "#46039f"
            ],
            [
             0.2222222222222222,
             "#7201a8"
            ],
            [
             0.3333333333333333,
             "#9c179e"
            ],
            [
             0.4444444444444444,
             "#bd3786"
            ],
            [
             0.5555555555555556,
             "#d8576b"
            ],
            [
             0.6666666666666666,
             "#ed7953"
            ],
            [
             0.7777777777777778,
             "#fb9f3a"
            ],
            [
             0.8888888888888888,
             "#fdca26"
            ],
            [
             1,
             "#f0f921"
            ]
           ]
          },
          "colorway": [
           "#636efa",
           "#EF553B",
           "#00cc96",
           "#ab63fa",
           "#FFA15A",
           "#19d3f3",
           "#FF6692",
           "#B6E880",
           "#FF97FF",
           "#FECB52"
          ],
          "font": {
           "color": "#2a3f5f"
          },
          "geo": {
           "bgcolor": "white",
           "lakecolor": "white",
           "landcolor": "#E5ECF6",
           "showlakes": true,
           "showland": true,
           "subunitcolor": "white"
          },
          "hoverlabel": {
           "align": "left"
          },
          "hovermode": "closest",
          "mapbox": {
           "style": "light"
          },
          "paper_bgcolor": "white",
          "plot_bgcolor": "#E5ECF6",
          "polar": {
           "angularaxis": {
            "gridcolor": "white",
            "linecolor": "white",
            "ticks": ""
           },
           "bgcolor": "#E5ECF6",
           "radialaxis": {
            "gridcolor": "white",
            "linecolor": "white",
            "ticks": ""
           }
          },
          "scene": {
           "xaxis": {
            "backgroundcolor": "#E5ECF6",
            "gridcolor": "white",
            "gridwidth": 2,
            "linecolor": "white",
            "showbackground": true,
            "ticks": "",
            "zerolinecolor": "white"
           },
           "yaxis": {
            "backgroundcolor": "#E5ECF6",
            "gridcolor": "white",
            "gridwidth": 2,
            "linecolor": "white",
            "showbackground": true,
            "ticks": "",
            "zerolinecolor": "white"
           },
           "zaxis": {
            "backgroundcolor": "#E5ECF6",
            "gridcolor": "white",
            "gridwidth": 2,
            "linecolor": "white",
            "showbackground": true,
            "ticks": "",
            "zerolinecolor": "white"
           }
          },
          "shapedefaults": {
           "line": {
            "color": "#2a3f5f"
           }
          },
          "ternary": {
           "aaxis": {
            "gridcolor": "white",
            "linecolor": "white",
            "ticks": ""
           },
           "baxis": {
            "gridcolor": "white",
            "linecolor": "white",
            "ticks": ""
           },
           "bgcolor": "#E5ECF6",
           "caxis": {
            "gridcolor": "white",
            "linecolor": "white",
            "ticks": ""
           }
          },
          "title": {
           "x": 0.05
          },
          "xaxis": {
           "automargin": true,
           "gridcolor": "white",
           "linecolor": "white",
           "ticks": "",
           "title": {
            "standoff": 15
           },
           "zerolinecolor": "white",
           "zerolinewidth": 2
          },
          "yaxis": {
           "automargin": true,
           "gridcolor": "white",
           "linecolor": "white",
           "ticks": "",
           "title": {
            "standoff": 15
           },
           "zerolinecolor": "white",
           "zerolinewidth": 2
          }
         }
        },
        "title": {
         "text": "Hyperparameter Importances"
        },
        "xaxis": {
         "title": {
          "text": "Hyperparameter Importance"
         }
        },
        "yaxis": {
         "title": {
          "text": "Hyperparameter"
         }
        }
       }
      }
     },
     "metadata": {},
     "output_type": "display_data"
    }
   ],
   "source": [
    "trainer.plot_param_importances()"
   ]
  },
  {
   "cell_type": "code",
   "execution_count": 15,
   "metadata": {},
   "outputs": [
    {
     "data": {
      "application/vnd.plotly.v1+json": {
       "config": {
        "plotlyServerURL": "https://plot.ly"
       },
       "data": [
        {
         "marker": {
          "color": [
           0,
           1,
           2,
           3,
           4,
           8,
           14,
           18,
           20,
           27,
           31,
           69,
           72,
           77,
           78,
           79,
           80,
           81,
           82,
           89,
           94,
           96,
           97,
           102,
           104,
           108,
           112,
           115,
           121,
           124,
           129,
           131,
           142,
           162,
           172,
           181,
           196,
           197,
           202,
           204,
           212,
           221,
           230,
           231,
           233,
           237,
           282,
           286,
           294
          ],
          "colorbar": {
           "title": {
            "text": "Trial"
           },
           "x": 1,
           "xpad": 40
          },
          "colorscale": [
           [
            0,
            "rgb(247,251,255)"
           ],
           [
            0.125,
            "rgb(222,235,247)"
           ],
           [
            0.25,
            "rgb(198,219,239)"
           ],
           [
            0.375,
            "rgb(158,202,225)"
           ],
           [
            0.5,
            "rgb(107,174,214)"
           ],
           [
            0.625,
            "rgb(66,146,198)"
           ],
           [
            0.75,
            "rgb(33,113,181)"
           ],
           [
            0.875,
            "rgb(8,81,156)"
           ],
           [
            1,
            "rgb(8,48,107)"
           ]
          ],
          "line": {
           "color": "Grey",
           "width": 0.5
          },
          "showscale": true
         },
         "mode": "markers",
         "name": "Feasible Trial",
         "showlegend": false,
         "type": "scatter",
         "x": [
          56,
          33,
          61,
          60,
          27,
          25,
          48,
          26,
          50,
          29,
          48,
          75,
          53,
          45,
          37,
          38,
          38,
          40,
          38,
          35,
          37,
          43,
          46,
          41,
          40,
          39,
          36,
          34,
          37,
          34,
          34,
          36,
          38,
          42,
          46,
          45,
          24,
          25,
          28,
          22,
          40,
          45,
          35,
          35,
          34,
          32,
          36,
          27,
          28
         ],
         "xaxis": "x",
         "y": [
          0.6918722735196724,
          0.7452247495600096,
          0.730410004253935,
          0.7416579085654232,
          0.7346451717839002,
          0.7649987696953015,
          0.7424680329304607,
          0.7674536446212746,
          0.7440257237945098,
          0.743783833379209,
          0.5004816955684008,
          0.7479793809273577,
          0.7519069722826948,
          0.7630031737690698,
          0.7734060255736557,
          0.7660346236935831,
          0.7673154960004671,
          0.7743553411906013,
          0.7566947342958904,
          0.7676381903260515,
          0.7677679978980558,
          0.7658010743270859,
          0.7520268748592449,
          0.7653704676826065,
          0.7456449298934847,
          0.7691348872707254,
          0.7618291711499803,
          0.7673353059913754,
          0.7758963499570436,
          0.7685369383346262,
          0.7663349014505083,
          0.7560628998490271,
          0.7666946091801583,
          0.771983876752663,
          0.7772773148495692,
          0.7602198700464596,
          0.7666143265854248,
          0.7638742920534828,
          0.7620142381703076,
          0.7747286031245568,
          0.77269703642536,
          0.762802467282236,
          0.7630589545329429,
          0.7602761721258832,
          0.7543811358840262,
          0.6952681230137878,
          0.721173335335185,
          0.7660883191952557,
          0.7676924071432742
         ],
         "yaxis": "y"
        },
        {
         "marker": {
          "color": [
           0,
           1,
           2,
           3,
           4,
           8,
           14,
           18,
           20,
           27,
           31,
           69,
           72,
           77,
           78,
           79,
           80,
           81,
           82,
           89,
           94,
           96,
           97,
           102,
           104,
           108,
           112,
           115,
           121,
           124,
           129,
           131,
           142,
           162,
           172,
           181,
           196,
           197,
           202,
           204,
           212,
           221,
           230,
           231,
           233,
           237,
           282,
           286,
           294
          ],
          "colorbar": {
           "title": {
            "text": "Trial"
           },
           "x": 1,
           "xpad": 40
          },
          "colorscale": [
           [
            0,
            "rgb(247,251,255)"
           ],
           [
            0.125,
            "rgb(222,235,247)"
           ],
           [
            0.25,
            "rgb(198,219,239)"
           ],
           [
            0.375,
            "rgb(158,202,225)"
           ],
           [
            0.5,
            "rgb(107,174,214)"
           ],
           [
            0.625,
            "rgb(66,146,198)"
           ],
           [
            0.75,
            "rgb(33,113,181)"
           ],
           [
            0.875,
            "rgb(8,81,156)"
           ],
           [
            1,
            "rgb(8,48,107)"
           ]
          ],
          "line": {
           "color": "Grey",
           "width": 0.5
          },
          "showscale": false
         },
         "mode": "markers",
         "name": "Feasible Trial",
         "showlegend": false,
         "type": "scatter",
         "x": [
          0.00047312448952326833,
          0.0008004760715824396,
          0.00021522680800772535,
          0.0002298314849627227,
          0.006074947399197594,
          0.00641453151394156,
          0.0011943572160407663,
          0.0042155860200579,
          0.021856383510818346,
          0.0011187495508619507,
          0.020055781876947308,
          0.0023730533597651295,
          0.0016141673499724242,
          0.0019154914791345379,
          0.001971222256709902,
          0.0020596413901968294,
          0.0024023765400756655,
          0.00218070058621677,
          0.002209003329992189,
          0.0017954878605008614,
          0.0009404165927333984,
          0.0008889915588697047,
          0.0009639085971986638,
          0.0023100623473611896,
          0.002972682563145739,
          0.0007096899854163061,
          0.002459619942694757,
          0.0015767827216727173,
          0.0017256905877667918,
          0.0010950434566287459,
          0.0012782616376688588,
          0.002108988779156845,
          0.002498908225898995,
          0.001500452243285654,
          0.0019940796634093597,
          0.001738964559127614,
          0.0019563058660925924,
          0.0019421814613711117,
          0.002188145322289701,
          0.0017884903222521974,
          0.001835659482256073,
          0.0019048793410816924,
          0.0014524552893033695,
          0.0015084419687297589,
          0.0013135004810483706,
          0.001499491673750259,
          0.0022908526660053307,
          0.003421565915015113,
          0.0020178665783214104
         ],
         "xaxis": "x2",
         "y": [
          0.6918722735196724,
          0.7452247495600096,
          0.730410004253935,
          0.7416579085654232,
          0.7346451717839002,
          0.7649987696953015,
          0.7424680329304607,
          0.7674536446212746,
          0.7440257237945098,
          0.743783833379209,
          0.5004816955684008,
          0.7479793809273577,
          0.7519069722826948,
          0.7630031737690698,
          0.7734060255736557,
          0.7660346236935831,
          0.7673154960004671,
          0.7743553411906013,
          0.7566947342958904,
          0.7676381903260515,
          0.7677679978980558,
          0.7658010743270859,
          0.7520268748592449,
          0.7653704676826065,
          0.7456449298934847,
          0.7691348872707254,
          0.7618291711499803,
          0.7673353059913754,
          0.7758963499570436,
          0.7685369383346262,
          0.7663349014505083,
          0.7560628998490271,
          0.7666946091801583,
          0.771983876752663,
          0.7772773148495692,
          0.7602198700464596,
          0.7666143265854248,
          0.7638742920534828,
          0.7620142381703076,
          0.7747286031245568,
          0.77269703642536,
          0.762802467282236,
          0.7630589545329429,
          0.7602761721258832,
          0.7543811358840262,
          0.6952681230137878,
          0.721173335335185,
          0.7660883191952557,
          0.7676924071432742
         ],
         "yaxis": "y2"
        },
        {
         "marker": {
          "color": [
           0,
           1,
           2,
           3,
           4,
           8,
           14,
           18,
           20,
           27,
           31,
           69,
           72,
           77,
           78,
           79,
           80,
           81,
           82,
           89,
           94,
           96,
           97,
           102,
           104,
           108,
           112,
           115,
           121,
           124,
           129,
           131,
           142,
           162,
           172,
           181,
           196,
           197,
           202,
           204,
           212,
           221,
           230,
           231,
           233,
           237,
           282,
           286,
           294
          ],
          "colorbar": {
           "title": {
            "text": "Trial"
           },
           "x": 1,
           "xpad": 40
          },
          "colorscale": [
           [
            0,
            "rgb(247,251,255)"
           ],
           [
            0.125,
            "rgb(222,235,247)"
           ],
           [
            0.25,
            "rgb(198,219,239)"
           ],
           [
            0.375,
            "rgb(158,202,225)"
           ],
           [
            0.5,
            "rgb(107,174,214)"
           ],
           [
            0.625,
            "rgb(66,146,198)"
           ],
           [
            0.75,
            "rgb(33,113,181)"
           ],
           [
            0.875,
            "rgb(8,81,156)"
           ],
           [
            1,
            "rgb(8,48,107)"
           ]
          ],
          "line": {
           "color": "Grey",
           "width": 0.5
          },
          "showscale": false
         },
         "mode": "markers",
         "name": "Feasible Trial",
         "showlegend": false,
         "type": "scatter",
         "x": [
          154,
          172,
          102,
          131,
          188,
          87,
          79,
          146,
          86,
          140,
          89,
          126,
          138,
          151,
          144,
          144,
          151,
          146,
          151,
          135,
          144,
          143,
          145,
          148,
          147,
          155,
          154,
          143,
          153,
          148,
          156,
          156,
          139,
          150,
          157,
          151,
          158,
          164,
          159,
          163,
          157,
          149,
          141,
          141,
          145,
          105,
          144,
          129,
          125
         ],
         "xaxis": "x3",
         "y": [
          0.6918722735196724,
          0.7452247495600096,
          0.730410004253935,
          0.7416579085654232,
          0.7346451717839002,
          0.7649987696953015,
          0.7424680329304607,
          0.7674536446212746,
          0.7440257237945098,
          0.743783833379209,
          0.5004816955684008,
          0.7479793809273577,
          0.7519069722826948,
          0.7630031737690698,
          0.7734060255736557,
          0.7660346236935831,
          0.7673154960004671,
          0.7743553411906013,
          0.7566947342958904,
          0.7676381903260515,
          0.7677679978980558,
          0.7658010743270859,
          0.7520268748592449,
          0.7653704676826065,
          0.7456449298934847,
          0.7691348872707254,
          0.7618291711499803,
          0.7673353059913754,
          0.7758963499570436,
          0.7685369383346262,
          0.7663349014505083,
          0.7560628998490271,
          0.7666946091801583,
          0.771983876752663,
          0.7772773148495692,
          0.7602198700464596,
          0.7666143265854248,
          0.7638742920534828,
          0.7620142381703076,
          0.7747286031245568,
          0.77269703642536,
          0.762802467282236,
          0.7630589545329429,
          0.7602761721258832,
          0.7543811358840262,
          0.6952681230137878,
          0.721173335335185,
          0.7660883191952557,
          0.7676924071432742
         ],
         "yaxis": "y3"
        },
        {
         "marker": {
          "color": [
           0,
           1,
           2,
           3,
           4,
           8,
           14,
           18,
           20,
           27,
           31,
           69,
           72,
           77,
           78,
           79,
           80,
           81,
           82,
           89,
           94,
           96,
           97,
           102,
           104,
           108,
           112,
           115,
           121,
           124,
           129,
           131,
           142,
           162,
           172,
           181,
           196,
           197,
           202,
           204,
           212,
           221,
           230,
           231,
           233,
           237,
           282,
           286,
           294
          ],
          "colorbar": {
           "title": {
            "text": "Trial"
           },
           "x": 1,
           "xpad": 40
          },
          "colorscale": [
           [
            0,
            "rgb(247,251,255)"
           ],
           [
            0.125,
            "rgb(222,235,247)"
           ],
           [
            0.25,
            "rgb(198,219,239)"
           ],
           [
            0.375,
            "rgb(158,202,225)"
           ],
           [
            0.5,
            "rgb(107,174,214)"
           ],
           [
            0.625,
            "rgb(66,146,198)"
           ],
           [
            0.75,
            "rgb(33,113,181)"
           ],
           [
            0.875,
            "rgb(8,81,156)"
           ],
           [
            1,
            "rgb(8,48,107)"
           ]
          ],
          "line": {
           "color": "Grey",
           "width": 0.5
          },
          "showscale": false
         },
         "mode": "markers",
         "name": "Feasible Trial",
         "showlegend": false,
         "type": "scatter",
         "x": [
          "SGD",
          "RMSprop",
          "SGD",
          "SGD",
          "SGD",
          "Adam",
          "RMSprop",
          "RMSprop",
          "Adam",
          "RMSprop",
          "Adam",
          "RMSprop",
          "RMSprop",
          "RMSprop",
          "RMSprop",
          "RMSprop",
          "RMSprop",
          "RMSprop",
          "RMSprop",
          "RMSprop",
          "RMSprop",
          "RMSprop",
          "RMSprop",
          "RMSprop",
          "RMSprop",
          "RMSprop",
          "RMSprop",
          "RMSprop",
          "RMSprop",
          "RMSprop",
          "RMSprop",
          "RMSprop",
          "RMSprop",
          "RMSprop",
          "RMSprop",
          "RMSprop",
          "RMSprop",
          "RMSprop",
          "RMSprop",
          "RMSprop",
          "RMSprop",
          "RMSprop",
          "RMSprop",
          "RMSprop",
          "RMSprop",
          "RMSprop",
          "RMSprop",
          "RMSprop",
          "RMSprop"
         ],
         "xaxis": "x4",
         "y": [
          0.6918722735196724,
          0.7452247495600096,
          0.730410004253935,
          0.7416579085654232,
          0.7346451717839002,
          0.7649987696953015,
          0.7424680329304607,
          0.7674536446212746,
          0.7440257237945098,
          0.743783833379209,
          0.5004816955684008,
          0.7479793809273577,
          0.7519069722826948,
          0.7630031737690698,
          0.7734060255736557,
          0.7660346236935831,
          0.7673154960004671,
          0.7743553411906013,
          0.7566947342958904,
          0.7676381903260515,
          0.7677679978980558,
          0.7658010743270859,
          0.7520268748592449,
          0.7653704676826065,
          0.7456449298934847,
          0.7691348872707254,
          0.7618291711499803,
          0.7673353059913754,
          0.7758963499570436,
          0.7685369383346262,
          0.7663349014505083,
          0.7560628998490271,
          0.7666946091801583,
          0.771983876752663,
          0.7772773148495692,
          0.7602198700464596,
          0.7666143265854248,
          0.7638742920534828,
          0.7620142381703076,
          0.7747286031245568,
          0.77269703642536,
          0.762802467282236,
          0.7630589545329429,
          0.7602761721258832,
          0.7543811358840262,
          0.6952681230137878,
          0.721173335335185,
          0.7660883191952557,
          0.7676924071432742
         ],
         "yaxis": "y4"
        }
       ],
       "layout": {
        "template": {
         "data": {
          "bar": [
           {
            "error_x": {
             "color": "#2a3f5f"
            },
            "error_y": {
             "color": "#2a3f5f"
            },
            "marker": {
             "line": {
              "color": "#E5ECF6",
              "width": 0.5
             },
             "pattern": {
              "fillmode": "overlay",
              "size": 10,
              "solidity": 0.2
             }
            },
            "type": "bar"
           }
          ],
          "barpolar": [
           {
            "marker": {
             "line": {
              "color": "#E5ECF6",
              "width": 0.5
             },
             "pattern": {
              "fillmode": "overlay",
              "size": 10,
              "solidity": 0.2
             }
            },
            "type": "barpolar"
           }
          ],
          "carpet": [
           {
            "aaxis": {
             "endlinecolor": "#2a3f5f",
             "gridcolor": "white",
             "linecolor": "white",
             "minorgridcolor": "white",
             "startlinecolor": "#2a3f5f"
            },
            "baxis": {
             "endlinecolor": "#2a3f5f",
             "gridcolor": "white",
             "linecolor": "white",
             "minorgridcolor": "white",
             "startlinecolor": "#2a3f5f"
            },
            "type": "carpet"
           }
          ],
          "choropleth": [
           {
            "colorbar": {
             "outlinewidth": 0,
             "ticks": ""
            },
            "type": "choropleth"
           }
          ],
          "contour": [
           {
            "colorbar": {
             "outlinewidth": 0,
             "ticks": ""
            },
            "colorscale": [
             [
              0,
              "#0d0887"
             ],
             [
              0.1111111111111111,
              "#46039f"
             ],
             [
              0.2222222222222222,
              "#7201a8"
             ],
             [
              0.3333333333333333,
              "#9c179e"
             ],
             [
              0.4444444444444444,
              "#bd3786"
             ],
             [
              0.5555555555555556,
              "#d8576b"
             ],
             [
              0.6666666666666666,
              "#ed7953"
             ],
             [
              0.7777777777777778,
              "#fb9f3a"
             ],
             [
              0.8888888888888888,
              "#fdca26"
             ],
             [
              1,
              "#f0f921"
             ]
            ],
            "type": "contour"
           }
          ],
          "contourcarpet": [
           {
            "colorbar": {
             "outlinewidth": 0,
             "ticks": ""
            },
            "type": "contourcarpet"
           }
          ],
          "heatmap": [
           {
            "colorbar": {
             "outlinewidth": 0,
             "ticks": ""
            },
            "colorscale": [
             [
              0,
              "#0d0887"
             ],
             [
              0.1111111111111111,
              "#46039f"
             ],
             [
              0.2222222222222222,
              "#7201a8"
             ],
             [
              0.3333333333333333,
              "#9c179e"
             ],
             [
              0.4444444444444444,
              "#bd3786"
             ],
             [
              0.5555555555555556,
              "#d8576b"
             ],
             [
              0.6666666666666666,
              "#ed7953"
             ],
             [
              0.7777777777777778,
              "#fb9f3a"
             ],
             [
              0.8888888888888888,
              "#fdca26"
             ],
             [
              1,
              "#f0f921"
             ]
            ],
            "type": "heatmap"
           }
          ],
          "heatmapgl": [
           {
            "colorbar": {
             "outlinewidth": 0,
             "ticks": ""
            },
            "colorscale": [
             [
              0,
              "#0d0887"
             ],
             [
              0.1111111111111111,
              "#46039f"
             ],
             [
              0.2222222222222222,
              "#7201a8"
             ],
             [
              0.3333333333333333,
              "#9c179e"
             ],
             [
              0.4444444444444444,
              "#bd3786"
             ],
             [
              0.5555555555555556,
              "#d8576b"
             ],
             [
              0.6666666666666666,
              "#ed7953"
             ],
             [
              0.7777777777777778,
              "#fb9f3a"
             ],
             [
              0.8888888888888888,
              "#fdca26"
             ],
             [
              1,
              "#f0f921"
             ]
            ],
            "type": "heatmapgl"
           }
          ],
          "histogram": [
           {
            "marker": {
             "pattern": {
              "fillmode": "overlay",
              "size": 10,
              "solidity": 0.2
             }
            },
            "type": "histogram"
           }
          ],
          "histogram2d": [
           {
            "colorbar": {
             "outlinewidth": 0,
             "ticks": ""
            },
            "colorscale": [
             [
              0,
              "#0d0887"
             ],
             [
              0.1111111111111111,
              "#46039f"
             ],
             [
              0.2222222222222222,
              "#7201a8"
             ],
             [
              0.3333333333333333,
              "#9c179e"
             ],
             [
              0.4444444444444444,
              "#bd3786"
             ],
             [
              0.5555555555555556,
              "#d8576b"
             ],
             [
              0.6666666666666666,
              "#ed7953"
             ],
             [
              0.7777777777777778,
              "#fb9f3a"
             ],
             [
              0.8888888888888888,
              "#fdca26"
             ],
             [
              1,
              "#f0f921"
             ]
            ],
            "type": "histogram2d"
           }
          ],
          "histogram2dcontour": [
           {
            "colorbar": {
             "outlinewidth": 0,
             "ticks": ""
            },
            "colorscale": [
             [
              0,
              "#0d0887"
             ],
             [
              0.1111111111111111,
              "#46039f"
             ],
             [
              0.2222222222222222,
              "#7201a8"
             ],
             [
              0.3333333333333333,
              "#9c179e"
             ],
             [
              0.4444444444444444,
              "#bd3786"
             ],
             [
              0.5555555555555556,
              "#d8576b"
             ],
             [
              0.6666666666666666,
              "#ed7953"
             ],
             [
              0.7777777777777778,
              "#fb9f3a"
             ],
             [
              0.8888888888888888,
              "#fdca26"
             ],
             [
              1,
              "#f0f921"
             ]
            ],
            "type": "histogram2dcontour"
           }
          ],
          "mesh3d": [
           {
            "colorbar": {
             "outlinewidth": 0,
             "ticks": ""
            },
            "type": "mesh3d"
           }
          ],
          "parcoords": [
           {
            "line": {
             "colorbar": {
              "outlinewidth": 0,
              "ticks": ""
             }
            },
            "type": "parcoords"
           }
          ],
          "pie": [
           {
            "automargin": true,
            "type": "pie"
           }
          ],
          "scatter": [
           {
            "fillpattern": {
             "fillmode": "overlay",
             "size": 10,
             "solidity": 0.2
            },
            "type": "scatter"
           }
          ],
          "scatter3d": [
           {
            "line": {
             "colorbar": {
              "outlinewidth": 0,
              "ticks": ""
             }
            },
            "marker": {
             "colorbar": {
              "outlinewidth": 0,
              "ticks": ""
             }
            },
            "type": "scatter3d"
           }
          ],
          "scattercarpet": [
           {
            "marker": {
             "colorbar": {
              "outlinewidth": 0,
              "ticks": ""
             }
            },
            "type": "scattercarpet"
           }
          ],
          "scattergeo": [
           {
            "marker": {
             "colorbar": {
              "outlinewidth": 0,
              "ticks": ""
             }
            },
            "type": "scattergeo"
           }
          ],
          "scattergl": [
           {
            "marker": {
             "colorbar": {
              "outlinewidth": 0,
              "ticks": ""
             }
            },
            "type": "scattergl"
           }
          ],
          "scattermapbox": [
           {
            "marker": {
             "colorbar": {
              "outlinewidth": 0,
              "ticks": ""
             }
            },
            "type": "scattermapbox"
           }
          ],
          "scatterpolar": [
           {
            "marker": {
             "colorbar": {
              "outlinewidth": 0,
              "ticks": ""
             }
            },
            "type": "scatterpolar"
           }
          ],
          "scatterpolargl": [
           {
            "marker": {
             "colorbar": {
              "outlinewidth": 0,
              "ticks": ""
             }
            },
            "type": "scatterpolargl"
           }
          ],
          "scatterternary": [
           {
            "marker": {
             "colorbar": {
              "outlinewidth": 0,
              "ticks": ""
             }
            },
            "type": "scatterternary"
           }
          ],
          "surface": [
           {
            "colorbar": {
             "outlinewidth": 0,
             "ticks": ""
            },
            "colorscale": [
             [
              0,
              "#0d0887"
             ],
             [
              0.1111111111111111,
              "#46039f"
             ],
             [
              0.2222222222222222,
              "#7201a8"
             ],
             [
              0.3333333333333333,
              "#9c179e"
             ],
             [
              0.4444444444444444,
              "#bd3786"
             ],
             [
              0.5555555555555556,
              "#d8576b"
             ],
             [
              0.6666666666666666,
              "#ed7953"
             ],
             [
              0.7777777777777778,
              "#fb9f3a"
             ],
             [
              0.8888888888888888,
              "#fdca26"
             ],
             [
              1,
              "#f0f921"
             ]
            ],
            "type": "surface"
           }
          ],
          "table": [
           {
            "cells": {
             "fill": {
              "color": "#EBF0F8"
             },
             "line": {
              "color": "white"
             }
            },
            "header": {
             "fill": {
              "color": "#C8D4E3"
             },
             "line": {
              "color": "white"
             }
            },
            "type": "table"
           }
          ]
         },
         "layout": {
          "annotationdefaults": {
           "arrowcolor": "#2a3f5f",
           "arrowhead": 0,
           "arrowwidth": 1
          },
          "autotypenumbers": "strict",
          "coloraxis": {
           "colorbar": {
            "outlinewidth": 0,
            "ticks": ""
           }
          },
          "colorscale": {
           "diverging": [
            [
             0,
             "#8e0152"
            ],
            [
             0.1,
             "#c51b7d"
            ],
            [
             0.2,
             "#de77ae"
            ],
            [
             0.3,
             "#f1b6da"
            ],
            [
             0.4,
             "#fde0ef"
            ],
            [
             0.5,
             "#f7f7f7"
            ],
            [
             0.6,
             "#e6f5d0"
            ],
            [
             0.7,
             "#b8e186"
            ],
            [
             0.8,
             "#7fbc41"
            ],
            [
             0.9,
             "#4d9221"
            ],
            [
             1,
             "#276419"
            ]
           ],
           "sequential": [
            [
             0,
             "#0d0887"
            ],
            [
             0.1111111111111111,
             "#46039f"
            ],
            [
             0.2222222222222222,
             "#7201a8"
            ],
            [
             0.3333333333333333,
             "#9c179e"
            ],
            [
             0.4444444444444444,
             "#bd3786"
            ],
            [
             0.5555555555555556,
             "#d8576b"
            ],
            [
             0.6666666666666666,
             "#ed7953"
            ],
            [
             0.7777777777777778,
             "#fb9f3a"
            ],
            [
             0.8888888888888888,
             "#fdca26"
            ],
            [
             1,
             "#f0f921"
            ]
           ],
           "sequentialminus": [
            [
             0,
             "#0d0887"
            ],
            [
             0.1111111111111111,
             "#46039f"
            ],
            [
             0.2222222222222222,
             "#7201a8"
            ],
            [
             0.3333333333333333,
             "#9c179e"
            ],
            [
             0.4444444444444444,
             "#bd3786"
            ],
            [
             0.5555555555555556,
             "#d8576b"
            ],
            [
             0.6666666666666666,
             "#ed7953"
            ],
            [
             0.7777777777777778,
             "#fb9f3a"
            ],
            [
             0.8888888888888888,
             "#fdca26"
            ],
            [
             1,
             "#f0f921"
            ]
           ]
          },
          "colorway": [
           "#636efa",
           "#EF553B",
           "#00cc96",
           "#ab63fa",
           "#FFA15A",
           "#19d3f3",
           "#FF6692",
           "#B6E880",
           "#FF97FF",
           "#FECB52"
          ],
          "font": {
           "color": "#2a3f5f"
          },
          "geo": {
           "bgcolor": "white",
           "lakecolor": "white",
           "landcolor": "#E5ECF6",
           "showlakes": true,
           "showland": true,
           "subunitcolor": "white"
          },
          "hoverlabel": {
           "align": "left"
          },
          "hovermode": "closest",
          "mapbox": {
           "style": "light"
          },
          "paper_bgcolor": "white",
          "plot_bgcolor": "#E5ECF6",
          "polar": {
           "angularaxis": {
            "gridcolor": "white",
            "linecolor": "white",
            "ticks": ""
           },
           "bgcolor": "#E5ECF6",
           "radialaxis": {
            "gridcolor": "white",
            "linecolor": "white",
            "ticks": ""
           }
          },
          "scene": {
           "xaxis": {
            "backgroundcolor": "#E5ECF6",
            "gridcolor": "white",
            "gridwidth": 2,
            "linecolor": "white",
            "showbackground": true,
            "ticks": "",
            "zerolinecolor": "white"
           },
           "yaxis": {
            "backgroundcolor": "#E5ECF6",
            "gridcolor": "white",
            "gridwidth": 2,
            "linecolor": "white",
            "showbackground": true,
            "ticks": "",
            "zerolinecolor": "white"
           },
           "zaxis": {
            "backgroundcolor": "#E5ECF6",
            "gridcolor": "white",
            "gridwidth": 2,
            "linecolor": "white",
            "showbackground": true,
            "ticks": "",
            "zerolinecolor": "white"
           }
          },
          "shapedefaults": {
           "line": {
            "color": "#2a3f5f"
           }
          },
          "ternary": {
           "aaxis": {
            "gridcolor": "white",
            "linecolor": "white",
            "ticks": ""
           },
           "baxis": {
            "gridcolor": "white",
            "linecolor": "white",
            "ticks": ""
           },
           "bgcolor": "#E5ECF6",
           "caxis": {
            "gridcolor": "white",
            "linecolor": "white",
            "ticks": ""
           }
          },
          "title": {
           "x": 0.05
          },
          "xaxis": {
           "automargin": true,
           "gridcolor": "white",
           "linecolor": "white",
           "ticks": "",
           "title": {
            "standoff": 15
           },
           "zerolinecolor": "white",
           "zerolinewidth": 2
          },
          "yaxis": {
           "automargin": true,
           "gridcolor": "white",
           "linecolor": "white",
           "ticks": "",
           "title": {
            "standoff": 15
           },
           "zerolinecolor": "white",
           "zerolinewidth": 2
          }
         }
        },
        "title": {
         "text": "Slice Plot"
        },
        "width": 1200,
        "xaxis": {
         "anchor": "y",
         "domain": [
          0,
          0.2125
         ],
         "title": {
          "text": "hidden_size"
         }
        },
        "xaxis2": {
         "anchor": "y2",
         "domain": [
          0.2625,
          0.475
         ],
         "title": {
          "text": "learning_rate"
         },
         "type": "log"
        },
        "xaxis3": {
         "anchor": "y3",
         "domain": [
          0.525,
          0.7375
         ],
         "title": {
          "text": "num_epochs"
         }
        },
        "xaxis4": {
         "anchor": "y4",
         "categoryarray": [
          "Adam",
          "SGD",
          "RMSprop"
         ],
         "categoryorder": "array",
         "domain": [
          0.7875,
          1
         ],
         "title": {
          "text": "optimizer"
         },
         "type": "category"
        },
        "yaxis": {
         "anchor": "x",
         "domain": [
          0,
          1
         ],
         "title": {
          "text": "Objective Value"
         }
        },
        "yaxis2": {
         "anchor": "x2",
         "domain": [
          0,
          1
         ],
         "matches": "y",
         "showticklabels": false
        },
        "yaxis3": {
         "anchor": "x3",
         "domain": [
          0,
          1
         ],
         "matches": "y",
         "showticklabels": false
        },
        "yaxis4": {
         "anchor": "x4",
         "domain": [
          0,
          1
         ],
         "matches": "y",
         "showticklabels": false
        }
       }
      }
     },
     "metadata": {},
     "output_type": "display_data"
    }
   ],
   "source": [
    "trainer.plot_slice(params=['learning_rate' , 'hidden_size' , 'num_epochs' , 'optimizer'])"
   ]
  },
  {
   "cell_type": "code",
   "execution_count": 16,
   "metadata": {},
   "outputs": [
    {
     "name": "stderr",
     "output_type": "stream",
     "text": [
      "/home/local/USHERBROOKE/saho6810/MEDfl/code/MEDfl/MEDfl/LearningManager/params_optimiser.py:340: ExperimentalWarning:\n",
      "\n",
      "plot_rank is experimental (supported from v3.2.0). The interface can change in the future.\n",
      "\n"
     ]
    },
    {
     "data": {
      "application/vnd.plotly.v1+json": {
       "config": {
        "plotlyServerURL": "https://plot.ly"
       },
       "data": [
        {
         "hovertemplate": "%{hovertext}<extra></extra>",
         "hovertext": [
          "Trial #0<br>batch_size: 225<br>num_layers: 4<br>hidden_size: 56<br>optimizer: SGD<br>learning_rate: 0.00047312448952326833<br>num_epochs: 154<br><b>Objective Value: 0.6918722735196724</b>",
          "Trial #1<br>batch_size: 134<br>num_layers: 7<br>hidden_size: 33<br>optimizer: RMSprop<br>learning_rate: 0.0008004760715824396<br>num_epochs: 172<br><b>Objective Value: 0.7452247495600096</b>",
          "Trial #2<br>batch_size: 171<br>num_layers: 4<br>hidden_size: 61<br>optimizer: SGD<br>learning_rate: 0.00021522680800772535<br>num_epochs: 102<br><b>Objective Value: 0.730410004253935</b>",
          "Trial #3<br>batch_size: 176<br>num_layers: 2<br>hidden_size: 60<br>optimizer: SGD<br>learning_rate: 0.0002298314849627227<br>num_epochs: 131<br><b>Objective Value: 0.7416579085654232</b>",
          "Trial #4<br>batch_size: 149<br>num_layers: 10<br>hidden_size: 27<br>optimizer: SGD<br>learning_rate: 0.006074947399197594<br>num_epochs: 188<br><b>Objective Value: 0.7346451717839002</b>",
          "Trial #8<br>batch_size: 73<br>num_layers: 10<br>hidden_size: 25<br>optimizer: Adam<br>learning_rate: 0.00641453151394156<br>num_epochs: 87<br><b>Objective Value: 0.7649987696953015</b>",
          "Trial #14<br>batch_size: 218<br>num_layers: 4<br>hidden_size: 48<br>optimizer: RMSprop<br>learning_rate: 0.0011943572160407663<br>num_epochs: 79<br><b>Objective Value: 0.7424680329304607</b>",
          "Trial #18<br>batch_size: 99<br>num_layers: 7<br>hidden_size: 26<br>optimizer: RMSprop<br>learning_rate: 0.0042155860200579<br>num_epochs: 146<br><b>Objective Value: 0.7674536446212746</b>",
          "Trial #20<br>batch_size: 101<br>num_layers: 1<br>hidden_size: 50<br>optimizer: Adam<br>learning_rate: 0.021856383510818346<br>num_epochs: 86<br><b>Objective Value: 0.7440257237945098</b>",
          "Trial #27<br>batch_size: 96<br>num_layers: 7<br>hidden_size: 29<br>optimizer: RMSprop<br>learning_rate: 0.0011187495508619507<br>num_epochs: 140<br><b>Objective Value: 0.743783833379209</b>",
          "Trial #31<br>batch_size: 116<br>num_layers: 3<br>hidden_size: 48<br>optimizer: Adam<br>learning_rate: 0.020055781876947308<br>num_epochs: 89<br><b>Objective Value: 0.5004816955684008</b>",
          "Trial #69<br>batch_size: 57<br>num_layers: 5<br>hidden_size: 75<br>optimizer: RMSprop<br>learning_rate: 0.0023730533597651295<br>num_epochs: 126<br><b>Objective Value: 0.7479793809273577</b>",
          "Trial #72<br>batch_size: 45<br>num_layers: 4<br>hidden_size: 53<br>optimizer: RMSprop<br>learning_rate: 0.0016141673499724242<br>num_epochs: 138<br><b>Objective Value: 0.7519069722826948</b>",
          "Trial #77<br>batch_size: 14<br>num_layers: 6<br>hidden_size: 45<br>optimizer: RMSprop<br>learning_rate: 0.0019154914791345379<br>num_epochs: 151<br><b>Objective Value: 0.7630031737690698</b>",
          "Trial #78<br>batch_size: 19<br>num_layers: 6<br>hidden_size: 37<br>optimizer: RMSprop<br>learning_rate: 0.001971222256709902<br>num_epochs: 144<br><b>Objective Value: 0.7734060255736557</b>",
          "Trial #79<br>batch_size: 18<br>num_layers: 6<br>hidden_size: 38<br>optimizer: RMSprop<br>learning_rate: 0.0020596413901968294<br>num_epochs: 144<br><b>Objective Value: 0.7660346236935831</b>",
          "Trial #80<br>batch_size: 17<br>num_layers: 6<br>hidden_size: 38<br>optimizer: RMSprop<br>learning_rate: 0.0024023765400756655<br>num_epochs: 151<br><b>Objective Value: 0.7673154960004671</b>",
          "Trial #81<br>batch_size: 16<br>num_layers: 6<br>hidden_size: 40<br>optimizer: RMSprop<br>learning_rate: 0.00218070058621677<br>num_epochs: 146<br><b>Objective Value: 0.7743553411906013</b>",
          "Trial #82<br>batch_size: 19<br>num_layers: 6<br>hidden_size: 38<br>optimizer: RMSprop<br>learning_rate: 0.002209003329992189<br>num_epochs: 151<br><b>Objective Value: 0.7566947342958904</b>",
          "Trial #89<br>batch_size: 13<br>num_layers: 6<br>hidden_size: 35<br>optimizer: RMSprop<br>learning_rate: 0.0017954878605008614<br>num_epochs: 135<br><b>Objective Value: 0.7676381903260515</b>",
          "Trial #94<br>batch_size: 8<br>num_layers: 6<br>hidden_size: 37<br>optimizer: RMSprop<br>learning_rate: 0.0009404165927333984<br>num_epochs: 144<br><b>Objective Value: 0.7677679978980558</b>",
          "Trial #96<br>batch_size: 19<br>num_layers: 6<br>hidden_size: 43<br>optimizer: RMSprop<br>learning_rate: 0.0008889915588697047<br>num_epochs: 143<br><b>Objective Value: 0.7658010743270859</b>",
          "Trial #97<br>batch_size: 25<br>num_layers: 7<br>hidden_size: 46<br>optimizer: RMSprop<br>learning_rate: 0.0009639085971986638<br>num_epochs: 145<br><b>Objective Value: 0.7520268748592449</b>",
          "Trial #102<br>batch_size: 19<br>num_layers: 6<br>hidden_size: 41<br>optimizer: RMSprop<br>learning_rate: 0.0023100623473611896<br>num_epochs: 148<br><b>Objective Value: 0.7653704676826065</b>",
          "Trial #104<br>batch_size: 24<br>num_layers: 7<br>hidden_size: 40<br>optimizer: RMSprop<br>learning_rate: 0.002972682563145739<br>num_epochs: 147<br><b>Objective Value: 0.7456449298934847</b>",
          "Trial #108<br>batch_size: 14<br>num_layers: 6<br>hidden_size: 39<br>optimizer: RMSprop<br>learning_rate: 0.0007096899854163061<br>num_epochs: 155<br><b>Objective Value: 0.7691348872707254</b>",
          "Trial #112<br>batch_size: 22<br>num_layers: 6<br>hidden_size: 36<br>optimizer: RMSprop<br>learning_rate: 0.002459619942694757<br>num_epochs: 154<br><b>Objective Value: 0.7618291711499803</b>",
          "Trial #115<br>batch_size: 8<br>num_layers: 7<br>hidden_size: 34<br>optimizer: RMSprop<br>learning_rate: 0.0015767827216727173<br>num_epochs: 143<br><b>Objective Value: 0.7673353059913754</b>",
          "Trial #121<br>batch_size: 13<br>num_layers: 6<br>hidden_size: 37<br>optimizer: RMSprop<br>learning_rate: 0.0017256905877667918<br>num_epochs: 153<br><b>Objective Value: 0.7758963499570436</b>",
          "Trial #124<br>batch_size: 11<br>num_layers: 6<br>hidden_size: 34<br>optimizer: RMSprop<br>learning_rate: 0.0010950434566287459<br>num_epochs: 148<br><b>Objective Value: 0.7685369383346262</b>",
          "Trial #129<br>batch_size: 17<br>num_layers: 7<br>hidden_size: 34<br>optimizer: RMSprop<br>learning_rate: 0.0012782616376688588<br>num_epochs: 156<br><b>Objective Value: 0.7663349014505083</b>",
          "Trial #131<br>batch_size: 18<br>num_layers: 7<br>hidden_size: 36<br>optimizer: RMSprop<br>learning_rate: 0.002108988779156845<br>num_epochs: 156<br><b>Objective Value: 0.7560628998490271</b>",
          "Trial #142<br>batch_size: 27<br>num_layers: 6<br>hidden_size: 38<br>optimizer: RMSprop<br>learning_rate: 0.002498908225898995<br>num_epochs: 139<br><b>Objective Value: 0.7666946091801583</b>",
          "Trial #162<br>batch_size: 8<br>num_layers: 6<br>hidden_size: 42<br>optimizer: RMSprop<br>learning_rate: 0.001500452243285654<br>num_epochs: 150<br><b>Objective Value: 0.771983876752663</b>",
          "Trial #172<br>batch_size: 16<br>num_layers: 6<br>hidden_size: 46<br>optimizer: RMSprop<br>learning_rate: 0.0019940796634093597<br>num_epochs: 157<br><b>Objective Value: 0.7772773148495692</b>",
          "Trial #181<br>batch_size: 12<br>num_layers: 6<br>hidden_size: 45<br>optimizer: RMSprop<br>learning_rate: 0.001738964559127614<br>num_epochs: 151<br><b>Objective Value: 0.7602198700464596</b>",
          "Trial #196<br>batch_size: 13<br>num_layers: 5<br>hidden_size: 24<br>optimizer: RMSprop<br>learning_rate: 0.0019563058660925924<br>num_epochs: 158<br><b>Objective Value: 0.7666143265854248</b>",
          "Trial #197<br>batch_size: 8<br>num_layers: 5<br>hidden_size: 25<br>optimizer: RMSprop<br>learning_rate: 0.0019421814613711117<br>num_epochs: 164<br><b>Objective Value: 0.7638742920534828</b>",
          "Trial #202<br>batch_size: 8<br>num_layers: 5<br>hidden_size: 28<br>optimizer: RMSprop<br>learning_rate: 0.002188145322289701<br>num_epochs: 159<br><b>Objective Value: 0.7620142381703076</b>",
          "Trial #204<br>batch_size: 11<br>num_layers: 6<br>hidden_size: 22<br>optimizer: RMSprop<br>learning_rate: 0.0017884903222521974<br>num_epochs: 163<br><b>Objective Value: 0.7747286031245568</b>",
          "Trial #212<br>batch_size: 13<br>num_layers: 6<br>hidden_size: 40<br>optimizer: RMSprop<br>learning_rate: 0.001835659482256073<br>num_epochs: 157<br><b>Objective Value: 0.77269703642536</b>",
          "Trial #221<br>batch_size: 15<br>num_layers: 6<br>hidden_size: 45<br>optimizer: RMSprop<br>learning_rate: 0.0019048793410816924<br>num_epochs: 149<br><b>Objective Value: 0.762802467282236</b>",
          "Trial #230<br>batch_size: 8<br>num_layers: 7<br>hidden_size: 35<br>optimizer: RMSprop<br>learning_rate: 0.0014524552893033695<br>num_epochs: 141<br><b>Objective Value: 0.7630589545329429</b>",
          "Trial #231<br>batch_size: 8<br>num_layers: 7<br>hidden_size: 35<br>optimizer: RMSprop<br>learning_rate: 0.0015084419687297589<br>num_epochs: 141<br><b>Objective Value: 0.7602761721258832</b>",
          "Trial #233<br>batch_size: 12<br>num_layers: 7<br>hidden_size: 34<br>optimizer: RMSprop<br>learning_rate: 0.0013135004810483706<br>num_epochs: 145<br><b>Objective Value: 0.7543811358840262</b>",
          "Trial #237<br>batch_size: 21<br>num_layers: 7<br>hidden_size: 32<br>optimizer: RMSprop<br>learning_rate: 0.001499491673750259<br>num_epochs: 105<br><b>Objective Value: 0.6952681230137878</b>",
          "Trial #282<br>batch_size: 8<br>num_layers: 6<br>hidden_size: 36<br>optimizer: RMSprop<br>learning_rate: 0.0022908526660053307<br>num_epochs: 144<br><b>Objective Value: 0.721173335335185</b>",
          "Trial #286<br>batch_size: 14<br>num_layers: 6<br>hidden_size: 27<br>optimizer: RMSprop<br>learning_rate: 0.003421565915015113<br>num_epochs: 129<br><b>Objective Value: 0.7660883191952557</b>",
          "Trial #294<br>batch_size: 12<br>num_layers: 6<br>hidden_size: 28<br>optimizer: RMSprop<br>learning_rate: 0.0020178665783214104<br>num_epochs: 125<br><b>Objective Value: 0.7676924071432742</b>"
         ],
         "marker": {
          "color": [
           "rgb(53.0, 67.0, 155.0)",
           "rgb(121.0, 177.0, 211.0)",
           "rgb(66.0, 106.0, 175.0)",
           "rgb(81.0, 131.0, 187.0)",
           "rgb(71.0, 119.0, 181.0)",
           "rgb(255.0, 242.0, 171.0)",
           "rgb(91.0, 143.0, 193.0)",
           "rgb(249.0, 142.0, 82.0)",
           "rgb(110.0, 166.0, 205.0)",
           "rgb(100.0, 154.0, 199.0)",
           "rgb(49.0, 54.0, 149.0)",
           "rgb(143.0, 195.0, 221.0)",
           "rgb(155.0, 204.0, 226.0)",
           "rgb(249.0, 252.0, 203.0)",
           "rgb(207.0, 40.0, 39.0)",
           "rgb(254.0, 222.0, 142.0)",
           "rgb(252.0, 169.0, 94.0)",
           "rgb(196.0, 30.0, 39.0)",
           "rgb(200.0, 231.0, 241.0)",
           "rgb(247.0, 128.0, 76.0)",
           "rgb(240.0, 101.0, 64.0)",
           "rgb(254.0, 229.0, 152.0)",
           "rgb(166.0, 213.0, 231.0)",
           "rgb(254.0, 236.0, 162.0)",
           "rgb(132.0, 186.0, 216.0)",
           "rgb(228.0, 76.0, 52.0)",
           "rgb(229.0, 245.0, 238.0)",
           "rgb(250.0, 155.0, 88.0)",
           "rgb(175.0, 10.0, 38.0)",
           "rgb(234.0, 89.0, 58.0)",
           "rgb(254.0, 201.0, 122.0)",
           "rgb(189.0, 226.0, 238.0)",
           "rgb(253.0, 180.0, 103.0)",
           "rgb(222.0, 63.0, 46.0)",
           "rgb(165.0, 0.0, 38.0)",
           "rgb(211.0, 236.0, 244.0)",
           "rgb(253.0, 191.0, 113.0)",
           "rgb(255.0, 249.0, 181.0)",
           "rgb(236.0, 248.0, 227.0)",
           "rgb(186.0, 20.0, 38.0)",
           "rgb(216.0, 51.0, 40.0)",
           "rgb(242.0, 250.0, 215.0)",
           "rgb(255.0, 255.0, 191.0)",
           "rgb(222.0, 242.0, 247.0)",
           "rgb(178.0, 220.0, 235.0)",
           "rgb(57.0, 80.0, 162.0)",
           "rgb(61.0, 93.0, 168.0)",
           "rgb(254.0, 212.0, 132.0)",
           "rgb(245.0, 114.0, 70.0)"
          ],
          "line": {
           "color": "Grey",
           "width": 0.5
          }
         },
         "mode": "markers",
         "showlegend": false,
         "type": "scatter",
         "x": [
          0.00047312448952326833,
          0.0008004760715824396,
          0.00021522680800772535,
          0.0002298314849627227,
          0.006074947399197594,
          0.00641453151394156,
          0.0011943572160407663,
          0.0042155860200579,
          0.021856383510818346,
          0.0011187495508619507,
          0.020055781876947308,
          0.0023730533597651295,
          0.0016141673499724242,
          0.0019154914791345379,
          0.001971222256709902,
          0.0020596413901968294,
          0.0024023765400756655,
          0.00218070058621677,
          0.002209003329992189,
          0.0017954878605008614,
          0.0009404165927333984,
          0.0008889915588697047,
          0.0009639085971986638,
          0.0023100623473611896,
          0.002972682563145739,
          0.0007096899854163061,
          0.002459619942694757,
          0.0015767827216727173,
          0.0017256905877667918,
          0.0010950434566287459,
          0.0012782616376688588,
          0.002108988779156845,
          0.002498908225898995,
          0.001500452243285654,
          0.0019940796634093597,
          0.001738964559127614,
          0.0019563058660925924,
          0.0019421814613711117,
          0.002188145322289701,
          0.0017884903222521974,
          0.001835659482256073,
          0.0019048793410816924,
          0.0014524552893033695,
          0.0015084419687297589,
          0.0013135004810483706,
          0.001499491673750259,
          0.0022908526660053307,
          0.003421565915015113,
          0.0020178665783214104
         ],
         "xaxis": "x",
         "y": [
          0.00047312448952326833,
          0.0008004760715824396,
          0.00021522680800772535,
          0.0002298314849627227,
          0.006074947399197594,
          0.00641453151394156,
          0.0011943572160407663,
          0.0042155860200579,
          0.021856383510818346,
          0.0011187495508619507,
          0.020055781876947308,
          0.0023730533597651295,
          0.0016141673499724242,
          0.0019154914791345379,
          0.001971222256709902,
          0.0020596413901968294,
          0.0024023765400756655,
          0.00218070058621677,
          0.002209003329992189,
          0.0017954878605008614,
          0.0009404165927333984,
          0.0008889915588697047,
          0.0009639085971986638,
          0.0023100623473611896,
          0.002972682563145739,
          0.0007096899854163061,
          0.002459619942694757,
          0.0015767827216727173,
          0.0017256905877667918,
          0.0010950434566287459,
          0.0012782616376688588,
          0.002108988779156845,
          0.002498908225898995,
          0.001500452243285654,
          0.0019940796634093597,
          0.001738964559127614,
          0.0019563058660925924,
          0.0019421814613711117,
          0.002188145322289701,
          0.0017884903222521974,
          0.001835659482256073,
          0.0019048793410816924,
          0.0014524552893033695,
          0.0015084419687297589,
          0.0013135004810483706,
          0.001499491673750259,
          0.0022908526660053307,
          0.003421565915015113,
          0.0020178665783214104
         ],
         "yaxis": "y"
        },
        {
         "hoverinfo": "none",
         "marker": {
          "cmax": 1,
          "cmin": 0,
          "colorbar": {
           "thickness": 10,
           "ticktext": [
            "min. (0.500482)",
            "25% (0.747979)",
            "50% (0.763059)",
            "75% (0.767454)",
            "max. (0.777277)"
           ],
           "tickvals": [
            0,
            0.25,
            0.5,
            0.75,
            1
           ]
          },
          "colorscale": [
           [
            0,
            "rgb(49,54,149)"
           ],
           [
            0.1,
            "rgb(69,117,180)"
           ],
           [
            0.2,
            "rgb(116,173,209)"
           ],
           [
            0.3,
            "rgb(171,217,233)"
           ],
           [
            0.4,
            "rgb(224,243,248)"
           ],
           [
            0.5,
            "rgb(255,255,191)"
           ],
           [
            0.6,
            "rgb(254,224,144)"
           ],
           [
            0.7,
            "rgb(253,174,97)"
           ],
           [
            0.8,
            "rgb(244,109,67)"
           ],
           [
            0.9,
            "rgb(215,48,39)"
           ],
           [
            1,
            "rgb(165,0,38)"
           ]
          ],
          "showscale": true
         },
         "mode": "markers",
         "showlegend": false,
         "type": "scatter",
         "x": [
          null
         ],
         "y": [
          null
         ]
        }
       ],
       "layout": {
        "template": {
         "data": {
          "bar": [
           {
            "error_x": {
             "color": "#2a3f5f"
            },
            "error_y": {
             "color": "#2a3f5f"
            },
            "marker": {
             "line": {
              "color": "#E5ECF6",
              "width": 0.5
             },
             "pattern": {
              "fillmode": "overlay",
              "size": 10,
              "solidity": 0.2
             }
            },
            "type": "bar"
           }
          ],
          "barpolar": [
           {
            "marker": {
             "line": {
              "color": "#E5ECF6",
              "width": 0.5
             },
             "pattern": {
              "fillmode": "overlay",
              "size": 10,
              "solidity": 0.2
             }
            },
            "type": "barpolar"
           }
          ],
          "carpet": [
           {
            "aaxis": {
             "endlinecolor": "#2a3f5f",
             "gridcolor": "white",
             "linecolor": "white",
             "minorgridcolor": "white",
             "startlinecolor": "#2a3f5f"
            },
            "baxis": {
             "endlinecolor": "#2a3f5f",
             "gridcolor": "white",
             "linecolor": "white",
             "minorgridcolor": "white",
             "startlinecolor": "#2a3f5f"
            },
            "type": "carpet"
           }
          ],
          "choropleth": [
           {
            "colorbar": {
             "outlinewidth": 0,
             "ticks": ""
            },
            "type": "choropleth"
           }
          ],
          "contour": [
           {
            "colorbar": {
             "outlinewidth": 0,
             "ticks": ""
            },
            "colorscale": [
             [
              0,
              "#0d0887"
             ],
             [
              0.1111111111111111,
              "#46039f"
             ],
             [
              0.2222222222222222,
              "#7201a8"
             ],
             [
              0.3333333333333333,
              "#9c179e"
             ],
             [
              0.4444444444444444,
              "#bd3786"
             ],
             [
              0.5555555555555556,
              "#d8576b"
             ],
             [
              0.6666666666666666,
              "#ed7953"
             ],
             [
              0.7777777777777778,
              "#fb9f3a"
             ],
             [
              0.8888888888888888,
              "#fdca26"
             ],
             [
              1,
              "#f0f921"
             ]
            ],
            "type": "contour"
           }
          ],
          "contourcarpet": [
           {
            "colorbar": {
             "outlinewidth": 0,
             "ticks": ""
            },
            "type": "contourcarpet"
           }
          ],
          "heatmap": [
           {
            "colorbar": {
             "outlinewidth": 0,
             "ticks": ""
            },
            "colorscale": [
             [
              0,
              "#0d0887"
             ],
             [
              0.1111111111111111,
              "#46039f"
             ],
             [
              0.2222222222222222,
              "#7201a8"
             ],
             [
              0.3333333333333333,
              "#9c179e"
             ],
             [
              0.4444444444444444,
              "#bd3786"
             ],
             [
              0.5555555555555556,
              "#d8576b"
             ],
             [
              0.6666666666666666,
              "#ed7953"
             ],
             [
              0.7777777777777778,
              "#fb9f3a"
             ],
             [
              0.8888888888888888,
              "#fdca26"
             ],
             [
              1,
              "#f0f921"
             ]
            ],
            "type": "heatmap"
           }
          ],
          "heatmapgl": [
           {
            "colorbar": {
             "outlinewidth": 0,
             "ticks": ""
            },
            "colorscale": [
             [
              0,
              "#0d0887"
             ],
             [
              0.1111111111111111,
              "#46039f"
             ],
             [
              0.2222222222222222,
              "#7201a8"
             ],
             [
              0.3333333333333333,
              "#9c179e"
             ],
             [
              0.4444444444444444,
              "#bd3786"
             ],
             [
              0.5555555555555556,
              "#d8576b"
             ],
             [
              0.6666666666666666,
              "#ed7953"
             ],
             [
              0.7777777777777778,
              "#fb9f3a"
             ],
             [
              0.8888888888888888,
              "#fdca26"
             ],
             [
              1,
              "#f0f921"
             ]
            ],
            "type": "heatmapgl"
           }
          ],
          "histogram": [
           {
            "marker": {
             "pattern": {
              "fillmode": "overlay",
              "size": 10,
              "solidity": 0.2
             }
            },
            "type": "histogram"
           }
          ],
          "histogram2d": [
           {
            "colorbar": {
             "outlinewidth": 0,
             "ticks": ""
            },
            "colorscale": [
             [
              0,
              "#0d0887"
             ],
             [
              0.1111111111111111,
              "#46039f"
             ],
             [
              0.2222222222222222,
              "#7201a8"
             ],
             [
              0.3333333333333333,
              "#9c179e"
             ],
             [
              0.4444444444444444,
              "#bd3786"
             ],
             [
              0.5555555555555556,
              "#d8576b"
             ],
             [
              0.6666666666666666,
              "#ed7953"
             ],
             [
              0.7777777777777778,
              "#fb9f3a"
             ],
             [
              0.8888888888888888,
              "#fdca26"
             ],
             [
              1,
              "#f0f921"
             ]
            ],
            "type": "histogram2d"
           }
          ],
          "histogram2dcontour": [
           {
            "colorbar": {
             "outlinewidth": 0,
             "ticks": ""
            },
            "colorscale": [
             [
              0,
              "#0d0887"
             ],
             [
              0.1111111111111111,
              "#46039f"
             ],
             [
              0.2222222222222222,
              "#7201a8"
             ],
             [
              0.3333333333333333,
              "#9c179e"
             ],
             [
              0.4444444444444444,
              "#bd3786"
             ],
             [
              0.5555555555555556,
              "#d8576b"
             ],
             [
              0.6666666666666666,
              "#ed7953"
             ],
             [
              0.7777777777777778,
              "#fb9f3a"
             ],
             [
              0.8888888888888888,
              "#fdca26"
             ],
             [
              1,
              "#f0f921"
             ]
            ],
            "type": "histogram2dcontour"
           }
          ],
          "mesh3d": [
           {
            "colorbar": {
             "outlinewidth": 0,
             "ticks": ""
            },
            "type": "mesh3d"
           }
          ],
          "parcoords": [
           {
            "line": {
             "colorbar": {
              "outlinewidth": 0,
              "ticks": ""
             }
            },
            "type": "parcoords"
           }
          ],
          "pie": [
           {
            "automargin": true,
            "type": "pie"
           }
          ],
          "scatter": [
           {
            "fillpattern": {
             "fillmode": "overlay",
             "size": 10,
             "solidity": 0.2
            },
            "type": "scatter"
           }
          ],
          "scatter3d": [
           {
            "line": {
             "colorbar": {
              "outlinewidth": 0,
              "ticks": ""
             }
            },
            "marker": {
             "colorbar": {
              "outlinewidth": 0,
              "ticks": ""
             }
            },
            "type": "scatter3d"
           }
          ],
          "scattercarpet": [
           {
            "marker": {
             "colorbar": {
              "outlinewidth": 0,
              "ticks": ""
             }
            },
            "type": "scattercarpet"
           }
          ],
          "scattergeo": [
           {
            "marker": {
             "colorbar": {
              "outlinewidth": 0,
              "ticks": ""
             }
            },
            "type": "scattergeo"
           }
          ],
          "scattergl": [
           {
            "marker": {
             "colorbar": {
              "outlinewidth": 0,
              "ticks": ""
             }
            },
            "type": "scattergl"
           }
          ],
          "scattermapbox": [
           {
            "marker": {
             "colorbar": {
              "outlinewidth": 0,
              "ticks": ""
             }
            },
            "type": "scattermapbox"
           }
          ],
          "scatterpolar": [
           {
            "marker": {
             "colorbar": {
              "outlinewidth": 0,
              "ticks": ""
             }
            },
            "type": "scatterpolar"
           }
          ],
          "scatterpolargl": [
           {
            "marker": {
             "colorbar": {
              "outlinewidth": 0,
              "ticks": ""
             }
            },
            "type": "scatterpolargl"
           }
          ],
          "scatterternary": [
           {
            "marker": {
             "colorbar": {
              "outlinewidth": 0,
              "ticks": ""
             }
            },
            "type": "scatterternary"
           }
          ],
          "surface": [
           {
            "colorbar": {
             "outlinewidth": 0,
             "ticks": ""
            },
            "colorscale": [
             [
              0,
              "#0d0887"
             ],
             [
              0.1111111111111111,
              "#46039f"
             ],
             [
              0.2222222222222222,
              "#7201a8"
             ],
             [
              0.3333333333333333,
              "#9c179e"
             ],
             [
              0.4444444444444444,
              "#bd3786"
             ],
             [
              0.5555555555555556,
              "#d8576b"
             ],
             [
              0.6666666666666666,
              "#ed7953"
             ],
             [
              0.7777777777777778,
              "#fb9f3a"
             ],
             [
              0.8888888888888888,
              "#fdca26"
             ],
             [
              1,
              "#f0f921"
             ]
            ],
            "type": "surface"
           }
          ],
          "table": [
           {
            "cells": {
             "fill": {
              "color": "#EBF0F8"
             },
             "line": {
              "color": "white"
             }
            },
            "header": {
             "fill": {
              "color": "#C8D4E3"
             },
             "line": {
              "color": "white"
             }
            },
            "type": "table"
           }
          ]
         },
         "layout": {
          "annotationdefaults": {
           "arrowcolor": "#2a3f5f",
           "arrowhead": 0,
           "arrowwidth": 1
          },
          "autotypenumbers": "strict",
          "coloraxis": {
           "colorbar": {
            "outlinewidth": 0,
            "ticks": ""
           }
          },
          "colorscale": {
           "diverging": [
            [
             0,
             "#8e0152"
            ],
            [
             0.1,
             "#c51b7d"
            ],
            [
             0.2,
             "#de77ae"
            ],
            [
             0.3,
             "#f1b6da"
            ],
            [
             0.4,
             "#fde0ef"
            ],
            [
             0.5,
             "#f7f7f7"
            ],
            [
             0.6,
             "#e6f5d0"
            ],
            [
             0.7,
             "#b8e186"
            ],
            [
             0.8,
             "#7fbc41"
            ],
            [
             0.9,
             "#4d9221"
            ],
            [
             1,
             "#276419"
            ]
           ],
           "sequential": [
            [
             0,
             "#0d0887"
            ],
            [
             0.1111111111111111,
             "#46039f"
            ],
            [
             0.2222222222222222,
             "#7201a8"
            ],
            [
             0.3333333333333333,
             "#9c179e"
            ],
            [
             0.4444444444444444,
             "#bd3786"
            ],
            [
             0.5555555555555556,
             "#d8576b"
            ],
            [
             0.6666666666666666,
             "#ed7953"
            ],
            [
             0.7777777777777778,
             "#fb9f3a"
            ],
            [
             0.8888888888888888,
             "#fdca26"
            ],
            [
             1,
             "#f0f921"
            ]
           ],
           "sequentialminus": [
            [
             0,
             "#0d0887"
            ],
            [
             0.1111111111111111,
             "#46039f"
            ],
            [
             0.2222222222222222,
             "#7201a8"
            ],
            [
             0.3333333333333333,
             "#9c179e"
            ],
            [
             0.4444444444444444,
             "#bd3786"
            ],
            [
             0.5555555555555556,
             "#d8576b"
            ],
            [
             0.6666666666666666,
             "#ed7953"
            ],
            [
             0.7777777777777778,
             "#fb9f3a"
            ],
            [
             0.8888888888888888,
             "#fdca26"
            ],
            [
             1,
             "#f0f921"
            ]
           ]
          },
          "colorway": [
           "#636efa",
           "#EF553B",
           "#00cc96",
           "#ab63fa",
           "#FFA15A",
           "#19d3f3",
           "#FF6692",
           "#B6E880",
           "#FF97FF",
           "#FECB52"
          ],
          "font": {
           "color": "#2a3f5f"
          },
          "geo": {
           "bgcolor": "white",
           "lakecolor": "white",
           "landcolor": "#E5ECF6",
           "showlakes": true,
           "showland": true,
           "subunitcolor": "white"
          },
          "hoverlabel": {
           "align": "left"
          },
          "hovermode": "closest",
          "mapbox": {
           "style": "light"
          },
          "paper_bgcolor": "white",
          "plot_bgcolor": "#E5ECF6",
          "polar": {
           "angularaxis": {
            "gridcolor": "white",
            "linecolor": "white",
            "ticks": ""
           },
           "bgcolor": "#E5ECF6",
           "radialaxis": {
            "gridcolor": "white",
            "linecolor": "white",
            "ticks": ""
           }
          },
          "scene": {
           "xaxis": {
            "backgroundcolor": "#E5ECF6",
            "gridcolor": "white",
            "gridwidth": 2,
            "linecolor": "white",
            "showbackground": true,
            "ticks": "",
            "zerolinecolor": "white"
           },
           "yaxis": {
            "backgroundcolor": "#E5ECF6",
            "gridcolor": "white",
            "gridwidth": 2,
            "linecolor": "white",
            "showbackground": true,
            "ticks": "",
            "zerolinecolor": "white"
           },
           "zaxis": {
            "backgroundcolor": "#E5ECF6",
            "gridcolor": "white",
            "gridwidth": 2,
            "linecolor": "white",
            "showbackground": true,
            "ticks": "",
            "zerolinecolor": "white"
           }
          },
          "shapedefaults": {
           "line": {
            "color": "#2a3f5f"
           }
          },
          "ternary": {
           "aaxis": {
            "gridcolor": "white",
            "linecolor": "white",
            "ticks": ""
           },
           "baxis": {
            "gridcolor": "white",
            "linecolor": "white",
            "ticks": ""
           },
           "bgcolor": "#E5ECF6",
           "caxis": {
            "gridcolor": "white",
            "linecolor": "white",
            "ticks": ""
           }
          },
          "title": {
           "x": 0.05
          },
          "xaxis": {
           "automargin": true,
           "gridcolor": "white",
           "linecolor": "white",
           "ticks": "",
           "title": {
            "standoff": 15
           },
           "zerolinecolor": "white",
           "zerolinewidth": 2
          },
          "yaxis": {
           "automargin": true,
           "gridcolor": "white",
           "linecolor": "white",
           "ticks": "",
           "title": {
            "standoff": 15
           },
           "zerolinecolor": "white",
           "zerolinewidth": 2
          }
         }
        },
        "title": {
         "text": "Rank (Objective Value)"
        },
        "xaxis": {
         "anchor": "y",
         "domain": [
          0,
          1
         ],
         "range": [
          -3.7674377321034935,
          -1.5600876005396165
         ],
         "title": {
          "text": "learning_rate"
         },
         "type": "log"
        },
        "yaxis": {
         "anchor": "x",
         "domain": [
          0,
          1
         ],
         "range": [
          -3.7674377321034935,
          -1.5600876005396165
         ],
         "title": {
          "text": "learning_rate"
         },
         "type": "log"
        }
       }
      }
     },
     "metadata": {},
     "output_type": "display_data"
    }
   ],
   "source": [
    "trainer.plot_rank(params=[\"learning_rate\"])"
   ]
  },
  {
   "cell_type": "markdown",
   "metadata": {},
   "source": [
    "### Find the best threashold for the optimised model "
   ]
  },
  {
   "cell_type": "code",
   "execution_count": 15,
   "metadata": {},
   "outputs": [
    {
     "name": "stderr",
     "output_type": "stream",
     "text": [
      "[I 2024-03-07 14:02:15,832] A new study created in memory with name: no-name-cc706be5-b1c6-499c-aaa0-3ca0933d4ebd\n",
      "[I 2024-03-07 14:03:32,756] Trial 0 finished with value: 0.6252502314641043 and parameters: {'threashhold': 0.3582895976502544}. Best is trial 0 with value: 0.6252502314641043.\n"
     ]
    },
    {
     "name": "stdout",
     "output_type": "stream",
     "text": [
      "Model balanced accuracy: 0.6252502314641043\n"
     ]
    },
    {
     "name": "stderr",
     "output_type": "stream",
     "text": [
      "[I 2024-03-07 14:04:48,329] Trial 1 finished with value: 0.6826064109301104 and parameters: {'threashhold': 0.1667862661542012}. Best is trial 1 with value: 0.6826064109301104.\n"
     ]
    },
    {
     "name": "stdout",
     "output_type": "stream",
     "text": [
      "Model balanced accuracy: 0.6826064109301104\n"
     ]
    },
    {
     "name": "stderr",
     "output_type": "stream",
     "text": [
      "[I 2024-03-07 14:06:05,381] Trial 2 finished with value: 0.676988714560969 and parameters: {'threashhold': 0.16720880361821666}. Best is trial 1 with value: 0.6826064109301104.\n"
     ]
    },
    {
     "name": "stdout",
     "output_type": "stream",
     "text": [
      "Model balanced accuracy: 0.676988714560969\n"
     ]
    },
    {
     "name": "stderr",
     "output_type": "stream",
     "text": [
      "[I 2024-03-07 14:07:24,288] Trial 3 finished with value: 0.655762830618322 and parameters: {'threashhold': 0.3055703631144901}. Best is trial 1 with value: 0.6826064109301104.\n"
     ]
    },
    {
     "name": "stdout",
     "output_type": "stream",
     "text": [
      "Model balanced accuracy: 0.655762830618322\n"
     ]
    },
    {
     "name": "stderr",
     "output_type": "stream",
     "text": [
      "[I 2024-03-07 14:08:41,605] Trial 4 finished with value: 0.6870480194179616 and parameters: {'threashhold': 0.10832027693105091}. Best is trial 4 with value: 0.6870480194179616.\n"
     ]
    },
    {
     "name": "stdout",
     "output_type": "stream",
     "text": [
      "Model balanced accuracy: 0.6870480194179616\n"
     ]
    },
    {
     "name": "stderr",
     "output_type": "stream",
     "text": [
      "[I 2024-03-07 14:09:58,230] Trial 5 finished with value: 0.7077327778194831 and parameters: {'threashhold': 0.22436514750364345}. Best is trial 5 with value: 0.7077327778194831.\n"
     ]
    },
    {
     "name": "stdout",
     "output_type": "stream",
     "text": [
      "Model balanced accuracy: 0.7077327778194831\n"
     ]
    },
    {
     "name": "stderr",
     "output_type": "stream",
     "text": [
      "[I 2024-03-07 14:11:14,330] Trial 6 finished with value: 0.6953838550659359 and parameters: {'threashhold': 0.11649431766710273}. Best is trial 5 with value: 0.7077327778194831.\n"
     ]
    },
    {
     "name": "stdout",
     "output_type": "stream",
     "text": [
      "Model balanced accuracy: 0.6953838550659359\n"
     ]
    },
    {
     "name": "stderr",
     "output_type": "stream",
     "text": [
      "[I 2024-03-07 14:12:30,299] Trial 7 finished with value: 0.6513087105572655 and parameters: {'threashhold': 0.2722127529130104}. Best is trial 5 with value: 0.7077327778194831.\n"
     ]
    },
    {
     "name": "stdout",
     "output_type": "stream",
     "text": [
      "Model balanced accuracy: 0.6513087105572655\n"
     ]
    },
    {
     "name": "stderr",
     "output_type": "stream",
     "text": [
      "[I 2024-03-07 14:13:50,367] Trial 8 finished with value: 0.6909829091910016 and parameters: {'threashhold': 0.147165940440779}. Best is trial 5 with value: 0.7077327778194831.\n"
     ]
    },
    {
     "name": "stdout",
     "output_type": "stream",
     "text": [
      "Model balanced accuracy: 0.6909829091910016\n"
     ]
    },
    {
     "name": "stderr",
     "output_type": "stream",
     "text": [
      "[I 2024-03-07 14:15:08,054] Trial 9 finished with value: 0.6707235442784576 and parameters: {'threashhold': 0.16496265520458503}. Best is trial 5 with value: 0.7077327778194831.\n"
     ]
    },
    {
     "name": "stdout",
     "output_type": "stream",
     "text": [
      "Model balanced accuracy: 0.6707235442784576\n",
      "Best Hyperparameters: {'threashhold': 0.22436514750364345}\n"
     ]
    },
    {
     "name": "stderr",
     "output_type": "stream",
     "text": [
      "/home/local/USHERBROOKE/saho6810/MEDfl/code/MEDfl/MEDfl/LearningManager/params_optimiser.py:355: ExperimentalWarning:\n",
      "\n",
      "plot_rank is experimental (supported from v3.2.0). The interface can change in the future.\n",
      "\n"
     ]
    },
    {
     "data": {
      "application/vnd.plotly.v1+json": {
       "config": {
        "plotlyServerURL": "https://plot.ly"
       },
       "data": [
        {
         "hovertemplate": "%{hovertext}<extra></extra>",
         "hovertext": [
          "Trial #0<br>threashhold: 0.3582895976502544<br><b>Objective Value: 0.6252502314641043</b>",
          "Trial #1<br>threashhold: 0.1667862661542012<br><b>Objective Value: 0.6826064109301104</b>",
          "Trial #2<br>threashhold: 0.16720880361821666<br><b>Objective Value: 0.676988714560969</b>",
          "Trial #3<br>threashhold: 0.3055703631144901<br><b>Objective Value: 0.655762830618322</b>",
          "Trial #4<br>threashhold: 0.10832027693105091<br><b>Objective Value: 0.6870480194179616</b>",
          "Trial #5<br>threashhold: 0.22436514750364345<br><b>Objective Value: 0.7077327778194831</b>",
          "Trial #6<br>threashhold: 0.11649431766710273<br><b>Objective Value: 0.6953838550659359</b>",
          "Trial #7<br>threashhold: 0.2722127529130104<br><b>Objective Value: 0.6513087105572655</b>",
          "Trial #8<br>threashhold: 0.147165940440779<br><b>Objective Value: 0.6909829091910016</b>",
          "Trial #9<br>threashhold: 0.16496265520458503<br><b>Objective Value: 0.6707235442784576</b>"
         ],
         "marker": {
          "color": [
           "rgb(49.0, 54.0, 149.0)",
           "rgb(254.0, 238.0, 165.0)",
           "rgb(238.0, 248.0, 223.0)",
           "rgb(128.0, 183.0, 214.0)",
           "rgb(253.0, 191.0, 113.0)",
           "rgb(165.0, 0.0, 38.0)",
           "rgb(218.0, 55.0, 42.0)",
           "rgb(74.0, 123.0, 183.0)",
           "rgb(246.0, 123.0, 74.0)",
           "rgb(189.0, 226.0, 238.0)"
          ],
          "line": {
           "color": "Grey",
           "width": 0.5
          }
         },
         "mode": "markers",
         "showlegend": false,
         "type": "scatter",
         "x": [
          0.3582895976502544,
          0.1667862661542012,
          0.16720880361821666,
          0.3055703631144901,
          0.10832027693105091,
          0.22436514750364345,
          0.11649431766710273,
          0.2722127529130104,
          0.147165940440779,
          0.16496265520458503
         ],
         "xaxis": "x",
         "y": [
          0.3582895976502544,
          0.1667862661542012,
          0.16720880361821666,
          0.3055703631144901,
          0.10832027693105091,
          0.22436514750364345,
          0.11649431766710273,
          0.2722127529130104,
          0.147165940440779,
          0.16496265520458503
         ],
         "yaxis": "y"
        },
        {
         "hoverinfo": "none",
         "marker": {
          "cmax": 1,
          "cmin": 0,
          "colorbar": {
           "thickness": 10,
           "ticktext": [
            "min. (0.62525)",
            "25% (0.659503)",
            "50% (0.679798)",
            "75% (0.689999)",
            "max. (0.707733)"
           ],
           "tickvals": [
            0,
            0.25,
            0.5,
            0.75,
            1
           ]
          },
          "colorscale": [
           [
            0,
            "rgb(49,54,149)"
           ],
           [
            0.1,
            "rgb(69,117,180)"
           ],
           [
            0.2,
            "rgb(116,173,209)"
           ],
           [
            0.3,
            "rgb(171,217,233)"
           ],
           [
            0.4,
            "rgb(224,243,248)"
           ],
           [
            0.5,
            "rgb(255,255,191)"
           ],
           [
            0.6,
            "rgb(254,224,144)"
           ],
           [
            0.7,
            "rgb(253,174,97)"
           ],
           [
            0.8,
            "rgb(244,109,67)"
           ],
           [
            0.9,
            "rgb(215,48,39)"
           ],
           [
            1,
            "rgb(165,0,38)"
           ]
          ],
          "showscale": true
         },
         "mode": "markers",
         "showlegend": false,
         "type": "scatter",
         "x": [
          null
         ],
         "y": [
          null
         ]
        }
       ],
       "layout": {
        "template": {
         "data": {
          "bar": [
           {
            "error_x": {
             "color": "#2a3f5f"
            },
            "error_y": {
             "color": "#2a3f5f"
            },
            "marker": {
             "line": {
              "color": "#E5ECF6",
              "width": 0.5
             },
             "pattern": {
              "fillmode": "overlay",
              "size": 10,
              "solidity": 0.2
             }
            },
            "type": "bar"
           }
          ],
          "barpolar": [
           {
            "marker": {
             "line": {
              "color": "#E5ECF6",
              "width": 0.5
             },
             "pattern": {
              "fillmode": "overlay",
              "size": 10,
              "solidity": 0.2
             }
            },
            "type": "barpolar"
           }
          ],
          "carpet": [
           {
            "aaxis": {
             "endlinecolor": "#2a3f5f",
             "gridcolor": "white",
             "linecolor": "white",
             "minorgridcolor": "white",
             "startlinecolor": "#2a3f5f"
            },
            "baxis": {
             "endlinecolor": "#2a3f5f",
             "gridcolor": "white",
             "linecolor": "white",
             "minorgridcolor": "white",
             "startlinecolor": "#2a3f5f"
            },
            "type": "carpet"
           }
          ],
          "choropleth": [
           {
            "colorbar": {
             "outlinewidth": 0,
             "ticks": ""
            },
            "type": "choropleth"
           }
          ],
          "contour": [
           {
            "colorbar": {
             "outlinewidth": 0,
             "ticks": ""
            },
            "colorscale": [
             [
              0,
              "#0d0887"
             ],
             [
              0.1111111111111111,
              "#46039f"
             ],
             [
              0.2222222222222222,
              "#7201a8"
             ],
             [
              0.3333333333333333,
              "#9c179e"
             ],
             [
              0.4444444444444444,
              "#bd3786"
             ],
             [
              0.5555555555555556,
              "#d8576b"
             ],
             [
              0.6666666666666666,
              "#ed7953"
             ],
             [
              0.7777777777777778,
              "#fb9f3a"
             ],
             [
              0.8888888888888888,
              "#fdca26"
             ],
             [
              1,
              "#f0f921"
             ]
            ],
            "type": "contour"
           }
          ],
          "contourcarpet": [
           {
            "colorbar": {
             "outlinewidth": 0,
             "ticks": ""
            },
            "type": "contourcarpet"
           }
          ],
          "heatmap": [
           {
            "colorbar": {
             "outlinewidth": 0,
             "ticks": ""
            },
            "colorscale": [
             [
              0,
              "#0d0887"
             ],
             [
              0.1111111111111111,
              "#46039f"
             ],
             [
              0.2222222222222222,
              "#7201a8"
             ],
             [
              0.3333333333333333,
              "#9c179e"
             ],
             [
              0.4444444444444444,
              "#bd3786"
             ],
             [
              0.5555555555555556,
              "#d8576b"
             ],
             [
              0.6666666666666666,
              "#ed7953"
             ],
             [
              0.7777777777777778,
              "#fb9f3a"
             ],
             [
              0.8888888888888888,
              "#fdca26"
             ],
             [
              1,
              "#f0f921"
             ]
            ],
            "type": "heatmap"
           }
          ],
          "heatmapgl": [
           {
            "colorbar": {
             "outlinewidth": 0,
             "ticks": ""
            },
            "colorscale": [
             [
              0,
              "#0d0887"
             ],
             [
              0.1111111111111111,
              "#46039f"
             ],
             [
              0.2222222222222222,
              "#7201a8"
             ],
             [
              0.3333333333333333,
              "#9c179e"
             ],
             [
              0.4444444444444444,
              "#bd3786"
             ],
             [
              0.5555555555555556,
              "#d8576b"
             ],
             [
              0.6666666666666666,
              "#ed7953"
             ],
             [
              0.7777777777777778,
              "#fb9f3a"
             ],
             [
              0.8888888888888888,
              "#fdca26"
             ],
             [
              1,
              "#f0f921"
             ]
            ],
            "type": "heatmapgl"
           }
          ],
          "histogram": [
           {
            "marker": {
             "pattern": {
              "fillmode": "overlay",
              "size": 10,
              "solidity": 0.2
             }
            },
            "type": "histogram"
           }
          ],
          "histogram2d": [
           {
            "colorbar": {
             "outlinewidth": 0,
             "ticks": ""
            },
            "colorscale": [
             [
              0,
              "#0d0887"
             ],
             [
              0.1111111111111111,
              "#46039f"
             ],
             [
              0.2222222222222222,
              "#7201a8"
             ],
             [
              0.3333333333333333,
              "#9c179e"
             ],
             [
              0.4444444444444444,
              "#bd3786"
             ],
             [
              0.5555555555555556,
              "#d8576b"
             ],
             [
              0.6666666666666666,
              "#ed7953"
             ],
             [
              0.7777777777777778,
              "#fb9f3a"
             ],
             [
              0.8888888888888888,
              "#fdca26"
             ],
             [
              1,
              "#f0f921"
             ]
            ],
            "type": "histogram2d"
           }
          ],
          "histogram2dcontour": [
           {
            "colorbar": {
             "outlinewidth": 0,
             "ticks": ""
            },
            "colorscale": [
             [
              0,
              "#0d0887"
             ],
             [
              0.1111111111111111,
              "#46039f"
             ],
             [
              0.2222222222222222,
              "#7201a8"
             ],
             [
              0.3333333333333333,
              "#9c179e"
             ],
             [
              0.4444444444444444,
              "#bd3786"
             ],
             [
              0.5555555555555556,
              "#d8576b"
             ],
             [
              0.6666666666666666,
              "#ed7953"
             ],
             [
              0.7777777777777778,
              "#fb9f3a"
             ],
             [
              0.8888888888888888,
              "#fdca26"
             ],
             [
              1,
              "#f0f921"
             ]
            ],
            "type": "histogram2dcontour"
           }
          ],
          "mesh3d": [
           {
            "colorbar": {
             "outlinewidth": 0,
             "ticks": ""
            },
            "type": "mesh3d"
           }
          ],
          "parcoords": [
           {
            "line": {
             "colorbar": {
              "outlinewidth": 0,
              "ticks": ""
             }
            },
            "type": "parcoords"
           }
          ],
          "pie": [
           {
            "automargin": true,
            "type": "pie"
           }
          ],
          "scatter": [
           {
            "fillpattern": {
             "fillmode": "overlay",
             "size": 10,
             "solidity": 0.2
            },
            "type": "scatter"
           }
          ],
          "scatter3d": [
           {
            "line": {
             "colorbar": {
              "outlinewidth": 0,
              "ticks": ""
             }
            },
            "marker": {
             "colorbar": {
              "outlinewidth": 0,
              "ticks": ""
             }
            },
            "type": "scatter3d"
           }
          ],
          "scattercarpet": [
           {
            "marker": {
             "colorbar": {
              "outlinewidth": 0,
              "ticks": ""
             }
            },
            "type": "scattercarpet"
           }
          ],
          "scattergeo": [
           {
            "marker": {
             "colorbar": {
              "outlinewidth": 0,
              "ticks": ""
             }
            },
            "type": "scattergeo"
           }
          ],
          "scattergl": [
           {
            "marker": {
             "colorbar": {
              "outlinewidth": 0,
              "ticks": ""
             }
            },
            "type": "scattergl"
           }
          ],
          "scattermapbox": [
           {
            "marker": {
             "colorbar": {
              "outlinewidth": 0,
              "ticks": ""
             }
            },
            "type": "scattermapbox"
           }
          ],
          "scatterpolar": [
           {
            "marker": {
             "colorbar": {
              "outlinewidth": 0,
              "ticks": ""
             }
            },
            "type": "scatterpolar"
           }
          ],
          "scatterpolargl": [
           {
            "marker": {
             "colorbar": {
              "outlinewidth": 0,
              "ticks": ""
             }
            },
            "type": "scatterpolargl"
           }
          ],
          "scatterternary": [
           {
            "marker": {
             "colorbar": {
              "outlinewidth": 0,
              "ticks": ""
             }
            },
            "type": "scatterternary"
           }
          ],
          "surface": [
           {
            "colorbar": {
             "outlinewidth": 0,
             "ticks": ""
            },
            "colorscale": [
             [
              0,
              "#0d0887"
             ],
             [
              0.1111111111111111,
              "#46039f"
             ],
             [
              0.2222222222222222,
              "#7201a8"
             ],
             [
              0.3333333333333333,
              "#9c179e"
             ],
             [
              0.4444444444444444,
              "#bd3786"
             ],
             [
              0.5555555555555556,
              "#d8576b"
             ],
             [
              0.6666666666666666,
              "#ed7953"
             ],
             [
              0.7777777777777778,
              "#fb9f3a"
             ],
             [
              0.8888888888888888,
              "#fdca26"
             ],
             [
              1,
              "#f0f921"
             ]
            ],
            "type": "surface"
           }
          ],
          "table": [
           {
            "cells": {
             "fill": {
              "color": "#EBF0F8"
             },
             "line": {
              "color": "white"
             }
            },
            "header": {
             "fill": {
              "color": "#C8D4E3"
             },
             "line": {
              "color": "white"
             }
            },
            "type": "table"
           }
          ]
         },
         "layout": {
          "annotationdefaults": {
           "arrowcolor": "#2a3f5f",
           "arrowhead": 0,
           "arrowwidth": 1
          },
          "autotypenumbers": "strict",
          "coloraxis": {
           "colorbar": {
            "outlinewidth": 0,
            "ticks": ""
           }
          },
          "colorscale": {
           "diverging": [
            [
             0,
             "#8e0152"
            ],
            [
             0.1,
             "#c51b7d"
            ],
            [
             0.2,
             "#de77ae"
            ],
            [
             0.3,
             "#f1b6da"
            ],
            [
             0.4,
             "#fde0ef"
            ],
            [
             0.5,
             "#f7f7f7"
            ],
            [
             0.6,
             "#e6f5d0"
            ],
            [
             0.7,
             "#b8e186"
            ],
            [
             0.8,
             "#7fbc41"
            ],
            [
             0.9,
             "#4d9221"
            ],
            [
             1,
             "#276419"
            ]
           ],
           "sequential": [
            [
             0,
             "#0d0887"
            ],
            [
             0.1111111111111111,
             "#46039f"
            ],
            [
             0.2222222222222222,
             "#7201a8"
            ],
            [
             0.3333333333333333,
             "#9c179e"
            ],
            [
             0.4444444444444444,
             "#bd3786"
            ],
            [
             0.5555555555555556,
             "#d8576b"
            ],
            [
             0.6666666666666666,
             "#ed7953"
            ],
            [
             0.7777777777777778,
             "#fb9f3a"
            ],
            [
             0.8888888888888888,
             "#fdca26"
            ],
            [
             1,
             "#f0f921"
            ]
           ],
           "sequentialminus": [
            [
             0,
             "#0d0887"
            ],
            [
             0.1111111111111111,
             "#46039f"
            ],
            [
             0.2222222222222222,
             "#7201a8"
            ],
            [
             0.3333333333333333,
             "#9c179e"
            ],
            [
             0.4444444444444444,
             "#bd3786"
            ],
            [
             0.5555555555555556,
             "#d8576b"
            ],
            [
             0.6666666666666666,
             "#ed7953"
            ],
            [
             0.7777777777777778,
             "#fb9f3a"
            ],
            [
             0.8888888888888888,
             "#fdca26"
            ],
            [
             1,
             "#f0f921"
            ]
           ]
          },
          "colorway": [
           "#636efa",
           "#EF553B",
           "#00cc96",
           "#ab63fa",
           "#FFA15A",
           "#19d3f3",
           "#FF6692",
           "#B6E880",
           "#FF97FF",
           "#FECB52"
          ],
          "font": {
           "color": "#2a3f5f"
          },
          "geo": {
           "bgcolor": "white",
           "lakecolor": "white",
           "landcolor": "#E5ECF6",
           "showlakes": true,
           "showland": true,
           "subunitcolor": "white"
          },
          "hoverlabel": {
           "align": "left"
          },
          "hovermode": "closest",
          "mapbox": {
           "style": "light"
          },
          "paper_bgcolor": "white",
          "plot_bgcolor": "#E5ECF6",
          "polar": {
           "angularaxis": {
            "gridcolor": "white",
            "linecolor": "white",
            "ticks": ""
           },
           "bgcolor": "#E5ECF6",
           "radialaxis": {
            "gridcolor": "white",
            "linecolor": "white",
            "ticks": ""
           }
          },
          "scene": {
           "xaxis": {
            "backgroundcolor": "#E5ECF6",
            "gridcolor": "white",
            "gridwidth": 2,
            "linecolor": "white",
            "showbackground": true,
            "ticks": "",
            "zerolinecolor": "white"
           },
           "yaxis": {
            "backgroundcolor": "#E5ECF6",
            "gridcolor": "white",
            "gridwidth": 2,
            "linecolor": "white",
            "showbackground": true,
            "ticks": "",
            "zerolinecolor": "white"
           },
           "zaxis": {
            "backgroundcolor": "#E5ECF6",
            "gridcolor": "white",
            "gridwidth": 2,
            "linecolor": "white",
            "showbackground": true,
            "ticks": "",
            "zerolinecolor": "white"
           }
          },
          "shapedefaults": {
           "line": {
            "color": "#2a3f5f"
           }
          },
          "ternary": {
           "aaxis": {
            "gridcolor": "white",
            "linecolor": "white",
            "ticks": ""
           },
           "baxis": {
            "gridcolor": "white",
            "linecolor": "white",
            "ticks": ""
           },
           "bgcolor": "#E5ECF6",
           "caxis": {
            "gridcolor": "white",
            "linecolor": "white",
            "ticks": ""
           }
          },
          "title": {
           "x": 0.05
          },
          "xaxis": {
           "automargin": true,
           "gridcolor": "white",
           "linecolor": "white",
           "ticks": "",
           "title": {
            "standoff": 15
           },
           "zerolinecolor": "white",
           "zerolinewidth": 2
          },
          "yaxis": {
           "automargin": true,
           "gridcolor": "white",
           "linecolor": "white",
           "ticks": "",
           "title": {
            "standoff": 15
           },
           "zerolinecolor": "white",
           "zerolinewidth": 2
          }
         }
        },
        "title": {
         "text": "Rank (Objective Value)"
        },
        "xaxis": {
         "anchor": "y",
         "domain": [
          0,
          1
         ],
         "range": [
          -0.9912664602257706,
          -0.41978957879427464
         ],
         "title": {
          "text": "threashhold"
         },
         "type": "log"
        },
        "yaxis": {
         "anchor": "x",
         "domain": [
          0,
          1
         ],
         "range": [
          -0.9912664602257706,
          -0.41978957879427464
         ],
         "title": {
          "text": "threashhold"
         },
         "type": "log"
        }
       }
      }
     },
     "metadata": {},
     "output_type": "display_data"
    }
   ],
   "source": [
    "trainer.optimize_model_threashhold( n_trials=10 , th_min=0.1, th_max=0.4 )"
   ]
  },
  {
   "cell_type": "code",
   "execution_count": null,
   "metadata": {},
   "outputs": [],
   "source": []
  }
 ],
 "metadata": {
  "kernelspec": {
   "display_name": "Python 3",
   "language": "python",
   "name": "python3"
  },
  "language_info": {
   "codemirror_mode": {
    "name": "ipython",
    "version": 3
   },
   "file_extension": ".py",
   "mimetype": "text/x-python",
   "name": "python",
   "nbconvert_exporter": "python",
   "pygments_lexer": "ipython3",
   "version": "3.8.10"
  }
 },
 "nbformat": 4,
 "nbformat_minor": 2
}
