{
 "cells": [
  {
   "cell_type": "markdown",
   "metadata": {},
   "source": [
    "# **LearningManager**: Create a Federated Learning Pipeline using MedFL\n",
    "<img src='../Images/MEDfl_Diagramm.png' />\n",
    "\n",
    "The `Learning Manager`, serving as the second subpackage of *Medfl*, extends the work initiated by the `NetManager`. It operates by taking the federated dataset as its input and, through its processes, generates a **Trained model**. Additionally, it **stores relevant Results** within the database.\n",
    "\n",
    "<b>The Federated module</b>  of <b>MEDfl</b>, which is based on the <a href=\"https://flower.dev/\">Flower</a> framework, is well designed for doing this task, it's mainly follows the flower paradigm, but with many customization, to deal with the SQL database, and to be homogeneous with the <b>NetManager</b>\n",
    "\n",
    "\n",
    "<img src='../Images/LearningManager.png' width=\"50%\" />\n"
   ]
  },
  {
   "cell_type": "code",
   "execution_count": 1,
   "metadata": {},
   "outputs": [
    {
     "name": "stdout",
     "output_type": "stream",
     "text": [
      "/bin/python3\n"
     ]
    }
   ],
   "source": [
    "from Medfl.LearningManager.utils import global_params\n",
    "\n",
    "import sys\n",
    "sys.path.append(global_params['base_url'])\n",
    "\n",
    "import os\n",
    "os.environ['PYTHONPATH'] = global_params['base_url']"
   ]
  },
  {
   "cell_type": "markdown",
   "metadata": {},
   "source": [
    "Imports"
   ]
  },
  {
   "cell_type": "code",
   "execution_count": 2,
   "metadata": {},
   "outputs": [
    {
     "name": "stderr",
     "output_type": "stream",
     "text": [
      "2024-02-13 15:55:46.500132: I tensorflow/core/platform/cpu_feature_guard.cc:182] This TensorFlow binary is optimized to use available CPU instructions in performance-critical operations.\n",
      "To enable the following instructions: AVX2 FMA, in other operations, rebuild TensorFlow with the appropriate compiler flags.\n"
     ]
    }
   ],
   "source": [
    "# Torch imports\n",
    "import torch\n",
    "import torch.nn as nn\n",
    "import torch.optim as optim\n",
    "\n",
    "# flower imports \n",
    "import flwr as fl\n",
    "\n",
    "# Medfl imports \n",
    "from Medfl.LearningManager.dynamicModal import DynamicModel\n",
    "from Medfl.LearningManager.model import Model\n",
    "from Medfl.LearningManager.strategy import Strategy\n",
    "from Medfl.LearningManager.server import *\n",
    "\n",
    "from Medfl.NetManager.flsetup import FLsetup\n",
    "from Medfl.LearningManager.flpipeline import *\n",
    "\n",
    "from Medfl.LearningManager.plot import AccuracyLossPlotter\n",
    "\n",
    "\n"
   ]
  },
  {
   "cell_type": "markdown",
   "metadata": {},
   "source": [
    "### 1. Modal inialization\n",
    "\n",
    "The first step involves initializing the model to subsequently transmit it to the central server. MedFL offers two distinct methods for model initialization:\n",
    "\n",
    "1. **Without Utilizing Transfer Learning:** This method is employed in scenarios where a pretrained model is unavailable. Here, the initial model is constructed from scratch, and subsequently transmitted to the central server (Simple Federated Learning).\n",
    "\n",
    "2. **Utilizing Transfer Learning:** This approach comes into play when a pretrained model exists, and the objective is to fine-tune it within the federated learning network (Federated-Transfer Learning).\n",
    "\n",
    "<img src='../Images/Modelinit.png' width=\"80%\" style=\"display: block  ; margin : 0 auto\" />"
   ]
  },
  {
   "cell_type": "markdown",
   "metadata": {},
   "source": [
    "### 1.1 without activation of Transfer Learning\n",
    "\n",
    "in this methode we can eather specify the structure of our neural network ( number and size of layers, activation function ) or we can write define our modal and write the code from scratch and pass it to the server \n",
    "\n",
    "\n",
    "As MEDfl is based on flower, it has only 3 models based on torch neural nets  :\n",
    "<ul>\n",
    "    <li> Binary Classifier </li>\n",
    "    <li> Multiclass Classifier</li>\n",
    "    <li> Linear Regressor</li>\n",
    "</ul>\n",
    "\n",
    "the choice of the model and all machine learning parameters (learning rate, eopch size, train epochs), should be declared on a YAML file. `Medfl/learningManager/params.yaml`\n"
   ]
  },
  {
   "cell_type": "markdown",
   "metadata": {},
   "source": [
    "A. Create the modal from scratch "
   ]
  },
  {
   "cell_type": "code",
   "execution_count": 3,
   "metadata": {},
   "outputs": [
    {
     "data": {
      "text/plain": [
       "<Medfl.LearningManager.model.Model at 0x7fda7845d100>"
      ]
     },
     "execution_count": 3,
     "metadata": {},
     "output_type": "execute_result"
    }
   ],
   "source": [
    "class BinaryClassifier(nn.Module):\n",
    "  def __init__(self,input_dim,hidden_dim,output_dim):\n",
    "\n",
    "    super(BinaryClassifier, self).__init__()\n",
    "    self.fc1 = nn.Linear(input_dim,hidden_dim)\n",
    "    self.fc2 = nn.Linear(hidden_dim,2*hidden_dim)\n",
    "    self.fc3 = nn.Linear(2*hidden_dim,output_dim)\n",
    "\n",
    "  def forward(self,x):\n",
    "    x = torch.relu(self.fc1(x))\n",
    "    x = torch.relu(self.fc2(x))\n",
    "    x = torch.sigmoid(self.fc3(x))#softmax\n",
    "    return x\n",
    "\n",
    "# Create an instance of BinaryClassifier \n",
    "# The input dim is the number of columns in the federated DataSet \n",
    "binary_classifier= BinaryClassifier(17,6,1)\n",
    "# define the optimizer and criterion\n",
    "optimizer,criterion = optim.SGD(binary_classifier.parameters(), lr=0.0001),nn.BCELoss()\n",
    "\n",
    "# Creating a new Model instance using the specific model created by DynamicModel\n",
    "global_model = Model(binary_classifier, optimizer, criterion)\n",
    "\n",
    "# The modal to be passed to the server \n",
    "global_model\n"
   ]
  },
  {
   "cell_type": "markdown",
   "metadata": {},
   "source": [
    "B. Create a Dynamic Using the DynamicModal class"
   ]
  },
  {
   "cell_type": "code",
   "execution_count": 4,
   "metadata": {},
   "outputs": [
    {
     "data": {
      "text/plain": [
       "[array([[-0.1753857 ,  0.01182628, -0.0656938 , -0.23282903,  0.20984195,\n",
       "          0.10602364,  0.18930514,  0.20693147,  0.04460086,  0.09694176,\n",
       "          0.11027294,  0.1468007 , -0.23502725, -0.18373561,  0.16646941,\n",
       "         -0.1295526 ,  0.09775756]], dtype=float32),\n",
       " array([0.05561392], dtype=float32)]"
      ]
     },
     "execution_count": 4,
     "metadata": {},
     "output_type": "execute_result"
    }
   ],
   "source": [
    "# Creating a DynamicModel instance\n",
    "dynamic_model = DynamicModel()\n",
    "\n",
    "# Creating a specific model dynamically using DynamicModel\n",
    "specific_model = dynamic_model.create_model(model_type='Logistic Regressor', params_dict={\"input_dim\": 17, \"output_dim\": 1})\n",
    "\n",
    "# Pass the specific_model to the Model class\n",
    "optimizer = optim.SGD(specific_model.parameters(), lr=0.0001)\n",
    "criterion = nn.BCELoss()\n",
    "\n",
    "\n",
    "# Creating a new Model instance using the specific model created by DynamicModel\n",
    "global_model = Model(specific_model, optimizer, criterion)\n",
    "\n",
    "# The modal to be passed to the server\n",
    "global_model.get_parameters()"
   ]
  },
  {
   "cell_type": "markdown",
   "metadata": {},
   "source": [
    "### 1.2 Using the Transfer Learning \n",
    "\n",
    "in this method we will use a pretrained modal that we showed on the 3rd tutorial `3_transferLearning-checkpoint` "
   ]
  },
  {
   "cell_type": "code",
   "execution_count": 5,
   "metadata": {},
   "outputs": [],
   "source": [
    "# Define the neural network model using PyTorch\n",
    "class BinaryClassifier(nn.Module):\n",
    "    def __init__(self, input_dim):\n",
    "        super(BinaryClassifier, self).__init__()\n",
    "        self.fc1 = nn.Linear(input_dim, 64)\n",
    "        self.dropout1 = nn.Dropout(0.5)\n",
    "        self.fc2 = nn.Linear(64, 32)\n",
    "        self.dropout2 = nn.Dropout(0.3)\n",
    "        self.output = nn.Linear(32, 1)\n",
    "        self.sigmoid = nn.Sigmoid()\n",
    "\n",
    "    def forward(self, x):\n",
    "        x = torch.relu(self.fc1(x))\n",
    "        x = self.dropout1(x)\n",
    "        x = torch.relu(self.fc2(x))\n",
    "        x = self.dropout2(x)\n",
    "        x = self.output(x)\n",
    "        x = self.sigmoid(x)\n",
    "        return x"
   ]
  },
  {
   "cell_type": "code",
   "execution_count": 6,
   "metadata": {},
   "outputs": [
    {
     "name": "stdout",
     "output_type": "stream",
     "text": [
      "BinaryClassifier(\n",
      "  (fc1): Linear(in_features=17, out_features=64, bias=True)\n",
      "  (dropout1): Dropout(p=0.5, inplace=False)\n",
      "  (fc2): Linear(in_features=64, out_features=32, bias=True)\n",
      "  (dropout2): Dropout(p=0.3, inplace=False)\n",
      "  (output): Linear(in_features=32, out_features=1, bias=True)\n",
      "  (sigmoid): Sigmoid()\n",
      ")\n"
     ]
    }
   ],
   "source": [
    "# Load the pretrained model\n",
    "model = Model.load_model(\"binary_classifier\")\n",
    "\n",
    "\n",
    "# Pass the specific_model to the Model class\n",
    "optimizer = optim.SGD(model.parameters(), lr=0.0001)\n",
    "criterion = nn.BCELoss()\n",
    "\n",
    "# Creating a new Model instance using the specific model created by DynamicModel\n",
    "global_model = Model(model, optimizer, criterion)\n",
    "\n",
    "# Get the initial params of the model \n",
    "init_params = global_model.get_parameters() ; \n",
    "\n",
    "print(model)"
   ]
  },
  {
   "cell_type": "markdown",
   "metadata": {},
   "source": [
    "### 2. Define the Aggregation Algorithms (**Aggregation Strategy**)\n",
    "\n",
    "Aggregation algorithms are the mechanizms used by the server to produce a joint unified model, they are known as <b>Strategies</b> on <b>Flower</b>,  in the literature we have many aggregation algorithms, it's true that not all of them are implemented in flower, but we have the most used ones:\n",
    " <ul>\n",
    "    <li><a href = \"arxiv.org/abs/1602.05629\">Federated Averaging (FedAvg)</a></li>\n",
    "    <li><a href = \"arxiv.org/abs/2003.00295\">Adaptive Federated Optimization using Adam (FedAdam)</a></li>\n",
    "    <li><a href = \"arxiv.org/pdf/1803.01498v1.pdf\">Federated Median (FedMedian)</a></li>\n",
    "    <li><a href = \"arxiv.org/pdf/1909.06335.pdf\">Federated Averaging with Momentum (FedAvgM)</a></li>\n",
    "    <li><a href = \"arxiv.org/abs/2003.00295\">Adaptive Federated Optimization using Yogi (FedYogi)</a></li>\n",
    "    <li><a href = \"arxiv.org/abs/2003.00295\">Adaptive Federated Optimization (FedOpt)</a></li>\n",
    "    <li><a href = \"arxiv.org/abs/1812.06127\">Federated Optimization (FedProx)</a></li>\n",
    "    <li><a href = \"openreview.net/pdf?id=ByexElSYDr\">FAIR RESOURCE ALLOCATION IN FEDERATED LEARNING (QFedAvg)</a></li>\n",
    "    <li><a href = \"arxiv.org/abs/2003.00295\">Adaptive Federated Optimization using Adagrad (FedAdagrad)</a></li>\n",
    " </ul>\n",
    "We can also find them on the strategy directory on Flower."
   ]
  },
  {
   "cell_type": "code",
   "execution_count": 7,
   "metadata": {},
   "outputs": [
    {
     "data": {
      "text/plain": [
       "['Bulyan',\n",
       " 'DPFedAvgAdaptive',\n",
       " 'DPFedAvgFixed',\n",
       " 'FaultTolerantFedAvg',\n",
       " 'FedAdagrad',\n",
       " 'FedAdam',\n",
       " 'FedAvg',\n",
       " 'FedAvgAndroid',\n",
       " 'FedAvgM',\n",
       " 'FedMedian',\n",
       " 'FedOpt',\n",
       " 'FedProx',\n",
       " 'FedTrimmedAvg',\n",
       " 'FedXgbBagging',\n",
       " 'FedXgbCyclic',\n",
       " 'FedXgbNnAvg',\n",
       " 'FedYogi',\n",
       " 'Krum',\n",
       " 'QFedAvg',\n",
       " 'Strategy',\n",
       " '__all__',\n",
       " '__builtins__',\n",
       " '__cached__',\n",
       " '__doc__',\n",
       " '__file__',\n",
       " '__loader__',\n",
       " '__name__',\n",
       " '__package__',\n",
       " '__path__',\n",
       " '__spec__',\n",
       " 'aggregate',\n",
       " 'bulyan',\n",
       " 'dpfedavg_adaptive',\n",
       " 'dpfedavg_fixed',\n",
       " 'fault_tolerant_fedavg',\n",
       " 'fedadagrad',\n",
       " 'fedadam',\n",
       " 'fedavg',\n",
       " 'fedavg_android',\n",
       " 'fedavgm',\n",
       " 'fedmedian',\n",
       " 'fedopt',\n",
       " 'fedprox',\n",
       " 'fedtrimmedavg',\n",
       " 'fedxgb_bagging',\n",
       " 'fedxgb_cyclic',\n",
       " 'fedxgb_nn_avg',\n",
       " 'fedyogi',\n",
       " 'krum',\n",
       " 'qfedavg',\n",
       " 'strategy']"
      ]
     },
     "execution_count": 7,
     "metadata": {},
     "output_type": "execute_result"
    }
   ],
   "source": [
    "# List all available aggregation strategies on flower \n",
    "dir(fl.server.strategy)"
   ]
  },
  {
   "cell_type": "markdown",
   "metadata": {},
   "source": [
    "<div style=\"display : flex\"> \n",
    "<div >The creation of a strategy is based on the \"Strategy\" Class, it's enough to pass the name of one of the mentionned strategies, and other federated learning parameters which are used during federation rounds.\n",
    "\n",
    "<ul>\n",
    "    <li><u>fraction_fit :</u> the fraction of clients to sample in order  to train the model </li>\n",
    "    <li><u>fraction_evaluate  :</u> the fraction of clients to sample in order to evaluate the model (validation) </li>\n",
    "    <li><u>min_fit_clients :</u>  the minimum number of clients to sample for the training on each round</li>\n",
    "    <li><u>min_evaluate_clients :</u> the minimum number of clients to be sampled for the evaluation on each round </li>\n",
    "    <li><u>min_available_clients :</u> the minimum  required number of available clients to start a federation round </li>\n",
    "<ul></div>\n",
    "<div>\n",
    "<img src='../Images/strategy.png' width=\"80%\" style=\"display: block  ; margin : 0 auto\" />\n",
    "</div>\n",
    "</div>\n",
    "\n"
   ]
  },
  {
   "cell_type": "code",
   "execution_count": 8,
   "metadata": {},
   "outputs": [],
   "source": [
    "# Create the strategy\n",
    "fed_avg = Strategy(\"FedAvg\", \n",
    "                   fraction_fit = 1.0 ,\n",
    "                   fraction_evaluate = 1.0,\n",
    "                   min_fit_clients = 2,\n",
    "                   min_evaluate_clients = 2,\n",
    "                   min_available_clients = 2 , \n",
    "                   initial_parameters=global_model.get_parameters())"
   ]
  },
  {
   "cell_type": "markdown",
   "metadata": {},
   "source": [
    "### 3. Federated Learning Server\n",
    "The server in the FL terminology, is the set of the mechanizms that orchestrate  all the FL processes, (distributing the model to  clients, getting the models updates from clients, aggregate these updates. \n",
    "\n",
    "**Remark :** The FL Server has no relation ! with webservers or any other server concepts.\n",
    "\n",
    "#### MEDfl server\n",
    "\n",
    "<div style=\"display : flex\"> \n",
    "<div >\n",
    "\n",
    "The FL server on MEDfl, is based on the server class of Flower, but with our customization, because we have addeda gradient perturbing feature using [Opacus](https://opacus.ai), so we can make the FLpipeline **differentially privacy** </b> \n",
    "\n",
    "The FLserver in MEDfl, has the follwoing attributes : \n",
    "\n",
    "<ul>\n",
    "    <li> <u>global_model :</u> The global model\n",
    "    <li> <u>strategy :</u> The  aggregation strategy\n",
    "    <li> <u>num_rounds :</u> The number of federation rounds\n",
    "    <li> <u>num_clients :</u> The number of train nodes\n",
    "    <li> <u>dataset :</u> The federated dataset generated by an FLsetup\n",
    "    <li> <u>diff_privacy :</u> a boolean variable to  enable (disable) the Differentially Private training mode\n",
    "</ul>\n",
    "\n",
    "</div>\n",
    "<div>\n",
    "<img src='../Images/createServer.png' width=\"250\" style=\"display: block  ; margin : 0 auto\" />\n",
    "</div>\n",
    "</div>\n",
    "\n"
   ]
  },
  {
   "cell_type": "markdown",
   "metadata": {},
   "source": [
    "For the federated Dataset will use the one generated on the 2nd tuto `2_NetManager-checkpoint`"
   ]
  },
  {
   "cell_type": "code",
   "execution_count": 9,
   "metadata": {},
   "outputs": [
    {
     "name": "stderr",
     "output_type": "stream",
     "text": [
      "/home/local/USHERBROOKE/saho6810/.local/lib/python3.8/site-packages/pandas/io/sql.py:1761: RemovedIn20Warning: Deprecated API features detected! These feature(s) are not compatible with SQLAlchemy 2.0. To prevent incompatible upgrades prior to updating applications, ensure requirements files are pinned to \"sqlalchemy<2.0\". Set environment variable SQLALCHEMY_WARN_20=1 to show all deprecation warnings.  Set environment variable SQLALCHEMY_SILENCE_UBER_WARNING=1 to silence this message. (Background on SQLAlchemy 2.0 at: https://sqlalche.me/e/b8d9)\n",
      "  return insp.has_table(name, schema or self.meta.schema)\n"
     ]
    },
    {
     "data": {
      "text/plain": [
       "1"
      ]
     },
     "execution_count": 9,
     "metadata": {},
     "output_type": "execute_result"
    }
   ],
   "source": [
    "# use the auto setup created on the second tuto\n",
    "fl_setup = FLsetup.read_setup(1)\n",
    "fl_setup.id"
   ]
  },
  {
   "cell_type": "code",
   "execution_count": 10,
   "metadata": {},
   "outputs": [
    {
     "data": {
      "text/html": [
       "<div>\n",
       "<style scoped>\n",
       "    .dataframe tbody tr th:only-of-type {\n",
       "        vertical-align: middle;\n",
       "    }\n",
       "\n",
       "    .dataframe tbody tr th {\n",
       "        vertical-align: top;\n",
       "    }\n",
       "\n",
       "    .dataframe thead th {\n",
       "        text-align: right;\n",
       "    }\n",
       "</style>\n",
       "<table border=\"1\" class=\"dataframe\">\n",
       "  <thead>\n",
       "    <tr style=\"text-align: right;\">\n",
       "      <th></th>\n",
       "      <th>FedId</th>\n",
       "      <th>FLsetupId</th>\n",
       "      <th>FLpipeId</th>\n",
       "      <th>name</th>\n",
       "    </tr>\n",
       "  </thead>\n",
       "  <tbody>\n",
       "    <tr>\n",
       "      <th>0</th>\n",
       "      <td>1</td>\n",
       "      <td>1</td>\n",
       "      <td>1</td>\n",
       "      <td>Flsetup_1_Feddataset</td>\n",
       "    </tr>\n",
       "  </tbody>\n",
       "</table>\n",
       "</div>"
      ],
      "text/plain": [
       "   FedId  FLsetupId  FLpipeId                  name\n",
       "0      1          1         1  Flsetup_1_Feddataset"
      ]
     },
     "execution_count": 10,
     "metadata": {},
     "output_type": "execute_result"
    }
   ],
   "source": [
    "# The federated dataset is already created \n",
    "fl_setup.get_flDataSet()"
   ]
  },
  {
   "cell_type": "code",
   "execution_count": 11,
   "metadata": {},
   "outputs": [
    {
     "data": {
      "text/plain": [
       "17"
      ]
     },
     "execution_count": 11,
     "metadata": {},
     "output_type": "execute_result"
    }
   ],
   "source": [
    "# Create the federated Data set ( in our case the federated Dataset is created it will use it directly)\n",
    "fl_dataset = fl_setup.create_federated_dataset(\n",
    "   output=\"event_death\", \n",
    "       fit_encode=[\"site_hospital\", \"site_region\"], \n",
    "    to_drop=[ \"event_death\" , \"id\" ], \n",
    "  )\n",
    "\n",
    "fl_dataset.size"
   ]
  },
  {
   "cell_type": "code",
   "execution_count": 12,
   "metadata": {},
   "outputs": [],
   "source": [
    "# Create The server \n",
    "server = FlowerServer(global_model, strategy = fed_avg, num_rounds = 10,\n",
    "                       num_clients  = len(fl_dataset.trainloaders), \n",
    "                       fed_dataset = fl_dataset,diff_privacy = False ,\n",
    "                       # You can change the resources alocated for each client based on your machine \n",
    "                       client_resources={'num_cpus': 1.0, 'num_gpus': 0.0}\n",
    "                       )"
   ]
  },
  {
   "cell_type": "markdown",
   "metadata": {},
   "source": [
    "### 4. FL Pipeline Creation\n",
    "\n",
    "<div style=\"display : flex\"> \n",
    "<div >\n",
    "\n",
    "The Federated pipeline is the class responsible of running the federated learning process, launch the training of the model then test it and store the results in the database \n",
    "\n",
    "To create a pipeline we need to provide the `name`, `description` and finaly the `server` \n",
    "\n",
    "</div>\n",
    "<div>\n",
    "<img src='../Images/pipeline.png' width=\"250\" style=\"display: block  ; margin : 0 auto\" />\n",
    "</div>\n",
    "</div>\n",
    "\n"
   ]
  },
  {
   "cell_type": "code",
   "execution_count": 13,
   "metadata": {},
   "outputs": [],
   "source": [
    "# Create the pipeline \n",
    "ppl_1 = FLpipeline( name =\"the first fl_pipeline\",description = \"this is our second FL pipeline\",\n",
    "                   server = server)"
   ]
  },
  {
   "cell_type": "code",
   "execution_count": 14,
   "metadata": {},
   "outputs": [
    {
     "data": {
      "text/plain": [
       "['Midwest', 'South', 'West', 'Northeast']"
      ]
     },
     "execution_count": 14,
     "metadata": {},
     "output_type": "execute_result"
    }
   ],
   "source": [
    "# Display the Tests nodes on the federated dataset\n",
    "ppl_1.server.fed_dataset.test_nodes"
   ]
  },
  {
   "cell_type": "code",
   "execution_count": 15,
   "metadata": {},
   "outputs": [
    {
     "name": "stdout",
     "output_type": "stream",
     "text": [
      "18\n",
      "32\n",
      "93\n"
     ]
    }
   ],
   "source": [
    "print(len(ppl_1.server.fed_dataset.testloaders[0]))\n",
    "print(len(ppl_1.server.fed_dataset.testloaders[1]))\n",
    "print(len(ppl_1.server.fed_dataset.testloaders[2]))"
   ]
  },
  {
   "cell_type": "code",
   "execution_count": 16,
   "metadata": {},
   "outputs": [
    {
     "name": "stderr",
     "output_type": "stream",
     "text": [
      "INFO flwr 2024-02-13 15:55:49,410 | app.py:178 | Starting Flower simulation, config: ServerConfig(num_rounds=10, round_timeout=None)\n",
      "02/13/2024 15:55:49:INFO:Starting Flower simulation, config: ServerConfig(num_rounds=10, round_timeout=None)\n",
      "2024-02-13 15:55:51,566\tINFO worker.py:1621 -- Started a local Ray instance.\n",
      "INFO flwr 2024-02-13 15:55:54,055 | app.py:213 | Flower VCE: Ray initialized with resources: {'memory': 47203137946.0, 'GPU': 1.0, 'accelerator_type:G': 1.0, 'CPU': 24.0, 'node:__internal_head__': 1.0, 'object_store_memory': 78643200.0, 'node:10.44.86.57': 1.0}\n",
      "02/13/2024 15:55:54:INFO:Flower VCE: Ray initialized with resources: {'memory': 47203137946.0, 'GPU': 1.0, 'accelerator_type:G': 1.0, 'CPU': 24.0, 'node:__internal_head__': 1.0, 'object_store_memory': 78643200.0, 'node:10.44.86.57': 1.0}\n",
      "INFO flwr 2024-02-13 15:55:54,056 | app.py:219 | Optimize your simulation with Flower VCE: https://flower.dev/docs/framework/how-to-run-simulations.html\n",
      "02/13/2024 15:55:54:INFO:Optimize your simulation with Flower VCE: https://flower.dev/docs/framework/how-to-run-simulations.html\n",
      "INFO flwr 2024-02-13 15:55:54,057 | app.py:242 | Flower VCE: Resources for each Virtual Client: {'num_cpus': 1.0, 'num_gpus': 0.0}\n",
      "02/13/2024 15:55:54:INFO:Flower VCE: Resources for each Virtual Client: {'num_cpus': 1.0, 'num_gpus': 0.0}\n",
      "INFO flwr 2024-02-13 15:55:54,078 | app.py:288 | Flower VCE: Creating VirtualClientEngineActorPool with 24 actors\n",
      "02/13/2024 15:55:54:INFO:Flower VCE: Creating VirtualClientEngineActorPool with 24 actors\n",
      "INFO flwr 2024-02-13 15:55:54,079 | server.py:89 | Initializing global parameters\n",
      "02/13/2024 15:55:54:INFO:Initializing global parameters\n",
      "INFO flwr 2024-02-13 15:55:54,080 | server.py:272 | Using initial parameters provided by strategy\n",
      "02/13/2024 15:55:54:INFO:Using initial parameters provided by strategy\n",
      "INFO flwr 2024-02-13 15:55:54,081 | server.py:91 | Evaluating initial parameters\n",
      "02/13/2024 15:55:54:INFO:Evaluating initial parameters\n",
      "INFO flwr 2024-02-13 15:55:54,094 | server.py:94 | initial parameters (loss, other metrics): 0.06630590558052063, {'accuracy': 0.625}\n",
      "02/13/2024 15:55:54:INFO:initial parameters (loss, other metrics): 0.06630590558052063, {'accuracy': 0.625}\n",
      "INFO flwr 2024-02-13 15:55:54,095 | server.py:104 | FL starting\n",
      "02/13/2024 15:55:54:INFO:FL starting\n",
      "DEBUG flwr 2024-02-13 15:55:54,097 | server.py:222 | fit_round 1: strategy sampled 2 clients (out of 2)\n",
      "02/13/2024 15:55:54:DEBUG:fit_round 1: strategy sampled 2 clients (out of 2)\n"
     ]
    },
    {
     "name": "stdout",
     "output_type": "stream",
     "text": [
      "Server-side evaluation loss 0.06630590558052063 / accuracy 0.625\n"
     ]
    },
    {
     "name": "stderr",
     "output_type": "stream",
     "text": [
      "\u001b[2m\u001b[36m(DefaultActor pid=29969)\u001b[0m /home/local/USHERBROOKE/saho6810/.local/lib/python3.8/site-packages/opacus/privacy_engine.py:142: UserWarning: Secure RNG turned off. This is perfectly fine for experimentation as it allows for much faster training performance, but remember to turn it on and retrain one last time before production with ``secure_mode`` turned on.\n",
      "\u001b[2m\u001b[36m(DefaultActor pid=29969)\u001b[0m   warnings.warn(\n",
      "\u001b[2m\u001b[36m(DefaultActor pid=29969)\u001b[0m /home/local/USHERBROOKE/saho6810/.local/lib/python3.8/site-packages/flwr/simulation/ray_transport/ray_actor.py:72: DeprecationWarning:  Ensure your client is of type `flwr.client.Client`. Please convert it using the `.to_client()` method before returning it in the `client_fn` you pass to `start_simulation`. We have applied this conversion on your behalf. Not returning a `Client` might trigger an error in future versions of Flower.\n",
      "\u001b[2m\u001b[36m(DefaultActor pid=29969)\u001b[0m   client = check_clientfn_returns_client(client_fn(cid))\n",
      "DEBUG flwr 2024-02-13 15:56:01,722 | server.py:236 | fit_round 1 received 2 results and 0 failures\n",
      "02/13/2024 15:56:01:DEBUG:fit_round 1 received 2 results and 0 failures\n",
      "WARNING flwr 2024-02-13 15:56:01,730 | fedavg.py:250 | No fit_metrics_aggregation_fn provided\n",
      "02/13/2024 15:56:01:WARNING:No fit_metrics_aggregation_fn provided\n",
      "INFO flwr 2024-02-13 15:56:01,737 | server.py:125 | fit progress: (1, 0.06550507992506027, {'accuracy': 0.625}, 7.640242645999024)\n",
      "02/13/2024 15:56:01:INFO:fit progress: (1, 0.06550507992506027, {'accuracy': 0.625}, 7.640242645999024)\n",
      "DEBUG flwr 2024-02-13 15:56:01,738 | server.py:173 | evaluate_round 1: strategy sampled 2 clients (out of 2)\n",
      "02/13/2024 15:56:01:DEBUG:evaluate_round 1: strategy sampled 2 clients (out of 2)\n",
      "DEBUG flwr 2024-02-13 15:56:01,753 | server.py:187 | evaluate_round 1 received 2 results and 0 failures\n",
      "02/13/2024 15:56:01:DEBUG:evaluate_round 1 received 2 results and 0 failures\n",
      "WARNING flwr 2024-02-13 15:56:01,754 | fedavg.py:281 | No evaluate_metrics_aggregation_fn provided\n",
      "02/13/2024 15:56:01:WARNING:No evaluate_metrics_aggregation_fn provided\n",
      "DEBUG flwr 2024-02-13 15:56:01,755 | server.py:222 | fit_round 2: strategy sampled 2 clients (out of 2)\n",
      "02/13/2024 15:56:01:DEBUG:fit_round 2: strategy sampled 2 clients (out of 2)\n",
      "DEBUG flwr 2024-02-13 15:56:01,787 | server.py:236 | fit_round 2 received 2 results and 0 failures\n",
      "02/13/2024 15:56:01:DEBUG:fit_round 2 received 2 results and 0 failures\n",
      "INFO flwr 2024-02-13 15:56:01,792 | server.py:125 | fit progress: (2, 0.06483973562717438, {'accuracy': 0.625}, 7.694888214000457)\n",
      "02/13/2024 15:56:01:INFO:fit progress: (2, 0.06483973562717438, {'accuracy': 0.625}, 7.694888214000457)\n",
      "DEBUG flwr 2024-02-13 15:56:01,793 | server.py:173 | evaluate_round 2: strategy sampled 2 clients (out of 2)\n",
      "02/13/2024 15:56:01:DEBUG:evaluate_round 2: strategy sampled 2 clients (out of 2)\n",
      "DEBUG flwr 2024-02-13 15:56:01,816 | server.py:187 | evaluate_round 2 received 2 results and 0 failures\n",
      "02/13/2024 15:56:01:DEBUG:evaluate_round 2 received 2 results and 0 failures\n",
      "DEBUG flwr 2024-02-13 15:56:01,817 | server.py:222 | fit_round 3: strategy sampled 2 clients (out of 2)\n",
      "02/13/2024 15:56:01:DEBUG:fit_round 3: strategy sampled 2 clients (out of 2)\n",
      "DEBUG flwr 2024-02-13 15:56:01,854 | server.py:236 | fit_round 3 received 2 results and 0 failures\n",
      "02/13/2024 15:56:01:DEBUG:fit_round 3 received 2 results and 0 failures\n",
      "INFO flwr 2024-02-13 15:56:01,860 | server.py:125 | fit progress: (3, 0.06413096934556961, {'accuracy': 0.625}, 7.762637300998904)\n",
      "02/13/2024 15:56:01:INFO:fit progress: (3, 0.06413096934556961, {'accuracy': 0.625}, 7.762637300998904)\n",
      "DEBUG flwr 2024-02-13 15:56:01,861 | server.py:173 | evaluate_round 3: strategy sampled 2 clients (out of 2)\n",
      "02/13/2024 15:56:01:DEBUG:evaluate_round 3: strategy sampled 2 clients (out of 2)\n",
      "DEBUG flwr 2024-02-13 15:56:01,883 | server.py:187 | evaluate_round 3 received 2 results and 0 failures\n",
      "02/13/2024 15:56:01:DEBUG:evaluate_round 3 received 2 results and 0 failures\n",
      "DEBUG flwr 2024-02-13 15:56:01,884 | server.py:222 | fit_round 4: strategy sampled 2 clients (out of 2)\n",
      "02/13/2024 15:56:01:DEBUG:fit_round 4: strategy sampled 2 clients (out of 2)\n"
     ]
    },
    {
     "name": "stdout",
     "output_type": "stream",
     "text": [
      "\u001b[2m\u001b[36m(DefaultActor pid=29969)\u001b[0m [Client 1] fit, config: {}\n",
      "\u001b[2m\u001b[36m(DefaultActor pid=29969)\u001b[0m epsilon of client 1 : eps = 0\n",
      "Server-side evaluation loss 0.06550507992506027 / accuracy 0.625\n",
      "Server-side evaluation loss 0.06483973562717438 / accuracy 0.625\n",
      "\u001b[2m\u001b[36m(DefaultActor pid=29969)\u001b[0m [Client 0] evaluate, config: {}\n",
      "\u001b[2m\u001b[36m(DefaultActor pid=29969)\u001b[0m [Client 1] evaluate, config: {}\n",
      "Server-side evaluation loss 0.06413096934556961 / accuracy 0.625\n"
     ]
    },
    {
     "name": "stderr",
     "output_type": "stream",
     "text": [
      "DEBUG flwr 2024-02-13 15:56:01,937 | server.py:236 | fit_round 4 received 2 results and 0 failures\n",
      "02/13/2024 15:56:01:DEBUG:fit_round 4 received 2 results and 0 failures\n",
      "INFO flwr 2024-02-13 15:56:01,945 | server.py:125 | fit progress: (4, 0.06348368525505066, {'accuracy': 0.625}, 7.84773136900003)\n",
      "02/13/2024 15:56:01:INFO:fit progress: (4, 0.06348368525505066, {'accuracy': 0.625}, 7.84773136900003)\n",
      "DEBUG flwr 2024-02-13 15:56:01,946 | server.py:173 | evaluate_round 4: strategy sampled 2 clients (out of 2)\n",
      "02/13/2024 15:56:01:DEBUG:evaluate_round 4: strategy sampled 2 clients (out of 2)\n",
      "DEBUG flwr 2024-02-13 15:56:01,969 | server.py:187 | evaluate_round 4 received 2 results and 0 failures\n",
      "02/13/2024 15:56:01:DEBUG:evaluate_round 4 received 2 results and 0 failures\n",
      "DEBUG flwr 2024-02-13 15:56:01,970 | server.py:222 | fit_round 5: strategy sampled 2 clients (out of 2)\n",
      "02/13/2024 15:56:01:DEBUG:fit_round 5: strategy sampled 2 clients (out of 2)\n",
      "DEBUG flwr 2024-02-13 15:56:02,007 | server.py:236 | fit_round 5 received 2 results and 0 failures\n",
      "02/13/2024 15:56:02:DEBUG:fit_round 5 received 2 results and 0 failures\n",
      "INFO flwr 2024-02-13 15:56:02,012 | server.py:125 | fit progress: (5, 0.06283245980739594, {'accuracy': 0.625}, 7.91484250099893)\n",
      "02/13/2024 15:56:02:INFO:fit progress: (5, 0.06283245980739594, {'accuracy': 0.625}, 7.91484250099893)\n",
      "DEBUG flwr 2024-02-13 15:56:02,013 | server.py:173 | evaluate_round 5: strategy sampled 2 clients (out of 2)\n",
      "02/13/2024 15:56:02:DEBUG:evaluate_round 5: strategy sampled 2 clients (out of 2)\n",
      "DEBUG flwr 2024-02-13 15:56:02,042 | server.py:187 | evaluate_round 5 received 2 results and 0 failures\n",
      "02/13/2024 15:56:02:DEBUG:evaluate_round 5 received 2 results and 0 failures\n",
      "DEBUG flwr 2024-02-13 15:56:02,043 | server.py:222 | fit_round 6: strategy sampled 2 clients (out of 2)\n",
      "02/13/2024 15:56:02:DEBUG:fit_round 6: strategy sampled 2 clients (out of 2)\n",
      "DEBUG flwr 2024-02-13 15:56:02,103 | server.py:236 | fit_round 6 received 2 results and 0 failures\n",
      "02/13/2024 15:56:02:DEBUG:fit_round 6 received 2 results and 0 failures\n",
      "INFO flwr 2024-02-13 15:56:02,110 | server.py:125 | fit progress: (6, 0.06223991513252258, {'accuracy': 0.625}, 8.01334374599901)\n",
      "02/13/2024 15:56:02:INFO:fit progress: (6, 0.06223991513252258, {'accuracy': 0.625}, 8.01334374599901)\n",
      "DEBUG flwr 2024-02-13 15:56:02,111 | server.py:173 | evaluate_round 6: strategy sampled 2 clients (out of 2)\n",
      "02/13/2024 15:56:02:DEBUG:evaluate_round 6: strategy sampled 2 clients (out of 2)\n",
      "DEBUG flwr 2024-02-13 15:56:02,133 | server.py:187 | evaluate_round 6 received 2 results and 0 failures\n",
      "02/13/2024 15:56:02:DEBUG:evaluate_round 6 received 2 results and 0 failures\n",
      "DEBUG flwr 2024-02-13 15:56:02,134 | server.py:222 | fit_round 7: strategy sampled 2 clients (out of 2)\n",
      "02/13/2024 15:56:02:DEBUG:fit_round 7: strategy sampled 2 clients (out of 2)\n"
     ]
    },
    {
     "name": "stdout",
     "output_type": "stream",
     "text": [
      "Server-side evaluation loss 0.06348368525505066 / accuracy 0.625\n",
      "Server-side evaluation loss 0.06283245980739594 / accuracy 0.625\n",
      "Server-side evaluation loss 0.06223991513252258 / accuracy 0.625\n"
     ]
    },
    {
     "name": "stderr",
     "output_type": "stream",
     "text": [
      "DEBUG flwr 2024-02-13 15:56:02,168 | server.py:236 | fit_round 7 received 2 results and 0 failures\n",
      "02/13/2024 15:56:02:DEBUG:fit_round 7 received 2 results and 0 failures\n",
      "INFO flwr 2024-02-13 15:56:02,178 | server.py:125 | fit progress: (7, 0.061645135283470154, {'accuracy': 0.625}, 8.081435993999548)\n",
      "02/13/2024 15:56:02:INFO:fit progress: (7, 0.061645135283470154, {'accuracy': 0.625}, 8.081435993999548)\n",
      "DEBUG flwr 2024-02-13 15:56:02,180 | server.py:173 | evaluate_round 7: strategy sampled 2 clients (out of 2)\n",
      "02/13/2024 15:56:02:DEBUG:evaluate_round 7: strategy sampled 2 clients (out of 2)\n",
      "DEBUG flwr 2024-02-13 15:56:02,210 | server.py:187 | evaluate_round 7 received 2 results and 0 failures\n",
      "02/13/2024 15:56:02:DEBUG:evaluate_round 7 received 2 results and 0 failures\n",
      "DEBUG flwr 2024-02-13 15:56:02,211 | server.py:222 | fit_round 8: strategy sampled 2 clients (out of 2)\n",
      "02/13/2024 15:56:02:DEBUG:fit_round 8: strategy sampled 2 clients (out of 2)\n",
      "DEBUG flwr 2024-02-13 15:56:02,251 | server.py:236 | fit_round 8 received 2 results and 0 failures\n",
      "02/13/2024 15:56:02:DEBUG:fit_round 8 received 2 results and 0 failures\n",
      "INFO flwr 2024-02-13 15:56:02,256 | server.py:125 | fit progress: (8, 0.06106271594762802, {'accuracy': 0.625}, 8.158750108999811)\n",
      "02/13/2024 15:56:02:INFO:fit progress: (8, 0.06106271594762802, {'accuracy': 0.625}, 8.158750108999811)\n",
      "DEBUG flwr 2024-02-13 15:56:02,257 | server.py:173 | evaluate_round 8: strategy sampled 2 clients (out of 2)\n",
      "02/13/2024 15:56:02:DEBUG:evaluate_round 8: strategy sampled 2 clients (out of 2)\n",
      "DEBUG flwr 2024-02-13 15:56:02,277 | server.py:187 | evaluate_round 8 received 2 results and 0 failures\n",
      "02/13/2024 15:56:02:DEBUG:evaluate_round 8 received 2 results and 0 failures\n",
      "DEBUG flwr 2024-02-13 15:56:02,278 | server.py:222 | fit_round 9: strategy sampled 2 clients (out of 2)\n",
      "02/13/2024 15:56:02:DEBUG:fit_round 9: strategy sampled 2 clients (out of 2)\n",
      "DEBUG flwr 2024-02-13 15:56:02,320 | server.py:236 | fit_round 9 received 2 results and 0 failures\n",
      "02/13/2024 15:56:02:DEBUG:fit_round 9 received 2 results and 0 failures\n",
      "INFO flwr 2024-02-13 15:56:02,328 | server.py:125 | fit progress: (9, 0.06058136373758316, {'accuracy': 0.625}, 8.23064555199926)\n",
      "02/13/2024 15:56:02:INFO:fit progress: (9, 0.06058136373758316, {'accuracy': 0.625}, 8.23064555199926)\n",
      "DEBUG flwr 2024-02-13 15:56:02,328 | server.py:173 | evaluate_round 9: strategy sampled 2 clients (out of 2)\n",
      "02/13/2024 15:56:02:DEBUG:evaluate_round 9: strategy sampled 2 clients (out of 2)\n",
      "DEBUG flwr 2024-02-13 15:56:02,352 | server.py:187 | evaluate_round 9 received 2 results and 0 failures\n",
      "02/13/2024 15:56:02:DEBUG:evaluate_round 9 received 2 results and 0 failures\n",
      "DEBUG flwr 2024-02-13 15:56:02,353 | server.py:222 | fit_round 10: strategy sampled 2 clients (out of 2)\n",
      "02/13/2024 15:56:02:DEBUG:fit_round 10: strategy sampled 2 clients (out of 2)\n"
     ]
    },
    {
     "name": "stdout",
     "output_type": "stream",
     "text": [
      "Server-side evaluation loss 0.061645135283470154 / accuracy 0.625\n",
      "Server-side evaluation loss 0.06106271594762802 / accuracy 0.625\n",
      "Server-side evaluation loss 0.06058136373758316 / accuracy 0.625\n"
     ]
    },
    {
     "name": "stderr",
     "output_type": "stream",
     "text": [
      "DEBUG flwr 2024-02-13 15:56:02,407 | server.py:236 | fit_round 10 received 2 results and 0 failures\n",
      "02/13/2024 15:56:02:DEBUG:fit_round 10 received 2 results and 0 failures\n",
      "INFO flwr 2024-02-13 15:56:02,414 | server.py:125 | fit progress: (10, 0.06007593870162964, {'accuracy': 0.625}, 8.316932846999407)\n",
      "02/13/2024 15:56:02:INFO:fit progress: (10, 0.06007593870162964, {'accuracy': 0.625}, 8.316932846999407)\n",
      "DEBUG flwr 2024-02-13 15:56:02,415 | server.py:173 | evaluate_round 10: strategy sampled 2 clients (out of 2)\n",
      "02/13/2024 15:56:02:DEBUG:evaluate_round 10: strategy sampled 2 clients (out of 2)\n",
      "DEBUG flwr 2024-02-13 15:56:02,439 | server.py:187 | evaluate_round 10 received 2 results and 0 failures\n",
      "02/13/2024 15:56:02:DEBUG:evaluate_round 10 received 2 results and 0 failures\n",
      "INFO flwr 2024-02-13 15:56:02,440 | server.py:153 | FL finished in 8.343552473999807\n",
      "02/13/2024 15:56:02:INFO:FL finished in 8.343552473999807\n",
      "INFO flwr 2024-02-13 15:56:02,442 | app.py:226 | app_fit: losses_distributed [(1, 0.048256014115535296), (2, 0.047671017165367424), (3, 0.04705386465558639), (4, 0.04648680182603689), (5, 0.04592530028178142), (6, 0.0454058895030847), (7, 0.04487835386624703), (8, 0.04436897629728684), (9, 0.04394516492119202), (10, 0.04349827952682972)]\n",
      "02/13/2024 15:56:02:INFO:app_fit: losses_distributed [(1, 0.048256014115535296), (2, 0.047671017165367424), (3, 0.04705386465558639), (4, 0.04648680182603689), (5, 0.04592530028178142), (6, 0.0454058895030847), (7, 0.04487835386624703), (8, 0.04436897629728684), (9, 0.04394516492119202), (10, 0.04349827952682972)]\n",
      "INFO flwr 2024-02-13 15:56:02,443 | app.py:227 | app_fit: metrics_distributed_fit {}\n",
      "02/13/2024 15:56:02:INFO:app_fit: metrics_distributed_fit {}\n",
      "INFO flwr 2024-02-13 15:56:02,443 | app.py:228 | app_fit: metrics_distributed {}\n",
      "02/13/2024 15:56:02:INFO:app_fit: metrics_distributed {}\n",
      "INFO flwr 2024-02-13 15:56:02,444 | app.py:229 | app_fit: losses_centralized [(0, 0.06630590558052063), (1, 0.06550507992506027), (2, 0.06483973562717438), (3, 0.06413096934556961), (4, 0.06348368525505066), (5, 0.06283245980739594), (6, 0.06223991513252258), (7, 0.061645135283470154), (8, 0.06106271594762802), (9, 0.06058136373758316), (10, 0.06007593870162964)]\n",
      "02/13/2024 15:56:02:INFO:app_fit: losses_centralized [(0, 0.06630590558052063), (1, 0.06550507992506027), (2, 0.06483973562717438), (3, 0.06413096934556961), (4, 0.06348368525505066), (5, 0.06283245980739594), (6, 0.06223991513252258), (7, 0.061645135283470154), (8, 0.06106271594762802), (9, 0.06058136373758316), (10, 0.06007593870162964)]\n",
      "INFO flwr 2024-02-13 15:56:02,445 | app.py:230 | app_fit: metrics_centralized {'accuracy': [(0, 0.625), (1, 0.625), (2, 0.625), (3, 0.625), (4, 0.625), (5, 0.625), (6, 0.625), (7, 0.625), (8, 0.625), (9, 0.625), (10, 0.625)]}\n",
      "02/13/2024 15:56:02:INFO:app_fit: metrics_centralized {'accuracy': [(0, 0.625), (1, 0.625), (2, 0.625), (3, 0.625), (4, 0.625), (5, 0.625), (6, 0.625), (7, 0.625), (8, 0.625), (9, 0.625), (10, 0.625)]}\n"
     ]
    },
    {
     "name": "stdout",
     "output_type": "stream",
     "text": [
      "Server-side evaluation loss 0.06007593870162964 / accuracy 0.625\n"
     ]
    }
   ],
   "source": [
    "# Run the Traning of the model\n",
    "history = ppl_1.server.run()"
   ]
  },
  {
   "cell_type": "code",
   "execution_count": 17,
   "metadata": {},
   "outputs": [
    {
     "name": "stdout",
     "output_type": "stream",
     "text": [
      "History (loss, distributed):\n",
      "\tround 1: 0.048256014115535296\n",
      "\tround 2: 0.047671017165367424\n",
      "\tround 3: 0.04705386465558639\n",
      "\tround 4: 0.04648680182603689\n",
      "\tround 5: 0.04592530028178142\n",
      "\tround 6: 0.0454058895030847\n",
      "\tround 7: 0.04487835386624703\n",
      "\tround 8: 0.04436897629728684\n",
      "\tround 9: 0.04394516492119202\n",
      "\tround 10: 0.04349827952682972\n",
      "History (loss, centralized):\n",
      "\tround 0: 0.06630590558052063\n",
      "\tround 1: 0.06550507992506027\n",
      "\tround 2: 0.06483973562717438\n",
      "\tround 3: 0.06413096934556961\n",
      "\tround 4: 0.06348368525505066\n",
      "\tround 5: 0.06283245980739594\n",
      "\tround 6: 0.06223991513252258\n",
      "\tround 7: 0.061645135283470154\n",
      "\tround 8: 0.06106271594762802\n",
      "\tround 9: 0.06058136373758316\n",
      "\tround 10: 0.06007593870162964\n",
      "History (metrics, centralized):\n",
      "{'accuracy': [(0, 0.625), (1, 0.625), (2, 0.625), (3, 0.625), (4, 0.625), (5, 0.625), (6, 0.625), (7, 0.625), (8, 0.625), (9, 0.625), (10, 0.625)]}\n"
     ]
    }
   ],
   "source": [
    "# Show thehistory of trining \n",
    "print(history)"
   ]
  },
  {
   "cell_type": "markdown",
   "metadata": {},
   "source": [
    "### 5. Store tests \n",
    "\n",
    "<div style=\"display:flex\">\n",
    "<div>\n",
    "\n",
    "The initial phase of model testing involves utilizing test loaders on test nodes to evaluate the model's performance. This testing phase launches assessments on designated test nodes, generating results that are subsequently stored in a database. These stored results serve the purpose of enabling later comparisons and evaluations among different models\n",
    "\n",
    "The tutorial labeled as `5_LearningResults-checkpoint` demonstrates diverse results and outputs accessible from the learning process. It elaborates on the multifaceted advantages and applications derived from these outcomes, emphasizing how each result can be effectively utilized for various purposes within the context of learning and model evaluation.\n",
    "</div>\n",
    "<div>\n",
    "\n",
    "<img src='../Images/modeltest.png' width=\"300\" style=\"display: block  ; margin : 0 auto\" />\n",
    "</div>\n",
    "\n",
    "</div>\n"
   ]
  },
  {
   "cell_type": "code",
   "execution_count": 18,
   "metadata": {},
   "outputs": [
    {
     "name": "stdout",
     "output_type": "stream",
     "text": [
      "\u001b[2m\u001b[36m(DefaultActor pid=29969)\u001b[0m epsilon of client 1 : eps = 0\n",
      "\u001b[2m\u001b[36m(DefaultActor pid=29969)\u001b[0m [Client 0] evaluate, config: {}\n"
     ]
    },
    {
     "data": {
      "image/png": "[encoded data removed]",
      "text/plain": [
       "<Figure size 800x600 with 1 Axes>"
      ]
     },
     "metadata": {},
     "output_type": "display_data"
    }
   ],
   "source": [
    "# Make some plots \n",
    "global_accuracy,global_loss = ppl_1.server.accuracies,ppl_1.server.losses\n",
    "results_dict = {\n",
    "    ('LR: 0.001, Optimizer: SGD', 'accuracy'): global_accuracy,\n",
    "    ('LR: 0.001, Optimizer: SGD', 'loss'): global_loss\n",
    "}\n",
    "plotter = AccuracyLossPlotter(results_dict)\n",
    "\n",
    "plotter.plot_accuracy_loss()"
   ]
  },
  {
   "cell_type": "code",
   "execution_count": 19,
   "metadata": {},
   "outputs": [
    {
     "data": {
      "text/plain": [
       "[{'node_name': 'Midwest',\n",
       "  'classification_report': \"{'confusion matrix': {'TP': 0, 'FP': 4, 'FN': 0, 'TN': 14}, 'Accuracy': 0.778, 'Sensitivity/Recall': 0.0, 'Specificity': 0.778, 'PPV/Precision': 0.0, 'NPV': 1.0, 'F1-score': 0.0, 'False positive rate': 0.222, 'True positive rate': 0.0}\"},\n",
       " {'node_name': 'South',\n",
       "  'classification_report': \"{'confusion matrix': {'TP': 2, 'FP': 5, 'FN': 2, 'TN': 23}, 'Accuracy': 0.781, 'Sensitivity/Recall': 0.5, 'Specificity': 0.821, 'PPV/Precision': 0.286, 'NPV': 0.92, 'F1-score': 0.364, 'False positive rate': 0.179, 'True positive rate': 0.5}\"},\n",
       " {'node_name': 'West',\n",
       "  'classification_report': \"{'confusion matrix': {'TP': 11, 'FP': 11, 'FN': 10, 'TN': 61}, 'Accuracy': 0.774, 'Sensitivity/Recall': 0.524, 'Specificity': 0.847, 'PPV/Precision': 0.5, 'NPV': 0.859, 'F1-score': 0.512, 'False positive rate': 0.153, 'True positive rate': 0.524}\"},\n",
       " {'node_name': 'Northeast',\n",
       "  'classification_report': \"{'confusion matrix': {'TP': 6, 'FP': 6, 'FN': 6, 'TN': 28}, 'Accuracy': 0.739, 'Sensitivity/Recall': 0.5, 'Specificity': 0.824, 'PPV/Precision': 0.5, 'NPV': 0.824, 'F1-score': 0.5, 'False positive rate': 0.176, 'True positive rate': 0.5}\"}]"
      ]
     },
     "execution_count": 19,
     "metadata": {},
     "output_type": "execute_result"
    }
   ],
   "source": [
    "# Test the Modal on the Test nodes and store the results on the DB\n",
    "ppl_1.auto_test()"
   ]
  }
 ],
 "metadata": {
  "kernelspec": {
   "display_name": "Python 3",
   "language": "python",
   "name": "python3"
  },
  "language_info": {
   "codemirror_mode": {
    "name": "ipython",
    "version": 3
   },
   "file_extension": ".py",
   "mimetype": "text/x-python",
   "name": "python",
   "nbconvert_exporter": "python",
   "pygments_lexer": "ipython3",
   "version": "3.8.10"
  },
  "orig_nbformat": 4
 },
 "nbformat": 4,
 "nbformat_minor": 2
}
