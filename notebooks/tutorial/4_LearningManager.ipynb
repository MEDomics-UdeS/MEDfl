{
 "cells": [
  {
   "cell_type": "markdown",
   "metadata": {},
   "source": [
    "# **LearningManager**: Create a Federated Learning Pipeline using MedFL\n",
    "<img src='../Images/MEDfl_Diagramm.png' />\n",
    "\n",
    "The `Learning Manager`, serving as the second subpackage of *Medfl*, extends the work initiated by the `NetManager`. It operates by taking the federated dataset as its input and, through its processes, generates a **Trained model**. Additionally, it **stores relevant Results** within the database.\n",
    "\n",
    "<b>The Federated module</b>  of <b>MEDfl</b>, which is based on the <a href=\"https://flower.dev/\">Flower</a> framework, is well designed for doing this task, it's mainly follows the flower paradigm, but with many customization, to deal with the SQL database, and to be homogeneous with the <b>NetManager</b>\n",
    "\n",
    "\n",
    "<img src='../Images/LearningManager.png' width=\"50%\" />\n"
   ]
  },
  {
   "cell_type": "code",
   "execution_count": 1,
   "metadata": {},
   "outputs": [],
   "source": [
    "import sys\n",
    "sys.path.append('../..')\n",
    "\n",
    "import os\n",
    "os.environ['PYTHONPATH'] = '../..'"
   ]
  },
  {
   "cell_type": "markdown",
   "metadata": {},
   "source": [
    "Imports"
   ]
  },
  {
   "cell_type": "code",
   "execution_count": 2,
   "metadata": {},
   "outputs": [
    {
     "name": "stderr",
     "output_type": "stream",
     "text": [
      "2024-02-10 18:15:27,444\tINFO util.py:159 -- Missing packages: ['ipywidgets']. Run `pip install -U ipywidgets`, then restart the notebook server for rich notebook output.\n",
      "../..\\Medfl\\LearningManager\\utils.py:13: DeprecationWarning: \n",
      "Pyarrow will become a required dependency of pandas in the next major release of pandas (pandas 3.0),\n",
      "(to allow more performant data types, such as the Arrow string type, and better interoperability with other libraries)\n",
      "but was not found to be installed on your system.\n",
      "If this would cause problems for you,\n",
      "please provide us feedback at https://github.com/pandas-dev/pandas/issues/54466\n",
      "        \n",
      "  import pandas as pd\n"
     ]
    }
   ],
   "source": [
    "# Torch imports\n",
    "import torch\n",
    "import torch.nn as nn\n",
    "import torch.optim as optim\n",
    "\n",
    "# flower imports \n",
    "import flwr as fl\n",
    "\n",
    "# Medfl imports \n",
    "from Medfl.LearningManager.dynamicModal import DynamicModel\n",
    "from Medfl.LearningManager.model import Model\n",
    "from Medfl.LearningManager.strategy import Strategy\n",
    "from Medfl.LearningManager.server import *\n",
    "\n",
    "from Medfl.NetManager.flsetup import FLsetup\n",
    "from Medfl.LearningManager.flpipeline import *\n",
    "\n",
    "from Medfl.LearningManager.plot import AccuracyLossPlotter\n",
    "\n",
    "\n"
   ]
  },
  {
   "cell_type": "markdown",
   "metadata": {},
   "source": [
    "### 1. Modal inialization\n",
    "\n",
    "The first step involves initializing the model to subsequently transmit it to the central server. MedFL offers two distinct methods for model initialization:\n",
    "\n",
    "1. **Without Utilizing Transfer Learning:** This method is employed in scenarios where a pretrained model is unavailable. Here, the initial model is constructed from scratch, and subsequently transmitted to the central server (Simple Federated Learning).\n",
    "\n",
    "2. **Utilizing Transfer Learning:** This approach comes into play when a pretrained model exists, and the objective is to fine-tune it within the federated learning network (Federated-Transfer Learning).\n",
    "\n",
    "<img src='../Images/Modelinit.png' width=\"80%\" style=\"display: block  ; margin : 0 auto\" />"
   ]
  },
  {
   "cell_type": "markdown",
   "metadata": {},
   "source": [
    "### 1.1 without activation of Transfer Learning\n",
    "\n",
    "in this methode we can eather specify the structure of our neural network ( number and size of layers, activation function ) or we can write define our modal and write the code from scratch and pass it to the server \n",
    "\n",
    "\n",
    "As MEDfl is based on flower, it has only 3 models based on torch neural nets  :\n",
    "<ul>\n",
    "    <li> Binary Classifier </li>\n",
    "    <li> Multiclass Classifier</li>\n",
    "    <li> Linear Regressor</li>\n",
    "</ul>\n",
    "\n",
    "the choice of the model and all machine learning parameters (learning rate, eopch size, train epochs), should be declared on a YAML file. `Medfl/learningManager/params.yaml`\n"
   ]
  },
  {
   "cell_type": "markdown",
   "metadata": {},
   "source": [
    "A. Create the modal from scratch "
   ]
  },
  {
   "cell_type": "code",
   "execution_count": 3,
   "metadata": {},
   "outputs": [
    {
     "data": {
      "text/plain": [
       "<Medfl.LearningManager.model.Model at 0x262ed9046a0>"
      ]
     },
     "execution_count": 3,
     "metadata": {},
     "output_type": "execute_result"
    }
   ],
   "source": [
    "class BinaryClassifier(nn.Module):\n",
    "  def __init__(self,input_dim,hidden_dim,output_dim):\n",
    "\n",
    "    super(BinaryClassifier, self).__init__()\n",
    "    self.fc1 = nn.Linear(input_dim,hidden_dim)\n",
    "    self.fc2 = nn.Linear(hidden_dim,2*hidden_dim)\n",
    "    self.fc3 = nn.Linear(2*hidden_dim,output_dim)\n",
    "\n",
    "  def forward(self,x):\n",
    "    x = torch.relu(self.fc1(x))\n",
    "    x = torch.relu(self.fc2(x))\n",
    "    x = torch.sigmoid(self.fc3(x))#softmax\n",
    "    return x\n",
    "\n",
    "# Create an instance of BinaryClassifier \n",
    "# The input dim is the number of columns in the federated DataSet \n",
    "binary_classifier= BinaryClassifier(18,6,1)\n",
    "# define the optimizer and criterion\n",
    "optimizer,criterion = optim.SGD(binary_classifier.parameters(), lr=0.0001),nn.BCELoss()\n",
    "\n",
    "# Creating a new Model instance using the specific model created by DynamicModel\n",
    "global_model = Model(binary_classifier, optimizer, criterion)\n",
    "\n",
    "# The modal to be passed to the server \n",
    "global_model\n"
   ]
  },
  {
   "cell_type": "markdown",
   "metadata": {},
   "source": [
    "B. Create a Dynamic Using the DynamicModal class"
   ]
  },
  {
   "cell_type": "code",
   "execution_count": 19,
   "metadata": {},
   "outputs": [
    {
     "data": {
      "text/plain": [
       "[array([[ 0.02406503, -0.17121997, -0.08079292, -0.16901332,  0.2324345 ,\n",
       "         -0.16897714, -0.19145586,  0.17876862,  0.02873974,  0.19093858,\n",
       "         -0.00256267, -0.11478596, -0.0325125 ,  0.04927446,  0.16021062,\n",
       "          0.21506943,  0.05242749, -0.04947397]], dtype=float32),\n",
       " array([-0.15962057], dtype=float32)]"
      ]
     },
     "execution_count": 19,
     "metadata": {},
     "output_type": "execute_result"
    }
   ],
   "source": [
    "# Creating a DynamicModel instance\n",
    "dynamic_model = DynamicModel()\n",
    "\n",
    "# Creating a specific model dynamically using DynamicModel\n",
    "specific_model = dynamic_model.create_model(model_type='Logistic Regressor', params_dict={\"input_dim\": 18, \"output_dim\": 1})\n",
    "\n",
    "# Pass the specific_model to the Model class\n",
    "optimizer = optim.SGD(specific_model.parameters(), lr=0.0001)\n",
    "criterion = nn.BCELoss()\n",
    "\n",
    "\n",
    "# Creating a new Model instance using the specific model created by DynamicModel\n",
    "global_model = Model(specific_model, optimizer, criterion)\n",
    "\n",
    "# The modal to be passed to the server\n",
    "global_model.get_parameters()"
   ]
  },
  {
   "cell_type": "markdown",
   "metadata": {},
   "source": [
    "### 1.2 Using the Transfer Learning \n",
    "\n",
    "in this method we will use a pretrained modal that we showed on the 3rd tutorial `3_transferLearning-checkpoint` "
   ]
  },
  {
   "cell_type": "code",
   "execution_count": 4,
   "metadata": {},
   "outputs": [],
   "source": [
    "# Define the neural network model using PyTorch\n",
    "class BinaryClassifier(nn.Module):\n",
    "    def __init__(self, input_dim):\n",
    "        super(BinaryClassifier, self).__init__()\n",
    "        self.fc1 = nn.Linear(input_dim, 64)\n",
    "        self.dropout1 = nn.Dropout(0.5)\n",
    "        self.fc2 = nn.Linear(64, 32)\n",
    "        self.dropout2 = nn.Dropout(0.3)\n",
    "        self.output = nn.Linear(32, 1)\n",
    "        self.sigmoid = nn.Sigmoid()\n",
    "\n",
    "    def forward(self, x):\n",
    "        x = torch.relu(self.fc1(x))\n",
    "        x = self.dropout1(x)\n",
    "        x = torch.relu(self.fc2(x))\n",
    "        x = self.dropout2(x)\n",
    "        x = self.output(x)\n",
    "        x = self.sigmoid(x)\n",
    "        return x"
   ]
  },
  {
   "cell_type": "code",
   "execution_count": 5,
   "metadata": {},
   "outputs": [
    {
     "name": "stdout",
     "output_type": "stream",
     "text": [
      "BinaryClassifier(\n",
      "  (fc1): Linear(in_features=17, out_features=64, bias=True)\n",
      "  (dropout1): Dropout(p=0.5, inplace=False)\n",
      "  (fc2): Linear(in_features=64, out_features=32, bias=True)\n",
      "  (dropout2): Dropout(p=0.3, inplace=False)\n",
      "  (output): Linear(in_features=32, out_features=1, bias=True)\n",
      "  (sigmoid): Sigmoid()\n",
      ")\n"
     ]
    }
   ],
   "source": [
    "# Load the pretrained model\n",
    "model = Model.load_model(\"binary_classifier\")\n",
    "\n",
    "\n",
    "# Pass the specific_model to the Model class\n",
    "optimizer = optim.SGD(model.parameters(), lr=0.0001)\n",
    "criterion = nn.BCELoss()\n",
    "\n",
    "# Creating a new Model instance using the specific model created by DynamicModel\n",
    "global_model = Model(model, optimizer, criterion)\n",
    "\n",
    "# Get the initial params of the model \n",
    "init_params = global_model.get_parameters() ; \n",
    "\n",
    "print(model)"
   ]
  },
  {
   "cell_type": "markdown",
   "metadata": {},
   "source": [
    "### 2. Define the Aggregation Algorithms (**Aggregation Strategy**)\n",
    "\n",
    "Aggregation algorithms are the mechanizms used by the server to produce a joint unified model, they are known as <b>Strategies</b> on <b>Flower</b>,  in the literature we have many aggregation algorithms, it's true that not all of them are implemented in flower, but we have the most used ones:\n",
    " <ul>\n",
    "    <li><a href = \"arxiv.org/abs/1602.05629\">Federated Averaging (FedAvg)</a></li>\n",
    "    <li><a href = \"arxiv.org/abs/2003.00295\">Adaptive Federated Optimization using Adam (FedAdam)</a></li>\n",
    "    <li><a href = \"arxiv.org/pdf/1803.01498v1.pdf\">Federated Median (FedMedian)</a></li>\n",
    "    <li><a href = \"arxiv.org/pdf/1909.06335.pdf\">Federated Averaging with Momentum (FedAvgM)</a></li>\n",
    "    <li><a href = \"arxiv.org/abs/2003.00295\">Adaptive Federated Optimization using Yogi (FedYogi)</a></li>\n",
    "    <li><a href = \"arxiv.org/abs/2003.00295\">Adaptive Federated Optimization (FedOpt)</a></li>\n",
    "    <li><a href = \"arxiv.org/abs/1812.06127\">Federated Optimization (FedProx)</a></li>\n",
    "    <li><a href = \"openreview.net/pdf?id=ByexElSYDr\">FAIR RESOURCE ALLOCATION IN FEDERATED LEARNING (QFedAvg)</a></li>\n",
    "    <li><a href = \"arxiv.org/abs/2003.00295\">Adaptive Federated Optimization using Adagrad (FedAdagrad)</a></li>\n",
    " </ul>\n",
    "We can also find them on the strategy directory on Flower."
   ]
  },
  {
   "cell_type": "code",
   "execution_count": 22,
   "metadata": {},
   "outputs": [
    {
     "data": {
      "text/plain": [
       "['Bulyan',\n",
       " 'DPFedAvgAdaptive',\n",
       " 'DPFedAvgFixed',\n",
       " 'FaultTolerantFedAvg',\n",
       " 'FedAdagrad',\n",
       " 'FedAdam',\n",
       " 'FedAvg',\n",
       " 'FedAvgAndroid',\n",
       " 'FedAvgM',\n",
       " 'FedMedian',\n",
       " 'FedOpt',\n",
       " 'FedProx',\n",
       " 'FedTrimmedAvg',\n",
       " 'FedXgbBagging',\n",
       " 'FedXgbCyclic',\n",
       " 'FedXgbNnAvg',\n",
       " 'FedYogi',\n",
       " 'Krum',\n",
       " 'QFedAvg',\n",
       " 'Strategy',\n",
       " '__all__',\n",
       " '__builtins__',\n",
       " '__cached__',\n",
       " '__doc__',\n",
       " '__file__',\n",
       " '__loader__',\n",
       " '__name__',\n",
       " '__package__',\n",
       " '__path__',\n",
       " '__spec__',\n",
       " 'aggregate',\n",
       " 'bulyan',\n",
       " 'dpfedavg_adaptive',\n",
       " 'dpfedavg_fixed',\n",
       " 'fault_tolerant_fedavg',\n",
       " 'fedadagrad',\n",
       " 'fedadam',\n",
       " 'fedavg',\n",
       " 'fedavg_android',\n",
       " 'fedavgm',\n",
       " 'fedmedian',\n",
       " 'fedopt',\n",
       " 'fedprox',\n",
       " 'fedtrimmedavg',\n",
       " 'fedxgb_bagging',\n",
       " 'fedxgb_cyclic',\n",
       " 'fedxgb_nn_avg',\n",
       " 'fedyogi',\n",
       " 'krum',\n",
       " 'qfedavg',\n",
       " 'strategy']"
      ]
     },
     "execution_count": 22,
     "metadata": {},
     "output_type": "execute_result"
    }
   ],
   "source": [
    "# List all available aggregation strategies on flower \n",
    "dir(fl.server.strategy)"
   ]
  },
  {
   "cell_type": "markdown",
   "metadata": {},
   "source": [
    "<div style=\"display : flex\"> \n",
    "<div >The creation of a strategy is based on the \"Strategy\" Class, it's enough to pass the name of one of the mentionned strategies, and other federated learning parameters which are used during federation rounds.\n",
    "\n",
    "<ul>\n",
    "    <li><u>fraction_fit :</u> the fraction of clients to sample in order  to train the model </li>\n",
    "    <li><u>fraction_evaluate  :</u> the fraction of clients to sample in order to evaluate the model (validation) </li>\n",
    "    <li><u>min_fit_clients :</u>  the minimum number of clients to sample for the training on each round</li>\n",
    "    <li><u>min_evaluate_clients :</u> the minimum number of clients to be sampled for the evaluation on each round </li>\n",
    "    <li><u>min_available_clients :</u> the minimum  required number of available clients to start a federation round </li>\n",
    "<ul></div>\n",
    "<div>\n",
    "<img src='../Images/strategy.png' width=\"80%\" style=\"display: block  ; margin : 0 auto\" />\n",
    "</div>\n",
    "</div>\n",
    "\n"
   ]
  },
  {
   "cell_type": "code",
   "execution_count": 6,
   "metadata": {},
   "outputs": [],
   "source": [
    "# Create the strategy\n",
    "fed_avg = Strategy(\"FedAvg\", \n",
    "                   fraction_fit = 1.0 ,\n",
    "                   fraction_evaluate = 1.0,\n",
    "                   min_fit_clients = 2,\n",
    "                   min_evaluate_clients = 2,\n",
    "                   min_available_clients = 2 , \n",
    "                   initial_parameters=global_model.get_parameters())"
   ]
  },
  {
   "cell_type": "markdown",
   "metadata": {},
   "source": [
    "### 3. Federated Learning Server\n",
    "The server in the FL terminology, is the set of the mechanizms that orchestrate  all the FL processes, (distributing the model to  clients, getting the models updates from clients, aggregate these updates. \n",
    "\n",
    "**Remark :** The FL Server has no relation ! with webservers or any other server concepts.\n",
    "\n",
    "#### MEDfl server\n",
    "\n",
    "<div style=\"display : flex\"> \n",
    "<div >\n",
    "\n",
    "The FL server on MEDfl, is based on the server class of Flower, but with our customization, because we have addeda gradient perturbing feature using [Opacus](https://opacus.ai), so we can make the FLpipeline **differentially privacy** </b> \n",
    "\n",
    "The FLserver in MEDfl, has the follwoing attributes : \n",
    "\n",
    "<ul>\n",
    "    <li> <u>global_model :</u> The global model\n",
    "    <li> <u>strategy :</u> The  aggregation strategy\n",
    "    <li> <u>num_rounds :</u> The number of federation rounds\n",
    "    <li> <u>num_clients :</u> The number of train nodes\n",
    "    <li> <u>dataset :</u> The federated dataset generated by an FLsetup\n",
    "    <li> <u>diff_privacy :</u> a boolean variable to  enable (disable) the Differentially Private training mode\n",
    "</ul>\n",
    "\n",
    "</div>\n",
    "<div>\n",
    "<img src='../Images/createServer.png' width=\"250\" style=\"display: block  ; margin : 0 auto\" />\n",
    "</div>\n",
    "</div>\n",
    "\n"
   ]
  },
  {
   "cell_type": "markdown",
   "metadata": {},
   "source": [
    "For the federated Dataset will use the one generated on the 2nd tuto `2_NetManager-checkpoint`"
   ]
  },
  {
   "cell_type": "code",
   "execution_count": 7,
   "metadata": {},
   "outputs": [
    {
     "data": {
      "text/plain": [
       "1"
      ]
     },
     "execution_count": 7,
     "metadata": {},
     "output_type": "execute_result"
    }
   ],
   "source": [
    "# use the auto setup created on the second tuto\n",
    "fl_setup = FLsetup.read_setup(1)\n",
    "fl_setup.id"
   ]
  },
  {
   "cell_type": "code",
   "execution_count": 8,
   "metadata": {},
   "outputs": [
    {
     "data": {
      "text/html": [
       "<div>\n",
       "<style scoped>\n",
       "    .dataframe tbody tr th:only-of-type {\n",
       "        vertical-align: middle;\n",
       "    }\n",
       "\n",
       "    .dataframe tbody tr th {\n",
       "        vertical-align: top;\n",
       "    }\n",
       "\n",
       "    .dataframe thead th {\n",
       "        text-align: right;\n",
       "    }\n",
       "</style>\n",
       "<table border=\"1\" class=\"dataframe\">\n",
       "  <thead>\n",
       "    <tr style=\"text-align: right;\">\n",
       "      <th></th>\n",
       "      <th>FedId</th>\n",
       "      <th>FLsetupId</th>\n",
       "      <th>FLpipeId</th>\n",
       "      <th>name</th>\n",
       "    </tr>\n",
       "  </thead>\n",
       "  <tbody>\n",
       "    <tr>\n",
       "      <th>0</th>\n",
       "      <td>1</td>\n",
       "      <td>1</td>\n",
       "      <td>None</td>\n",
       "      <td>Flsetup_1_Feddataset</td>\n",
       "    </tr>\n",
       "  </tbody>\n",
       "</table>\n",
       "</div>"
      ],
      "text/plain": [
       "   FedId  FLsetupId FLpipeId                  name\n",
       "0      1          1     None  Flsetup_1_Feddataset"
      ]
     },
     "execution_count": 8,
     "metadata": {},
     "output_type": "execute_result"
    }
   ],
   "source": [
    "# The federated dataset is already created \n",
    "fl_setup.get_flDataSet()"
   ]
  },
  {
   "cell_type": "code",
   "execution_count": 9,
   "metadata": {},
   "outputs": [
    {
     "data": {
      "text/plain": [
       "17"
      ]
     },
     "execution_count": 9,
     "metadata": {},
     "output_type": "execute_result"
    }
   ],
   "source": [
    "# Create the federated Data set ( in our case the federated Dataset is created it will use it directly)\n",
    "fl_dataset = fl_setup.create_federated_dataset(\n",
    "   output=\"event_death\", \n",
    "       fit_encode=[\"site_hospital\", \"site_region\"], \n",
    "    to_drop=[ \"event_death\" , \"id\" ], \n",
    "  )\n",
    "\n",
    "fl_dataset.size"
   ]
  },
  {
   "cell_type": "code",
   "execution_count": 10,
   "metadata": {},
   "outputs": [],
   "source": [
    "# Create The server \n",
    "server = FlowerServer(global_model, strategy = fed_avg, num_rounds = 10,\n",
    "                       num_clients  = len(fl_dataset.trainloaders), \n",
    "                       fed_dataset = fl_dataset,diff_privacy = False ,\n",
    "                       # You can change the resources alocated for each client based on your machine \n",
    "                       client_resources={'num_cpus': 1.0, 'num_gpus': 0.0}\n",
    "                       )"
   ]
  },
  {
   "cell_type": "markdown",
   "metadata": {},
   "source": [
    "### 4. FL Pipeline Creation\n",
    "\n",
    "<div style=\"display : flex\"> \n",
    "<div >\n",
    "\n",
    "The Federated pipeline is the class responsible of running the federated learning process, launch the training of the model then test it and store the results in the database \n",
    "\n",
    "To create a pipeline we need to provide the `name`, `description` and finaly the `server` \n",
    "\n",
    "</div>\n",
    "<div>\n",
    "<img src='../Images/pipeline.png' width=\"250\" style=\"display: block  ; margin : 0 auto\" />\n",
    "</div>\n",
    "</div>\n",
    "\n"
   ]
  },
  {
   "cell_type": "code",
   "execution_count": 11,
   "metadata": {},
   "outputs": [],
   "source": [
    "# Create the pipeline \n",
    "ppl_1 = FLpipeline( name =\"the first fl_pipeline\",description = \"this is our second FL pipeline\",\n",
    "                   server = server)"
   ]
  },
  {
   "cell_type": "code",
   "execution_count": 12,
   "metadata": {},
   "outputs": [
    {
     "data": {
      "text/plain": [
       "['Midwest', 'South', 'West', 'Northeast']"
      ]
     },
     "execution_count": 12,
     "metadata": {},
     "output_type": "execute_result"
    }
   ],
   "source": [
    "# Display the Tests nodes on the federated dataset\n",
    "ppl_1.server.fed_dataset.test_nodes"
   ]
  },
  {
   "cell_type": "code",
   "execution_count": 13,
   "metadata": {},
   "outputs": [
    {
     "name": "stdout",
     "output_type": "stream",
     "text": [
      "18\n",
      "32\n",
      "93\n"
     ]
    }
   ],
   "source": [
    "print(len(ppl_1.server.fed_dataset.testloaders[0]))\n",
    "print(len(ppl_1.server.fed_dataset.testloaders[1]))\n",
    "print(len(ppl_1.server.fed_dataset.testloaders[2]))"
   ]
  },
  {
   "cell_type": "code",
   "execution_count": 14,
   "metadata": {},
   "outputs": [
    {
     "name": "stderr",
     "output_type": "stream",
     "text": [
      "INFO flwr 2024-02-10 18:16:09,031 | app.py:178 | Starting Flower simulation, config: ServerConfig(num_rounds=10, round_timeout=None)\n",
      "02/10/2024 18:16:09:INFO:Starting Flower simulation, config: ServerConfig(num_rounds=10, round_timeout=None)\n",
      "2024-02-10 18:16:13,794\tINFO worker.py:1621 -- Started a local Ray instance.\n",
      "INFO flwr 2024-02-10 18:16:18,435 | app.py:213 | Flower VCE: Ray initialized with resources: {'node:__internal_head__': 1.0, 'CPU': 8.0, 'object_store_memory': 78643200.0, 'node:127.0.0.1': 1.0, 'memory': 921882624.0}\n",
      "02/10/2024 18:16:18:INFO:Flower VCE: Ray initialized with resources: {'node:__internal_head__': 1.0, 'CPU': 8.0, 'object_store_memory': 78643200.0, 'node:127.0.0.1': 1.0, 'memory': 921882624.0}\n",
      "INFO flwr 2024-02-10 18:16:18,438 | app.py:219 | Optimize your simulation with Flower VCE: https://flower.dev/docs/framework/how-to-run-simulations.html\n",
      "02/10/2024 18:16:18:INFO:Optimize your simulation with Flower VCE: https://flower.dev/docs/framework/how-to-run-simulations.html\n",
      "INFO flwr 2024-02-10 18:16:18,440 | app.py:242 | Flower VCE: Resources for each Virtual Client: {'num_cpus': 1.0, 'num_gpus': 0.0}\n",
      "02/10/2024 18:16:18:INFO:Flower VCE: Resources for each Virtual Client: {'num_cpus': 1.0, 'num_gpus': 0.0}\n",
      "INFO flwr 2024-02-10 18:16:18,480 | app.py:288 | Flower VCE: Creating VirtualClientEngineActorPool with 8 actors\n",
      "02/10/2024 18:16:18:INFO:Flower VCE: Creating VirtualClientEngineActorPool with 8 actors\n",
      "INFO flwr 2024-02-10 18:16:18,501 | server.py:89 | Initializing global parameters\n",
      "02/10/2024 18:16:18:INFO:Initializing global parameters\n",
      "INFO flwr 2024-02-10 18:16:18,518 | server.py:272 | Using initial parameters provided by strategy\n",
      "02/10/2024 18:16:18:INFO:Using initial parameters provided by strategy\n",
      "INFO flwr 2024-02-10 18:16:18,521 | server.py:91 | Evaluating initial parameters\n",
      "02/10/2024 18:16:18:INFO:Evaluating initial parameters\n",
      "INFO flwr 2024-02-10 18:16:18,736 | server.py:94 | initial parameters (loss, other metrics): 0.041435450315475464, {'accuracy': 0.75}\n",
      "02/10/2024 18:16:18:INFO:initial parameters (loss, other metrics): 0.041435450315475464, {'accuracy': 0.75}\n",
      "INFO flwr 2024-02-10 18:16:18,739 | server.py:104 | FL starting\n",
      "02/10/2024 18:16:18:INFO:FL starting\n",
      "DEBUG flwr 2024-02-10 18:16:18,743 | server.py:222 | fit_round 1: strategy sampled 2 clients (out of 2)\n",
      "02/10/2024 18:16:18:DEBUG:fit_round 1: strategy sampled 2 clients (out of 2)\n"
     ]
    },
    {
     "name": "stdout",
     "output_type": "stream",
     "text": [
      "Server-side evaluation loss 0.041435450315475464 / accuracy 0.75\n"
     ]
    },
    {
     "name": "stderr",
     "output_type": "stream",
     "text": [
      "\u001b[2m\u001b[36m(DefaultActor pid=4448)\u001b[0m d:\\ESI\\3CS\\PFE\\last_year\\Code\\MEDfl\\Medfl\\LearningManager\\utils.py:13: DeprecationWarning: \n",
      "\u001b[2m\u001b[36m(DefaultActor pid=4448)\u001b[0m Pyarrow will become a required dependency of pandas in the next major release of pandas (pandas 3.0),\n",
      "\u001b[2m\u001b[36m(DefaultActor pid=4448)\u001b[0m (to allow more performant data types, such as the Arrow string type, and better interoperability with other libraries)\n",
      "\u001b[2m\u001b[36m(DefaultActor pid=4448)\u001b[0m but was not found to be installed on your system.\n",
      "\u001b[2m\u001b[36m(DefaultActor pid=4448)\u001b[0m If this would cause problems for you,\n",
      "\u001b[2m\u001b[36m(DefaultActor pid=4448)\u001b[0m please provide us feedback at https://github.com/pandas-dev/pandas/issues/54466\n",
      "\u001b[2m\u001b[36m(DefaultActor pid=4448)\u001b[0m         \n",
      "\u001b[2m\u001b[36m(DefaultActor pid=4448)\u001b[0m   import pandas as pd\n",
      "\u001b[2m\u001b[36m(DefaultActor pid=4448)\u001b[0m C:\\Users\\HP User\\AppData\\Roaming\\Python\\Python39\\site-packages\\opacus\\privacy_engine.py:142: UserWarning: Secure RNG turned off. This is perfectly fine for experimentation as it allows for much faster training performance, but remember to turn it on and retrain one last time before production with ``secure_mode`` turned on.\n",
      "\u001b[2m\u001b[36m(DefaultActor pid=4448)\u001b[0m   warnings.warn(\n",
      "\u001b[2m\u001b[36m(DefaultActor pid=4448)\u001b[0m C:\\Users\\HP User\\AppData\\Roaming\\Python\\Python39\\site-packages\\flwr\\simulation\\ray_transport\\ray_actor.py:72: DeprecationWarning:  Ensure your client is of type `flwr.client.Client`. Please convert it using the `.to_client()` method before returning it in the `client_fn` you pass to `start_simulation`. We have applied this conversion on your behalf. Not returning a `Client` might trigger an error in future versions of Flower.\n",
      "\u001b[2m\u001b[36m(DefaultActor pid=4448)\u001b[0m   client = check_clientfn_returns_client(client_fn(cid))\n",
      "DEBUG flwr 2024-02-10 18:16:28,883 | server.py:236 | fit_round 1 received 2 results and 0 failures\n",
      "02/10/2024 18:16:28:DEBUG:fit_round 1 received 2 results and 0 failures\n",
      "WARNING flwr 2024-02-10 18:16:28,890 | fedavg.py:250 | No fit_metrics_aggregation_fn provided\n",
      "02/10/2024 18:16:28:WARNING:No fit_metrics_aggregation_fn provided\n",
      "INFO flwr 2024-02-10 18:16:28,896 | server.py:125 | fit progress: (1, 0.04136635363101959, {'accuracy': 0.75}, 10.15356539999999)\n",
      "02/10/2024 18:16:28:INFO:fit progress: (1, 0.04136635363101959, {'accuracy': 0.75}, 10.15356539999999)\n",
      "DEBUG flwr 2024-02-10 18:16:28,901 | server.py:173 | evaluate_round 1: strategy sampled 2 clients (out of 2)\n",
      "02/10/2024 18:16:28:DEBUG:evaluate_round 1: strategy sampled 2 clients (out of 2)\n",
      "DEBUG flwr 2024-02-10 18:16:28,970 | server.py:187 | evaluate_round 1 received 2 results and 0 failures\n",
      "02/10/2024 18:16:28:DEBUG:evaluate_round 1 received 2 results and 0 failures\n",
      "WARNING flwr 2024-02-10 18:16:28,979 | fedavg.py:281 | No evaluate_metrics_aggregation_fn provided\n",
      "02/10/2024 18:16:28:WARNING:No evaluate_metrics_aggregation_fn provided\n",
      "DEBUG flwr 2024-02-10 18:16:28,986 | server.py:222 | fit_round 2: strategy sampled 2 clients (out of 2)\n",
      "02/10/2024 18:16:28:DEBUG:fit_round 2: strategy sampled 2 clients (out of 2)\n"
     ]
    },
    {
     "name": "stdout",
     "output_type": "stream",
     "text": [
      "\u001b[2m\u001b[36m(DefaultActor pid=4448)\u001b[0m [Client 1] fit, config: {}\n",
      "Server-side evaluation loss 0.04136635363101959 / accuracy 0.75\n",
      "\u001b[2m\u001b[36m(DefaultActor pid=4448)\u001b[0m epsilon of client 1 : eps = 0\n",
      "\u001b[2m\u001b[36m(DefaultActor pid=4448)\u001b[0m [Client 0] evaluate, config: {}\n"
     ]
    },
    {
     "name": "stderr",
     "output_type": "stream",
     "text": [
      "DEBUG flwr 2024-02-10 18:16:29,289 | server.py:236 | fit_round 2 received 2 results and 0 failures\n",
      "02/10/2024 18:16:29:DEBUG:fit_round 2 received 2 results and 0 failures\n",
      "INFO flwr 2024-02-10 18:16:29,317 | server.py:125 | fit progress: (2, 0.04130171239376068, {'accuracy': 0.75}, 10.5741692)\n",
      "02/10/2024 18:16:29:INFO:fit progress: (2, 0.04130171239376068, {'accuracy': 0.75}, 10.5741692)\n",
      "DEBUG flwr 2024-02-10 18:16:29,321 | server.py:173 | evaluate_round 2: strategy sampled 2 clients (out of 2)\n",
      "02/10/2024 18:16:29:DEBUG:evaluate_round 2: strategy sampled 2 clients (out of 2)\n",
      "DEBUG flwr 2024-02-10 18:16:29,446 | server.py:187 | evaluate_round 2 received 2 results and 0 failures\n",
      "02/10/2024 18:16:29:DEBUG:evaluate_round 2 received 2 results and 0 failures\n",
      "DEBUG flwr 2024-02-10 18:16:29,454 | server.py:222 | fit_round 3: strategy sampled 2 clients (out of 2)\n",
      "02/10/2024 18:16:29:DEBUG:fit_round 3: strategy sampled 2 clients (out of 2)\n"
     ]
    },
    {
     "name": "stdout",
     "output_type": "stream",
     "text": [
      "Server-side evaluation loss 0.04130171239376068 / accuracy 0.75\n"
     ]
    },
    {
     "name": "stderr",
     "output_type": "stream",
     "text": [
      "DEBUG flwr 2024-02-10 18:16:29,684 | server.py:236 | fit_round 3 received 2 results and 0 failures\n",
      "02/10/2024 18:16:29:DEBUG:fit_round 3 received 2 results and 0 failures\n",
      "INFO flwr 2024-02-10 18:16:29,704 | server.py:125 | fit progress: (3, 0.041248682886362076, {'accuracy': 0.75}, 10.96064729999999)\n",
      "02/10/2024 18:16:29:INFO:fit progress: (3, 0.041248682886362076, {'accuracy': 0.75}, 10.96064729999999)\n",
      "DEBUG flwr 2024-02-10 18:16:29,710 | server.py:173 | evaluate_round 3: strategy sampled 2 clients (out of 2)\n",
      "02/10/2024 18:16:29:DEBUG:evaluate_round 3: strategy sampled 2 clients (out of 2)\n",
      "DEBUG flwr 2024-02-10 18:16:29,797 | server.py:187 | evaluate_round 3 received 2 results and 0 failures\n",
      "02/10/2024 18:16:29:DEBUG:evaluate_round 3 received 2 results and 0 failures\n",
      "DEBUG flwr 2024-02-10 18:16:29,809 | server.py:222 | fit_round 4: strategy sampled 2 clients (out of 2)\n",
      "02/10/2024 18:16:29:DEBUG:fit_round 4: strategy sampled 2 clients (out of 2)\n"
     ]
    },
    {
     "name": "stdout",
     "output_type": "stream",
     "text": [
      "Server-side evaluation loss 0.041248682886362076 / accuracy 0.75\n"
     ]
    },
    {
     "name": "stderr",
     "output_type": "stream",
     "text": [
      "DEBUG flwr 2024-02-10 18:16:29,916 | server.py:236 | fit_round 4 received 2 results and 0 failures\n",
      "02/10/2024 18:16:29:DEBUG:fit_round 4 received 2 results and 0 failures\n",
      "INFO flwr 2024-02-10 18:16:29,927 | server.py:125 | fit progress: (4, 0.04120229557156563, {'accuracy': 0.75}, 11.18462679999999)\n",
      "02/10/2024 18:16:29:INFO:fit progress: (4, 0.04120229557156563, {'accuracy': 0.75}, 11.18462679999999)\n",
      "DEBUG flwr 2024-02-10 18:16:29,936 | server.py:173 | evaluate_round 4: strategy sampled 2 clients (out of 2)\n",
      "02/10/2024 18:16:29:DEBUG:evaluate_round 4: strategy sampled 2 clients (out of 2)\n",
      "DEBUG flwr 2024-02-10 18:16:30,013 | server.py:187 | evaluate_round 4 received 2 results and 0 failures\n",
      "02/10/2024 18:16:30:DEBUG:evaluate_round 4 received 2 results and 0 failures\n",
      "DEBUG flwr 2024-02-10 18:16:30,020 | server.py:222 | fit_round 5: strategy sampled 2 clients (out of 2)\n",
      "02/10/2024 18:16:30:DEBUG:fit_round 5: strategy sampled 2 clients (out of 2)\n"
     ]
    },
    {
     "name": "stdout",
     "output_type": "stream",
     "text": [
      "Server-side evaluation loss 0.04120229557156563 / accuracy 0.75\n"
     ]
    },
    {
     "name": "stderr",
     "output_type": "stream",
     "text": [
      "DEBUG flwr 2024-02-10 18:16:30,194 | server.py:236 | fit_round 5 received 2 results and 0 failures\n",
      "02/10/2024 18:16:30:DEBUG:fit_round 5 received 2 results and 0 failures\n",
      "INFO flwr 2024-02-10 18:16:30,215 | server.py:125 | fit progress: (5, 0.04114591330289841, {'accuracy': 0.75}, 11.472369399999991)\n",
      "02/10/2024 18:16:30:INFO:fit progress: (5, 0.04114591330289841, {'accuracy': 0.75}, 11.472369399999991)\n",
      "DEBUG flwr 2024-02-10 18:16:30,219 | server.py:173 | evaluate_round 5: strategy sampled 2 clients (out of 2)\n",
      "02/10/2024 18:16:30:DEBUG:evaluate_round 5: strategy sampled 2 clients (out of 2)\n",
      "DEBUG flwr 2024-02-10 18:16:30,278 | server.py:187 | evaluate_round 5 received 2 results and 0 failures\n",
      "02/10/2024 18:16:30:DEBUG:evaluate_round 5 received 2 results and 0 failures\n",
      "DEBUG flwr 2024-02-10 18:16:30,283 | server.py:222 | fit_round 6: strategy sampled 2 clients (out of 2)\n",
      "02/10/2024 18:16:30:DEBUG:fit_round 6: strategy sampled 2 clients (out of 2)\n",
      "DEBUG flwr 2024-02-10 18:16:30,401 | server.py:236 | fit_round 6 received 2 results and 0 failures\n"
     ]
    },
    {
     "name": "stdout",
     "output_type": "stream",
     "text": [
      "Server-side evaluation loss 0.04114591330289841 / accuracy 0.75\n"
     ]
    },
    {
     "name": "stderr",
     "output_type": "stream",
     "text": [
      "02/10/2024 18:16:30:DEBUG:fit_round 6 received 2 results and 0 failures\n",
      "INFO flwr 2024-02-10 18:16:30,418 | server.py:125 | fit progress: (6, 0.04110503941774368, {'accuracy': 0.75}, 11.67481819999999)\n",
      "02/10/2024 18:16:30:INFO:fit progress: (6, 0.04110503941774368, {'accuracy': 0.75}, 11.67481819999999)\n",
      "DEBUG flwr 2024-02-10 18:16:30,421 | server.py:173 | evaluate_round 6: strategy sampled 2 clients (out of 2)\n",
      "02/10/2024 18:16:30:DEBUG:evaluate_round 6: strategy sampled 2 clients (out of 2)\n",
      "DEBUG flwr 2024-02-10 18:16:30,484 | server.py:187 | evaluate_round 6 received 2 results and 0 failures\n",
      "02/10/2024 18:16:30:DEBUG:evaluate_round 6 received 2 results and 0 failures\n",
      "DEBUG flwr 2024-02-10 18:16:30,487 | server.py:222 | fit_round 7: strategy sampled 2 clients (out of 2)\n",
      "02/10/2024 18:16:30:DEBUG:fit_round 7: strategy sampled 2 clients (out of 2)\n",
      "DEBUG flwr 2024-02-10 18:16:30,588 | server.py:236 | fit_round 7 received 2 results and 0 failures\n",
      "02/10/2024 18:16:30:DEBUG:fit_round 7 received 2 results and 0 failures\n",
      "INFO flwr 2024-02-10 18:16:30,601 | server.py:125 | fit progress: (7, 0.04106653481721878, {'accuracy': 0.75}, 11.857852099999988)\n"
     ]
    },
    {
     "name": "stdout",
     "output_type": "stream",
     "text": [
      "Server-side evaluation loss 0.04110503941774368 / accuracy 0.75\n",
      "Server-side evaluation loss 0.04106653481721878 / accuracy 0.75\n"
     ]
    },
    {
     "name": "stderr",
     "output_type": "stream",
     "text": [
      "02/10/2024 18:16:30:INFO:fit progress: (7, 0.04106653481721878, {'accuracy': 0.75}, 11.857852099999988)\n",
      "DEBUG flwr 2024-02-10 18:16:30,607 | server.py:173 | evaluate_round 7: strategy sampled 2 clients (out of 2)\n",
      "02/10/2024 18:16:30:DEBUG:evaluate_round 7: strategy sampled 2 clients (out of 2)\n",
      "DEBUG flwr 2024-02-10 18:16:30,665 | server.py:187 | evaluate_round 7 received 2 results and 0 failures\n",
      "02/10/2024 18:16:30:DEBUG:evaluate_round 7 received 2 results and 0 failures\n",
      "DEBUG flwr 2024-02-10 18:16:30,676 | server.py:222 | fit_round 8: strategy sampled 2 clients (out of 2)\n",
      "02/10/2024 18:16:30:DEBUG:fit_round 8: strategy sampled 2 clients (out of 2)\n",
      "DEBUG flwr 2024-02-10 18:16:30,788 | server.py:236 | fit_round 8 received 2 results and 0 failures\n",
      "02/10/2024 18:16:30:DEBUG:fit_round 8 received 2 results and 0 failures\n",
      "INFO flwr 2024-02-10 18:16:30,801 | server.py:125 | fit progress: (8, 0.041021499782800674, {'accuracy': 0.75}, 12.057846799999993)\n",
      "02/10/2024 18:16:30:INFO:fit progress: (8, 0.041021499782800674, {'accuracy': 0.75}, 12.057846799999993)\n",
      "DEBUG flwr 2024-02-10 18:16:30,806 | server.py:173 | evaluate_round 8: strategy sampled 2 clients (out of 2)\n",
      "02/10/2024 18:16:30:DEBUG:evaluate_round 8: strategy sampled 2 clients (out of 2)\n",
      "DEBUG flwr 2024-02-10 18:16:30,850 | server.py:187 | evaluate_round 8 received 2 results and 0 failures\n",
      "02/10/2024 18:16:30:DEBUG:evaluate_round 8 received 2 results and 0 failures\n",
      "DEBUG flwr 2024-02-10 18:16:30,853 | server.py:222 | fit_round 9: strategy sampled 2 clients (out of 2)\n",
      "02/10/2024 18:16:30:DEBUG:fit_round 9: strategy sampled 2 clients (out of 2)\n",
      "DEBUG flwr 2024-02-10 18:16:30,965 | server.py:236 | fit_round 9 received 2 results and 0 failures\n",
      "02/10/2024 18:16:30:DEBUG:fit_round 9 received 2 results and 0 failures\n"
     ]
    },
    {
     "name": "stdout",
     "output_type": "stream",
     "text": [
      "Server-side evaluation loss 0.041021499782800674 / accuracy 0.75\n"
     ]
    },
    {
     "name": "stderr",
     "output_type": "stream",
     "text": [
      "INFO flwr 2024-02-10 18:16:30,983 | server.py:125 | fit progress: (9, 0.040994711220264435, {'accuracy': 0.75}, 12.239724199999998)\n",
      "02/10/2024 18:16:30:INFO:fit progress: (9, 0.040994711220264435, {'accuracy': 0.75}, 12.239724199999998)\n",
      "DEBUG flwr 2024-02-10 18:16:30,985 | server.py:173 | evaluate_round 9: strategy sampled 2 clients (out of 2)\n",
      "02/10/2024 18:16:30:DEBUG:evaluate_round 9: strategy sampled 2 clients (out of 2)\n",
      "DEBUG flwr 2024-02-10 18:16:31,044 | server.py:187 | evaluate_round 9 received 2 results and 0 failures\n",
      "02/10/2024 18:16:31:DEBUG:evaluate_round 9 received 2 results and 0 failures\n",
      "DEBUG flwr 2024-02-10 18:16:31,051 | server.py:222 | fit_round 10: strategy sampled 2 clients (out of 2)\n",
      "02/10/2024 18:16:31:DEBUG:fit_round 10: strategy sampled 2 clients (out of 2)\n",
      "DEBUG flwr 2024-02-10 18:16:31,155 | server.py:236 | fit_round 10 received 2 results and 0 failures\n",
      "02/10/2024 18:16:31:DEBUG:fit_round 10 received 2 results and 0 failures\n"
     ]
    },
    {
     "name": "stdout",
     "output_type": "stream",
     "text": [
      "Server-side evaluation loss 0.040994711220264435 / accuracy 0.75\n"
     ]
    },
    {
     "name": "stderr",
     "output_type": "stream",
     "text": [
      "INFO flwr 2024-02-10 18:16:31,176 | server.py:125 | fit progress: (10, 0.04096313565969467, {'accuracy': 0.75}, 12.432794599999994)\n",
      "02/10/2024 18:16:31:INFO:fit progress: (10, 0.04096313565969467, {'accuracy': 0.75}, 12.432794599999994)\n",
      "DEBUG flwr 2024-02-10 18:16:31,179 | server.py:173 | evaluate_round 10: strategy sampled 2 clients (out of 2)\n",
      "02/10/2024 18:16:31:DEBUG:evaluate_round 10: strategy sampled 2 clients (out of 2)\n",
      "DEBUG flwr 2024-02-10 18:16:31,243 | server.py:187 | evaluate_round 10 received 2 results and 0 failures\n",
      "02/10/2024 18:16:31:DEBUG:evaluate_round 10 received 2 results and 0 failures\n",
      "INFO flwr 2024-02-10 18:16:31,250 | server.py:153 | FL finished in 12.50682789999999\n",
      "02/10/2024 18:16:31:INFO:FL finished in 12.50682789999999\n",
      "INFO flwr 2024-02-10 18:16:31,253 | app.py:226 | app_fit: losses_distributed [(1, 0.036422576468724474), (2, 0.036411115183280066), (3, 0.03640294490525356), (4, 0.03640042145091754), (5, 0.03639781904908327), (6, 0.03639802479973206), (7, 0.03639608650253369), (8, 0.036396066299997844), (9, 0.036401491039074384), (10, 0.03640730994252058)]\n",
      "02/10/2024 18:16:31:INFO:app_fit: losses_distributed [(1, 0.036422576468724474), (2, 0.036411115183280066), (3, 0.03640294490525356), (4, 0.03640042145091754), (5, 0.03639781904908327), (6, 0.03639802479973206), (7, 0.03639608650253369), (8, 0.036396066299997844), (9, 0.036401491039074384), (10, 0.03640730994252058)]\n",
      "INFO flwr 2024-02-10 18:16:31,255 | app.py:227 | app_fit: metrics_distributed_fit {}\n",
      "02/10/2024 18:16:31:INFO:app_fit: metrics_distributed_fit {}\n",
      "INFO flwr 2024-02-10 18:16:31,257 | app.py:228 | app_fit: metrics_distributed {}\n",
      "02/10/2024 18:16:31:INFO:app_fit: metrics_distributed {}\n",
      "INFO flwr 2024-02-10 18:16:31,260 | app.py:229 | app_fit: losses_centralized [(0, 0.041435450315475464), (1, 0.04136635363101959), (2, 0.04130171239376068), (3, 0.041248682886362076), (4, 0.04120229557156563), (5, 0.04114591330289841), (6, 0.04110503941774368), (7, 0.04106653481721878), (8, 0.041021499782800674), (9, 0.040994711220264435), (10, 0.04096313565969467)]\n",
      "02/10/2024 18:16:31:INFO:app_fit: losses_centralized [(0, 0.041435450315475464), (1, 0.04136635363101959), (2, 0.04130171239376068), (3, 0.041248682886362076), (4, 0.04120229557156563), (5, 0.04114591330289841), (6, 0.04110503941774368), (7, 0.04106653481721878), (8, 0.041021499782800674), (9, 0.040994711220264435), (10, 0.04096313565969467)]\n",
      "INFO flwr 2024-02-10 18:16:31,273 | app.py:230 | app_fit: metrics_centralized {'accuracy': [(0, 0.75), (1, 0.75), (2, 0.75), (3, 0.75), (4, 0.75), (5, 0.75), (6, 0.75), (7, 0.75), (8, 0.75), (9, 0.75), (10, 0.75)]}\n",
      "02/10/2024 18:16:31:INFO:app_fit: metrics_centralized {'accuracy': [(0, 0.75), (1, 0.75), (2, 0.75), (3, 0.75), (4, 0.75), (5, 0.75), (6, 0.75), (7, 0.75), (8, 0.75), (9, 0.75), (10, 0.75)]}\n"
     ]
    },
    {
     "name": "stdout",
     "output_type": "stream",
     "text": [
      "Server-side evaluation loss 0.04096313565969467 / accuracy 0.75\n"
     ]
    },
    {
     "name": "stdout",
     "output_type": "stream",
     "text": [
      "\u001b[2m\u001b[36m(DefaultActor pid=4448)\u001b[0m [Client 0] evaluate, config: {}\n"
     ]
    }
   ],
   "source": [
    "# Run the Traning of the model\n",
    "history = ppl_1.server.run()"
   ]
  },
  {
   "cell_type": "code",
   "execution_count": 15,
   "metadata": {},
   "outputs": [
    {
     "name": "stdout",
     "output_type": "stream",
     "text": [
      "History (loss, distributed):\n",
      "\tround 1: 0.036422576468724474\n",
      "\tround 2: 0.036411115183280066\n",
      "\tround 3: 0.03640294490525356\n",
      "\tround 4: 0.03640042145091754\n",
      "\tround 5: 0.03639781904908327\n",
      "\tround 6: 0.03639802479973206\n",
      "\tround 7: 0.03639608650253369\n",
      "\tround 8: 0.036396066299997844\n",
      "\tround 9: 0.036401491039074384\n",
      "\tround 10: 0.03640730994252058\n",
      "History (loss, centralized):\n",
      "\tround 0: 0.041435450315475464\n",
      "\tround 1: 0.04136635363101959\n",
      "\tround 2: 0.04130171239376068\n",
      "\tround 3: 0.041248682886362076\n",
      "\tround 4: 0.04120229557156563\n",
      "\tround 5: 0.04114591330289841\n",
      "\tround 6: 0.04110503941774368\n",
      "\tround 7: 0.04106653481721878\n",
      "\tround 8: 0.041021499782800674\n",
      "\tround 9: 0.040994711220264435\n",
      "\tround 10: 0.04096313565969467\n",
      "History (metrics, centralized):\n",
      "{'accuracy': [(0, 0.75), (1, 0.75), (2, 0.75), (3, 0.75), (4, 0.75), (5, 0.75), (6, 0.75), (7, 0.75), (8, 0.75), (9, 0.75), (10, 0.75)]}\n"
     ]
    }
   ],
   "source": [
    "# Show thehistory of trining \n",
    "print(history)"
   ]
  },
  {
   "cell_type": "markdown",
   "metadata": {},
   "source": [
    "### 5. Store tests \n",
    "\n",
    "<div style=\"display:flex\">\n",
    "<div>\n",
    "\n",
    "The initial phase of model testing involves utilizing test loaders on test nodes to evaluate the model's performance. This testing phase launches assessments on designated test nodes, generating results that are subsequently stored in a database. These stored results serve the purpose of enabling later comparisons and evaluations among different models\n",
    "\n",
    "The tutorial labeled as `5_LearningResults-checkpoint` demonstrates diverse results and outputs accessible from the learning process. It elaborates on the multifaceted advantages and applications derived from these outcomes, emphasizing how each result can be effectively utilized for various purposes within the context of learning and model evaluation.\n",
    "</div>\n",
    "<div>\n",
    "\n",
    "<img src='../Images/modeltest.png' width=\"300\" style=\"display: block  ; margin : 0 auto\" />\n",
    "</div>\n",
    "\n",
    "</div>\n"
   ]
  },
  {
   "cell_type": "code",
   "execution_count": 17,
   "metadata": {},
   "outputs": [
    {
     "data": {
      "image/png": "[encoded data removed]",
      "text/plain": [
       "<Figure size 800x600 with 1 Axes>"
      ]
     },
     "metadata": {},
     "output_type": "display_data"
    }
   ],
   "source": [
    "# Make some plots \n",
    "global_accuracy,global_loss = ppl_1.server.accuracies,ppl_1.server.losses\n",
    "results_dict = {\n",
    "    ('LR: 0.001, Optimizer: SGD', 'accuracy'): global_accuracy,\n",
    "    ('LR: 0.001, Optimizer: SGD', 'loss'): global_loss\n",
    "}\n",
    "plotter = AccuracyLossPlotter(results_dict)\n",
    "\n",
    "plotter.plot_accuracy_loss()"
   ]
  },
  {
   "cell_type": "code",
   "execution_count": 18,
   "metadata": {},
   "outputs": [
    {
     "data": {
      "text/plain": [
       "[{'node_name': 'Midwest',\n",
       "  'classification_report': \"{'confusion matrix': {'TP': 1, 'FP': 0, 'FN': 2, 'TN': 15}, 'Accuracy': 0.889, 'Sensitivity/Recall': 0.333, 'Specificity': 1.0, 'PPV/Precision': 1.0, 'NPV': 0.882, 'F1-score': 0.5, 'False positive rate': 0.0, 'True positive rate': 0.333}\"},\n",
       " {'node_name': 'South',\n",
       "  'classification_report': \"{'confusion matrix': {'TP': 1, 'FP': 1, 'FN': 4, 'TN': 26}, 'Accuracy': 0.844, 'Sensitivity/Recall': 0.2, 'Specificity': 0.963, 'PPV/Precision': 0.5, 'NPV': 0.867, 'F1-score': 0.286, 'False positive rate': 0.037, 'True positive rate': 0.2}\"},\n",
       " {'node_name': 'West',\n",
       "  'classification_report': \"{'confusion matrix': {'TP': 9, 'FP': 8, 'FN': 12, 'TN': 64}, 'Accuracy': 0.785, 'Sensitivity/Recall': 0.429, 'Specificity': 0.889, 'PPV/Precision': 0.529, 'NPV': 0.842, 'F1-score': 0.474, 'False positive rate': 0.111, 'True positive rate': 0.429}\"},\n",
       " {'node_name': 'Northeast',\n",
       "  'classification_report': \"{'confusion matrix': {'TP': 5, 'FP': 5, 'FN': 7, 'TN': 29}, 'Accuracy': 0.739, 'Sensitivity/Recall': 0.417, 'Specificity': 0.853, 'PPV/Precision': 0.5, 'NPV': 0.806, 'F1-score': 0.455, 'False positive rate': 0.147, 'True positive rate': 0.417}\"}]"
      ]
     },
     "execution_count": 18,
     "metadata": {},
     "output_type": "execute_result"
    }
   ],
   "source": [
    "# Test the Modal on the Test nodes and store the results on the DB\n",
    "ppl_1.auto_test()"
   ]
  }
 ],
 "metadata": {
  "kernelspec": {
   "display_name": "Python 3",
   "language": "python",
   "name": "python3"
  },
  "language_info": {
   "codemirror_mode": {
    "name": "ipython",
    "version": 3
   },
   "file_extension": ".py",
   "mimetype": "text/x-python",
   "name": "python",
   "nbconvert_exporter": "python",
   "pygments_lexer": "ipython3",
   "version": "3.9.4"
  },
  "orig_nbformat": 4
 },
 "nbformat": 4,
 "nbformat_minor": 2
}
