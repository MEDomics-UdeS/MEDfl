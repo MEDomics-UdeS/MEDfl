{
 "cells": [
  {
   "cell_type": "markdown",
   "metadata": {},
   "source": [
    "## **MEDfl Complete tutorial**"
   ]
  },
  {
   "cell_type": "markdown",
   "metadata": {},
   "source": [
    "In this complete tutorial, we will demonstrate the utilization of the **MEDfl** package for establishing a federated learning environment to simulate model training using federated learning and transfer learning. The tutorial begins with the setup of the database, networks, and nodes using the netManager. This step ensures the creation of a federated dataset, setting the stage for the Learning Manager. In the Learning Manager, users have the flexibility to design and train custom models. Finally, the tutorial concludes with testing the model and comparing results across various configurations."
   ]
  },
  {
   "cell_type": "code",
   "execution_count": 1,
   "metadata": {},
   "outputs": [],
   "source": [
    "from MEDfl.LearningManager.utils import global_params\n",
    "\n",
    "import sys\n",
    "sys.path.append(global_params['base_url'])\n",
    "\n",
    "import os\n",
    "os.environ['PYTHONPATH'] = global_params['base_url']"
   ]
  },
  {
   "cell_type": "markdown",
   "metadata": {},
   "source": [
    "Imports "
   ]
  },
  {
   "cell_type": "code",
   "execution_count": 2,
   "metadata": {},
   "outputs": [
    {
     "name": "stderr",
     "output_type": "stream",
     "text": [
      "2024-03-08 10:45:47.561286: I tensorflow/core/platform/cpu_feature_guard.cc:182] This TensorFlow binary is optimized to use available CPU instructions in performance-critical operations.\n",
      "To enable the following instructions: AVX2 FMA, in other operations, rebuild TensorFlow with the appropriate compiler flags.\n"
     ]
    }
   ],
   "source": [
    "import mysql.connector\n",
    "import pandas as pd\n",
    "from sqlalchemy import create_engine,text\n",
    "\n",
    "# Torch imports\n",
    "import torch\n",
    "import torch.nn as nn\n",
    "import torch.optim as optim\n",
    "\n",
    "## MEDfl Imports \n",
    "## Network Manager Imports \n",
    "from MEDfl.NetManager.node import Node\n",
    "from MEDfl.NetManager.network import Network\n",
    "from MEDfl.NetManager.dataset import DataSet\n",
    "from MEDfl.NetManager.flsetup import FLsetup\n",
    "\n",
    "# flower imports \n",
    "import flwr as fl\n",
    "\n",
    "## Learning Manager imports \n",
    "from MEDfl.LearningManager.dynamicModal import DynamicModel\n",
    "from MEDfl.LearningManager.model import Model\n",
    "from MEDfl.LearningManager.strategy import Strategy\n",
    "from MEDfl.LearningManager.server import *\n",
    "from MEDfl.LearningManager.flpipeline import *\n",
    "from MEDfl.LearningManager.plot import AccuracyLossPlotter\n",
    "\n",
    "\n",
    "\n",
    "# Utils\n",
    "from MEDfl.LearningManager.utils import *\n"
   ]
  },
  {
   "cell_type": "markdown",
   "metadata": {},
   "source": [
    "### **1. Learning Manager**"
   ]
  },
  {
   "cell_type": "markdown",
   "metadata": {},
   "source": [
    "In this tutorial, we will create an automated network using the eICU database. If you are interested in exploring additional options and getting more details about the Learning Manager sub-package, feel free to check the tutorial labeled `2_NetManager`."
   ]
  },
  {
   "cell_type": "markdown",
   "metadata": {},
   "source": [
    "#### 1.1 DB Preparation\n",
    "DB Creation: \n",
    "Check the `1_DB-checkpoint` tutorial to learn more about this step"
   ]
  },
  {
   "cell_type": "code",
   "execution_count": 3,
   "metadata": {},
   "outputs": [],
   "source": [
    "# If you didn't create the MEDfl database before you need to execute the script else you can skeep the next line and just empty the database \n",
    "!python3 ../../scripts/create_db.py\n",
    "\n",
    "# clearn DB \n",
    "# empty_db()"
   ]
  },
  {
   "cell_type": "markdown",
   "metadata": {},
   "source": [
    "#### 1.2 Network Creation\n"
   ]
  },
  {
   "cell_type": "code",
   "execution_count": 4,
   "metadata": {},
   "outputs": [
    {
     "name": "stderr",
     "output_type": "stream",
     "text": [
      "/home/local/USHERBROOKE/saho6810/.local/lib/python3.8/site-packages/pandas/io/sql.py:1761: RemovedIn20Warning: Deprecated API features detected! These feature(s) are not compatible with SQLAlchemy 2.0. To prevent incompatible upgrades prior to updating applications, ensure requirements files are pinned to \"sqlalchemy<2.0\". Set environment variable SQLALCHEMY_WARN_20=1 to show all deprecation warnings.  Set environment variable SQLALCHEMY_SILENCE_UBER_WARNING=1 to silence this message. (Background on SQLAlchemy 2.0 at: https://sqlalche.me/e/b8d9)\n",
      "  return insp.has_table(name, schema or self.meta.schema)\n"
     ]
    },
    {
     "data": {
      "text/plain": [
       "'Auto_Net'"
      ]
     },
     "execution_count": 4,
     "metadata": {},
     "output_type": "execute_result"
    }
   ],
   "source": [
    "# Create a nestwork \"Net_1\"\n",
    "Net_1 = Network(name=\"Auto_Net\")\n",
    "Net_1.create_network()\n",
    "\n",
    "Net_1.name"
   ]
  },
  {
   "cell_type": "code",
   "execution_count": 5,
   "metadata": {},
   "outputs": [
    {
     "name": "stdout",
     "output_type": "stream",
     "text": [
      "/home/local/USHERBROOKE/saho6810/MEDfl/code/MEDfl/notebooks/data/masterDataSet/Mimic_train.csv\n"
     ]
    },
    {
     "data": {
      "text/plain": [
       "1"
      ]
     },
     "execution_count": 5,
     "metadata": {},
     "output_type": "execute_result"
    }
   ],
   "source": [
    "# Create a MasterDataSet from Net_1\n",
    "Net_1.create_master_dataset()\n",
    "\n",
    "# Check if the Network has a masterDataSet Table ( 1: Table exists ; 0: Table doesn't exist)\n",
    "Net_1.mtable_exists"
   ]
  },
  {
   "cell_type": "markdown",
   "metadata": {},
   "source": [
    "#### 1.3. Federeated Learning setup Creation (FlSetup creation)"
   ]
  },
  {
   "cell_type": "code",
   "execution_count": 6,
   "metadata": {},
   "outputs": [
    {
     "data": {
      "text/html": [
       "<div>\n",
       "<style scoped>\n",
       "    .dataframe tbody tr th:only-of-type {\n",
       "        vertical-align: middle;\n",
       "    }\n",
       "\n",
       "    .dataframe tbody tr th {\n",
       "        vertical-align: top;\n",
       "    }\n",
       "\n",
       "    .dataframe thead th {\n",
       "        text-align: right;\n",
       "    }\n",
       "</style>\n",
       "<table border=\"1\" class=\"dataframe\">\n",
       "  <thead>\n",
       "    <tr style=\"text-align: right;\">\n",
       "      <th></th>\n",
       "      <th>FLsetupId</th>\n",
       "      <th>name</th>\n",
       "      <th>description</th>\n",
       "      <th>creation_date</th>\n",
       "      <th>NetId</th>\n",
       "      <th>column_name</th>\n",
       "    </tr>\n",
       "  </thead>\n",
       "  <tbody>\n",
       "    <tr>\n",
       "      <th>0</th>\n",
       "      <td>1</td>\n",
       "      <td>Flsetup_1</td>\n",
       "      <td>The first fl setup</td>\n",
       "      <td>2024-03-08 10:46:53</td>\n",
       "      <td>1</td>\n",
       "      <td>None</td>\n",
       "    </tr>\n",
       "  </tbody>\n",
       "</table>\n",
       "</div>"
      ],
      "text/plain": [
       "   FLsetupId       name         description       creation_date  NetId  \\\n",
       "0          1  Flsetup_1  The first fl setup 2024-03-08 10:46:53      1   \n",
       "\n",
       "  column_name  \n",
       "0        None  "
      ]
     },
     "execution_count": 6,
     "metadata": {},
     "output_type": "execute_result"
    }
   ],
   "source": [
    "# auto FLsetup creation\n",
    "autoFl  = FLsetup(name = \"Flsetup_1\", description = \"The first fl setup\",network = Net_1)\n",
    "autoFl.create()\n",
    "\n",
    "# List all setups \n",
    "FLsetup.list_allsetups()"
   ]
  },
  {
   "cell_type": "markdown",
   "metadata": {},
   "source": [
    "#### 1.4. Nodes Creation:\n"
   ]
  },
  {
   "cell_type": "code",
   "execution_count": 7,
   "metadata": {},
   "outputs": [
    {
     "ename": "ProgrammingError",
     "evalue": "(mysql.connector.errors.ProgrammingError) 1054 (42S22): Unknown column 'site_region' in 'field list'\n[SQL: \nSELECT DISTINCT site_region FROM MasterDataset \n]\n(Background on this error at: https://sqlalche.me/e/14/f405)",
     "output_type": "error",
     "traceback": [
      "\u001b[0;31m---------------------------------------------------------------------------\u001b[0m",
      "\u001b[0;31mMySQLInterfaceError\u001b[0m                       Traceback (most recent call last)",
      "File \u001b[0;32m~/.local/lib/python3.8/site-packages/mysql/connector/connection_cext.py:661\u001b[0m, in \u001b[0;36mCMySQLConnection.cmd_query\u001b[0;34m(self, query, raw, buffered, raw_as_string)\u001b[0m\n\u001b[1;32m    660\u001b[0m         query \u001b[38;5;241m=\u001b[39m query\u001b[38;5;241m.\u001b[39mencode(\u001b[38;5;124m\"\u001b[39m\u001b[38;5;124mutf-8\u001b[39m\u001b[38;5;124m\"\u001b[39m)\n\u001b[0;32m--> 661\u001b[0m     \u001b[38;5;28;43mself\u001b[39;49m\u001b[38;5;241;43m.\u001b[39;49m\u001b[43m_cmysql\u001b[49m\u001b[38;5;241;43m.\u001b[39;49m\u001b[43mquery\u001b[49m\u001b[43m(\u001b[49m\n\u001b[1;32m    662\u001b[0m \u001b[43m        \u001b[49m\u001b[43mquery\u001b[49m\u001b[43m,\u001b[49m\n\u001b[1;32m    663\u001b[0m \u001b[43m        \u001b[49m\u001b[43mraw\u001b[49m\u001b[38;5;241;43m=\u001b[39;49m\u001b[43mraw\u001b[49m\u001b[43m,\u001b[49m\n\u001b[1;32m    664\u001b[0m \u001b[43m        \u001b[49m\u001b[43mbuffered\u001b[49m\u001b[38;5;241;43m=\u001b[39;49m\u001b[43mbuffered\u001b[49m\u001b[43m,\u001b[49m\n\u001b[1;32m    665\u001b[0m \u001b[43m        \u001b[49m\u001b[43mraw_as_string\u001b[49m\u001b[38;5;241;43m=\u001b[39;49m\u001b[43mraw_as_string\u001b[49m\u001b[43m,\u001b[49m\n\u001b[1;32m    666\u001b[0m \u001b[43m        \u001b[49m\u001b[43mquery_attrs\u001b[49m\u001b[38;5;241;43m=\u001b[39;49m\u001b[38;5;28;43mself\u001b[39;49m\u001b[38;5;241;43m.\u001b[39;49m\u001b[43mquery_attrs\u001b[49m\u001b[43m,\u001b[49m\n\u001b[1;32m    667\u001b[0m \u001b[43m    \u001b[49m\u001b[43m)\u001b[49m\n\u001b[1;32m    668\u001b[0m \u001b[38;5;28;01mexcept\u001b[39;00m MySQLInterfaceError \u001b[38;5;28;01mas\u001b[39;00m err:\n",
      "\u001b[0;31mMySQLInterfaceError\u001b[0m: Unknown column 'site_region' in 'field list'",
      "\nThe above exception was the direct cause of the following exception:\n",
      "\u001b[0;31mProgrammingError\u001b[0m                          Traceback (most recent call last)",
      "File \u001b[0;32m~/.local/lib/python3.8/site-packages/sqlalchemy/engine/base.py:1910\u001b[0m, in \u001b[0;36mConnection._execute_context\u001b[0;34m(self, dialect, constructor, statement, parameters, execution_options, *args, **kw)\u001b[0m\n\u001b[1;32m   1909\u001b[0m     \u001b[38;5;28;01mif\u001b[39;00m \u001b[38;5;129;01mnot\u001b[39;00m evt_handled:\n\u001b[0;32m-> 1910\u001b[0m         \u001b[38;5;28;43mself\u001b[39;49m\u001b[38;5;241;43m.\u001b[39;49m\u001b[43mdialect\u001b[49m\u001b[38;5;241;43m.\u001b[39;49m\u001b[43mdo_execute\u001b[49m\u001b[43m(\u001b[49m\n\u001b[1;32m   1911\u001b[0m \u001b[43m            \u001b[49m\u001b[43mcursor\u001b[49m\u001b[43m,\u001b[49m\u001b[43m \u001b[49m\u001b[43mstatement\u001b[49m\u001b[43m,\u001b[49m\u001b[43m \u001b[49m\u001b[43mparameters\u001b[49m\u001b[43m,\u001b[49m\u001b[43m \u001b[49m\u001b[43mcontext\u001b[49m\n\u001b[1;32m   1912\u001b[0m \u001b[43m        \u001b[49m\u001b[43m)\u001b[49m\n\u001b[1;32m   1914\u001b[0m \u001b[38;5;28;01mif\u001b[39;00m \u001b[38;5;28mself\u001b[39m\u001b[38;5;241m.\u001b[39m_has_events \u001b[38;5;129;01mor\u001b[39;00m \u001b[38;5;28mself\u001b[39m\u001b[38;5;241m.\u001b[39mengine\u001b[38;5;241m.\u001b[39m_has_events:\n",
      "File \u001b[0;32m~/.local/lib/python3.8/site-packages/sqlalchemy/engine/default.py:736\u001b[0m, in \u001b[0;36mDefaultDialect.do_execute\u001b[0;34m(self, cursor, statement, parameters, context)\u001b[0m\n\u001b[1;32m    735\u001b[0m \u001b[38;5;28;01mdef\u001b[39;00m \u001b[38;5;21mdo_execute\u001b[39m(\u001b[38;5;28mself\u001b[39m, cursor, statement, parameters, context\u001b[38;5;241m=\u001b[39m\u001b[38;5;28;01mNone\u001b[39;00m):\n\u001b[0;32m--> 736\u001b[0m     \u001b[43mcursor\u001b[49m\u001b[38;5;241;43m.\u001b[39;49m\u001b[43mexecute\u001b[49m\u001b[43m(\u001b[49m\u001b[43mstatement\u001b[49m\u001b[43m,\u001b[49m\u001b[43m \u001b[49m\u001b[43mparameters\u001b[49m\u001b[43m)\u001b[49m\n",
      "File \u001b[0;32m~/.local/lib/python3.8/site-packages/mysql/connector/cursor_cext.py:374\u001b[0m, in \u001b[0;36mCMySQLCursor.execute\u001b[0;34m(self, operation, params, multi)\u001b[0m\n\u001b[1;32m    373\u001b[0m \u001b[38;5;28;01mtry\u001b[39;00m:\n\u001b[0;32m--> 374\u001b[0m     result \u001b[38;5;241m=\u001b[39m \u001b[38;5;28;43mself\u001b[39;49m\u001b[38;5;241;43m.\u001b[39;49m\u001b[43m_cnx\u001b[49m\u001b[38;5;241;43m.\u001b[39;49m\u001b[43mcmd_query\u001b[49m\u001b[43m(\u001b[49m\n\u001b[1;32m    375\u001b[0m \u001b[43m        \u001b[49m\u001b[43mstmt\u001b[49m\u001b[43m,\u001b[49m\n\u001b[1;32m    376\u001b[0m \u001b[43m        \u001b[49m\u001b[43mraw\u001b[49m\u001b[38;5;241;43m=\u001b[39;49m\u001b[38;5;28;43mself\u001b[39;49m\u001b[38;5;241;43m.\u001b[39;49m\u001b[43m_raw\u001b[49m\u001b[43m,\u001b[49m\n\u001b[1;32m    377\u001b[0m \u001b[43m        \u001b[49m\u001b[43mbuffered\u001b[49m\u001b[38;5;241;43m=\u001b[39;49m\u001b[38;5;28;43mself\u001b[39;49m\u001b[38;5;241;43m.\u001b[39;49m\u001b[43m_buffered\u001b[49m\u001b[43m,\u001b[49m\n\u001b[1;32m    378\u001b[0m \u001b[43m        \u001b[49m\u001b[43mraw_as_string\u001b[49m\u001b[38;5;241;43m=\u001b[39;49m\u001b[38;5;28;43mself\u001b[39;49m\u001b[38;5;241;43m.\u001b[39;49m\u001b[43m_raw_as_string\u001b[49m\u001b[43m,\u001b[49m\n\u001b[1;32m    379\u001b[0m \u001b[43m    \u001b[49m\u001b[43m)\u001b[49m\n\u001b[1;32m    380\u001b[0m \u001b[38;5;28;01mexcept\u001b[39;00m MySQLInterfaceError \u001b[38;5;28;01mas\u001b[39;00m err:\n",
      "File \u001b[0;32m~/.local/lib/python3.8/site-packages/mysql/connector/opentelemetry/context_propagation.py:83\u001b[0m, in \u001b[0;36mwith_context_propagation.<locals>.wrapper\u001b[0;34m(cnx, *args, **kwargs)\u001b[0m\n\u001b[1;32m     82\u001b[0m \u001b[38;5;28;01mtry\u001b[39;00m:\n\u001b[0;32m---> 83\u001b[0m     result \u001b[38;5;241m=\u001b[39m \u001b[43mmethod\u001b[49m\u001b[43m(\u001b[49m\u001b[43mcnx\u001b[49m\u001b[43m,\u001b[49m\u001b[43m \u001b[49m\u001b[38;5;241;43m*\u001b[39;49m\u001b[43margs\u001b[49m\u001b[43m,\u001b[49m\u001b[43m \u001b[49m\u001b[38;5;241;43m*\u001b[39;49m\u001b[38;5;241;43m*\u001b[39;49m\u001b[43mkwargs\u001b[49m\u001b[43m)\u001b[49m\n\u001b[1;32m     84\u001b[0m \u001b[38;5;28;01mfinally\u001b[39;00m:\n",
      "File \u001b[0;32m~/.local/lib/python3.8/site-packages/mysql/connector/connection_cext.py:669\u001b[0m, in \u001b[0;36mCMySQLConnection.cmd_query\u001b[0;34m(self, query, raw, buffered, raw_as_string)\u001b[0m\n\u001b[1;32m    668\u001b[0m \u001b[38;5;28;01mexcept\u001b[39;00m MySQLInterfaceError \u001b[38;5;28;01mas\u001b[39;00m err:\n\u001b[0;32m--> 669\u001b[0m     \u001b[38;5;28;01mraise\u001b[39;00m get_mysql_exception(\n\u001b[1;32m    670\u001b[0m         err\u001b[38;5;241m.\u001b[39merrno, msg\u001b[38;5;241m=\u001b[39merr\u001b[38;5;241m.\u001b[39mmsg, sqlstate\u001b[38;5;241m=\u001b[39merr\u001b[38;5;241m.\u001b[39msqlstate\n\u001b[1;32m    671\u001b[0m     ) \u001b[38;5;28;01mfrom\u001b[39;00m \u001b[38;5;21;01merr\u001b[39;00m\n\u001b[1;32m    672\u001b[0m \u001b[38;5;28;01mexcept\u001b[39;00m \u001b[38;5;167;01mAttributeError\u001b[39;00m \u001b[38;5;28;01mas\u001b[39;00m err:\n",
      "\u001b[0;31mProgrammingError\u001b[0m: 1054 (42S22): Unknown column 'site_region' in 'field list'",
      "\nThe above exception was the direct cause of the following exception:\n",
      "\u001b[0;31mProgrammingError\u001b[0m                          Traceback (most recent call last)",
      "Cell \u001b[0;32mIn[7], line 3\u001b[0m\n\u001b[1;32m      1\u001b[0m params_dict \u001b[38;5;241m=\u001b[39m {\u001b[38;5;124m'\u001b[39m\u001b[38;5;124mcolumn_name\u001b[39m\u001b[38;5;124m'\u001b[39m : \u001b[38;5;124m'\u001b[39m\u001b[38;5;124msite_region\u001b[39m\u001b[38;5;124m'\u001b[39m,\u001b[38;5;124m'\u001b[39m\u001b[38;5;124mtrain_nodes\u001b[39m\u001b[38;5;124m'\u001b[39m : [\u001b[38;5;124m\"\u001b[39m\u001b[38;5;124mMidwest\u001b[39m\u001b[38;5;124m\"\u001b[39m,\u001b[38;5;124m\"\u001b[39m\u001b[38;5;124mSouth\u001b[39m\u001b[38;5;124m\"\u001b[39m] , \u001b[38;5;124m'\u001b[39m\u001b[38;5;124mtest_nodes\u001b[39m\u001b[38;5;124m'\u001b[39m : [\u001b[38;5;124m'\u001b[39m\u001b[38;5;124mWest\u001b[39m\u001b[38;5;124m'\u001b[39m,\u001b[38;5;124m'\u001b[39m\u001b[38;5;124mNortheast\u001b[39m\u001b[38;5;124m'\u001b[39m] }\n\u001b[0;32m----> 3\u001b[0m eicu_nodes \u001b[38;5;241m=\u001b[39m \u001b[43mautoFl\u001b[49m\u001b[38;5;241;43m.\u001b[39;49m\u001b[43mcreate_nodes_from_master_dataset\u001b[49m\u001b[43m(\u001b[49m\u001b[43mparams_dict\u001b[49m\u001b[43m \u001b[49m\u001b[38;5;241;43m=\u001b[39;49m\u001b[43m \u001b[49m\u001b[43mparams_dict\u001b[49m\u001b[43m \u001b[49m\u001b[43m)\u001b[49m\n\u001b[1;32m      5\u001b[0m [node\u001b[38;5;241m.\u001b[39mname  \u001b[38;5;28;01mfor\u001b[39;00m node \u001b[38;5;129;01min\u001b[39;00m eicu_nodes]  \n",
      "File \u001b[0;32m~/MEDfl/code/MEDfl/MEDfl/NetManager/flsetup.py:137\u001b[0m, in \u001b[0;36mFLsetup.create_nodes_from_master_dataset\u001b[0;34m(self, params_dict)\u001b[0m\n\u001b[1;32m    134\u001b[0m netid \u001b[38;5;241m=\u001b[39m get_netid_from_name(\u001b[38;5;28mself\u001b[39m\u001b[38;5;241m.\u001b[39mnetwork\u001b[38;5;241m.\u001b[39mname)\n\u001b[1;32m    136\u001b[0m \u001b[38;5;28;01massert\u001b[39;00m \u001b[38;5;28mself\u001b[39m\u001b[38;5;241m.\u001b[39mnetwork\u001b[38;5;241m.\u001b[39mmtable_exists \u001b[38;5;241m==\u001b[39m \u001b[38;5;241m1\u001b[39m\n\u001b[0;32m--> 137\u001b[0m node_names \u001b[38;5;241m=\u001b[39m \u001b[43mpd\u001b[49m\u001b[38;5;241;43m.\u001b[39;49m\u001b[43mread_sql\u001b[49m\u001b[43m(\u001b[49m\n\u001b[1;32m    138\u001b[0m \u001b[43m    \u001b[49m\u001b[43mtext\u001b[49m\u001b[43m(\u001b[49m\u001b[43mREAD_DISTINCT_NODES_QUERY\u001b[49m\u001b[38;5;241;43m.\u001b[39;49m\u001b[43mformat\u001b[49m\u001b[43m(\u001b[49m\u001b[43mcolumn_name\u001b[49m\u001b[43m)\u001b[49m\u001b[43m)\u001b[49m\u001b[43m,\u001b[49m\u001b[43m \u001b[49m\u001b[43mmy_eng\u001b[49m\n\u001b[1;32m    139\u001b[0m \u001b[43m\u001b[49m\u001b[43m)\u001b[49m\n\u001b[1;32m    141\u001b[0m nodes \u001b[38;5;241m=\u001b[39m [Node(val[\u001b[38;5;241m0\u001b[39m], \u001b[38;5;241m1\u001b[39m) \u001b[38;5;28;01mfor\u001b[39;00m val \u001b[38;5;129;01min\u001b[39;00m node_names\u001b[38;5;241m.\u001b[39mvalues\u001b[38;5;241m.\u001b[39mtolist()]\n\u001b[1;32m    143\u001b[0m used_nodes \u001b[38;5;241m=\u001b[39m []\n",
      "File \u001b[0;32m~/.local/lib/python3.8/site-packages/pandas/io/sql.py:590\u001b[0m, in \u001b[0;36mread_sql\u001b[0;34m(sql, con, index_col, coerce_float, params, parse_dates, columns, chunksize)\u001b[0m\n\u001b[1;32m    581\u001b[0m     \u001b[38;5;28;01mreturn\u001b[39;00m pandas_sql\u001b[38;5;241m.\u001b[39mread_table(\n\u001b[1;32m    582\u001b[0m         sql,\n\u001b[1;32m    583\u001b[0m         index_col\u001b[38;5;241m=\u001b[39mindex_col,\n\u001b[0;32m   (...)\u001b[0m\n\u001b[1;32m    587\u001b[0m         chunksize\u001b[38;5;241m=\u001b[39mchunksize,\n\u001b[1;32m    588\u001b[0m     )\n\u001b[1;32m    589\u001b[0m \u001b[38;5;28;01melse\u001b[39;00m:\n\u001b[0;32m--> 590\u001b[0m     \u001b[38;5;28;01mreturn\u001b[39;00m \u001b[43mpandas_sql\u001b[49m\u001b[38;5;241;43m.\u001b[39;49m\u001b[43mread_query\u001b[49m\u001b[43m(\u001b[49m\n\u001b[1;32m    591\u001b[0m \u001b[43m        \u001b[49m\u001b[43msql\u001b[49m\u001b[43m,\u001b[49m\n\u001b[1;32m    592\u001b[0m \u001b[43m        \u001b[49m\u001b[43mindex_col\u001b[49m\u001b[38;5;241;43m=\u001b[39;49m\u001b[43mindex_col\u001b[49m\u001b[43m,\u001b[49m\n\u001b[1;32m    593\u001b[0m \u001b[43m        \u001b[49m\u001b[43mparams\u001b[49m\u001b[38;5;241;43m=\u001b[39;49m\u001b[43mparams\u001b[49m\u001b[43m,\u001b[49m\n\u001b[1;32m    594\u001b[0m \u001b[43m        \u001b[49m\u001b[43mcoerce_float\u001b[49m\u001b[38;5;241;43m=\u001b[39;49m\u001b[43mcoerce_float\u001b[49m\u001b[43m,\u001b[49m\n\u001b[1;32m    595\u001b[0m \u001b[43m        \u001b[49m\u001b[43mparse_dates\u001b[49m\u001b[38;5;241;43m=\u001b[39;49m\u001b[43mparse_dates\u001b[49m\u001b[43m,\u001b[49m\n\u001b[1;32m    596\u001b[0m \u001b[43m        \u001b[49m\u001b[43mchunksize\u001b[49m\u001b[38;5;241;43m=\u001b[39;49m\u001b[43mchunksize\u001b[49m\u001b[43m,\u001b[49m\n\u001b[1;32m    597\u001b[0m \u001b[43m    \u001b[49m\u001b[43m)\u001b[49m\n",
      "File \u001b[0;32m~/.local/lib/python3.8/site-packages/pandas/io/sql.py:1560\u001b[0m, in \u001b[0;36mSQLDatabase.read_query\u001b[0;34m(self, sql, index_col, coerce_float, parse_dates, params, chunksize, dtype)\u001b[0m\n\u001b[1;32m   1512\u001b[0m \u001b[38;5;250m\u001b[39m\u001b[38;5;124;03m\"\"\"\u001b[39;00m\n\u001b[1;32m   1513\u001b[0m \u001b[38;5;124;03mRead SQL query into a DataFrame.\u001b[39;00m\n\u001b[1;32m   1514\u001b[0m \n\u001b[0;32m   (...)\u001b[0m\n\u001b[1;32m   1556\u001b[0m \n\u001b[1;32m   1557\u001b[0m \u001b[38;5;124;03m\"\"\"\u001b[39;00m\n\u001b[1;32m   1558\u001b[0m args \u001b[38;5;241m=\u001b[39m _convert_params(sql, params)\n\u001b[0;32m-> 1560\u001b[0m result \u001b[38;5;241m=\u001b[39m \u001b[38;5;28;43mself\u001b[39;49m\u001b[38;5;241;43m.\u001b[39;49m\u001b[43mexecute\u001b[49m\u001b[43m(\u001b[49m\u001b[38;5;241;43m*\u001b[39;49m\u001b[43margs\u001b[49m\u001b[43m)\u001b[49m\n\u001b[1;32m   1561\u001b[0m columns \u001b[38;5;241m=\u001b[39m result\u001b[38;5;241m.\u001b[39mkeys()\n\u001b[1;32m   1563\u001b[0m \u001b[38;5;28;01mif\u001b[39;00m chunksize \u001b[38;5;129;01mis\u001b[39;00m \u001b[38;5;129;01mnot\u001b[39;00m \u001b[38;5;28;01mNone\u001b[39;00m:\n",
      "File \u001b[0;32m~/.local/lib/python3.8/site-packages/pandas/io/sql.py:1405\u001b[0m, in \u001b[0;36mSQLDatabase.execute\u001b[0;34m(self, *args, **kwargs)\u001b[0m\n\u001b[1;32m   1403\u001b[0m \u001b[38;5;28;01mdef\u001b[39;00m \u001b[38;5;21mexecute\u001b[39m(\u001b[38;5;28mself\u001b[39m, \u001b[38;5;241m*\u001b[39margs, \u001b[38;5;241m*\u001b[39m\u001b[38;5;241m*\u001b[39mkwargs):\n\u001b[1;32m   1404\u001b[0m \u001b[38;5;250m    \u001b[39m\u001b[38;5;124;03m\"\"\"Simple passthrough to SQLAlchemy connectable\"\"\"\u001b[39;00m\n\u001b[0;32m-> 1405\u001b[0m     \u001b[38;5;28;01mreturn\u001b[39;00m \u001b[38;5;28;43mself\u001b[39;49m\u001b[38;5;241;43m.\u001b[39;49m\u001b[43mconnectable\u001b[49m\u001b[38;5;241;43m.\u001b[39;49m\u001b[43mexecution_options\u001b[49m\u001b[43m(\u001b[49m\u001b[43m)\u001b[49m\u001b[38;5;241;43m.\u001b[39;49m\u001b[43mexecute\u001b[49m\u001b[43m(\u001b[49m\u001b[38;5;241;43m*\u001b[39;49m\u001b[43margs\u001b[49m\u001b[43m,\u001b[49m\u001b[43m \u001b[49m\u001b[38;5;241;43m*\u001b[39;49m\u001b[38;5;241;43m*\u001b[39;49m\u001b[43mkwargs\u001b[49m\u001b[43m)\u001b[49m\n",
      "File \u001b[0;32m~/.local/lib/python3.8/site-packages/sqlalchemy/engine/base.py:1385\u001b[0m, in \u001b[0;36mConnection.execute\u001b[0;34m(self, statement, *multiparams, **params)\u001b[0m\n\u001b[1;32m   1381\u001b[0m     util\u001b[38;5;241m.\u001b[39mraise_(\n\u001b[1;32m   1382\u001b[0m         exc\u001b[38;5;241m.\u001b[39mObjectNotExecutableError(statement), replace_context\u001b[38;5;241m=\u001b[39merr\n\u001b[1;32m   1383\u001b[0m     )\n\u001b[1;32m   1384\u001b[0m \u001b[38;5;28;01melse\u001b[39;00m:\n\u001b[0;32m-> 1385\u001b[0m     \u001b[38;5;28;01mreturn\u001b[39;00m \u001b[43mmeth\u001b[49m\u001b[43m(\u001b[49m\u001b[38;5;28;43mself\u001b[39;49m\u001b[43m,\u001b[49m\u001b[43m \u001b[49m\u001b[43mmultiparams\u001b[49m\u001b[43m,\u001b[49m\u001b[43m \u001b[49m\u001b[43mparams\u001b[49m\u001b[43m,\u001b[49m\u001b[43m \u001b[49m\u001b[43m_EMPTY_EXECUTION_OPTS\u001b[49m\u001b[43m)\u001b[49m\n",
      "File \u001b[0;32m~/.local/lib/python3.8/site-packages/sqlalchemy/sql/elements.py:334\u001b[0m, in \u001b[0;36mClauseElement._execute_on_connection\u001b[0;34m(self, connection, multiparams, params, execution_options, _force)\u001b[0m\n\u001b[1;32m    330\u001b[0m \u001b[38;5;28;01mdef\u001b[39;00m \u001b[38;5;21m_execute_on_connection\u001b[39m(\n\u001b[1;32m    331\u001b[0m     \u001b[38;5;28mself\u001b[39m, connection, multiparams, params, execution_options, _force\u001b[38;5;241m=\u001b[39m\u001b[38;5;28;01mFalse\u001b[39;00m\n\u001b[1;32m    332\u001b[0m ):\n\u001b[1;32m    333\u001b[0m     \u001b[38;5;28;01mif\u001b[39;00m _force \u001b[38;5;129;01mor\u001b[39;00m \u001b[38;5;28mself\u001b[39m\u001b[38;5;241m.\u001b[39msupports_execution:\n\u001b[0;32m--> 334\u001b[0m         \u001b[38;5;28;01mreturn\u001b[39;00m \u001b[43mconnection\u001b[49m\u001b[38;5;241;43m.\u001b[39;49m\u001b[43m_execute_clauseelement\u001b[49m\u001b[43m(\u001b[49m\n\u001b[1;32m    335\u001b[0m \u001b[43m            \u001b[49m\u001b[38;5;28;43mself\u001b[39;49m\u001b[43m,\u001b[49m\u001b[43m \u001b[49m\u001b[43mmultiparams\u001b[49m\u001b[43m,\u001b[49m\u001b[43m \u001b[49m\u001b[43mparams\u001b[49m\u001b[43m,\u001b[49m\u001b[43m \u001b[49m\u001b[43mexecution_options\u001b[49m\n\u001b[1;32m    336\u001b[0m \u001b[43m        \u001b[49m\u001b[43m)\u001b[49m\n\u001b[1;32m    337\u001b[0m     \u001b[38;5;28;01melse\u001b[39;00m:\n\u001b[1;32m    338\u001b[0m         \u001b[38;5;28;01mraise\u001b[39;00m exc\u001b[38;5;241m.\u001b[39mObjectNotExecutableError(\u001b[38;5;28mself\u001b[39m)\n",
      "File \u001b[0;32m~/.local/lib/python3.8/site-packages/sqlalchemy/engine/base.py:1577\u001b[0m, in \u001b[0;36mConnection._execute_clauseelement\u001b[0;34m(self, elem, multiparams, params, execution_options)\u001b[0m\n\u001b[1;32m   1565\u001b[0m compiled_cache \u001b[38;5;241m=\u001b[39m execution_options\u001b[38;5;241m.\u001b[39mget(\n\u001b[1;32m   1566\u001b[0m     \u001b[38;5;124m\"\u001b[39m\u001b[38;5;124mcompiled_cache\u001b[39m\u001b[38;5;124m\"\u001b[39m, \u001b[38;5;28mself\u001b[39m\u001b[38;5;241m.\u001b[39mengine\u001b[38;5;241m.\u001b[39m_compiled_cache\n\u001b[1;32m   1567\u001b[0m )\n\u001b[1;32m   1569\u001b[0m compiled_sql, extracted_params, cache_hit \u001b[38;5;241m=\u001b[39m elem\u001b[38;5;241m.\u001b[39m_compile_w_cache(\n\u001b[1;32m   1570\u001b[0m     dialect\u001b[38;5;241m=\u001b[39mdialect,\n\u001b[1;32m   1571\u001b[0m     compiled_cache\u001b[38;5;241m=\u001b[39mcompiled_cache,\n\u001b[0;32m   (...)\u001b[0m\n\u001b[1;32m   1575\u001b[0m     linting\u001b[38;5;241m=\u001b[39m\u001b[38;5;28mself\u001b[39m\u001b[38;5;241m.\u001b[39mdialect\u001b[38;5;241m.\u001b[39mcompiler_linting \u001b[38;5;241m|\u001b[39m compiler\u001b[38;5;241m.\u001b[39mWARN_LINTING,\n\u001b[1;32m   1576\u001b[0m )\n\u001b[0;32m-> 1577\u001b[0m ret \u001b[38;5;241m=\u001b[39m \u001b[38;5;28;43mself\u001b[39;49m\u001b[38;5;241;43m.\u001b[39;49m\u001b[43m_execute_context\u001b[49m\u001b[43m(\u001b[49m\n\u001b[1;32m   1578\u001b[0m \u001b[43m    \u001b[49m\u001b[43mdialect\u001b[49m\u001b[43m,\u001b[49m\n\u001b[1;32m   1579\u001b[0m \u001b[43m    \u001b[49m\u001b[43mdialect\u001b[49m\u001b[38;5;241;43m.\u001b[39;49m\u001b[43mexecution_ctx_cls\u001b[49m\u001b[38;5;241;43m.\u001b[39;49m\u001b[43m_init_compiled\u001b[49m\u001b[43m,\u001b[49m\n\u001b[1;32m   1580\u001b[0m \u001b[43m    \u001b[49m\u001b[43mcompiled_sql\u001b[49m\u001b[43m,\u001b[49m\n\u001b[1;32m   1581\u001b[0m \u001b[43m    \u001b[49m\u001b[43mdistilled_params\u001b[49m\u001b[43m,\u001b[49m\n\u001b[1;32m   1582\u001b[0m \u001b[43m    \u001b[49m\u001b[43mexecution_options\u001b[49m\u001b[43m,\u001b[49m\n\u001b[1;32m   1583\u001b[0m \u001b[43m    \u001b[49m\u001b[43mcompiled_sql\u001b[49m\u001b[43m,\u001b[49m\n\u001b[1;32m   1584\u001b[0m \u001b[43m    \u001b[49m\u001b[43mdistilled_params\u001b[49m\u001b[43m,\u001b[49m\n\u001b[1;32m   1585\u001b[0m \u001b[43m    \u001b[49m\u001b[43melem\u001b[49m\u001b[43m,\u001b[49m\n\u001b[1;32m   1586\u001b[0m \u001b[43m    \u001b[49m\u001b[43mextracted_params\u001b[49m\u001b[43m,\u001b[49m\n\u001b[1;32m   1587\u001b[0m \u001b[43m    \u001b[49m\u001b[43mcache_hit\u001b[49m\u001b[38;5;241;43m=\u001b[39;49m\u001b[43mcache_hit\u001b[49m\u001b[43m,\u001b[49m\n\u001b[1;32m   1588\u001b[0m \u001b[43m\u001b[49m\u001b[43m)\u001b[49m\n\u001b[1;32m   1589\u001b[0m \u001b[38;5;28;01mif\u001b[39;00m has_events:\n\u001b[1;32m   1590\u001b[0m     \u001b[38;5;28mself\u001b[39m\u001b[38;5;241m.\u001b[39mdispatch\u001b[38;5;241m.\u001b[39mafter_execute(\n\u001b[1;32m   1591\u001b[0m         \u001b[38;5;28mself\u001b[39m,\n\u001b[1;32m   1592\u001b[0m         elem,\n\u001b[0;32m   (...)\u001b[0m\n\u001b[1;32m   1596\u001b[0m         ret,\n\u001b[1;32m   1597\u001b[0m     )\n",
      "File \u001b[0;32m~/.local/lib/python3.8/site-packages/sqlalchemy/engine/base.py:1953\u001b[0m, in \u001b[0;36mConnection._execute_context\u001b[0;34m(self, dialect, constructor, statement, parameters, execution_options, *args, **kw)\u001b[0m\n\u001b[1;32m   1950\u001b[0m             branched\u001b[38;5;241m.\u001b[39mclose()\n\u001b[1;32m   1952\u001b[0m \u001b[38;5;28;01mexcept\u001b[39;00m \u001b[38;5;167;01mBaseException\u001b[39;00m \u001b[38;5;28;01mas\u001b[39;00m e:\n\u001b[0;32m-> 1953\u001b[0m     \u001b[38;5;28;43mself\u001b[39;49m\u001b[38;5;241;43m.\u001b[39;49m\u001b[43m_handle_dbapi_exception\u001b[49m\u001b[43m(\u001b[49m\n\u001b[1;32m   1954\u001b[0m \u001b[43m        \u001b[49m\u001b[43me\u001b[49m\u001b[43m,\u001b[49m\u001b[43m \u001b[49m\u001b[43mstatement\u001b[49m\u001b[43m,\u001b[49m\u001b[43m \u001b[49m\u001b[43mparameters\u001b[49m\u001b[43m,\u001b[49m\u001b[43m \u001b[49m\u001b[43mcursor\u001b[49m\u001b[43m,\u001b[49m\u001b[43m \u001b[49m\u001b[43mcontext\u001b[49m\n\u001b[1;32m   1955\u001b[0m \u001b[43m    \u001b[49m\u001b[43m)\u001b[49m\n\u001b[1;32m   1957\u001b[0m \u001b[38;5;28;01mreturn\u001b[39;00m result\n",
      "File \u001b[0;32m~/.local/lib/python3.8/site-packages/sqlalchemy/engine/base.py:2134\u001b[0m, in \u001b[0;36mConnection._handle_dbapi_exception\u001b[0;34m(self, e, statement, parameters, cursor, context)\u001b[0m\n\u001b[1;32m   2132\u001b[0m     util\u001b[38;5;241m.\u001b[39mraise_(newraise, with_traceback\u001b[38;5;241m=\u001b[39mexc_info[\u001b[38;5;241m2\u001b[39m], from_\u001b[38;5;241m=\u001b[39me)\n\u001b[1;32m   2133\u001b[0m \u001b[38;5;28;01melif\u001b[39;00m should_wrap:\n\u001b[0;32m-> 2134\u001b[0m     \u001b[43mutil\u001b[49m\u001b[38;5;241;43m.\u001b[39;49m\u001b[43mraise_\u001b[49m\u001b[43m(\u001b[49m\n\u001b[1;32m   2135\u001b[0m \u001b[43m        \u001b[49m\u001b[43msqlalchemy_exception\u001b[49m\u001b[43m,\u001b[49m\u001b[43m \u001b[49m\u001b[43mwith_traceback\u001b[49m\u001b[38;5;241;43m=\u001b[39;49m\u001b[43mexc_info\u001b[49m\u001b[43m[\u001b[49m\u001b[38;5;241;43m2\u001b[39;49m\u001b[43m]\u001b[49m\u001b[43m,\u001b[49m\u001b[43m \u001b[49m\u001b[43mfrom_\u001b[49m\u001b[38;5;241;43m=\u001b[39;49m\u001b[43me\u001b[49m\n\u001b[1;32m   2136\u001b[0m \u001b[43m    \u001b[49m\u001b[43m)\u001b[49m\n\u001b[1;32m   2137\u001b[0m \u001b[38;5;28;01melse\u001b[39;00m:\n\u001b[1;32m   2138\u001b[0m     util\u001b[38;5;241m.\u001b[39mraise_(exc_info[\u001b[38;5;241m1\u001b[39m], with_traceback\u001b[38;5;241m=\u001b[39mexc_info[\u001b[38;5;241m2\u001b[39m])\n",
      "File \u001b[0;32m~/.local/lib/python3.8/site-packages/sqlalchemy/util/compat.py:211\u001b[0m, in \u001b[0;36mraise_\u001b[0;34m(***failed resolving arguments***)\u001b[0m\n\u001b[1;32m    208\u001b[0m     exception\u001b[38;5;241m.\u001b[39m__cause__ \u001b[38;5;241m=\u001b[39m replace_context\n\u001b[1;32m    210\u001b[0m \u001b[38;5;28;01mtry\u001b[39;00m:\n\u001b[0;32m--> 211\u001b[0m     \u001b[38;5;28;01mraise\u001b[39;00m exception\n\u001b[1;32m    212\u001b[0m \u001b[38;5;28;01mfinally\u001b[39;00m:\n\u001b[1;32m    213\u001b[0m     \u001b[38;5;66;03m# credit to\u001b[39;00m\n\u001b[1;32m    214\u001b[0m     \u001b[38;5;66;03m# https://cosmicpercolator.com/2016/01/13/exception-leaks-in-python-2-and-3/\u001b[39;00m\n\u001b[1;32m    215\u001b[0m     \u001b[38;5;66;03m# as the __traceback__ object creates a cycle\u001b[39;00m\n\u001b[1;32m    216\u001b[0m     \u001b[38;5;28;01mdel\u001b[39;00m exception, replace_context, from_, with_traceback\n",
      "File \u001b[0;32m~/.local/lib/python3.8/site-packages/sqlalchemy/engine/base.py:1910\u001b[0m, in \u001b[0;36mConnection._execute_context\u001b[0;34m(self, dialect, constructor, statement, parameters, execution_options, *args, **kw)\u001b[0m\n\u001b[1;32m   1908\u001b[0m                 \u001b[38;5;28;01mbreak\u001b[39;00m\n\u001b[1;32m   1909\u001b[0m     \u001b[38;5;28;01mif\u001b[39;00m \u001b[38;5;129;01mnot\u001b[39;00m evt_handled:\n\u001b[0;32m-> 1910\u001b[0m         \u001b[38;5;28;43mself\u001b[39;49m\u001b[38;5;241;43m.\u001b[39;49m\u001b[43mdialect\u001b[49m\u001b[38;5;241;43m.\u001b[39;49m\u001b[43mdo_execute\u001b[49m\u001b[43m(\u001b[49m\n\u001b[1;32m   1911\u001b[0m \u001b[43m            \u001b[49m\u001b[43mcursor\u001b[49m\u001b[43m,\u001b[49m\u001b[43m \u001b[49m\u001b[43mstatement\u001b[49m\u001b[43m,\u001b[49m\u001b[43m \u001b[49m\u001b[43mparameters\u001b[49m\u001b[43m,\u001b[49m\u001b[43m \u001b[49m\u001b[43mcontext\u001b[49m\n\u001b[1;32m   1912\u001b[0m \u001b[43m        \u001b[49m\u001b[43m)\u001b[49m\n\u001b[1;32m   1914\u001b[0m \u001b[38;5;28;01mif\u001b[39;00m \u001b[38;5;28mself\u001b[39m\u001b[38;5;241m.\u001b[39m_has_events \u001b[38;5;129;01mor\u001b[39;00m \u001b[38;5;28mself\u001b[39m\u001b[38;5;241m.\u001b[39mengine\u001b[38;5;241m.\u001b[39m_has_events:\n\u001b[1;32m   1915\u001b[0m     \u001b[38;5;28mself\u001b[39m\u001b[38;5;241m.\u001b[39mdispatch\u001b[38;5;241m.\u001b[39mafter_cursor_execute(\n\u001b[1;32m   1916\u001b[0m         \u001b[38;5;28mself\u001b[39m,\n\u001b[1;32m   1917\u001b[0m         cursor,\n\u001b[0;32m   (...)\u001b[0m\n\u001b[1;32m   1921\u001b[0m         context\u001b[38;5;241m.\u001b[39mexecutemany,\n\u001b[1;32m   1922\u001b[0m     )\n",
      "File \u001b[0;32m~/.local/lib/python3.8/site-packages/sqlalchemy/engine/default.py:736\u001b[0m, in \u001b[0;36mDefaultDialect.do_execute\u001b[0;34m(self, cursor, statement, parameters, context)\u001b[0m\n\u001b[1;32m    735\u001b[0m \u001b[38;5;28;01mdef\u001b[39;00m \u001b[38;5;21mdo_execute\u001b[39m(\u001b[38;5;28mself\u001b[39m, cursor, statement, parameters, context\u001b[38;5;241m=\u001b[39m\u001b[38;5;28;01mNone\u001b[39;00m):\n\u001b[0;32m--> 736\u001b[0m     \u001b[43mcursor\u001b[49m\u001b[38;5;241;43m.\u001b[39;49m\u001b[43mexecute\u001b[49m\u001b[43m(\u001b[49m\u001b[43mstatement\u001b[49m\u001b[43m,\u001b[49m\u001b[43m \u001b[49m\u001b[43mparameters\u001b[49m\u001b[43m)\u001b[49m\n",
      "File \u001b[0;32m~/.local/lib/python3.8/site-packages/mysql/connector/cursor_cext.py:374\u001b[0m, in \u001b[0;36mCMySQLCursor.execute\u001b[0;34m(self, operation, params, multi)\u001b[0m\n\u001b[1;32m    369\u001b[0m             \u001b[38;5;28;01mraise\u001b[39;00m ProgrammingError(\n\u001b[1;32m    370\u001b[0m                 \u001b[38;5;124m\"\u001b[39m\u001b[38;5;124mNot all parameters were used in the SQL statement\u001b[39m\u001b[38;5;124m\"\u001b[39m\n\u001b[1;32m    371\u001b[0m             )\n\u001b[1;32m    373\u001b[0m \u001b[38;5;28;01mtry\u001b[39;00m:\n\u001b[0;32m--> 374\u001b[0m     result \u001b[38;5;241m=\u001b[39m \u001b[38;5;28;43mself\u001b[39;49m\u001b[38;5;241;43m.\u001b[39;49m\u001b[43m_cnx\u001b[49m\u001b[38;5;241;43m.\u001b[39;49m\u001b[43mcmd_query\u001b[49m\u001b[43m(\u001b[49m\n\u001b[1;32m    375\u001b[0m \u001b[43m        \u001b[49m\u001b[43mstmt\u001b[49m\u001b[43m,\u001b[49m\n\u001b[1;32m    376\u001b[0m \u001b[43m        \u001b[49m\u001b[43mraw\u001b[49m\u001b[38;5;241;43m=\u001b[39;49m\u001b[38;5;28;43mself\u001b[39;49m\u001b[38;5;241;43m.\u001b[39;49m\u001b[43m_raw\u001b[49m\u001b[43m,\u001b[49m\n\u001b[1;32m    377\u001b[0m \u001b[43m        \u001b[49m\u001b[43mbuffered\u001b[49m\u001b[38;5;241;43m=\u001b[39;49m\u001b[38;5;28;43mself\u001b[39;49m\u001b[38;5;241;43m.\u001b[39;49m\u001b[43m_buffered\u001b[49m\u001b[43m,\u001b[49m\n\u001b[1;32m    378\u001b[0m \u001b[43m        \u001b[49m\u001b[43mraw_as_string\u001b[49m\u001b[38;5;241;43m=\u001b[39;49m\u001b[38;5;28;43mself\u001b[39;49m\u001b[38;5;241;43m.\u001b[39;49m\u001b[43m_raw_as_string\u001b[49m\u001b[43m,\u001b[49m\n\u001b[1;32m    379\u001b[0m \u001b[43m    \u001b[49m\u001b[43m)\u001b[49m\n\u001b[1;32m    380\u001b[0m \u001b[38;5;28;01mexcept\u001b[39;00m MySQLInterfaceError \u001b[38;5;28;01mas\u001b[39;00m err:\n\u001b[1;32m    381\u001b[0m     \u001b[38;5;28;01mraise\u001b[39;00m get_mysql_exception(\n\u001b[1;32m    382\u001b[0m         msg\u001b[38;5;241m=\u001b[39merr\u001b[38;5;241m.\u001b[39mmsg, errno\u001b[38;5;241m=\u001b[39merr\u001b[38;5;241m.\u001b[39merrno, sqlstate\u001b[38;5;241m=\u001b[39merr\u001b[38;5;241m.\u001b[39msqlstate\n\u001b[1;32m    383\u001b[0m     ) \u001b[38;5;28;01mfrom\u001b[39;00m \u001b[38;5;21;01merr\u001b[39;00m\n",
      "File \u001b[0;32m~/.local/lib/python3.8/site-packages/mysql/connector/opentelemetry/context_propagation.py:83\u001b[0m, in \u001b[0;36mwith_context_propagation.<locals>.wrapper\u001b[0;34m(cnx, *args, **kwargs)\u001b[0m\n\u001b[1;32m     80\u001b[0m     cnx\u001b[38;5;241m.\u001b[39mquery_attrs_append(value\u001b[38;5;241m=\u001b[39m(TRACEPARENT_HEADER_NAME, tp_header))\n\u001b[1;32m     82\u001b[0m \u001b[38;5;28;01mtry\u001b[39;00m:\n\u001b[0;32m---> 83\u001b[0m     result \u001b[38;5;241m=\u001b[39m \u001b[43mmethod\u001b[49m\u001b[43m(\u001b[49m\u001b[43mcnx\u001b[49m\u001b[43m,\u001b[49m\u001b[43m \u001b[49m\u001b[38;5;241;43m*\u001b[39;49m\u001b[43margs\u001b[49m\u001b[43m,\u001b[49m\u001b[43m \u001b[49m\u001b[38;5;241;43m*\u001b[39;49m\u001b[38;5;241;43m*\u001b[39;49m\u001b[43mkwargs\u001b[49m\u001b[43m)\u001b[49m\n\u001b[1;32m     84\u001b[0m \u001b[38;5;28;01mfinally\u001b[39;00m:\n\u001b[1;32m     85\u001b[0m     \u001b[38;5;28;01mif\u001b[39;00m tp_header \u001b[38;5;129;01mis\u001b[39;00m \u001b[38;5;129;01mnot\u001b[39;00m \u001b[38;5;28;01mNone\u001b[39;00m:\n",
      "File \u001b[0;32m~/.local/lib/python3.8/site-packages/mysql/connector/connection_cext.py:669\u001b[0m, in \u001b[0;36mCMySQLConnection.cmd_query\u001b[0;34m(self, query, raw, buffered, raw_as_string)\u001b[0m\n\u001b[1;32m    661\u001b[0m     \u001b[38;5;28mself\u001b[39m\u001b[38;5;241m.\u001b[39m_cmysql\u001b[38;5;241m.\u001b[39mquery(\n\u001b[1;32m    662\u001b[0m         query,\n\u001b[1;32m    663\u001b[0m         raw\u001b[38;5;241m=\u001b[39mraw,\n\u001b[0;32m   (...)\u001b[0m\n\u001b[1;32m    666\u001b[0m         query_attrs\u001b[38;5;241m=\u001b[39m\u001b[38;5;28mself\u001b[39m\u001b[38;5;241m.\u001b[39mquery_attrs,\n\u001b[1;32m    667\u001b[0m     )\n\u001b[1;32m    668\u001b[0m \u001b[38;5;28;01mexcept\u001b[39;00m MySQLInterfaceError \u001b[38;5;28;01mas\u001b[39;00m err:\n\u001b[0;32m--> 669\u001b[0m     \u001b[38;5;28;01mraise\u001b[39;00m get_mysql_exception(\n\u001b[1;32m    670\u001b[0m         err\u001b[38;5;241m.\u001b[39merrno, msg\u001b[38;5;241m=\u001b[39merr\u001b[38;5;241m.\u001b[39mmsg, sqlstate\u001b[38;5;241m=\u001b[39merr\u001b[38;5;241m.\u001b[39msqlstate\n\u001b[1;32m    671\u001b[0m     ) \u001b[38;5;28;01mfrom\u001b[39;00m \u001b[38;5;21;01merr\u001b[39;00m\n\u001b[1;32m    672\u001b[0m \u001b[38;5;28;01mexcept\u001b[39;00m \u001b[38;5;167;01mAttributeError\u001b[39;00m \u001b[38;5;28;01mas\u001b[39;00m err:\n\u001b[1;32m    673\u001b[0m     addr \u001b[38;5;241m=\u001b[39m (\n\u001b[1;32m    674\u001b[0m         \u001b[38;5;28mself\u001b[39m\u001b[38;5;241m.\u001b[39m_unix_socket \u001b[38;5;28;01mif\u001b[39;00m \u001b[38;5;28mself\u001b[39m\u001b[38;5;241m.\u001b[39m_unix_socket \u001b[38;5;28;01melse\u001b[39;00m \u001b[38;5;124mf\u001b[39m\u001b[38;5;124m\"\u001b[39m\u001b[38;5;132;01m{\u001b[39;00m\u001b[38;5;28mself\u001b[39m\u001b[38;5;241m.\u001b[39m_host\u001b[38;5;132;01m}\u001b[39;00m\u001b[38;5;124m:\u001b[39m\u001b[38;5;132;01m{\u001b[39;00m\u001b[38;5;28mself\u001b[39m\u001b[38;5;241m.\u001b[39m_port\u001b[38;5;132;01m}\u001b[39;00m\u001b[38;5;124m\"\u001b[39m\n\u001b[1;32m    675\u001b[0m     )\n",
      "\u001b[0;31mProgrammingError\u001b[0m: (mysql.connector.errors.ProgrammingError) 1054 (42S22): Unknown column 'site_region' in 'field list'\n[SQL: \nSELECT DISTINCT site_region FROM MasterDataset \n]\n(Background on this error at: https://sqlalche.me/e/14/f405)"
     ]
    }
   ],
   "source": [
    "params_dict = {'column_name' : 'site_region','train_nodes' : [\"Midwest\",\"South\"] , 'test_nodes' : ['West','Northeast'] }\n",
    "\n",
    "eicu_nodes = autoFl.create_nodes_from_master_dataset(params_dict = params_dict )\n",
    "\n",
    "[node.name  for node in eicu_nodes]  "
   ]
  },
  {
   "cell_type": "markdown",
   "metadata": {},
   "source": [
    "#### 1.5. Creating a Federated Dataset\n"
   ]
  },
  {
   "cell_type": "code",
   "execution_count": 8,
   "metadata": {},
   "outputs": [],
   "source": [
    "# Create a Federated DataSet for the autoFL\n",
    "fl_dataset = autoFl.create_federated_dataset(\n",
    "    output=\"event_death\", \n",
    "    fit_encode=[\"site_hospital\", \"site_region\"], \n",
    "    to_drop=[ \"event_death\" , \"id\"], \n",
    " )"
   ]
  },
  {
   "cell_type": "code",
   "execution_count": 9,
   "metadata": {},
   "outputs": [
    {
     "data": {
      "text/plain": [
       "17"
      ]
     },
     "execution_count": 9,
     "metadata": {},
     "output_type": "execute_result"
    }
   ],
   "source": [
    "fl_dataset.size"
   ]
  },
  {
   "cell_type": "code",
   "execution_count": 10,
   "metadata": {},
   "outputs": [
    {
     "data": {
      "text/html": [
       "<div>\n",
       "<style scoped>\n",
       "    .dataframe tbody tr th:only-of-type {\n",
       "        vertical-align: middle;\n",
       "    }\n",
       "\n",
       "    .dataframe tbody tr th {\n",
       "        vertical-align: top;\n",
       "    }\n",
       "\n",
       "    .dataframe thead th {\n",
       "        text-align: right;\n",
       "    }\n",
       "</style>\n",
       "<table border=\"1\" class=\"dataframe\">\n",
       "  <thead>\n",
       "    <tr style=\"text-align: right;\">\n",
       "      <th></th>\n",
       "      <th>FedId</th>\n",
       "      <th>FLsetupId</th>\n",
       "      <th>FLpipeId</th>\n",
       "      <th>name</th>\n",
       "    </tr>\n",
       "  </thead>\n",
       "  <tbody>\n",
       "    <tr>\n",
       "      <th>0</th>\n",
       "      <td>1</td>\n",
       "      <td>1</td>\n",
       "      <td>None</td>\n",
       "      <td>Flsetup_1_Feddataset</td>\n",
       "    </tr>\n",
       "  </tbody>\n",
       "</table>\n",
       "</div>"
      ],
      "text/plain": [
       "   FedId  FLsetupId FLpipeId                  name\n",
       "0      1          1     None  Flsetup_1_Feddataset"
      ]
     },
     "execution_count": 10,
     "metadata": {},
     "output_type": "execute_result"
    }
   ],
   "source": [
    "# Get the Federated DataSet of the auto FL \n",
    "data = autoFl.get_flDataSet() \n",
    "data "
   ]
  },
  {
   "cell_type": "code",
   "execution_count": 11,
   "metadata": {},
   "outputs": [
    {
     "data": {
      "text/html": [
       "<div>\n",
       "<style scoped>\n",
       "    .dataframe tbody tr th:only-of-type {\n",
       "        vertical-align: middle;\n",
       "    }\n",
       "\n",
       "    .dataframe tbody tr th {\n",
       "        vertical-align: top;\n",
       "    }\n",
       "\n",
       "    .dataframe thead th {\n",
       "        text-align: right;\n",
       "    }\n",
       "</style>\n",
       "<table border=\"1\" class=\"dataframe\">\n",
       "  <thead>\n",
       "    <tr style=\"text-align: right;\">\n",
       "      <th></th>\n",
       "      <th>NodeId</th>\n",
       "      <th>NodeName</th>\n",
       "      <th>train</th>\n",
       "      <th>NetId</th>\n",
       "    </tr>\n",
       "  </thead>\n",
       "  <tbody>\n",
       "    <tr>\n",
       "      <th>0</th>\n",
       "      <td>1</td>\n",
       "      <td>Midwest</td>\n",
       "      <td>1</td>\n",
       "      <td>1</td>\n",
       "    </tr>\n",
       "    <tr>\n",
       "      <th>1</th>\n",
       "      <td>2</td>\n",
       "      <td>South</td>\n",
       "      <td>1</td>\n",
       "      <td>1</td>\n",
       "    </tr>\n",
       "    <tr>\n",
       "      <th>2</th>\n",
       "      <td>3</td>\n",
       "      <td>West</td>\n",
       "      <td>0</td>\n",
       "      <td>1</td>\n",
       "    </tr>\n",
       "    <tr>\n",
       "      <th>3</th>\n",
       "      <td>4</td>\n",
       "      <td>Northeast</td>\n",
       "      <td>0</td>\n",
       "      <td>1</td>\n",
       "    </tr>\n",
       "  </tbody>\n",
       "</table>\n",
       "</div>"
      ],
      "text/plain": [
       "   NodeId   NodeName  train  NetId\n",
       "0       1    Midwest      1      1\n",
       "1       2      South      1      1\n",
       "2       3       West      0      1\n",
       "3       4  Northeast      0      1"
      ]
     },
     "execution_count": 11,
     "metadata": {},
     "output_type": "execute_result"
    }
   ],
   "source": [
    "# List all created nodes on the db \n",
    "Node.list_allnodes()"
   ]
  },
  {
   "cell_type": "markdown",
   "metadata": {},
   "source": [
    "### 2. Learning manager"
   ]
  },
  {
   "cell_type": "markdown",
   "metadata": {},
   "source": [
    "#### 2.1. Modal inialization\n",
    "In this tutorial, we will use the dynamic model class to create a custom model. MEDfl enables users to create models from scratch or even use pre-trained models. For more details about the available options, please refer to Tutorial 4: Learning Manager.\n",
    "Note that there is also a tutorial available for more detailed information about creating a dynamic model using MEDfl and the various parameters required for each model. "
   ]
  },
  {
   "cell_type": "code",
   "execution_count": 12,
   "metadata": {},
   "outputs": [
    {
     "data": {
      "text/plain": [
       "[array([[-0.11073372, -0.03209594, -0.125385  ,  0.00995561,  0.18885155,\n",
       "         -0.01376888, -0.05222048,  0.11559501, -0.03390973, -0.06356665,\n",
       "          0.18317682,  0.01670368,  0.16447398,  0.13972408, -0.07454732,\n",
       "          0.19271111,  0.15952957]], dtype=float32),\n",
       " array([0.2163465], dtype=float32)]"
      ]
     },
     "execution_count": 12,
     "metadata": {},
     "output_type": "execute_result"
    }
   ],
   "source": [
    "# Creating a DynamicModel instance\n",
    "dynamic_model = DynamicModel()\n",
    "\n",
    "# Creating a specific model dynamically using DynamicModel\n",
    "specific_model = dynamic_model.create_model(model_type='Logistic Regressor', params_dict={\"input_dim\": 17, \"output_dim\": 1})\n",
    "\n",
    "# Pass the specific_model to the Model class\n",
    "optimizer = optim.SGD(specific_model.parameters(), lr=0.0001)\n",
    "criterion = nn.BCELoss()\n",
    "\n",
    "\n",
    "# Creating a new Model instance using the specific model created by DynamicModel\n",
    "global_model = Model(specific_model, optimizer, criterion)\n",
    "\n",
    "# The modal to be passed to the server\n",
    "global_model.get_parameters()"
   ]
  },
  {
   "cell_type": "markdown",
   "metadata": {},
   "source": [
    "#### 2.2 Define the Aggregation Algorithms (**Aggregation Strategy**)\n",
    "\n",
    "in this tuto we will use the FedAvg algorithm for the aggregation strategy \n"
   ]
  },
  {
   "cell_type": "code",
   "execution_count": 13,
   "metadata": {},
   "outputs": [],
   "source": [
    "# Create the strategy\n",
    "fed_avg = Strategy(\"FedAvg\", \n",
    "                   fraction_fit = 1.0 ,\n",
    "                   fraction_evaluate = 1.0,\n",
    "                   min_fit_clients = 2,\n",
    "                   min_evaluate_clients = 2,\n",
    "                   min_available_clients = 2 , \n",
    "                   initial_parameters=global_model.get_parameters())"
   ]
  },
  {
   "cell_type": "markdown",
   "metadata": {},
   "source": [
    "####  2.3 Federated Learning Server\n"
   ]
  },
  {
   "cell_type": "code",
   "execution_count": 14,
   "metadata": {},
   "outputs": [],
   "source": [
    "# Create The server \n",
    "server = FlowerServer(global_model, strategy = fed_avg, num_rounds = 10,\n",
    "                       num_clients  = len(fl_dataset.trainloaders), \n",
    "                       fed_dataset = fl_dataset,diff_privacy = False ,\n",
    "                       # You can change the resources alocated for each client based on your machine \n",
    "                       client_resources={'num_cpus': 1.0, 'num_gpus': 0.0}\n",
    "                       )"
   ]
  },
  {
   "cell_type": "markdown",
   "metadata": {},
   "source": [
    "#### 2.4. FL Pipeline Creation\n"
   ]
  },
  {
   "cell_type": "code",
   "execution_count": 15,
   "metadata": {},
   "outputs": [],
   "source": [
    "# Create the pipeline \n",
    "ppl_1 = FLpipeline( name =\"the first fl_pipeline\",description = \"this is our first FL pipeline\",\n",
    "                   server = server)"
   ]
  },
  {
   "cell_type": "code",
   "execution_count": 16,
   "metadata": {},
   "outputs": [
    {
     "name": "stderr",
     "output_type": "stream",
     "text": [
      "INFO flwr 2024-02-13 16:01:27,387 | app.py:178 | Starting Flower simulation, config: ServerConfig(num_rounds=10, round_timeout=None)\n",
      "02/13/2024 16:01:27:INFO:Starting Flower simulation, config: ServerConfig(num_rounds=10, round_timeout=None)\n",
      "2024-02-13 16:01:29,521\tINFO worker.py:1621 -- Started a local Ray instance.\n",
      "INFO flwr 2024-02-13 16:01:31,855 | app.py:213 | Flower VCE: Ray initialized with resources: {'memory': 39702983885.0, 'CPU': 24.0, 'GPU': 1.0, 'accelerator_type:G': 1.0, 'object_store_memory': 78643200.0, 'node:10.44.86.57': 1.0, 'node:__internal_head__': 1.0}\n",
      "02/13/2024 16:01:31:INFO:Flower VCE: Ray initialized with resources: {'memory': 39702983885.0, 'CPU': 24.0, 'GPU': 1.0, 'accelerator_type:G': 1.0, 'object_store_memory': 78643200.0, 'node:10.44.86.57': 1.0, 'node:__internal_head__': 1.0}\n",
      "INFO flwr 2024-02-13 16:01:31,856 | app.py:219 | Optimize your simulation with Flower VCE: https://flower.dev/docs/framework/how-to-run-simulations.html\n",
      "02/13/2024 16:01:31:INFO:Optimize your simulation with Flower VCE: https://flower.dev/docs/framework/how-to-run-simulations.html\n",
      "INFO flwr 2024-02-13 16:01:31,857 | app.py:242 | Flower VCE: Resources for each Virtual Client: {'num_cpus': 1.0, 'num_gpus': 0.0}\n",
      "02/13/2024 16:01:31:INFO:Flower VCE: Resources for each Virtual Client: {'num_cpus': 1.0, 'num_gpus': 0.0}\n",
      "INFO flwr 2024-02-13 16:01:31,868 | app.py:288 | Flower VCE: Creating VirtualClientEngineActorPool with 24 actors\n",
      "02/13/2024 16:01:31:INFO:Flower VCE: Creating VirtualClientEngineActorPool with 24 actors\n",
      "INFO flwr 2024-02-13 16:01:31,868 | server.py:89 | Initializing global parameters\n",
      "02/13/2024 16:01:31:INFO:Initializing global parameters\n",
      "INFO flwr 2024-02-13 16:01:31,869 | server.py:272 | Using initial parameters provided by strategy\n",
      "02/13/2024 16:01:31:INFO:Using initial parameters provided by strategy\n",
      "INFO flwr 2024-02-13 16:01:31,869 | server.py:91 | Evaluating initial parameters\n",
      "02/13/2024 16:01:31:INFO:Evaluating initial parameters\n",
      "INFO flwr 2024-02-13 16:01:31,873 | server.py:94 | initial parameters (loss, other metrics): 0.07913859933614731, {'accuracy': 0.75}\n",
      "02/13/2024 16:01:31:INFO:initial parameters (loss, other metrics): 0.07913859933614731, {'accuracy': 0.75}\n",
      "INFO flwr 2024-02-13 16:01:31,874 | server.py:104 | FL starting\n",
      "02/13/2024 16:01:31:INFO:FL starting\n",
      "DEBUG flwr 2024-02-13 16:01:31,875 | server.py:222 | fit_round 1: strategy sampled 2 clients (out of 2)\n",
      "02/13/2024 16:01:31:DEBUG:fit_round 1: strategy sampled 2 clients (out of 2)\n"
     ]
    },
    {
     "name": "stdout",
     "output_type": "stream",
     "text": [
      "Server-side evaluation loss 0.07913859933614731 / accuracy 0.75\n"
     ]
    },
    {
     "name": "stderr",
     "output_type": "stream",
     "text": [
      "DEBUG flwr 2024-02-13 16:01:39,457 | server.py:236 | fit_round 1 received 2 results and 0 failures\n",
      "02/13/2024 16:01:39:DEBUG:fit_round 1 received 2 results and 0 failures\n",
      "WARNING flwr 2024-02-13 16:01:39,462 | fedavg.py:250 | No fit_metrics_aggregation_fn provided\n",
      "02/13/2024 16:01:39:WARNING:No fit_metrics_aggregation_fn provided\n",
      "INFO flwr 2024-02-13 16:01:39,465 | server.py:125 | fit progress: (1, 0.07823415100574493, {'accuracy': 0.75}, 7.5899811499984935)\n",
      "02/13/2024 16:01:39:INFO:fit progress: (1, 0.07823415100574493, {'accuracy': 0.75}, 7.5899811499984935)\n",
      "DEBUG flwr 2024-02-13 16:01:39,466 | server.py:173 | evaluate_round 1: strategy sampled 2 clients (out of 2)\n",
      "02/13/2024 16:01:39:DEBUG:evaluate_round 1: strategy sampled 2 clients (out of 2)\n",
      "\u001b[2m\u001b[36m(DefaultActor pid=32624)\u001b[0m /home/local/USHERBROOKE/saho6810/.local/lib/python3.8/site-packages/opacus/privacy_engine.py:142: UserWarning: Secure RNG turned off. This is perfectly fine for experimentation as it allows for much faster training performance, but remember to turn it on and retrain one last time before production with ``secure_mode`` turned on.\n",
      "\u001b[2m\u001b[36m(DefaultActor pid=32624)\u001b[0m   warnings.warn(\n",
      "\u001b[2m\u001b[36m(DefaultActor pid=32624)\u001b[0m /home/local/USHERBROOKE/saho6810/.local/lib/python3.8/site-packages/flwr/simulation/ray_transport/ray_actor.py:72: DeprecationWarning:  Ensure your client is of type `flwr.client.Client`. Please convert it using the `.to_client()` method before returning it in the `client_fn` you pass to `start_simulation`. We have applied this conversion on your behalf. Not returning a `Client` might trigger an error in future versions of Flower.\n",
      "\u001b[2m\u001b[36m(DefaultActor pid=32624)\u001b[0m   client = check_clientfn_returns_client(client_fn(cid))\n",
      "DEBUG flwr 2024-02-13 16:01:39,489 | server.py:187 | evaluate_round 1 received 2 results and 0 failures\n",
      "02/13/2024 16:01:39:DEBUG:evaluate_round 1 received 2 results and 0 failures\n",
      "WARNING flwr 2024-02-13 16:01:39,489 | fedavg.py:281 | No evaluate_metrics_aggregation_fn provided\n",
      "02/13/2024 16:01:39:WARNING:No evaluate_metrics_aggregation_fn provided\n",
      "DEBUG flwr 2024-02-13 16:01:39,490 | server.py:222 | fit_round 2: strategy sampled 2 clients (out of 2)\n",
      "02/13/2024 16:01:39:DEBUG:fit_round 2: strategy sampled 2 clients (out of 2)\n",
      "DEBUG flwr 2024-02-13 16:01:39,521 | server.py:236 | fit_round 2 received 2 results and 0 failures\n",
      "02/13/2024 16:01:39:DEBUG:fit_round 2 received 2 results and 0 failures\n",
      "INFO flwr 2024-02-13 16:01:39,524 | server.py:125 | fit progress: (2, 0.07783716917037964, {'accuracy': 0.75}, 7.6494412169995485)\n",
      "02/13/2024 16:01:39:INFO:fit progress: (2, 0.07783716917037964, {'accuracy': 0.75}, 7.6494412169995485)\n",
      "DEBUG flwr 2024-02-13 16:01:39,525 | server.py:173 | evaluate_round 2: strategy sampled 2 clients (out of 2)\n",
      "02/13/2024 16:01:39:DEBUG:evaluate_round 2: strategy sampled 2 clients (out of 2)\n",
      "DEBUG flwr 2024-02-13 16:01:39,543 | server.py:187 | evaluate_round 2 received 2 results and 0 failures\n",
      "02/13/2024 16:01:39:DEBUG:evaluate_round 2 received 2 results and 0 failures\n",
      "DEBUG flwr 2024-02-13 16:01:39,544 | server.py:222 | fit_round 3: strategy sampled 2 clients (out of 2)\n",
      "02/13/2024 16:01:39:DEBUG:fit_round 3: strategy sampled 2 clients (out of 2)\n",
      "DEBUG flwr 2024-02-13 16:01:39,568 | server.py:236 | fit_round 3 received 2 results and 0 failures\n",
      "02/13/2024 16:01:39:DEBUG:fit_round 3 received 2 results and 0 failures\n",
      "INFO flwr 2024-02-13 16:01:39,572 | server.py:125 | fit progress: (3, 0.0777909979224205, {'accuracy': 0.75}, 7.697064622998369)\n",
      "02/13/2024 16:01:39:INFO:fit progress: (3, 0.0777909979224205, {'accuracy': 0.75}, 7.697064622998369)\n",
      "DEBUG flwr 2024-02-13 16:01:39,573 | server.py:173 | evaluate_round 3: strategy sampled 2 clients (out of 2)\n",
      "02/13/2024 16:01:39:DEBUG:evaluate_round 3: strategy sampled 2 clients (out of 2)\n",
      "DEBUG flwr 2024-02-13 16:01:39,593 | server.py:187 | evaluate_round 3 received 2 results and 0 failures\n",
      "02/13/2024 16:01:39:DEBUG:evaluate_round 3 received 2 results and 0 failures\n",
      "DEBUG flwr 2024-02-13 16:01:39,594 | server.py:222 | fit_round 4: strategy sampled 2 clients (out of 2)\n",
      "02/13/2024 16:01:39:DEBUG:fit_round 4: strategy sampled 2 clients (out of 2)\n",
      "DEBUG flwr 2024-02-13 16:01:39,623 | server.py:236 | fit_round 4 received 2 results and 0 failures\n",
      "02/13/2024 16:01:39:DEBUG:fit_round 4 received 2 results and 0 failures\n",
      "INFO flwr 2024-02-13 16:01:39,626 | server.py:125 | fit progress: (4, 0.07798586785793304, {'accuracy': 0.75}, 7.751180438999654)\n",
      "02/13/2024 16:01:39:INFO:fit progress: (4, 0.07798586785793304, {'accuracy': 0.75}, 7.751180438999654)\n",
      "DEBUG flwr 2024-02-13 16:01:39,627 | server.py:173 | evaluate_round 4: strategy sampled 2 clients (out of 2)\n",
      "02/13/2024 16:01:39:DEBUG:evaluate_round 4: strategy sampled 2 clients (out of 2)\n",
      "DEBUG flwr 2024-02-13 16:01:39,646 | server.py:187 | evaluate_round 4 received 2 results and 0 failures\n",
      "02/13/2024 16:01:39:DEBUG:evaluate_round 4 received 2 results and 0 failures\n",
      "DEBUG flwr 2024-02-13 16:01:39,646 | server.py:222 | fit_round 5: strategy sampled 2 clients (out of 2)\n",
      "02/13/2024 16:01:39:DEBUG:fit_round 5: strategy sampled 2 clients (out of 2)\n"
     ]
    },
    {
     "name": "stdout",
     "output_type": "stream",
     "text": [
      "Server-side evaluation loss 0.07823415100574493 / accuracy 0.75\n",
      "\u001b[2m\u001b[36m(DefaultActor pid=32622)\u001b[0m [Client 0] fit, config: {}\n",
      "\u001b[2m\u001b[36m(DefaultActor pid=32622)\u001b[0m epsilon of client 0 : eps = 0\n",
      "Server-side evaluation loss 0.07783716917037964 / accuracy 0.75\n",
      "Server-side evaluation loss 0.0777909979224205 / accuracy 0.75\n",
      "\u001b[2m\u001b[36m(DefaultActor pid=32622)\u001b[0m [Client 1] evaluate, config: {}\n",
      "\u001b[2m\u001b[36m(DefaultActor pid=32622)\u001b[0m [Client 0] evaluate, config: {}\n",
      "Server-side evaluation loss 0.07798586785793304 / accuracy 0.75\n"
     ]
    },
    {
     "name": "stderr",
     "output_type": "stream",
     "text": [
      "DEBUG flwr 2024-02-13 16:01:39,682 | server.py:236 | fit_round 5 received 2 results and 0 failures\n",
      "02/13/2024 16:01:39:DEBUG:fit_round 5 received 2 results and 0 failures\n",
      "INFO flwr 2024-02-13 16:01:39,684 | server.py:125 | fit progress: (5, 0.07834416627883911, {'accuracy': 0.875}, 7.809318270999938)\n",
      "02/13/2024 16:01:39:INFO:fit progress: (5, 0.07834416627883911, {'accuracy': 0.875}, 7.809318270999938)\n",
      "DEBUG flwr 2024-02-13 16:01:39,686 | server.py:173 | evaluate_round 5: strategy sampled 2 clients (out of 2)\n",
      "02/13/2024 16:01:39:DEBUG:evaluate_round 5: strategy sampled 2 clients (out of 2)\n",
      "DEBUG flwr 2024-02-13 16:01:39,706 | server.py:187 | evaluate_round 5 received 2 results and 0 failures\n",
      "02/13/2024 16:01:39:DEBUG:evaluate_round 5 received 2 results and 0 failures\n",
      "DEBUG flwr 2024-02-13 16:01:39,706 | server.py:222 | fit_round 6: strategy sampled 2 clients (out of 2)\n",
      "02/13/2024 16:01:39:DEBUG:fit_round 6: strategy sampled 2 clients (out of 2)\n",
      "DEBUG flwr 2024-02-13 16:01:39,744 | server.py:236 | fit_round 6 received 2 results and 0 failures\n",
      "02/13/2024 16:01:39:DEBUG:fit_round 6 received 2 results and 0 failures\n",
      "INFO flwr 2024-02-13 16:01:39,749 | server.py:125 | fit progress: (6, 0.07881074398756027, {'accuracy': 0.875}, 7.873476179998761)\n",
      "02/13/2024 16:01:39:INFO:fit progress: (6, 0.07881074398756027, {'accuracy': 0.875}, 7.873476179998761)\n",
      "DEBUG flwr 2024-02-13 16:01:39,750 | server.py:173 | evaluate_round 6: strategy sampled 2 clients (out of 2)\n",
      "02/13/2024 16:01:39:DEBUG:evaluate_round 6: strategy sampled 2 clients (out of 2)\n",
      "DEBUG flwr 2024-02-13 16:01:39,770 | server.py:187 | evaluate_round 6 received 2 results and 0 failures\n",
      "02/13/2024 16:01:39:DEBUG:evaluate_round 6 received 2 results and 0 failures\n",
      "DEBUG flwr 2024-02-13 16:01:39,771 | server.py:222 | fit_round 7: strategy sampled 2 clients (out of 2)\n",
      "02/13/2024 16:01:39:DEBUG:fit_round 7: strategy sampled 2 clients (out of 2)\n",
      "DEBUG flwr 2024-02-13 16:01:39,811 | server.py:236 | fit_round 7 received 2 results and 0 failures\n",
      "02/13/2024 16:01:39:DEBUG:fit_round 7 received 2 results and 0 failures\n",
      "INFO flwr 2024-02-13 16:01:39,816 | server.py:125 | fit progress: (7, 0.07934608310461044, {'accuracy': 0.875}, 7.940773058999184)\n",
      "02/13/2024 16:01:39:INFO:fit progress: (7, 0.07934608310461044, {'accuracy': 0.875}, 7.940773058999184)\n",
      "DEBUG flwr 2024-02-13 16:01:39,817 | server.py:173 | evaluate_round 7: strategy sampled 2 clients (out of 2)\n",
      "02/13/2024 16:01:39:DEBUG:evaluate_round 7: strategy sampled 2 clients (out of 2)\n",
      "DEBUG flwr 2024-02-13 16:01:39,838 | server.py:187 | evaluate_round 7 received 2 results and 0 failures\n",
      "02/13/2024 16:01:39:DEBUG:evaluate_round 7 received 2 results and 0 failures\n",
      "DEBUG flwr 2024-02-13 16:01:39,839 | server.py:222 | fit_round 8: strategy sampled 2 clients (out of 2)\n",
      "02/13/2024 16:01:39:DEBUG:fit_round 8: strategy sampled 2 clients (out of 2)\n",
      "DEBUG flwr 2024-02-13 16:01:39,872 | server.py:236 | fit_round 8 received 2 results and 0 failures\n",
      "02/13/2024 16:01:39:DEBUG:fit_round 8 received 2 results and 0 failures\n",
      "INFO flwr 2024-02-13 16:01:39,875 | server.py:125 | fit progress: (8, 0.07992179691791534, {'accuracy': 0.875}, 7.999646257998393)\n",
      "02/13/2024 16:01:39:INFO:fit progress: (8, 0.07992179691791534, {'accuracy': 0.875}, 7.999646257998393)\n",
      "DEBUG flwr 2024-02-13 16:01:39,876 | server.py:173 | evaluate_round 8: strategy sampled 2 clients (out of 2)\n",
      "02/13/2024 16:01:39:DEBUG:evaluate_round 8: strategy sampled 2 clients (out of 2)\n"
     ]
    },
    {
     "name": "stdout",
     "output_type": "stream",
     "text": [
      "Server-side evaluation loss 0.07834416627883911 / accuracy 0.875\n",
      "Server-side evaluation loss 0.07881074398756027 / accuracy 0.875\n",
      "Server-side evaluation loss 0.07934608310461044 / accuracy 0.875\n",
      "Server-side evaluation loss 0.07992179691791534 / accuracy 0.875\n"
     ]
    },
    {
     "name": "stderr",
     "output_type": "stream",
     "text": [
      "DEBUG flwr 2024-02-13 16:01:39,896 | server.py:187 | evaluate_round 8 received 2 results and 0 failures\n",
      "02/13/2024 16:01:39:DEBUG:evaluate_round 8 received 2 results and 0 failures\n",
      "DEBUG flwr 2024-02-13 16:01:39,896 | server.py:222 | fit_round 9: strategy sampled 2 clients (out of 2)\n",
      "02/13/2024 16:01:39:DEBUG:fit_round 9: strategy sampled 2 clients (out of 2)\n",
      "DEBUG flwr 2024-02-13 16:01:39,926 | server.py:236 | fit_round 9 received 2 results and 0 failures\n",
      "02/13/2024 16:01:39:DEBUG:fit_round 9 received 2 results and 0 failures\n",
      "INFO flwr 2024-02-13 16:01:39,928 | server.py:125 | fit progress: (9, 0.08051745593547821, {'accuracy': 0.875}, 8.052990127998783)\n",
      "02/13/2024 16:01:39:INFO:fit progress: (9, 0.08051745593547821, {'accuracy': 0.875}, 8.052990127998783)\n",
      "DEBUG flwr 2024-02-13 16:01:39,929 | server.py:173 | evaluate_round 9: strategy sampled 2 clients (out of 2)\n",
      "02/13/2024 16:01:39:DEBUG:evaluate_round 9: strategy sampled 2 clients (out of 2)\n",
      "DEBUG flwr 2024-02-13 16:01:39,949 | server.py:187 | evaluate_round 9 received 2 results and 0 failures\n",
      "02/13/2024 16:01:39:DEBUG:evaluate_round 9 received 2 results and 0 failures\n",
      "DEBUG flwr 2024-02-13 16:01:39,950 | server.py:222 | fit_round 10: strategy sampled 2 clients (out of 2)\n",
      "02/13/2024 16:01:39:DEBUG:fit_round 10: strategy sampled 2 clients (out of 2)\n",
      "DEBUG flwr 2024-02-13 16:01:39,986 | server.py:236 | fit_round 10 received 2 results and 0 failures\n",
      "02/13/2024 16:01:39:DEBUG:fit_round 10 received 2 results and 0 failures\n",
      "INFO flwr 2024-02-13 16:01:39,991 | server.py:125 | fit progress: (10, 0.08111836016178131, {'accuracy': 0.875}, 8.115731824998875)\n",
      "02/13/2024 16:01:39:INFO:fit progress: (10, 0.08111836016178131, {'accuracy': 0.875}, 8.115731824998875)\n",
      "DEBUG flwr 2024-02-13 16:01:39,992 | server.py:173 | evaluate_round 10: strategy sampled 2 clients (out of 2)\n",
      "02/13/2024 16:01:39:DEBUG:evaluate_round 10: strategy sampled 2 clients (out of 2)\n",
      "DEBUG flwr 2024-02-13 16:01:40,009 | server.py:187 | evaluate_round 10 received 2 results and 0 failures\n",
      "02/13/2024 16:01:40:DEBUG:evaluate_round 10 received 2 results and 0 failures\n",
      "INFO flwr 2024-02-13 16:01:40,010 | server.py:153 | FL finished in 8.134481909999522\n",
      "02/13/2024 16:01:40:INFO:FL finished in 8.134481909999522\n",
      "INFO flwr 2024-02-13 16:01:40,010 | app.py:226 | app_fit: losses_distributed [(1, 0.059726894474946536), (2, 0.05894947739747854), (3, 0.05850160781007546), (4, 0.058287979891667), (5, 0.05824046639295725), (6, 0.058310035043037854), (7, 0.05846106633543968), (8, 0.05866754570832619), (9, 0.058910396809761345), (10, 0.05917558245933973)]\n",
      "02/13/2024 16:01:40:INFO:app_fit: losses_distributed [(1, 0.059726894474946536), (2, 0.05894947739747854), (3, 0.05850160781007546), (4, 0.058287979891667), (5, 0.05824046639295725), (6, 0.058310035043037854), (7, 0.05846106633543968), (8, 0.05866754570832619), (9, 0.058910396809761345), (10, 0.05917558245933973)]\n",
      "INFO flwr 2024-02-13 16:01:40,011 | app.py:227 | app_fit: metrics_distributed_fit {}\n",
      "02/13/2024 16:01:40:INFO:app_fit: metrics_distributed_fit {}\n",
      "INFO flwr 2024-02-13 16:01:40,012 | app.py:228 | app_fit: metrics_distributed {}\n",
      "02/13/2024 16:01:40:INFO:app_fit: metrics_distributed {}\n",
      "INFO flwr 2024-02-13 16:01:40,013 | app.py:229 | app_fit: losses_centralized [(0, 0.07913859933614731), (1, 0.07823415100574493), (2, 0.07783716917037964), (3, 0.0777909979224205), (4, 0.07798586785793304), (5, 0.07834416627883911), (6, 0.07881074398756027), (7, 0.07934608310461044), (8, 0.07992179691791534), (9, 0.08051745593547821), (10, 0.08111836016178131)]\n",
      "02/13/2024 16:01:40:INFO:app_fit: losses_centralized [(0, 0.07913859933614731), (1, 0.07823415100574493), (2, 0.07783716917037964), (3, 0.0777909979224205), (4, 0.07798586785793304), (5, 0.07834416627883911), (6, 0.07881074398756027), (7, 0.07934608310461044), (8, 0.07992179691791534), (9, 0.08051745593547821), (10, 0.08111836016178131)]\n",
      "INFO flwr 2024-02-13 16:01:40,014 | app.py:230 | app_fit: metrics_centralized {'accuracy': [(0, 0.75), (1, 0.75), (2, 0.75), (3, 0.75), (4, 0.75), (5, 0.875), (6, 0.875), (7, 0.875), (8, 0.875), (9, 0.875), (10, 0.875)]}\n",
      "02/13/2024 16:01:40:INFO:app_fit: metrics_centralized {'accuracy': [(0, 0.75), (1, 0.75), (2, 0.75), (3, 0.75), (4, 0.75), (5, 0.875), (6, 0.875), (7, 0.875), (8, 0.875), (9, 0.875), (10, 0.875)]}\n"
     ]
    },
    {
     "name": "stdout",
     "output_type": "stream",
     "text": [
      "Server-side evaluation loss 0.08051745593547821 / accuracy 0.875\n",
      "Server-side evaluation loss 0.08111836016178131 / accuracy 0.875\n"
     ]
    },
    {
     "name": "stderr",
     "output_type": "stream",
     "text": [
      "\u001b[2m\u001b[36m(DefaultActor pid=32624)\u001b[0m /home/local/USHERBROOKE/saho6810/.local/lib/python3.8/site-packages/opacus/privacy_engine.py:142: UserWarning: Secure RNG turned off. This is perfectly fine for experimentation as it allows for much faster training performance, but remember to turn it on and retrain one last time before production with ``secure_mode`` turned on.\n",
      "\u001b[2m\u001b[36m(DefaultActor pid=32624)\u001b[0m   warnings.warn(\n",
      "\u001b[2m\u001b[36m(DefaultActor pid=32624)\u001b[0m /home/local/USHERBROOKE/saho6810/.local/lib/python3.8/site-packages/flwr/simulation/ray_transport/ray_actor.py:72: DeprecationWarning:  Ensure your client is of type `flwr.client.Client`. Please convert it using the `.to_client()` method before returning it in the `client_fn` you pass to `start_simulation`. We have applied this conversion on your behalf. Not returning a `Client` might trigger an error in future versions of Flower.\n",
      "\u001b[2m\u001b[36m(DefaultActor pid=32624)\u001b[0m   client = check_clientfn_returns_client(client_fn(cid))\n"
     ]
    },
    {
     "name": "stdout",
     "output_type": "stream",
     "text": [
      "\u001b[2m\u001b[36m(DefaultActor pid=32622)\u001b[0m epsilon of client 0 : eps = 0\n",
      "\u001b[2m\u001b[36m(DefaultActor pid=32622)\u001b[0m [Client 0] evaluate, config: {}\n",
      "\u001b[2m\u001b[36m(DefaultActor pid=32622)\u001b[0m [Client 1] fit, config: {}\n",
      "\u001b[2m\u001b[36m(DefaultActor pid=32622)\u001b[0m epsilon of client 1 : eps = 0\n",
      "\u001b[2m\u001b[36m(DefaultActor pid=32622)\u001b[0m [Client 0] evaluate, config: {}\n"
     ]
    }
   ],
   "source": [
    "# Run the Traning of the model\n",
    "history = ppl_1.server.run()"
   ]
  },
  {
   "cell_type": "code",
   "execution_count": 17,
   "metadata": {},
   "outputs": [
    {
     "data": {
      "image/png": "[encoded data removed]",
      "text/plain": [
       "<Figure size 800x600 with 1 Axes>"
      ]
     },
     "metadata": {},
     "output_type": "display_data"
    }
   ],
   "source": [
    "# Make some plots \n",
    "global_accuracy,global_loss = ppl_1.server.accuracies,ppl_1.server.losses\n",
    "results_dict = {\n",
    "    ('LR: 0.001, Optimizer: SGD', 'accuracy'): global_accuracy,\n",
    "    ('LR: 0.001, Optimizer: SGD', 'loss'): global_loss\n",
    "}\n",
    "plotter = AccuracyLossPlotter(results_dict)\n",
    "\n",
    "plotter.plot_accuracy_loss()"
   ]
  },
  {
   "cell_type": "code",
   "execution_count": 18,
   "metadata": {},
   "outputs": [
    {
     "data": {
      "text/plain": [
       "[{'node_name': 'Midwest',\n",
       "  'classification_report': \"{'confusion matrix': {'TP': 0, 'FP': 4, 'FN': 1, 'TN': 13}, 'Accuracy': 0.722, 'Sensitivity/Recall': 0.0, 'Specificity': 0.765, 'PPV/Precision': 0.0, 'NPV': 0.929, 'F1-score': 0.0, 'False positive rate': 0.235, 'True positive rate': 0.0}\"},\n",
       " {'node_name': 'South',\n",
       "  'classification_report': \"{'confusion matrix': {'TP': 1, 'FP': 6, 'FN': 5, 'TN': 20}, 'Accuracy': 0.656, 'Sensitivity/Recall': 0.167, 'Specificity': 0.769, 'PPV/Precision': 0.143, 'NPV': 0.8, 'F1-score': 0.154, 'False positive rate': 0.231, 'True positive rate': 0.167}\"},\n",
       " {'node_name': 'West',\n",
       "  'classification_report': \"{'confusion matrix': {'TP': 3, 'FP': 22, 'FN': 18, 'TN': 50}, 'Accuracy': 0.57, 'Sensitivity/Recall': 0.143, 'Specificity': 0.694, 'PPV/Precision': 0.12, 'NPV': 0.735, 'F1-score': 0.13, 'False positive rate': 0.306, 'True positive rate': 0.143}\"},\n",
       " {'node_name': 'Northeast',\n",
       "  'classification_report': \"{'confusion matrix': {'TP': 2, 'FP': 16, 'FN': 10, 'TN': 18}, 'Accuracy': 0.435, 'Sensitivity/Recall': 0.167, 'Specificity': 0.529, 'PPV/Precision': 0.111, 'NPV': 0.643, 'F1-score': 0.133, 'False positive rate': 0.471, 'True positive rate': 0.167}\"}]"
      ]
     },
     "execution_count": 18,
     "metadata": {},
     "output_type": "execute_result"
    }
   ],
   "source": [
    "# Test the Modal on the Test nodes and store the results on the DB\n",
    "ppl_1.auto_test()"
   ]
  }
 ],
 "metadata": {
  "kernelspec": {
   "display_name": "Python 3",
   "language": "python",
   "name": "python3"
  },
  "language_info": {
   "codemirror_mode": {
    "name": "ipython",
    "version": 3
   },
   "file_extension": ".py",
   "mimetype": "text/x-python",
   "name": "python",
   "nbconvert_exporter": "python",
   "pygments_lexer": "ipython3",
   "version": "3.8.10"
  },
  "orig_nbformat": 4
 },
 "nbformat": 4,
 "nbformat_minor": 2
}
