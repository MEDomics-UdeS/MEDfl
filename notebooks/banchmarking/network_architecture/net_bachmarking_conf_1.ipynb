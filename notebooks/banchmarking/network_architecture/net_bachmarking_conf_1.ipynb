{
 "cells": [
  {
   "cell_type": "markdown",
   "metadata": {},
   "source": [
    "This is the banchmarking of the network architecture "
   ]
  },
  {
   "cell_type": "code",
   "execution_count": 1,
   "metadata": {},
   "outputs": [],
   "source": [
    "from Medfl.LearningManager.utils import global_params\n",
    "\n",
    "import sys\n",
    "sys.path.append(global_params['base_url'])\n",
    "\n",
    "import os\n",
    "os.environ['PYTHONPATH'] = global_params['base_url']"
   ]
  },
  {
   "cell_type": "code",
   "execution_count": 2,
   "metadata": {},
   "outputs": [
    {
     "name": "stderr",
     "output_type": "stream",
     "text": [
      "2024-03-12 15:22:05.885474: I tensorflow/core/platform/cpu_feature_guard.cc:182] This TensorFlow binary is optimized to use available CPU instructions in performance-critical operations.\n",
      "To enable the following instructions: AVX2 FMA, in other operations, rebuild TensorFlow with the appropriate compiler flags.\n"
     ]
    }
   ],
   "source": [
    "import mysql.connector\n",
    "import pandas as pd\n",
    "from sqlalchemy import create_engine,text\n",
    "\n",
    "# Torch imports\n",
    "import torch\n",
    "import torch.nn as nn\n",
    "import torch.optim as optim\n",
    "\n",
    "## MedFL Imports \n",
    "## Network Manager Imports \n",
    "from Medfl.NetManager.node import Node\n",
    "from Medfl.NetManager.network import Network\n",
    "from Medfl.NetManager.dataset import DataSet\n",
    "from Medfl.NetManager.flsetup import FLsetup\n",
    "\n",
    "# flower imports \n",
    "import flwr as fl\n",
    "\n",
    "## Learning Manager imports \n",
    "from Medfl.LearningManager.dynamicModal import DynamicModel\n",
    "from Medfl.LearningManager.model import Model\n",
    "from Medfl.LearningManager.strategy import Strategy\n",
    "from Medfl.LearningManager.server import *\n",
    "from Medfl.LearningManager.flpipeline import *\n",
    "from Medfl.LearningManager.plot import AccuracyLossPlotter\n",
    "\n",
    "\n",
    "\n",
    "# Utils\n",
    "from Medfl.LearningManager.utils import *\n"
   ]
  },
  {
   "cell_type": "code",
   "execution_count": 3,
   "metadata": {},
   "outputs": [],
   "source": [
    "# DB Creation \n",
    "!python3 ../../../scripts/create_db.py\n",
    "\n",
    "# clearn DB \n",
    "# empty_db()"
   ]
  },
  {
   "cell_type": "code",
   "execution_count": 4,
   "metadata": {},
   "outputs": [
    {
     "name": "stderr",
     "output_type": "stream",
     "text": [
      "/home/local/USHERBROOKE/saho6810/.local/lib/python3.8/site-packages/pandas/io/sql.py:1761: RemovedIn20Warning: Deprecated API features detected! These feature(s) are not compatible with SQLAlchemy 2.0. To prevent incompatible upgrades prior to updating applications, ensure requirements files are pinned to \"sqlalchemy<2.0\". Set environment variable SQLALCHEMY_WARN_20=1 to show all deprecation warnings.  Set environment variable SQLALCHEMY_SILENCE_UBER_WARNING=1 to silence this message. (Background on SQLAlchemy 2.0 at: https://sqlalche.me/e/b8d9)\n",
      "  return insp.has_table(name, schema or self.meta.schema)\n"
     ]
    },
    {
     "data": {
      "text/plain": [
       "'manual_network'"
      ]
     },
     "execution_count": 4,
     "metadata": {},
     "output_type": "execute_result"
    }
   ],
   "source": [
    "# Create a nest work \"Net_1\"\n",
    "Net_1 = Network(name=\"manual_network\")\n",
    "Net_1.create_network()\n",
    "\n",
    "Net_1.name"
   ]
  },
  {
   "cell_type": "code",
   "execution_count": 5,
   "metadata": {},
   "outputs": [
    {
     "name": "stdout",
     "output_type": "stream",
     "text": [
      "/home/local/USHERBROOKE/saho6810/MEDfl/code/MEDfl/notebooks/data/masterDataSet/Mimic_ouael.csv\n"
     ]
    },
    {
     "data": {
      "text/plain": [
       "1"
      ]
     },
     "execution_count": 5,
     "metadata": {},
     "output_type": "execute_result"
    }
   ],
   "source": [
    "# Create a MasterDataSet from Net_1\n",
    "Net_1.create_master_dataset()\n",
    "\n",
    "# Check if the Network has a masterDataSet Table ( 1: Table exists ; 0: Table doesn't exist)\n",
    "Net_1.mtable_exists"
   ]
  },
  {
   "cell_type": "code",
   "execution_count": 6,
   "metadata": {},
   "outputs": [
    {
     "data": {
      "text/html": [
       "<div>\n",
       "<style scoped>\n",
       "    .dataframe tbody tr th:only-of-type {\n",
       "        vertical-align: middle;\n",
       "    }\n",
       "\n",
       "    .dataframe tbody tr th {\n",
       "        vertical-align: top;\n",
       "    }\n",
       "\n",
       "    .dataframe thead th {\n",
       "        text-align: right;\n",
       "    }\n",
       "</style>\n",
       "<table border=\"1\" class=\"dataframe\">\n",
       "  <thead>\n",
       "    <tr style=\"text-align: right;\">\n",
       "      <th></th>\n",
       "      <th>FLsetupId</th>\n",
       "      <th>name</th>\n",
       "      <th>description</th>\n",
       "      <th>creation_date</th>\n",
       "      <th>NetId</th>\n",
       "      <th>column_name</th>\n",
       "    </tr>\n",
       "  </thead>\n",
       "  <tbody>\n",
       "    <tr>\n",
       "      <th>0</th>\n",
       "      <td>1</td>\n",
       "      <td>Flsetup_1</td>\n",
       "      <td>The first fl setup</td>\n",
       "      <td>2024-03-12 15:22:35</td>\n",
       "      <td>1</td>\n",
       "      <td>None</td>\n",
       "    </tr>\n",
       "  </tbody>\n",
       "</table>\n",
       "</div>"
      ],
      "text/plain": [
       "   FLsetupId       name         description       creation_date  NetId  \\\n",
       "0          1  Flsetup_1  The first fl setup 2024-03-12 15:22:35      1   \n",
       "\n",
       "  column_name  \n",
       "0        None  "
      ]
     },
     "execution_count": 6,
     "metadata": {},
     "output_type": "execute_result"
    }
   ],
   "source": [
    "# auto FLsetup creation\n",
    "autoFl  = FLsetup(name = \"Flsetup_1\", description = \"The first fl setup\",network = Net_1)\n",
    "autoFl.create()\n",
    "\n",
    "# List all setups \n",
    "FLsetup.list_allsetups()"
   ]
  },
  {
   "cell_type": "markdown",
   "metadata": {},
   "source": [
    "# Configuration_1: A Manual network with 5 Nodes \n",
    "This network contains 5 nodes (3 Train nodes and 2 test nodes)"
   ]
  },
  {
   "cell_type": "code",
   "execution_count": 7,
   "metadata": {},
   "outputs": [],
   "source": [
    "# Create 5 nodes \n",
    "hospital_1,hospital_2,hospital_3, hospital_4 , hospital_5 = Node(name = \"hospital_1\", train = 1),Node(name = \"hospital_2\", train = 1),Node(name = \"hospital_3\", train = 1),Node(name = \"hospital_4\", train = 0),Node(name = \"hospital_5\", train = 0)"
   ]
  },
  {
   "cell_type": "code",
   "execution_count": 8,
   "metadata": {},
   "outputs": [],
   "source": [
    "# Assign the 3 nodes to the man_network \n",
    "Net_1.add_node(hospital_1)\n",
    "Net_1.add_node(hospital_2)\n",
    "Net_1.add_node(hospital_3) \n",
    "Net_1.add_node(hospital_4)\n",
    "Net_1.add_node(hospital_5) "
   ]
  },
  {
   "cell_type": "code",
   "execution_count": 9,
   "metadata": {},
   "outputs": [
    {
     "data": {
      "text/html": [
       "<div>\n",
       "<style scoped>\n",
       "    .dataframe tbody tr th:only-of-type {\n",
       "        vertical-align: middle;\n",
       "    }\n",
       "\n",
       "    .dataframe tbody tr th {\n",
       "        vertical-align: top;\n",
       "    }\n",
       "\n",
       "    .dataframe thead th {\n",
       "        text-align: right;\n",
       "    }\n",
       "</style>\n",
       "<table border=\"1\" class=\"dataframe\">\n",
       "  <thead>\n",
       "    <tr style=\"text-align: right;\">\n",
       "      <th></th>\n",
       "      <th>NodeId</th>\n",
       "      <th>NodeName</th>\n",
       "      <th>train</th>\n",
       "      <th>NetId</th>\n",
       "    </tr>\n",
       "  </thead>\n",
       "  <tbody>\n",
       "    <tr>\n",
       "      <th>0</th>\n",
       "      <td>1</td>\n",
       "      <td>hospital_1</td>\n",
       "      <td>1</td>\n",
       "      <td>1</td>\n",
       "    </tr>\n",
       "    <tr>\n",
       "      <th>1</th>\n",
       "      <td>2</td>\n",
       "      <td>hospital_2</td>\n",
       "      <td>1</td>\n",
       "      <td>1</td>\n",
       "    </tr>\n",
       "    <tr>\n",
       "      <th>2</th>\n",
       "      <td>3</td>\n",
       "      <td>hospital_3</td>\n",
       "      <td>1</td>\n",
       "      <td>1</td>\n",
       "    </tr>\n",
       "    <tr>\n",
       "      <th>3</th>\n",
       "      <td>4</td>\n",
       "      <td>hospital_4</td>\n",
       "      <td>0</td>\n",
       "      <td>1</td>\n",
       "    </tr>\n",
       "    <tr>\n",
       "      <th>4</th>\n",
       "      <td>5</td>\n",
       "      <td>hospital_5</td>\n",
       "      <td>0</td>\n",
       "      <td>1</td>\n",
       "    </tr>\n",
       "  </tbody>\n",
       "</table>\n",
       "</div>"
      ],
      "text/plain": [
       "   NodeId    NodeName  train  NetId\n",
       "0       1  hospital_1      1      1\n",
       "1       2  hospital_2      1      1\n",
       "2       3  hospital_3      1      1\n",
       "3       4  hospital_4      0      1\n",
       "4       5  hospital_5      0      1"
      ]
     },
     "execution_count": 9,
     "metadata": {},
     "output_type": "execute_result"
    }
   ],
   "source": [
    "# List all created nodes on the db \n",
    "Node.list_allnodes()"
   ]
  },
  {
   "cell_type": "code",
   "execution_count": 10,
   "metadata": {},
   "outputs": [],
   "source": [
    "# Define the path of the files \n",
    "# Train Data \n",
    "Ds_1 = global_params['base_url']+ '/notebooks/data/config_1/part_1.csv'\n",
    "Ds_2 = global_params['base_url']+ '/notebooks/data/config_1/part_2.csv'\n",
    "Ds_3 = global_params['base_url']+ '/notebooks/data/config_1/part_3.csv'\n",
    "\n",
    "# pload the DataSets \n",
    "hospital_1.upload_dataset( dataset_name = \"hospital_1_dataset\" , path_to_csv=Ds_1  )\n",
    "hospital_2.upload_dataset( dataset_name = \"hospital_2_dataset\" , path_to_csv=Ds_2)\n",
    "hospital_3.upload_dataset( dataset_name = \"hospital_3_dataset\" , path_to_csv=Ds_3 )\n",
    "\n",
    "# Test Data \n",
    "test_1 = global_params['base_url']+ '/notebooks/data/config_1/test_1.csv'\n",
    "test_2 = global_params['base_url']+ '/notebooks/data/config_1/test_2.csv'\n",
    "\n",
    "hospital_4.upload_dataset( dataset_name = \"hospital_2_dataset\" , path_to_csv=test_1)\n",
    "hospital_5.upload_dataset( dataset_name = \"hospital_3_dataset\" , path_to_csv=test_2 )\n",
    "\n",
    "\n"
   ]
  },
  {
   "cell_type": "code",
   "execution_count": 11,
   "metadata": {},
   "outputs": [],
   "source": [
    "# Create FLDataSet\n",
    "fl_dataset = autoFl.create_federated_dataset(\n",
    "    output=\"deceased\", \n",
    "    fit_encode=[], \n",
    "    to_drop=[ \"deceased\" ]\n",
    "    )"
   ]
  },
  {
   "cell_type": "code",
   "execution_count": 12,
   "metadata": {},
   "outputs": [
    {
     "data": {
      "text/plain": [
       "17"
      ]
     },
     "execution_count": 12,
     "metadata": {},
     "output_type": "execute_result"
    }
   ],
   "source": [
    "fl_dataset.size"
   ]
  },
  {
   "cell_type": "code",
   "execution_count": 13,
   "metadata": {},
   "outputs": [
    {
     "data": {
      "text/plain": [
       "[array([[-0.09789275, -0.21969414, -0.10301833, -0.224512  , -0.19891158,\n",
       "         -0.18789443, -0.20783542,  0.22696272,  0.15849179,  0.13169047,\n",
       "          0.01348861, -0.06564008,  0.13137369, -0.18875779,  0.07444555,\n",
       "         -0.09320282, -0.09390126]], dtype=float32),\n",
       " array([-0.02591554], dtype=float32)]"
      ]
     },
     "execution_count": 13,
     "metadata": {},
     "output_type": "execute_result"
    }
   ],
   "source": [
    "# Creating a DynamicModel instance\n",
    "dynamic_model = DynamicModel()\n",
    "\n",
    "# Creating a specific model dynamically using DynamicModel\n",
    "specific_model = dynamic_model.create_model(model_type='Logistic Regressor', params_dict={\"input_dim\": 17, \"output_dim\": 1})\n",
    "\n",
    "# Pass the specific_model to the Model class\n",
    "optimizer = optim.SGD(specific_model.parameters(), lr=0.001)\n",
    "criterion = nn.BCELoss()\n",
    "\n",
    "\n",
    "# Creating a new Model instance using the specific model created by DynamicModel\n",
    "global_model = Model(specific_model, optimizer, criterion)\n",
    "\n",
    "# The modal to be passed to the server\n",
    "global_model.get_parameters()"
   ]
  },
  {
   "cell_type": "code",
   "execution_count": 14,
   "metadata": {},
   "outputs": [],
   "source": [
    "# Define the neural network model using PyTorch\n",
    "class BinaryClassifier(nn.Module):\n",
    "    def __init__(self, input_dim):\n",
    "        super(BinaryClassifier, self).__init__()\n",
    "        self.fc1 = nn.Linear(input_dim, 64)\n",
    "        self.dropout1 = nn.Dropout(0.5)\n",
    "        self.fc2 = nn.Linear(64, 32)\n",
    "        self.dropout2 = nn.Dropout(0.3)\n",
    "        self.output = nn.Linear(32, 1)\n",
    "        self.sigmoid = nn.Sigmoid()\n",
    "\n",
    "    def forward(self, x):\n",
    "        x = torch.relu(self.fc1(x))\n",
    "        x = self.dropout1(x)\n",
    "        x = torch.relu(self.fc2(x))\n",
    "        x = self.dropout2(x)\n",
    "        x = self.output(x)\n",
    "        x = self.sigmoid(x)\n",
    "        return x"
   ]
  },
  {
   "cell_type": "code",
   "execution_count": 15,
   "metadata": {},
   "outputs": [
    {
     "name": "stdout",
     "output_type": "stream",
     "text": [
      "BinaryClassifier(\n",
      "  (fc1): Linear(in_features=17, out_features=64, bias=True)\n",
      "  (dropout1): Dropout(p=0.5, inplace=False)\n",
      "  (fc2): Linear(in_features=64, out_features=32, bias=True)\n",
      "  (dropout2): Dropout(p=0.3, inplace=False)\n",
      "  (output): Linear(in_features=32, out_features=1, bias=True)\n",
      "  (sigmoid): Sigmoid()\n",
      ")\n"
     ]
    }
   ],
   "source": [
    "# Load the pretrained model\n",
    "model = Model.load_model(\"../../../notebooks/.ipynb_checkpoints/trainedModels/eicu_binary_classifier.pth\")\n",
    "\n",
    "\n",
    "# Pass the specific_model to the Model class\n",
    "optimizer = optim.SGD(model.parameters(), lr=0.001)\n",
    "# Define loss function and optimizer\n",
    "criterion = nn.BCEWithLogitsLoss()\n",
    "\n",
    "# Creating a new Model instance using the specific model created by DynamicModel\n",
    "global_model = Model(model, optimizer, criterion)\n",
    "\n",
    "# Get the initial params of the model \n",
    "init_params = global_model.get_parameters() ; \n",
    "\n",
    "print(model)"
   ]
  },
  {
   "cell_type": "code",
   "execution_count": null,
   "metadata": {},
   "outputs": [],
   "source": []
  },
  {
   "cell_type": "code",
   "execution_count": 16,
   "metadata": {},
   "outputs": [
    {
     "data": {
      "text/plain": [
       "<module 'Medfl.LearningManager.client' from '/home/local/USHERBROOKE/saho6810/MEDfl/code/MEDfl/Medfl/LearningManager/client.py'>"
      ]
     },
     "execution_count": 16,
     "metadata": {},
     "output_type": "execute_result"
    }
   ],
   "source": [
    "import importlib\n",
    "\n",
    "from Medfl.LearningManager import strategy\n",
    "importlib.reload(strategy)\n",
    "\n",
    "from Medfl.LearningManager.strategy import Strategy\n",
    "\n",
    "from Medfl.LearningManager import server\n",
    "importlib.reload(server)\n",
    "\n",
    "from Medfl.LearningManager.server import FlowerServer\n",
    "\n",
    "from Medfl.LearningManager import flpipeline\n",
    "importlib.reload(flpipeline)\n",
    "\n",
    "from Medfl.LearningManager.flpipeline import FLpipeline\n",
    "\n",
    "from Medfl.LearningManager import client\n",
    "importlib.reload(client)\n",
    "\n",
    "\n",
    "\n"
   ]
  },
  {
   "cell_type": "code",
   "execution_count": 17,
   "metadata": {},
   "outputs": [],
   "source": [
    "params = {\n",
    "    'learning_rate': {'low': 1e-5, 'high': 1e-1, 'log': True},\n",
    "    'optimizer': ['Adam', 'SGD', 'RMSprop'],\n",
    "    'fl_strategy' : [\"FedAdam\" , \"FedAvg\" , \"FedAdagrad\" ,\"FedYogi\"], \n",
    "    'epochs' : {'low': 10, 'high': 100}\n",
    "}"
   ]
  },
  {
   "cell_type": "code",
   "execution_count": 18,
   "metadata": {},
   "outputs": [],
   "source": [
    "# Create the strategy\n",
    "learning_strategy = Strategy(\"FedAvg\", \n",
    "                   fraction_fit = 1.0 ,\n",
    "                   fraction_evaluate = 1.0,\n",
    "                   min_fit_clients = 2,\n",
    "                   min_evaluate_clients = 2,\n",
    "                   min_available_clients = 2 , \n",
    "                   initial_parameters=global_model.get_parameters())"
   ]
  },
  {
   "cell_type": "code",
   "execution_count": 19,
   "metadata": {},
   "outputs": [
    {
     "name": "stderr",
     "output_type": "stream",
     "text": [
      "[I 2024-03-12 15:22:54,174] A new study created in memory with name: no-name-bb358ab8-5d8f-439a-9f17-c6863263e395\n"
     ]
    }
   ],
   "source": [
    "learning_strategy.optuna_fed_optimization('maximize' , hpo_rate=1, params_config=params)"
   ]
  },
  {
   "cell_type": "code",
   "execution_count": 20,
   "metadata": {},
   "outputs": [],
   "source": [
    "learning_strategy.create_strategy()"
   ]
  },
  {
   "cell_type": "code",
   "execution_count": 21,
   "metadata": {},
   "outputs": [],
   "source": [
    "# Create The server \n",
    "server = FlowerServer(global_model, strategy = learning_strategy, num_rounds = 10,\n",
    "                       num_clients  = len(fl_dataset.trainloaders), \n",
    "                       fed_dataset = fl_dataset,diff_privacy = False ,\n",
    "                       # You can change the resources alocated for each client based on your machine \n",
    "                       client_resources={'num_cpus': 1.0, 'num_gpus': 0.0}\n",
    "                       )"
   ]
  },
  {
   "cell_type": "code",
   "execution_count": 22,
   "metadata": {},
   "outputs": [],
   "source": [
    "# Create the pipeline \n",
    "ppl_1 = FLpipeline( name =\"the first fl_pipeline\",description = \"this is our first FL pipeline\",\n",
    "                   server = server)"
   ]
  },
  {
   "cell_type": "code",
   "execution_count": 23,
   "metadata": {},
   "outputs": [
    {
     "name": "stderr",
     "output_type": "stream",
     "text": [
      "INFO flwr 2024-03-12 15:22:54,202 | app.py:178 | Starting Flower simulation, config: ServerConfig(num_rounds=10, round_timeout=None)\n",
      "03/12/2024 15:22:54:INFO:Starting Flower simulation, config: ServerConfig(num_rounds=10, round_timeout=None)\n",
      "2024-03-12 15:22:56,414\tINFO worker.py:1621 -- Started a local Ray instance.\n",
      "INFO flwr 2024-03-12 15:22:58,811 | app.py:213 | Flower VCE: Ray initialized with resources: {'node:__internal_head__': 1.0, 'GPU': 1.0, 'accelerator_type:G': 1.0, 'node:10.44.86.57': 1.0, 'object_store_memory': 78643200.0, 'memory': 40016976692.0, 'CPU': 24.0}\n",
      "03/12/2024 15:22:58:INFO:Flower VCE: Ray initialized with resources: {'node:__internal_head__': 1.0, 'GPU': 1.0, 'accelerator_type:G': 1.0, 'node:10.44.86.57': 1.0, 'object_store_memory': 78643200.0, 'memory': 40016976692.0, 'CPU': 24.0}\n",
      "INFO flwr 2024-03-12 15:22:58,812 | app.py:219 | Optimize your simulation with Flower VCE: https://flower.dev/docs/framework/how-to-run-simulations.html\n",
      "03/12/2024 15:22:58:INFO:Optimize your simulation with Flower VCE: https://flower.dev/docs/framework/how-to-run-simulations.html\n",
      "INFO flwr 2024-03-12 15:22:58,812 | app.py:242 | Flower VCE: Resources for each Virtual Client: {'num_cpus': 1.0, 'num_gpus': 0.0}\n",
      "03/12/2024 15:22:58:INFO:Flower VCE: Resources for each Virtual Client: {'num_cpus': 1.0, 'num_gpus': 0.0}\n",
      "INFO flwr 2024-03-12 15:22:58,825 | app.py:288 | Flower VCE: Creating VirtualClientEngineActorPool with 24 actors\n",
      "03/12/2024 15:22:58:INFO:Flower VCE: Creating VirtualClientEngineActorPool with 24 actors\n",
      "INFO flwr 2024-03-12 15:22:58,826 | server.py:89 | Initializing global parameters\n",
      "03/12/2024 15:22:58:INFO:Initializing global parameters\n",
      "INFO flwr 2024-03-12 15:22:58,827 | server.py:272 | Using initial parameters provided by strategy\n",
      "03/12/2024 15:22:58:INFO:Using initial parameters provided by strategy\n",
      "INFO flwr 2024-03-12 15:22:58,827 | server.py:91 | Evaluating initial parameters\n",
      "03/12/2024 15:22:58:INFO:Evaluating initial parameters\n",
      "INFO flwr 2024-03-12 15:22:58,844 | server.py:94 | initial parameters (loss, other metrics): 0.024119743042522006, {'accuracy': 0.80625}\n",
      "03/12/2024 15:22:58:INFO:initial parameters (loss, other metrics): 0.024119743042522006, {'accuracy': 0.80625}\n",
      "INFO flwr 2024-03-12 15:22:58,845 | server.py:104 | FL starting\n",
      "03/12/2024 15:22:58:INFO:FL starting\n",
      "DEBUG flwr 2024-03-12 15:22:58,847 | server.py:222 | fit_round 1: strategy sampled 3 clients (out of 3)\n",
      "03/12/2024 15:22:58:DEBUG:fit_round 1: strategy sampled 3 clients (out of 3)\n"
     ]
    },
    {
     "name": "stdout",
     "output_type": "stream",
     "text": [
      "Server-side evaluation loss 0.024119743042522006 / accuracy 0.80625\n",
      "\n",
      " ======================== \n",
      " the fit config is used \n",
      "\n",
      "1\n",
      "{'learning_rate': 0.0012715706296400023, 'optimiser': 'SGD', 'fl_strategy': 'FedAvg', 'epochs': 87}\n",
      "\n",
      " ======================== \n",
      " \n"
     ]
    },
    {
     "name": "stderr",
     "output_type": "stream",
     "text": [
      "\u001b[2m\u001b[36m(DefaultActor pid=343193)\u001b[0m /home/local/USHERBROOKE/saho6810/MEDfl/code/MEDfl/Medfl/LearningManager/utils.py:19: DeprecationWarning: Use of .. or absolute path in a resource path is not allowed and will raise exceptions in a future release.\n",
      "\u001b[2m\u001b[36m(DefaultActor pid=343193)\u001b[0m   global_yaml_path = pkg_resources.resource_filename(__name__, \"../../global_params.yaml\")\n",
      "\u001b[2m\u001b[36m(DefaultActor pid=343193)\u001b[0m /home/local/USHERBROOKE/saho6810/.local/lib/python3.8/site-packages/opacus/privacy_engine.py:142: UserWarning: Secure RNG turned off. This is perfectly fine for experimentation as it allows for much faster training performance, but remember to turn it on and retrain one last time before production with ``secure_mode`` turned on.\n",
      "\u001b[2m\u001b[36m(DefaultActor pid=343193)\u001b[0m   warnings.warn(\n",
      "\u001b[2m\u001b[36m(DefaultActor pid=343193)\u001b[0m /home/local/USHERBROOKE/saho6810/.local/lib/python3.8/site-packages/flwr/simulation/ray_transport/ray_actor.py:72: DeprecationWarning:  Ensure your client is of type `flwr.client.Client`. Please convert it using the `.to_client()` method before returning it in the `client_fn` you pass to `start_simulation`. We have applied this conversion on your behalf. Not returning a `Client` might trigger an error in future versions of Flower.\n",
      "\u001b[2m\u001b[36m(DefaultActor pid=343193)\u001b[0m   client = check_clientfn_returns_client(client_fn(cid))\n"
     ]
    },
    {
     "name": "stdout",
     "output_type": "stream",
     "text": [
      "\u001b[2m\u001b[36m(DefaultActor pid=343193)\u001b[0m \n",
      "\u001b[2m\u001b[36m(DefaultActor pid=343193)\u001b[0m  -------------------------------- \n",
      "\u001b[2m\u001b[36m(DefaultActor pid=343193)\u001b[0m   this is the config of the client\n",
      "\u001b[2m\u001b[36m(DefaultActor pid=343193)\u001b[0m [Client 1] fit, config: {'learning_rate': 0.0012715706296400023, 'optimiser': 'SGD', 'fl_strategy': 'FedAvg', 'epochs': 87}\n",
      "\u001b[2m\u001b[36m(DefaultActor pid=343193)\u001b[0m 87\n",
      "\u001b[2m\u001b[36m(DefaultActor pid=343193)\u001b[0m \n",
      "\u001b[2m\u001b[36m(DefaultActor pid=343193)\u001b[0m  -------------------------------- \n",
      "\u001b[2m\u001b[36m(DefaultActor pid=343193)\u001b[0m   \n",
      "\u001b[2m\u001b[36m(DefaultActor pid=343193)\u001b[0m \tTrain Epoch: 0 \tLoss: 0.697850 Acc@1: 40.625000\n",
      "\u001b[2m\u001b[36m(DefaultActor pid=343193)\u001b[0m \tTrain Epoch: 0 \tLoss: 0.696249 Acc@1: 49.687500\n",
      "\u001b[2m\u001b[36m(DefaultActor pid=343193)\u001b[0m \tTrain Epoch: 0 \tLoss: 0.695967 Acc@1: 52.395833\n"
     ]
    },
    {
     "name": "stderr",
     "output_type": "stream",
     "text": [
      "DEBUG flwr 2024-03-12 15:23:08,830 | server.py:236 | fit_round 1 received 3 results and 0 failures\n",
      "03/12/2024 15:23:08:DEBUG:fit_round 1 received 3 results and 0 failures\n",
      "WARNING flwr 2024-03-12 15:23:08,836 | fedavg.py:250 | No fit_metrics_aggregation_fn provided\n",
      "03/12/2024 15:23:08:WARNING:No fit_metrics_aggregation_fn provided\n",
      "INFO flwr 2024-03-12 15:23:08,841 | server.py:125 | fit progress: (1, 0.024119743042522006, {'accuracy': 0.80625}, 9.995200113975443)\n",
      "03/12/2024 15:23:08:INFO:fit progress: (1, 0.024119743042522006, {'accuracy': 0.80625}, 9.995200113975443)\n",
      "DEBUG flwr 2024-03-12 15:23:08,842 | server.py:173 | evaluate_round 1: strategy sampled 3 clients (out of 3)\n",
      "03/12/2024 15:23:08:DEBUG:evaluate_round 1: strategy sampled 3 clients (out of 3)\n",
      "DEBUG flwr 2024-03-12 15:23:08,888 | server.py:187 | evaluate_round 1 received 3 results and 0 failures\n",
      "03/12/2024 15:23:08:DEBUG:evaluate_round 1 received 3 results and 0 failures\n",
      "WARNING flwr 2024-03-12 15:23:08,888 | fedavg.py:281 | No evaluate_metrics_aggregation_fn provided\n",
      "03/12/2024 15:23:08:WARNING:No evaluate_metrics_aggregation_fn provided\n",
      "DEBUG flwr 2024-03-12 15:23:08,890 | server.py:222 | fit_round 2: strategy sampled 3 clients (out of 3)\n",
      "03/12/2024 15:23:08:DEBUG:fit_round 2: strategy sampled 3 clients (out of 3)\n"
     ]
    },
    {
     "name": "stdout",
     "output_type": "stream",
     "text": [
      "Server-side evaluation loss 0.024119743042522006 / accuracy 0.80625\n",
      "\u001b[2m\u001b[36m(DefaultActor pid=343193)\u001b[0m epsilon of client 1 : eps = 0\n",
      "\u001b[2m\u001b[36m(DefaultActor pid=343192)\u001b[0m [Client 1] evaluate, config: {}\n",
      "\n",
      " ======================== \n",
      " the fit config is used \n",
      "\n",
      "2\n",
      "{'learning_rate': 7.070152766589364e-05, 'optimiser': 'Adam', 'fl_strategy': 'FedAdam', 'epochs': 57}\n",
      "\n",
      " ======================== \n",
      " \n",
      "\u001b[2m\u001b[36m(DefaultActor pid=343193)\u001b[0m [Client 2] fit, config: {'learning_rate': 7.070152766589364e-05, 'optimiser': 'Adam', 'fl_strategy': 'FedAdam', 'epochs': 57}\n"
     ]
    },
    {
     "name": "stderr",
     "output_type": "stream",
     "text": [
      "DEBUG flwr 2024-03-12 15:23:10,347 | server.py:236 | fit_round 2 received 3 results and 0 failures\n",
      "03/12/2024 15:23:10:DEBUG:fit_round 2 received 3 results and 0 failures\n",
      "INFO flwr 2024-03-12 15:23:10,361 | server.py:125 | fit progress: (2, 0.024119743042522006, {'accuracy': 0.80625}, 11.515090306987986)\n",
      "03/12/2024 15:23:10:INFO:fit progress: (2, 0.024119743042522006, {'accuracy': 0.80625}, 11.515090306987986)\n",
      "DEBUG flwr 2024-03-12 15:23:10,362 | server.py:173 | evaluate_round 2: strategy sampled 3 clients (out of 3)\n",
      "03/12/2024 15:23:10:DEBUG:evaluate_round 2: strategy sampled 3 clients (out of 3)\n",
      "DEBUG flwr 2024-03-12 15:23:10,402 | server.py:187 | evaluate_round 2 received 3 results and 0 failures\n",
      "03/12/2024 15:23:10:DEBUG:evaluate_round 2 received 3 results and 0 failures\n",
      "DEBUG flwr 2024-03-12 15:23:10,403 | server.py:222 | fit_round 3: strategy sampled 3 clients (out of 3)\n",
      "03/12/2024 15:23:10:DEBUG:fit_round 3: strategy sampled 3 clients (out of 3)\n"
     ]
    },
    {
     "name": "stdout",
     "output_type": "stream",
     "text": [
      "Server-side evaluation loss 0.024119743042522006 / accuracy 0.80625\n",
      "\n",
      " ======================== \n",
      " the fit config is used \n",
      "\n",
      "3\n",
      "{'learning_rate': 0.0015523303020711441, 'optimiser': 'Adam', 'fl_strategy': 'FedYogi', 'epochs': 39}\n",
      "\n",
      " ======================== \n",
      " \n",
      "\u001b[2m\u001b[36m(DefaultActor pid=343193)\u001b[0m [Client 2] fit, config: {'learning_rate': 0.0015523303020711441, 'optimiser': 'Adam', 'fl_strategy': 'FedYogi', 'epochs': 39}\n"
     ]
    },
    {
     "name": "stderr",
     "output_type": "stream",
     "text": [
      "DEBUG flwr 2024-03-12 15:23:11,411 | server.py:236 | fit_round 3 received 3 results and 0 failures\n",
      "03/12/2024 15:23:11:DEBUG:fit_round 3 received 3 results and 0 failures\n",
      "INFO flwr 2024-03-12 15:23:11,424 | server.py:125 | fit progress: (3, 0.024119743042522006, {'accuracy': 0.80625}, 12.5784570670221)\n",
      "03/12/2024 15:23:11:INFO:fit progress: (3, 0.024119743042522006, {'accuracy': 0.80625}, 12.5784570670221)\n",
      "DEBUG flwr 2024-03-12 15:23:11,425 | server.py:173 | evaluate_round 3: strategy sampled 3 clients (out of 3)\n",
      "03/12/2024 15:23:11:DEBUG:evaluate_round 3: strategy sampled 3 clients (out of 3)\n",
      "DEBUG flwr 2024-03-12 15:23:11,457 | server.py:187 | evaluate_round 3 received 3 results and 0 failures\n",
      "03/12/2024 15:23:11:DEBUG:evaluate_round 3 received 3 results and 0 failures\n",
      "DEBUG flwr 2024-03-12 15:23:11,458 | server.py:222 | fit_round 4: strategy sampled 3 clients (out of 3)\n",
      "03/12/2024 15:23:11:DEBUG:fit_round 4: strategy sampled 3 clients (out of 3)\n",
      "\u001b[2m\u001b[36m(DefaultActor pid=343194)\u001b[0m /home/local/USHERBROOKE/saho6810/MEDfl/code/MEDfl/Medfl/LearningManager/utils.py:19: DeprecationWarning: Use of .. or absolute path in a resource path is not allowed and will raise exceptions in a future release.\u001b[32m [repeated 2x across cluster] (Ray deduplicates logs by default. Set RAY_DEDUP_LOGS=0 to disable log deduplication, or see https://docs.ray.io/en/master/ray-observability/ray-logging.html#log-deduplication for more options.)\u001b[0m\n",
      "\u001b[2m\u001b[36m(DefaultActor pid=343194)\u001b[0m   global_yaml_path = pkg_resources.resource_filename(__name__, \"../../global_params.yaml\")\u001b[32m [repeated 2x across cluster]\u001b[0m\n"
     ]
    },
    {
     "name": "stdout",
     "output_type": "stream",
     "text": [
      "Server-side evaluation loss 0.024119743042522006 / accuracy 0.80625\n",
      "\n",
      " ======================== \n",
      " the fit config is used \n",
      "\n",
      "4\n",
      "{'learning_rate': 0.0001247469757121933, 'optimiser': 'SGD', 'fl_strategy': 'FedAdagrad', 'epochs': 25}\n",
      "\n",
      " ======================== \n",
      " \n",
      "\u001b[2m\u001b[36m(DefaultActor pid=343193)\u001b[0m [Client 2] fit, config: {'learning_rate': 0.0001247469757121933, 'optimiser': 'SGD', 'fl_strategy': 'FedAdagrad', 'epochs': 25}\n",
      "\u001b[2m\u001b[36m(DefaultActor pid=343192)\u001b[0m   \u001b[32m [repeated 44x across cluster]\u001b[0m\n",
      "\u001b[2m\u001b[36m(DefaultActor pid=343192)\u001b[0m  -------------------------------- \u001b[32m [repeated 22x across cluster]\u001b[0m\n",
      "\u001b[2m\u001b[36m(DefaultActor pid=343192)\u001b[0m   this is the config of the client\u001b[32m [repeated 11x across cluster]\u001b[0m\n",
      "\u001b[2m\u001b[36m(DefaultActor pid=343192)\u001b[0m [Client 0] fit, config: {'learning_rate': 0.0012715706296400023, 'optimiser': 'SGD', 'fl_strategy': 'FedAvg', 'epochs': 87}\u001b[32m [repeated 2x across cluster]\u001b[0m\n",
      "\u001b[2m\u001b[36m(DefaultActor pid=343193)\u001b[0m \tTrain Epoch: 8 \tLoss: 0.691919 Acc@1: 42.708333\u001b[32m [repeated 2266x across cluster]\u001b[0m\n"
     ]
    },
    {
     "name": "stderr",
     "output_type": "stream",
     "text": [
      "DEBUG flwr 2024-03-12 15:23:12,118 | server.py:236 | fit_round 4 received 3 results and 0 failures\n",
      "03/12/2024 15:23:12:DEBUG:fit_round 4 received 3 results and 0 failures\n",
      "INFO flwr 2024-03-12 15:23:12,127 | server.py:125 | fit progress: (4, 0.024119743042522006, {'accuracy': 0.80625}, 13.281351119978353)\n",
      "03/12/2024 15:23:12:INFO:fit progress: (4, 0.024119743042522006, {'accuracy': 0.80625}, 13.281351119978353)\n",
      "DEBUG flwr 2024-03-12 15:23:12,128 | server.py:173 | evaluate_round 4: strategy sampled 3 clients (out of 3)\n",
      "03/12/2024 15:23:12:DEBUG:evaluate_round 4: strategy sampled 3 clients (out of 3)\n",
      "DEBUG flwr 2024-03-12 15:23:12,159 | server.py:187 | evaluate_round 4 received 3 results and 0 failures\n",
      "03/12/2024 15:23:12:DEBUG:evaluate_round 4 received 3 results and 0 failures\n",
      "DEBUG flwr 2024-03-12 15:23:12,160 | server.py:222 | fit_round 5: strategy sampled 3 clients (out of 3)\n",
      "03/12/2024 15:23:12:DEBUG:fit_round 5: strategy sampled 3 clients (out of 3)\n",
      "\u001b[2m\u001b[36m(DefaultActor pid=343193)\u001b[0m /home/local/USHERBROOKE/saho6810/.local/lib/python3.8/site-packages/opacus/privacy_engine.py:142: UserWarning: Secure RNG turned off. This is perfectly fine for experimentation as it allows for much faster training performance, but remember to turn it on and retrain one last time before production with ``secure_mode`` turned on.\u001b[32m [repeated 12x across cluster]\u001b[0m\n",
      "\u001b[2m\u001b[36m(DefaultActor pid=343193)\u001b[0m   warnings.warn(\u001b[32m [repeated 12x across cluster]\u001b[0m\n",
      "\u001b[2m\u001b[36m(DefaultActor pid=343193)\u001b[0m /home/local/USHERBROOKE/saho6810/.local/lib/python3.8/site-packages/flwr/simulation/ray_transport/ray_actor.py:72: DeprecationWarning:  Ensure your client is of type `flwr.client.Client`. Please convert it using the `.to_client()` method before returning it in the `client_fn` you pass to `start_simulation`. We have applied this conversion on your behalf. Not returning a `Client` might trigger an error in future versions of Flower.\u001b[32m [repeated 12x across cluster]\u001b[0m\n",
      "\u001b[2m\u001b[36m(DefaultActor pid=343193)\u001b[0m   client = check_clientfn_returns_client(client_fn(cid))\u001b[32m [repeated 12x across cluster]\u001b[0m\n"
     ]
    },
    {
     "name": "stdout",
     "output_type": "stream",
     "text": [
      "Server-side evaluation loss 0.024119743042522006 / accuracy 0.80625\n",
      "\n",
      " ======================== \n",
      " the fit config is used \n",
      "\n",
      "5\n",
      "{'learning_rate': 0.000643539307246715, 'optimiser': 'Adam', 'fl_strategy': 'FedAdam', 'epochs': 20}\n",
      "\n",
      " ======================== \n",
      " \n"
     ]
    },
    {
     "name": "stderr",
     "output_type": "stream",
     "text": [
      "DEBUG flwr 2024-03-12 15:23:12,696 | server.py:236 | fit_round 5 received 3 results and 0 failures\n",
      "03/12/2024 15:23:12:DEBUG:fit_round 5 received 3 results and 0 failures\n",
      "INFO flwr 2024-03-12 15:23:12,709 | server.py:125 | fit progress: (5, 0.024119743042522006, {'accuracy': 0.80625}, 13.862719306955114)\n",
      "03/12/2024 15:23:12:INFO:fit progress: (5, 0.024119743042522006, {'accuracy': 0.80625}, 13.862719306955114)\n",
      "DEBUG flwr 2024-03-12 15:23:12,709 | server.py:173 | evaluate_round 5: strategy sampled 3 clients (out of 3)\n",
      "03/12/2024 15:23:12:DEBUG:evaluate_round 5: strategy sampled 3 clients (out of 3)\n",
      "DEBUG flwr 2024-03-12 15:23:12,741 | server.py:187 | evaluate_round 5 received 3 results and 0 failures\n",
      "03/12/2024 15:23:12:DEBUG:evaluate_round 5 received 3 results and 0 failures\n",
      "DEBUG flwr 2024-03-12 15:23:12,743 | server.py:222 | fit_round 6: strategy sampled 3 clients (out of 3)\n",
      "03/12/2024 15:23:12:DEBUG:fit_round 6: strategy sampled 3 clients (out of 3)\n"
     ]
    },
    {
     "name": "stdout",
     "output_type": "stream",
     "text": [
      "Server-side evaluation loss 0.024119743042522006 / accuracy 0.80625\n",
      "\n",
      " ======================== \n",
      " the fit config is used \n",
      "\n",
      "6\n",
      "{'learning_rate': 3.338189828607375e-05, 'optimiser': 'SGD', 'fl_strategy': 'FedYogi', 'epochs': 44}\n",
      "\n",
      " ======================== \n",
      " \n",
      "\u001b[2m\u001b[36m(DefaultActor pid=343193)\u001b[0m [Client 2] fit, config: {'learning_rate': 3.338189828607375e-05, 'optimiser': 'SGD', 'fl_strategy': 'FedYogi', 'epochs': 44}\n"
     ]
    },
    {
     "name": "stderr",
     "output_type": "stream",
     "text": [
      "DEBUG flwr 2024-03-12 15:23:13,889 | server.py:236 | fit_round 6 received 3 results and 0 failures\n",
      "03/12/2024 15:23:13:DEBUG:fit_round 6 received 3 results and 0 failures\n",
      "INFO flwr 2024-03-12 15:23:13,903 | server.py:125 | fit progress: (6, 0.024119743042522006, {'accuracy': 0.80625}, 15.057237265980802)\n",
      "03/12/2024 15:23:13:INFO:fit progress: (6, 0.024119743042522006, {'accuracy': 0.80625}, 15.057237265980802)\n",
      "DEBUG flwr 2024-03-12 15:23:13,904 | server.py:173 | evaluate_round 6: strategy sampled 3 clients (out of 3)\n",
      "03/12/2024 15:23:13:DEBUG:evaluate_round 6: strategy sampled 3 clients (out of 3)\n",
      "DEBUG flwr 2024-03-12 15:23:13,933 | server.py:187 | evaluate_round 6 received 3 results and 0 failures\n",
      "03/12/2024 15:23:13:DEBUG:evaluate_round 6 received 3 results and 0 failures\n",
      "DEBUG flwr 2024-03-12 15:23:13,935 | server.py:222 | fit_round 7: strategy sampled 3 clients (out of 3)\n",
      "03/12/2024 15:23:13:DEBUG:fit_round 7: strategy sampled 3 clients (out of 3)\n"
     ]
    },
    {
     "name": "stdout",
     "output_type": "stream",
     "text": [
      "Server-side evaluation loss 0.024119743042522006 / accuracy 0.80625\n",
      "\n",
      " ======================== \n",
      " the fit config is used \n",
      "\n",
      "7\n",
      "{'learning_rate': 0.006007890230084107, 'optimiser': 'RMSprop', 'fl_strategy': 'FedYogi', 'epochs': 52}\n",
      "\n",
      " ======================== \n",
      " \n",
      "\u001b[2m\u001b[36m(DefaultActor pid=343193)\u001b[0m epsilon of client 2 : eps = 0\u001b[32m [repeated 15x across cluster]\u001b[0m\n",
      "\u001b[2m\u001b[36m(DefaultActor pid=343193)\u001b[0m [Client 2] evaluate, config: {}\u001b[32m [repeated 15x across cluster]\u001b[0m\n",
      "\u001b[2m\u001b[36m(DefaultActor pid=343192)\u001b[0m [Client 1] fit, config: {'learning_rate': 0.006007890230084107, 'optimiser': 'RMSprop', 'fl_strategy': 'FedYogi', 'epochs': 52}\n",
      "\u001b[2m\u001b[36m(DefaultActor pid=343192)\u001b[0m [Client 1] fit, config: {'learning_rate': 0.000643539307246715, 'optimiser': 'Adam', 'fl_strategy': 'FedAdam', 'epochs': 20}\u001b[32m [repeated 5x across cluster]\u001b[0m\n"
     ]
    },
    {
     "name": "stderr",
     "output_type": "stream",
     "text": [
      "DEBUG flwr 2024-03-12 15:23:15,298 | server.py:236 | fit_round 7 received 3 results and 0 failures\n",
      "03/12/2024 15:23:15:DEBUG:fit_round 7 received 3 results and 0 failures\n",
      "INFO flwr 2024-03-12 15:23:15,310 | server.py:125 | fit progress: (7, 0.024119743042522006, {'accuracy': 0.80625}, 16.46457080799155)\n",
      "03/12/2024 15:23:15:INFO:fit progress: (7, 0.024119743042522006, {'accuracy': 0.80625}, 16.46457080799155)\n",
      "DEBUG flwr 2024-03-12 15:23:15,311 | server.py:173 | evaluate_round 7: strategy sampled 3 clients (out of 3)\n",
      "03/12/2024 15:23:15:DEBUG:evaluate_round 7: strategy sampled 3 clients (out of 3)\n",
      "DEBUG flwr 2024-03-12 15:23:15,345 | server.py:187 | evaluate_round 7 received 3 results and 0 failures\n",
      "03/12/2024 15:23:15:DEBUG:evaluate_round 7 received 3 results and 0 failures\n",
      "DEBUG flwr 2024-03-12 15:23:15,346 | server.py:222 | fit_round 8: strategy sampled 3 clients (out of 3)\n",
      "03/12/2024 15:23:15:DEBUG:fit_round 8: strategy sampled 3 clients (out of 3)\n"
     ]
    },
    {
     "name": "stdout",
     "output_type": "stream",
     "text": [
      "Server-side evaluation loss 0.024119743042522006 / accuracy 0.80625\n",
      "\n",
      " ======================== \n",
      " the fit config is used \n",
      "\n",
      "8\n",
      "{'learning_rate': 8.974476309875674e-05, 'optimiser': 'SGD', 'fl_strategy': 'FedAdam', 'epochs': 39}\n",
      "\n",
      " ======================== \n",
      " \n",
      "\u001b[2m\u001b[36m(DefaultActor pid=343192)\u001b[0m [Client 0] fit, config: {'learning_rate': 8.974476309875674e-05, 'optimiser': 'SGD', 'fl_strategy': 'FedAdam', 'epochs': 39}\n",
      "\u001b[2m\u001b[36m(DefaultActor pid=343192)\u001b[0m [Client 1] fit, config: {'learning_rate': 0.0015523303020711441, 'optimiser': 'Adam', 'fl_strategy': 'FedYogi', 'epochs': 39}\u001b[32m [repeated 2x across cluster]\u001b[0m\n"
     ]
    },
    {
     "name": "stderr",
     "output_type": "stream",
     "text": [
      "DEBUG flwr 2024-03-12 15:23:16,336 | server.py:236 | fit_round 8 received 3 results and 0 failures\n",
      "03/12/2024 15:23:16:DEBUG:fit_round 8 received 3 results and 0 failures\n",
      "INFO flwr 2024-03-12 15:23:16,348 | server.py:125 | fit progress: (8, 0.024119743042522006, {'accuracy': 0.80625}, 17.50217052095104)\n",
      "03/12/2024 15:23:16:INFO:fit progress: (8, 0.024119743042522006, {'accuracy': 0.80625}, 17.50217052095104)\n",
      "DEBUG flwr 2024-03-12 15:23:16,349 | server.py:173 | evaluate_round 8: strategy sampled 3 clients (out of 3)\n",
      "03/12/2024 15:23:16:DEBUG:evaluate_round 8: strategy sampled 3 clients (out of 3)\n",
      "DEBUG flwr 2024-03-12 15:23:16,389 | server.py:187 | evaluate_round 8 received 3 results and 0 failures\n",
      "03/12/2024 15:23:16:DEBUG:evaluate_round 8 received 3 results and 0 failures\n",
      "DEBUG flwr 2024-03-12 15:23:16,390 | server.py:222 | fit_round 9: strategy sampled 3 clients (out of 3)\n",
      "03/12/2024 15:23:16:DEBUG:fit_round 9: strategy sampled 3 clients (out of 3)\n"
     ]
    },
    {
     "name": "stdout",
     "output_type": "stream",
     "text": [
      "Server-side evaluation loss 0.024119743042522006 / accuracy 0.80625\n",
      "\n",
      " ======================== \n",
      " the fit config is used \n",
      "\n",
      "9\n",
      "{'learning_rate': 4.524041156762911e-05, 'optimiser': 'SGD', 'fl_strategy': 'FedYogi', 'epochs': 83}\n",
      "\n",
      " ======================== \n",
      " \n",
      "\u001b[2m\u001b[36m(DefaultActor pid=343192)\u001b[0m [Client 1] fit, config: {'learning_rate': 0.0001247469757121933, 'optimiser': 'SGD', 'fl_strategy': 'FedAdagrad', 'epochs': 25}\u001b[32m [repeated 2x across cluster]\u001b[0m\n",
      "\u001b[2m\u001b[36m(DefaultActor pid=343192)\u001b[0m   \u001b[32m [repeated 60x across cluster]\u001b[0m\n",
      "\u001b[2m\u001b[36m(DefaultActor pid=343192)\u001b[0m  -------------------------------- \u001b[32m [repeated 30x across cluster]\u001b[0m\n",
      "\u001b[2m\u001b[36m(DefaultActor pid=343192)\u001b[0m   this is the config of the client\u001b[32m [repeated 15x across cluster]\u001b[0m\n",
      "\u001b[2m\u001b[36m(DefaultActor pid=343193)\u001b[0m \tTrain Epoch: 13 \tLoss: 0.699716 Acc@1: 31.875000\u001b[32m [repeated 2212x across cluster]\u001b[0m\n",
      "\u001b[2m\u001b[36m(DefaultActor pid=343192)\u001b[0m [Client 2] fit, config: {'learning_rate': 4.524041156762911e-05, 'optimiser': 'SGD', 'fl_strategy': 'FedYogi', 'epochs': 83}\u001b[32m [repeated 5x across cluster]\u001b[0m\n"
     ]
    },
    {
     "name": "stderr",
     "output_type": "stream",
     "text": [
      "DEBUG flwr 2024-03-12 15:23:18,510 | server.py:236 | fit_round 9 received 3 results and 0 failures\n",
      "03/12/2024 15:23:18:DEBUG:fit_round 9 received 3 results and 0 failures\n",
      "INFO flwr 2024-03-12 15:23:18,523 | server.py:125 | fit progress: (9, 0.024119743042522006, {'accuracy': 0.80625}, 19.676836021943018)\n",
      "03/12/2024 15:23:18:INFO:fit progress: (9, 0.024119743042522006, {'accuracy': 0.80625}, 19.676836021943018)\n",
      "DEBUG flwr 2024-03-12 15:23:18,524 | server.py:173 | evaluate_round 9: strategy sampled 3 clients (out of 3)\n",
      "03/12/2024 15:23:18:DEBUG:evaluate_round 9: strategy sampled 3 clients (out of 3)\n",
      "DEBUG flwr 2024-03-12 15:23:18,561 | server.py:187 | evaluate_round 9 received 3 results and 0 failures\n",
      "03/12/2024 15:23:18:DEBUG:evaluate_round 9 received 3 results and 0 failures\n",
      "DEBUG flwr 2024-03-12 15:23:18,632 | server.py:222 | fit_round 10: strategy sampled 3 clients (out of 3)\n",
      "03/12/2024 15:23:18:DEBUG:fit_round 10: strategy sampled 3 clients (out of 3)\n",
      "\u001b[2m\u001b[36m(DefaultActor pid=343193)\u001b[0m /home/local/USHERBROOKE/saho6810/.local/lib/python3.8/site-packages/opacus/privacy_engine.py:142: UserWarning: Secure RNG turned off. This is perfectly fine for experimentation as it allows for much faster training performance, but remember to turn it on and retrain one last time before production with ``secure_mode`` turned on.\u001b[32m [repeated 15x across cluster]\u001b[0m\n",
      "\u001b[2m\u001b[36m(DefaultActor pid=343193)\u001b[0m   warnings.warn(\u001b[32m [repeated 15x across cluster]\u001b[0m\n",
      "\u001b[2m\u001b[36m(DefaultActor pid=343193)\u001b[0m /home/local/USHERBROOKE/saho6810/.local/lib/python3.8/site-packages/flwr/simulation/ray_transport/ray_actor.py:72: DeprecationWarning:  Ensure your client is of type `flwr.client.Client`. Please convert it using the `.to_client()` method before returning it in the `client_fn` you pass to `start_simulation`. We have applied this conversion on your behalf. Not returning a `Client` might trigger an error in future versions of Flower.\u001b[32m [repeated 15x across cluster]\u001b[0m\n",
      "\u001b[2m\u001b[36m(DefaultActor pid=343193)\u001b[0m   client = check_clientfn_returns_client(client_fn(cid))\u001b[32m [repeated 15x across cluster]\u001b[0m\n"
     ]
    },
    {
     "name": "stdout",
     "output_type": "stream",
     "text": [
      "Server-side evaluation loss 0.024119743042522006 / accuracy 0.80625\n",
      "\n",
      " ======================== \n",
      " the fit config is used \n",
      "\n",
      "10\n",
      "{'learning_rate': 0.0024014792632203468, 'optimiser': 'RMSprop', 'fl_strategy': 'FedAdagrad', 'epochs': 34}\n",
      "\n",
      " ======================== \n",
      " \n",
      "\n",
      " *-*-*-*-*-*-*-*---*-*-*--*-*-*-*-* \n",
      " \n",
      "{'learning_rate': 7.070152766589364e-05, 'optimizer': 'Adam', 'fl_strategy': 'FedAdam', 'epochs': 57}\n",
      "\n",
      " *--*-*-*-*--*-*-*---*-**-**--*--*-*-*-*-*-*-*-**---*-* \n",
      " \n",
      "\u001b[2m\u001b[36m(DefaultActor pid=343193)\u001b[0m [Client 1] fit, config: {'learning_rate': 0.0024014792632203468, 'optimiser': 'RMSprop', 'fl_strategy': 'FedAdagrad', 'epochs': 34}\n",
      "\u001b[2m\u001b[36m(DefaultActor pid=343192)\u001b[0m epsilon of client 2 : eps = 0\u001b[32m [repeated 11x across cluster]\u001b[0m\n",
      "\u001b[2m\u001b[36m(DefaultActor pid=343192)\u001b[0m [Client 0] evaluate, config: {}\u001b[32m [repeated 11x across cluster]\u001b[0m\n",
      "\u001b[2m\u001b[36m(DefaultActor pid=343193)\u001b[0m [Client 2] fit, config: {'learning_rate': 0.006007890230084107, 'optimiser': 'RMSprop', 'fl_strategy': 'FedYogi', 'epochs': 52}\u001b[32m [repeated 2x across cluster]\u001b[0m\n"
     ]
    },
    {
     "name": "stderr",
     "output_type": "stream",
     "text": [
      "DEBUG flwr 2024-03-12 15:23:19,530 | server.py:236 | fit_round 10 received 3 results and 0 failures\n",
      "03/12/2024 15:23:19:DEBUG:fit_round 10 received 3 results and 0 failures\n",
      "INFO flwr 2024-03-12 15:23:19,543 | server.py:125 | fit progress: (10, 0.024119743042522006, {'accuracy': 0.80625}, 20.6970688769361)\n",
      "03/12/2024 15:23:19:INFO:fit progress: (10, 0.024119743042522006, {'accuracy': 0.80625}, 20.6970688769361)\n",
      "DEBUG flwr 2024-03-12 15:23:19,544 | server.py:173 | evaluate_round 10: strategy sampled 3 clients (out of 3)\n",
      "03/12/2024 15:23:19:DEBUG:evaluate_round 10: strategy sampled 3 clients (out of 3)\n",
      "DEBUG flwr 2024-03-12 15:23:19,578 | server.py:187 | evaluate_round 10 received 3 results and 0 failures\n",
      "03/12/2024 15:23:19:DEBUG:evaluate_round 10 received 3 results and 0 failures\n",
      "INFO flwr 2024-03-12 15:23:19,578 | server.py:153 | FL finished in 20.732604656019248\n",
      "03/12/2024 15:23:19:INFO:FL finished in 20.732604656019248\n",
      "INFO flwr 2024-03-12 15:23:19,579 | app.py:226 | app_fit: losses_distributed [(1, 0.024074885304327366), (2, 0.024074885304327366), (3, 0.024074885304327366), (4, 0.024074885304327366), (5, 0.024074885304327366), (6, 0.024074885304327366), (7, 0.024074885304327366), (8, 0.024074885304327366), (9, 0.024074885304327366), (10, 0.024074885304327366)]\n",
      "03/12/2024 15:23:19:INFO:app_fit: losses_distributed [(1, 0.024074885304327366), (2, 0.024074885304327366), (3, 0.024074885304327366), (4, 0.024074885304327366), (5, 0.024074885304327366), (6, 0.024074885304327366), (7, 0.024074885304327366), (8, 0.024074885304327366), (9, 0.024074885304327366), (10, 0.024074885304327366)]\n",
      "INFO flwr 2024-03-12 15:23:19,580 | app.py:227 | app_fit: metrics_distributed_fit {}\n",
      "03/12/2024 15:23:19:INFO:app_fit: metrics_distributed_fit {}\n",
      "INFO flwr 2024-03-12 15:23:19,580 | app.py:228 | app_fit: metrics_distributed {}\n",
      "03/12/2024 15:23:19:INFO:app_fit: metrics_distributed {}\n",
      "INFO flwr 2024-03-12 15:23:19,581 | app.py:229 | app_fit: losses_centralized [(0, 0.024119743042522006), (1, 0.024119743042522006), (2, 0.024119743042522006), (3, 0.024119743042522006), (4, 0.024119743042522006), (5, 0.024119743042522006), (6, 0.024119743042522006), (7, 0.024119743042522006), (8, 0.024119743042522006), (9, 0.024119743042522006), (10, 0.024119743042522006)]\n",
      "03/12/2024 15:23:19:INFO:app_fit: losses_centralized [(0, 0.024119743042522006), (1, 0.024119743042522006), (2, 0.024119743042522006), (3, 0.024119743042522006), (4, 0.024119743042522006), (5, 0.024119743042522006), (6, 0.024119743042522006), (7, 0.024119743042522006), (8, 0.024119743042522006), (9, 0.024119743042522006), (10, 0.024119743042522006)]\n",
      "INFO flwr 2024-03-12 15:23:19,581 | app.py:230 | app_fit: metrics_centralized {'accuracy': [(0, 0.80625), (1, 0.80625), (2, 0.80625), (3, 0.80625), (4, 0.80625), (5, 0.80625), (6, 0.80625), (7, 0.80625), (8, 0.80625), (9, 0.80625), (10, 0.80625)]}\n",
      "03/12/2024 15:23:19:INFO:app_fit: metrics_centralized {'accuracy': [(0, 0.80625), (1, 0.80625), (2, 0.80625), (3, 0.80625), (4, 0.80625), (5, 0.80625), (6, 0.80625), (7, 0.80625), (8, 0.80625), (9, 0.80625), (10, 0.80625)]}\n"
     ]
    },
    {
     "name": "stdout",
     "output_type": "stream",
     "text": [
      "Server-side evaluation loss 0.024119743042522006 / accuracy 0.80625\n"
     ]
    }
   ],
   "source": [
    "# Run the Traning of the model\n",
    "history = ppl_1.server.run()"
   ]
  },
  {
   "cell_type": "code",
   "execution_count": 24,
   "metadata": {},
   "outputs": [
    {
     "data": {
      "application/vnd.plotly.v1+json": {
       "config": {
        "plotlyServerURL": "https://plot.ly"
       },
       "data": [
        {
         "dimensions": [
          {
           "label": "Objective Value",
           "range": [
            0.80625,
            0.80625
           ],
           "values": [
            0.80625,
            0.80625,
            0.80625,
            0.80625,
            0.80625,
            0.80625,
            0.80625,
            0.80625,
            0.80625
           ]
          },
          {
           "label": "epochs",
           "range": [
            20,
            83
           ],
           "values": [
            57,
            39,
            25,
            20,
            44,
            52,
            39,
            83,
            34
           ]
          },
          {
           "label": "fl_strategy",
           "range": [
            0,
            2
           ],
           "ticktext": [
            "FedAdam",
            "FedYogi",
            "FedAdagrad"
           ],
           "tickvals": [
            0,
            1,
            2
           ],
           "values": [
            0,
            1,
            2,
            0,
            1,
            1,
            0,
            1,
            2
           ]
          },
          {
           "label": "learning_rate",
           "range": [
            -4.476488970481039,
            -2.221278010908059
           ],
           "ticktext": [
            "3.34e-05",
            "0.0001",
            "0.001",
            "0.00601"
           ],
           "tickvals": [
            -4.476488970481039,
            -4,
            -3,
            -2.221278010908059
           ],
           "values": [
            -4.1505712021903705,
            -2.809015864840438,
            -3.903969974341262,
            -3.191424921333033,
            -4.476488970481039,
            -2.221278010908059,
            -4.046990884517544,
            -4.344473452801905,
            -2.619521159142803
           ]
          },
          {
           "label": "optimizer",
           "range": [
            0,
            2
           ],
           "ticktext": [
            "Adam",
            "SGD",
            "RMSprop"
           ],
           "tickvals": [
            0,
            1,
            2
           ],
           "values": [
            0,
            0,
            1,
            0,
            1,
            2,
            1,
            1,
            2
           ]
          }
         ],
         "labelangle": 30,
         "labelside": "bottom",
         "line": {
          "color": [
           0.80625,
           0.80625,
           0.80625,
           0.80625,
           0.80625,
           0.80625,
           0.80625,
           0.80625,
           0.80625
          ],
          "colorbar": {
           "title": {
            "text": "Objective Value"
           }
          },
          "colorscale": [
           [
            0,
            "rgb(247,251,255)"
           ],
           [
            0.125,
            "rgb(222,235,247)"
           ],
           [
            0.25,
            "rgb(198,219,239)"
           ],
           [
            0.375,
            "rgb(158,202,225)"
           ],
           [
            0.5,
            "rgb(107,174,214)"
           ],
           [
            0.625,
            "rgb(66,146,198)"
           ],
           [
            0.75,
            "rgb(33,113,181)"
           ],
           [
            0.875,
            "rgb(8,81,156)"
           ],
           [
            1,
            "rgb(8,48,107)"
           ]
          ],
          "reversescale": false,
          "showscale": true
         },
         "type": "parcoords"
        }
       ],
       "layout": {
        "template": {
         "data": {
          "bar": [
           {
            "error_x": {
             "color": "#2a3f5f"
            },
            "error_y": {
             "color": "#2a3f5f"
            },
            "marker": {
             "line": {
              "color": "#E5ECF6",
              "width": 0.5
             },
             "pattern": {
              "fillmode": "overlay",
              "size": 10,
              "solidity": 0.2
             }
            },
            "type": "bar"
           }
          ],
          "barpolar": [
           {
            "marker": {
             "line": {
              "color": "#E5ECF6",
              "width": 0.5
             },
             "pattern": {
              "fillmode": "overlay",
              "size": 10,
              "solidity": 0.2
             }
            },
            "type": "barpolar"
           }
          ],
          "carpet": [
           {
            "aaxis": {
             "endlinecolor": "#2a3f5f",
             "gridcolor": "white",
             "linecolor": "white",
             "minorgridcolor": "white",
             "startlinecolor": "#2a3f5f"
            },
            "baxis": {
             "endlinecolor": "#2a3f5f",
             "gridcolor": "white",
             "linecolor": "white",
             "minorgridcolor": "white",
             "startlinecolor": "#2a3f5f"
            },
            "type": "carpet"
           }
          ],
          "choropleth": [
           {
            "colorbar": {
             "outlinewidth": 0,
             "ticks": ""
            },
            "type": "choropleth"
           }
          ],
          "contour": [
           {
            "colorbar": {
             "outlinewidth": 0,
             "ticks": ""
            },
            "colorscale": [
             [
              0,
              "#0d0887"
             ],
             [
              0.1111111111111111,
              "#46039f"
             ],
             [
              0.2222222222222222,
              "#7201a8"
             ],
             [
              0.3333333333333333,
              "#9c179e"
             ],
             [
              0.4444444444444444,
              "#bd3786"
             ],
             [
              0.5555555555555556,
              "#d8576b"
             ],
             [
              0.6666666666666666,
              "#ed7953"
             ],
             [
              0.7777777777777778,
              "#fb9f3a"
             ],
             [
              0.8888888888888888,
              "#fdca26"
             ],
             [
              1,
              "#f0f921"
             ]
            ],
            "type": "contour"
           }
          ],
          "contourcarpet": [
           {
            "colorbar": {
             "outlinewidth": 0,
             "ticks": ""
            },
            "type": "contourcarpet"
           }
          ],
          "heatmap": [
           {
            "colorbar": {
             "outlinewidth": 0,
             "ticks": ""
            },
            "colorscale": [
             [
              0,
              "#0d0887"
             ],
             [
              0.1111111111111111,
              "#46039f"
             ],
             [
              0.2222222222222222,
              "#7201a8"
             ],
             [
              0.3333333333333333,
              "#9c179e"
             ],
             [
              0.4444444444444444,
              "#bd3786"
             ],
             [
              0.5555555555555556,
              "#d8576b"
             ],
             [
              0.6666666666666666,
              "#ed7953"
             ],
             [
              0.7777777777777778,
              "#fb9f3a"
             ],
             [
              0.8888888888888888,
              "#fdca26"
             ],
             [
              1,
              "#f0f921"
             ]
            ],
            "type": "heatmap"
           }
          ],
          "heatmapgl": [
           {
            "colorbar": {
             "outlinewidth": 0,
             "ticks": ""
            },
            "colorscale": [
             [
              0,
              "#0d0887"
             ],
             [
              0.1111111111111111,
              "#46039f"
             ],
             [
              0.2222222222222222,
              "#7201a8"
             ],
             [
              0.3333333333333333,
              "#9c179e"
             ],
             [
              0.4444444444444444,
              "#bd3786"
             ],
             [
              0.5555555555555556,
              "#d8576b"
             ],
             [
              0.6666666666666666,
              "#ed7953"
             ],
             [
              0.7777777777777778,
              "#fb9f3a"
             ],
             [
              0.8888888888888888,
              "#fdca26"
             ],
             [
              1,
              "#f0f921"
             ]
            ],
            "type": "heatmapgl"
           }
          ],
          "histogram": [
           {
            "marker": {
             "pattern": {
              "fillmode": "overlay",
              "size": 10,
              "solidity": 0.2
             }
            },
            "type": "histogram"
           }
          ],
          "histogram2d": [
           {
            "colorbar": {
             "outlinewidth": 0,
             "ticks": ""
            },
            "colorscale": [
             [
              0,
              "#0d0887"
             ],
             [
              0.1111111111111111,
              "#46039f"
             ],
             [
              0.2222222222222222,
              "#7201a8"
             ],
             [
              0.3333333333333333,
              "#9c179e"
             ],
             [
              0.4444444444444444,
              "#bd3786"
             ],
             [
              0.5555555555555556,
              "#d8576b"
             ],
             [
              0.6666666666666666,
              "#ed7953"
             ],
             [
              0.7777777777777778,
              "#fb9f3a"
             ],
             [
              0.8888888888888888,
              "#fdca26"
             ],
             [
              1,
              "#f0f921"
             ]
            ],
            "type": "histogram2d"
           }
          ],
          "histogram2dcontour": [
           {
            "colorbar": {
             "outlinewidth": 0,
             "ticks": ""
            },
            "colorscale": [
             [
              0,
              "#0d0887"
             ],
             [
              0.1111111111111111,
              "#46039f"
             ],
             [
              0.2222222222222222,
              "#7201a8"
             ],
             [
              0.3333333333333333,
              "#9c179e"
             ],
             [
              0.4444444444444444,
              "#bd3786"
             ],
             [
              0.5555555555555556,
              "#d8576b"
             ],
             [
              0.6666666666666666,
              "#ed7953"
             ],
             [
              0.7777777777777778,
              "#fb9f3a"
             ],
             [
              0.8888888888888888,
              "#fdca26"
             ],
             [
              1,
              "#f0f921"
             ]
            ],
            "type": "histogram2dcontour"
           }
          ],
          "mesh3d": [
           {
            "colorbar": {
             "outlinewidth": 0,
             "ticks": ""
            },
            "type": "mesh3d"
           }
          ],
          "parcoords": [
           {
            "line": {
             "colorbar": {
              "outlinewidth": 0,
              "ticks": ""
             }
            },
            "type": "parcoords"
           }
          ],
          "pie": [
           {
            "automargin": true,
            "type": "pie"
           }
          ],
          "scatter": [
           {
            "fillpattern": {
             "fillmode": "overlay",
             "size": 10,
             "solidity": 0.2
            },
            "type": "scatter"
           }
          ],
          "scatter3d": [
           {
            "line": {
             "colorbar": {
              "outlinewidth": 0,
              "ticks": ""
             }
            },
            "marker": {
             "colorbar": {
              "outlinewidth": 0,
              "ticks": ""
             }
            },
            "type": "scatter3d"
           }
          ],
          "scattercarpet": [
           {
            "marker": {
             "colorbar": {
              "outlinewidth": 0,
              "ticks": ""
             }
            },
            "type": "scattercarpet"
           }
          ],
          "scattergeo": [
           {
            "marker": {
             "colorbar": {
              "outlinewidth": 0,
              "ticks": ""
             }
            },
            "type": "scattergeo"
           }
          ],
          "scattergl": [
           {
            "marker": {
             "colorbar": {
              "outlinewidth": 0,
              "ticks": ""
             }
            },
            "type": "scattergl"
           }
          ],
          "scattermapbox": [
           {
            "marker": {
             "colorbar": {
              "outlinewidth": 0,
              "ticks": ""
             }
            },
            "type": "scattermapbox"
           }
          ],
          "scatterpolar": [
           {
            "marker": {
             "colorbar": {
              "outlinewidth": 0,
              "ticks": ""
             }
            },
            "type": "scatterpolar"
           }
          ],
          "scatterpolargl": [
           {
            "marker": {
             "colorbar": {
              "outlinewidth": 0,
              "ticks": ""
             }
            },
            "type": "scatterpolargl"
           }
          ],
          "scatterternary": [
           {
            "marker": {
             "colorbar": {
              "outlinewidth": 0,
              "ticks": ""
             }
            },
            "type": "scatterternary"
           }
          ],
          "surface": [
           {
            "colorbar": {
             "outlinewidth": 0,
             "ticks": ""
            },
            "colorscale": [
             [
              0,
              "#0d0887"
             ],
             [
              0.1111111111111111,
              "#46039f"
             ],
             [
              0.2222222222222222,
              "#7201a8"
             ],
             [
              0.3333333333333333,
              "#9c179e"
             ],
             [
              0.4444444444444444,
              "#bd3786"
             ],
             [
              0.5555555555555556,
              "#d8576b"
             ],
             [
              0.6666666666666666,
              "#ed7953"
             ],
             [
              0.7777777777777778,
              "#fb9f3a"
             ],
             [
              0.8888888888888888,
              "#fdca26"
             ],
             [
              1,
              "#f0f921"
             ]
            ],
            "type": "surface"
           }
          ],
          "table": [
           {
            "cells": {
             "fill": {
              "color": "#EBF0F8"
             },
             "line": {
              "color": "white"
             }
            },
            "header": {
             "fill": {
              "color": "#C8D4E3"
             },
             "line": {
              "color": "white"
             }
            },
            "type": "table"
           }
          ]
         },
         "layout": {
          "annotationdefaults": {
           "arrowcolor": "#2a3f5f",
           "arrowhead": 0,
           "arrowwidth": 1
          },
          "autotypenumbers": "strict",
          "coloraxis": {
           "colorbar": {
            "outlinewidth": 0,
            "ticks": ""
           }
          },
          "colorscale": {
           "diverging": [
            [
             0,
             "#8e0152"
            ],
            [
             0.1,
             "#c51b7d"
            ],
            [
             0.2,
             "#de77ae"
            ],
            [
             0.3,
             "#f1b6da"
            ],
            [
             0.4,
             "#fde0ef"
            ],
            [
             0.5,
             "#f7f7f7"
            ],
            [
             0.6,
             "#e6f5d0"
            ],
            [
             0.7,
             "#b8e186"
            ],
            [
             0.8,
             "#7fbc41"
            ],
            [
             0.9,
             "#4d9221"
            ],
            [
             1,
             "#276419"
            ]
           ],
           "sequential": [
            [
             0,
             "#0d0887"
            ],
            [
             0.1111111111111111,
             "#46039f"
            ],
            [
             0.2222222222222222,
             "#7201a8"
            ],
            [
             0.3333333333333333,
             "#9c179e"
            ],
            [
             0.4444444444444444,
             "#bd3786"
            ],
            [
             0.5555555555555556,
             "#d8576b"
            ],
            [
             0.6666666666666666,
             "#ed7953"
            ],
            [
             0.7777777777777778,
             "#fb9f3a"
            ],
            [
             0.8888888888888888,
             "#fdca26"
            ],
            [
             1,
             "#f0f921"
            ]
           ],
           "sequentialminus": [
            [
             0,
             "#0d0887"
            ],
            [
             0.1111111111111111,
             "#46039f"
            ],
            [
             0.2222222222222222,
             "#7201a8"
            ],
            [
             0.3333333333333333,
             "#9c179e"
            ],
            [
             0.4444444444444444,
             "#bd3786"
            ],
            [
             0.5555555555555556,
             "#d8576b"
            ],
            [
             0.6666666666666666,
             "#ed7953"
            ],
            [
             0.7777777777777778,
             "#fb9f3a"
            ],
            [
             0.8888888888888888,
             "#fdca26"
            ],
            [
             1,
             "#f0f921"
            ]
           ]
          },
          "colorway": [
           "#636efa",
           "#EF553B",
           "#00cc96",
           "#ab63fa",
           "#FFA15A",
           "#19d3f3",
           "#FF6692",
           "#B6E880",
           "#FF97FF",
           "#FECB52"
          ],
          "font": {
           "color": "#2a3f5f"
          },
          "geo": {
           "bgcolor": "white",
           "lakecolor": "white",
           "landcolor": "#E5ECF6",
           "showlakes": true,
           "showland": true,
           "subunitcolor": "white"
          },
          "hoverlabel": {
           "align": "left"
          },
          "hovermode": "closest",
          "mapbox": {
           "style": "light"
          },
          "paper_bgcolor": "white",
          "plot_bgcolor": "#E5ECF6",
          "polar": {
           "angularaxis": {
            "gridcolor": "white",
            "linecolor": "white",
            "ticks": ""
           },
           "bgcolor": "#E5ECF6",
           "radialaxis": {
            "gridcolor": "white",
            "linecolor": "white",
            "ticks": ""
           }
          },
          "scene": {
           "xaxis": {
            "backgroundcolor": "#E5ECF6",
            "gridcolor": "white",
            "gridwidth": 2,
            "linecolor": "white",
            "showbackground": true,
            "ticks": "",
            "zerolinecolor": "white"
           },
           "yaxis": {
            "backgroundcolor": "#E5ECF6",
            "gridcolor": "white",
            "gridwidth": 2,
            "linecolor": "white",
            "showbackground": true,
            "ticks": "",
            "zerolinecolor": "white"
           },
           "zaxis": {
            "backgroundcolor": "#E5ECF6",
            "gridcolor": "white",
            "gridwidth": 2,
            "linecolor": "white",
            "showbackground": true,
            "ticks": "",
            "zerolinecolor": "white"
           }
          },
          "shapedefaults": {
           "line": {
            "color": "#2a3f5f"
           }
          },
          "ternary": {
           "aaxis": {
            "gridcolor": "white",
            "linecolor": "white",
            "ticks": ""
           },
           "baxis": {
            "gridcolor": "white",
            "linecolor": "white",
            "ticks": ""
           },
           "bgcolor": "#E5ECF6",
           "caxis": {
            "gridcolor": "white",
            "linecolor": "white",
            "ticks": ""
           }
          },
          "title": {
           "x": 0.05
          },
          "xaxis": {
           "automargin": true,
           "gridcolor": "white",
           "linecolor": "white",
           "ticks": "",
           "title": {
            "standoff": 15
           },
           "zerolinecolor": "white",
           "zerolinewidth": 2
          },
          "yaxis": {
           "automargin": true,
           "gridcolor": "white",
           "linecolor": "white",
           "ticks": "",
           "title": {
            "standoff": 15
           },
           "zerolinecolor": "white",
           "zerolinewidth": 2
          }
         }
        },
        "title": {
         "text": "Parallel Coordinate Plot"
        }
       }
      }
     },
     "metadata": {},
     "output_type": "display_data"
    }
   ],
   "source": [
    "learning_strategy.plot_parallel_coordinate()"
   ]
  },
  {
   "cell_type": "code",
   "execution_count": 25,
   "metadata": {},
   "outputs": [
    {
     "data": {
      "application/vnd.plotly.v1+json": {
       "config": {
        "plotlyServerURL": "https://plot.ly"
       },
       "data": [
        {
         "mode": "markers",
         "name": "Objective Value",
         "type": "scatter",
         "x": [
          1,
          2,
          3,
          4,
          5,
          6,
          7,
          8,
          9
         ],
         "y": [
          0.80625,
          0.80625,
          0.80625,
          0.80625,
          0.80625,
          0.80625,
          0.80625,
          0.80625,
          0.80625
         ]
        },
        {
         "mode": "lines",
         "name": "Best Value",
         "type": "scatter",
         "x": [
          0,
          1,
          2,
          3,
          4,
          5,
          6,
          7,
          8,
          9
         ],
         "y": [
          null,
          0.80625,
          0.80625,
          0.80625,
          0.80625,
          0.80625,
          0.80625,
          0.80625,
          0.80625,
          0.80625
         ]
        },
        {
         "marker": {
          "color": "#cccccc"
         },
         "mode": "markers",
         "name": "Infeasible Trial",
         "showlegend": false,
         "type": "scatter",
         "x": [],
         "y": []
        }
       ],
       "layout": {
        "template": {
         "data": {
          "bar": [
           {
            "error_x": {
             "color": "#2a3f5f"
            },
            "error_y": {
             "color": "#2a3f5f"
            },
            "marker": {
             "line": {
              "color": "#E5ECF6",
              "width": 0.5
             },
             "pattern": {
              "fillmode": "overlay",
              "size": 10,
              "solidity": 0.2
             }
            },
            "type": "bar"
           }
          ],
          "barpolar": [
           {
            "marker": {
             "line": {
              "color": "#E5ECF6",
              "width": 0.5
             },
             "pattern": {
              "fillmode": "overlay",
              "size": 10,
              "solidity": 0.2
             }
            },
            "type": "barpolar"
           }
          ],
          "carpet": [
           {
            "aaxis": {
             "endlinecolor": "#2a3f5f",
             "gridcolor": "white",
             "linecolor": "white",
             "minorgridcolor": "white",
             "startlinecolor": "#2a3f5f"
            },
            "baxis": {
             "endlinecolor": "#2a3f5f",
             "gridcolor": "white",
             "linecolor": "white",
             "minorgridcolor": "white",
             "startlinecolor": "#2a3f5f"
            },
            "type": "carpet"
           }
          ],
          "choropleth": [
           {
            "colorbar": {
             "outlinewidth": 0,
             "ticks": ""
            },
            "type": "choropleth"
           }
          ],
          "contour": [
           {
            "colorbar": {
             "outlinewidth": 0,
             "ticks": ""
            },
            "colorscale": [
             [
              0,
              "#0d0887"
             ],
             [
              0.1111111111111111,
              "#46039f"
             ],
             [
              0.2222222222222222,
              "#7201a8"
             ],
             [
              0.3333333333333333,
              "#9c179e"
             ],
             [
              0.4444444444444444,
              "#bd3786"
             ],
             [
              0.5555555555555556,
              "#d8576b"
             ],
             [
              0.6666666666666666,
              "#ed7953"
             ],
             [
              0.7777777777777778,
              "#fb9f3a"
             ],
             [
              0.8888888888888888,
              "#fdca26"
             ],
             [
              1,
              "#f0f921"
             ]
            ],
            "type": "contour"
           }
          ],
          "contourcarpet": [
           {
            "colorbar": {
             "outlinewidth": 0,
             "ticks": ""
            },
            "type": "contourcarpet"
           }
          ],
          "heatmap": [
           {
            "colorbar": {
             "outlinewidth": 0,
             "ticks": ""
            },
            "colorscale": [
             [
              0,
              "#0d0887"
             ],
             [
              0.1111111111111111,
              "#46039f"
             ],
             [
              0.2222222222222222,
              "#7201a8"
             ],
             [
              0.3333333333333333,
              "#9c179e"
             ],
             [
              0.4444444444444444,
              "#bd3786"
             ],
             [
              0.5555555555555556,
              "#d8576b"
             ],
             [
              0.6666666666666666,
              "#ed7953"
             ],
             [
              0.7777777777777778,
              "#fb9f3a"
             ],
             [
              0.8888888888888888,
              "#fdca26"
             ],
             [
              1,
              "#f0f921"
             ]
            ],
            "type": "heatmap"
           }
          ],
          "heatmapgl": [
           {
            "colorbar": {
             "outlinewidth": 0,
             "ticks": ""
            },
            "colorscale": [
             [
              0,
              "#0d0887"
             ],
             [
              0.1111111111111111,
              "#46039f"
             ],
             [
              0.2222222222222222,
              "#7201a8"
             ],
             [
              0.3333333333333333,
              "#9c179e"
             ],
             [
              0.4444444444444444,
              "#bd3786"
             ],
             [
              0.5555555555555556,
              "#d8576b"
             ],
             [
              0.6666666666666666,
              "#ed7953"
             ],
             [
              0.7777777777777778,
              "#fb9f3a"
             ],
             [
              0.8888888888888888,
              "#fdca26"
             ],
             [
              1,
              "#f0f921"
             ]
            ],
            "type": "heatmapgl"
           }
          ],
          "histogram": [
           {
            "marker": {
             "pattern": {
              "fillmode": "overlay",
              "size": 10,
              "solidity": 0.2
             }
            },
            "type": "histogram"
           }
          ],
          "histogram2d": [
           {
            "colorbar": {
             "outlinewidth": 0,
             "ticks": ""
            },
            "colorscale": [
             [
              0,
              "#0d0887"
             ],
             [
              0.1111111111111111,
              "#46039f"
             ],
             [
              0.2222222222222222,
              "#7201a8"
             ],
             [
              0.3333333333333333,
              "#9c179e"
             ],
             [
              0.4444444444444444,
              "#bd3786"
             ],
             [
              0.5555555555555556,
              "#d8576b"
             ],
             [
              0.6666666666666666,
              "#ed7953"
             ],
             [
              0.7777777777777778,
              "#fb9f3a"
             ],
             [
              0.8888888888888888,
              "#fdca26"
             ],
             [
              1,
              "#f0f921"
             ]
            ],
            "type": "histogram2d"
           }
          ],
          "histogram2dcontour": [
           {
            "colorbar": {
             "outlinewidth": 0,
             "ticks": ""
            },
            "colorscale": [
             [
              0,
              "#0d0887"
             ],
             [
              0.1111111111111111,
              "#46039f"
             ],
             [
              0.2222222222222222,
              "#7201a8"
             ],
             [
              0.3333333333333333,
              "#9c179e"
             ],
             [
              0.4444444444444444,
              "#bd3786"
             ],
             [
              0.5555555555555556,
              "#d8576b"
             ],
             [
              0.6666666666666666,
              "#ed7953"
             ],
             [
              0.7777777777777778,
              "#fb9f3a"
             ],
             [
              0.8888888888888888,
              "#fdca26"
             ],
             [
              1,
              "#f0f921"
             ]
            ],
            "type": "histogram2dcontour"
           }
          ],
          "mesh3d": [
           {
            "colorbar": {
             "outlinewidth": 0,
             "ticks": ""
            },
            "type": "mesh3d"
           }
          ],
          "parcoords": [
           {
            "line": {
             "colorbar": {
              "outlinewidth": 0,
              "ticks": ""
             }
            },
            "type": "parcoords"
           }
          ],
          "pie": [
           {
            "automargin": true,
            "type": "pie"
           }
          ],
          "scatter": [
           {
            "fillpattern": {
             "fillmode": "overlay",
             "size": 10,
             "solidity": 0.2
            },
            "type": "scatter"
           }
          ],
          "scatter3d": [
           {
            "line": {
             "colorbar": {
              "outlinewidth": 0,
              "ticks": ""
             }
            },
            "marker": {
             "colorbar": {
              "outlinewidth": 0,
              "ticks": ""
             }
            },
            "type": "scatter3d"
           }
          ],
          "scattercarpet": [
           {
            "marker": {
             "colorbar": {
              "outlinewidth": 0,
              "ticks": ""
             }
            },
            "type": "scattercarpet"
           }
          ],
          "scattergeo": [
           {
            "marker": {
             "colorbar": {
              "outlinewidth": 0,
              "ticks": ""
             }
            },
            "type": "scattergeo"
           }
          ],
          "scattergl": [
           {
            "marker": {
             "colorbar": {
              "outlinewidth": 0,
              "ticks": ""
             }
            },
            "type": "scattergl"
           }
          ],
          "scattermapbox": [
           {
            "marker": {
             "colorbar": {
              "outlinewidth": 0,
              "ticks": ""
             }
            },
            "type": "scattermapbox"
           }
          ],
          "scatterpolar": [
           {
            "marker": {
             "colorbar": {
              "outlinewidth": 0,
              "ticks": ""
             }
            },
            "type": "scatterpolar"
           }
          ],
          "scatterpolargl": [
           {
            "marker": {
             "colorbar": {
              "outlinewidth": 0,
              "ticks": ""
             }
            },
            "type": "scatterpolargl"
           }
          ],
          "scatterternary": [
           {
            "marker": {
             "colorbar": {
              "outlinewidth": 0,
              "ticks": ""
             }
            },
            "type": "scatterternary"
           }
          ],
          "surface": [
           {
            "colorbar": {
             "outlinewidth": 0,
             "ticks": ""
            },
            "colorscale": [
             [
              0,
              "#0d0887"
             ],
             [
              0.1111111111111111,
              "#46039f"
             ],
             [
              0.2222222222222222,
              "#7201a8"
             ],
             [
              0.3333333333333333,
              "#9c179e"
             ],
             [
              0.4444444444444444,
              "#bd3786"
             ],
             [
              0.5555555555555556,
              "#d8576b"
             ],
             [
              0.6666666666666666,
              "#ed7953"
             ],
             [
              0.7777777777777778,
              "#fb9f3a"
             ],
             [
              0.8888888888888888,
              "#fdca26"
             ],
             [
              1,
              "#f0f921"
             ]
            ],
            "type": "surface"
           }
          ],
          "table": [
           {
            "cells": {
             "fill": {
              "color": "#EBF0F8"
             },
             "line": {
              "color": "white"
             }
            },
            "header": {
             "fill": {
              "color": "#C8D4E3"
             },
             "line": {
              "color": "white"
             }
            },
            "type": "table"
           }
          ]
         },
         "layout": {
          "annotationdefaults": {
           "arrowcolor": "#2a3f5f",
           "arrowhead": 0,
           "arrowwidth": 1
          },
          "autotypenumbers": "strict",
          "coloraxis": {
           "colorbar": {
            "outlinewidth": 0,
            "ticks": ""
           }
          },
          "colorscale": {
           "diverging": [
            [
             0,
             "#8e0152"
            ],
            [
             0.1,
             "#c51b7d"
            ],
            [
             0.2,
             "#de77ae"
            ],
            [
             0.3,
             "#f1b6da"
            ],
            [
             0.4,
             "#fde0ef"
            ],
            [
             0.5,
             "#f7f7f7"
            ],
            [
             0.6,
             "#e6f5d0"
            ],
            [
             0.7,
             "#b8e186"
            ],
            [
             0.8,
             "#7fbc41"
            ],
            [
             0.9,
             "#4d9221"
            ],
            [
             1,
             "#276419"
            ]
           ],
           "sequential": [
            [
             0,
             "#0d0887"
            ],
            [
             0.1111111111111111,
             "#46039f"
            ],
            [
             0.2222222222222222,
             "#7201a8"
            ],
            [
             0.3333333333333333,
             "#9c179e"
            ],
            [
             0.4444444444444444,
             "#bd3786"
            ],
            [
             0.5555555555555556,
             "#d8576b"
            ],
            [
             0.6666666666666666,
             "#ed7953"
            ],
            [
             0.7777777777777778,
             "#fb9f3a"
            ],
            [
             0.8888888888888888,
             "#fdca26"
            ],
            [
             1,
             "#f0f921"
            ]
           ],
           "sequentialminus": [
            [
             0,
             "#0d0887"
            ],
            [
             0.1111111111111111,
             "#46039f"
            ],
            [
             0.2222222222222222,
             "#7201a8"
            ],
            [
             0.3333333333333333,
             "#9c179e"
            ],
            [
             0.4444444444444444,
             "#bd3786"
            ],
            [
             0.5555555555555556,
             "#d8576b"
            ],
            [
             0.6666666666666666,
             "#ed7953"
            ],
            [
             0.7777777777777778,
             "#fb9f3a"
            ],
            [
             0.8888888888888888,
             "#fdca26"
            ],
            [
             1,
             "#f0f921"
            ]
           ]
          },
          "colorway": [
           "#636efa",
           "#EF553B",
           "#00cc96",
           "#ab63fa",
           "#FFA15A",
           "#19d3f3",
           "#FF6692",
           "#B6E880",
           "#FF97FF",
           "#FECB52"
          ],
          "font": {
           "color": "#2a3f5f"
          },
          "geo": {
           "bgcolor": "white",
           "lakecolor": "white",
           "landcolor": "#E5ECF6",
           "showlakes": true,
           "showland": true,
           "subunitcolor": "white"
          },
          "hoverlabel": {
           "align": "left"
          },
          "hovermode": "closest",
          "mapbox": {
           "style": "light"
          },
          "paper_bgcolor": "white",
          "plot_bgcolor": "#E5ECF6",
          "polar": {
           "angularaxis": {
            "gridcolor": "white",
            "linecolor": "white",
            "ticks": ""
           },
           "bgcolor": "#E5ECF6",
           "radialaxis": {
            "gridcolor": "white",
            "linecolor": "white",
            "ticks": ""
           }
          },
          "scene": {
           "xaxis": {
            "backgroundcolor": "#E5ECF6",
            "gridcolor": "white",
            "gridwidth": 2,
            "linecolor": "white",
            "showbackground": true,
            "ticks": "",
            "zerolinecolor": "white"
           },
           "yaxis": {
            "backgroundcolor": "#E5ECF6",
            "gridcolor": "white",
            "gridwidth": 2,
            "linecolor": "white",
            "showbackground": true,
            "ticks": "",
            "zerolinecolor": "white"
           },
           "zaxis": {
            "backgroundcolor": "#E5ECF6",
            "gridcolor": "white",
            "gridwidth": 2,
            "linecolor": "white",
            "showbackground": true,
            "ticks": "",
            "zerolinecolor": "white"
           }
          },
          "shapedefaults": {
           "line": {
            "color": "#2a3f5f"
           }
          },
          "ternary": {
           "aaxis": {
            "gridcolor": "white",
            "linecolor": "white",
            "ticks": ""
           },
           "baxis": {
            "gridcolor": "white",
            "linecolor": "white",
            "ticks": ""
           },
           "bgcolor": "#E5ECF6",
           "caxis": {
            "gridcolor": "white",
            "linecolor": "white",
            "ticks": ""
           }
          },
          "title": {
           "x": 0.05
          },
          "xaxis": {
           "automargin": true,
           "gridcolor": "white",
           "linecolor": "white",
           "ticks": "",
           "title": {
            "standoff": 15
           },
           "zerolinecolor": "white",
           "zerolinewidth": 2
          },
          "yaxis": {
           "automargin": true,
           "gridcolor": "white",
           "linecolor": "white",
           "ticks": "",
           "title": {
            "standoff": 15
           },
           "zerolinecolor": "white",
           "zerolinewidth": 2
          }
         }
        },
        "title": {
         "text": "Optimization History Plot"
        },
        "xaxis": {
         "title": {
          "text": "Trial"
         }
        },
        "yaxis": {
         "title": {
          "text": "Objective Value"
         }
        }
       }
      }
     },
     "metadata": {},
     "output_type": "display_data"
    },
    {
     "name": "stdout",
     "output_type": "stream",
     "text": [
      "\u001b[2m\u001b[36m(DefaultActor pid=343193)\u001b[0m [Client 1] evaluate, config: {}\n"
     ]
    }
   ],
   "source": [
    "learning_strategy.plot_optimization_history()"
   ]
  },
  {
   "cell_type": "code",
   "execution_count": 73,
   "metadata": {},
   "outputs": [
    {
     "data": {
      "image/png": "[encoded data removed]",
      "text/plain": [
       "<Figure size 800x600 with 1 Axes>"
      ]
     },
     "metadata": {},
     "output_type": "display_data"
    }
   ],
   "source": [
    "# Make some plots \n",
    "global_accuracy,global_loss = ppl_1.server.accuracies,ppl_1.server.losses\n",
    "results_dict = {\n",
    "    ('LR: 0.001, Optimizer: SGD', 'accuracy'): global_accuracy,\n",
    "    ('LR: 0.001, Optimizer: SGD', 'loss'): global_loss\n",
    "}\n",
    "plotter = AccuracyLossPlotter(results_dict)\n",
    "\n",
    "plotter.plot_accuracy_loss()"
   ]
  },
  {
   "cell_type": "code",
   "execution_count": 74,
   "metadata": {},
   "outputs": [
    {
     "data": {
      "text/plain": [
       "[{'node_name': 'hospital_1',\n",
       "  'classification_report': \"{'confusion matrix': {'TP': 10, 'FP': 2, 'FN': 59, 'TN': 287}, 'Accuracy': 0.83, 'Sensitivity/Recall': 0.145, 'Specificity': 0.993, 'PPV/Precision': 0.833, 'NPV': 0.829, 'F1-score': 0.247, 'False positive rate': 0.007, 'True positive rate': 0.145}\"},\n",
       " {'node_name': 'hospital_2',\n",
       "  'classification_report': \"{'confusion matrix': {'TP': 8, 'FP': 4, 'FN': 64, 'TN': 282}, 'Accuracy': 0.81, 'Sensitivity/Recall': 0.111, 'Specificity': 0.986, 'PPV/Precision': 0.667, 'NPV': 0.815, 'F1-score': 0.19, 'False positive rate': 0.014, 'True positive rate': 0.111}\"},\n",
       " {'node_name': 'hospital_3',\n",
       "  'classification_report': \"{'confusion matrix': {'TP': 8, 'FP': 1, 'FN': 53, 'TN': 297}, 'Accuracy': 0.85, 'Sensitivity/Recall': 0.131, 'Specificity': 0.997, 'PPV/Precision': 0.889, 'NPV': 0.849, 'F1-score': 0.229, 'False positive rate': 0.003, 'True positive rate': 0.131}\"},\n",
       " {'node_name': 'hospital_4',\n",
       "  'classification_report': \"{'confusion matrix': {'TP': 19, 'FP': 22, 'FN': 268, 'TN': 1481}, 'Accuracy': 0.838, 'Sensitivity/Recall': 0.066, 'Specificity': 0.985, 'PPV/Precision': 0.463, 'NPV': 0.847, 'F1-score': 0.116, 'False positive rate': 0.015, 'True positive rate': 0.066}\"},\n",
       " {'node_name': 'hospital_5',\n",
       "  'classification_report': \"{'confusion matrix': {'TP': 28, 'FP': 18, 'FN': 287, 'TN': 1458}, 'Accuracy': 0.83, 'Sensitivity/Recall': 0.089, 'Specificity': 0.988, 'PPV/Precision': 0.609, 'NPV': 0.836, 'F1-score': 0.155, 'False positive rate': 0.012, 'True positive rate': 0.089}\"}]"
      ]
     },
     "execution_count": 74,
     "metadata": {},
     "output_type": "execute_result"
    }
   ],
   "source": [
    "# Test the Modal on the Test nodes and store the results on the DB\n",
    "ppl_1.auto_test()"
   ]
  },
  {
   "cell_type": "code",
   "execution_count": 75,
   "metadata": {},
   "outputs": [
    {
     "data": {
      "image/png": "[encoded data removed]",
      "text/plain": [
       "<Figure size 600x400 with 2 Axes>"
      ]
     },
     "metadata": {},
     "output_type": "display_data"
    }
   ],
   "source": [
    "# Plot the Global confusion Matrix of the pipiline \"the first fl_pipeline\"\n",
    "AccuracyLossPlotter.plot_global_confusion_matrix(pipeline_name=\"the first fl_pipeline\")"
   ]
  },
  {
   "cell_type": "code",
   "execution_count": 76,
   "metadata": {},
   "outputs": [
    {
     "data": {
      "image/png": "[encoded data removed]",
      "text/plain": [
       "<Figure size 1200x600 with 1 Axes>"
      ]
     },
     "metadata": {},
     "output_type": "display_data"
    }
   ],
   "source": [
    "AccuracyLossPlotter.plot_classification_report(pipeline_name=\"the first fl_pipeline\")"
   ]
  }
 ],
 "metadata": {
  "kernelspec": {
   "display_name": "Python 3",
   "language": "python",
   "name": "python3"
  },
  "language_info": {
   "codemirror_mode": {
    "name": "ipython",
    "version": 3
   },
   "file_extension": ".py",
   "mimetype": "text/x-python",
   "name": "python",
   "nbconvert_exporter": "python",
   "pygments_lexer": "ipython3",
   "version": "3.8.10"
  }
 },
 "nbformat": 4,
 "nbformat_minor": 2
}
