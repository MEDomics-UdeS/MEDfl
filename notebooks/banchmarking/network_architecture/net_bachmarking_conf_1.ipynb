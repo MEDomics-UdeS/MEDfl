{
 "cells": [
  {
   "cell_type": "markdown",
   "metadata": {},
   "source": [
    "This is the banchmarking of the network architecture "
   ]
  },
  {
   "cell_type": "code",
   "execution_count": 1,
   "metadata": {},
   "outputs": [],
   "source": [
    "import sys\n",
    "sys.path.append('../../..')\n",
    "\n",
    "import os\n",
    "os.environ['PYTHONPATH'] = '../../..'"
   ]
  },
  {
   "cell_type": "code",
   "execution_count": 2,
   "metadata": {},
   "outputs": [
    {
     "name": "stderr",
     "output_type": "stream",
     "text": [
      "C:\\Users\\HP User\\AppData\\Local\\Temp\\ipykernel_1980\\3319853876.py:2: DeprecationWarning: \n",
      "Pyarrow will become a required dependency of pandas in the next major release of pandas (pandas 3.0),\n",
      "(to allow more performant data types, such as the Arrow string type, and better interoperability with other libraries)\n",
      "but was not found to be installed on your system.\n",
      "If this would cause problems for you,\n",
      "please provide us feedback at https://github.com/pandas-dev/pandas/issues/54466\n",
      "        \n",
      "  import pandas as pd\n",
      "2024-02-29 10:59:16,959\tINFO util.py:159 -- Missing packages: ['ipywidgets']. Run `pip install -U ipywidgets`, then restart the notebook server for rich notebook output.\n"
     ]
    }
   ],
   "source": [
    "import mysql.connector\n",
    "import pandas as pd\n",
    "from sqlalchemy import create_engine,text\n",
    "\n",
    "# Torch imports\n",
    "import torch\n",
    "import torch.nn as nn\n",
    "import torch.optim as optim\n",
    "\n",
    "## MedFL Imports \n",
    "## Network Manager Imports \n",
    "from Medfl.NetManager.node import Node\n",
    "from Medfl.NetManager.network import Network\n",
    "from Medfl.NetManager.dataset import DataSet\n",
    "from Medfl.NetManager.flsetup import FLsetup\n",
    "\n",
    "# flower imports \n",
    "import flwr as fl\n",
    "\n",
    "## Learning Manager imports \n",
    "from Medfl.LearningManager.dynamicModal import DynamicModel\n",
    "from Medfl.LearningManager.model import Model\n",
    "from Medfl.LearningManager.strategy import Strategy\n",
    "from Medfl.LearningManager.server import *\n",
    "from Medfl.LearningManager.flpipeline import *\n",
    "from Medfl.LearningManager.plot import AccuracyLossPlotter\n",
    "\n",
    "\n",
    "\n",
    "# Utils\n",
    "from Medfl.LearningManager.utils import *\n"
   ]
  },
  {
   "cell_type": "code",
   "execution_count": 3,
   "metadata": {},
   "outputs": [
    {
     "name": "stderr",
     "output_type": "stream",
     "text": [
      "d:\\ESI\\3CS\\PFE\\last_year\\Code\\MEDfl\\scripts\\create_db.py:2: DeprecationWarning: \n",
      "Pyarrow will become a required dependency of pandas in the next major release of pandas (pandas 3.0),\n",
      "(to allow more performant data types, such as the Arrow string type, and better interoperability with other libraries)\n",
      "but was not found to be installed on your system.\n",
      "If this would cause problems for you,\n",
      "please provide us feedback at https://github.com/pandas-dev/pandas/issues/54466\n",
      "        \n",
      "  import pandas as pd\n"
     ]
    }
   ],
   "source": [
    "# DB Creation \n",
    "!python ../../../scripts/create_db.py\n",
    "\n",
    "# clearn DB \n",
    "# empty_db()"
   ]
  },
  {
   "cell_type": "code",
   "execution_count": 4,
   "metadata": {},
   "outputs": [
    {
     "data": {
      "text/plain": [
       "'manual_network'"
      ]
     },
     "execution_count": 4,
     "metadata": {},
     "output_type": "execute_result"
    }
   ],
   "source": [
    "# Create a nest work \"Net_1\"\n",
    "Net_1 = Network(name=\"manual_network\")\n",
    "Net_1.create_network()\n",
    "\n",
    "Net_1.name"
   ]
  },
  {
   "cell_type": "code",
   "execution_count": 5,
   "metadata": {},
   "outputs": [
    {
     "name": "stdout",
     "output_type": "stream",
     "text": [
      "D:\\ESI\\3CS\\PFE\\last_year\\Code\\MEDfl/notebooks/data/masterDataSet/Mimic_train.csv\n"
     ]
    },
    {
     "data": {
      "text/plain": [
       "1"
      ]
     },
     "execution_count": 5,
     "metadata": {},
     "output_type": "execute_result"
    }
   ],
   "source": [
    "# Create a MasterDataSet from Net_1\n",
    "Net_1.create_master_dataset()\n",
    "\n",
    "# Check if the Network has a masterDataSet Table ( 1: Table exists ; 0: Table doesn't exist)\n",
    "Net_1.mtable_exists"
   ]
  },
  {
   "cell_type": "code",
   "execution_count": 6,
   "metadata": {},
   "outputs": [
    {
     "data": {
      "text/html": [
       "<div>\n",
       "<style scoped>\n",
       "    .dataframe tbody tr th:only-of-type {\n",
       "        vertical-align: middle;\n",
       "    }\n",
       "\n",
       "    .dataframe tbody tr th {\n",
       "        vertical-align: top;\n",
       "    }\n",
       "\n",
       "    .dataframe thead th {\n",
       "        text-align: right;\n",
       "    }\n",
       "</style>\n",
       "<table border=\"1\" class=\"dataframe\">\n",
       "  <thead>\n",
       "    <tr style=\"text-align: right;\">\n",
       "      <th></th>\n",
       "      <th>FLsetupId</th>\n",
       "      <th>name</th>\n",
       "      <th>description</th>\n",
       "      <th>creation_date</th>\n",
       "      <th>NetId</th>\n",
       "      <th>column_name</th>\n",
       "    </tr>\n",
       "  </thead>\n",
       "  <tbody>\n",
       "    <tr>\n",
       "      <th>0</th>\n",
       "      <td>1</td>\n",
       "      <td>Flsetup_1</td>\n",
       "      <td>The first fl setup</td>\n",
       "      <td>2024-02-29 10:59:31</td>\n",
       "      <td>1</td>\n",
       "      <td>None</td>\n",
       "    </tr>\n",
       "  </tbody>\n",
       "</table>\n",
       "</div>"
      ],
      "text/plain": [
       "   FLsetupId       name         description       creation_date  NetId  \\\n",
       "0          1  Flsetup_1  The first fl setup 2024-02-29 10:59:31      1   \n",
       "\n",
       "  column_name  \n",
       "0        None  "
      ]
     },
     "execution_count": 6,
     "metadata": {},
     "output_type": "execute_result"
    }
   ],
   "source": [
    "# auto FLsetup creation\n",
    "autoFl  = FLsetup(name = \"Flsetup_1\", description = \"The first fl setup\",network = Net_1)\n",
    "autoFl.create()\n",
    "\n",
    "# List all setups \n",
    "FLsetup.list_allsetups()"
   ]
  },
  {
   "cell_type": "markdown",
   "metadata": {},
   "source": [
    "# Configuration_1: A Manual network with 5 Nodes \n",
    "This network contains 5 nodes (3 Train nodes and 2 test nodes)"
   ]
  },
  {
   "cell_type": "code",
   "execution_count": 7,
   "metadata": {},
   "outputs": [],
   "source": [
    "# Create 5 nodes \n",
    "hospital_1,hospital_2,hospital_3, hospital_4 , hospital_5 = Node(name = \"hospital_1\", train = 1),Node(name = \"hospital_2\", train = 1),Node(name = \"hospital_3\", train = 1),Node(name = \"hospital_4\", train = 0),Node(name = \"hospital_5\", train = 0)"
   ]
  },
  {
   "cell_type": "code",
   "execution_count": 8,
   "metadata": {},
   "outputs": [],
   "source": [
    "# Assign the 3 nodes to the man_network \n",
    "Net_1.add_node(hospital_1)\n",
    "Net_1.add_node(hospital_2)\n",
    "Net_1.add_node(hospital_3) \n",
    "Net_1.add_node(hospital_4)\n",
    "Net_1.add_node(hospital_5) "
   ]
  },
  {
   "cell_type": "code",
   "execution_count": 9,
   "metadata": {},
   "outputs": [
    {
     "data": {
      "text/html": [
       "<div>\n",
       "<style scoped>\n",
       "    .dataframe tbody tr th:only-of-type {\n",
       "        vertical-align: middle;\n",
       "    }\n",
       "\n",
       "    .dataframe tbody tr th {\n",
       "        vertical-align: top;\n",
       "    }\n",
       "\n",
       "    .dataframe thead th {\n",
       "        text-align: right;\n",
       "    }\n",
       "</style>\n",
       "<table border=\"1\" class=\"dataframe\">\n",
       "  <thead>\n",
       "    <tr style=\"text-align: right;\">\n",
       "      <th></th>\n",
       "      <th>NodeId</th>\n",
       "      <th>NodeName</th>\n",
       "      <th>train</th>\n",
       "      <th>NetId</th>\n",
       "    </tr>\n",
       "  </thead>\n",
       "  <tbody>\n",
       "    <tr>\n",
       "      <th>0</th>\n",
       "      <td>1</td>\n",
       "      <td>hospital_1</td>\n",
       "      <td>1</td>\n",
       "      <td>1</td>\n",
       "    </tr>\n",
       "    <tr>\n",
       "      <th>1</th>\n",
       "      <td>2</td>\n",
       "      <td>hospital_2</td>\n",
       "      <td>1</td>\n",
       "      <td>1</td>\n",
       "    </tr>\n",
       "    <tr>\n",
       "      <th>2</th>\n",
       "      <td>3</td>\n",
       "      <td>hospital_3</td>\n",
       "      <td>1</td>\n",
       "      <td>1</td>\n",
       "    </tr>\n",
       "    <tr>\n",
       "      <th>3</th>\n",
       "      <td>4</td>\n",
       "      <td>hospital_4</td>\n",
       "      <td>0</td>\n",
       "      <td>1</td>\n",
       "    </tr>\n",
       "    <tr>\n",
       "      <th>4</th>\n",
       "      <td>5</td>\n",
       "      <td>hospital_5</td>\n",
       "      <td>0</td>\n",
       "      <td>1</td>\n",
       "    </tr>\n",
       "  </tbody>\n",
       "</table>\n",
       "</div>"
      ],
      "text/plain": [
       "   NodeId    NodeName  train  NetId\n",
       "0       1  hospital_1      1      1\n",
       "1       2  hospital_2      1      1\n",
       "2       3  hospital_3      1      1\n",
       "3       4  hospital_4      0      1\n",
       "4       5  hospital_5      0      1"
      ]
     },
     "execution_count": 9,
     "metadata": {},
     "output_type": "execute_result"
    }
   ],
   "source": [
    "# List all created nodes on the db \n",
    "Node.list_allnodes()"
   ]
  },
  {
   "cell_type": "code",
   "execution_count": 10,
   "metadata": {},
   "outputs": [],
   "source": [
    "# Define the path of the files \n",
    "# Train Data \n",
    "Ds_1 = global_params['base_url']+ '/notebooks/data/config_1/part_1.csv'\n",
    "Ds_2 = global_params['base_url']+ '/notebooks/data/config_1/part_2.csv'\n",
    "Ds_3 = global_params['base_url']+ '/notebooks/data/config_1/part_3.csv'\n",
    "\n",
    "# pload the DataSets \n",
    "hospital_1.upload_dataset( dataset_name = \"hospital_1_dataset\" , path_to_csv=Ds_1  )\n",
    "hospital_2.upload_dataset( dataset_name = \"hospital_2_dataset\" , path_to_csv=Ds_2)\n",
    "hospital_3.upload_dataset( dataset_name = \"hospital_3_dataset\" , path_to_csv=Ds_3 )\n",
    "\n",
    "# Test Data \n",
    "test_1 = global_params['base_url']+ '/notebooks/data/config_1/test_1.csv'\n",
    "test_2 = global_params['base_url']+ '/notebooks/data/config_1/test_2.csv'\n",
    "\n",
    "hospital_4.upload_dataset( dataset_name = \"hospital_2_dataset\" , path_to_csv=test_1)\n",
    "hospital_5.upload_dataset( dataset_name = \"hospital_3_dataset\" , path_to_csv=test_2 )\n",
    "\n",
    "\n"
   ]
  },
  {
   "cell_type": "code",
   "execution_count": 11,
   "metadata": {},
   "outputs": [],
   "source": [
    "# Create FLDataSet\n",
    "fl_dataset = autoFl.create_federated_dataset(\n",
    "    output=\"deceased\", \n",
    "    fit_encode=[], \n",
    "    to_drop=[ \"deceased\" ]\n",
    "    )"
   ]
  },
  {
   "cell_type": "code",
   "execution_count": 12,
   "metadata": {},
   "outputs": [
    {
     "data": {
      "text/plain": [
       "17"
      ]
     },
     "execution_count": 12,
     "metadata": {},
     "output_type": "execute_result"
    }
   ],
   "source": [
    "fl_dataset.size"
   ]
  },
  {
   "cell_type": "code",
   "execution_count": 13,
   "metadata": {},
   "outputs": [
    {
     "data": {
      "text/plain": [
       "[array([[-0.01998201, -0.06637746,  0.1620208 ,  0.16435045, -0.22231124,\n",
       "          0.02275449, -0.02989344, -0.07394345, -0.20134257,  0.17300645,\n",
       "         -0.10637036,  0.09489059, -0.14112763,  0.20875716, -0.04021564,\n",
       "          0.03473768, -0.1064527 ]], dtype=float32),\n",
       " array([0.16902357], dtype=float32)]"
      ]
     },
     "execution_count": 13,
     "metadata": {},
     "output_type": "execute_result"
    }
   ],
   "source": [
    "# Creating a DynamicModel instance\n",
    "dynamic_model = DynamicModel()\n",
    "\n",
    "# Creating a specific model dynamically using DynamicModel\n",
    "specific_model = dynamic_model.create_model(model_type='Logistic Regressor', params_dict={\"input_dim\": 17, \"output_dim\": 1})\n",
    "\n",
    "# Pass the specific_model to the Model class\n",
    "optimizer = optim.SGD(specific_model.parameters(), lr=0.0001)\n",
    "criterion = nn.BCELoss()\n",
    "\n",
    "\n",
    "# Creating a new Model instance using the specific model created by DynamicModel\n",
    "global_model = Model(specific_model, optimizer, criterion)\n",
    "\n",
    "# The modal to be passed to the server\n",
    "global_model.get_parameters()"
   ]
  },
  {
   "cell_type": "code",
   "execution_count": 14,
   "metadata": {},
   "outputs": [],
   "source": [
    "# Define the neural network model using PyTorch\n",
    "class BinaryClassifier(nn.Module):\n",
    "    def __init__(self, input_dim):\n",
    "        super(BinaryClassifier, self).__init__()\n",
    "        self.fc1 = nn.Linear(input_dim, 64)\n",
    "        self.dropout1 = nn.Dropout(0.5)\n",
    "        self.fc2 = nn.Linear(64, 32)\n",
    "        self.dropout2 = nn.Dropout(0.3)\n",
    "        self.output = nn.Linear(32, 1)\n",
    "        self.sigmoid = nn.Sigmoid()\n",
    "\n",
    "    def forward(self, x):\n",
    "        x = torch.relu(self.fc1(x))\n",
    "        x = self.dropout1(x)\n",
    "        x = torch.relu(self.fc2(x))\n",
    "        x = self.dropout2(x)\n",
    "        x = self.output(x)\n",
    "        x = self.sigmoid(x)\n",
    "        return x"
   ]
  },
  {
   "cell_type": "code",
   "execution_count": 15,
   "metadata": {},
   "outputs": [
    {
     "name": "stdout",
     "output_type": "stream",
     "text": [
      "SGD (\n",
      "Parameter Group 0\n",
      "    dampening: 0\n",
      "    differentiable: False\n",
      "    foreach: None\n",
      "    lr: 0.03\n",
      "    maximize: False\n",
      "    momentum: 0\n",
      "    nesterov: False\n",
      "    weight_decay: 0\n",
      ")\n"
     ]
    }
   ],
   "source": [
    "# Load the pretrained model\n",
    "model = Model.load_model(\"../../../notebooks/.ipynb_checkpoints/trainedModels/grid_search_classifier.pth\")\n",
    "\n",
    "\n",
    "# Pass the specific_model to the Model class\n",
    "optimizer = optim.SGD(model.parameters(), lr=0.03)\n",
    "# Define loss function and optimizer\n",
    "pos_weight = torch.tensor(6)\n",
    "criterion = nn.BCEWithLogitsLoss(pos_weight=pos_weight)\n",
    "\n",
    "# Creating a new Model instance using the specific model created by DynamicModel\n",
    "global_model = Model(model, optimizer, criterion)\n",
    "\n",
    "# Get the initial params of the model \n",
    "init_params = global_model.get_parameters() ; \n",
    "\n",
    "print(global_model.optimizer)"
   ]
  },
  {
   "cell_type": "code",
   "execution_count": 16,
   "metadata": {},
   "outputs": [],
   "source": [
    "# Create the strategy\n",
    "fed_avg = Strategy(\"FedAvg\", \n",
    "                   fraction_fit = 1.0 ,\n",
    "                   fraction_evaluate = 1.0,\n",
    "                   min_fit_clients = 2,\n",
    "                   min_evaluate_clients = 2,\n",
    "                   min_available_clients = 2 , \n",
    "                   initial_parameters=global_model.get_parameters())"
   ]
  },
  {
   "cell_type": "code",
   "execution_count": 17,
   "metadata": {},
   "outputs": [],
   "source": [
    "# Create The server \n",
    "server = FlowerServer(global_model, strategy = fed_avg, num_rounds = 10,\n",
    "                       num_clients  = len(fl_dataset.trainloaders), \n",
    "                       fed_dataset = fl_dataset,diff_privacy = False ,\n",
    "                       # You can change the resources alocated for each client based on your machine \n",
    "                       client_resources={'num_cpus': 1.0, 'num_gpus': 0.0}\n",
    "                       )"
   ]
  },
  {
   "cell_type": "code",
   "execution_count": 18,
   "metadata": {},
   "outputs": [],
   "source": [
    "# Create the pipeline \n",
    "ppl_1 = FLpipeline( name =\"the first fl_pipeline\",description = \"this is our first FL pipeline\",\n",
    "                   server = server)"
   ]
  },
  {
   "cell_type": "code",
   "execution_count": 19,
   "metadata": {},
   "outputs": [
    {
     "name": "stderr",
     "output_type": "stream",
     "text": [
      "INFO flwr 2024-02-29 10:59:48,100 | app.py:178 | Starting Flower simulation, config: ServerConfig(num_rounds=10, round_timeout=None)\n",
      "02/29/2024 10:59:48:INFO:Starting Flower simulation, config: ServerConfig(num_rounds=10, round_timeout=None)\n",
      "2024-02-29 10:59:53,305\tINFO worker.py:1621 -- Started a local Ray instance.\n",
      "INFO flwr 2024-02-29 10:59:58,062 | app.py:213 | Flower VCE: Ray initialized with resources: {'memory': 1431733863.0, 'object_store_memory': 78643200.0, 'node:127.0.0.1': 1.0, 'node:__internal_head__': 1.0, 'CPU': 8.0}\n",
      "02/29/2024 10:59:58:INFO:Flower VCE: Ray initialized with resources: {'memory': 1431733863.0, 'object_store_memory': 78643200.0, 'node:127.0.0.1': 1.0, 'node:__internal_head__': 1.0, 'CPU': 8.0}\n",
      "INFO flwr 2024-02-29 10:59:58,065 | app.py:219 | Optimize your simulation with Flower VCE: https://flower.dev/docs/framework/how-to-run-simulations.html\n",
      "02/29/2024 10:59:58:INFO:Optimize your simulation with Flower VCE: https://flower.dev/docs/framework/how-to-run-simulations.html\n",
      "INFO flwr 2024-02-29 10:59:58,071 | app.py:242 | Flower VCE: Resources for each Virtual Client: {'num_cpus': 1.0, 'num_gpus': 0.0}\n",
      "02/29/2024 10:59:58:INFO:Flower VCE: Resources for each Virtual Client: {'num_cpus': 1.0, 'num_gpus': 0.0}\n",
      "INFO flwr 2024-02-29 10:59:58,101 | app.py:288 | Flower VCE: Creating VirtualClientEngineActorPool with 8 actors\n",
      "02/29/2024 10:59:58:INFO:Flower VCE: Creating VirtualClientEngineActorPool with 8 actors\n",
      "INFO flwr 2024-02-29 10:59:58,105 | server.py:89 | Initializing global parameters\n",
      "02/29/2024 10:59:58:INFO:Initializing global parameters\n",
      "INFO flwr 2024-02-29 10:59:58,108 | server.py:272 | Using initial parameters provided by strategy\n",
      "02/29/2024 10:59:58:INFO:Using initial parameters provided by strategy\n",
      "INFO flwr 2024-02-29 10:59:58,111 | server.py:91 | Evaluating initial parameters\n",
      "02/29/2024 10:59:58:INFO:Evaluating initial parameters\n",
      "INFO flwr 2024-02-29 10:59:58,160 | server.py:94 | initial parameters (loss, other metrics): 0.04265355732705858, {'accuracy': 0.85625}\n",
      "02/29/2024 10:59:58:INFO:initial parameters (loss, other metrics): 0.04265355732705858, {'accuracy': 0.85625}\n",
      "INFO flwr 2024-02-29 10:59:58,163 | server.py:104 | FL starting\n",
      "02/29/2024 10:59:58:INFO:FL starting\n",
      "DEBUG flwr 2024-02-29 10:59:58,167 | server.py:222 | fit_round 1: strategy sampled 3 clients (out of 3)\n",
      "02/29/2024 10:59:58:DEBUG:fit_round 1: strategy sampled 3 clients (out of 3)\n"
     ]
    },
    {
     "name": "stdout",
     "output_type": "stream",
     "text": [
      "\n",
      " __________________________________ \n",
      "\n",
      "144\n",
      "Server-side evaluation loss 0.04265355732705858 / accuracy 0.85625\n"
     ]
    },
    {
     "name": "stderr",
     "output_type": "stream",
     "text": [
      "\u001b[2m\u001b[36m(DefaultActor pid=20312)\u001b[0m d:\\ESI\\3CS\\PFE\\last_year\\Code\\MEDfl\\Medfl\\LearningManager\\utils.py:13: DeprecationWarning: \n",
      "\u001b[2m\u001b[36m(DefaultActor pid=20312)\u001b[0m Pyarrow will become a required dependency of pandas in the next major release of pandas (pandas 3.0),\n",
      "\u001b[2m\u001b[36m(DefaultActor pid=20312)\u001b[0m (to allow more performant data types, such as the Arrow string type, and better interoperability with other libraries)\n",
      "\u001b[2m\u001b[36m(DefaultActor pid=20312)\u001b[0m but was not found to be installed on your system.\n",
      "\u001b[2m\u001b[36m(DefaultActor pid=20312)\u001b[0m If this would cause problems for you,\n",
      "\u001b[2m\u001b[36m(DefaultActor pid=20312)\u001b[0m please provide us feedback at https://github.com/pandas-dev/pandas/issues/54466\n",
      "\u001b[2m\u001b[36m(DefaultActor pid=20312)\u001b[0m         \n",
      "\u001b[2m\u001b[36m(DefaultActor pid=20312)\u001b[0m   import pandas as pd\n",
      "\u001b[2m\u001b[36m(DefaultActor pid=20312)\u001b[0m d:\\ESI\\3CS\\PFE\\last_year\\Code\\MEDfl\\Medfl\\LearningManager\\utils.py:19: DeprecationWarning: Use of .. or absolute path in a resource path is not allowed and will raise exceptions in a future release.\n",
      "\u001b[2m\u001b[36m(DefaultActor pid=20312)\u001b[0m   global_yaml_path = pkg_resources.resource_filename(__name__, \"../../global_params.yaml\")\n",
      "\u001b[2m\u001b[36m(DefaultActor pid=20312)\u001b[0m C:\\Users\\HP User\\AppData\\Roaming\\Python\\Python39\\site-packages\\opacus\\privacy_engine.py:142: UserWarning: Secure RNG turned off. This is perfectly fine for experimentation as it allows for much faster training performance, but remember to turn it on and retrain one last time before production with ``secure_mode`` turned on.\n",
      "\u001b[2m\u001b[36m(DefaultActor pid=20312)\u001b[0m   warnings.warn(\n",
      "\u001b[2m\u001b[36m(DefaultActor pid=20312)\u001b[0m C:\\Users\\HP User\\AppData\\Roaming\\Python\\Python39\\site-packages\\flwr\\simulation\\ray_transport\\ray_actor.py:72: DeprecationWarning:  Ensure your client is of type `flwr.client.Client`. Please convert it using the `.to_client()` method before returning it in the `client_fn` you pass to `start_simulation`. We have applied this conversion on your behalf. Not returning a `Client` might trigger an error in future versions of Flower.\n",
      "\u001b[2m\u001b[36m(DefaultActor pid=20312)\u001b[0m   client = check_clientfn_returns_client(client_fn(cid))\n"
     ]
    },
    {
     "name": "stdout",
     "output_type": "stream",
     "text": [
      "\u001b[2m\u001b[36m(DefaultActor pid=20312)\u001b[0m [Client 1] fit, config: {}\n",
      "\u001b[2m\u001b[36m(DefaultActor pid=20312)\u001b[0m \tTrain Epoch: 0 \tLoss: 1.275345 Acc@1: 25.000000\n",
      "\u001b[2m\u001b[36m(DefaultActor pid=20312)\u001b[0m \tTrain Epoch: 0 \tLoss: 1.225714 Acc@1: 30.312500\n",
      "\u001b[2m\u001b[36m(DefaultActor pid=20312)\u001b[0m \tTrain Epoch: 0 \tLoss: 1.246564 Acc@1: 30.729167\n"
     ]
    },
    {
     "name": "stderr",
     "output_type": "stream",
     "text": [
      "DEBUG flwr 2024-02-29 11:00:11,045 | server.py:236 | fit_round 1 received 3 results and 0 failures\n",
      "02/29/2024 11:00:11:DEBUG:fit_round 1 received 3 results and 0 failures\n",
      "WARNING flwr 2024-02-29 11:00:11,051 | fedavg.py:250 | No fit_metrics_aggregation_fn provided\n",
      "02/29/2024 11:00:11:WARNING:No fit_metrics_aggregation_fn provided\n",
      "INFO flwr 2024-02-29 11:00:11,076 | server.py:125 | fit progress: (1, 0.04229231675465902, {'accuracy': 0.85625}, 12.908853600000008)\n",
      "02/29/2024 11:00:11:INFO:fit progress: (1, 0.04229231675465902, {'accuracy': 0.85625}, 12.908853600000008)\n",
      "DEBUG flwr 2024-02-29 11:00:11,078 | server.py:173 | evaluate_round 1: strategy sampled 3 clients (out of 3)\n",
      "02/29/2024 11:00:11:DEBUG:evaluate_round 1: strategy sampled 3 clients (out of 3)\n",
      "DEBUG flwr 2024-02-29 11:00:11,255 | server.py:187 | evaluate_round 1 received 3 results and 0 failures\n"
     ]
    },
    {
     "name": "stdout",
     "output_type": "stream",
     "text": [
      "\n",
      " __________________________________ \n",
      "\n",
      "144\n",
      "Server-side evaluation loss 0.04229231675465902 / accuracy 0.85625\n",
      "\u001b[2m\u001b[36m(DefaultActor pid=20312)\u001b[0m epsilon of client 1 : eps = 0\n",
      "\u001b[2m\u001b[36m(DefaultActor pid=19756)\u001b[0m [Client 1] evaluate, config: {}\n",
      "\u001b[2m\u001b[36m(DefaultActor pid=19756)\u001b[0m \n",
      "\u001b[2m\u001b[36m(DefaultActor pid=19756)\u001b[0m  __________________________________ \n",
      "\u001b[2m\u001b[36m(DefaultActor pid=19756)\u001b[0m \n",
      "\u001b[2m\u001b[36m(DefaultActor pid=19756)\u001b[0m 144\n"
     ]
    },
    {
     "name": "stderr",
     "output_type": "stream",
     "text": [
      "02/29/2024 11:00:11:DEBUG:evaluate_round 1 received 3 results and 0 failures\n",
      "WARNING flwr 2024-02-29 11:00:11,262 | fedavg.py:281 | No evaluate_metrics_aggregation_fn provided\n",
      "02/29/2024 11:00:11:WARNING:No evaluate_metrics_aggregation_fn provided\n",
      "DEBUG flwr 2024-02-29 11:00:11,266 | server.py:222 | fit_round 2: strategy sampled 3 clients (out of 3)\n",
      "02/29/2024 11:00:11:DEBUG:fit_round 2: strategy sampled 3 clients (out of 3)\n",
      "DEBUG flwr 2024-02-29 11:00:13,051 | server.py:236 | fit_round 2 received 3 results and 0 failures\n",
      "02/29/2024 11:00:13:DEBUG:fit_round 2 received 3 results and 0 failures\n",
      "INFO flwr 2024-02-29 11:00:13,079 | server.py:125 | fit progress: (2, 0.04179884990056356, {'accuracy': 0.8625}, 14.912154100000002)\n",
      "02/29/2024 11:00:13:INFO:fit progress: (2, 0.04179884990056356, {'accuracy': 0.8625}, 14.912154100000002)\n",
      "DEBUG flwr 2024-02-29 11:00:13,081 | server.py:173 | evaluate_round 2: strategy sampled 3 clients (out of 3)\n",
      "02/29/2024 11:00:13:DEBUG:evaluate_round 2: strategy sampled 3 clients (out of 3)\n",
      "DEBUG flwr 2024-02-29 11:00:13,163 | server.py:187 | evaluate_round 2 received 3 results and 0 failures\n",
      "02/29/2024 11:00:13:DEBUG:evaluate_round 2 received 3 results and 0 failures\n",
      "DEBUG flwr 2024-02-29 11:00:13,166 | server.py:222 | fit_round 3: strategy sampled 3 clients (out of 3)\n",
      "02/29/2024 11:00:13:DEBUG:fit_round 3: strategy sampled 3 clients (out of 3)\n"
     ]
    },
    {
     "name": "stdout",
     "output_type": "stream",
     "text": [
      "\n",
      " __________________________________ \n",
      "\n",
      "144\n",
      "Server-side evaluation loss 0.04179884990056356 / accuracy 0.8625\n",
      "\u001b[2m\u001b[36m(DefaultActor pid=19756)\u001b[0m [Client 0] fit, config: {}\u001b[32m [repeated 8x across cluster] (Ray deduplicates logs by default. Set RAY_DEDUP_LOGS=0 to disable log deduplication, or see https://docs.ray.io/en/master/ray-observability/ray-logging.html#log-deduplication for more options.)\u001b[0m\n",
      "\u001b[2m\u001b[36m(DefaultActor pid=20312)\u001b[0m \tTrain Epoch: 9 \tLoss: 1.270081 Acc@1: 29.609375\u001b[32m [repeated 593x across cluster]\u001b[0m\n"
     ]
    },
    {
     "name": "stderr",
     "output_type": "stream",
     "text": [
      "DEBUG flwr 2024-02-29 11:00:15,065 | server.py:236 | fit_round 3 received 3 results and 0 failures\n",
      "02/29/2024 11:00:15:DEBUG:fit_round 3 received 3 results and 0 failures\n",
      "INFO flwr 2024-02-29 11:00:15,082 | server.py:125 | fit progress: (3, 0.04179887142446306, {'accuracy': 0.8625}, 16.9145926)\n",
      "02/29/2024 11:00:15:INFO:fit progress: (3, 0.04179887142446306, {'accuracy': 0.8625}, 16.9145926)\n",
      "DEBUG flwr 2024-02-29 11:00:15,085 | server.py:173 | evaluate_round 3: strategy sampled 3 clients (out of 3)\n",
      "02/29/2024 11:00:15:DEBUG:evaluate_round 3: strategy sampled 3 clients (out of 3)\n",
      "DEBUG flwr 2024-02-29 11:00:15,168 | server.py:187 | evaluate_round 3 received 3 results and 0 failures\n",
      "02/29/2024 11:00:15:DEBUG:evaluate_round 3 received 3 results and 0 failures\n",
      "DEBUG flwr 2024-02-29 11:00:15,173 | server.py:222 | fit_round 4: strategy sampled 3 clients (out of 3)\n",
      "02/29/2024 11:00:15:DEBUG:fit_round 4: strategy sampled 3 clients (out of 3)\n"
     ]
    },
    {
     "name": "stdout",
     "output_type": "stream",
     "text": [
      "\n",
      " __________________________________ \n",
      "\n",
      "144\n",
      "Server-side evaluation loss 0.04179887142446306 / accuracy 0.8625\n"
     ]
    },
    {
     "name": "stderr",
     "output_type": "stream",
     "text": [
      "\u001b[2m\u001b[36m(DefaultActor pid=19756)\u001b[0m d:\\ESI\\3CS\\PFE\\last_year\\Code\\MEDfl\\Medfl\\LearningManager\\utils.py:13: DeprecationWarning: \u001b[32m [repeated 2x across cluster]\u001b[0m\n",
      "\u001b[2m\u001b[36m(DefaultActor pid=19756)\u001b[0m Pyarrow will become a required dependency of pandas in the next major release of pandas (pandas 3.0),\u001b[32m [repeated 2x across cluster]\u001b[0m\n",
      "\u001b[2m\u001b[36m(DefaultActor pid=19756)\u001b[0m (to allow more performant data types, such as the Arrow string type, and better interoperability with other libraries)\u001b[32m [repeated 2x across cluster]\u001b[0m\n",
      "\u001b[2m\u001b[36m(DefaultActor pid=19756)\u001b[0m but was not found to be installed on your system.\u001b[32m [repeated 2x across cluster]\u001b[0m\n",
      "\u001b[2m\u001b[36m(DefaultActor pid=19756)\u001b[0m If this would cause problems for you,\u001b[32m [repeated 2x across cluster]\u001b[0m\n",
      "\u001b[2m\u001b[36m(DefaultActor pid=19756)\u001b[0m please provide us feedback at https://github.com/pandas-dev/pandas/issues/54466\u001b[32m [repeated 2x across cluster]\u001b[0m\n",
      "\u001b[2m\u001b[36m(DefaultActor pid=19756)\u001b[0m         \u001b[32m [repeated 2x across cluster]\u001b[0m\n",
      "\u001b[2m\u001b[36m(DefaultActor pid=19756)\u001b[0m   import pandas as pd\u001b[32m [repeated 2x across cluster]\u001b[0m\n",
      "\u001b[2m\u001b[36m(DefaultActor pid=19756)\u001b[0m d:\\ESI\\3CS\\PFE\\last_year\\Code\\MEDfl\\Medfl\\LearningManager\\utils.py:19: DeprecationWarning: Use of .. or absolute path in a resource path is not allowed and will raise exceptions in a future release.\u001b[32m [repeated 2x across cluster]\u001b[0m\n",
      "\u001b[2m\u001b[36m(DefaultActor pid=19756)\u001b[0m   global_yaml_path = pkg_resources.resource_filename(__name__, \"../../global_params.yaml\")\u001b[32m [repeated 2x across cluster]\u001b[0m\n",
      "\u001b[2m\u001b[36m(DefaultActor pid=20312)\u001b[0m C:\\Users\\HP User\\AppData\\Roaming\\Python\\Python39\\site-packages\\opacus\\privacy_engine.py:142: UserWarning: Secure RNG turned off. This is perfectly fine for experimentation as it allows for much faster training performance, but remember to turn it on and retrain one last time before production with ``secure_mode`` turned on.\u001b[32m [repeated 9x across cluster]\u001b[0m\n",
      "\u001b[2m\u001b[36m(DefaultActor pid=20312)\u001b[0m   warnings.warn(\u001b[32m [repeated 9x across cluster]\u001b[0m\n",
      "\u001b[2m\u001b[36m(DefaultActor pid=20312)\u001b[0m C:\\Users\\HP User\\AppData\\Roaming\\Python\\Python39\\site-packages\\flwr\\simulation\\ray_transport\\ray_actor.py:72: DeprecationWarning:  Ensure your client is of type `flwr.client.Client`. Please convert it using the `.to_client()` method before returning it in the `client_fn` you pass to `start_simulation`. We have applied this conversion on your behalf. Not returning a `Client` might trigger an error in future versions of Flower.\u001b[32m [repeated 9x across cluster]\u001b[0m\n",
      "\u001b[2m\u001b[36m(DefaultActor pid=20312)\u001b[0m   client = check_clientfn_returns_client(client_fn(cid))\u001b[32m [repeated 9x across cluster]\u001b[0m\n"
     ]
    },
    {
     "name": "stdout",
     "output_type": "stream",
     "text": [
      "\u001b[2m\u001b[36m(DefaultActor pid=19756)\u001b[0m epsilon of client 0 : eps = 0\u001b[32m [repeated 8x across cluster]\u001b[0m\n",
      "\u001b[2m\u001b[36m(DefaultActor pid=19756)\u001b[0m [Client 2] evaluate, config: {}\u001b[32m [repeated 8x across cluster]\u001b[0m\n",
      "\u001b[2m\u001b[36m(DefaultActor pid=19756)\u001b[0m \u001b[32m [repeated 25x across cluster]\u001b[0m\n",
      "\u001b[2m\u001b[36m(DefaultActor pid=19756)\u001b[0m  __________________________________ \u001b[32m [repeated 8x across cluster]\u001b[0m\n"
     ]
    },
    {
     "name": "stderr",
     "output_type": "stream",
     "text": [
      "DEBUG flwr 2024-02-29 11:00:17,139 | server.py:236 | fit_round 4 received 3 results and 0 failures\n",
      "02/29/2024 11:00:17:DEBUG:fit_round 4 received 3 results and 0 failures\n",
      "INFO flwr 2024-02-29 11:00:17,164 | server.py:125 | fit progress: (4, 0.0417988465891944, {'accuracy': 0.8625}, 18.997027800000005)\n",
      "02/29/2024 11:00:17:INFO:fit progress: (4, 0.0417988465891944, {'accuracy': 0.8625}, 18.997027800000005)\n",
      "DEBUG flwr 2024-02-29 11:00:17,168 | server.py:173 | evaluate_round 4: strategy sampled 3 clients (out of 3)\n",
      "02/29/2024 11:00:17:DEBUG:evaluate_round 4: strategy sampled 3 clients (out of 3)\n",
      "DEBUG flwr 2024-02-29 11:00:17,235 | server.py:187 | evaluate_round 4 received 3 results and 0 failures\n",
      "02/29/2024 11:00:17:DEBUG:evaluate_round 4 received 3 results and 0 failures\n",
      "DEBUG flwr 2024-02-29 11:00:17,238 | server.py:222 | fit_round 5: strategy sampled 3 clients (out of 3)\n",
      "02/29/2024 11:00:17:DEBUG:fit_round 5: strategy sampled 3 clients (out of 3)\n"
     ]
    },
    {
     "name": "stdout",
     "output_type": "stream",
     "text": [
      "\n",
      " __________________________________ \n",
      "\n",
      "144\n",
      "Server-side evaluation loss 0.0417988465891944 / accuracy 0.8625\n"
     ]
    },
    {
     "name": "stderr",
     "output_type": "stream",
     "text": [
      "DEBUG flwr 2024-02-29 11:00:19,070 | server.py:236 | fit_round 5 received 3 results and 0 failures\n",
      "02/29/2024 11:00:19:DEBUG:fit_round 5 received 3 results and 0 failures\n",
      "INFO flwr 2024-02-29 11:00:19,091 | server.py:125 | fit progress: (5, 0.0417988465891944, {'accuracy': 0.8625}, 20.92395960000001)\n",
      "02/29/2024 11:00:19:INFO:fit progress: (5, 0.0417988465891944, {'accuracy': 0.8625}, 20.92395960000001)\n",
      "DEBUG flwr 2024-02-29 11:00:19,093 | server.py:173 | evaluate_round 5: strategy sampled 3 clients (out of 3)\n",
      "02/29/2024 11:00:19:DEBUG:evaluate_round 5: strategy sampled 3 clients (out of 3)\n",
      "DEBUG flwr 2024-02-29 11:00:19,161 | server.py:187 | evaluate_round 5 received 3 results and 0 failures\n",
      "02/29/2024 11:00:19:DEBUG:evaluate_round 5 received 3 results and 0 failures\n",
      "DEBUG flwr 2024-02-29 11:00:19,165 | server.py:222 | fit_round 6: strategy sampled 3 clients (out of 3)\n",
      "02/29/2024 11:00:19:DEBUG:fit_round 6: strategy sampled 3 clients (out of 3)\n"
     ]
    },
    {
     "name": "stdout",
     "output_type": "stream",
     "text": [
      "\n",
      " __________________________________ \n",
      "\n",
      "144\n",
      "Server-side evaluation loss 0.0417988465891944 / accuracy 0.8625\n",
      "\u001b[2m\u001b[36m(DefaultActor pid=20312)\u001b[0m [Client 1] fit, config: {}\u001b[32m [repeated 7x across cluster]\u001b[0m\n",
      "\u001b[2m\u001b[36m(DefaultActor pid=19756)\u001b[0m \tTrain Epoch: 19 \tLoss: 1.240339 Acc@1: 23.281250\u001b[32m [repeated 604x across cluster]\u001b[0m\n"
     ]
    },
    {
     "name": "stderr",
     "output_type": "stream",
     "text": [
      "DEBUG flwr 2024-02-29 11:00:20,865 | server.py:236 | fit_round 6 received 3 results and 0 failures\n",
      "02/29/2024 11:00:20:DEBUG:fit_round 6 received 3 results and 0 failures\n",
      "INFO flwr 2024-02-29 11:00:20,887 | server.py:125 | fit progress: (6, 0.04179463783899943, {'accuracy': 0.8625}, 22.7200566)\n",
      "02/29/2024 11:00:20:INFO:fit progress: (6, 0.04179463783899943, {'accuracy': 0.8625}, 22.7200566)\n",
      "DEBUG flwr 2024-02-29 11:00:20,890 | server.py:173 | evaluate_round 6: strategy sampled 3 clients (out of 3)\n",
      "02/29/2024 11:00:20:DEBUG:evaluate_round 6: strategy sampled 3 clients (out of 3)\n",
      "DEBUG flwr 2024-02-29 11:00:20,944 | server.py:187 | evaluate_round 6 received 3 results and 0 failures\n",
      "02/29/2024 11:00:20:DEBUG:evaluate_round 6 received 3 results and 0 failures\n",
      "DEBUG flwr 2024-02-29 11:00:20,946 | server.py:222 | fit_round 7: strategy sampled 3 clients (out of 3)\n",
      "02/29/2024 11:00:20:DEBUG:fit_round 7: strategy sampled 3 clients (out of 3)\n",
      "\u001b[2m\u001b[36m(DefaultActor pid=20312)\u001b[0m C:\\Users\\HP User\\AppData\\Roaming\\Python\\Python39\\site-packages\\opacus\\privacy_engine.py:142: UserWarning: Secure RNG turned off. This is perfectly fine for experimentation as it allows for much faster training performance, but remember to turn it on and retrain one last time before production with ``secure_mode`` turned on.\u001b[32m [repeated 9x across cluster]\u001b[0m\n",
      "\u001b[2m\u001b[36m(DefaultActor pid=20312)\u001b[0m   warnings.warn(\u001b[32m [repeated 9x across cluster]\u001b[0m\n",
      "\u001b[2m\u001b[36m(DefaultActor pid=20312)\u001b[0m C:\\Users\\HP User\\AppData\\Roaming\\Python\\Python39\\site-packages\\flwr\\simulation\\ray_transport\\ray_actor.py:72: DeprecationWarning:  Ensure your client is of type `flwr.client.Client`. Please convert it using the `.to_client()` method before returning it in the `client_fn` you pass to `start_simulation`. We have applied this conversion on your behalf. Not returning a `Client` might trigger an error in future versions of Flower.\u001b[32m [repeated 9x across cluster]\u001b[0m\n",
      "\u001b[2m\u001b[36m(DefaultActor pid=20312)\u001b[0m   client = check_clientfn_returns_client(client_fn(cid))\u001b[32m [repeated 9x across cluster]\u001b[0m\n"
     ]
    },
    {
     "name": "stdout",
     "output_type": "stream",
     "text": [
      "\n",
      " __________________________________ \n",
      "\n",
      "144\n",
      "Server-side evaluation loss 0.04179463783899943 / accuracy 0.8625\n",
      "\u001b[2m\u001b[36m(DefaultActor pid=19756)\u001b[0m epsilon of client 0 : eps = 0\u001b[32m [repeated 9x across cluster]\u001b[0m\n",
      "\u001b[2m\u001b[36m(DefaultActor pid=19756)\u001b[0m [Client 1] evaluate, config: {}\u001b[32m [repeated 9x across cluster]\u001b[0m\n",
      "\u001b[2m\u001b[36m(DefaultActor pid=19756)\u001b[0m 144\u001b[32m [repeated 28x across cluster]\u001b[0m\n",
      "\u001b[2m\u001b[36m(DefaultActor pid=19756)\u001b[0m  __________________________________ \u001b[32m [repeated 9x across cluster]\u001b[0m\n"
     ]
    },
    {
     "name": "stderr",
     "output_type": "stream",
     "text": [
      "DEBUG flwr 2024-02-29 11:00:22,967 | server.py:236 | fit_round 7 received 3 results and 0 failures\n",
      "02/29/2024 11:00:22:DEBUG:fit_round 7 received 3 results and 0 failures\n",
      "INFO flwr 2024-02-29 11:00:22,987 | server.py:125 | fit progress: (7, 0.040223994188838534, {'accuracy': 0.86875}, 24.820245700000008)\n",
      "02/29/2024 11:00:22:INFO:fit progress: (7, 0.040223994188838534, {'accuracy': 0.86875}, 24.820245700000008)\n",
      "DEBUG flwr 2024-02-29 11:00:22,991 | server.py:173 | evaluate_round 7: strategy sampled 3 clients (out of 3)\n",
      "02/29/2024 11:00:22:DEBUG:evaluate_round 7: strategy sampled 3 clients (out of 3)\n",
      "DEBUG flwr 2024-02-29 11:00:23,067 | server.py:187 | evaluate_round 7 received 3 results and 0 failures\n",
      "02/29/2024 11:00:23:DEBUG:evaluate_round 7 received 3 results and 0 failures\n",
      "DEBUG flwr 2024-02-29 11:00:23,071 | server.py:222 | fit_round 8: strategy sampled 3 clients (out of 3)\n",
      "02/29/2024 11:00:23:DEBUG:fit_round 8: strategy sampled 3 clients (out of 3)\n"
     ]
    },
    {
     "name": "stdout",
     "output_type": "stream",
     "text": [
      "\n",
      " __________________________________ \n",
      "\n",
      "144\n",
      "Server-side evaluation loss 0.040223994188838534 / accuracy 0.86875\n",
      "\u001b[2m\u001b[36m(DefaultActor pid=19756)\u001b[0m [Client 1] fit, config: {}\u001b[32m [repeated 8x across cluster]\u001b[0m\n",
      "\u001b[2m\u001b[36m(DefaultActor pid=19756)\u001b[0m \tTrain Epoch: 10 \tLoss: 1.412366 Acc@1: 82.500000\u001b[32m [repeated 606x across cluster]\u001b[0m\n"
     ]
    },
    {
     "name": "stderr",
     "output_type": "stream",
     "text": [
      "DEBUG flwr 2024-02-29 11:00:25,198 | server.py:236 | fit_round 8 received 3 results and 0 failures\n",
      "02/29/2024 11:00:25:DEBUG:fit_round 8 received 3 results and 0 failures\n",
      "INFO flwr 2024-02-29 11:00:25,226 | server.py:125 | fit progress: (8, 0.04030641830629773, {'accuracy': 0.85625}, 27.05949110000001)\n",
      "02/29/2024 11:00:25:INFO:fit progress: (8, 0.04030641830629773, {'accuracy': 0.85625}, 27.05949110000001)\n",
      "DEBUG flwr 2024-02-29 11:00:25,229 | server.py:173 | evaluate_round 8: strategy sampled 3 clients (out of 3)\n",
      "02/29/2024 11:00:25:DEBUG:evaluate_round 8: strategy sampled 3 clients (out of 3)\n",
      "DEBUG flwr 2024-02-29 11:00:25,294 | server.py:187 | evaluate_round 8 received 3 results and 0 failures\n",
      "02/29/2024 11:00:25:DEBUG:evaluate_round 8 received 3 results and 0 failures\n",
      "DEBUG flwr 2024-02-29 11:00:25,296 | server.py:222 | fit_round 9: strategy sampled 3 clients (out of 3)\n",
      "02/29/2024 11:00:25:DEBUG:fit_round 9: strategy sampled 3 clients (out of 3)\n"
     ]
    },
    {
     "name": "stdout",
     "output_type": "stream",
     "text": [
      "\n",
      " __________________________________ \n",
      "\n",
      "144\n",
      "Server-side evaluation loss 0.04030641830629773 / accuracy 0.85625\n",
      "\u001b[2m\u001b[36m(DefaultActor pid=19756)\u001b[0m epsilon of client 1 : eps = 0\u001b[32m [repeated 6x across cluster]\u001b[0m\n",
      "\u001b[2m\u001b[36m(DefaultActor pid=19756)\u001b[0m [Client 0] evaluate, config: {}\u001b[32m [repeated 6x across cluster]\u001b[0m\n",
      "\u001b[2m\u001b[36m(DefaultActor pid=19756)\u001b[0m 144\u001b[32m [repeated 19x across cluster]\u001b[0m\n",
      "\u001b[2m\u001b[36m(DefaultActor pid=19756)\u001b[0m  __________________________________ \u001b[32m [repeated 6x across cluster]\u001b[0m\n"
     ]
    },
    {
     "name": "stderr",
     "output_type": "stream",
     "text": [
      "DEBUG flwr 2024-02-29 11:00:27,302 | server.py:236 | fit_round 9 received 3 results and 0 failures\n",
      "02/29/2024 11:00:27:DEBUG:fit_round 9 received 3 results and 0 failures\n",
      "INFO flwr 2024-02-29 11:00:27,320 | server.py:125 | fit progress: (9, 0.04058406419224209, {'accuracy': 0.86875}, 29.154124900000006)\n",
      "02/29/2024 11:00:27:INFO:fit progress: (9, 0.04058406419224209, {'accuracy': 0.86875}, 29.154124900000006)\n",
      "DEBUG flwr 2024-02-29 11:00:27,324 | server.py:173 | evaluate_round 9: strategy sampled 3 clients (out of 3)\n",
      "02/29/2024 11:00:27:DEBUG:evaluate_round 9: strategy sampled 3 clients (out of 3)\n",
      "DEBUG flwr 2024-02-29 11:00:27,411 | server.py:187 | evaluate_round 9 received 3 results and 0 failures\n",
      "02/29/2024 11:00:27:DEBUG:evaluate_round 9 received 3 results and 0 failures\n",
      "DEBUG flwr 2024-02-29 11:00:27,414 | server.py:222 | fit_round 10: strategy sampled 3 clients (out of 3)\n",
      "02/29/2024 11:00:27:DEBUG:fit_round 10: strategy sampled 3 clients (out of 3)\n"
     ]
    },
    {
     "name": "stdout",
     "output_type": "stream",
     "text": [
      "\n",
      " __________________________________ \n",
      "\n",
      "144\n",
      "Server-side evaluation loss 0.04058406419224209 / accuracy 0.86875\n"
     ]
    },
    {
     "name": "stderr",
     "output_type": "stream",
     "text": [
      "\u001b[2m\u001b[36m(DefaultActor pid=20312)\u001b[0m C:\\Users\\HP User\\AppData\\Roaming\\Python\\Python39\\site-packages\\opacus\\privacy_engine.py:142: UserWarning: Secure RNG turned off. This is perfectly fine for experimentation as it allows for much faster training performance, but remember to turn it on and retrain one last time before production with ``secure_mode`` turned on.\u001b[32m [repeated 9x across cluster]\u001b[0m\n",
      "\u001b[2m\u001b[36m(DefaultActor pid=20312)\u001b[0m   warnings.warn(\u001b[32m [repeated 9x across cluster]\u001b[0m\n",
      "\u001b[2m\u001b[36m(DefaultActor pid=20312)\u001b[0m C:\\Users\\HP User\\AppData\\Roaming\\Python\\Python39\\site-packages\\flwr\\simulation\\ray_transport\\ray_actor.py:72: DeprecationWarning:  Ensure your client is of type `flwr.client.Client`. Please convert it using the `.to_client()` method before returning it in the `client_fn` you pass to `start_simulation`. We have applied this conversion on your behalf. Not returning a `Client` might trigger an error in future versions of Flower.\u001b[32m [repeated 9x across cluster]\u001b[0m\n",
      "\u001b[2m\u001b[36m(DefaultActor pid=20312)\u001b[0m   client = check_clientfn_returns_client(client_fn(cid))\u001b[32m [repeated 9x across cluster]\u001b[0m\n",
      "DEBUG flwr 2024-02-29 11:00:29,111 | server.py:236 | fit_round 10 received 3 results and 0 failures\n",
      "02/29/2024 11:00:29:DEBUG:fit_round 10 received 3 results and 0 failures\n",
      "INFO flwr 2024-02-29 11:00:29,129 | server.py:125 | fit progress: (10, 0.03999849905570348, {'accuracy': 0.8625}, 30.9621407)\n",
      "02/29/2024 11:00:29:INFO:fit progress: (10, 0.03999849905570348, {'accuracy': 0.8625}, 30.9621407)\n",
      "DEBUG flwr 2024-02-29 11:00:29,131 | server.py:173 | evaluate_round 10: strategy sampled 3 clients (out of 3)\n",
      "02/29/2024 11:00:29:DEBUG:evaluate_round 10: strategy sampled 3 clients (out of 3)\n",
      "DEBUG flwr 2024-02-29 11:00:29,192 | server.py:187 | evaluate_round 10 received 3 results and 0 failures\n",
      "02/29/2024 11:00:29:DEBUG:evaluate_round 10 received 3 results and 0 failures\n",
      "INFO flwr 2024-02-29 11:00:29,201 | server.py:153 | FL finished in 31.033473800000003\n",
      "02/29/2024 11:00:29:INFO:FL finished in 31.033473800000003\n",
      "INFO flwr 2024-02-29 11:00:29,207 | app.py:226 | app_fit: losses_distributed [(1, 0.04411355254274828), (2, 0.043949063591383127), (3, 0.04394907076601629), (4, 0.043873895787530474), (5, 0.043753874108747204), (6, 0.043752471192015537), (7, 0.042523335803438124), (8, 0.04247475939768332), (9, 0.043243426001734205), (10, 0.042177815818124346)]\n",
      "02/29/2024 11:00:29:INFO:app_fit: losses_distributed [(1, 0.04411355254274828), (2, 0.043949063591383127), (3, 0.04394907076601629), (4, 0.043873895787530474), (5, 0.043753874108747204), (6, 0.043752471192015537), (7, 0.042523335803438124), (8, 0.04247475939768332), (9, 0.043243426001734205), (10, 0.042177815818124346)]\n",
      "INFO flwr 2024-02-29 11:00:29,211 | app.py:227 | app_fit: metrics_distributed_fit {}\n",
      "02/29/2024 11:00:29:INFO:app_fit: metrics_distributed_fit {}\n",
      "INFO flwr 2024-02-29 11:00:29,215 | app.py:228 | app_fit: metrics_distributed {}\n",
      "02/29/2024 11:00:29:INFO:app_fit: metrics_distributed {}\n",
      "INFO flwr 2024-02-29 11:00:29,218 | app.py:229 | app_fit: losses_centralized [(0, 0.04265355732705858), (1, 0.04229231675465902), (2, 0.04179884990056356), (3, 0.04179887142446306), (4, 0.0417988465891944), (5, 0.0417988465891944), (6, 0.04179463783899943), (7, 0.040223994188838534), (8, 0.04030641830629773), (9, 0.04058406419224209), (10, 0.03999849905570348)]\n",
      "02/29/2024 11:00:29:INFO:app_fit: losses_centralized [(0, 0.04265355732705858), (1, 0.04229231675465902), (2, 0.04179884990056356), (3, 0.04179887142446306), (4, 0.0417988465891944), (5, 0.0417988465891944), (6, 0.04179463783899943), (7, 0.040223994188838534), (8, 0.04030641830629773), (9, 0.04058406419224209), (10, 0.03999849905570348)]\n",
      "INFO flwr 2024-02-29 11:00:29,221 | app.py:230 | app_fit: metrics_centralized {'accuracy': [(0, 0.85625), (1, 0.85625), (2, 0.8625), (3, 0.8625), (4, 0.8625), (5, 0.8625), (6, 0.8625), (7, 0.86875), (8, 0.85625), (9, 0.86875), (10, 0.8625)]}\n",
      "02/29/2024 11:00:29:INFO:app_fit: metrics_centralized {'accuracy': [(0, 0.85625), (1, 0.85625), (2, 0.8625), (3, 0.8625), (4, 0.8625), (5, 0.8625), (6, 0.8625), (7, 0.86875), (8, 0.85625), (9, 0.86875), (10, 0.8625)]}\n"
     ]
    },
    {
     "name": "stdout",
     "output_type": "stream",
     "text": [
      "\n",
      " __________________________________ \n",
      "\n",
      "144\n",
      "Server-side evaluation loss 0.03999849905570348 / accuracy 0.8625\n"
     ]
    }
   ],
   "source": [
    "# Run the Traning of the model\n",
    "history = ppl_1.server.run()"
   ]
  },
  {
   "cell_type": "code",
   "execution_count": 20,
   "metadata": {},
   "outputs": [
    {
     "data": {
      "image/png": "[encoded data removed]",
      "text/plain": [
       "<Figure size 800x600 with 1 Axes>"
      ]
     },
     "metadata": {},
     "output_type": "display_data"
    }
   ],
   "source": [
    "# Make some plots \n",
    "global_accuracy,global_loss = ppl_1.server.accuracies,ppl_1.server.losses\n",
    "results_dict = {\n",
    "    ('LR: 0.001, Optimizer: SGD', 'accuracy'): global_accuracy,\n",
    "    ('LR: 0.001, Optimizer: SGD', 'loss'): global_loss\n",
    "}\n",
    "plotter = AccuracyLossPlotter(results_dict)\n",
    "\n",
    "plotter.plot_accuracy_loss()"
   ]
  },
  {
   "cell_type": "code",
   "execution_count": 21,
   "metadata": {},
   "outputs": [
    {
     "data": {
      "text/plain": [
       "[{'node_name': 'hospital_1',\n",
       "  'classification_report': \"{'confusion matrix': {'TP': 20, 'FP': 28, 'FN': 45, 'TN': 265}, 'Accuracy': 0.796, 'Sensitivity/Recall': 0.308, 'Specificity': 0.904, 'PPV/Precision': 0.417, 'NPV': 0.855, 'F1-score': 0.354, 'False positive rate': 0.096, 'True positive rate': 0.308}\"},\n",
       " {'node_name': 'hospital_2',\n",
       "  'classification_report': \"{'confusion matrix': {'TP': 18, 'FP': 26, 'FN': 39, 'TN': 275}, 'Accuracy': 0.818, 'Sensitivity/Recall': 0.316, 'Specificity': 0.914, 'PPV/Precision': 0.409, 'NPV': 0.876, 'F1-score': 0.356, 'False positive rate': 0.086, 'True positive rate': 0.316}\"},\n",
       " {'node_name': 'hospital_3',\n",
       "  'classification_report': \"{'confusion matrix': {'TP': 28, 'FP': 16, 'FN': 43, 'TN': 272}, 'Accuracy': 0.836, 'Sensitivity/Recall': 0.394, 'Specificity': 0.944, 'PPV/Precision': 0.636, 'NPV': 0.863, 'F1-score': 0.487, 'False positive rate': 0.056, 'True positive rate': 0.394}\"},\n",
       " {'node_name': 'hospital_4',\n",
       "  'classification_report': \"{'confusion matrix': {'TP': 90, 'FP': 129, 'FN': 197, 'TN': 1374}, 'Accuracy': 0.818, 'Sensitivity/Recall': 0.314, 'Specificity': 0.914, 'PPV/Precision': 0.411, 'NPV': 0.875, 'F1-score': 0.356, 'False positive rate': 0.086, 'True positive rate': 0.314}\"},\n",
       " {'node_name': 'hospital_5',\n",
       "  'classification_report': \"{'confusion matrix': {'TP': 102, 'FP': 134, 'FN': 213, 'TN': 1342}, 'Accuracy': 0.806, 'Sensitivity/Recall': 0.324, 'Specificity': 0.909, 'PPV/Precision': 0.432, 'NPV': 0.863, 'F1-score': 0.37, 'False positive rate': 0.091, 'True positive rate': 0.324}\"}]"
      ]
     },
     "execution_count": 21,
     "metadata": {},
     "output_type": "execute_result"
    }
   ],
   "source": [
    "# Test the Modal on the Test nodes and store the results on the DB\n",
    "ppl_1.auto_test()"
   ]
  },
  {
   "cell_type": "code",
   "execution_count": 22,
   "metadata": {},
   "outputs": [
    {
     "data": {
      "image/png": "[encoded data removed]",
      "text/plain": [
       "<Figure size 600x400 with 2 Axes>"
      ]
     },
     "metadata": {},
     "output_type": "display_data"
    }
   ],
   "source": [
    "# Plot the Global confusion Matrix of the pipiline \"the first fl_pipeline\"\n",
    "AccuracyLossPlotter.plot_global_confusion_matrix(pipeline_name=\"the first fl_pipeline\")"
   ]
  },
  {
   "cell_type": "code",
   "execution_count": 23,
   "metadata": {},
   "outputs": [
    {
     "data": {
      "image/png": "[encoded data removed]",
      "text/plain": [
       "<Figure size 1200x600 with 1 Axes>"
      ]
     },
     "metadata": {},
     "output_type": "display_data"
    }
   ],
   "source": [
    "AccuracyLossPlotter.plot_classification_report(pipeline_name=\"the first fl_pipeline\")"
   ]
  }
 ],
 "metadata": {
  "kernelspec": {
   "display_name": "Python 3",
   "language": "python",
   "name": "python3"
  },
  "language_info": {
   "codemirror_mode": {
    "name": "ipython",
    "version": 3
   },
   "file_extension": ".py",
   "mimetype": "text/x-python",
   "name": "python",
   "nbconvert_exporter": "python",
   "pygments_lexer": "ipython3",
   "version": "3.9.4"
  }
 },
 "nbformat": 4,
 "nbformat_minor": 2
}
