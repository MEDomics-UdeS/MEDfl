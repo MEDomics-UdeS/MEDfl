{
 "cells": [
  {
   "cell_type": "markdown",
   "metadata": {},
   "source": [
    "This is the banchmarking of the network architecture "
   ]
  },
  {
   "cell_type": "code",
   "execution_count": 1,
   "metadata": {},
   "outputs": [],
   "source": [
    "from MEDfl.LearningManager.utils import global_params\n",
    "\n",
    "import sys\n",
    "sys.path.append(global_params['base_url'])\n",
    "\n",
    "import os\n",
    "os.environ['PYTHONPATH'] = global_params['base_url']"
   ]
  },
  {
   "cell_type": "code",
   "execution_count": 2,
   "metadata": {},
   "outputs": [
    {
     "name": "stderr",
     "output_type": "stream",
     "text": [
      "2024-02-21 15:10:01.818369: I tensorflow/core/platform/cpu_feature_guard.cc:182] This TensorFlow binary is optimized to use available CPU instructions in performance-critical operations.\n",
      "To enable the following instructions: AVX2 FMA, in other operations, rebuild TensorFlow with the appropriate compiler flags.\n"
     ]
    }
   ],
   "source": [
    "import mysql.connector\n",
    "import pandas as pd\n",
    "from sqlalchemy import create_engine,text\n",
    "\n",
    "# Torch imports\n",
    "import torch\n",
    "import torch.nn as nn\n",
    "import torch.optim as optim\n",
    "\n",
    "## MEDfl Imports \n",
    "## Network Manager Imports \n",
    "from MEDfl.NetManager.node import Node\n",
    "from MEDfl.NetManager.network import Network\n",
    "from MEDfl.NetManager.dataset import DataSet\n",
    "from MEDfl.NetManager.flsetup import FLsetup\n",
    "\n",
    "# flower imports \n",
    "import flwr as fl\n",
    "\n",
    "## Learning Manager imports \n",
    "from MEDfl.LearningManager.dynamicModal import DynamicModel\n",
    "from MEDfl.LearningManager.model import Model\n",
    "from MEDfl.LearningManager.strategy import Strategy\n",
    "from MEDfl.LearningManager.server import *\n",
    "from MEDfl.LearningManager.flpipeline import *\n",
    "from MEDfl.LearningManager.plot import AccuracyLossPlotter\n",
    "\n",
    "\n",
    "\n",
    "# Utils\n",
    "from MEDfl.LearningManager.utils import *\n"
   ]
  },
  {
   "cell_type": "code",
   "execution_count": 3,
   "metadata": {},
   "outputs": [],
   "source": [
    "# DB Creation \n",
    "!python3 ../../../scripts/create_db.py\n",
    "\n",
    "# clearn DB \n",
    "# empty_db()"
   ]
  },
  {
   "cell_type": "code",
   "execution_count": 4,
   "metadata": {},
   "outputs": [
    {
     "name": "stderr",
     "output_type": "stream",
     "text": [
      "/home/local/USHERBROOKE/saho6810/.local/lib/python3.8/site-packages/pandas/io/sql.py:1761: RemovedIn20Warning: Deprecated API features detected! These feature(s) are not compatible with SQLAlchemy 2.0. To prevent incompatible upgrades prior to updating applications, ensure requirements files are pinned to \"sqlalchemy<2.0\". Set environment variable SQLALCHEMY_WARN_20=1 to show all deprecation warnings.  Set environment variable SQLALCHEMY_SILENCE_UBER_WARNING=1 to silence this message. (Background on SQLAlchemy 2.0 at: https://sqlalche.me/e/b8d9)\n",
      "  return insp.has_table(name, schema or self.meta.schema)\n"
     ]
    },
    {
     "data": {
      "text/plain": [
       "'manual_network'"
      ]
     },
     "execution_count": 4,
     "metadata": {},
     "output_type": "execute_result"
    }
   ],
   "source": [
    "# Create a nest work \"Net_1\"\n",
    "Net_1 = Network(name=\"manual_network\")\n",
    "Net_1.create_network()\n",
    "\n",
    "Net_1.name"
   ]
  },
  {
   "cell_type": "code",
   "execution_count": 5,
   "metadata": {},
   "outputs": [
    {
     "name": "stdout",
     "output_type": "stream",
     "text": [
      "/home/local/USHERBROOKE/saho6810/MEDfl/code/MEDfl/notebooks/data/masterDataSet/Mimic_train.csv\n"
     ]
    },
    {
     "data": {
      "text/plain": [
       "1"
      ]
     },
     "execution_count": 5,
     "metadata": {},
     "output_type": "execute_result"
    }
   ],
   "source": [
    "# Create a MasterDataSet from Net_1\n",
    "Net_1.create_master_dataset()\n",
    "\n",
    "# Check if the Network has a masterDataSet Table ( 1: Table exists ; 0: Table doesn't exist)\n",
    "Net_1.mtable_exists"
   ]
  },
  {
   "cell_type": "code",
   "execution_count": 6,
   "metadata": {},
   "outputs": [
    {
     "data": {
      "text/html": [
       "<div>\n",
       "<style scoped>\n",
       "    .dataframe tbody tr th:only-of-type {\n",
       "        vertical-align: middle;\n",
       "    }\n",
       "\n",
       "    .dataframe tbody tr th {\n",
       "        vertical-align: top;\n",
       "    }\n",
       "\n",
       "    .dataframe thead th {\n",
       "        text-align: right;\n",
       "    }\n",
       "</style>\n",
       "<table border=\"1\" class=\"dataframe\">\n",
       "  <thead>\n",
       "    <tr style=\"text-align: right;\">\n",
       "      <th></th>\n",
       "      <th>FLsetupId</th>\n",
       "      <th>name</th>\n",
       "      <th>description</th>\n",
       "      <th>creation_date</th>\n",
       "      <th>NetId</th>\n",
       "      <th>column_name</th>\n",
       "    </tr>\n",
       "  </thead>\n",
       "  <tbody>\n",
       "    <tr>\n",
       "      <th>0</th>\n",
       "      <td>1</td>\n",
       "      <td>Flsetup_1</td>\n",
       "      <td>The first fl setup</td>\n",
       "      <td>2024-02-21 15:10:17</td>\n",
       "      <td>1</td>\n",
       "      <td>None</td>\n",
       "    </tr>\n",
       "  </tbody>\n",
       "</table>\n",
       "</div>"
      ],
      "text/plain": [
       "   FLsetupId       name         description       creation_date  NetId  \\\n",
       "0          1  Flsetup_1  The first fl setup 2024-02-21 15:10:17      1   \n",
       "\n",
       "  column_name  \n",
       "0        None  "
      ]
     },
     "execution_count": 6,
     "metadata": {},
     "output_type": "execute_result"
    }
   ],
   "source": [
    "# auto FLsetup creation\n",
    "autoFl  = FLsetup(name = \"Flsetup_1\", description = \"The first fl setup\",network = Net_1)\n",
    "autoFl.create()\n",
    "\n",
    "# List all setups \n",
    "FLsetup.list_allsetups()"
   ]
  },
  {
   "cell_type": "markdown",
   "metadata": {},
   "source": [
    "# Configuration_1: A Manual network with 5 Nodes \n",
    "This network contains 5 nodes (3 Train nodes and 2 test nodes)"
   ]
  },
  {
   "cell_type": "code",
   "execution_count": 7,
   "metadata": {},
   "outputs": [],
   "source": [
    "# Create 5 nodes \n",
    "hospital_1,hospital_2,hospital_3, hospital_4 , hospital_5 = Node(name = \"hospital_1\", train = 1),Node(name = \"hospital_2\", train = 1),Node(name = \"hospital_3\", train = 1),Node(name = \"hospital_4\", train = 0),Node(name = \"hospital_5\", train = 0)"
   ]
  },
  {
   "cell_type": "code",
   "execution_count": 8,
   "metadata": {},
   "outputs": [],
   "source": [
    "# Assign the 3 nodes to the man_network \n",
    "Net_1.add_node(hospital_1)\n",
    "Net_1.add_node(hospital_2)\n",
    "Net_1.add_node(hospital_3) \n",
    "Net_1.add_node(hospital_4)\n",
    "Net_1.add_node(hospital_5) "
   ]
  },
  {
   "cell_type": "code",
   "execution_count": 9,
   "metadata": {},
   "outputs": [
    {
     "data": {
      "text/html": [
       "<div>\n",
       "<style scoped>\n",
       "    .dataframe tbody tr th:only-of-type {\n",
       "        vertical-align: middle;\n",
       "    }\n",
       "\n",
       "    .dataframe tbody tr th {\n",
       "        vertical-align: top;\n",
       "    }\n",
       "\n",
       "    .dataframe thead th {\n",
       "        text-align: right;\n",
       "    }\n",
       "</style>\n",
       "<table border=\"1\" class=\"dataframe\">\n",
       "  <thead>\n",
       "    <tr style=\"text-align: right;\">\n",
       "      <th></th>\n",
       "      <th>NodeId</th>\n",
       "      <th>NodeName</th>\n",
       "      <th>train</th>\n",
       "      <th>NetId</th>\n",
       "    </tr>\n",
       "  </thead>\n",
       "  <tbody>\n",
       "    <tr>\n",
       "      <th>0</th>\n",
       "      <td>1</td>\n",
       "      <td>hospital_1</td>\n",
       "      <td>1</td>\n",
       "      <td>1</td>\n",
       "    </tr>\n",
       "    <tr>\n",
       "      <th>1</th>\n",
       "      <td>2</td>\n",
       "      <td>hospital_2</td>\n",
       "      <td>1</td>\n",
       "      <td>1</td>\n",
       "    </tr>\n",
       "    <tr>\n",
       "      <th>2</th>\n",
       "      <td>3</td>\n",
       "      <td>hospital_3</td>\n",
       "      <td>1</td>\n",
       "      <td>1</td>\n",
       "    </tr>\n",
       "    <tr>\n",
       "      <th>3</th>\n",
       "      <td>4</td>\n",
       "      <td>hospital_4</td>\n",
       "      <td>0</td>\n",
       "      <td>1</td>\n",
       "    </tr>\n",
       "    <tr>\n",
       "      <th>4</th>\n",
       "      <td>5</td>\n",
       "      <td>hospital_5</td>\n",
       "      <td>0</td>\n",
       "      <td>1</td>\n",
       "    </tr>\n",
       "  </tbody>\n",
       "</table>\n",
       "</div>"
      ],
      "text/plain": [
       "   NodeId    NodeName  train  NetId\n",
       "0       1  hospital_1      1      1\n",
       "1       2  hospital_2      1      1\n",
       "2       3  hospital_3      1      1\n",
       "3       4  hospital_4      0      1\n",
       "4       5  hospital_5      0      1"
      ]
     },
     "execution_count": 9,
     "metadata": {},
     "output_type": "execute_result"
    }
   ],
   "source": [
    "# List all created nodes on the db \n",
    "Node.list_allnodes()"
   ]
  },
  {
   "cell_type": "code",
   "execution_count": 10,
   "metadata": {},
   "outputs": [],
   "source": [
    "# Define the path of the files \n",
    "# Train Data \n",
    "Ds_1 = global_params['base_url']+ '/notebooks/data/nodesData/part_1.csv'\n",
    "Ds_2 = global_params['base_url']+ '/notebooks/data/nodesData/part_2.csv'\n",
    "Ds_3 = global_params['base_url']+ '/notebooks/data/nodesData/part_3.csv'\n",
    "\n",
    "# pload the DataSets \n",
    "hospital_1.upload_dataset( dataset_name = \"hospital_1_dataset\" , path_to_csv=Ds_1  )\n",
    "hospital_2.upload_dataset( dataset_name = \"hospital_2_dataset\" , path_to_csv=Ds_2)\n",
    "hospital_3.upload_dataset( dataset_name = \"hospital_3_dataset\" , path_to_csv=Ds_3 )\n",
    "\n",
    "# Test Data \n",
    "test_1 = global_params['base_url']+ '/notebooks/data/nodesData/test_1.csv'\n",
    "test_2 = global_params['base_url']+ '/notebooks/data/nodesData/test_2.csv'\n",
    "\n",
    "hospital_4.upload_dataset( dataset_name = \"hospital_2_dataset\" , path_to_csv=test_1)\n",
    "hospital_5.upload_dataset( dataset_name = \"hospital_3_dataset\" , path_to_csv=test_2 )\n",
    "\n",
    "\n"
   ]
  },
  {
   "cell_type": "code",
   "execution_count": 11,
   "metadata": {},
   "outputs": [],
   "source": [
    "# Create FLDataSet\n",
    "fl_dataset = autoFl.create_federated_dataset(\n",
    "    output=\"deceased\", \n",
    "    fit_encode=[], \n",
    "    to_drop=[ \"deceased\" ]\n",
    "    )"
   ]
  },
  {
   "cell_type": "code",
   "execution_count": 12,
   "metadata": {},
   "outputs": [
    {
     "data": {
      "text/plain": [
       "17"
      ]
     },
     "execution_count": 12,
     "metadata": {},
     "output_type": "execute_result"
    }
   ],
   "source": [
    "fl_dataset.size"
   ]
  },
  {
   "cell_type": "code",
   "execution_count": 13,
   "metadata": {},
   "outputs": [
    {
     "data": {
      "text/plain": [
       "[array([[-0.20619234,  0.08450875,  0.16178955,  0.18101399, -0.05696352,\n",
       "         -0.05274155,  0.00760607, -0.15300614,  0.04326935,  0.08542655,\n",
       "          0.13926396,  0.16641127, -0.17382003,  0.23927449,  0.03769074,\n",
       "         -0.05113392, -0.16764468]], dtype=float32),\n",
       " array([0.12306646], dtype=float32)]"
      ]
     },
     "execution_count": 13,
     "metadata": {},
     "output_type": "execute_result"
    }
   ],
   "source": [
    "# Creating a DynamicModel instance\n",
    "dynamic_model = DynamicModel()\n",
    "\n",
    "# Creating a specific model dynamically using DynamicModel\n",
    "specific_model = dynamic_model.create_model(model_type='Logistic Regressor', params_dict={\"input_dim\": 17, \"output_dim\": 1})\n",
    "\n",
    "# Pass the specific_model to the Model class\n",
    "optimizer = optim.SGD(specific_model.parameters(), lr=0.0001)\n",
    "criterion = nn.BCELoss()\n",
    "\n",
    "\n",
    "# Creating a new Model instance using the specific model created by DynamicModel\n",
    "global_model = Model(specific_model, optimizer, criterion)\n",
    "\n",
    "# The modal to be passed to the server\n",
    "global_model.get_parameters()"
   ]
  },
  {
   "cell_type": "code",
   "execution_count": 14,
   "metadata": {},
   "outputs": [],
   "source": [
    "# Create the strategy\n",
    "fed_avg = Strategy(\"FedAvg\", \n",
    "                   fraction_fit = 1.0 ,\n",
    "                   fraction_evaluate = 1.0,\n",
    "                   min_fit_clients = 2,\n",
    "                   min_evaluate_clients = 2,\n",
    "                   min_available_clients = 2 , \n",
    "                   initial_parameters=global_model.get_parameters())"
   ]
  },
  {
   "cell_type": "code",
   "execution_count": 15,
   "metadata": {},
   "outputs": [],
   "source": [
    "# Create The server \n",
    "server = FlowerServer(global_model, strategy = fed_avg, num_rounds = 10,\n",
    "                       num_clients  = len(fl_dataset.trainloaders), \n",
    "                       fed_dataset = fl_dataset,diff_privacy = False ,\n",
    "                       # You can change the resources alocated for each client based on your machine \n",
    "                       client_resources={'num_cpus': 1.0, 'num_gpus': 0.0}\n",
    "                       )"
   ]
  },
  {
   "cell_type": "code",
   "execution_count": 16,
   "metadata": {},
   "outputs": [],
   "source": [
    "# Create the pipeline \n",
    "ppl_1 = FLpipeline( name =\"the first fl_pipeline\",description = \"this is our first FL pipeline\",\n",
    "                   server = server)"
   ]
  },
  {
   "cell_type": "code",
   "execution_count": 17,
   "metadata": {},
   "outputs": [
    {
     "name": "stderr",
     "output_type": "stream",
     "text": [
      "INFO flwr 2024-02-21 15:10:25,332 | app.py:178 | Starting Flower simulation, config: ServerConfig(num_rounds=10, round_timeout=None)\n",
      "02/21/2024 15:10:25:INFO:Starting Flower simulation, config: ServerConfig(num_rounds=10, round_timeout=None)\n",
      "2024-02-21 15:10:27,523\tINFO worker.py:1621 -- Started a local Ray instance.\n",
      "INFO flwr 2024-02-21 15:10:29,987 | app.py:213 | Flower VCE: Ray initialized with resources: {'memory': 39449923584.0, 'node:__internal_head__': 1.0, 'object_store_memory': 78643200.0, 'node:10.44.86.57': 1.0, 'accelerator_type:G': 1.0, 'GPU': 1.0, 'CPU': 24.0}\n",
      "02/21/2024 15:10:29:INFO:Flower VCE: Ray initialized with resources: {'memory': 39449923584.0, 'node:__internal_head__': 1.0, 'object_store_memory': 78643200.0, 'node:10.44.86.57': 1.0, 'accelerator_type:G': 1.0, 'GPU': 1.0, 'CPU': 24.0}\n",
      "INFO flwr 2024-02-21 15:10:29,988 | app.py:219 | Optimize your simulation with Flower VCE: https://flower.dev/docs/framework/how-to-run-simulations.html\n",
      "02/21/2024 15:10:29:INFO:Optimize your simulation with Flower VCE: https://flower.dev/docs/framework/how-to-run-simulations.html\n",
      "INFO flwr 2024-02-21 15:10:29,989 | app.py:242 | Flower VCE: Resources for each Virtual Client: {'num_cpus': 1.0, 'num_gpus': 0.0}\n",
      "02/21/2024 15:10:29:INFO:Flower VCE: Resources for each Virtual Client: {'num_cpus': 1.0, 'num_gpus': 0.0}\n",
      "INFO flwr 2024-02-21 15:10:30,002 | app.py:288 | Flower VCE: Creating VirtualClientEngineActorPool with 24 actors\n",
      "02/21/2024 15:10:30:INFO:Flower VCE: Creating VirtualClientEngineActorPool with 24 actors\n",
      "INFO flwr 2024-02-21 15:10:30,003 | server.py:89 | Initializing global parameters\n",
      "02/21/2024 15:10:30:INFO:Initializing global parameters\n",
      "INFO flwr 2024-02-21 15:10:30,004 | server.py:272 | Using initial parameters provided by strategy\n",
      "02/21/2024 15:10:30:INFO:Using initial parameters provided by strategy\n",
      "INFO flwr 2024-02-21 15:10:30,004 | server.py:91 | Evaluating initial parameters\n",
      "02/21/2024 15:10:30:INFO:Evaluating initial parameters\n",
      "INFO flwr 2024-02-21 15:10:30,009 | server.py:94 | initial parameters (loss, other metrics): 8.264462557705967, {'accuracy': 0.09090909090909091}\n",
      "02/21/2024 15:10:30:INFO:initial parameters (loss, other metrics): 8.264462557705967, {'accuracy': 0.09090909090909091}\n",
      "INFO flwr 2024-02-21 15:10:30,010 | server.py:104 | FL starting\n",
      "02/21/2024 15:10:30:INFO:FL starting\n",
      "DEBUG flwr 2024-02-21 15:10:30,011 | server.py:222 | fit_round 1: strategy sampled 3 clients (out of 3)\n",
      "02/21/2024 15:10:30:DEBUG:fit_round 1: strategy sampled 3 clients (out of 3)\n"
     ]
    },
    {
     "name": "stdout",
     "output_type": "stream",
     "text": [
      "Server-side evaluation loss 8.264462557705967 / accuracy 0.09090909090909091\n"
     ]
    },
    {
     "name": "stderr",
     "output_type": "stream",
     "text": [
      "\u001b[2m\u001b[36m(DefaultActor pid=404996)\u001b[0m /home/local/USHERBROOKE/saho6810/MEDfl/code/MEDfl/MEDfl/LearningManager/utils.py:19: DeprecationWarning: Use of .. or absolute path in a resource path is not allowed and will raise exceptions in a future release.\n",
      "\u001b[2m\u001b[36m(DefaultActor pid=404996)\u001b[0m   global_yaml_path = pkg_resources.resource_filename(__name__, \"../../global_params.yaml\")\n",
      "\u001b[2m\u001b[36m(DefaultActor pid=404996)\u001b[0m /home/local/USHERBROOKE/saho6810/.local/lib/python3.8/site-packages/opacus/privacy_engine.py:142: UserWarning: Secure RNG turned off. This is perfectly fine for experimentation as it allows for much faster training performance, but remember to turn it on and retrain one last time before production with ``secure_mode`` turned on.\n",
      "\u001b[2m\u001b[36m(DefaultActor pid=404996)\u001b[0m   warnings.warn(\n",
      "\u001b[2m\u001b[36m(DefaultActor pid=404996)\u001b[0m /home/local/USHERBROOKE/saho6810/.local/lib/python3.8/site-packages/flwr/simulation/ray_transport/ray_actor.py:72: DeprecationWarning:  Ensure your client is of type `flwr.client.Client`. Please convert it using the `.to_client()` method before returning it in the `client_fn` you pass to `start_simulation`. We have applied this conversion on your behalf. Not returning a `Client` might trigger an error in future versions of Flower.\n",
      "\u001b[2m\u001b[36m(DefaultActor pid=404996)\u001b[0m   client = check_clientfn_returns_client(client_fn(cid))\n",
      "DEBUG flwr 2024-02-21 15:10:37,973 | server.py:236 | fit_round 1 received 3 results and 0 failures\n",
      "02/21/2024 15:10:37:DEBUG:fit_round 1 received 3 results and 0 failures\n",
      "WARNING flwr 2024-02-21 15:10:37,979 | fedavg.py:250 | No fit_metrics_aggregation_fn provided\n",
      "02/21/2024 15:10:37:WARNING:No fit_metrics_aggregation_fn provided\n",
      "INFO flwr 2024-02-21 15:10:37,982 | server.py:125 | fit progress: (1, 8.264462557705967, {'accuracy': 0.09090909090909091}, 7.97105802805163)\n",
      "02/21/2024 15:10:37:INFO:fit progress: (1, 8.264462557705967, {'accuracy': 0.09090909090909091}, 7.97105802805163)\n",
      "DEBUG flwr 2024-02-21 15:10:37,982 | server.py:173 | evaluate_round 1: strategy sampled 3 clients (out of 3)\n",
      "02/21/2024 15:10:37:DEBUG:evaluate_round 1: strategy sampled 3 clients (out of 3)\n"
     ]
    },
    {
     "name": "stdout",
     "output_type": "stream",
     "text": [
      "\u001b[2m\u001b[36m(DefaultActor pid=404995)\u001b[0m [Client 1] fit, config: {}\n",
      "Server-side evaluation loss 8.264462557705967 / accuracy 0.09090909090909091\n"
     ]
    },
    {
     "name": "stderr",
     "output_type": "stream",
     "text": [
      "DEBUG flwr 2024-02-21 15:10:38,011 | server.py:187 | evaluate_round 1 received 3 results and 0 failures\n",
      "02/21/2024 15:10:38:DEBUG:evaluate_round 1 received 3 results and 0 failures\n",
      "WARNING flwr 2024-02-21 15:10:38,012 | fedavg.py:281 | No evaluate_metrics_aggregation_fn provided\n",
      "02/21/2024 15:10:38:WARNING:No evaluate_metrics_aggregation_fn provided\n",
      "DEBUG flwr 2024-02-21 15:10:38,012 | server.py:222 | fit_round 2: strategy sampled 3 clients (out of 3)\n",
      "02/21/2024 15:10:38:DEBUG:fit_round 2: strategy sampled 3 clients (out of 3)\n"
     ]
    },
    {
     "name": "stdout",
     "output_type": "stream",
     "text": [
      "\u001b[2m\u001b[36m(DefaultActor pid=404995)\u001b[0m epsilon of client 1 : eps = 0\n",
      "\u001b[2m\u001b[36m(DefaultActor pid=404995)\u001b[0m [Client 2] evaluate, config: {}\n"
     ]
    },
    {
     "name": "stderr",
     "output_type": "stream",
     "text": [
      "DEBUG flwr 2024-02-21 15:10:38,289 | server.py:236 | fit_round 2 received 3 results and 0 failures\n",
      "02/21/2024 15:10:38:DEBUG:fit_round 2 received 3 results and 0 failures\n",
      "INFO flwr 2024-02-21 15:10:38,292 | server.py:125 | fit progress: (2, 8.264462557705967, {'accuracy': 0.09090909090909091}, 8.280993513064459)\n",
      "02/21/2024 15:10:38:INFO:fit progress: (2, 8.264462557705967, {'accuracy': 0.09090909090909091}, 8.280993513064459)\n",
      "DEBUG flwr 2024-02-21 15:10:38,292 | server.py:173 | evaluate_round 2: strategy sampled 3 clients (out of 3)\n",
      "02/21/2024 15:10:38:DEBUG:evaluate_round 2: strategy sampled 3 clients (out of 3)\n",
      "DEBUG flwr 2024-02-21 15:10:38,319 | server.py:187 | evaluate_round 2 received 3 results and 0 failures\n",
      "02/21/2024 15:10:38:DEBUG:evaluate_round 2 received 3 results and 0 failures\n",
      "DEBUG flwr 2024-02-21 15:10:38,319 | server.py:222 | fit_round 3: strategy sampled 3 clients (out of 3)\n",
      "02/21/2024 15:10:38:DEBUG:fit_round 3: strategy sampled 3 clients (out of 3)\n"
     ]
    },
    {
     "name": "stdout",
     "output_type": "stream",
     "text": [
      "Server-side evaluation loss 8.264462557705967 / accuracy 0.09090909090909091\n"
     ]
    },
    {
     "name": "stderr",
     "output_type": "stream",
     "text": [
      "DEBUG flwr 2024-02-21 15:10:38,573 | server.py:236 | fit_round 3 received 3 results and 0 failures\n",
      "02/21/2024 15:10:38:DEBUG:fit_round 3 received 3 results and 0 failures\n",
      "INFO flwr 2024-02-21 15:10:38,576 | server.py:125 | fit progress: (3, 8.264462557705967, {'accuracy': 0.09090909090909091}, 8.565492671099491)\n",
      "02/21/2024 15:10:38:INFO:fit progress: (3, 8.264462557705967, {'accuracy': 0.09090909090909091}, 8.565492671099491)\n",
      "DEBUG flwr 2024-02-21 15:10:38,577 | server.py:173 | evaluate_round 3: strategy sampled 3 clients (out of 3)\n",
      "02/21/2024 15:10:38:DEBUG:evaluate_round 3: strategy sampled 3 clients (out of 3)\n",
      "DEBUG flwr 2024-02-21 15:10:38,602 | server.py:187 | evaluate_round 3 received 3 results and 0 failures\n",
      "02/21/2024 15:10:38:DEBUG:evaluate_round 3 received 3 results and 0 failures\n",
      "DEBUG flwr 2024-02-21 15:10:38,603 | server.py:222 | fit_round 4: strategy sampled 3 clients (out of 3)\n",
      "02/21/2024 15:10:38:DEBUG:fit_round 4: strategy sampled 3 clients (out of 3)\n"
     ]
    },
    {
     "name": "stdout",
     "output_type": "stream",
     "text": [
      "Server-side evaluation loss 8.264462557705967 / accuracy 0.09090909090909091\n"
     ]
    },
    {
     "name": "stderr",
     "output_type": "stream",
     "text": [
      "DEBUG flwr 2024-02-21 15:10:38,873 | server.py:236 | fit_round 4 received 3 results and 0 failures\n",
      "02/21/2024 15:10:38:DEBUG:fit_round 4 received 3 results and 0 failures\n",
      "INFO flwr 2024-02-21 15:10:38,876 | server.py:125 | fit progress: (4, 8.264462557705967, {'accuracy': 0.09090909090909091}, 8.865346135105938)\n",
      "02/21/2024 15:10:38:INFO:fit progress: (4, 8.264462557705967, {'accuracy': 0.09090909090909091}, 8.865346135105938)\n",
      "DEBUG flwr 2024-02-21 15:10:38,877 | server.py:173 | evaluate_round 4: strategy sampled 3 clients (out of 3)\n",
      "02/21/2024 15:10:38:DEBUG:evaluate_round 4: strategy sampled 3 clients (out of 3)\n",
      "DEBUG flwr 2024-02-21 15:10:38,898 | server.py:187 | evaluate_round 4 received 3 results and 0 failures\n",
      "02/21/2024 15:10:38:DEBUG:evaluate_round 4 received 3 results and 0 failures\n",
      "DEBUG flwr 2024-02-21 15:10:38,899 | server.py:222 | fit_round 5: strategy sampled 3 clients (out of 3)\n",
      "02/21/2024 15:10:38:DEBUG:fit_round 5: strategy sampled 3 clients (out of 3)\n"
     ]
    },
    {
     "name": "stdout",
     "output_type": "stream",
     "text": [
      "Server-side evaluation loss 8.264462557705967 / accuracy 0.09090909090909091\n"
     ]
    },
    {
     "name": "stderr",
     "output_type": "stream",
     "text": [
      "DEBUG flwr 2024-02-21 15:10:39,164 | server.py:236 | fit_round 5 received 3 results and 0 failures\n",
      "02/21/2024 15:10:39:DEBUG:fit_round 5 received 3 results and 0 failures\n",
      "INFO flwr 2024-02-21 15:10:39,168 | server.py:125 | fit progress: (5, 8.264462557705967, {'accuracy': 0.09090909090909091}, 9.157629418070428)\n",
      "02/21/2024 15:10:39:INFO:fit progress: (5, 8.264462557705967, {'accuracy': 0.09090909090909091}, 9.157629418070428)\n",
      "DEBUG flwr 2024-02-21 15:10:39,170 | server.py:173 | evaluate_round 5: strategy sampled 3 clients (out of 3)\n",
      "02/21/2024 15:10:39:DEBUG:evaluate_round 5: strategy sampled 3 clients (out of 3)\n",
      "DEBUG flwr 2024-02-21 15:10:39,194 | server.py:187 | evaluate_round 5 received 3 results and 0 failures\n",
      "02/21/2024 15:10:39:DEBUG:evaluate_round 5 received 3 results and 0 failures\n",
      "DEBUG flwr 2024-02-21 15:10:39,195 | server.py:222 | fit_round 6: strategy sampled 3 clients (out of 3)\n",
      "02/21/2024 15:10:39:DEBUG:fit_round 6: strategy sampled 3 clients (out of 3)\n"
     ]
    },
    {
     "name": "stdout",
     "output_type": "stream",
     "text": [
      "Server-side evaluation loss 8.264462557705967 / accuracy 0.09090909090909091\n"
     ]
    },
    {
     "name": "stderr",
     "output_type": "stream",
     "text": [
      "DEBUG flwr 2024-02-21 15:10:39,463 | server.py:236 | fit_round 6 received 3 results and 0 failures\n",
      "02/21/2024 15:10:39:DEBUG:fit_round 6 received 3 results and 0 failures\n",
      "INFO flwr 2024-02-21 15:10:39,467 | server.py:125 | fit progress: (6, 8.264462557705967, {'accuracy': 0.09090909090909091}, 9.456328990054317)\n",
      "02/21/2024 15:10:39:INFO:fit progress: (6, 8.264462557705967, {'accuracy': 0.09090909090909091}, 9.456328990054317)\n",
      "DEBUG flwr 2024-02-21 15:10:39,468 | server.py:173 | evaluate_round 6: strategy sampled 3 clients (out of 3)\n",
      "02/21/2024 15:10:39:DEBUG:evaluate_round 6: strategy sampled 3 clients (out of 3)\n",
      "DEBUG flwr 2024-02-21 15:10:39,494 | server.py:187 | evaluate_round 6 received 3 results and 0 failures\n",
      "02/21/2024 15:10:39:DEBUG:evaluate_round 6 received 3 results and 0 failures\n",
      "DEBUG flwr 2024-02-21 15:10:39,495 | server.py:222 | fit_round 7: strategy sampled 3 clients (out of 3)\n",
      "02/21/2024 15:10:39:DEBUG:fit_round 7: strategy sampled 3 clients (out of 3)\n"
     ]
    },
    {
     "name": "stdout",
     "output_type": "stream",
     "text": [
      "Server-side evaluation loss 8.264462557705967 / accuracy 0.09090909090909091\n"
     ]
    },
    {
     "name": "stderr",
     "output_type": "stream",
     "text": [
      "DEBUG flwr 2024-02-21 15:10:39,772 | server.py:236 | fit_round 7 received 3 results and 0 failures\n",
      "02/21/2024 15:10:39:DEBUG:fit_round 7 received 3 results and 0 failures\n",
      "INFO flwr 2024-02-21 15:10:39,776 | server.py:125 | fit progress: (7, 8.264462557705967, {'accuracy': 0.09090909090909091}, 9.76520581310615)\n",
      "02/21/2024 15:10:39:INFO:fit progress: (7, 8.264462557705967, {'accuracy': 0.09090909090909091}, 9.76520581310615)\n",
      "DEBUG flwr 2024-02-21 15:10:39,777 | server.py:173 | evaluate_round 7: strategy sampled 3 clients (out of 3)\n",
      "02/21/2024 15:10:39:DEBUG:evaluate_round 7: strategy sampled 3 clients (out of 3)\n",
      "DEBUG flwr 2024-02-21 15:10:39,802 | server.py:187 | evaluate_round 7 received 3 results and 0 failures\n",
      "02/21/2024 15:10:39:DEBUG:evaluate_round 7 received 3 results and 0 failures\n",
      "DEBUG flwr 2024-02-21 15:10:39,803 | server.py:222 | fit_round 8: strategy sampled 3 clients (out of 3)\n",
      "02/21/2024 15:10:39:DEBUG:fit_round 8: strategy sampled 3 clients (out of 3)\n"
     ]
    },
    {
     "name": "stdout",
     "output_type": "stream",
     "text": [
      "Server-side evaluation loss 8.264462557705967 / accuracy 0.09090909090909091\n"
     ]
    },
    {
     "name": "stderr",
     "output_type": "stream",
     "text": [
      "DEBUG flwr 2024-02-21 15:10:40,083 | server.py:236 | fit_round 8 received 3 results and 0 failures\n",
      "02/21/2024 15:10:40:DEBUG:fit_round 8 received 3 results and 0 failures\n",
      "INFO flwr 2024-02-21 15:10:40,087 | server.py:125 | fit progress: (8, 8.264462557705967, {'accuracy': 0.09090909090909091}, 10.075702299014665)\n",
      "02/21/2024 15:10:40:INFO:fit progress: (8, 8.264462557705967, {'accuracy': 0.09090909090909091}, 10.075702299014665)\n",
      "DEBUG flwr 2024-02-21 15:10:40,087 | server.py:173 | evaluate_round 8: strategy sampled 3 clients (out of 3)\n",
      "02/21/2024 15:10:40:DEBUG:evaluate_round 8: strategy sampled 3 clients (out of 3)\n",
      "DEBUG flwr 2024-02-21 15:10:40,114 | server.py:187 | evaluate_round 8 received 3 results and 0 failures\n",
      "02/21/2024 15:10:40:DEBUG:evaluate_round 8 received 3 results and 0 failures\n",
      "DEBUG flwr 2024-02-21 15:10:40,115 | server.py:222 | fit_round 9: strategy sampled 3 clients (out of 3)\n",
      "02/21/2024 15:10:40:DEBUG:fit_round 9: strategy sampled 3 clients (out of 3)\n"
     ]
    },
    {
     "name": "stdout",
     "output_type": "stream",
     "text": [
      "Server-side evaluation loss 8.264462557705967 / accuracy 0.09090909090909091\n"
     ]
    },
    {
     "name": "stderr",
     "output_type": "stream",
     "text": [
      "DEBUG flwr 2024-02-21 15:10:40,391 | server.py:236 | fit_round 9 received 3 results and 0 failures\n",
      "02/21/2024 15:10:40:DEBUG:fit_round 9 received 3 results and 0 failures\n",
      "INFO flwr 2024-02-21 15:10:40,395 | server.py:125 | fit progress: (9, 8.264462557705967, {'accuracy': 0.09090909090909091}, 10.38466027204413)\n",
      "02/21/2024 15:10:40:INFO:fit progress: (9, 8.264462557705967, {'accuracy': 0.09090909090909091}, 10.38466027204413)\n",
      "DEBUG flwr 2024-02-21 15:10:40,397 | server.py:173 | evaluate_round 9: strategy sampled 3 clients (out of 3)\n",
      "02/21/2024 15:10:40:DEBUG:evaluate_round 9: strategy sampled 3 clients (out of 3)\n",
      "DEBUG flwr 2024-02-21 15:10:40,422 | server.py:187 | evaluate_round 9 received 3 results and 0 failures\n",
      "02/21/2024 15:10:40:DEBUG:evaluate_round 9 received 3 results and 0 failures\n",
      "DEBUG flwr 2024-02-21 15:10:40,423 | server.py:222 | fit_round 10: strategy sampled 3 clients (out of 3)\n",
      "02/21/2024 15:10:40:DEBUG:fit_round 10: strategy sampled 3 clients (out of 3)\n"
     ]
    },
    {
     "name": "stdout",
     "output_type": "stream",
     "text": [
      "Server-side evaluation loss 8.264462557705967 / accuracy 0.09090909090909091\n"
     ]
    },
    {
     "name": "stderr",
     "output_type": "stream",
     "text": [
      "DEBUG flwr 2024-02-21 15:10:40,696 | server.py:236 | fit_round 10 received 3 results and 0 failures\n",
      "02/21/2024 15:10:40:DEBUG:fit_round 10 received 3 results and 0 failures\n",
      "INFO flwr 2024-02-21 15:10:40,700 | server.py:125 | fit progress: (10, 8.264462557705967, {'accuracy': 0.09090909090909091}, 10.68874858203344)\n",
      "02/21/2024 15:10:40:INFO:fit progress: (10, 8.264462557705967, {'accuracy': 0.09090909090909091}, 10.68874858203344)\n",
      "DEBUG flwr 2024-02-21 15:10:40,700 | server.py:173 | evaluate_round 10: strategy sampled 3 clients (out of 3)\n",
      "02/21/2024 15:10:40:DEBUG:evaluate_round 10: strategy sampled 3 clients (out of 3)\n",
      "DEBUG flwr 2024-02-21 15:10:40,726 | server.py:187 | evaluate_round 10 received 3 results and 0 failures\n",
      "02/21/2024 15:10:40:DEBUG:evaluate_round 10 received 3 results and 0 failures\n",
      "INFO flwr 2024-02-21 15:10:40,727 | server.py:153 | FL finished in 10.715697793057188\n",
      "02/21/2024 15:10:40:INFO:FL finished in 10.715697793057188\n",
      "INFO flwr 2024-02-21 15:10:40,728 | app.py:226 | app_fit: losses_distributed [(1, 8.264462557705967), (2, 8.264462557705967), (3, 8.264462557705967), (4, 8.264462557705967), (5, 8.264462557705967), (6, 8.264462557705967), (7, 8.264462557705967), (8, 8.264462557705967), (9, 8.264462557705967), (10, 8.264462557705967)]\n",
      "02/21/2024 15:10:40:INFO:app_fit: losses_distributed [(1, 8.264462557705967), (2, 8.264462557705967), (3, 8.264462557705967), (4, 8.264462557705967), (5, 8.264462557705967), (6, 8.264462557705967), (7, 8.264462557705967), (8, 8.264462557705967), (9, 8.264462557705967), (10, 8.264462557705967)]\n",
      "INFO flwr 2024-02-21 15:10:40,728 | app.py:227 | app_fit: metrics_distributed_fit {}\n",
      "02/21/2024 15:10:40:INFO:app_fit: metrics_distributed_fit {}\n",
      "INFO flwr 2024-02-21 15:10:40,729 | app.py:228 | app_fit: metrics_distributed {}\n",
      "02/21/2024 15:10:40:INFO:app_fit: metrics_distributed {}\n",
      "INFO flwr 2024-02-21 15:10:40,730 | app.py:229 | app_fit: losses_centralized [(0, 8.264462557705967), (1, 8.264462557705967), (2, 8.264462557705967), (3, 8.264462557705967), (4, 8.264462557705967), (5, 8.264462557705967), (6, 8.264462557705967), (7, 8.264462557705967), (8, 8.264462557705967), (9, 8.264462557705967), (10, 8.264462557705967)]\n",
      "02/21/2024 15:10:40:INFO:app_fit: losses_centralized [(0, 8.264462557705967), (1, 8.264462557705967), (2, 8.264462557705967), (3, 8.264462557705967), (4, 8.264462557705967), (5, 8.264462557705967), (6, 8.264462557705967), (7, 8.264462557705967), (8, 8.264462557705967), (9, 8.264462557705967), (10, 8.264462557705967)]\n",
      "INFO flwr 2024-02-21 15:10:40,730 | app.py:230 | app_fit: metrics_centralized {'accuracy': [(0, 0.09090909090909091), (1, 0.09090909090909091), (2, 0.09090909090909091), (3, 0.09090909090909091), (4, 0.09090909090909091), (5, 0.09090909090909091), (6, 0.09090909090909091), (7, 0.09090909090909091), (8, 0.09090909090909091), (9, 0.09090909090909091), (10, 0.09090909090909091)]}\n",
      "02/21/2024 15:10:40:INFO:app_fit: metrics_centralized {'accuracy': [(0, 0.09090909090909091), (1, 0.09090909090909091), (2, 0.09090909090909091), (3, 0.09090909090909091), (4, 0.09090909090909091), (5, 0.09090909090909091), (6, 0.09090909090909091), (7, 0.09090909090909091), (8, 0.09090909090909091), (9, 0.09090909090909091), (10, 0.09090909090909091)]}\n"
     ]
    },
    {
     "name": "stdout",
     "output_type": "stream",
     "text": [
      "Server-side evaluation loss 8.264462557705967 / accuracy 0.09090909090909091\n"
     ]
    }
   ],
   "source": [
    "# Run the Traning of the model\n",
    "history = ppl_1.server.run()"
   ]
  },
  {
   "cell_type": "code",
   "execution_count": 18,
   "metadata": {},
   "outputs": [
    {
     "name": "stdout",
     "output_type": "stream",
     "text": [
      "\u001b[2m\u001b[36m(DefaultActor pid=404995)\u001b[0m epsilon of client 0 : eps = 0\n",
      "\u001b[2m\u001b[36m(DefaultActor pid=404995)\u001b[0m [Client 0] evaluate, config: {}\n"
     ]
    },
    {
     "data": {
      "image/png": "[encoded data removed]",
      "text/plain": [
       "<Figure size 800x600 with 1 Axes>"
      ]
     },
     "metadata": {},
     "output_type": "display_data"
    }
   ],
   "source": [
    "# Make some plots \n",
    "global_accuracy,global_loss = ppl_1.server.accuracies,ppl_1.server.losses\n",
    "results_dict = {\n",
    "    ('LR: 0.001, Optimizer: SGD', 'accuracy'): global_accuracy,\n",
    "    ('LR: 0.001, Optimizer: SGD', 'loss'): global_loss\n",
    "}\n",
    "plotter = AccuracyLossPlotter(results_dict)\n",
    "\n",
    "plotter.plot_accuracy_loss()"
   ]
  },
  {
   "cell_type": "code",
   "execution_count": 19,
   "metadata": {},
   "outputs": [
    {
     "data": {
      "text/plain": [
       "[{'node_name': 'hospital_1',\n",
       "  'classification_report': \"{'confusion matrix': {'TP': 6, 'FP': 21, 'FN': 0, 'TN': 0}, 'Accuracy': 0.222, 'Sensitivity/Recall': 1.0, 'Specificity': 0.0, 'PPV/Precision': 0.222, 'NPV': 0.0, 'F1-score': 0.364, 'False positive rate': 1.0, 'True positive rate': 1.0}\"},\n",
       " {'node_name': 'hospital_2',\n",
       "  'classification_report': \"{'confusion matrix': {'TP': 5, 'FP': 22, 'FN': 0, 'TN': 0}, 'Accuracy': 0.185, 'Sensitivity/Recall': 1.0, 'Specificity': 0.0, 'PPV/Precision': 0.185, 'NPV': 0.0, 'F1-score': 0.312, 'False positive rate': 1.0, 'True positive rate': 1.0}\"},\n",
       " {'node_name': 'hospital_3',\n",
       "  'classification_report': \"{'confusion matrix': {'TP': 6, 'FP': 21, 'FN': 0, 'TN': 0}, 'Accuracy': 0.222, 'Sensitivity/Recall': 1.0, 'Specificity': 0.0, 'PPV/Precision': 0.222, 'NPV': 0.0, 'F1-score': 0.364, 'False positive rate': 1.0, 'True positive rate': 1.0}\"},\n",
       " {'node_name': 'hospital_4',\n",
       "  'classification_report': \"{'confusion matrix': {'TP': 287, 'FP': 1503, 'FN': 0, 'TN': 0}, 'Accuracy': 0.16, 'Sensitivity/Recall': 1.0, 'Specificity': 0.0, 'PPV/Precision': 0.16, 'NPV': 0.0, 'F1-score': 0.276, 'False positive rate': 1.0, 'True positive rate': 1.0}\"},\n",
       " {'node_name': 'hospital_5',\n",
       "  'classification_report': \"{'confusion matrix': {'TP': 314, 'FP': 1476, 'FN': 1, 'TN': 0}, 'Accuracy': 0.175, 'Sensitivity/Recall': 0.997, 'Specificity': 0.0, 'PPV/Precision': 0.175, 'NPV': 0.0, 'F1-score': 0.298, 'False positive rate': 1.0, 'True positive rate': 0.997}\"}]"
      ]
     },
     "execution_count": 19,
     "metadata": {},
     "output_type": "execute_result"
    }
   ],
   "source": [
    "# Test the Modal on the Test nodes and store the results on the DB\n",
    "ppl_1.auto_test()"
   ]
  },
  {
   "cell_type": "code",
   "execution_count": 20,
   "metadata": {},
   "outputs": [
    {
     "data": {
      "image/png": "[encoded data removed]",
      "text/plain": [
       "<Figure size 600x400 with 2 Axes>"
      ]
     },
     "metadata": {},
     "output_type": "display_data"
    }
   ],
   "source": [
    "# Plot the Global confusion Matrix of the pipiline \"the first fl_pipeline\"\n",
    "AccuracyLossPlotter.plot_global_confusion_matrix(pipeline_name=\"the first fl_pipeline\")"
   ]
  },
  {
   "cell_type": "code",
   "execution_count": 21,
   "metadata": {},
   "outputs": [
    {
     "data": {
      "image/png": "[encoded data removed]",
      "text/plain": [
       "<Figure size 1200x600 with 1 Axes>"
      ]
     },
     "metadata": {},
     "output_type": "display_data"
    }
   ],
   "source": [
    "AccuracyLossPlotter.plot_classification_report(pipeline_name=\"the first fl_pipeline\")"
   ]
  }
 ],
 "metadata": {
  "kernelspec": {
   "display_name": "Python 3",
   "language": "python",
   "name": "python3"
  },
  "language_info": {
   "codemirror_mode": {
    "name": "ipython",
    "version": 3
   },
   "file_extension": ".py",
   "mimetype": "text/x-python",
   "name": "python",
   "nbconvert_exporter": "python",
   "pygments_lexer": "ipython3",
   "version": "3.8.10"
  }
 },
 "nbformat": 4,
 "nbformat_minor": 2
}
