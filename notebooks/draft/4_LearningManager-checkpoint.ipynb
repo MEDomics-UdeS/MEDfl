{
 "cells": [
  {
   "cell_type": "markdown",
   "metadata": {},
   "source": [
    "# **LearningManager**: Create a Federated Learning Pipeline using MedFL\n",
    "<img src='../Images/MEDfl_Diagramm.png' />\n",
    "\n",
    "The `Learning Manager`, serving as the second subpackage of *Medfl*, extends the work initiated by the `NetManager`. It operates by taking the federated dataset as its input and, through its processes, generates a **Trained model**. Additionally, it **stores relevant Results** within the database.\n",
    "\n",
    "<b>The Federated module</b>  of <b>MEDfl</b>, which is based on the <a href=\"https://flower.dev/\">Flower</a> framework, is well designed for doing this task, it's mainly follows the flower paradigm, but with many customization, to deal with the SQL database, and to be homogeneous with the <b>NetManager</b>\n",
    "\n",
    "\n",
    "<img src='../Images/LearningManager.png' width=\"50%\" />\n"
   ]
  },
  {
   "cell_type": "code",
   "execution_count": 1,
   "metadata": {},
   "outputs": [],
   "source": [
    "import sys\n",
    "sys.path.append('../..')\n",
    "\n",
    "import os\n",
    "os.environ['PYTHONPATH'] = '../..'"
   ]
  },
  {
   "cell_type": "markdown",
   "metadata": {},
   "source": [
    "Imports"
   ]
  },
  {
   "cell_type": "code",
   "execution_count": 5,
   "metadata": {},
   "outputs": [],
   "source": [
    "# Torch imports\n",
    "import torch\n",
    "import torch.nn as nn\n",
    "import torch.optim as optim\n",
    "\n",
    "# flower imports \n",
    "import flwr as fl\n",
    "\n",
    "# Medfl imports \n",
    "from Medfl.LearningManager.dynamicModal import DynamicModel\n",
    "from Medfl.LearningManager.model import Model\n",
    "from Medfl.LearningManager.strategy import Strategy\n",
    "from Medfl.LearningManager.server import *\n",
    "\n",
    "from Medfl.NetManager.flsetup import FLsetup\n",
    "from Medfl.LearningManager.flpipeline import *\n",
    "\n",
    "from Medfl.LearningManager.plot import AccuracyLossPlotter\n",
    "\n",
    "\n"
   ]
  },
  {
   "cell_type": "markdown",
   "metadata": {},
   "source": [
    "### 1. Modal inialization\n",
    "\n",
    "The first step involves initializing the model to subsequently transmit it to the central server. MedFL offers two distinct methods for model initialization:\n",
    "\n",
    "1. **Without Utilizing Transfer Learning:** This method is employed in scenarios where a pretrained model is unavailable. Here, the initial model is constructed from scratch, and subsequently transmitted to the central server (Simple Federated Learning).\n",
    "\n",
    "2. **Utilizing Transfer Learning:** This approach comes into play when a pretrained model exists, and the objective is to fine-tune it within the federated learning network (Federated-Transfer Learning).\n",
    "\n",
    "<img src='../Images/Modelinit.png' width=\"80%\" style=\"display: block  ; margin : 0 auto\" />"
   ]
  },
  {
   "cell_type": "markdown",
   "metadata": {},
   "source": [
    "### 1.1 without activation of Transfer Learning\n",
    "\n",
    "in this methode we can eather specify the structure of our neural network ( number and size of layers, activation function ) or we can write define our modal and write the code from scratch and pass it to the server \n",
    "\n",
    "\n",
    "As MEDfl is based on flower, it has only 3 models based on torch neural nets  :\n",
    "<ul>\n",
    "    <li> Binary Classifier </li>\n",
    "    <li> Multiclass Classifier</li>\n",
    "    <li> Linear Regressor</li>\n",
    "</ul>\n",
    "\n",
    "the choice of the model and all machine learning parameters (learning rate, eopch size, train epochs), should be declared on a YAML file. `Medfl/learningManager/params.yaml`\n"
   ]
  },
  {
   "cell_type": "markdown",
   "metadata": {},
   "source": [
    "A. Create the modal from scratch "
   ]
  },
  {
   "cell_type": "code",
   "execution_count": 3,
   "metadata": {},
   "outputs": [
    {
     "data": {
      "text/plain": [
       "<Medfl.LearningManager.model.Model at 0x1f4ad876070>"
      ]
     },
     "execution_count": 3,
     "metadata": {},
     "output_type": "execute_result"
    }
   ],
   "source": [
    "class BinaryClassifier(nn.Module):\n",
    "  def __init__(self,input_dim,hidden_dim,output_dim):\n",
    "\n",
    "    super(BinaryClassifier, self).__init__()\n",
    "    self.fc1 = nn.Linear(input_dim,hidden_dim)\n",
    "    self.fc2 = nn.Linear(hidden_dim,2*hidden_dim)\n",
    "    self.fc3 = nn.Linear(2*hidden_dim,output_dim)\n",
    "\n",
    "  def forward(self,x):\n",
    "    x = torch.relu(self.fc1(x))\n",
    "    x = torch.relu(self.fc2(x))\n",
    "    x = torch.sigmoid(self.fc3(x))#softmax\n",
    "    return x\n",
    "\n",
    "# Create an instance of BinaryClassifier \n",
    "# The input dim is the number of columns in the federated DataSet \n",
    "binary_classifier= BinaryClassifier(36,6,1)\n",
    "# define the optimizer and criterion\n",
    "optimizer,criterion = optim.SGD(binary_classifier.parameters(), lr=0.0001),nn.BCELoss()\n",
    "\n",
    "# Creating a new Model instance using the specific model created by DynamicModel\n",
    "global_model = Model(binary_classifier, optimizer, criterion)\n",
    "\n",
    "# The modal to be passed to the server \n",
    "global_model\n"
   ]
  },
  {
   "cell_type": "markdown",
   "metadata": {},
   "source": [
    "B. Create a Dynamic Using the DynamicModal class"
   ]
  },
  {
   "cell_type": "code",
   "execution_count": 3,
   "metadata": {},
   "outputs": [
    {
     "name": "stdout",
     "output_type": "stream",
     "text": [
      "1\n"
     ]
    },
    {
     "data": {
      "text/plain": [
       "[array([[-0.1254633 , -0.07519673,  0.02866435,  0.05872755, -0.03391539,\n",
       "          0.14312363,  0.10466322, -0.06742208, -0.15596199,  0.15703589,\n",
       "          0.05053191, -0.03312674,  0.03909436,  0.09136212,  0.13086554,\n",
       "          0.10036644,  0.07026191, -0.03124496,  0.10219809,  0.0412616 ,\n",
       "         -0.14119732,  0.15954298, -0.09969141,  0.07474513, -0.10587326,\n",
       "         -0.0893983 , -0.03948386,  0.05175923,  0.04886167,  0.03874338,\n",
       "         -0.09587692, -0.14240274,  0.15872177, -0.06800848, -0.03247753]],\n",
       "       dtype=float32),\n",
       " array([0.10612902], dtype=float32)]"
      ]
     },
     "execution_count": 3,
     "metadata": {},
     "output_type": "execute_result"
    }
   ],
   "source": [
    "# Creating a DynamicModel instance\n",
    "dynamic_model = DynamicModel()\n",
    "\n",
    "# Creating a specific model dynamically using DynamicModel\n",
    "specific_model = dynamic_model.create_model(model_type='Logistic Regressor', params_dict={\"input_dim\": 35, \"output_dim\": 1})\n",
    "\n",
    "# Pass the specific_model to the Model class\n",
    "optimizer = optim.SGD(specific_model.parameters(), lr=0.0001)\n",
    "criterion = nn.BCELoss()\n",
    "\n",
    "\n",
    "# Creating a new Model instance using the specific model created by DynamicModel\n",
    "global_model = Model(specific_model, optimizer, criterion)\n",
    "\n",
    "# The modal to be passed to the server\n",
    "global_model.get_parameters()"
   ]
  },
  {
   "cell_type": "code",
   "execution_count": 3,
   "metadata": {},
   "outputs": [
    {
     "name": "stdout",
     "output_type": "stream",
     "text": [
      "{}\n"
     ]
    },
    {
     "ename": "AttributeError",
     "evalue": "'DecisionTreeRegressor' object has no attribute 'parameters'",
     "output_type": "error",
     "traceback": [
      "\u001b[1;31m---------------------------------------------------------------------------\u001b[0m",
      "\u001b[1;31mAttributeError\u001b[0m                            Traceback (most recent call last)",
      "Cell \u001b[1;32mIn[3], line 8\u001b[0m\n\u001b[0;32m      5\u001b[0m specific_model \u001b[39m=\u001b[39m dynamic_model\u001b[39m.\u001b[39mcreate_model(model_type\u001b[39m=\u001b[39m\u001b[39m'\u001b[39m\u001b[39mDecision Tree Regressor\u001b[39m\u001b[39m'\u001b[39m )\n\u001b[0;32m      7\u001b[0m \u001b[39m# Pass the specific_model to the Model class\u001b[39;00m\n\u001b[1;32m----> 8\u001b[0m optimizer \u001b[39m=\u001b[39m optim\u001b[39m.\u001b[39mSGD(specific_model\u001b[39m.\u001b[39;49mparameters(), lr\u001b[39m=\u001b[39m\u001b[39m0.0001\u001b[39m)\n\u001b[0;32m      9\u001b[0m criterion \u001b[39m=\u001b[39m nn\u001b[39m.\u001b[39mBCELoss()\n\u001b[0;32m     12\u001b[0m \u001b[39m# Creating a new Model instance using the specific model created by DynamicModel\u001b[39;00m\n",
      "\u001b[1;31mAttributeError\u001b[0m: 'DecisionTreeRegressor' object has no attribute 'parameters'"
     ]
    }
   ],
   "source": [
    "# Creating a DynamicModel instance\n",
    "dynamic_model = DynamicModel()\n",
    "\n",
    "# Creating a specific model dynamically using DynamicModel\n",
    "specific_model = dynamic_model.create_model(model_type='Decision Tree Regressor' )\n",
    "\n",
    "# Pass the specific_model to the Model class\n",
    "optimizer = optim.SGD(specific_model.parameters(), lr=0.0001)\n",
    "criterion = nn.BCELoss()\n",
    "\n",
    "\n",
    "# Creating a new Model instance using the specific model created by DynamicModel\n",
    "global_model = Model(specific_model, optimizer, criterion)\n",
    "\n",
    "# The modal to be passed to the server\n",
    "global_model.get_parameters()"
   ]
  },
  {
   "cell_type": "markdown",
   "metadata": {},
   "source": [
    "### 1.2 Using the Transfer Learning \n",
    "\n",
    "in this method we will use a pretrained modal that we showed on the 3rd tutorial `3_transferLearning-checkpoint` "
   ]
  },
  {
   "cell_type": "code",
   "execution_count": 4,
   "metadata": {},
   "outputs": [],
   "source": [
    "# Define the neural network model using PyTorch\n",
    "class BinaryClassifier(nn.Module):\n",
    "    def __init__(self, input_dim):\n",
    "        super(BinaryClassifier, self).__init__()\n",
    "        self.fc1 = nn.Linear(input_dim, 64)\n",
    "        self.dropout1 = nn.Dropout(0.5)\n",
    "        self.fc2 = nn.Linear(64, 32)\n",
    "        self.dropout2 = nn.Dropout(0.3)\n",
    "        self.output = nn.Linear(32, 1)\n",
    "        self.sigmoid = nn.Sigmoid()\n",
    "\n",
    "    def forward(self, x):\n",
    "        x = torch.relu(self.fc1(x))\n",
    "        x = self.dropout1(x)\n",
    "        x = torch.relu(self.fc2(x))\n",
    "        x = self.dropout2(x)\n",
    "        x = self.output(x)\n",
    "        x = self.sigmoid(x)\n",
    "        return x"
   ]
  },
  {
   "cell_type": "code",
   "execution_count": 24,
   "metadata": {},
   "outputs": [
    {
     "ename": "AttributeError",
     "evalue": "Can't get attribute 'BinaryClassifier' on <module '__main__'>",
     "output_type": "error",
     "traceback": [
      "\u001b[1;31m---------------------------------------------------------------------------\u001b[0m",
      "\u001b[1;31mAttributeError\u001b[0m                            Traceback (most recent call last)",
      "Cell \u001b[1;32mIn[24], line 2\u001b[0m\n\u001b[0;32m      1\u001b[0m \u001b[39m# Load the pretrained model\u001b[39;00m\n\u001b[1;32m----> 2\u001b[0m model \u001b[39m=\u001b[39m Model\u001b[39m.\u001b[39;49mload_model(\u001b[39m\"\u001b[39;49m\u001b[39mbinary_classifier\u001b[39;49m\u001b[39m\"\u001b[39;49m)\n\u001b[0;32m      4\u001b[0m \u001b[39m# Pass the specific_model to the Model class\u001b[39;00m\n\u001b[0;32m      5\u001b[0m optimizer \u001b[39m=\u001b[39m optim\u001b[39m.\u001b[39mSGD(model\u001b[39m.\u001b[39mparameters(), lr\u001b[39m=\u001b[39m\u001b[39m0.0001\u001b[39m)\n",
      "File \u001b[1;32md:\\ESI\\3CS\\PFE\\last_year\\Code\\MEDfl\\Medfl\\LearningManager\\model.py:249\u001b[0m, in \u001b[0;36mModel.load_model\u001b[1;34m(model_name)\u001b[0m\n\u001b[0;32m    247\u001b[0m \u001b[39m@staticmethod\u001b[39m\n\u001b[0;32m    248\u001b[0m \u001b[39mdef\u001b[39;00m \u001b[39mload_model\u001b[39m(model_name:\u001b[39mstr\u001b[39m):\n\u001b[1;32m--> 249\u001b[0m     loadedModel \u001b[39m=\u001b[39m torch\u001b[39m.\u001b[39;49mload(\u001b[39m'\u001b[39;49m\u001b[39m../../notebooks/.ipynb_checkpoints/trainedModels/\u001b[39;49m\u001b[39m'\u001b[39;49m\u001b[39m+\u001b[39;49mmodel_name\u001b[39m+\u001b[39;49m\u001b[39m\"\u001b[39;49m\u001b[39m.pth\u001b[39;49m\u001b[39m\"\u001b[39;49m)\n\u001b[0;32m    250\u001b[0m     \u001b[39mreturn\u001b[39;00m loadedModel\n",
      "File \u001b[1;32m~\\AppData\\Roaming\\Python\\Python39\\site-packages\\torch\\serialization.py:1014\u001b[0m, in \u001b[0;36mload\u001b[1;34m(f, map_location, pickle_module, weights_only, mmap, **pickle_load_args)\u001b[0m\n\u001b[0;32m   1012\u001b[0m             \u001b[39mexcept\u001b[39;00m \u001b[39mRuntimeError\u001b[39;00m \u001b[39mas\u001b[39;00m e:\n\u001b[0;32m   1013\u001b[0m                 \u001b[39mraise\u001b[39;00m pickle\u001b[39m.\u001b[39mUnpicklingError(UNSAFE_MESSAGE \u001b[39m+\u001b[39m \u001b[39mstr\u001b[39m(e)) \u001b[39mfrom\u001b[39;00m \u001b[39mNone\u001b[39m\n\u001b[1;32m-> 1014\u001b[0m         \u001b[39mreturn\u001b[39;00m _load(opened_zipfile,\n\u001b[0;32m   1015\u001b[0m                      map_location,\n\u001b[0;32m   1016\u001b[0m                      pickle_module,\n\u001b[0;32m   1017\u001b[0m                      overall_storage\u001b[39m=\u001b[39moverall_storage,\n\u001b[0;32m   1018\u001b[0m                      \u001b[39m*\u001b[39m\u001b[39m*\u001b[39mpickle_load_args)\n\u001b[0;32m   1019\u001b[0m \u001b[39mif\u001b[39;00m mmap:\n\u001b[0;32m   1020\u001b[0m     \u001b[39mraise\u001b[39;00m \u001b[39mRuntimeError\u001b[39;00m(\u001b[39m\"\u001b[39m\u001b[39mmmap can only be used with files saved with \u001b[39m\u001b[39m\"\u001b[39m,\n\u001b[0;32m   1021\u001b[0m                        \u001b[39m\"\u001b[39m\u001b[39m`torch.save(_use_new_zipfile_serialization=True), \u001b[39m\u001b[39m\"\u001b[39m\n\u001b[0;32m   1022\u001b[0m                        \u001b[39m\"\u001b[39m\u001b[39mplease torch.save your checkpoint with this option in order to use mmap.\u001b[39m\u001b[39m\"\u001b[39m)\n",
      "File \u001b[1;32m~\\AppData\\Roaming\\Python\\Python39\\site-packages\\torch\\serialization.py:1422\u001b[0m, in \u001b[0;36m_load\u001b[1;34m(zip_file, map_location, pickle_module, pickle_file, overall_storage, **pickle_load_args)\u001b[0m\n\u001b[0;32m   1420\u001b[0m unpickler \u001b[39m=\u001b[39m UnpicklerWrapper(data_file, \u001b[39m*\u001b[39m\u001b[39m*\u001b[39mpickle_load_args)\n\u001b[0;32m   1421\u001b[0m unpickler\u001b[39m.\u001b[39mpersistent_load \u001b[39m=\u001b[39m persistent_load\n\u001b[1;32m-> 1422\u001b[0m result \u001b[39m=\u001b[39m unpickler\u001b[39m.\u001b[39;49mload()\n\u001b[0;32m   1424\u001b[0m torch\u001b[39m.\u001b[39m_utils\u001b[39m.\u001b[39m_validate_loaded_sparse_tensors()\n\u001b[0;32m   1425\u001b[0m torch\u001b[39m.\u001b[39m_C\u001b[39m.\u001b[39m_log_api_usage_metadata(\n\u001b[0;32m   1426\u001b[0m     \u001b[39m\"\u001b[39m\u001b[39mtorch.load.metadata\u001b[39m\u001b[39m\"\u001b[39m, {\u001b[39m\"\u001b[39m\u001b[39mserialization_id\u001b[39m\u001b[39m\"\u001b[39m: zip_file\u001b[39m.\u001b[39mserialization_id()}\n\u001b[0;32m   1427\u001b[0m )\n",
      "File \u001b[1;32m~\\AppData\\Roaming\\Python\\Python39\\site-packages\\torch\\serialization.py:1415\u001b[0m, in \u001b[0;36m_load.<locals>.UnpicklerWrapper.find_class\u001b[1;34m(self, mod_name, name)\u001b[0m\n\u001b[0;32m   1413\u001b[0m         \u001b[39mpass\u001b[39;00m\n\u001b[0;32m   1414\u001b[0m mod_name \u001b[39m=\u001b[39m load_module_mapping\u001b[39m.\u001b[39mget(mod_name, mod_name)\n\u001b[1;32m-> 1415\u001b[0m \u001b[39mreturn\u001b[39;00m \u001b[39msuper\u001b[39;49m()\u001b[39m.\u001b[39;49mfind_class(mod_name, name)\n",
      "\u001b[1;31mAttributeError\u001b[0m: Can't get attribute 'BinaryClassifier' on <module '__main__'>"
     ]
    }
   ],
   "source": [
    "# Load the pretrained model\n",
    "model = Model.load_model(\"binary_classifier\")\n",
    "\n",
    "# Pass the specific_model to the Model class\n",
    "optimizer = optim.SGD(model.parameters(), lr=0.0001)\n",
    "criterion = nn.BCELoss()\n",
    "\n",
    "# Creating a new Model instance using the specific model created by DynamicModel\n",
    "global_model = Model(model, optimizer, criterion)\n",
    "\n",
    "# Get the initial params of the model \n",
    "init_params = global_model.get_parameters() ; \n",
    "\n",
    "print(init_params)\n",
    "# The modal to be passed to the server \n",
    "global_model"
   ]
  },
  {
   "cell_type": "markdown",
   "metadata": {},
   "source": [
    "### 2. Define the Aggregation Algorithms (**Aggregation Strategy**)\n",
    "\n",
    "Aggregation algorithms are the mechanizms used by the server to produce a joint unified model, they are known as <b>Strategies</b> on <b>Flower</b>,  in the literature we have many aggregation algorithms, it's true that not all of them are implemented in flower, but we have the most used ones:\n",
    " <ul>\n",
    "    <li><a href = \"arxiv.org/abs/1602.05629\">Federated Averaging (FedAvg)</a></li>\n",
    "    <li><a href = \"arxiv.org/abs/2003.00295\">Adaptive Federated Optimization using Adam (FedAdam)</a></li>\n",
    "    <li><a href = \"arxiv.org/pdf/1803.01498v1.pdf\">Federated Median (FedMedian)</a></li>\n",
    "    <li><a href = \"arxiv.org/pdf/1909.06335.pdf\">Federated Averaging with Momentum (FedAvgM)</a></li>\n",
    "    <li><a href = \"arxiv.org/abs/2003.00295\">Adaptive Federated Optimization using Yogi (FedYogi)</a></li>\n",
    "    <li><a href = \"arxiv.org/abs/2003.00295\">Adaptive Federated Optimization (FedOpt)</a></li>\n",
    "    <li><a href = \"arxiv.org/abs/1812.06127\">Federated Optimization (FedProx)</a></li>\n",
    "    <li><a href = \"openreview.net/pdf?id=ByexElSYDr\">FAIR RESOURCE ALLOCATION IN FEDERATED LEARNING (QFedAvg)</a></li>\n",
    "    <li><a href = \"arxiv.org/abs/2003.00295\">Adaptive Federated Optimization using Adagrad (FedAdagrad)</a></li>\n",
    " </ul>\n",
    "We can also find them on the strategy directory on Flower."
   ]
  },
  {
   "cell_type": "code",
   "execution_count": 4,
   "metadata": {},
   "outputs": [
    {
     "data": {
      "text/plain": [
       "['FaultTolerantFedAvg',\n",
       " 'FedAdagrad',\n",
       " 'FedAdam',\n",
       " 'FedAvg',\n",
       " 'FedAvgAndroid',\n",
       " 'FedAvgM',\n",
       " 'FedMedian',\n",
       " 'FedOpt',\n",
       " 'FedProx',\n",
       " 'FedTrimmedAvg',\n",
       " 'FedXgbNnAvg',\n",
       " 'FedYogi',\n",
       " 'QFedAvg',\n",
       " 'Strategy',\n",
       " '__all__',\n",
       " '__builtins__',\n",
       " '__cached__',\n",
       " '__doc__',\n",
       " '__file__',\n",
       " '__loader__',\n",
       " '__name__',\n",
       " '__package__',\n",
       " '__path__',\n",
       " '__spec__',\n",
       " 'aggregate',\n",
       " 'fault_tolerant_fedavg',\n",
       " 'fedadagrad',\n",
       " 'fedadam',\n",
       " 'fedavg',\n",
       " 'fedavg_android',\n",
       " 'fedavgm',\n",
       " 'fedmedian',\n",
       " 'fedopt',\n",
       " 'fedprox',\n",
       " 'fedtrimmedavg',\n",
       " 'fedxgb_nn_avg',\n",
       " 'fedyogi',\n",
       " 'qfedavg',\n",
       " 'strategy']"
      ]
     },
     "execution_count": 4,
     "metadata": {},
     "output_type": "execute_result"
    }
   ],
   "source": [
    "# List all available aggregation strategies on flower \n",
    "dir(fl.server.strategy)"
   ]
  },
  {
   "cell_type": "markdown",
   "metadata": {},
   "source": [
    "<div style=\"display : flex\"> \n",
    "<div >The creation of a strategy is based on the \"Strategy\" Class, it's enough to pass the name of one of the mentionned strategies, and other federated learning parameters which are used during federation rounds.\n",
    "\n",
    "<ul>\n",
    "    <li><u>fraction_fit :</u> the fraction of clients to sample in order  to train the model </li>\n",
    "    <li><u>fraction_evaluate  :</u> the fraction of clients to sample in order to evaluate the model (validation) </li>\n",
    "    <li><u>min_fit_clients :</u>  the minimum number of clients to sample for the training on each round</li>\n",
    "    <li><u>min_evaluate_clients :</u> the minimum number of clients to be sampled for the evaluation on each round </li>\n",
    "    <li><u>min_available_clients :</u> the minimum  required number of available clients to start a federation round </li>\n",
    "<ul></div>\n",
    "<div>\n",
    "<img src='../Images/strategy.png' width=\"80%\" style=\"display: block  ; margin : 0 auto\" />\n",
    "</div>\n",
    "</div>\n",
    "\n"
   ]
  },
  {
   "cell_type": "code",
   "execution_count": 4,
   "metadata": {},
   "outputs": [],
   "source": [
    "# Create the strategy\n",
    "fed_avg = Strategy(\"FedAvg\", \n",
    "                   fraction_fit = 1.0 ,\n",
    "                   fraction_evaluate = 1.0,\n",
    "                   min_fit_clients = 2,\n",
    "                   min_evaluate_clients = 2,\n",
    "                   min_available_clients = 2 , \n",
    "                   initial_parameters=global_model.get_parameters())"
   ]
  },
  {
   "cell_type": "markdown",
   "metadata": {},
   "source": [
    "### 3. Federated Learning Server\n",
    "The server in the FL terminology, is the set of the mechanizms that orchestrate  all the FL processes, (distributing the model to  clients, getting the models updates from clients, aggregate these updates. \n",
    "\n",
    "**Remark :** The FL Server has no relation ! with webservers or any other server concepts.\n",
    "\n",
    "#### MEDfl server\n",
    "\n",
    "<div style=\"display : flex\"> \n",
    "<div >\n",
    "\n",
    "The FL server on MEDfl, is based on the server class of Flower, but with our customization, because we have addeda gradient perturbing feature using [Opacus](https://opacus.ai), so we can make the FLpipeline **differentially privacy** </b> \n",
    "\n",
    "The FLserver in MEDfl, has the follwoing attributes : \n",
    "\n",
    "<ul>\n",
    "    <li> <u>global_model :</u> The global model\n",
    "    <li> <u>strategy :</u> The  aggregation strategy\n",
    "    <li> <u>num_rounds :</u> The number of federation rounds\n",
    "    <li> <u>num_clients :</u> The number of train nodes\n",
    "    <li> <u>dataset :</u> The federated dataset generated by an FLsetup\n",
    "    <li> <u>diff_privacy :</u> a boolean variable to  enable (disable) the Differentially Private training mode\n",
    "</ul>\n",
    "\n",
    "</div>\n",
    "<div>\n",
    "<img src='../Images/createServer.png' width=\"250\" style=\"display: block  ; margin : 0 auto\" />\n",
    "</div>\n",
    "</div>\n",
    "\n"
   ]
  },
  {
   "cell_type": "markdown",
   "metadata": {},
   "source": [
    "For the federated Dataset will use the one generated on the 2nd tuto `2_NetManager-checkpoint`"
   ]
  },
  {
   "cell_type": "code",
   "execution_count": 5,
   "metadata": {},
   "outputs": [
    {
     "data": {
      "text/plain": [
       "1"
      ]
     },
     "execution_count": 5,
     "metadata": {},
     "output_type": "execute_result"
    }
   ],
   "source": [
    "# use the auto setup created on the second tuto\n",
    "fl_setup = FLsetup.read_setup(1)\n",
    "fl_setup.id"
   ]
  },
  {
   "cell_type": "code",
   "execution_count": 6,
   "metadata": {},
   "outputs": [
    {
     "data": {
      "text/html": [
       "<div>\n",
       "<style scoped>\n",
       "    .dataframe tbody tr th:only-of-type {\n",
       "        vertical-align: middle;\n",
       "    }\n",
       "\n",
       "    .dataframe tbody tr th {\n",
       "        vertical-align: top;\n",
       "    }\n",
       "\n",
       "    .dataframe thead th {\n",
       "        text-align: right;\n",
       "    }\n",
       "</style>\n",
       "<table border=\"1\" class=\"dataframe\">\n",
       "  <thead>\n",
       "    <tr style=\"text-align: right;\">\n",
       "      <th></th>\n",
       "      <th>FedId</th>\n",
       "      <th>FLsetupId</th>\n",
       "      <th>FLpipeId</th>\n",
       "      <th>name</th>\n",
       "    </tr>\n",
       "  </thead>\n",
       "  <tbody>\n",
       "    <tr>\n",
       "      <th>0</th>\n",
       "      <td>1</td>\n",
       "      <td>1</td>\n",
       "      <td>None</td>\n",
       "      <td>Manual_Flsetup_Feddataset</td>\n",
       "    </tr>\n",
       "  </tbody>\n",
       "</table>\n",
       "</div>"
      ],
      "text/plain": [
       "   FedId  FLsetupId FLpipeId                       name\n",
       "0      1          1     None  Manual_Flsetup_Feddataset"
      ]
     },
     "execution_count": 6,
     "metadata": {},
     "output_type": "execute_result"
    }
   ],
   "source": [
    "# The federated dataset is already created \n",
    "fl_setup.get_flDataSet()"
   ]
  },
  {
   "cell_type": "code",
   "execution_count": 7,
   "metadata": {},
   "outputs": [
    {
     "data": {
      "text/plain": [
       "35"
      ]
     },
     "execution_count": 7,
     "metadata": {},
     "output_type": "execute_result"
    }
   ],
   "source": [
    "# Create the federated Data set ( in our case the federated Dataset is created it will use it directly)\n",
    "fl_dataset = fl_setup.create_federated_dataset(\n",
    "   output=\"deceased\", \n",
    "    fit_encode=[], \n",
    "    to_drop=[ \"DataSetId\" , \"DataSetName\" , \"NodeId\" , \"hospitalid\" , \"subject_id\" , \"hadm_id\" , \"patientunitstayid\" , \"deceased\" ], \n",
    "  )\n",
    "\n",
    "fl_dataset.size"
   ]
  },
  {
   "cell_type": "code",
   "execution_count": 8,
   "metadata": {},
   "outputs": [],
   "source": [
    "# Create The server \n",
    "server = FlowerServer(global_model, strategy = fed_avg, num_rounds = 10,\n",
    "                       num_clients  = len(fl_dataset.trainloaders), \n",
    "                       fed_dataset = fl_dataset,diff_privacy = False ,\n",
    "                       # You can change the resources alocated for each client based on your machine \n",
    "                       client_resources={'num_cpus': 1.0, 'num_gpus': 0.0}\n",
    "                       )"
   ]
  },
  {
   "cell_type": "markdown",
   "metadata": {},
   "source": [
    "### 4. FL Pipeline Creation\n",
    "\n",
    "<div style=\"display : flex\"> \n",
    "<div >\n",
    "\n",
    "The Federated pipeline is the class responsible of running the federated learning process, launch the training of the model then test it and store the results in the database \n",
    "\n",
    "To create a pipeline we need to provide the `name`, `description` and finaly the `server` \n",
    "\n",
    "</div>\n",
    "<div>\n",
    "<img src='../Images/pipeline.png' width=\"250\" style=\"display: block  ; margin : 0 auto\" />\n",
    "</div>\n",
    "</div>\n",
    "\n"
   ]
  },
  {
   "cell_type": "code",
   "execution_count": 9,
   "metadata": {},
   "outputs": [],
   "source": [
    "# Create the pipeline \n",
    "ppl_1 = FLpipeline( name =\"the second fl_pipeline\",description = \"this is our second FL pipeline\",\n",
    "                   server = server)"
   ]
  },
  {
   "cell_type": "code",
   "execution_count": 11,
   "metadata": {},
   "outputs": [
    {
     "data": {
      "text/plain": [
       "['hospital_1', 'hospital_2', 'hospital_3']"
      ]
     },
     "execution_count": 11,
     "metadata": {},
     "output_type": "execute_result"
    }
   ],
   "source": [
    "# Display the Tests nodes on the federated dataset\n",
    "ppl_1.server.fed_dataset.test_nodes"
   ]
  },
  {
   "cell_type": "code",
   "execution_count": 12,
   "metadata": {},
   "outputs": [
    {
     "name": "stdout",
     "output_type": "stream",
     "text": [
      "400\n",
      "400\n",
      "2000\n"
     ]
    }
   ],
   "source": [
    "print(len(ppl_1.server.fed_dataset.testloaders[0]))\n",
    "print(len(ppl_1.server.fed_dataset.testloaders[1]))\n",
    "print(len(ppl_1.server.fed_dataset.testloaders[2]))"
   ]
  },
  {
   "cell_type": "code",
   "execution_count": 10,
   "metadata": {},
   "outputs": [
    {
     "name": "stderr",
     "output_type": "stream",
     "text": [
      "INFO flwr 2024-01-17 16:18:30,841 | app.py:175 | Starting Flower simulation, config: ServerConfig(num_rounds=10, round_timeout=None)\n",
      "01/17/2024 16:18:30:INFO:Starting Flower simulation, config: ServerConfig(num_rounds=10, round_timeout=None)\n",
      "2024-01-17 16:18:40,789\tINFO worker.py:1621 -- Started a local Ray instance.\n",
      "INFO flwr 2024-01-17 16:18:47,507 | app.py:210 | Flower VCE: Ray initialized with resources: {'CPU': 8.0, 'node:127.0.0.1': 1.0, 'memory': 878504756.0, 'object_store_memory': 78643200.0, 'node:__internal_head__': 1.0}\n",
      "01/17/2024 16:18:47:INFO:Flower VCE: Ray initialized with resources: {'CPU': 8.0, 'node:127.0.0.1': 1.0, 'memory': 878504756.0, 'object_store_memory': 78643200.0, 'node:__internal_head__': 1.0}\n",
      "INFO flwr 2024-01-17 16:18:47,511 | app.py:224 | Flower VCE: Resources for each Virtual Client: {'num_cpus': 1.0, 'num_gpus': 0.0}\n",
      "01/17/2024 16:18:47:INFO:Flower VCE: Resources for each Virtual Client: {'num_cpus': 1.0, 'num_gpus': 0.0}\n",
      "INFO flwr 2024-01-17 16:18:47,608 | app.py:270 | Flower VCE: Creating VirtualClientEngineActorPool with 8 actors\n",
      "01/17/2024 16:18:47:INFO:Flower VCE: Creating VirtualClientEngineActorPool with 8 actors\n",
      "INFO flwr 2024-01-17 16:18:47,613 | server.py:89 | Initializing global parameters\n",
      "01/17/2024 16:18:47:INFO:Initializing global parameters\n",
      "INFO flwr 2024-01-17 16:18:47,617 | server.py:272 | Using initial parameters provided by strategy\n",
      "01/17/2024 16:18:47:INFO:Using initial parameters provided by strategy\n",
      "INFO flwr 2024-01-17 16:18:47,623 | server.py:91 | Evaluating initial parameters\n",
      "01/17/2024 16:18:47:INFO:Evaluating initial parameters\n",
      "INFO flwr 2024-01-17 16:18:47,853 | server.py:94 | initial parameters (loss, other metrics): 0.2541285216808319, {'accuracy': 0.9125}\n",
      "01/17/2024 16:18:47:INFO:initial parameters (loss, other metrics): 0.2541285216808319, {'accuracy': 0.9125}\n",
      "INFO flwr 2024-01-17 16:18:47,864 | server.py:104 | FL starting\n",
      "01/17/2024 16:18:47:INFO:FL starting\n",
      "DEBUG flwr 2024-01-17 16:18:47,873 | server.py:222 | fit_round 1: strategy sampled 2 clients (out of 2)\n",
      "01/17/2024 16:18:47:DEBUG:fit_round 1: strategy sampled 2 clients (out of 2)\n"
     ]
    },
    {
     "name": "stdout",
     "output_type": "stream",
     "text": [
      "Server-side evaluation loss 0.2541285216808319 / accuracy 0.9125\n"
     ]
    },
    {
     "name": "stderr",
     "output_type": "stream",
     "text": [
      "\u001b[2m\u001b[36m(DefaultActor pid=17428)\u001b[0m C:\\Users\\HP User\\AppData\\Roaming\\Python\\Python39\\site-packages\\opacus\\privacy_engine.py:142: UserWarning: Secure RNG turned off. This is perfectly fine for experimentation as it allows for much faster training performance, but remember to turn it on and retrain one last time before production with ``secure_mode`` turned on.\n",
      "\u001b[2m\u001b[36m(DefaultActor pid=17428)\u001b[0m   warnings.warn(\n"
     ]
    },
    {
     "name": "stdout",
     "output_type": "stream",
     "text": [
      "\u001b[2m\u001b[36m(DefaultActor pid=17428)\u001b[0m [Client 1] fit, config: {}\n",
      "\u001b[2m\u001b[36m(DefaultActor pid=17428)\u001b[0m \tTrain Epoch: 0 \tLoss: 3.513450 Acc@1: 0.000000\n",
      "\u001b[2m\u001b[36m(DefaultActor pid=17428)\u001b[0m \tTrain Epoch: 0 \tLoss: 5.980156 Acc@1: 4.375000\n",
      "\u001b[2m\u001b[36m(DefaultActor pid=17428)\u001b[0m \tTrain Epoch: 0 \tLoss: 6.391590 Acc@1: 6.041667\n"
     ]
    },
    {
     "name": "stderr",
     "output_type": "stream",
     "text": [
      "DEBUG flwr 2024-01-17 16:19:13,078 | server.py:236 | fit_round 1 received 2 results and 0 failures\n",
      "01/17/2024 16:19:13:DEBUG:fit_round 1 received 2 results and 0 failures\n",
      "WARNING flwr 2024-01-17 16:19:13,088 | fedavg.py:242 | No fit_metrics_aggregation_fn provided\n",
      "01/17/2024 16:19:13:WARNING:No fit_metrics_aggregation_fn provided\n",
      "INFO flwr 2024-01-17 16:19:13,119 | server.py:125 | fit progress: (1, 0.25390625, {'accuracy': 0.91875}, 25.246969899999996)\n",
      "01/17/2024 16:19:13:INFO:fit progress: (1, 0.25390625, {'accuracy': 0.91875}, 25.246969899999996)\n",
      "DEBUG flwr 2024-01-17 16:19:13,125 | server.py:173 | evaluate_round 1: strategy sampled 2 clients (out of 2)\n",
      "01/17/2024 16:19:13:DEBUG:evaluate_round 1: strategy sampled 2 clients (out of 2)\n"
     ]
    },
    {
     "name": "stdout",
     "output_type": "stream",
     "text": [
      "\u001b[2m\u001b[36m(DefaultActor pid=6976)\u001b[0m epsilon of client 0 : eps = 0\n",
      "Server-side evaluation loss 0.25390625 / accuracy 0.91875\n"
     ]
    },
    {
     "name": "stderr",
     "output_type": "stream",
     "text": [
      "DEBUG flwr 2024-01-17 16:19:13,302 | server.py:187 | evaluate_round 1 received 2 results and 0 failures\n",
      "01/17/2024 16:19:13:DEBUG:evaluate_round 1 received 2 results and 0 failures\n",
      "WARNING flwr 2024-01-17 16:19:13,310 | fedavg.py:273 | No evaluate_metrics_aggregation_fn provided\n",
      "01/17/2024 16:19:13:WARNING:No evaluate_metrics_aggregation_fn provided\n",
      "DEBUG flwr 2024-01-17 16:19:13,315 | server.py:222 | fit_round 2: strategy sampled 2 clients (out of 2)\n",
      "01/17/2024 16:19:13:DEBUG:fit_round 2: strategy sampled 2 clients (out of 2)\n"
     ]
    },
    {
     "name": "stdout",
     "output_type": "stream",
     "text": [
      "\u001b[2m\u001b[36m(DefaultActor pid=17428)\u001b[0m [Client 1] evaluate, config: {}\n"
     ]
    },
    {
     "name": "stderr",
     "output_type": "stream",
     "text": [
      "DEBUG flwr 2024-01-17 16:19:14,806 | server.py:236 | fit_round 2 received 2 results and 0 failures\n",
      "01/17/2024 16:19:14:DEBUG:fit_round 2 received 2 results and 0 failures\n",
      "INFO flwr 2024-01-17 16:19:14,841 | server.py:125 | fit progress: (2, 0.25390625, {'accuracy': 0.91875}, 26.969286100000005)\n",
      "01/17/2024 16:19:14:INFO:fit progress: (2, 0.25390625, {'accuracy': 0.91875}, 26.969286100000005)\n",
      "DEBUG flwr 2024-01-17 16:19:14,851 | server.py:173 | evaluate_round 2: strategy sampled 2 clients (out of 2)\n",
      "01/17/2024 16:19:14:DEBUG:evaluate_round 2: strategy sampled 2 clients (out of 2)\n",
      "DEBUG flwr 2024-01-17 16:19:15,018 | server.py:187 | evaluate_round 2 received 2 results and 0 failures\n"
     ]
    },
    {
     "name": "stdout",
     "output_type": "stream",
     "text": [
      "Server-side evaluation loss 0.25390625 / accuracy 0.91875\n"
     ]
    },
    {
     "name": "stderr",
     "output_type": "stream",
     "text": [
      "01/17/2024 16:19:15:DEBUG:evaluate_round 2 received 2 results and 0 failures\n",
      "DEBUG flwr 2024-01-17 16:19:15,023 | server.py:222 | fit_round 3: strategy sampled 2 clients (out of 2)\n",
      "01/17/2024 16:19:15:DEBUG:fit_round 3: strategy sampled 2 clients (out of 2)\n",
      "\u001b[2m\u001b[36m(DefaultActor pid=17428)\u001b[0m C:\\Users\\HP User\\AppData\\Roaming\\Python\\Python39\\site-packages\\opacus\\privacy_engine.py:142: UserWarning: Secure RNG turned off. This is perfectly fine for experimentation as it allows for much faster training performance, but remember to turn it on and retrain one last time before production with ``secure_mode`` turned on.\u001b[32m [repeated 6x across cluster] (Ray deduplicates logs by default. Set RAY_DEDUP_LOGS=0 to disable log deduplication, or see https://docs.ray.io/en/master/ray-observability/ray-logging.html#log-deduplication for more options.)\u001b[0m\n",
      "\u001b[2m\u001b[36m(DefaultActor pid=17428)\u001b[0m   warnings.warn(\u001b[32m [repeated 6x across cluster]\u001b[0m\n"
     ]
    },
    {
     "name": "stdout",
     "output_type": "stream",
     "text": [
      "\u001b[2m\u001b[36m(DefaultActor pid=17428)\u001b[0m [Client 0] fit, config: {}\u001b[32m [repeated 4x across cluster]\u001b[0m\n"
     ]
    },
    {
     "name": "stderr",
     "output_type": "stream",
     "text": [
      "DEBUG flwr 2024-01-17 16:19:16,675 | server.py:236 | fit_round 3 received 2 results and 0 failures\n",
      "01/17/2024 16:19:16:DEBUG:fit_round 3 received 2 results and 0 failures\n",
      "INFO flwr 2024-01-17 16:19:16,718 | server.py:125 | fit progress: (3, 0.25390625, {'accuracy': 0.91875}, 28.845795800000005)\n",
      "01/17/2024 16:19:16:INFO:fit progress: (3, 0.25390625, {'accuracy': 0.91875}, 28.845795800000005)\n",
      "DEBUG flwr 2024-01-17 16:19:16,723 | server.py:173 | evaluate_round 3: strategy sampled 2 clients (out of 2)\n",
      "01/17/2024 16:19:16:DEBUG:evaluate_round 3: strategy sampled 2 clients (out of 2)\n",
      "DEBUG flwr 2024-01-17 16:19:16,891 | server.py:187 | evaluate_round 3 received 2 results and 0 failures\n"
     ]
    },
    {
     "name": "stdout",
     "output_type": "stream",
     "text": [
      "Server-side evaluation loss 0.25390625 / accuracy 0.91875\n"
     ]
    },
    {
     "name": "stderr",
     "output_type": "stream",
     "text": [
      "01/17/2024 16:19:16:DEBUG:evaluate_round 3 received 2 results and 0 failures\n",
      "DEBUG flwr 2024-01-17 16:19:16,907 | server.py:222 | fit_round 4: strategy sampled 2 clients (out of 2)\n",
      "01/17/2024 16:19:16:DEBUG:fit_round 4: strategy sampled 2 clients (out of 2)\n"
     ]
    },
    {
     "name": "stdout",
     "output_type": "stream",
     "text": [
      "\u001b[2m\u001b[36m(DefaultActor pid=17428)\u001b[0m \tTrain Epoch: 5 \tLoss: 7.282473 Acc@1: 2.500000\u001b[32m [repeated 141x across cluster]\u001b[0m\n",
      "\u001b[2m\u001b[36m(DefaultActor pid=17428)\u001b[0m epsilon of client 0 : eps = 0\u001b[32m [repeated 5x across cluster]\u001b[0m\n",
      "\u001b[2m\u001b[36m(DefaultActor pid=6976)\u001b[0m [Client 1] evaluate, config: {}\u001b[32m [repeated 5x across cluster]\u001b[0m\n"
     ]
    },
    {
     "name": "stderr",
     "output_type": "stream",
     "text": [
      "DEBUG flwr 2024-01-17 16:19:18,496 | server.py:236 | fit_round 4 received 2 results and 0 failures\n",
      "01/17/2024 16:19:18:DEBUG:fit_round 4 received 2 results and 0 failures\n",
      "INFO flwr 2024-01-17 16:19:18,544 | server.py:125 | fit progress: (4, 0.25390625, {'accuracy': 0.91875}, 30.6730668)\n",
      "01/17/2024 16:19:18:INFO:fit progress: (4, 0.25390625, {'accuracy': 0.91875}, 30.6730668)\n",
      "DEBUG flwr 2024-01-17 16:19:18,551 | server.py:173 | evaluate_round 4: strategy sampled 2 clients (out of 2)\n",
      "01/17/2024 16:19:18:DEBUG:evaluate_round 4: strategy sampled 2 clients (out of 2)\n",
      "DEBUG flwr 2024-01-17 16:19:18,699 | server.py:187 | evaluate_round 4 received 2 results and 0 failures\n",
      "01/17/2024 16:19:18:DEBUG:evaluate_round 4 received 2 results and 0 failures\n",
      "DEBUG flwr 2024-01-17 16:19:18,708 | server.py:222 | fit_round 5: strategy sampled 2 clients (out of 2)\n",
      "01/17/2024 16:19:18:DEBUG:fit_round 5: strategy sampled 2 clients (out of 2)\n"
     ]
    },
    {
     "name": "stdout",
     "output_type": "stream",
     "text": [
      "Server-side evaluation loss 0.25390625 / accuracy 0.91875\n"
     ]
    },
    {
     "name": "stderr",
     "output_type": "stream",
     "text": [
      "DEBUG flwr 2024-01-17 16:19:20,259 | server.py:236 | fit_round 5 received 2 results and 0 failures\n",
      "01/17/2024 16:19:20:DEBUG:fit_round 5 received 2 results and 0 failures\n",
      "INFO flwr 2024-01-17 16:19:20,300 | server.py:125 | fit progress: (5, 0.25390625, {'accuracy': 0.91875}, 32.42872700000001)\n",
      "01/17/2024 16:19:20:INFO:fit progress: (5, 0.25390625, {'accuracy': 0.91875}, 32.42872700000001)\n",
      "DEBUG flwr 2024-01-17 16:19:20,308 | server.py:173 | evaluate_round 5: strategy sampled 2 clients (out of 2)\n",
      "01/17/2024 16:19:20:DEBUG:evaluate_round 5: strategy sampled 2 clients (out of 2)\n"
     ]
    },
    {
     "name": "stdout",
     "output_type": "stream",
     "text": [
      "\u001b[2m\u001b[36m(DefaultActor pid=6976)\u001b[0m [Client 1] fit, config: {}\u001b[32m [repeated 5x across cluster]\u001b[0m\n",
      "Server-side evaluation loss 0.25390625 / accuracy 0.91875\n"
     ]
    },
    {
     "name": "stderr",
     "output_type": "stream",
     "text": [
      "DEBUG flwr 2024-01-17 16:19:20,473 | server.py:187 | evaluate_round 5 received 2 results and 0 failures\n",
      "01/17/2024 16:19:20:DEBUG:evaluate_round 5 received 2 results and 0 failures\n",
      "DEBUG flwr 2024-01-17 16:19:20,480 | server.py:222 | fit_round 6: strategy sampled 2 clients (out of 2)\n",
      "01/17/2024 16:19:20:DEBUG:fit_round 6: strategy sampled 2 clients (out of 2)\n",
      "\u001b[2m\u001b[36m(DefaultActor pid=17428)\u001b[0m C:\\Users\\HP User\\AppData\\Roaming\\Python\\Python39\\site-packages\\opacus\\privacy_engine.py:142: UserWarning: Secure RNG turned off. This is perfectly fine for experimentation as it allows for much faster training performance, but remember to turn it on and retrain one last time before production with ``secure_mode`` turned on.\u001b[32m [repeated 6x across cluster]\u001b[0m\n",
      "\u001b[2m\u001b[36m(DefaultActor pid=17428)\u001b[0m   warnings.warn(\u001b[32m [repeated 6x across cluster]\u001b[0m\n",
      "DEBUG flwr 2024-01-17 16:19:21,990 | server.py:236 | fit_round 6 received 2 results and 0 failures\n",
      "01/17/2024 16:19:21:DEBUG:fit_round 6 received 2 results and 0 failures\n",
      "INFO flwr 2024-01-17 16:19:22,044 | server.py:125 | fit progress: (6, 0.2539062529802322, {'accuracy': 0.91875}, 34.171354300000004)\n",
      "01/17/2024 16:19:22:INFO:fit progress: (6, 0.2539062529802322, {'accuracy': 0.91875}, 34.171354300000004)\n",
      "DEBUG flwr 2024-01-17 16:19:22,050 | server.py:173 | evaluate_round 6: strategy sampled 2 clients (out of 2)\n",
      "01/17/2024 16:19:22:DEBUG:evaluate_round 6: strategy sampled 2 clients (out of 2)\n"
     ]
    },
    {
     "name": "stdout",
     "output_type": "stream",
     "text": [
      "\u001b[2m\u001b[36m(DefaultActor pid=6976)\u001b[0m \tTrain Epoch: 5 \tLoss: 6.796513 Acc@1: 2.109375\u001b[32m [repeated 144x across cluster]\u001b[0m\n",
      "Server-side evaluation loss 0.2539062529802322 / accuracy 0.91875\n"
     ]
    },
    {
     "name": "stderr",
     "output_type": "stream",
     "text": [
      "DEBUG flwr 2024-01-17 16:19:22,211 | server.py:187 | evaluate_round 6 received 2 results and 0 failures\n",
      "01/17/2024 16:19:22:DEBUG:evaluate_round 6 received 2 results and 0 failures\n",
      "DEBUG flwr 2024-01-17 16:19:22,215 | server.py:222 | fit_round 7: strategy sampled 2 clients (out of 2)\n",
      "01/17/2024 16:19:22:DEBUG:fit_round 7: strategy sampled 2 clients (out of 2)\n"
     ]
    },
    {
     "name": "stdout",
     "output_type": "stream",
     "text": [
      "\u001b[2m\u001b[36m(DefaultActor pid=6976)\u001b[0m epsilon of client 0 : eps = 0\u001b[32m [repeated 6x across cluster]\u001b[0m\n",
      "\u001b[2m\u001b[36m(DefaultActor pid=17428)\u001b[0m [Client 0] evaluate, config: {}\u001b[32m [repeated 6x across cluster]\u001b[0m\n"
     ]
    },
    {
     "name": "stderr",
     "output_type": "stream",
     "text": [
      "DEBUG flwr 2024-01-17 16:19:23,616 | server.py:236 | fit_round 7 received 2 results and 0 failures\n",
      "01/17/2024 16:19:23:DEBUG:fit_round 7 received 2 results and 0 failures\n",
      "INFO flwr 2024-01-17 16:19:23,662 | server.py:125 | fit progress: (7, 0.2539062678813934, {'accuracy': 0.91875}, 35.790113000000005)\n",
      "01/17/2024 16:19:23:INFO:fit progress: (7, 0.2539062678813934, {'accuracy': 0.91875}, 35.790113000000005)\n",
      "DEBUG flwr 2024-01-17 16:19:23,671 | server.py:173 | evaluate_round 7: strategy sampled 2 clients (out of 2)\n",
      "01/17/2024 16:19:23:DEBUG:evaluate_round 7: strategy sampled 2 clients (out of 2)\n"
     ]
    },
    {
     "name": "stdout",
     "output_type": "stream",
     "text": [
      "Server-side evaluation loss 0.2539062678813934 / accuracy 0.91875\n"
     ]
    },
    {
     "name": "stderr",
     "output_type": "stream",
     "text": [
      "DEBUG flwr 2024-01-17 16:19:23,851 | server.py:187 | evaluate_round 7 received 2 results and 0 failures\n",
      "01/17/2024 16:19:23:DEBUG:evaluate_round 7 received 2 results and 0 failures\n",
      "DEBUG flwr 2024-01-17 16:19:23,859 | server.py:222 | fit_round 8: strategy sampled 2 clients (out of 2)\n",
      "01/17/2024 16:19:23:DEBUG:fit_round 8: strategy sampled 2 clients (out of 2)\n"
     ]
    },
    {
     "name": "stdout",
     "output_type": "stream",
     "text": [
      "\u001b[2m\u001b[36m(DefaultActor pid=17428)\u001b[0m \n"
     ]
    },
    {
     "name": "stderr",
     "output_type": "stream",
     "text": [
      "DEBUG flwr 2024-01-17 16:19:25,169 | server.py:236 | fit_round 8 received 2 results and 0 failures\n",
      "01/17/2024 16:19:25:DEBUG:fit_round 8 received 2 results and 0 failures\n",
      "INFO flwr 2024-01-17 16:19:25,204 | server.py:125 | fit progress: (8, 0.25129603743553164, {'accuracy': 0.91875}, 37.3319716)\n",
      "01/17/2024 16:19:25:INFO:fit progress: (8, 0.25129603743553164, {'accuracy': 0.91875}, 37.3319716)\n",
      "DEBUG flwr 2024-01-17 16:19:25,209 | server.py:173 | evaluate_round 8: strategy sampled 2 clients (out of 2)\n",
      "01/17/2024 16:19:25:DEBUG:evaluate_round 8: strategy sampled 2 clients (out of 2)\n",
      "DEBUG flwr 2024-01-17 16:19:25,350 | server.py:187 | evaluate_round 8 received 2 results and 0 failures\n",
      "01/17/2024 16:19:25:DEBUG:evaluate_round 8 received 2 results and 0 failures\n",
      "DEBUG flwr 2024-01-17 16:19:25,362 | server.py:222 | fit_round 9: strategy sampled 2 clients (out of 2)\n",
      "01/17/2024 16:19:25:DEBUG:fit_round 9: strategy sampled 2 clients (out of 2)\n"
     ]
    },
    {
     "name": "stdout",
     "output_type": "stream",
     "text": [
      "Server-side evaluation loss 0.25129603743553164 / accuracy 0.91875\n",
      "\u001b[2m\u001b[36m(DefaultActor pid=6976)\u001b[0m [Client 0] fit, config: {}\u001b[32m [repeated 6x across cluster]\u001b[0m\n"
     ]
    },
    {
     "name": "stderr",
     "output_type": "stream",
     "text": [
      "DEBUG flwr 2024-01-17 16:19:26,646 | server.py:236 | fit_round 9 received 2 results and 0 failures\n",
      "01/17/2024 16:19:26:DEBUG:fit_round 9 received 2 results and 0 failures\n",
      "INFO flwr 2024-01-17 16:19:26,678 | server.py:125 | fit progress: (9, 0.24600316882133483, {'accuracy': 0.91875}, 38.8061891)\n",
      "01/17/2024 16:19:26:INFO:fit progress: (9, 0.24600316882133483, {'accuracy': 0.91875}, 38.8061891)\n",
      "DEBUG flwr 2024-01-17 16:19:26,686 | server.py:173 | evaluate_round 9: strategy sampled 2 clients (out of 2)\n",
      "01/17/2024 16:19:26:DEBUG:evaluate_round 9: strategy sampled 2 clients (out of 2)\n",
      "DEBUG flwr 2024-01-17 16:19:26,825 | server.py:187 | evaluate_round 9 received 2 results and 0 failures\n",
      "01/17/2024 16:19:26:DEBUG:evaluate_round 9 received 2 results and 0 failures\n",
      "DEBUG flwr 2024-01-17 16:19:26,835 | server.py:222 | fit_round 10: strategy sampled 2 clients (out of 2)\n",
      "01/17/2024 16:19:26:DEBUG:fit_round 10: strategy sampled 2 clients (out of 2)\n"
     ]
    },
    {
     "name": "stdout",
     "output_type": "stream",
     "text": [
      "Server-side evaluation loss 0.24600316882133483 / accuracy 0.91875\n"
     ]
    },
    {
     "name": "stderr",
     "output_type": "stream",
     "text": [
      "\u001b[2m\u001b[36m(DefaultActor pid=17428)\u001b[0m C:\\Users\\HP User\\AppData\\Roaming\\Python\\Python39\\site-packages\\opacus\\privacy_engine.py:142: UserWarning: Secure RNG turned off. This is perfectly fine for experimentation as it allows for much faster training performance, but remember to turn it on and retrain one last time before production with ``secure_mode`` turned on.\u001b[32m [repeated 8x across cluster]\u001b[0m\n",
      "\u001b[2m\u001b[36m(DefaultActor pid=17428)\u001b[0m   warnings.warn(\u001b[32m [repeated 8x across cluster]\u001b[0m\n"
     ]
    },
    {
     "name": "stdout",
     "output_type": "stream",
     "text": [
      "\u001b[2m\u001b[36m(DefaultActor pid=17428)\u001b[0m \tTrain Epoch: 0 \tLoss: 3.159559 Acc@1: 0.000000\u001b[32m [repeated 145x across cluster]\u001b[0m\n",
      "\u001b[2m\u001b[36m(DefaultActor pid=6976)\u001b[0m epsilon of client 0 : eps = 0\u001b[32m [repeated 6x across cluster]\u001b[0m\n",
      "\u001b[2m\u001b[36m(DefaultActor pid=6976)\u001b[0m [Client 0] evaluate, config: {}\u001b[32m [repeated 6x across cluster]\u001b[0m\n"
     ]
    },
    {
     "name": "stderr",
     "output_type": "stream",
     "text": [
      "DEBUG flwr 2024-01-17 16:19:28,509 | server.py:236 | fit_round 10 received 2 results and 0 failures\n",
      "01/17/2024 16:19:28:DEBUG:fit_round 10 received 2 results and 0 failures\n",
      "INFO flwr 2024-01-17 16:19:28,550 | server.py:125 | fit progress: (10, 0.2473431795835495, {'accuracy': 0.91875}, 40.67817720000001)\n",
      "01/17/2024 16:19:28:INFO:fit progress: (10, 0.2473431795835495, {'accuracy': 0.91875}, 40.67817720000001)\n",
      "DEBUG flwr 2024-01-17 16:19:28,563 | server.py:173 | evaluate_round 10: strategy sampled 2 clients (out of 2)\n",
      "01/17/2024 16:19:28:DEBUG:evaluate_round 10: strategy sampled 2 clients (out of 2)\n",
      "DEBUG flwr 2024-01-17 16:19:28,719 | server.py:187 | evaluate_round 10 received 2 results and 0 failures\n"
     ]
    },
    {
     "name": "stdout",
     "output_type": "stream",
     "text": [
      "Server-side evaluation loss 0.2473431795835495 / accuracy 0.91875\n"
     ]
    },
    {
     "name": "stderr",
     "output_type": "stream",
     "text": [
      "01/17/2024 16:19:28:DEBUG:evaluate_round 10 received 2 results and 0 failures\n",
      "INFO flwr 2024-01-17 16:19:28,731 | server.py:153 | FL finished in 40.8589927\n",
      "01/17/2024 16:19:28:INFO:FL finished in 40.8589927\n",
      "INFO flwr 2024-01-17 16:19:28,740 | app.py:225 | app_fit: losses_distributed [(1, 0.15637712548913366), (2, 0.156299058366918), (3, 0.15634994111699482), (4, 0.15642008786565328), (5, 0.15649267410400955), (6, 0.15658849787779), (7, 0.15660814444357427), (8, 0.15533679564697636), (9, 0.15280773404675757), (10, 0.15328420673092388)]\n",
      "01/17/2024 16:19:28:INFO:app_fit: losses_distributed [(1, 0.15637712548913366), (2, 0.156299058366918), (3, 0.15634994111699482), (4, 0.15642008786565328), (5, 0.15649267410400955), (6, 0.15658849787779), (7, 0.15660814444357427), (8, 0.15533679564697636), (9, 0.15280773404675757), (10, 0.15328420673092388)]\n",
      "INFO flwr 2024-01-17 16:19:28,746 | app.py:226 | app_fit: metrics_distributed_fit {}\n",
      "01/17/2024 16:19:28:INFO:app_fit: metrics_distributed_fit {}\n",
      "INFO flwr 2024-01-17 16:19:28,750 | app.py:227 | app_fit: metrics_distributed {}\n",
      "01/17/2024 16:19:28:INFO:app_fit: metrics_distributed {}\n",
      "INFO flwr 2024-01-17 16:19:28,762 | app.py:228 | app_fit: losses_centralized [(0, 0.2541285216808319), (1, 0.25390625), (2, 0.25390625), (3, 0.25390625), (4, 0.25390625), (5, 0.25390625), (6, 0.2539062529802322), (7, 0.2539062678813934), (8, 0.25129603743553164), (9, 0.24600316882133483), (10, 0.2473431795835495)]\n",
      "01/17/2024 16:19:28:INFO:app_fit: losses_centralized [(0, 0.2541285216808319), (1, 0.25390625), (2, 0.25390625), (3, 0.25390625), (4, 0.25390625), (5, 0.25390625), (6, 0.2539062529802322), (7, 0.2539062678813934), (8, 0.25129603743553164), (9, 0.24600316882133483), (10, 0.2473431795835495)]\n",
      "INFO flwr 2024-01-17 16:19:28,768 | app.py:229 | app_fit: metrics_centralized {'accuracy': [(0, 0.9125), (1, 0.91875), (2, 0.91875), (3, 0.91875), (4, 0.91875), (5, 0.91875), (6, 0.91875), (7, 0.91875), (8, 0.91875), (9, 0.91875), (10, 0.91875)]}\n",
      "01/17/2024 16:19:28:INFO:app_fit: metrics_centralized {'accuracy': [(0, 0.9125), (1, 0.91875), (2, 0.91875), (3, 0.91875), (4, 0.91875), (5, 0.91875), (6, 0.91875), (7, 0.91875), (8, 0.91875), (9, 0.91875), (10, 0.91875)]}\n"
     ]
    }
   ],
   "source": [
    "# Run the Traning of the model\n",
    "history = ppl_1.server.run()"
   ]
  },
  {
   "cell_type": "code",
   "execution_count": 11,
   "metadata": {},
   "outputs": [
    {
     "name": "stdout",
     "output_type": "stream",
     "text": [
      "History (loss, distributed):\n",
      "\tround 1: 0.15637712548913366\n",
      "\tround 2: 0.156299058366918\n",
      "\tround 3: 0.15634994111699482\n",
      "\tround 4: 0.15642008786565328\n",
      "\tround 5: 0.15649267410400955\n",
      "\tround 6: 0.15658849787779\n",
      "\tround 7: 0.15660814444357427\n",
      "\tround 8: 0.15533679564697636\n",
      "\tround 9: 0.15280773404675757\n",
      "\tround 10: 0.15328420673092388\n",
      "History (loss, centralized):\n",
      "\tround 0: 0.2541285216808319\n",
      "\tround 1: 0.25390625\n",
      "\tround 2: 0.25390625\n",
      "\tround 3: 0.25390625\n",
      "\tround 4: 0.25390625\n",
      "\tround 5: 0.25390625\n",
      "\tround 6: 0.2539062529802322\n",
      "\tround 7: 0.2539062678813934\n",
      "\tround 8: 0.25129603743553164\n",
      "\tround 9: 0.24600316882133483\n",
      "\tround 10: 0.2473431795835495\n",
      "History (metrics, centralized):\n",
      "{'accuracy': [(0, 0.9125), (1, 0.91875), (2, 0.91875), (3, 0.91875), (4, 0.91875), (5, 0.91875), (6, 0.91875), (7, 0.91875), (8, 0.91875), (9, 0.91875), (10, 0.91875)]}\n"
     ]
    }
   ],
   "source": [
    "# Show thehistory of trining \n",
    "print(history)"
   ]
  },
  {
   "cell_type": "markdown",
   "metadata": {},
   "source": [
    "### 5. Store tests \n",
    "\n",
    "<div style=\"display:flex\">\n",
    "<div>\n",
    "\n",
    "The initial phase of model testing involves utilizing test loaders on test nodes to evaluate the model's performance. This testing phase launches assessments on designated test nodes, generating results that are subsequently stored in a database. These stored results serve the purpose of enabling later comparisons and evaluations among different models\n",
    "\n",
    "The tutorial labeled as `5_LearningResults-checkpoint` demonstrates diverse results and outputs accessible from the learning process. It elaborates on the multifaceted advantages and applications derived from these outcomes, emphasizing how each result can be effectively utilized for various purposes within the context of learning and model evaluation.\n",
    "</div>\n",
    "<div>\n",
    "\n",
    "<img src='../Images/modeltest.png' width=\"300\" style=\"display: block  ; margin : 0 auto\" />\n",
    "</div>\n",
    "\n",
    "</div>\n"
   ]
  },
  {
   "cell_type": "code",
   "execution_count": 12,
   "metadata": {},
   "outputs": [
    {
     "data": {
      "image/png": "[encoded data removed]",
      "text/plain": [
       "<Figure size 800x600 with 1 Axes>"
      ]
     },
     "metadata": {},
     "output_type": "display_data"
    }
   ],
   "source": [
    "# Make some plots \n",
    "global_accuracy,global_loss = ppl_1.server.accuracies,ppl_1.server.losses\n",
    "results_dict = {\n",
    "    ('LR: 0.001, Optimizer: SGD', 'accuracy'): global_accuracy,\n",
    "    ('LR: 0.001, Optimizer: SGD', 'loss'): global_loss\n",
    "}\n",
    "plotter = AccuracyLossPlotter(results_dict)\n",
    "\n",
    "plotter.plot_accuracy_loss()"
   ]
  },
  {
   "cell_type": "code",
   "execution_count": 13,
   "metadata": {},
   "outputs": [
    {
     "data": {
      "text/plain": [
       "[{'node_name': 'hospital_1',\n",
       "  'classification_report': \"{'confusion matrix': {'TP': 0, 'FP': 0, 'FN': 38, 'TN': 362}, 'Accuracy': 0.905, 'Sensitivity/Recall': 0.0, 'Specificity': 1.0, 'PPV/Precision': 0.0, 'NPV': 0.905, 'F1-score': 0.0, 'False positive rate': 0.0, 'True positive rate': 0.0}\"},\n",
       " {'node_name': 'hospital_2',\n",
       "  'classification_report': \"{'confusion matrix': {'TP': 0, 'FP': 2, 'FN': 21, 'TN': 377}, 'Accuracy': 0.942, 'Sensitivity/Recall': 0.0, 'Specificity': 0.995, 'PPV/Precision': 0.0, 'NPV': 0.947, 'F1-score': 0.0, 'False positive rate': 0.005, 'True positive rate': 0.0}\"},\n",
       " {'node_name': 'hospital_3',\n",
       "  'classification_report': \"{'confusion matrix': {'TP': 2, 'FP': 2, 'FN': 236, 'TN': 1760}, 'Accuracy': 0.881, 'Sensitivity/Recall': 0.008, 'Specificity': 0.999, 'PPV/Precision': 0.5, 'NPV': 0.882, 'F1-score': 0.017, 'False positive rate': 0.001, 'True positive rate': 0.008}\"}]"
      ]
     },
     "execution_count": 13,
     "metadata": {},
     "output_type": "execute_result"
    }
   ],
   "source": [
    "# Test the Modal on the Test nodes and store the results on the DB\n",
    "ppl_1.auto_test()"
   ]
  }
 ],
 "metadata": {
  "kernelspec": {
   "display_name": "Python 3",
   "language": "python",
   "name": "python3"
  },
  "language_info": {
   "codemirror_mode": {
    "name": "ipython",
    "version": 3
   },
   "file_extension": ".py",
   "mimetype": "text/x-python",
   "name": "python",
   "nbconvert_exporter": "python",
   "pygments_lexer": "ipython3",
   "version": "3.9.4"
  },
  "orig_nbformat": 4
 },
 "nbformat": 4,
 "nbformat_minor": 2
}
