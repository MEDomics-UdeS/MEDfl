{
 "cells": [
  {
   "cell_type": "code",
   "execution_count": 1,
   "metadata": {},
   "outputs": [],
   "source": [
    "import pandas as pd\n",
    "import numpy as np\n",
    "from sklearn.model_selection import train_test_split\n",
    "from sklearn.preprocessing import StandardScaler\n",
    "from sklearn.impute import SimpleImputer\n",
    "from sklearn.metrics import accuracy_score, classification_report, confusion_matrix\n",
    "import torch\n",
    "import torch.nn as nn\n",
    "import torch.optim as optim\n",
    "from torch.utils.data import TensorDataset, DataLoader"
   ]
  },
  {
   "cell_type": "code",
   "execution_count": 2,
   "id": "4d89ba1e",
   "metadata": {},
   "outputs": [],
   "source": [
    "import sys\n",
    "sys.path.append('../..')\n",
    "\n",
    "import os\n",
    "os.environ['PYTHONPATH'] = '../..'"
   ]
  },
  {
   "cell_type": "code",
   "execution_count": 16,
   "id": "abb8f9bb",
   "metadata": {},
   "outputs": [
    {
     "data": {
      "text/plain": [
       "Index(['patientunitstayid', 'hadm_id', 'subject_id', 'hospitalid', 'deceased',\n",
       "       'age', 'stay_length', 'organdonor', 'bicarbonate_min',\n",
       "       'bicarbonate_max', 'bilirubin_min', 'bilirubin_max', 'potassium_min',\n",
       "       'potassium_max', 'sodium_min', 'sodium_max', 'bun_min', 'bun_max',\n",
       "       'wbc_min', 'wbc_max', 'pao2fio2', 'cpap', 'vent', 'gcs_min', 'hr_min',\n",
       "       'hr_max', 'tempc_min', 'tempc_max', 'sbp_min', 'sbp_max', 'uo', 'aids',\n",
       "       'hem', 'mets', 'admissiontype', 'sepsis3', 'unitvisitnumber',\n",
       "       'unitvisitnumberrevised', 'num_admiss', 'num_hosp'],\n",
       "      dtype='object')"
      ]
     },
     "execution_count": 16,
     "metadata": {},
     "output_type": "execute_result"
    }
   ],
   "source": [
    "# Read the CSV file\n",
    "data = pd.read_csv('D:\\ESI\\\\3CS\\PFE\\last_year\\Code\\MEDfl\\\\notebooks\\data\\eicu_sapsii_data.csv')\n",
    "\n",
    "data.columns"
   ]
  },
  {
   "cell_type": "code",
   "execution_count": 17,
   "id": "99d15ebf",
   "metadata": {},
   "outputs": [
    {
     "name": "stdout",
     "output_type": "stream",
     "text": [
      "\n"
     ]
    },
    {
     "data": {
      "text/plain": [
       "<torch.utils.data.dataset.TensorDataset at 0x1590f0549d0>"
      ]
     },
     "execution_count": 17,
     "metadata": {},
     "output_type": "execute_result"
    }
   ],
   "source": [
    "from importlib import reload\n",
    "\n",
    "from Medfl.NetManager import net_helper \n",
    "reload(net_helper)\n",
    "\n",
    "\n",
    "from Medfl.NetManager.net_helper import process_data_after_reading\n",
    "\n",
    "\n",
    "\n",
    "data = process_data_after_reading(data , output=\"deceased\" , fit_encode=[] , to_drop=[\"patientunitstayid\" , \"subject_id\" , \"hadm_id\" ])\n"
   ]
  }
 ],
 "metadata": {
  "kernelspec": {
   "display_name": "Python 3",
   "language": "python",
   "name": "python3"
  },
  "language_info": {
   "codemirror_mode": {
    "name": "ipython",
    "version": 3
   },
   "file_extension": ".py",
   "mimetype": "text/x-python",
   "name": "python",
   "nbconvert_exporter": "python",
   "pygments_lexer": "ipython3",
   "version": "3.9.4"
  }
 },
 "nbformat": 4,
 "nbformat_minor": 5
}
