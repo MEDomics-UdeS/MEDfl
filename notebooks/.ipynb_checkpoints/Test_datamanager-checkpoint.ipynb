{
 "cells": [
  {
   "cell_type": "code",
   "execution_count": 1,
   "metadata": {},
   "outputs": [],
   "source": [
    "import pandas as pd\n",
    "import numpy as np\n",
    "from sklearn.model_selection import train_test_split\n",
    "from sklearn.preprocessing import StandardScaler\n",
    "from sklearn.impute import SimpleImputer\n",
    "from sklearn.metrics import accuracy_score, classification_report, confusion_matrix\n",
    "import torch\n",
    "import torch.nn as nn\n",
    "import torch.optim as optim\n",
    "from torch.utils.data import TensorDataset, DataLoader"
   ]
  },
  {
   "cell_type": "code",
   "execution_count": 2,
   "id": "4d89ba1e",
   "metadata": {},
   "outputs": [],
   "source": [
    "import sys\n",
    "sys.path.append('../..')\n",
    "\n",
    "import os\n",
    "os.environ['PYTHONPATH'] = '../..'"
   ]
  },
  {
   "cell_type": "code",
   "execution_count": 3,
   "id": "98d52d9f",
   "metadata": {},
   "outputs": [
    {
     "name": "stdout",
     "output_type": "stream",
     "text": [
      "Active Python environment path: c:\\Python39\n"
     ]
    }
   ],
   "source": [
    "import sys\n",
    "\n",
    "# Print the path of the active Python environment\n",
    "print(\"Active Python environment path:\", sys.prefix)\n"
   ]
  },
  {
   "cell_type": "code",
   "execution_count": 16,
   "id": "abb8f9bb",
   "metadata": {},
   "outputs": [
    {
     "data": {
      "text/plain": [
       "Index(['patientunitstayid', 'hadm_id', 'subject_id', 'hospitalid', 'deceased',\n",
       "       'age', 'stay_length', 'organdonor', 'bicarbonate_min',\n",
       "       'bicarbonate_max', 'bilirubin_min', 'bilirubin_max', 'potassium_min',\n",
       "       'potassium_max', 'sodium_min', 'sodium_max', 'bun_min', 'bun_max',\n",
       "       'wbc_min', 'wbc_max', 'pao2fio2', 'cpap', 'vent', 'gcs_min', 'hr_min',\n",
       "       'hr_max', 'tempc_min', 'tempc_max', 'sbp_min', 'sbp_max', 'uo', 'aids',\n",
       "       'hem', 'mets', 'admissiontype', 'sepsis3', 'unitvisitnumber',\n",
       "       'unitvisitnumberrevised', 'num_admiss', 'num_hosp'],\n",
       "      dtype='object')"
      ]
     },
     "execution_count": 16,
     "metadata": {},
     "output_type": "execute_result"
    }
   ],
   "source": [
    "# Read the CSV file\n",
    "data = pd.read_csv('D:\\ESI\\\\3CS\\PFE\\last_year\\Code\\MEDfl\\\\notebooks\\data\\eicu_sapsii_data.csv')\n",
    "\n",
    "data.columns"
   ]
  },
  {
   "cell_type": "code",
   "execution_count": 17,
   "id": "99d15ebf",
   "metadata": {},
   "outputs": [
    {
     "name": "stdout",
     "output_type": "stream",
     "text": [
      "\n"
     ]
    },
    {
     "data": {
      "text/plain": [
       "<torch.utils.data.dataset.TensorDataset at 0x1590f0549d0>"
      ]
     },
     "execution_count": 17,
     "metadata": {},
     "output_type": "execute_result"
    }
   ],
   "source": [
    "from importlib import reload\n",
    "\n",
    "from Medfl.NetManager import net_helper \n",
    "reload(net_helper)\n",
    "\n",
    "\n",
    "from Medfl.NetManager.net_helper import process_data_after_reading\n",
    "\n",
    "\n",
    "\n",
    "data = process_data_after_reading(data , output=\"deceased\" , fit_encode=[] , to_drop=[\"patientunitstayid\" , \"subject_id\" , \"hadm_id\" ])\n"
   ]
  },
  {
   "cell_type": "code",
   "execution_count": 1,
   "id": "197c3530",
   "metadata": {},
   "outputs": [
    {
     "name": "stdout",
     "output_type": "stream",
     "text": [
      "Chunk 1 saved to ../data/test_1.csv\n",
      "Chunk 2 saved to ../data/test_2.csv\n",
      "Chunk 3 saved to ../data/test_3.csv\n"
     ]
    }
   ],
   "source": [
    "import pandas as pd\n",
    "\n",
    "# Load the original CSV file\n",
    "file_path = '../data/eicu_sapsii_data.csv'\n",
    "data = pd.read_csv(file_path)\n",
    "\n",
    "# Split the data into chunks of 2000 records\n",
    "chunk_size = 2000\n",
    "# num_chunks = len(data) // chunk_size + 1\n",
    "num_chunks = 3\n",
    "\n",
    "for i in range(num_chunks):\n",
    "    start_idx = i * chunk_size\n",
    "    end_idx = min((i + 1) * chunk_size, len(data))\n",
    "    chunk = data.iloc[start_idx:end_idx]\n",
    "\n",
    "    # Save each chunk to a separate CSV file\n",
    "    output_file_path = f'../data/test_{i + 1}.csv'\n",
    "    chunk.to_csv(output_file_path, index=False)\n",
    "    print(f'Chunk {i + 1} saved to {output_file_path}')\n"
   ]
  },
  {
   "cell_type": "code",
   "execution_count": 2,
   "id": "fd77e886",
   "metadata": {},
   "outputs": [
    {
     "data": {
      "text/plain": [
       "200859"
      ]
     },
     "execution_count": 2,
     "metadata": {},
     "output_type": "execute_result"
    }
   ],
   "source": [
    "len(data)"
   ]
  },
  {
   "cell_type": "code",
   "execution_count": 7,
   "id": "f4b0b7a0",
   "metadata": {},
   "outputs": [
    {
     "name": "stdout",
     "output_type": "stream",
     "text": [
      "Number of deceased: 238\n",
      "Number of not deceased: 1762\n",
      "2000\n"
     ]
    }
   ],
   "source": [
    "import pandas as pd\n",
    "\n",
    "# Load the original CSV file\n",
    "file_path = '../data/test_3.csv'\n",
    "df = pd.read_csv(file_path)\n",
    "\n",
    "# Count the occurrences of each unique value in the 'node_deseased' column\n",
    "counts = df['deceased'].value_counts()\n",
    "\n",
    "# Print the counts\n",
    "print(\"Number of deceased:\", counts.get(1, 0))\n",
    "print(\"Number of not deceased:\", counts.get(0, 0))\n",
    "print(len(df))"
   ]
  },
  {
   "cell_type": "code",
   "execution_count": 12,
   "id": "2bf75bd3",
   "metadata": {},
   "outputs": [],
   "source": [
    "import pandas as pd\n",
    "from sklearn import datasets\n",
    "\n",
    "# Load the Iris dataset\n",
    "iris = datasets.load_iris()\n",
    "data = iris.data\n",
    "target = iris.target\n",
    "\n",
    "# Create a DataFrame\n",
    "iris_df = pd.DataFrame(data, columns=iris.feature_names)\n",
    "iris_df['target'] = target\n",
    "\n",
    "# Save to CSV file\n",
    "iris_df.to_csv('../data/iris_dataset.csv', index=False)\n"
   ]
  }
 ],
 "metadata": {
  "kernelspec": {
   "display_name": "Python 3",
   "language": "python",
   "name": "python3"
  },
  "language_info": {
   "codemirror_mode": {
    "name": "ipython",
    "version": 3
   },
   "file_extension": ".py",
   "mimetype": "text/x-python",
   "name": "python",
   "nbconvert_exporter": "python",
   "pygments_lexer": "ipython3",
   "version": "3.9.4"
  }
 },
 "nbformat": 4,
 "nbformat_minor": 5
}
