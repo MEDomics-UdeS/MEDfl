{
 "cells": [
  {
   "cell_type": "markdown",
   "metadata": {},
   "source": [
    "# **LearningManager**: Create a Federated Learning Pipeline using MedFL\n",
    "<img src='../Images/MEDfl_Diagramm.png' />\n",
    "\n",
    "The `Learning Manager`, serving as the second subpackage of *Medfl*, extends the work initiated by the `NetManager`. It operates by taking the federated dataset as its input and, through its processes, generates a **Trained model**. Additionally, it **stores relevant Results** within the database.\n",
    "\n",
    "<b>The Federated module</b>  of <b>MEDfl</b>, which is based on the <a href=\"https://flower.dev/\">Flower</a> framework, is well designed for doing this task, it's mainly follows the flower paradigm, but with many customization, to deal with the SQL database, and to be homogeneous with the <b>NetManager</b>\n",
    "\n",
    "\n",
    "<img src='../Images/LearningManager.png' width=\"50%\" />\n"
   ]
  },
  {
   "cell_type": "code",
   "execution_count": 1,
   "metadata": {},
   "outputs": [],
   "source": [
    "import sys\n",
    "sys.path.append('../..')\n",
    "\n",
    "import os\n",
    "os.environ['PYTHONPATH'] = '../..'"
   ]
  },
  {
   "cell_type": "markdown",
   "metadata": {},
   "source": [
    "Imports"
   ]
  },
  {
   "cell_type": "code",
   "execution_count": 2,
   "metadata": {},
   "outputs": [],
   "source": [
    "# Torch imports\n",
    "import torch\n",
    "import torch.nn as nn\n",
    "import torch.optim as optim\n",
    "\n",
    "# flower imports \n",
    "import flwr as fl\n",
    "\n",
    "# Medfl imports \n",
    "from Medfl.LearningManager.dynamicModal import DynamicModel\n",
    "from Medfl.LearningManager.model import Model\n",
    "from Medfl.LearningManager.strategy import Strategy\n",
    "from Medfl.LearningManager.server import *\n",
    "\n",
    "from Medfl.NetManager.flsetup import FLsetup\n",
    "from Medfl.LearningManager.flpipeline import *\n",
    "\n",
    "from Medfl.LearningManager.plot import AccuracyLossPlotter\n",
    "\n",
    "\n"
   ]
  },
  {
   "cell_type": "markdown",
   "metadata": {},
   "source": [
    "### 1. Modal inialization\n",
    "\n",
    "The first step involves initializing the model to subsequently transmit it to the central server. MedFL offers two distinct methods for model initialization:\n",
    "\n",
    "1. **Without Utilizing Transfer Learning:** This method is employed in scenarios where a pretrained model is unavailable. Here, the initial model is constructed from scratch, and subsequently transmitted to the central server (Simple Federated Learning).\n",
    "\n",
    "2. **Utilizing Transfer Learning:** This approach comes into play when a pretrained model exists, and the objective is to fine-tune it within the federated learning network (Federated-Transfer Learning).\n",
    "\n",
    "<img src='../Images/Modelinit.png' width=\"80%\" style=\"display: block  ; margin : 0 auto\" />"
   ]
  },
  {
   "cell_type": "markdown",
   "metadata": {},
   "source": [
    "### 1.1 without activation of Transfer Learning\n",
    "\n",
    "in this methode we can eather specify the structure of our neural network ( number and size of layers, activation function ) or we can write define our modal and write the code from scratch and pass it to the server \n",
    "\n",
    "\n",
    "As MEDfl is based on flower, it has only 3 models based on torch neural nets  :\n",
    "<ul>\n",
    "    <li> Binary Classifier </li>\n",
    "    <li> Multiclass Classifier</li>\n",
    "    <li> Linear Regressor</li>\n",
    "</ul>\n",
    "\n",
    "the choice of the model and all machine learning parameters (learning rate, eopch size, train epochs), should be declared on a YAML file. `Medfl/learningManager/params.yaml`\n"
   ]
  },
  {
   "cell_type": "markdown",
   "metadata": {},
   "source": [
    "A. Create the modal from scratch "
   ]
  },
  {
   "cell_type": "code",
   "execution_count": 3,
   "metadata": {},
   "outputs": [
    {
     "data": {
      "text/plain": [
       "<Medfl.LearningManager.model.Model at 0x1855836e670>"
      ]
     },
     "execution_count": 3,
     "metadata": {},
     "output_type": "execute_result"
    }
   ],
   "source": [
    "class BinaryClassifier(nn.Module):\n",
    "  def __init__(self,input_dim,hidden_dim,output_dim):\n",
    "\n",
    "    super(BinaryClassifier, self).__init__()\n",
    "    self.fc1 = nn.Linear(input_dim,hidden_dim)\n",
    "    self.fc2 = nn.Linear(hidden_dim,2*hidden_dim)\n",
    "    self.fc3 = nn.Linear(2*hidden_dim,output_dim)\n",
    "\n",
    "  def forward(self,x):\n",
    "    x = torch.relu(self.fc1(x))\n",
    "    x = torch.relu(self.fc2(x))\n",
    "    x = torch.sigmoid(self.fc3(x))#softmax\n",
    "    return x\n",
    "\n",
    "# Create an instance of BinaryClassifier \n",
    "# The input dim is the number of columns in the federated DataSet \n",
    "binary_classifier= BinaryClassifier(17,6,1)\n",
    "# define the optimizer and criterion\n",
    "optimizer,criterion = optim.SGD(binary_classifier.parameters(), lr=0.0001),nn.BCELoss()\n",
    "\n",
    "# Creating a new Model instance using the specific model created by DynamicModel\n",
    "global_model = Model(binary_classifier, optimizer, criterion)\n",
    "\n",
    "# The modal to be passed to the server \n",
    "global_model\n"
   ]
  },
  {
   "cell_type": "markdown",
   "metadata": {},
   "source": [
    "B. Create a Dynamic Using the DynamicModal class"
   ]
  },
  {
   "cell_type": "code",
   "execution_count": 3,
   "metadata": {},
   "outputs": [
    {
     "name": "stdout",
     "output_type": "stream",
     "text": [
      "1\n"
     ]
    },
    {
     "data": {
      "text/plain": [
       "<Medfl.LearningManager.model.Model at 0x1a21b74a9a0>"
      ]
     },
     "execution_count": 3,
     "metadata": {},
     "output_type": "execute_result"
    }
   ],
   "source": [
    "# Example usage:\n",
    "input_dim = 17\n",
    "hidden_dims = [6, 2 * 6 ]\n",
    "output_dim = 1\n",
    "# define the type of the modal ('Binary Classifier', 'Multiclass Classifier', 'Linear Regressor')\n",
    "model_type = 'Binary Classifier' \n",
    "\n",
    "# Creating a DynamicModel instance\n",
    "dynamic_model = DynamicModel()\n",
    "\n",
    "# Creating a specific model dynamically using DynamicModel\n",
    "specific_model = dynamic_model.create_model(model_type, input_dim, hidden_dims, output_dim)\n",
    "\n",
    "# Pass the specific_model to the Model class\n",
    "optimizer = optim.SGD(specific_model.parameters(), lr=0.0001)\n",
    "criterion = nn.BCELoss()\n",
    "\n",
    "\n",
    "\n",
    "# Creating a new Model instance using the specific model created by DynamicModel\n",
    "global_model = Model(specific_model, optimizer, criterion)\n",
    "\n",
    "# The modal to be passed to the server \n",
    "global_model"
   ]
  },
  {
   "cell_type": "markdown",
   "metadata": {},
   "source": [
    "### 1.2 Using the Transfer Learning \n",
    "\n",
    "in this method we will use a pretrained modal that we showed on the 3rd tutorial `3_transferLearning-checkpoint` "
   ]
  },
  {
   "cell_type": "code",
   "execution_count": null,
   "metadata": {},
   "outputs": [],
   "source": [
    "# Initialize the model (same architecture as before)\n",
    "input_dim = 12\n",
    "model = BinaryClassifier(input_dim)\n",
    "\n",
    "# Load the saved model state dictionary\n",
    "model.load_state_dict(torch.load('trainedModels/binary_classifier_model.pth'))\n",
    "\n",
    "# The model to be passed \n",
    "model"
   ]
  },
  {
   "cell_type": "markdown",
   "metadata": {},
   "source": [
    "### 2. Define the Aggregation Algorithms (**Aggregation Strategy**)\n",
    "\n",
    "Aggregation algorithms are the mechanizms used by the server to produce a joint unified model, they are known as <b>Strategies</b> on <b>Flower</b>,  in the literature we have many aggregation algorithms, it's true that not all of them are implemented in flower, but we have the most used ones:\n",
    " <ul>\n",
    "    <li><a href = \"arxiv.org/abs/1602.05629\">Federated Averaging (FedAvg)</a></li>\n",
    "    <li><a href = \"arxiv.org/abs/2003.00295\">Adaptive Federated Optimization using Adam (FedAdam)</a></li>\n",
    "    <li><a href = \"arxiv.org/pdf/1803.01498v1.pdf\">Federated Median (FedMedian)</a></li>\n",
    "    <li><a href = \"arxiv.org/pdf/1909.06335.pdf\">Federated Averaging with Momentum (FedAvgM)</a></li>\n",
    "    <li><a href = \"arxiv.org/abs/2003.00295\">Adaptive Federated Optimization using Yogi (FedYogi)</a></li>\n",
    "    <li><a href = \"arxiv.org/abs/2003.00295\">Adaptive Federated Optimization (FedOpt)</a></li>\n",
    "    <li><a href = \"arxiv.org/abs/1812.06127\">Federated Optimization (FedProx)</a></li>\n",
    "    <li><a href = \"openreview.net/pdf?id=ByexElSYDr\">FAIR RESOURCE ALLOCATION IN FEDERATED LEARNING (QFedAvg)</a></li>\n",
    "    <li><a href = \"arxiv.org/abs/2003.00295\">Adaptive Federated Optimization using Adagrad (FedAdagrad)</a></li>\n",
    " </ul>\n",
    "We can also find them on the strategy directory on Flower."
   ]
  },
  {
   "cell_type": "code",
   "execution_count": 4,
   "metadata": {},
   "outputs": [
    {
     "data": {
      "text/plain": [
       "['FaultTolerantFedAvg',\n",
       " 'FedAdagrad',\n",
       " 'FedAdam',\n",
       " 'FedAvg',\n",
       " 'FedAvgAndroid',\n",
       " 'FedAvgM',\n",
       " 'FedMedian',\n",
       " 'FedOpt',\n",
       " 'FedProx',\n",
       " 'FedTrimmedAvg',\n",
       " 'FedXgbNnAvg',\n",
       " 'FedYogi',\n",
       " 'QFedAvg',\n",
       " 'Strategy',\n",
       " '__all__',\n",
       " '__builtins__',\n",
       " '__cached__',\n",
       " '__doc__',\n",
       " '__file__',\n",
       " '__loader__',\n",
       " '__name__',\n",
       " '__package__',\n",
       " '__path__',\n",
       " '__spec__',\n",
       " 'aggregate',\n",
       " 'fault_tolerant_fedavg',\n",
       " 'fedadagrad',\n",
       " 'fedadam',\n",
       " 'fedavg',\n",
       " 'fedavg_android',\n",
       " 'fedavgm',\n",
       " 'fedmedian',\n",
       " 'fedopt',\n",
       " 'fedprox',\n",
       " 'fedtrimmedavg',\n",
       " 'fedxgb_nn_avg',\n",
       " 'fedyogi',\n",
       " 'qfedavg',\n",
       " 'strategy']"
      ]
     },
     "execution_count": 4,
     "metadata": {},
     "output_type": "execute_result"
    }
   ],
   "source": [
    "# List all available aggregation strategies on flower \n",
    "dir(fl.server.strategy)"
   ]
  },
  {
   "cell_type": "markdown",
   "metadata": {},
   "source": [
    "<div style=\"display : flex\"> \n",
    "<div >The creation of a strategy is based on the \"Strategy\" Class, it's enough to pass the name of one of the mentionned strategies, and other federated learning parameters which are used during federation rounds.\n",
    "\n",
    "<ul>\n",
    "    <li><u>fraction_fit :</u> the fraction of clients to sample in order  to train the model </li>\n",
    "    <li><u>fraction_evaluate  :</u> the fraction of clients to sample in order to evaluate the model (validation) </li>\n",
    "    <li><u>min_fit_clients :</u>  the minimum number of clients to sample for the training on each round</li>\n",
    "    <li><u>min_evaluate_clients :</u> the minimum number of clients to be sampled for the evaluation on each round </li>\n",
    "    <li><u>min_available_clients :</u> the minimum  required number of available clients to start a federation round </li>\n",
    "<ul></div>\n",
    "<div>\n",
    "<img src='../Images/strategy.png' width=\"80%\" style=\"display: block  ; margin : 0 auto\" />\n",
    "</div>\n",
    "</div>\n",
    "\n"
   ]
  },
  {
   "cell_type": "code",
   "execution_count": 4,
   "metadata": {},
   "outputs": [],
   "source": [
    "# Create the strategy\n",
    "fed_avg = Strategy(\"FedAvg\", \n",
    "                   fraction_fit = 1.0 ,\n",
    "                   fraction_evaluate = 1.0,\n",
    "                   min_fit_clients = 2,\n",
    "                   min_evaluate_clients = 2,\n",
    "                   min_available_clients = 2)"
   ]
  },
  {
   "cell_type": "markdown",
   "metadata": {},
   "source": [
    "### 3. Federated Learning Server\n",
    "The server in the FL terminology, is the set of the mechanizms that orchestrate  all the FL processes, (distributing the model to  clients, getting the models updates from clients, aggregate these updates. \n",
    "\n",
    "**Remark :** The FL Server has no relation ! with webservers or any other server concepts.\n",
    "\n",
    "#### MEDfl server\n",
    "\n",
    "<div style=\"display : flex\"> \n",
    "<div >\n",
    "\n",
    "The FL server on MEDfl, is based on the server class of Flower, but with our customization, because we have addeda gradient perturbing feature using [Opacus](https://opacus.ai), so we can make the FLpipeline **differentially privacy** </b> \n",
    "\n",
    "The FLserver in MEDfl, has the follwoing attributes : \n",
    "\n",
    "<ul>\n",
    "    <li> <u>global_model :</u> The global model\n",
    "    <li> <u>strategy :</u> The  aggregation strategy\n",
    "    <li> <u>num_rounds :</u> The number of federation rounds\n",
    "    <li> <u>num_clients :</u> The number of train nodes\n",
    "    <li> <u>dataset :</u> The federated dataset generated by an FLsetup\n",
    "    <li> <u>diff_privacy :</u> a boolean variable to  enable (disable) the Differentially Private training mode\n",
    "</ul>\n",
    "\n",
    "</div>\n",
    "<div>\n",
    "<img src='../Images/createServer.png' width=\"250\" style=\"display: block  ; margin : 0 auto\" />\n",
    "</div>\n",
    "</div>\n",
    "\n"
   ]
  },
  {
   "cell_type": "markdown",
   "metadata": {},
   "source": [
    "For the federated Dataset will use the one generated on the 2nd tuto `2_NetManager-checkpoint`"
   ]
  },
  {
   "cell_type": "code",
   "execution_count": 5,
   "metadata": {},
   "outputs": [
    {
     "data": {
      "text/plain": [
       "1"
      ]
     },
     "execution_count": 5,
     "metadata": {},
     "output_type": "execute_result"
    }
   ],
   "source": [
    "# use the auto setup created on the second tuto\n",
    "fl_setup = FLsetup.read_setup(1)\n",
    "fl_setup.id"
   ]
  },
  {
   "cell_type": "code",
   "execution_count": 7,
   "metadata": {},
   "outputs": [
    {
     "data": {
      "text/html": [
       "<div>\n",
       "<style scoped>\n",
       "    .dataframe tbody tr th:only-of-type {\n",
       "        vertical-align: middle;\n",
       "    }\n",
       "\n",
       "    .dataframe tbody tr th {\n",
       "        vertical-align: top;\n",
       "    }\n",
       "\n",
       "    .dataframe thead th {\n",
       "        text-align: right;\n",
       "    }\n",
       "</style>\n",
       "<table border=\"1\" class=\"dataframe\">\n",
       "  <thead>\n",
       "    <tr style=\"text-align: right;\">\n",
       "      <th></th>\n",
       "      <th>FedId</th>\n",
       "      <th>FLsetupId</th>\n",
       "      <th>FLpipeId</th>\n",
       "      <th>name</th>\n",
       "    </tr>\n",
       "  </thead>\n",
       "  <tbody>\n",
       "    <tr>\n",
       "      <th>0</th>\n",
       "      <td>1</td>\n",
       "      <td>1</td>\n",
       "      <td>1</td>\n",
       "      <td>Flsetup_1_Feddataset</td>\n",
       "    </tr>\n",
       "  </tbody>\n",
       "</table>\n",
       "</div>"
      ],
      "text/plain": [
       "   FedId  FLsetupId  FLpipeId                  name\n",
       "0      1          1         1  Flsetup_1_Feddataset"
      ]
     },
     "execution_count": 7,
     "metadata": {},
     "output_type": "execute_result"
    }
   ],
   "source": [
    "# The federated dataset is already created \n",
    "fl_setup.get_flDataSet()"
   ]
  },
  {
   "cell_type": "code",
   "execution_count": 6,
   "metadata": {},
   "outputs": [
    {
     "data": {
      "text/plain": [
       "17"
      ]
     },
     "execution_count": 6,
     "metadata": {},
     "output_type": "execute_result"
    }
   ],
   "source": [
    "# Create the federated Data set ( in our case the federated Dataset is created it will use it directly)\n",
    "fl_dataset = fl_setup.create_federated_dataset(\n",
    "    output=\"event_death\", \n",
    "    fit_encode=[\"site_hospital\", \"site_region\"], \n",
    "    to_drop=[ \"PatientId\" ,\"event_death\" , \"id\"], \n",
    " )\n",
    "\n",
    "fl_dataset.size"
   ]
  },
  {
   "cell_type": "code",
   "execution_count": 7,
   "metadata": {},
   "outputs": [],
   "source": [
    "# Create The server \n",
    "server = FlowerServer(global_model, strategy = fed_avg, num_rounds = 10,\n",
    "                       num_clients  = len(fl_dataset.trainloaders), \n",
    "                       fed_dataset = fl_dataset,diff_privacy = False ,\n",
    "                       # You can change the resources alocated for each client based on your machine \n",
    "                       client_resources={'num_cpus': 1.0, 'num_gpus': 0.0}\n",
    "                       )"
   ]
  },
  {
   "cell_type": "markdown",
   "metadata": {},
   "source": [
    "### 4. FL Pipeline Creation\n",
    "\n",
    "<div style=\"display : flex\"> \n",
    "<div >\n",
    "\n",
    "The Federated pipeline is the class responsible of running the federated learning process, launch the training of the model then test it and store the results in the database \n",
    "\n",
    "To create a pipeline we need to provide the `name`, `description` and finaly the `server` \n",
    "\n",
    "</div>\n",
    "<div>\n",
    "<img src='../Images/pipeline.png' width=\"250\" style=\"display: block  ; margin : 0 auto\" />\n",
    "</div>\n",
    "</div>\n",
    "\n"
   ]
  },
  {
   "cell_type": "code",
   "execution_count": 13,
   "metadata": {},
   "outputs": [],
   "source": [
    "# Create the pipeline \n",
    "ppl_1 = FLpipeline( name =\"the second fl_pipeline\",description = \"this is our second FL pipeline\",\n",
    "                   server = server)"
   ]
  },
  {
   "cell_type": "code",
   "execution_count": 9,
   "metadata": {},
   "outputs": [
    {
     "data": {
      "text/plain": [
       "['West', 'Northeast']"
      ]
     },
     "execution_count": 9,
     "metadata": {},
     "output_type": "execute_result"
    }
   ],
   "source": [
    "# Display the Tests nodes on the federated dataset\n",
    "ppl_1.server.fed_dataset.test_nodes"
   ]
  },
  {
   "cell_type": "code",
   "execution_count": 14,
   "metadata": {},
   "outputs": [
    {
     "name": "stderr",
     "output_type": "stream",
     "text": [
      "INFO flwr 2024-01-08 23:34:18,205 | app.py:175 | Starting Flower simulation, config: ServerConfig(num_rounds=10, round_timeout=None)\n",
      "01/08/2024 23:34:18:INFO:Starting Flower simulation, config: ServerConfig(num_rounds=10, round_timeout=None)\n"
     ]
    },
    {
     "name": "stderr",
     "output_type": "stream",
     "text": [
      "2024-01-08 23:34:26,745\tINFO worker.py:1621 -- Started a local Ray instance.\n",
      "INFO flwr 2024-01-08 23:34:30,767 | app.py:210 | Flower VCE: Ray initialized with resources: {'CPU': 8.0, 'memory': 1536704103.0, 'object_store_memory': 78643200.0, 'node:127.0.0.1': 1.0, 'node:__internal_head__': 1.0}\n",
      "01/08/2024 23:34:30:INFO:Flower VCE: Ray initialized with resources: {'CPU': 8.0, 'memory': 1536704103.0, 'object_store_memory': 78643200.0, 'node:127.0.0.1': 1.0, 'node:__internal_head__': 1.0}\n",
      "INFO flwr 2024-01-08 23:34:30,768 | app.py:224 | Flower VCE: Resources for each Virtual Client: {'num_cpus': 1.0, 'num_gpus': 0.0}\n",
      "01/08/2024 23:34:30:INFO:Flower VCE: Resources for each Virtual Client: {'num_cpus': 1.0, 'num_gpus': 0.0}\n",
      "INFO flwr 2024-01-08 23:34:30,793 | app.py:270 | Flower VCE: Creating VirtualClientEngineActorPool with 8 actors\n",
      "01/08/2024 23:34:30:INFO:Flower VCE: Creating VirtualClientEngineActorPool with 8 actors\n",
      "INFO flwr 2024-01-08 23:34:30,796 | server.py:89 | Initializing global parameters\n",
      "01/08/2024 23:34:30:INFO:Initializing global parameters\n",
      "INFO flwr 2024-01-08 23:34:30,801 | server.py:276 | Requesting initial parameters from one random client\n",
      "01/08/2024 23:34:30:INFO:Requesting initial parameters from one random client\n",
      "INFO flwr 2024-01-08 23:34:42,869 | server.py:280 | Received initial parameters from one random client\n",
      "01/08/2024 23:34:42:INFO:Received initial parameters from one random client\n",
      "INFO flwr 2024-01-08 23:34:42,871 | server.py:91 | Evaluating initial parameters\n",
      "01/08/2024 23:34:42:INFO:Evaluating initial parameters\n",
      "INFO flwr 2024-01-08 23:34:42,935 | server.py:94 | initial parameters (loss, other metrics): 0.01510514794207877, {'accuracy': 0.8616071428571429}\n",
      "01/08/2024 23:34:42:INFO:initial parameters (loss, other metrics): 0.01510514794207877, {'accuracy': 0.8616071428571429}\n",
      "INFO flwr 2024-01-08 23:34:42,940 | server.py:104 | FL starting\n",
      "01/08/2024 23:34:42:INFO:FL starting\n",
      "DEBUG flwr 2024-01-08 23:34:42,944 | server.py:222 | fit_round 1: strategy sampled 2 clients (out of 2)\n",
      "01/08/2024 23:34:42:DEBUG:fit_round 1: strategy sampled 2 clients (out of 2)\n",
      "\u001b[2m\u001b[36m(DefaultActor pid=10096)\u001b[0m C:\\Users\\HP User\\AppData\\Roaming\\Python\\Python39\\site-packages\\opacus\\privacy_engine.py:142: UserWarning: Secure RNG turned off. This is perfectly fine for experimentation as it allows for much faster training performance, but remember to turn it on and retrain one last time before production with ``secure_mode`` turned on.\n",
      "\u001b[2m\u001b[36m(DefaultActor pid=10096)\u001b[0m   warnings.warn(\n"
     ]
    },
    {
     "name": "stdout",
     "output_type": "stream",
     "text": [
      "Server-side evaluation loss 0.01510514794207877 / accuracy 0.8616071428571429\n",
      "\u001b[2m\u001b[36m(DefaultActor pid=10096)\u001b[0m [Client 0] get_parameters\n",
      "\u001b[2m\u001b[36m(DefaultActor pid=10096)\u001b[0m [Client 1] fit, config: {}\n",
      "\u001b[2m\u001b[36m(DefaultActor pid=10096)\u001b[0m \tTrain Epoch: 0 \tLoss: 0.540485 Acc@1: 8.125000\n",
      "\u001b[2m\u001b[36m(DefaultActor pid=10096)\u001b[0m \tTrain Epoch: 0 \tLoss: 0.530823 Acc@1: 4.687500\n",
      "\u001b[2m\u001b[36m(DefaultActor pid=10096)\u001b[0m \tTrain Epoch: 0 \tLoss: 0.525017 Acc@1: 3.541667\n",
      "\u001b[2m\u001b[36m(DefaultActor pid=10096)\u001b[0m \tTrain Epoch: 0 \tLoss: 0.524099 Acc@1: 3.125000\n",
      "\u001b[2m\u001b[36m(DefaultActor pid=10096)\u001b[0m \tTrain Epoch: 0 \tLoss: 0.519905 Acc@1: 3.187500\n",
      "\u001b[2m\u001b[36m(DefaultActor pid=10096)\u001b[0m \tTrain Epoch: 0 \tLoss: 0.517941 Acc@1: 4.531250\n",
      "\u001b[2m\u001b[36m(DefaultActor pid=10096)\u001b[0m \tTrain Epoch: 0 \tLoss: 0.521391 Acc@1: 5.133929\n",
      "\u001b[2m\u001b[36m(DefaultActor pid=10096)\u001b[0m \tTrain Epoch: 0 \tLoss: 0.524155 Acc@1: 4.492188\n",
      "\u001b[2m\u001b[36m(DefaultActor pid=10096)\u001b[0m \tTrain Epoch: 1 \tLoss: 0.540337 Acc@1: 8.125000\n",
      "\u001b[2m\u001b[36m(DefaultActor pid=10096)\u001b[0m \tTrain Epoch: 1 \tLoss: 0.530670 Acc@1: 4.687500\n",
      "\u001b[2m\u001b[36m(DefaultActor pid=10096)\u001b[0m \tTrain Epoch: 1 \tLoss: 0.524871 Acc@1: 3.541667\n",
      "\u001b[2m\u001b[36m(DefaultActor pid=10096)\u001b[0m \tTrain Epoch: 1 \tLoss: 0.523937 Acc@1: 3.125000\n",
      "\u001b[2m\u001b[36m(DefaultActor pid=10096)\u001b[0m \tTrain Epoch: 1 \tLoss: 0.519735 Acc@1: 3.187500\n",
      "\u001b[2m\u001b[36m(DefaultActor pid=10096)\u001b[0m \tTrain Epoch: 1 \tLoss: 0.517771 Acc@1: 4.531250\n",
      "\u001b[2m\u001b[36m(DefaultActor pid=10096)\u001b[0m \tTrain Epoch: 1 \tLoss: 0.521232 Acc@1: 5.133929\n",
      "\u001b[2m\u001b[36m(DefaultActor pid=10096)\u001b[0m \tTrain Epoch: 1 \tLoss: 0.523993 Acc@1: 4.492188\n",
      "\u001b[2m\u001b[36m(DefaultActor pid=10096)\u001b[0m \tTrain Epoch: 2 \tLoss: 0.540191 Acc@1: 8.125000\n",
      "\u001b[2m\u001b[36m(DefaultActor pid=10096)\u001b[0m \tTrain Epoch: 2 \tLoss: 0.530519 Acc@1: 4.687500\n",
      "\u001b[2m\u001b[36m(DefaultActor pid=10096)\u001b[0m \tTrain Epoch: 2 \tLoss: 0.524727 Acc@1: 3.541667\n",
      "\u001b[2m\u001b[36m(DefaultActor pid=10096)\u001b[0m \tTrain Epoch: 2 \tLoss: 0.523779 Acc@1: 3.125000\n",
      "\u001b[2m\u001b[36m(DefaultActor pid=10096)\u001b[0m \tTrain Epoch: 2 \tLoss: 0.519570 Acc@1: 3.187500\n",
      "\u001b[2m\u001b[36m(DefaultActor pid=10096)\u001b[0m \tTrain Epoch: 2 \tLoss: 0.517606 Acc@1: 4.531250\n",
      "\u001b[2m\u001b[36m(DefaultActor pid=10096)\u001b[0m \tTrain Epoch: 2 \tLoss: 0.521078 Acc@1: 5.133929\n",
      "\u001b[2m\u001b[36m(DefaultActor pid=10096)\u001b[0m \tTrain Epoch: 2 \tLoss: 0.523836 Acc@1: 4.492188\n",
      "\u001b[2m\u001b[36m(DefaultActor pid=10096)\u001b[0m \tTrain Epoch: 3 \tLoss: 0.540046 Acc@1: 8.125000\n",
      "\u001b[2m\u001b[36m(DefaultActor pid=10096)\u001b[0m \tTrain Epoch: 3 \tLoss: 0.530371 Acc@1: 4.687500\n",
      "\u001b[2m\u001b[36m(DefaultActor pid=10096)\u001b[0m \tTrain Epoch: 3 \tLoss: 0.524587 Acc@1: 3.541667\n",
      "\u001b[2m\u001b[36m(DefaultActor pid=10096)\u001b[0m \tTrain Epoch: 3 \tLoss: 0.523624 Acc@1: 3.125000\n",
      "\u001b[2m\u001b[36m(DefaultActor pid=10096)\u001b[0m \tTrain Epoch: 3 \tLoss: 0.519410 Acc@1: 3.187500\n",
      "\u001b[2m\u001b[36m(DefaultActor pid=10096)\u001b[0m \tTrain Epoch: 3 \tLoss: 0.517446 Acc@1: 4.531250\n",
      "\u001b[2m\u001b[36m(DefaultActor pid=10096)\u001b[0m \tTrain Epoch: 3 \tLoss: 0.520928 Acc@1: 5.133929\n",
      "\u001b[2m\u001b[36m(DefaultActor pid=10096)\u001b[0m \tTrain Epoch: 3 \tLoss: 0.523683 Acc@1: 4.492188\n",
      "\u001b[2m\u001b[36m(DefaultActor pid=10096)\u001b[0m \tTrain Epoch: 4 \tLoss: 0.539903 Acc@1: 8.125000\n",
      "\u001b[2m\u001b[36m(DefaultActor pid=10096)\u001b[0m \tTrain Epoch: 4 \tLoss: 0.530226 Acc@1: 4.687500\n",
      "\u001b[2m\u001b[36m(DefaultActor pid=10096)\u001b[0m \tTrain Epoch: 4 \tLoss: 0.524449 Acc@1: 3.541667\n",
      "\u001b[2m\u001b[36m(DefaultActor pid=10096)\u001b[0m \tTrain Epoch: 4 \tLoss: 0.523473 Acc@1: 3.125000\n",
      "\u001b[2m\u001b[36m(DefaultActor pid=10096)\u001b[0m \tTrain Epoch: 4 \tLoss: 0.519253 Acc@1: 3.187500\n",
      "\u001b[2m\u001b[36m(DefaultActor pid=10096)\u001b[0m \tTrain Epoch: 4 \tLoss: 0.517289 Acc@1: 4.531250\n",
      "\u001b[2m\u001b[36m(DefaultActor pid=10096)\u001b[0m \tTrain Epoch: 4 \tLoss: 0.520781 Acc@1: 5.133929\n",
      "\u001b[2m\u001b[36m(DefaultActor pid=10096)\u001b[0m \tTrain Epoch: 4 \tLoss: 0.523532 Acc@1: 4.492188\n",
      "\u001b[2m\u001b[36m(DefaultActor pid=10096)\u001b[0m \tTrain Epoch: 5 \tLoss: 0.539756 Acc@1: 8.125000\n",
      "\u001b[2m\u001b[36m(DefaultActor pid=10096)\u001b[0m \tTrain Epoch: 5 \tLoss: 0.530080 Acc@1: 4.687500\n",
      "\u001b[2m\u001b[36m(DefaultActor pid=10096)\u001b[0m \tTrain Epoch: 5 \tLoss: 0.524313 Acc@1: 3.541667\n",
      "\u001b[2m\u001b[36m(DefaultActor pid=10096)\u001b[0m \tTrain Epoch: 5 \tLoss: 0.523324 Acc@1: 3.125000\n",
      "\u001b[2m\u001b[36m(DefaultActor pid=10096)\u001b[0m \tTrain Epoch: 5 \tLoss: 0.519099 Acc@1: 3.187500\n",
      "\u001b[2m\u001b[36m(DefaultActor pid=10096)\u001b[0m \tTrain Epoch: 5 \tLoss: 0.517134 Acc@1: 4.531250\n",
      "\u001b[2m\u001b[36m(DefaultActor pid=10096)\u001b[0m \tTrain Epoch: 5 \tLoss: 0.520635 Acc@1: 5.133929\n",
      "\u001b[2m\u001b[36m(DefaultActor pid=10096)\u001b[0m \tTrain Epoch: 5 \tLoss: 0.523383 Acc@1: 4.492188\n",
      "\u001b[2m\u001b[36m(DefaultActor pid=10096)\u001b[0m epsilon of client 1 : eps = 0\n"
     ]
    },
    {
     "name": "stderr",
     "output_type": "stream",
     "text": [
      "\u001b[2m\u001b[36m(DefaultActor pid=19008)\u001b[0m C:\\Users\\HP User\\AppData\\Roaming\\Python\\Python39\\site-packages\\opacus\\privacy_engine.py:142: UserWarning: Secure RNG turned off. This is perfectly fine for experimentation as it allows for much faster training performance, but remember to turn it on and retrain one last time before production with ``secure_mode`` turned on.\n",
      "\u001b[2m\u001b[36m(DefaultActor pid=19008)\u001b[0m   warnings.warn(\n"
     ]
    },
    {
     "name": "stdout",
     "output_type": "stream",
     "text": [
      "\u001b[2m\u001b[36m(DefaultActor pid=19008)\u001b[0m [Client 0] fit, config: {}\n",
      "\u001b[2m\u001b[36m(DefaultActor pid=19008)\u001b[0m \tTrain Epoch: 0 \tLoss: 0.462355 Acc@1: 2.604167\u001b[32m [repeated 9x across cluster]\u001b[0m\n"
     ]
    },
    {
     "name": "stderr",
     "output_type": "stream",
     "text": [
      "DEBUG flwr 2024-01-08 23:34:50,043 | server.py:236 | fit_round 1 received 2 results and 0 failures\n",
      "01/08/2024 23:34:50:DEBUG:fit_round 1 received 2 results and 0 failures\n",
      "WARNING flwr 2024-01-08 23:34:50,058 | fedavg.py:242 | No fit_metrics_aggregation_fn provided\n",
      "01/08/2024 23:34:50:WARNING:No fit_metrics_aggregation_fn provided\n",
      "INFO flwr 2024-01-08 23:34:50,099 | server.py:125 | fit progress: (1, 0.015065134500713943, {'accuracy': 0.8616071428571429}, 7.155531699999983)\n",
      "01/08/2024 23:34:50:INFO:fit progress: (1, 0.015065134500713943, {'accuracy': 0.8616071428571429}, 7.155531699999983)\n",
      "DEBUG flwr 2024-01-08 23:34:50,102 | server.py:173 | evaluate_round 1: strategy sampled 2 clients (out of 2)\n",
      "01/08/2024 23:34:50:DEBUG:evaluate_round 1: strategy sampled 2 clients (out of 2)\n",
      "\u001b[2m\u001b[36m(DefaultActor pid=19008)\u001b[0m C:\\Users\\HP User\\AppData\\Roaming\\Python\\Python39\\site-packages\\opacus\\privacy_engine.py:142: UserWarning: Secure RNG turned off. This is perfectly fine for experimentation as it allows for much faster training performance, but remember to turn it on and retrain one last time before production with ``secure_mode`` turned on.\n",
      "\u001b[2m\u001b[36m(DefaultActor pid=19008)\u001b[0m   warnings.warn(\n",
      "DEBUG flwr 2024-01-08 23:34:50,249 | server.py:187 | evaluate_round 1 received 2 results and 0 failures\n",
      "01/08/2024 23:34:50:DEBUG:evaluate_round 1 received 2 results and 0 failures\n",
      "WARNING flwr 2024-01-08 23:34:50,257 | fedavg.py:273 | No evaluate_metrics_aggregation_fn provided\n",
      "01/08/2024 23:34:50:WARNING:No evaluate_metrics_aggregation_fn provided\n",
      "DEBUG flwr 2024-01-08 23:34:50,259 | server.py:222 | fit_round 2: strategy sampled 2 clients (out of 2)\n",
      "01/08/2024 23:34:50:DEBUG:fit_round 2: strategy sampled 2 clients (out of 2)\n"
     ]
    },
    {
     "name": "stdout",
     "output_type": "stream",
     "text": [
      "Server-side evaluation loss 0.015065134500713943 / accuracy 0.8616071428571429\n",
      "\u001b[2m\u001b[36m(DefaultActor pid=19008)\u001b[0m [Client 1] evaluate, config: {}\n",
      "\u001b[2m\u001b[36m(DefaultActor pid=19008)\u001b[0m epsilon of client 0 : eps = 0\n",
      "\u001b[2m\u001b[36m(DefaultActor pid=19008)\u001b[0m [Client 1] fit, config: {}\n",
      "\u001b[2m\u001b[36m(DefaultActor pid=19008)\u001b[0m epsilon of client 1 : eps = 0\n"
     ]
    },
    {
     "name": "stderr",
     "output_type": "stream",
     "text": [
      "DEBUG flwr 2024-01-08 23:34:52,134 | server.py:236 | fit_round 2 received 2 results and 0 failures\n",
      "01/08/2024 23:34:52:DEBUG:fit_round 2 received 2 results and 0 failures\n",
      "INFO flwr 2024-01-08 23:34:52,167 | server.py:125 | fit progress: (2, 0.015025547725691212, {'accuracy': 0.8616071428571429}, 9.222757299999898)\n",
      "01/08/2024 23:34:52:INFO:fit progress: (2, 0.015025547725691212, {'accuracy': 0.8616071428571429}, 9.222757299999898)\n",
      "DEBUG flwr 2024-01-08 23:34:52,170 | server.py:173 | evaluate_round 2: strategy sampled 2 clients (out of 2)\n",
      "01/08/2024 23:34:52:DEBUG:evaluate_round 2: strategy sampled 2 clients (out of 2)\n",
      "DEBUG flwr 2024-01-08 23:34:52,263 | server.py:187 | evaluate_round 2 received 2 results and 0 failures\n",
      "01/08/2024 23:34:52:DEBUG:evaluate_round 2 received 2 results and 0 failures\n",
      "DEBUG flwr 2024-01-08 23:34:52,265 | server.py:222 | fit_round 3: strategy sampled 2 clients (out of 2)\n",
      "01/08/2024 23:34:52:DEBUG:fit_round 3: strategy sampled 2 clients (out of 2)\n"
     ]
    },
    {
     "name": "stdout",
     "output_type": "stream",
     "text": [
      "Server-side evaluation loss 0.015025547725691212 / accuracy 0.8616071428571429\n"
     ]
    },
    {
     "name": "stderr",
     "output_type": "stream",
     "text": [
      "DEBUG flwr 2024-01-08 23:34:53,946 | server.py:236 | fit_round 3 received 2 results and 0 failures\n",
      "01/08/2024 23:34:53:DEBUG:fit_round 3 received 2 results and 0 failures\n",
      "INFO flwr 2024-01-08 23:34:53,973 | server.py:125 | fit progress: (3, 0.014988412959970158, {'accuracy': 0.8616071428571429}, 11.028715599999941)\n",
      "01/08/2024 23:34:53:INFO:fit progress: (3, 0.014988412959970158, {'accuracy': 0.8616071428571429}, 11.028715599999941)\n",
      "DEBUG flwr 2024-01-08 23:34:53,980 | server.py:173 | evaluate_round 3: strategy sampled 2 clients (out of 2)\n",
      "01/08/2024 23:34:53:DEBUG:evaluate_round 3: strategy sampled 2 clients (out of 2)\n",
      "DEBUG flwr 2024-01-08 23:34:54,098 | server.py:187 | evaluate_round 3 received 2 results and 0 failures\n",
      "01/08/2024 23:34:54:DEBUG:evaluate_round 3 received 2 results and 0 failures\n",
      "DEBUG flwr 2024-01-08 23:34:54,101 | server.py:222 | fit_round 4: strategy sampled 2 clients (out of 2)\n",
      "01/08/2024 23:34:54:DEBUG:fit_round 4: strategy sampled 2 clients (out of 2)\n"
     ]
    },
    {
     "name": "stdout",
     "output_type": "stream",
     "text": [
      "Server-side evaluation loss 0.014988412959970158 / accuracy 0.8616071428571429\n",
      "\u001b[2m\u001b[36m(DefaultActor pid=10096)\u001b[0m \tTrain Epoch: 5 \tLoss: 0.454635 Acc@1: 2.130682\u001b[32m [repeated 285x across cluster]\u001b[0m\n",
      "\u001b[2m\u001b[36m(DefaultActor pid=10096)\u001b[0m [Client 1] evaluate, config: {}\u001b[32m [repeated 5x across cluster]\u001b[0m\n",
      "\u001b[2m\u001b[36m(DefaultActor pid=10096)\u001b[0m [Client 0] fit, config: {}\u001b[32m [repeated 5x across cluster]\u001b[0m\n"
     ]
    },
    {
     "name": "stderr",
     "output_type": "stream",
     "text": [
      "DEBUG flwr 2024-01-08 23:34:56,073 | server.py:236 | fit_round 4 received 2 results and 0 failures\n",
      "01/08/2024 23:34:56:DEBUG:fit_round 4 received 2 results and 0 failures\n",
      "INFO flwr 2024-01-08 23:34:56,105 | server.py:125 | fit progress: (4, 0.014952951483875156, {'accuracy': 0.8616071428571429}, 13.161296899999911)\n",
      "01/08/2024 23:34:56:INFO:fit progress: (4, 0.014952951483875156, {'accuracy': 0.8616071428571429}, 13.161296899999911)\n",
      "DEBUG flwr 2024-01-08 23:34:56,112 | server.py:173 | evaluate_round 4: strategy sampled 2 clients (out of 2)\n",
      "01/08/2024 23:34:56:DEBUG:evaluate_round 4: strategy sampled 2 clients (out of 2)\n",
      "DEBUG flwr 2024-01-08 23:34:56,226 | server.py:187 | evaluate_round 4 received 2 results and 0 failures\n",
      "01/08/2024 23:34:56:DEBUG:evaluate_round 4 received 2 results and 0 failures\n",
      "DEBUG flwr 2024-01-08 23:34:56,232 | server.py:222 | fit_round 5: strategy sampled 2 clients (out of 2)\n",
      "01/08/2024 23:34:56:DEBUG:fit_round 5: strategy sampled 2 clients (out of 2)\n"
     ]
    },
    {
     "name": "stdout",
     "output_type": "stream",
     "text": [
      "Server-side evaluation loss 0.014952951483875156 / accuracy 0.8616071428571429\n"
     ]
    },
    {
     "name": "stderr",
     "output_type": "stream",
     "text": [
      "\u001b[2m\u001b[36m(DefaultActor pid=19008)\u001b[0m C:\\Users\\HP User\\AppData\\Roaming\\Python\\Python39\\site-packages\\opacus\\privacy_engine.py:142: UserWarning: Secure RNG turned off. This is perfectly fine for experimentation as it allows for much faster training performance, but remember to turn it on and retrain one last time before production with ``secure_mode`` turned on.\u001b[32m [repeated 8x across cluster]\u001b[0m\n",
      "\u001b[2m\u001b[36m(DefaultActor pid=19008)\u001b[0m   warnings.warn(\u001b[32m [repeated 8x across cluster]\u001b[0m\n"
     ]
    },
    {
     "name": "stdout",
     "output_type": "stream",
     "text": [
      "\u001b[2m\u001b[36m(DefaultActor pid=10096)\u001b[0m epsilon of client 0 : eps = 0\u001b[32m [repeated 5x across cluster]\u001b[0m\n",
      "\u001b[2m\u001b[36m(DefaultActor pid=19008)\u001b[0m \n"
     ]
    },
    {
     "name": "stderr",
     "output_type": "stream",
     "text": [
      "DEBUG flwr 2024-01-08 23:34:58,085 | server.py:236 | fit_round 5 received 2 results and 0 failures\n",
      "01/08/2024 23:34:58:DEBUG:fit_round 5 received 2 results and 0 failures\n",
      "INFO flwr 2024-01-08 23:34:58,116 | server.py:125 | fit progress: (5, 0.014918324687212206, {'accuracy': 0.8616071428571429}, 15.17163149999999)\n",
      "01/08/2024 23:34:58:INFO:fit progress: (5, 0.014918324687212206, {'accuracy': 0.8616071428571429}, 15.17163149999999)\n",
      "DEBUG flwr 2024-01-08 23:34:58,118 | server.py:173 | evaluate_round 5: strategy sampled 2 clients (out of 2)\n",
      "01/08/2024 23:34:58:DEBUG:evaluate_round 5: strategy sampled 2 clients (out of 2)\n",
      "DEBUG flwr 2024-01-08 23:34:58,218 | server.py:187 | evaluate_round 5 received 2 results and 0 failures\n",
      "01/08/2024 23:34:58:DEBUG:evaluate_round 5 received 2 results and 0 failures\n",
      "DEBUG flwr 2024-01-08 23:34:58,225 | server.py:222 | fit_round 6: strategy sampled 2 clients (out of 2)\n",
      "01/08/2024 23:34:58:DEBUG:fit_round 6: strategy sampled 2 clients (out of 2)\n"
     ]
    },
    {
     "name": "stdout",
     "output_type": "stream",
     "text": [
      "Server-side evaluation loss 0.014918324687212206 / accuracy 0.8616071428571429\n",
      "\u001b[2m\u001b[36m(DefaultActor pid=10096)\u001b[0m \tTrain Epoch: 3 \tLoss: 0.519248 Acc@1: 3.125000\u001b[32m [repeated 284x across cluster]\u001b[0m\n"
     ]
    },
    {
     "name": "stderr",
     "output_type": "stream",
     "text": [
      "DEBUG flwr 2024-01-08 23:34:59,849 | server.py:236 | fit_round 6 received 2 results and 0 failures\n",
      "01/08/2024 23:34:59:DEBUG:fit_round 6 received 2 results and 0 failures\n",
      "INFO flwr 2024-01-08 23:34:59,882 | server.py:125 | fit progress: (6, 0.014884570805574779, {'accuracy': 0.8616071428571429}, 16.937866499999927)\n",
      "01/08/2024 23:34:59:INFO:fit progress: (6, 0.014884570805574779, {'accuracy': 0.8616071428571429}, 16.937866499999927)\n",
      "DEBUG flwr 2024-01-08 23:34:59,883 | server.py:173 | evaluate_round 6: strategy sampled 2 clients (out of 2)\n",
      "01/08/2024 23:34:59:DEBUG:evaluate_round 6: strategy sampled 2 clients (out of 2)\n",
      "DEBUG flwr 2024-01-08 23:35:00,000 | server.py:187 | evaluate_round 6 received 2 results and 0 failures\n",
      "01/08/2024 23:35:00:DEBUG:evaluate_round 6 received 2 results and 0 failures\n",
      "DEBUG flwr 2024-01-08 23:35:00,006 | server.py:222 | fit_round 7: strategy sampled 2 clients (out of 2)\n",
      "01/08/2024 23:35:00:DEBUG:fit_round 7: strategy sampled 2 clients (out of 2)\n"
     ]
    },
    {
     "name": "stdout",
     "output_type": "stream",
     "text": [
      "Server-side evaluation loss 0.014884570805574779 / accuracy 0.8616071428571429\n",
      "\u001b[2m\u001b[36m(DefaultActor pid=10096)\u001b[0m [Client 0] evaluate, config: {}\u001b[32m [repeated 6x across cluster]\u001b[0m\n",
      "\u001b[2m\u001b[36m(DefaultActor pid=19008)\u001b[0m [Client 0] fit, config: {}\u001b[32m [repeated 6x across cluster]\u001b[0m\n"
     ]
    },
    {
     "name": "stderr",
     "output_type": "stream",
     "text": [
      "DEBUG flwr 2024-01-08 23:35:01,727 | server.py:236 | fit_round 7 received 2 results and 0 failures\n",
      "01/08/2024 23:35:01:DEBUG:fit_round 7 received 2 results and 0 failures\n",
      "INFO flwr 2024-01-08 23:35:01,754 | server.py:125 | fit progress: (7, 0.014852601775734258, {'accuracy': 0.8616071428571429}, 18.80944719999991)\n",
      "01/08/2024 23:35:01:INFO:fit progress: (7, 0.014852601775734258, {'accuracy': 0.8616071428571429}, 18.80944719999991)\n",
      "DEBUG flwr 2024-01-08 23:35:01,760 | server.py:173 | evaluate_round 7: strategy sampled 2 clients (out of 2)\n",
      "01/08/2024 23:35:01:DEBUG:evaluate_round 7: strategy sampled 2 clients (out of 2)\n",
      "DEBUG flwr 2024-01-08 23:35:01,844 | server.py:187 | evaluate_round 7 received 2 results and 0 failures\n",
      "01/08/2024 23:35:01:DEBUG:evaluate_round 7 received 2 results and 0 failures\n",
      "DEBUG flwr 2024-01-08 23:35:01,845 | server.py:222 | fit_round 8: strategy sampled 2 clients (out of 2)\n",
      "01/08/2024 23:35:01:DEBUG:fit_round 8: strategy sampled 2 clients (out of 2)\n"
     ]
    },
    {
     "name": "stdout",
     "output_type": "stream",
     "text": [
      "Server-side evaluation loss 0.014852601775734258 / accuracy 0.8616071428571429\n",
      "\u001b[2m\u001b[36m(DefaultActor pid=19008)\u001b[0m epsilon of client 0 : eps = 0\u001b[32m [repeated 6x across cluster]\u001b[0m\n"
     ]
    },
    {
     "name": "stderr",
     "output_type": "stream",
     "text": [
      "\u001b[2m\u001b[36m(DefaultActor pid=19008)\u001b[0m C:\\Users\\HP User\\AppData\\Roaming\\Python\\Python39\\site-packages\\opacus\\privacy_engine.py:142: UserWarning: Secure RNG turned off. This is perfectly fine for experimentation as it allows for much faster training performance, but remember to turn it on and retrain one last time before production with ``secure_mode`` turned on.\u001b[32m [repeated 6x across cluster]\u001b[0m\n",
      "\u001b[2m\u001b[36m(DefaultActor pid=19008)\u001b[0m   warnings.warn(\u001b[32m [repeated 6x across cluster]\u001b[0m\n",
      "DEBUG flwr 2024-01-08 23:35:03,512 | server.py:236 | fit_round 8 received 2 results and 0 failures\n",
      "01/08/2024 23:35:03:DEBUG:fit_round 8 received 2 results and 0 failures\n",
      "INFO flwr 2024-01-08 23:35:03,540 | server.py:125 | fit progress: (8, 0.014821532175695295, {'accuracy': 0.8616071428571429}, 20.597062699999924)\n",
      "01/08/2024 23:35:03:INFO:fit progress: (8, 0.014821532175695295, {'accuracy': 0.8616071428571429}, 20.597062699999924)\n",
      "DEBUG flwr 2024-01-08 23:35:03,542 | server.py:173 | evaluate_round 8: strategy sampled 2 clients (out of 2)\n",
      "01/08/2024 23:35:03:DEBUG:evaluate_round 8: strategy sampled 2 clients (out of 2)\n",
      "DEBUG flwr 2024-01-08 23:35:03,624 | server.py:187 | evaluate_round 8 received 2 results and 0 failures\n",
      "01/08/2024 23:35:03:DEBUG:evaluate_round 8 received 2 results and 0 failures\n",
      "DEBUG flwr 2024-01-08 23:35:03,629 | server.py:222 | fit_round 9: strategy sampled 2 clients (out of 2)\n",
      "01/08/2024 23:35:03:DEBUG:fit_round 9: strategy sampled 2 clients (out of 2)\n"
     ]
    },
    {
     "name": "stdout",
     "output_type": "stream",
     "text": [
      "Server-side evaluation loss 0.014821532175695295 / accuracy 0.8616071428571429\n",
      "\u001b[2m\u001b[36m(DefaultActor pid=19008)\u001b[0m \tTrain Epoch: 1 \tLoss: 0.513427 Acc@1: 3.187500\u001b[32m [repeated 307x across cluster]\u001b[0m\n",
      "\u001b[2m\u001b[36m(DefaultActor pid=10096)\u001b[0m [Client 0] evaluate, config: {}\u001b[32m [repeated 4x across cluster]\u001b[0m\n",
      "\u001b[2m\u001b[36m(DefaultActor pid=10096)\u001b[0m [Client 0] fit, config: {}\u001b[32m [repeated 4x across cluster]\u001b[0m\n"
     ]
    },
    {
     "name": "stderr",
     "output_type": "stream",
     "text": [
      "DEBUG flwr 2024-01-08 23:35:05,542 | server.py:236 | fit_round 9 received 2 results and 0 failures\n",
      "01/08/2024 23:35:05:DEBUG:fit_round 9 received 2 results and 0 failures\n",
      "INFO flwr 2024-01-08 23:35:05,575 | server.py:125 | fit progress: (9, 0.014791223356763807, {'accuracy': 0.8616071428571429}, 22.630425699999932)\n",
      "01/08/2024 23:35:05:INFO:fit progress: (9, 0.014791223356763807, {'accuracy': 0.8616071428571429}, 22.630425699999932)\n",
      "DEBUG flwr 2024-01-08 23:35:05,576 | server.py:173 | evaluate_round 9: strategy sampled 2 clients (out of 2)\n",
      "01/08/2024 23:35:05:DEBUG:evaluate_round 9: strategy sampled 2 clients (out of 2)\n",
      "DEBUG flwr 2024-01-08 23:35:05,677 | server.py:187 | evaluate_round 9 received 2 results and 0 failures\n",
      "01/08/2024 23:35:05:DEBUG:evaluate_round 9 received 2 results and 0 failures\n",
      "DEBUG flwr 2024-01-08 23:35:05,680 | server.py:222 | fit_round 10: strategy sampled 2 clients (out of 2)\n",
      "01/08/2024 23:35:05:DEBUG:fit_round 10: strategy sampled 2 clients (out of 2)\n"
     ]
    },
    {
     "name": "stdout",
     "output_type": "stream",
     "text": [
      "Server-side evaluation loss 0.014791223356763807 / accuracy 0.8616071428571429\n",
      "\u001b[2m\u001b[36m(DefaultActor pid=19008)\u001b[0m epsilon of client 1 : eps = 0\u001b[32m [repeated 5x across cluster]\u001b[0m\n"
     ]
    },
    {
     "name": "stderr",
     "output_type": "stream",
     "text": [
      "DEBUG flwr 2024-01-08 23:35:07,298 | server.py:236 | fit_round 10 received 2 results and 0 failures\n",
      "01/08/2024 23:35:07:DEBUG:fit_round 10 received 2 results and 0 failures\n",
      "INFO flwr 2024-01-08 23:35:07,325 | server.py:125 | fit progress: (10, 0.014760406826325744, {'accuracy': 0.8616071428571429}, 24.381851199999915)\n",
      "01/08/2024 23:35:07:INFO:fit progress: (10, 0.014760406826325744, {'accuracy': 0.8616071428571429}, 24.381851199999915)\n",
      "DEBUG flwr 2024-01-08 23:35:07,329 | server.py:173 | evaluate_round 10: strategy sampled 2 clients (out of 2)\n",
      "01/08/2024 23:35:07:DEBUG:evaluate_round 10: strategy sampled 2 clients (out of 2)\n",
      "DEBUG flwr 2024-01-08 23:35:07,426 | server.py:187 | evaluate_round 10 received 2 results and 0 failures\n",
      "01/08/2024 23:35:07:DEBUG:evaluate_round 10 received 2 results and 0 failures\n",
      "INFO flwr 2024-01-08 23:35:07,433 | server.py:153 | FL finished in 24.489167299999963\n",
      "01/08/2024 23:35:07:INFO:FL finished in 24.489167299999963\n",
      "INFO flwr 2024-01-08 23:35:07,436 | app.py:225 | app_fit: losses_distributed [(1, 0.016221172733392172), (2, 0.016192827427471995), (3, 0.01616621130475823), (4, 0.016140093458986714), (5, 0.016114513636952356), (6, 0.016089504260603453), (7, 0.016065745528456698), (8, 0.016042601649904616), (9, 0.016019765708524706), (10, 0.01599691845097092)]\n",
      "01/08/2024 23:35:07:INFO:app_fit: losses_distributed [(1, 0.016221172733392172), (2, 0.016192827427471995), (3, 0.01616621130475823), (4, 0.016140093458986714), (5, 0.016114513636952356), (6, 0.016089504260603453), (7, 0.016065745528456698), (8, 0.016042601649904616), (9, 0.016019765708524706), (10, 0.01599691845097092)]\n",
      "INFO flwr 2024-01-08 23:35:07,439 | app.py:226 | app_fit: metrics_distributed_fit {}\n",
      "01/08/2024 23:35:07:INFO:app_fit: metrics_distributed_fit {}\n",
      "INFO flwr 2024-01-08 23:35:07,441 | app.py:227 | app_fit: metrics_distributed {}\n",
      "01/08/2024 23:35:07:INFO:app_fit: metrics_distributed {}\n",
      "INFO flwr 2024-01-08 23:35:07,442 | app.py:228 | app_fit: losses_centralized [(0, 0.01510514794207877), (1, 0.015065134500713943), (2, 0.015025547725691212), (3, 0.014988412959970158), (4, 0.014952951483875156), (5, 0.014918324687212206), (6, 0.014884570805574779), (7, 0.014852601775734258), (8, 0.014821532175695295), (9, 0.014791223356763807), (10, 0.014760406826325744)]\n",
      "01/08/2024 23:35:07:INFO:app_fit: losses_centralized [(0, 0.01510514794207877), (1, 0.015065134500713943), (2, 0.015025547725691212), (3, 0.014988412959970158), (4, 0.014952951483875156), (5, 0.014918324687212206), (6, 0.014884570805574779), (7, 0.014852601775734258), (8, 0.014821532175695295), (9, 0.014791223356763807), (10, 0.014760406826325744)]\n",
      "INFO flwr 2024-01-08 23:35:07,448 | app.py:229 | app_fit: metrics_centralized {'accuracy': [(0, 0.8616071428571429), (1, 0.8616071428571429), (2, 0.8616071428571429), (3, 0.8616071428571429), (4, 0.8616071428571429), (5, 0.8616071428571429), (6, 0.8616071428571429), (7, 0.8616071428571429), (8, 0.8616071428571429), (9, 0.8616071428571429), (10, 0.8616071428571429)]}\n",
      "01/08/2024 23:35:07:INFO:app_fit: metrics_centralized {'accuracy': [(0, 0.8616071428571429), (1, 0.8616071428571429), (2, 0.8616071428571429), (3, 0.8616071428571429), (4, 0.8616071428571429), (5, 0.8616071428571429), (6, 0.8616071428571429), (7, 0.8616071428571429), (8, 0.8616071428571429), (9, 0.8616071428571429), (10, 0.8616071428571429)]}\n"
     ]
    },
    {
     "name": "stdout",
     "output_type": "stream",
     "text": [
      "Server-side evaluation loss 0.014760406826325744 / accuracy 0.8616071428571429\n"
     ]
    }
   ],
   "source": [
    "# Run the Traning of the model\n",
    "ppl_1.server.run()"
   ]
  },
  {
   "cell_type": "markdown",
   "metadata": {},
   "source": [
    "### 5. Store tests \n",
    "\n",
    "<div style=\"display:flex\">\n",
    "<div>\n",
    "\n",
    "The initial phase of model testing involves utilizing test loaders on test nodes to evaluate the model's performance. This testing phase launches assessments on designated test nodes, generating results that are subsequently stored in a database. These stored results serve the purpose of enabling later comparisons and evaluations among different models\n",
    "\n",
    "The tutorial labeled as `5_LearningResults-checkpoint` demonstrates diverse results and outputs accessible from the learning process. It elaborates on the multifaceted advantages and applications derived from these outcomes, emphasizing how each result can be effectively utilized for various purposes within the context of learning and model evaluation.\n",
    "</div>\n",
    "<div>\n",
    "\n",
    "<img src='../Images/modeltest.png' width=\"300\" style=\"display: block  ; margin : 0 auto\" />\n",
    "</div>\n",
    "\n",
    "</div>\n"
   ]
  },
  {
   "cell_type": "code",
   "execution_count": 15,
   "metadata": {},
   "outputs": [
    {
     "data": {
      "image/png": "[encoded data removed]",
      "text/plain": [
       "<Figure size 800x600 with 1 Axes>"
      ]
     },
     "metadata": {},
     "output_type": "display_data"
    }
   ],
   "source": [
    "# Make some plots \n",
    "global_accuracy,global_loss = ppl_1.server.accuracies,ppl_1.server.losses\n",
    "results_dict = {\n",
    "    ('LR: 0.001, Optimizer: SGD', 'accuracy'): global_accuracy,\n",
    "    ('LR: 0.001, Optimizer: SGD', 'loss'): global_loss\n",
    "}\n",
    "plotter = AccuracyLossPlotter(results_dict)\n",
    "\n",
    "plotter.plot_accuracy_loss()"
   ]
  },
  {
   "cell_type": "code",
   "execution_count": 16,
   "metadata": {},
   "outputs": [
    {
     "data": {
      "text/plain": [
       "[{'node_name': 'West',\n",
       "  'classification_report': \"{'confusion matrix': {'TP': 0, 'FP': 0, 'FN': 188, 'TN': 855}, 'Accuracy': 0.82, 'Sensitivity/Recall': 0.0, 'Specificity': 1.0, 'PPV/Precision': 0.0, 'NPV': 0.82, 'F1-score': 0.0, 'False positive rate': 0.0, 'True positive rate': 0.0}\"},\n",
       " {'node_name': 'Northeast',\n",
       "  'classification_report': \"{'confusion matrix': {'TP': 1, 'FP': 0, 'FN': 133, 'TN': 574}, 'Accuracy': 0.812, 'Sensitivity/Recall': 0.007, 'Specificity': 1.0, 'PPV/Precision': 1.0, 'NPV': 0.812, 'F1-score': 0.015, 'False positive rate': 0.0, 'True positive rate': 0.007}\"}]"
      ]
     },
     "execution_count": 16,
     "metadata": {},
     "output_type": "execute_result"
    }
   ],
   "source": [
    "# Test the Modal on the Test nodes and store the results on the DB\n",
    "ppl_1.auto_test()"
   ]
  },
  {
   "cell_type": "code",
   "execution_count": 4,
   "metadata": {},
   "outputs": [
    {
     "data": {
      "image/png": "[encoded data removed]",
      "text/plain": [
       "<Figure size 1200x600 with 1 Axes>"
      ]
     },
     "metadata": {},
     "output_type": "display_data"
    }
   ],
   "source": [
    "import matplotlib.pyplot as plt\n",
    "import numpy as np\n",
    "\n",
    "# Classification reports for Node 1 and Node 2\n",
    "classification_report_node1 = {\n",
    "    'Accuracy': 0.848,\n",
    "    'Sensitivity/Recall': 0.0,\n",
    "    'Specificity': 0.999,\n",
    "    'PPV/Precision': 0.0,\n",
    "    'NPV': 0.848,\n",
    "    'F1-score': 0.0,\n",
    "    'False positive rate': 0.001,\n",
    "    'True positive rate': 0.0\n",
    "}\n",
    "\n",
    "classification_report_node2 = {\n",
    "    'Accuracy': 0.798,\n",
    "    'Sensitivity/Recall': 0.2,\n",
    "    'Specificity': 0.985,\n",
    "    'PPV/Precision': 0.4,\n",
    "    'NPV': 0.76,\n",
    "    'F1-score': 0.25,\n",
    "    'False positive rate': 0.015,\n",
    "    'True positive rate': 0.2\n",
    "}\n",
    "\n",
    "# Extracting metrics for both nodes\n",
    "metrics_node1 = list(classification_report_node1.values())\n",
    "metrics_node2 = list(classification_report_node2.values())\n",
    "metric_labels = list(classification_report_node1.keys())  # Assuming both reports have the same keys\n",
    "\n",
    "# Set the positions of the bars on the x-axis\n",
    "x = np.arange(len(metric_labels))\n",
    "\n",
    "# Set the width of the bars\n",
    "width = 0.35\n",
    "\n",
    "# Plotting bar chart for metrics for both nodes\n",
    "plt.figure(figsize=(12, 6))\n",
    "\n",
    "plt.bar(x - width/2, metrics_node1, width, label='Node 1', color='skyblue')\n",
    "plt.bar(x + width/2, metrics_node2, width, label='Node 2', color='orange')\n",
    "\n",
    "# Adding labels, title, and legend\n",
    "plt.xlabel('Metrics')\n",
    "plt.ylabel('Values')\n",
    "plt.title('Comparison of Classification Report Metrics between Nodes')\n",
    "plt.xticks(ticks=x, labels=metric_labels, rotation=45)\n",
    "plt.legend()\n",
    "\n",
    "# Show plot\n",
    "plt.tight_layout()\n",
    "plt.show()\n"
   ]
  },
  {
   "cell_type": "markdown",
   "metadata": {},
   "source": [
    "#### Plot the Global confusion Matrix "
   ]
  },
  {
   "cell_type": "code",
   "execution_count": 3,
   "metadata": {},
   "outputs": [
    {
     "data": {
      "image/png": "[encoded data removed]",
      "text/plain": [
       "<Figure size 600x400 with 2 Axes>"
      ]
     },
     "metadata": {},
     "output_type": "display_data"
    }
   ],
   "source": [
    "# Plot the global confusion Matrix \n",
    "AccuracyLossPlotter.plot_global_confusion_matrix(pipeline_name='the first fl_pipeline')"
   ]
  },
  {
   "cell_type": "markdown",
   "metadata": {},
   "source": [
    "#### Plot the confusion matrix by nodes "
   ]
  }
 ],
 "metadata": {
  "kernelspec": {
   "display_name": "Python 3",
   "language": "python",
   "name": "python3"
  },
  "language_info": {
   "codemirror_mode": {
    "name": "ipython",
    "version": 3
   },
   "file_extension": ".py",
   "mimetype": "text/x-python",
   "name": "python",
   "nbconvert_exporter": "python",
   "pygments_lexer": "ipython3",
   "version": "3.9.4"
  },
  "orig_nbformat": 4
 },
 "nbformat": 4,
 "nbformat_minor": 2
}
