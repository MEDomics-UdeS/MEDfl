{
 "cells": [
  {
   "cell_type": "code",
   "execution_count": 1,
   "id": "6e285237",
   "metadata": {},
   "outputs": [],
   "source": [
    "import sys\n",
    "sys.path.append(r'~/Desktop/Github/MEDfl/')"
   ]
  },
  {
   "cell_type": "code",
   "execution_count": 2,
   "id": "788562a2",
   "metadata": {},
   "outputs": [],
   "source": [
    "from Medfl import *\n",
    "\n"
   ]
  },
  {
   "cell_type": "code",
   "execution_count": 3,
   "id": "918017dd",
   "metadata": {},
   "outputs": [],
   "source": [
    "import os\n",
    "os.environ['PYTHONPATH'] = '~/Desktop/Github/MEDfl/'"
   ]
  },
  {
   "cell_type": "markdown",
   "id": "293e7b14",
   "metadata": {},
   "source": [
    "<h2>Création d'un dataset</h2>"
   ]
  },
  {
   "cell_type": "code",
   "execution_count": 4,
   "id": "5e46a34f",
   "metadata": {},
   "outputs": [],
   "source": [
    "NUM_CLIENTS = 10"
   ]
  },
  {
   "cell_type": "code",
   "execution_count": 5,
   "id": "fe6d6f5d",
   "metadata": {},
   "outputs": [
    {
     "name": "stdout",
     "output_type": "stream",
     "text": [
      "<torch.utils.data.dataloader.DataLoader object at 0x7f903b7ee310>\n"
     ]
    }
   ],
   "source": [
    "from Medfl.Flpipeline.dataset import *\n",
    "dataset = Dataset(train_data,test_data,num_clients = NUM_CLIENTS)\n",
    "\n",
    "dataset.load_datasets()\n",
    "print(dataset.valloaders[0])"
   ]
  },
  {
   "cell_type": "markdown",
   "id": "9576c317",
   "metadata": {},
   "source": [
    "<h2>Création d'un modèle</h2>"
   ]
  },
  {
   "cell_type": "code",
   "execution_count": 6,
   "id": "9f17d925",
   "metadata": {},
   "outputs": [
    {
     "data": {
      "text/plain": [
       "LogisticRegression(\n",
       "  (fc1): Linear(in_features=17, out_features=34, bias=True)\n",
       "  (fc2): Linear(in_features=34, out_features=68, bias=True)\n",
       "  (fc3): Linear(in_features=68, out_features=1, bias=True)\n",
       ")"
      ]
     },
     "execution_count": 6,
     "metadata": {},
     "output_type": "execute_result"
    }
   ],
   "source": [
    "from Medfl.Flpipeline.model import *\n",
    "global_model = LogisticRegression(input_dim = dataset.size, hidden_dim = 2*dataset.size, output_dim = 1)\n",
    "global_model"
   ]
  },
  {
   "cell_type": "markdown",
   "id": "cbf7f774",
   "metadata": {},
   "source": [
    "<h2>Création d'un serveur</h2>"
   ]
  },
  {
   "cell_type": "code",
   "execution_count": 7,
   "id": "1b190bf3",
   "metadata": {},
   "outputs": [],
   "source": [
    "from Medfl.Flpipeline.server import *\n",
    "\n",
    "server = FlowerServer(global_model,strategy = \"FedAvg\", num_rounds = 3, num_clients  = NUM_CLIENTS,dataset = dataset,diff_privacy=False)"
   ]
  },
  {
   "cell_type": "markdown",
   "id": "6a89cf74",
   "metadata": {},
   "source": [
    "<h2>Création d'un pipeline</h2>"
   ]
  },
  {
   "cell_type": "code",
   "execution_count": 8,
   "id": "17a79c56",
   "metadata": {},
   "outputs": [],
   "source": [
    "from Medfl.Flpipeline.pipeline import *\n",
    "ppl_1 = pipeline(pp_id = 1 , pp_name =\"test_pipeline\",server = server)"
   ]
  },
  {
   "cell_type": "code",
   "execution_count": 9,
   "id": "d22bd11f",
   "metadata": {
    "pycharm": {
     "is_executing": true
    }
   },
   "outputs": [
    {
     "name": "stderr",
     "output_type": "stream",
     "text": [
      "INFO flwr 2023-02-07 22:47:38,924 | app.py:145 | Starting Flower simulation, config: ServerConfig(num_rounds=3, round_timeout=None)\n",
      "02/07/2023 22:47:38:INFO:Starting Flower simulation, config: ServerConfig(num_rounds=3, round_timeout=None)\n",
      "2023-02-07 22:47:39,404\tINFO worker.py:1518 -- Started a local Ray instance.\n",
      "INFO flwr 2023-02-07 22:47:41,531 | app.py:179 | Flower VCE: Ray initialized with resources: {'CPU': 4.0, 'object_store_memory': 1081557811.0, 'memory': 2163115623.0, 'node:192.168.43.27': 1.0}\n",
      "02/07/2023 22:47:41:INFO:Flower VCE: Ray initialized with resources: {'CPU': 4.0, 'object_store_memory': 1081557811.0, 'memory': 2163115623.0, 'node:192.168.43.27': 1.0}\n",
      "INFO flwr 2023-02-07 22:47:41,535 | server.py:86 | Initializing global parameters\n",
      "02/07/2023 22:47:41:INFO:Initializing global parameters\n",
      "INFO flwr 2023-02-07 22:47:41,540 | server.py:266 | Using initial parameters provided by strategy\n",
      "02/07/2023 22:47:41:INFO:Using initial parameters provided by strategy\n",
      "INFO flwr 2023-02-07 22:47:41,543 | server.py:88 | Evaluating initial parameters\n",
      "02/07/2023 22:47:41:INFO:Evaluating initial parameters\n",
      "INFO flwr 2023-02-07 22:47:41,572 | server.py:91 | initial parameters (loss, other metrics): 0.0305981191657704, {'accuracy': 0.4260355029585799}\n",
      "02/07/2023 22:47:41:INFO:initial parameters (loss, other metrics): 0.0305981191657704, {'accuracy': 0.4260355029585799}\n",
      "INFO flwr 2023-02-07 22:47:41,578 | server.py:101 | FL starting\n",
      "02/07/2023 22:47:41:INFO:FL starting\n",
      "DEBUG flwr 2023-02-07 22:47:41,580 | server.py:215 | fit_round 1: strategy sampled 3 clients (out of 10)\n",
      "02/07/2023 22:47:41:DEBUG:fit_round 1: strategy sampled 3 clients (out of 10)\n"
     ]
    },
    {
     "name": "stdout",
     "output_type": "stream",
     "text": [
      "Server-side evaluation loss 0.0305981191657704 / accuracy 0.4260355029585799\n",
      "\u001b[2m\u001b[36m(launch_and_fit pid=8277)\u001b[0m [Client 2] fit, config: {}\n",
      "\u001b[2m\u001b[36m(launch_and_fit pid=8277)\u001b[0m epsilon of client 2 : eps = 0\n",
      "\u001b[2m\u001b[36m(launch_and_fit pid=8276)\u001b[0m [Client 3] fit, config: {}\n",
      "\u001b[2m\u001b[36m(launch_and_fit pid=8276)\u001b[0m epsilon of client 3 : eps = 0\n"
     ]
    },
    {
     "name": "stderr",
     "output_type": "stream",
     "text": [
      "\u001b[2m\u001b[36m(launch_and_fit pid=8277)\u001b[0m /home/hlpc/anaconda3/envs/openmined/lib/python3.8/site-packages/opacus/privacy_engine.py:142: UserWarning: Secure RNG turned off. This is perfectly fine for experimentation as it allows for much faster training performance, but remember to turn it on and retrain one last time before production with ``secure_mode`` turned on.\n",
      "\u001b[2m\u001b[36m(launch_and_fit pid=8277)\u001b[0m   warnings.warn(\n",
      "\u001b[2m\u001b[36m(launch_and_fit pid=8276)\u001b[0m /home/hlpc/anaconda3/envs/openmined/lib/python3.8/site-packages/opacus/privacy_engine.py:142: UserWarning: Secure RNG turned off. This is perfectly fine for experimentation as it allows for much faster training performance, but remember to turn it on and retrain one last time before production with ``secure_mode`` turned on.\n",
      "\u001b[2m\u001b[36m(launch_and_fit pid=8276)\u001b[0m   warnings.warn(\n",
      "DEBUG flwr 2023-02-07 22:47:45,469 | server.py:229 | fit_round 1 received 3 results and 0 failures\n",
      "02/07/2023 22:47:45:DEBUG:fit_round 1 received 3 results and 0 failures\n",
      "WARNING flwr 2023-02-07 22:47:45,475 | fedavg.py:242 | No fit_metrics_aggregation_fn provided\n",
      "02/07/2023 22:47:45:WARNING:No fit_metrics_aggregation_fn provided\n",
      "INFO flwr 2023-02-07 22:47:45,495 | server.py:116 | fit progress: (1, 0.030595933544565235, {'accuracy': 0.4260355029585799}, 3.9146659460000137)\n",
      "02/07/2023 22:47:45:INFO:fit progress: (1, 0.030595933544565235, {'accuracy': 0.4260355029585799}, 3.9146659460000137)\n",
      "DEBUG flwr 2023-02-07 22:47:45,497 | server.py:165 | evaluate_round 1: strategy sampled 3 clients (out of 10)\n",
      "02/07/2023 22:47:45:DEBUG:evaluate_round 1: strategy sampled 3 clients (out of 10)\n",
      "\u001b[2m\u001b[36m(launch_and_fit pid=8278)\u001b[0m /home/hlpc/anaconda3/envs/openmined/lib/python3.8/site-packages/opacus/privacy_engine.py:142: UserWarning: Secure RNG turned off. This is perfectly fine for experimentation as it allows for much faster training performance, but remember to turn it on and retrain one last time before production with ``secure_mode`` turned on.\n",
      "\u001b[2m\u001b[36m(launch_and_fit pid=8278)\u001b[0m   warnings.warn(\n",
      "DEBUG flwr 2023-02-07 22:47:45,586 | server.py:179 | evaluate_round 1 received 3 results and 0 failures\n",
      "02/07/2023 22:47:45:DEBUG:evaluate_round 1 received 3 results and 0 failures\n",
      "WARNING flwr 2023-02-07 22:47:45,588 | fedavg.py:273 | No evaluate_metrics_aggregation_fn provided\n",
      "02/07/2023 22:47:45:WARNING:No evaluate_metrics_aggregation_fn provided\n",
      "DEBUG flwr 2023-02-07 22:47:45,589 | server.py:215 | fit_round 2: strategy sampled 3 clients (out of 10)\n",
      "02/07/2023 22:47:45:DEBUG:fit_round 2: strategy sampled 3 clients (out of 10)\n",
      "DEBUG flwr 2023-02-07 22:47:45,666 | server.py:229 | fit_round 2 received 3 results and 0 failures\n",
      "02/07/2023 22:47:45:DEBUG:fit_round 2 received 3 results and 0 failures\n",
      "INFO flwr 2023-02-07 22:47:45,682 | server.py:116 | fit progress: (2, 0.030593724998496694, {'accuracy': 0.4260355029585799}, 4.102002493999862)\n",
      "02/07/2023 22:47:45:INFO:fit progress: (2, 0.030593724998496694, {'accuracy': 0.4260355029585799}, 4.102002493999862)\n",
      "DEBUG flwr 2023-02-07 22:47:45,691 | server.py:165 | evaluate_round 2: strategy sampled 3 clients (out of 10)\n",
      "02/07/2023 22:47:45:DEBUG:evaluate_round 2: strategy sampled 3 clients (out of 10)\n"
     ]
    },
    {
     "name": "stdout",
     "output_type": "stream",
     "text": [
      "Server-side evaluation loss 0.030595933544565235 / accuracy 0.4260355029585799\n",
      "\u001b[2m\u001b[36m(launch_and_fit pid=8278)\u001b[0m [Client 7] fit, config: {}\n",
      "\u001b[2m\u001b[36m(launch_and_fit pid=8278)\u001b[0m epsilon of client 7 : eps = 0\n",
      "\u001b[2m\u001b[36m(launch_and_evaluate pid=8278)\u001b[0m [Client 2] evaluate, config: {}\n",
      "\u001b[2m\u001b[36m(launch_and_evaluate pid=8276)\u001b[0m [Client 9] evaluate, config: {}\n",
      "\u001b[2m\u001b[36m(launch_and_evaluate pid=8277)\u001b[0m [Client 7] evaluate, config: {}\n",
      "Server-side evaluation loss 0.030593724998496694 / accuracy 0.4260355029585799\n"
     ]
    },
    {
     "name": "stderr",
     "output_type": "stream",
     "text": [
      "DEBUG flwr 2023-02-07 22:47:45,787 | server.py:179 | evaluate_round 2 received 3 results and 0 failures\n",
      "02/07/2023 22:47:45:DEBUG:evaluate_round 2 received 3 results and 0 failures\n",
      "DEBUG flwr 2023-02-07 22:47:45,789 | server.py:215 | fit_round 3: strategy sampled 3 clients (out of 10)\n",
      "02/07/2023 22:47:45:DEBUG:fit_round 3: strategy sampled 3 clients (out of 10)\n",
      "DEBUG flwr 2023-02-07 22:47:45,858 | server.py:229 | fit_round 3 received 3 results and 0 failures\n",
      "02/07/2023 22:47:45:DEBUG:fit_round 3 received 3 results and 0 failures\n",
      "INFO flwr 2023-02-07 22:47:45,875 | server.py:116 | fit progress: (3, 0.030590910530654637, {'accuracy': 0.4260355029585799}, 4.294919359999994)\n",
      "02/07/2023 22:47:45:INFO:fit progress: (3, 0.030590910530654637, {'accuracy': 0.4260355029585799}, 4.294919359999994)\n",
      "DEBUG flwr 2023-02-07 22:47:45,876 | server.py:165 | evaluate_round 3: strategy sampled 3 clients (out of 10)\n",
      "02/07/2023 22:47:45:DEBUG:evaluate_round 3: strategy sampled 3 clients (out of 10)\n"
     ]
    },
    {
     "name": "stdout",
     "output_type": "stream",
     "text": [
      "\u001b[2m\u001b[36m(launch_and_fit pid=8278)\u001b[0m [Client 8] fit, config: {}\n",
      "\u001b[2m\u001b[36m(launch_and_fit pid=8278)\u001b[0m epsilon of client 8 : eps = 0\n",
      "\u001b[2m\u001b[36m(launch_and_fit pid=8276)\u001b[0m [Client 0] fit, config: {}\n",
      "\u001b[2m\u001b[36m(launch_and_fit pid=8276)\u001b[0m epsilon of client 0 : eps = 0\n",
      "\u001b[2m\u001b[36m(launch_and_fit pid=8277)\u001b[0m [Client 2] fit, config: {}\n",
      "\u001b[2m\u001b[36m(launch_and_fit pid=8277)\u001b[0m epsilon of client 2 : eps = 0\n",
      "\u001b[2m\u001b[36m(launch_and_evaluate pid=8278)\u001b[0m [Client 8] evaluate, config: {}\n",
      "\u001b[2m\u001b[36m(launch_and_fit pid=8278)\u001b[0m [Client 7] fit, config: {}\n",
      "\u001b[2m\u001b[36m(launch_and_fit pid=8278)\u001b[0m epsilon of client 7 : eps = 0\n",
      "\u001b[2m\u001b[36m(launch_and_evaluate pid=8276)\u001b[0m [Client 9] evaluate, config: {}\n",
      "\u001b[2m\u001b[36m(launch_and_fit pid=8276)\u001b[0m [Client 8] fit, config: {}\n",
      "\u001b[2m\u001b[36m(launch_and_fit pid=8276)\u001b[0m epsilon of client 8 : eps = 0\n",
      "\u001b[2m\u001b[36m(launch_and_evaluate pid=8277)\u001b[0m [Client 6] evaluate, config: {}\n",
      "\u001b[2m\u001b[36m(launch_and_fit pid=8277)\u001b[0m [Client 3] fit, config: {}\n",
      "\u001b[2m\u001b[36m(launch_and_fit pid=8277)\u001b[0m epsilon of client 3 : eps = 0\n",
      "Server-side evaluation loss 0.030590910530654637 / accuracy 0.4260355029585799\n"
     ]
    },
    {
     "name": "stderr",
     "output_type": "stream",
     "text": [
      "DEBUG flwr 2023-02-07 22:47:45,965 | server.py:179 | evaluate_round 3 received 3 results and 0 failures\n",
      "02/07/2023 22:47:45:DEBUG:evaluate_round 3 received 3 results and 0 failures\n",
      "INFO flwr 2023-02-07 22:47:45,969 | server.py:144 | FL finished in 4.388159007000013\n",
      "02/07/2023 22:47:45:INFO:FL finished in 4.388159007000013\n",
      "INFO flwr 2023-02-07 22:47:45,972 | app.py:202 | app_fit: losses_distributed [(1, 0.029303127962221526), (2, 0.028717830453868918), (3, 0.02926713745504676)]\n",
      "02/07/2023 22:47:45:INFO:app_fit: losses_distributed [(1, 0.029303127962221526), (2, 0.028717830453868918), (3, 0.02926713745504676)]\n",
      "INFO flwr 2023-02-07 22:47:45,974 | app.py:203 | app_fit: metrics_distributed {}\n",
      "02/07/2023 22:47:45:INFO:app_fit: metrics_distributed {}\n",
      "INFO flwr 2023-02-07 22:47:45,976 | app.py:204 | app_fit: losses_centralized [(0, 0.0305981191657704), (1, 0.030595933544565235), (2, 0.030593724998496694), (3, 0.030590910530654637)]\n",
      "02/07/2023 22:47:45:INFO:app_fit: losses_centralized [(0, 0.0305981191657704), (1, 0.030595933544565235), (2, 0.030593724998496694), (3, 0.030590910530654637)]\n",
      "INFO flwr 2023-02-07 22:47:45,979 | app.py:205 | app_fit: metrics_centralized {'accuracy': [(0, 0.4260355029585799), (1, 0.4260355029585799), (2, 0.4260355029585799), (3, 0.4260355029585799)]}\n",
      "02/07/2023 22:47:45:INFO:app_fit: metrics_centralized {'accuracy': [(0, 0.4260355029585799), (1, 0.4260355029585799), (2, 0.4260355029585799), (3, 0.4260355029585799)]}\n"
     ]
    },
    {
     "name": "stdout",
     "output_type": "stream",
     "text": [
      "\u001b[2m\u001b[36m(launch_and_evaluate pid=8278)\u001b[0m [Client 2] evaluate, config: {}\n",
      "\u001b[2m\u001b[36m(launch_and_evaluate pid=8276)\u001b[0m [Client 9] evaluate, config: {}\n",
      "\u001b[2m\u001b[36m(launch_and_evaluate pid=8277)\u001b[0m [Client 5] evaluate, config: {}\n"
     ]
    }
   ],
   "source": [
    "ppl_1.server.run()"
   ]
  },
  {
   "cell_type": "code",
   "execution_count": null,
   "id": "80b855af",
   "metadata": {
    "pycharm": {
     "is_executing": true
    }
   },
   "outputs": [],
   "source": []
  }
 ],
 "metadata": {
  "kernelspec": {
   "display_name": "Python 3 (ipykernel)",
   "language": "python",
   "name": "python3"
  },
  "language_info": {
   "codemirror_mode": {
    "name": "ipython",
    "version": 3
   },
   "file_extension": ".py",
   "mimetype": "text/x-python",
   "name": "python",
   "nbconvert_exporter": "python",
   "pygments_lexer": "ipython3",
   "version": "3.8.16"
  }
 },
 "nbformat": 4,
 "nbformat_minor": 5
}
