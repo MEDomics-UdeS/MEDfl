{
 "cells": [
  {
   "cell_type": "code",
   "execution_count": 1,
   "id": "aac35833",
   "metadata": {},
   "outputs": [],
   "source": [
    "import sys\n",
    "sys.path.append(r'/home/hlpc/Desktop/Github/MEDfl/')\n",
    "import os\n",
    "os.environ['PYTHONPATH'] = '/home/hlpc/Desktop/Github/MEDfl/'"
   ]
  },
  {
   "cell_type": "markdown",
   "id": "a6486910",
   "metadata": {},
   "source": [
    "<h1>Scénario</h1>\n",
    "<ol>\n",
    "    <li>Création d'un FLsetup avec un réseau quelconque</li>\n",
    "    <li>Création du Master Dataset</li>\n",
    "    <li>Création automatique du réseau eICU et ces noueds à partir d'un colonne</li>\n",
    "    <li> Création d'un pipeline FL et le lancer</li>\n",
    "</ol>"
   ]
  },
  {
   "cell_type": "markdown",
   "id": "ab7829d6",
   "metadata": {},
   "source": [
    "<h3>Création d'un FLsetup</h3>"
   ]
  },
  {
   "cell_type": "code",
   "execution_count": 2,
   "id": "39ce0236",
   "metadata": {},
   "outputs": [
    {
     "ename": "ModuleNotFoundError",
     "evalue": "No module named 'Medfl.NetManager.FLsetup'",
     "output_type": "error",
     "traceback": [
      "\u001b[0;31m---------------------------------------------------------------------------\u001b[0m",
      "\u001b[0;31mModuleNotFoundError\u001b[0m                       Traceback (most recent call last)",
      "Input \u001b[0;32mIn [2]\u001b[0m, in \u001b[0;36m<cell line: 2>\u001b[0;34m()\u001b[0m\n\u001b[1;32m      1\u001b[0m \u001b[38;5;28;01mfrom\u001b[39;00m \u001b[38;5;21;01mMedfl\u001b[39;00m\u001b[38;5;21;01m.\u001b[39;00m\u001b[38;5;21;01mNetManager\u001b[39;00m\u001b[38;5;21;01m.\u001b[39;00m\u001b[38;5;21;01mnetwork\u001b[39;00m \u001b[38;5;28;01mimport\u001b[39;00m Network\n\u001b[0;32m----> 2\u001b[0m \u001b[38;5;28;01mfrom\u001b[39;00m \u001b[38;5;21;01mMedfl\u001b[39;00m\u001b[38;5;21;01m.\u001b[39;00m\u001b[38;5;21;01mNetManager\u001b[39;00m\u001b[38;5;21;01m.\u001b[39;00m\u001b[38;5;21;01mFLsetup\u001b[39;00m \u001b[38;5;28;01mimport\u001b[39;00m FLsetup\n\u001b[1;32m      5\u001b[0m test_network \u001b[38;5;241m=\u001b[39m Network(name\u001b[38;5;241m=\u001b[39m\u001b[38;5;124m\"\u001b[39m\u001b[38;5;124mtest_net\u001b[39m\u001b[38;5;124m\"\u001b[39m)\n\u001b[1;32m      6\u001b[0m fl_setup \u001b[38;5;241m=\u001b[39m FLsetup(name \u001b[38;5;241m=\u001b[39m \u001b[38;5;124m\"\u001b[39m\u001b[38;5;124mFlsetup1\u001b[39m\u001b[38;5;124m\"\u001b[39m,description \u001b[38;5;241m=\u001b[39m \u001b[38;5;124m\"\u001b[39m\u001b[38;5;124mThe first fl setup\u001b[39m\u001b[38;5;124m\"\u001b[39m,network \u001b[38;5;241m=\u001b[39m test_network)\n",
      "\u001b[0;31mModuleNotFoundError\u001b[0m: No module named 'Medfl.NetManager.FLsetup'"
     ]
    }
   ],
   "source": [
    "from Medfl.NetManager.network import Network\n",
    "from Medfl.NetManager.flsetup import FLsetup\n",
    "\n",
    "\n",
    "test_network = Network(name=\"test_net\")\n",
    "fl_setup = FLsetup(name = \"Flsetup1\",description = \"The first fl setup\",network = test_network)\n"
   ]
  },
  {
   "cell_type": "markdown",
   "id": "b77be336",
   "metadata": {},
   "source": [
    "<h3>Création du Master Dataset</h3>"
   ]
  },
  {
   "cell_type": "code",
   "execution_count": null,
   "id": "e523e0d6",
   "metadata": {},
   "outputs": [],
   "source": [
    "path = '~/Desktop/Github/MEDfl/Medfl/Notebooks/sapsii_score_knnimputed_eicu.csv'\n",
    "\n",
    "fl_setup.create_master_dataset(path_to_csv = path)"
   ]
  },
  {
   "cell_type": "code",
   "execution_count": null,
   "id": "78d78a5b",
   "metadata": {},
   "outputs": [],
   "source": [
    "#check network name\n",
    "print(fl_setup.network.name)"
   ]
  },
  {
   "cell_type": "markdown",
   "id": "a4fd3421",
   "metadata": {},
   "source": [
    "<h3>Création automatique du réseau eICU et ces noueds à partir d'une colonne</h3>"
   ]
  },
  {
   "cell_type": "code",
   "execution_count": null,
   "id": "cd759fde",
   "metadata": {},
   "outputs": [],
   "source": [
    "params_dict = {'column_name' : 'site_region','train_nodes' : [\"Midwest\",\"South\"] , 'test_nodes' : ['West','Northeast'] }\n",
    "\n",
    "eicu_nodes = fl_setup.create_nodes_from_master_dataset(params_dict = params_dict )\n",
    "\n",
    "[node.name  for node in eicu_nodes]    "
   ]
  },
  {
   "cell_type": "code",
   "execution_count": null,
   "id": "f37edb19",
   "metadata": {},
   "outputs": [],
   "source": [
    "#check network name\n",
    "print(fl_setup.network.name)"
   ]
  },
  {
   "cell_type": "markdown",
   "id": "b1aca3ff",
   "metadata": {},
   "source": [
    "<h3> Création d'un pipeline FL</h3>"
   ]
  },
  {
   "cell_type": "code",
   "execution_count": null,
   "id": "883f33f1",
   "metadata": {},
   "outputs": [],
   "source": [
    "\n",
    "fl_dataset = fl_setup.create_federated_dataset()\n",
    "\n"
   ]
  },
  {
   "cell_type": "code",
   "execution_count": null,
   "id": "199086ec",
   "metadata": {},
   "outputs": [],
   "source": [
    "from Medfl.Federated.model import *\n",
    "global_model = LogisticRegression(input_dim = fl_dataset.size, hidden_dim = 2*fl_dataset.size, output_dim = 1)\n",
    "global_model"
   ]
  },
  {
   "cell_type": "code",
   "execution_count": null,
   "id": "e6b15aa9",
   "metadata": {},
   "outputs": [],
   "source": [
    "#Create a server\n",
    "from Medfl.Federated.server import *\n",
    "\n",
    "server = FlowerServer(global_model,strategy = \"FedAvg\", num_rounds = 3, num_clients  = len(fl_dataset.trainloaders),dataset = fl_dataset,diff_privacy= False)"
   ]
  },
  {
   "cell_type": "code",
   "execution_count": null,
   "id": "cd6deff5",
   "metadata": {},
   "outputs": [],
   "source": [
    "#Create a pipeline\n",
    "from Medfl.Federated.pipeline import *\n",
    "ppl_1 = pipeline(pp_id = 1 , pp_name =\"test_pipeline\",server = server)\n",
    "ppl_1.server.run()"
   ]
  },
  {
   "cell_type": "code",
   "execution_count": null,
   "id": "d113c662",
   "metadata": {},
   "outputs": [],
   "source": []
  }
 ],
 "metadata": {
  "kernelspec": {
   "display_name": "Python 3 (ipykernel)",
   "language": "python",
   "name": "python3"
  },
  "language_info": {
   "codemirror_mode": {
    "name": "ipython",
    "version": 3
   },
   "file_extension": ".py",
   "mimetype": "text/x-python",
   "name": "python",
   "nbconvert_exporter": "python",
   "pygments_lexer": "ipython3",
   "version": "3.8.16"
  }
 },
 "nbformat": 4,
 "nbformat_minor": 5
}
