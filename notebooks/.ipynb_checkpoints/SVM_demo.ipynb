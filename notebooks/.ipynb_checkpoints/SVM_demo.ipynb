{
 "cells": [
  {
   "cell_type": "code",
   "execution_count": 1,
   "metadata": {},
   "outputs": [],
   "source": [
    "import sys\n",
    "sys.path.append('../..')\n",
    "\n",
    "import os\n",
    "os.environ['PYTHONPATH'] = '../..'\n"
   ]
  },
  {
   "cell_type": "code",
   "execution_count": 2,
   "metadata": {},
   "outputs": [],
   "source": [
    "# import mysql.connector\n",
    "# import pandas as pd\n",
    "# from sqlalchemy import create_engine,text\n",
    "\n",
    "## MedFL Imports \n",
    "from Medfl.NetManager.node import Node\n",
    "from Medfl.NetManager.network import Network\n",
    "from Medfl.NetManager.dataset import DataSet\n",
    "from Medfl.NetManager.flsetup import FLsetup\n",
    "\n",
    "# Utils\n",
    "from Medfl.LearningManager.utils import *\n"
   ]
  },
  {
   "cell_type": "code",
   "execution_count": 3,
   "metadata": {},
   "outputs": [],
   "source": [
    "# DB Creation \n",
    "# !python ../../scripts/create_db.py\n",
    "\n",
    "# clearn DB \n",
    "empty_db()\n"
   ]
  },
  {
   "cell_type": "code",
   "execution_count": 4,
   "metadata": {},
   "outputs": [
    {
     "data": {
      "text/plain": [
       "'man_network'"
      ]
     },
     "execution_count": 4,
     "metadata": {},
     "output_type": "execute_result"
    }
   ],
   "source": [
    "# Initiate the network object\n",
    "network_man = Network(name=\"man_network\")\n",
    "# Create the network and store it \n",
    "network_man.create_network()\n",
    "\n",
    "network_man.name"
   ]
  },
  {
   "cell_type": "code",
   "execution_count": 5,
   "metadata": {},
   "outputs": [
    {
     "name": "stdout",
     "output_type": "stream",
     "text": [
      "D:\\ESI\\3CS\\PFE\\last_year\\Code\\MEDfl\\notebooks\\data\\SVM\\iris_dataset.csv\n"
     ]
    }
   ],
   "source": [
    "from importlib import reload\n",
    "\n",
    "\n",
    "network_man.create_master_dataset()"
   ]
  },
  {
   "cell_type": "code",
   "execution_count": 6,
   "metadata": {},
   "outputs": [],
   "source": [
    "hospital_1,hospital_2,hospital_3 = Node(name = \"hospital_1\", train = 1),Node(name = \"hospital_2\", train = 1),Node(name = \"hospital_3\", train = 0) "
   ]
  },
  {
   "cell_type": "code",
   "execution_count": 7,
   "metadata": {},
   "outputs": [
    {
     "name": "stdout",
     "output_type": "stream",
     "text": [
      "1\n",
      "1\n",
      "0\n"
     ]
    }
   ],
   "source": [
    "# Assign the 3 nodes to the man_network \n",
    "network_man.add_node(hospital_1)\n",
    "network_man.add_node(hospital_2)\n",
    "network_man.add_node(hospital_3) "
   ]
  },
  {
   "cell_type": "code",
   "execution_count": 8,
   "metadata": {},
   "outputs": [],
   "source": [
    "# Define the path of the files \n",
    "Ds_1 = 'D:\\\\ESI\\\\3CS\\\\PFE\\\\last_year\\\\Code\\\\MEDfl\\\\notebooks\\\\data\\SVM\\\\test1.csv'\n",
    "Ds_2 = 'D:\\\\ESI\\\\3CS\\\\PFE\\\\last_year\\\\Code\\\\MEDfl\\\\notebooks\\\\data\\SVM\\\\test2.csv'\n",
    "Ds_3 = 'D:\\\\ESI\\\\3CS\\\\PFE\\\\last_year\\\\Code\\\\MEDfl\\\\notebooks\\\\data\\SVM\\\\test3.csv'\n",
    "\n",
    "# pload the DataSets \n",
    "hospital_1.upload_dataset( dataset_name = \"hospital_1_dataset\" , path_to_csv=Ds_1  )\n",
    "hospital_2.upload_dataset( dataset_name = \"hospital_2_dataset\" , path_to_csv=Ds_2)\n",
    "hospital_3.upload_dataset( dataset_name = \"hospital_3_dataset\" , path_to_csv=Ds_3 )"
   ]
  },
  {
   "cell_type": "code",
   "execution_count": 9,
   "metadata": {},
   "outputs": [],
   "source": [
    "# Create FLsetup for man_network \n",
    "fl_setup = FLsetup(name = \"Manual_Flsetup\", description = \"The first manual fl setup\",network = network_man)\n",
    "fl_setup.create()"
   ]
  },
  {
   "cell_type": "code",
   "execution_count": 10,
   "metadata": {},
   "outputs": [],
   "source": [
    "# Create FLDataSet\n",
    "fl_dataset = fl_setup.create_federated_dataset(\n",
    "    output=\"target\", \n",
    " \n",
    "    to_drop=[\"target\" , \"DataSetName\" , \"NodeId\"], \n",
    " )"
   ]
  },
  {
   "cell_type": "code",
   "execution_count": 11,
   "metadata": {},
   "outputs": [],
   "source": [
    "# Torch imports\n",
    "import torch\n",
    "import torch.nn as nn\n",
    "import torch.optim as optim\n",
    "\n",
    "# flower imports \n",
    "import flwr as fl\n",
    "\n",
    "# Medfl imports \n",
    "from Medfl.LearningManager.dynamicModal import DynamicModel\n",
    "from Medfl.LearningManager.model import Model\n",
    "from Medfl.LearningManager.strategy import Strategy\n",
    "from Medfl.LearningManager.server import *\n",
    "\n",
    "from Medfl.NetManager.flsetup import FLsetup\n",
    "from Medfl.LearningManager.flpipeline import *\n",
    "\n",
    "from Medfl.LearningManager.plot import AccuracyLossPlotter\n",
    "\n",
    "\n"
   ]
  },
  {
   "cell_type": "code",
   "execution_count": 16,
   "metadata": {},
   "outputs": [
    {
     "name": "stdout",
     "output_type": "stream",
     "text": [
      "linear\n"
     ]
    },
    {
     "ename": "AttributeError",
     "evalue": "'SVC' object has no attribute 'dual_coef_'",
     "output_type": "error",
     "traceback": [
      "\u001b[1;31m---------------------------------------------------------------------------\u001b[0m",
      "\u001b[1;31mAttributeError\u001b[0m                            Traceback (most recent call last)",
      "Cell \u001b[1;32mIn[16], line 26\u001b[0m\n\u001b[0;32m     14\u001b[0m \u001b[39m# # Pass the specific_model to the Model class\u001b[39;00m\n\u001b[0;32m     15\u001b[0m \u001b[39m# optimizer = optim.SGD(specific_model.parameters(), lr=0.0001)\u001b[39;00m\n\u001b[0;32m     16\u001b[0m \u001b[39m# criterion = nn.BCELoss()\u001b[39;00m\n\u001b[1;32m   (...)\u001b[0m\n\u001b[0;32m     22\u001b[0m \u001b[39m# # The modal to be passed to the server\u001b[39;00m\n\u001b[0;32m     23\u001b[0m \u001b[39m# global_model.get_parameters()\u001b[39;00m\n\u001b[0;32m     25\u001b[0m specific_model\u001b[39m.\u001b[39mget_params()\n\u001b[1;32m---> 26\u001b[0m [specific_model\u001b[39m.\u001b[39;49mcoef_\u001b[39m.\u001b[39mravel(), specific_model\u001b[39m.\u001b[39mintercept_]\n",
      "File \u001b[1;32m~\\AppData\\Roaming\\Python\\Python39\\site-packages\\sklearn\\svm\\_base.py:658\u001b[0m, in \u001b[0;36mBaseLibSVM.coef_\u001b[1;34m(self)\u001b[0m\n\u001b[0;32m    655\u001b[0m \u001b[39mif\u001b[39;00m \u001b[39mself\u001b[39m\u001b[39m.\u001b[39mkernel \u001b[39m!=\u001b[39m \u001b[39m\"\u001b[39m\u001b[39mlinear\u001b[39m\u001b[39m\"\u001b[39m:\n\u001b[0;32m    656\u001b[0m     \u001b[39mraise\u001b[39;00m \u001b[39mAttributeError\u001b[39;00m(\u001b[39m\"\u001b[39m\u001b[39mcoef_ is only available when using a linear kernel\u001b[39m\u001b[39m\"\u001b[39m)\n\u001b[1;32m--> 658\u001b[0m coef \u001b[39m=\u001b[39m \u001b[39mself\u001b[39;49m\u001b[39m.\u001b[39;49m_get_coef()\n\u001b[0;32m    660\u001b[0m \u001b[39m# coef_ being a read-only property, it's better to mark the value as\u001b[39;00m\n\u001b[0;32m    661\u001b[0m \u001b[39m# immutable to avoid hiding potential bugs for the unsuspecting user.\u001b[39;00m\n\u001b[0;32m    662\u001b[0m \u001b[39mif\u001b[39;00m sp\u001b[39m.\u001b[39missparse(coef):\n\u001b[0;32m    663\u001b[0m     \u001b[39m# sparse matrix do not have global flags\u001b[39;00m\n",
      "File \u001b[1;32m~\\AppData\\Roaming\\Python\\Python39\\site-packages\\sklearn\\svm\\_base.py:956\u001b[0m, in \u001b[0;36mBaseSVC._get_coef\u001b[1;34m(self)\u001b[0m\n\u001b[0;32m    955\u001b[0m \u001b[39mdef\u001b[39;00m \u001b[39m_get_coef\u001b[39m(\u001b[39mself\u001b[39m):\n\u001b[1;32m--> 956\u001b[0m     \u001b[39mif\u001b[39;00m \u001b[39mself\u001b[39;49m\u001b[39m.\u001b[39;49mdual_coef_\u001b[39m.\u001b[39mshape[\u001b[39m0\u001b[39m] \u001b[39m==\u001b[39m \u001b[39m1\u001b[39m:\n\u001b[0;32m    957\u001b[0m         \u001b[39m# binary classifier\u001b[39;00m\n\u001b[0;32m    958\u001b[0m         coef \u001b[39m=\u001b[39m safe_sparse_dot(\u001b[39mself\u001b[39m\u001b[39m.\u001b[39mdual_coef_, \u001b[39mself\u001b[39m\u001b[39m.\u001b[39msupport_vectors_)\n\u001b[0;32m    959\u001b[0m     \u001b[39melse\u001b[39;00m:\n\u001b[0;32m    960\u001b[0m         \u001b[39m# 1vs1 classifier\u001b[39;00m\n",
      "\u001b[1;31mAttributeError\u001b[0m: 'SVC' object has no attribute 'dual_coef_'"
     ]
    }
   ],
   "source": [
    "from importlib import reload\n",
    "from Medfl.LearningManager import dynamicModal\n",
    "\n",
    "reload(dynamicModal)\n",
    "from Medfl.LearningManager.dynamicModal import DynamicModel\n",
    "\n",
    "\n",
    "# Creating a DynamicModel instance\n",
    "dynamic_model = DynamicModel()\n",
    "\n",
    "# Creating a specific model dynamically using DynamicModel\n",
    "specific_model = dynamic_model.create_model(model_type='SVM' , params_dict={\"kernel\" : \"linear\" , \"C\" : 1.0 } )\n",
    "\n",
    "# Pass the specific_model to the Model class\n",
    "optimizer = optim.SGD(specific_model.parameters(), lr=0.0001)\n",
    "criterion = nn.BCELoss()\n",
    "\n",
    "\n",
    "# Creating a new Model instance using the specific model created by DynamicModel\n",
    "global_model = Model(specific_model, optimizer, criterion)\n",
    "\n",
    "# The modal to be passed to the server\n",
    "global_model.get_parameters()\n",
    "\n",
    "specific_model.get_params()"
   ]
  }
 ],
 "metadata": {
  "kernelspec": {
   "display_name": "Python 3",
   "language": "python",
   "name": "python3"
  },
  "language_info": {
   "codemirror_mode": {
    "name": "ipython",
    "version": 3
   },
   "file_extension": ".py",
   "mimetype": "text/x-python",
   "name": "python",
   "nbconvert_exporter": "python",
   "pygments_lexer": "ipython3",
   "version": "3.9.4"
  },
  "orig_nbformat": 4
 },
 "nbformat": 4,
 "nbformat_minor": 2
}
