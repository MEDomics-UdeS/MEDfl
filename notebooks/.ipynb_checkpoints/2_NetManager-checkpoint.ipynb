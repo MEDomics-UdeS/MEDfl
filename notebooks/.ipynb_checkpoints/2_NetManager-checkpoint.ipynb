{
 "cells": [
  {
   "cell_type": "markdown",
   "id": "8813ef9e",
   "metadata": {},
   "source": [
    "# **NetManager**: Create a Federated Learning Network using MedFL\n",
    "\n",
    "\n",
    "@Author : [MEDomics consortium](https://github.com/medomics/)\n",
    "\n",
    "@Email : medomics.info@gmail.com\n",
    "\n",
    "\n",
    "### Introduction\n",
    "\n",
    "The `NetManager` module within `MedFL` is responsible for the generation of federated learning networks. It relies on a CSV file containing a DataSet as input. Leveraging this Dataset file, the module creates various nodes within the network, assigns a dataset to each node, and generates the federated dataset for each node. Subsequently, these federated datasets are transferred to the subsequent package, `Learning Manager`.\n",
    "\n",
    "<img src='../Images/MEDfl_Diagramm.png' />\n",
    "\n",
    "The NetManager workflow involves five primary steps:\n",
    "\n",
    "1. **Network creation**\n",
    "2. **DataSets storage**\n",
    "3. **Nodes Creation**\n",
    "4. **FLsetup Creation**\n",
    "5. **Federated DataSet Creation**\n",
    "   \n",
    "<img src='../Images/NetManager_Diagramm.png' width=\"70%\" style=\"display : block ; margin :0 auto \" />"
   ]
  },
  {
   "cell_type": "code",
   "execution_count": 1,
   "id": "82810c07",
   "metadata": {},
   "outputs": [],
   "source": [
    "import sys\n",
    "sys.path.append('../..')\n",
    "\n",
    "import os\n",
    "os.environ['PYTHONPATH'] = '../..'"
   ]
  },
  {
   "cell_type": "markdown",
   "id": "64845a67",
   "metadata": {},
   "source": [
    "imports"
   ]
  },
  {
   "cell_type": "code",
   "execution_count": 2,
   "id": "66cb2a26",
   "metadata": {},
   "outputs": [],
   "source": [
    "import mysql.connector\n",
    "import pandas as pd\n",
    "from sqlalchemy import create_engine,text\n",
    "\n",
    "## MedFL Imports \n",
    "from Medfl.NetManager.node import Node\n",
    "from Medfl.NetManager.network import Network\n",
    "from Medfl.NetManager.dataset import DataSet\n",
    "from Medfl.NetManager.flsetup import FLsetup\n",
    "\n",
    "# Utils\n",
    "from Medfl.LearningManager.utils import *\n"
   ]
  },
  {
   "cell_type": "markdown",
   "id": "e9b1207b",
   "metadata": {},
   "source": [
    "### 0. DB Preparation"
   ]
  },
  {
   "cell_type": "markdown",
   "id": "5e43e09c",
   "metadata": {},
   "source": [
    "DB Creation: \n",
    "Check the `1_DB-checkpoint` tutorial to learn more about this step"
   ]
  },
  {
   "cell_type": "code",
   "execution_count": 3,
   "id": "b4ee7f5b",
   "metadata": {},
   "outputs": [],
   "source": [
    "# DB Creation \n",
    "# !python ../../scripts/create_db.py\n",
    "\n",
    "# clearn DB \n",
    "empty_db()"
   ]
  },
  {
   "cell_type": "markdown",
   "id": "fac06356",
   "metadata": {},
   "source": [
    "### 1. Network Creation\n",
    "\n",
    "\n",
    "\n",
    "\n",
    "<div style=\"display : flex\">\n",
    "<div style=\"width : 65%\">\n",
    "\n",
    "**Automatically** | **Manually**\n",
    "------------------|---------------------------\n",
    " This method used when we don't have an idea about hospitals name, their datasets. so, the creation will based on some  variables on the datasets, for example in our Proof-Of-Concept with the *eICU* dataset, there are two variables that can be used, `site_hosiptal`, and `site_region`.  <br> Note that, hospitals can participate for <b>training</b> or for <b>testing</b> only. (this may be changed to support both modes) . <br> the set of hospitals or (Nodes) perform a network, and on MEDfl terminology, a network and its additional informations, refered as a <b>FLsetup (Federated Learning Setup)</b> <br>After the creation of an <b>FLsetup</b> it will be stored on the DB, by a unique ID, a name, a description, and a creation date.| Martin can also create a FLsetup manually, create a network, and add each node separately, then uploade a dataset on each node.\n",
    "\n",
    "\n",
    "   \n",
    "</div>\n",
    "\n",
    "<img width=\"270px\"  height=\"250px\" style=\"display:block ; margin : 0 auto\" src='../Images/NetworkCreation.png' />\n",
    "</div>"
   ]
  },
  {
   "cell_type": "markdown",
   "id": "fc5b76d1",
   "metadata": {},
   "source": [
    "##### 1.1 Auto Network Creation"
   ]
  },
  {
   "cell_type": "code",
   "execution_count": 4,
   "id": "f7693d10",
   "metadata": {},
   "outputs": [
    {
     "data": {
      "text/plain": [
       "'Auto_Net'"
      ]
     },
     "execution_count": 4,
     "metadata": {},
     "output_type": "execute_result"
    }
   ],
   "source": [
    "# Create a nest work \"Net_1\"\n",
    "Net_1 = Network(name=\"Auto_Net\")\n",
    "Net_1.create_network()\n",
    "\n",
    "Net_1.name"
   ]
  },
  {
   "cell_type": "markdown",
   "id": "2b0f44e5",
   "metadata": {},
   "source": [
    "### 2. Data Storage\n",
    "<h4>MasterDataSet Creation</h4>\n",
    "\n",
    "Using the Methode `create_master_dataset` we will create a new table **MasterDataset**, and upload the data of `path_to_csv` to it, ( path_to_csv is optional and by default is the file specified on `Medfl.LearningManager.params.yaml` : `path_to_master_csv`  )\n",
    "The MasterDataSet serves dual purposes within the network:\n",
    "\n",
    "Creation methode | **Auto-Creation of Nodes:** | **Manual Creation of Nodes:**\n",
    "-----------------|-----------------------------|------------------------------|\n",
    "Puprpose         |- When automatically creating nodes, the MasterDataSet plays a pivotal role in dividing the data across various train and test nodes.|- In scenarios involving manual creation of nodes, the MasterDataSet acts as a reference point to verify compatibility between different dataSets and the MasterDataSet.\n",
    "  \n",
    "To Create MasterDataSet 3 main steps are executed: \n",
    "1. **Create a MasterDataSet Table on the DB** \n",
    "2. **Read The CSV DATA file**\n",
    "3. **Copy the Data from the CSV file to the DB**"
   ]
  },
  {
   "cell_type": "markdown",
   "id": "0fc7d61b",
   "metadata": {},
   "source": [
    "We Will use the CSV file `sapsii_score_knnimputed_eicu.csv` as a MasterDataSet"
   ]
  },
  {
   "cell_type": "code",
   "execution_count": 5,
   "id": "f9acdb65",
   "metadata": {},
   "outputs": [
    {
     "data": {
      "text/html": [
       "<div>\n",
       "<style scoped>\n",
       "    .dataframe tbody tr th:only-of-type {\n",
       "        vertical-align: middle;\n",
       "    }\n",
       "\n",
       "    .dataframe tbody tr th {\n",
       "        vertical-align: top;\n",
       "    }\n",
       "\n",
       "    .dataframe thead th {\n",
       "        text-align: right;\n",
       "    }\n",
       "</style>\n",
       "<table border=\"1\" class=\"dataframe\">\n",
       "  <thead>\n",
       "    <tr style=\"text-align: right;\">\n",
       "      <th></th>\n",
       "      <th>patientunitstayid</th>\n",
       "      <th>hadm_id</th>\n",
       "      <th>subject_id</th>\n",
       "      <th>hospitalid</th>\n",
       "      <th>deceased</th>\n",
       "      <th>age</th>\n",
       "      <th>stay_length</th>\n",
       "      <th>organdonor</th>\n",
       "      <th>bicarbonate_min</th>\n",
       "      <th>bicarbonate_max</th>\n",
       "      <th>...</th>\n",
       "      <th>uo</th>\n",
       "      <th>aids</th>\n",
       "      <th>hem</th>\n",
       "      <th>mets</th>\n",
       "      <th>admissiontype</th>\n",
       "      <th>sepsis3</th>\n",
       "      <th>unitvisitnumber</th>\n",
       "      <th>unitvisitnumberrevised</th>\n",
       "      <th>num_admiss</th>\n",
       "      <th>num_hosp</th>\n",
       "    </tr>\n",
       "  </thead>\n",
       "  <tbody>\n",
       "    <tr>\n",
       "      <th>0</th>\n",
       "      <td>141650</td>\n",
       "      <td>129307</td>\n",
       "      <td>002-17293</td>\n",
       "      <td>73</td>\n",
       "      <td>0</td>\n",
       "      <td>71</td>\n",
       "      <td>5787</td>\n",
       "      <td>0</td>\n",
       "      <td>23.0</td>\n",
       "      <td>28.0</td>\n",
       "      <td>...</td>\n",
       "      <td>NaN</td>\n",
       "      <td>NaN</td>\n",
       "      <td>NaN</td>\n",
       "      <td>NaN</td>\n",
       "      <td>6.0</td>\n",
       "      <td>0</td>\n",
       "      <td>1</td>\n",
       "      <td>1</td>\n",
       "      <td>1</td>\n",
       "      <td>1</td>\n",
       "    </tr>\n",
       "    <tr>\n",
       "      <th>1</th>\n",
       "      <td>141777</td>\n",
       "      <td>129401</td>\n",
       "      <td>002-44088</td>\n",
       "      <td>73</td>\n",
       "      <td>0</td>\n",
       "      <td>60</td>\n",
       "      <td>1559</td>\n",
       "      <td>0</td>\n",
       "      <td>27.0</td>\n",
       "      <td>28.0</td>\n",
       "      <td>...</td>\n",
       "      <td>NaN</td>\n",
       "      <td>0.0</td>\n",
       "      <td>0.0</td>\n",
       "      <td>0.0</td>\n",
       "      <td>6.0</td>\n",
       "      <td>0</td>\n",
       "      <td>1</td>\n",
       "      <td>1</td>\n",
       "      <td>1</td>\n",
       "      <td>1</td>\n",
       "    </tr>\n",
       "    <tr>\n",
       "      <th>2</th>\n",
       "      <td>141907</td>\n",
       "      <td>129494</td>\n",
       "      <td>002-60303</td>\n",
       "      <td>63</td>\n",
       "      <td>0</td>\n",
       "      <td>68</td>\n",
       "      <td>1135</td>\n",
       "      <td>0</td>\n",
       "      <td>23.0</td>\n",
       "      <td>23.0</td>\n",
       "      <td>...</td>\n",
       "      <td>2380.0</td>\n",
       "      <td>NaN</td>\n",
       "      <td>NaN</td>\n",
       "      <td>NaN</td>\n",
       "      <td>6.0</td>\n",
       "      <td>0</td>\n",
       "      <td>1</td>\n",
       "      <td>1</td>\n",
       "      <td>1</td>\n",
       "      <td>1</td>\n",
       "    </tr>\n",
       "    <tr>\n",
       "      <th>3</th>\n",
       "      <td>141939</td>\n",
       "      <td>129522</td>\n",
       "      <td>002-66368</td>\n",
       "      <td>69</td>\n",
       "      <td>0</td>\n",
       "      <td>56</td>\n",
       "      <td>448</td>\n",
       "      <td>0</td>\n",
       "      <td>NaN</td>\n",
       "      <td>NaN</td>\n",
       "      <td>...</td>\n",
       "      <td>50.0</td>\n",
       "      <td>0.0</td>\n",
       "      <td>0.0</td>\n",
       "      <td>0.0</td>\n",
       "      <td>6.0</td>\n",
       "      <td>0</td>\n",
       "      <td>1</td>\n",
       "      <td>1</td>\n",
       "      <td>1</td>\n",
       "      <td>1</td>\n",
       "    </tr>\n",
       "    <tr>\n",
       "      <th>4</th>\n",
       "      <td>141978</td>\n",
       "      <td>129552</td>\n",
       "      <td>002-25450</td>\n",
       "      <td>67</td>\n",
       "      <td>0</td>\n",
       "      <td>77</td>\n",
       "      <td>1104</td>\n",
       "      <td>0</td>\n",
       "      <td>23.0</td>\n",
       "      <td>30.0</td>\n",
       "      <td>...</td>\n",
       "      <td>NaN</td>\n",
       "      <td>0.0</td>\n",
       "      <td>0.0</td>\n",
       "      <td>0.0</td>\n",
       "      <td>0.0</td>\n",
       "      <td>0</td>\n",
       "      <td>1</td>\n",
       "      <td>1</td>\n",
       "      <td>2</td>\n",
       "      <td>2</td>\n",
       "    </tr>\n",
       "  </tbody>\n",
       "</table>\n",
       "<p>5 rows × 40 columns</p>\n",
       "</div>"
      ],
      "text/plain": [
       "   patientunitstayid  hadm_id subject_id  hospitalid  deceased  age  \\\n",
       "0             141650   129307  002-17293          73         0   71   \n",
       "1             141777   129401  002-44088          73         0   60   \n",
       "2             141907   129494  002-60303          63         0   68   \n",
       "3             141939   129522  002-66368          69         0   56   \n",
       "4             141978   129552  002-25450          67         0   77   \n",
       "\n",
       "   stay_length  organdonor  bicarbonate_min  bicarbonate_max  ...      uo  \\\n",
       "0         5787           0             23.0             28.0  ...     NaN   \n",
       "1         1559           0             27.0             28.0  ...     NaN   \n",
       "2         1135           0             23.0             23.0  ...  2380.0   \n",
       "3          448           0              NaN              NaN  ...    50.0   \n",
       "4         1104           0             23.0             30.0  ...     NaN   \n",
       "\n",
       "   aids  hem  mets  admissiontype  sepsis3  unitvisitnumber  \\\n",
       "0   NaN  NaN   NaN            6.0        0                1   \n",
       "1   0.0  0.0   0.0            6.0        0                1   \n",
       "2   NaN  NaN   NaN            6.0        0                1   \n",
       "3   0.0  0.0   0.0            6.0        0                1   \n",
       "4   0.0  0.0   0.0            0.0        0                1   \n",
       "\n",
       "   unitvisitnumberrevised  num_admiss  num_hosp  \n",
       "0                       1           1         1  \n",
       "1                       1           1         1  \n",
       "2                       1           1         1  \n",
       "3                       1           1         1  \n",
       "4                       1           2         2  \n",
       "\n",
       "[5 rows x 40 columns]"
      ]
     },
     "execution_count": 5,
     "metadata": {},
     "output_type": "execute_result"
    }
   ],
   "source": [
    "# Read the CSV file\n",
    "data = pd.read_csv('D:\\ESI\\\\3CS\\PFE\\last_year\\Code\\MEDfl\\\\notebooks\\data\\eicu_sapsii_data.csv')\n",
    "\n",
    "data.head()"
   ]
  },
  {
   "cell_type": "code",
   "execution_count": 4,
   "id": "c04e6447",
   "metadata": {},
   "outputs": [
    {
     "ename": "NameError",
     "evalue": "name 'Net_1' is not defined",
     "output_type": "error",
     "traceback": [
      "\u001b[1;31m---------------------------------------------------------------------------\u001b[0m",
      "\u001b[1;31mNameError\u001b[0m                                 Traceback (most recent call last)",
      "Cell \u001b[1;32mIn[4], line 2\u001b[0m\n\u001b[0;32m      1\u001b[0m \u001b[39m# Create a MasterDataSet from Net_1\u001b[39;00m\n\u001b[1;32m----> 2\u001b[0m Net_1\u001b[39m.\u001b[39mcreate_master_dataset()\n\u001b[0;32m      4\u001b[0m \u001b[39m# Check if the Network has a masterDataSet Table ( 1: Table exists ; 0: Table doesn't exist)\u001b[39;00m\n\u001b[0;32m      5\u001b[0m Net_1\u001b[39m.\u001b[39mmtable_exists\n",
      "\u001b[1;31mNameError\u001b[0m: name 'Net_1' is not defined"
     ]
    }
   ],
   "source": [
    "# Create a MasterDataSet from Net_1\n",
    "Net_1.create_master_dataset()\n",
    "\n",
    "# Check if the Network has a masterDataSet Table ( 1: Table exists ; 0: Table doesn't exist)\n",
    "Net_1.mtable_exists"
   ]
  },
  {
   "cell_type": "markdown",
   "id": "9a3b92f2",
   "metadata": {},
   "source": [
    "### 3. Federeated Learning setup Creation (FlSetup creation)"
   ]
  },
  {
   "cell_type": "code",
   "execution_count": 7,
   "id": "b6324351",
   "metadata": {},
   "outputs": [
    {
     "data": {
      "text/html": [
       "<div>\n",
       "<style scoped>\n",
       "    .dataframe tbody tr th:only-of-type {\n",
       "        vertical-align: middle;\n",
       "    }\n",
       "\n",
       "    .dataframe tbody tr th {\n",
       "        vertical-align: top;\n",
       "    }\n",
       "\n",
       "    .dataframe thead th {\n",
       "        text-align: right;\n",
       "    }\n",
       "</style>\n",
       "<table border=\"1\" class=\"dataframe\">\n",
       "  <thead>\n",
       "    <tr style=\"text-align: right;\">\n",
       "      <th></th>\n",
       "      <th>FLsetupId</th>\n",
       "      <th>name</th>\n",
       "      <th>description</th>\n",
       "      <th>creation_date</th>\n",
       "      <th>NetId</th>\n",
       "      <th>column_name</th>\n",
       "    </tr>\n",
       "  </thead>\n",
       "  <tbody>\n",
       "    <tr>\n",
       "      <th>0</th>\n",
       "      <td>1</td>\n",
       "      <td>Flsetup_1</td>\n",
       "      <td>The first fl setup</td>\n",
       "      <td>2023-12-31 22:44:38</td>\n",
       "      <td>1</td>\n",
       "      <td>None</td>\n",
       "    </tr>\n",
       "  </tbody>\n",
       "</table>\n",
       "</div>"
      ],
      "text/plain": [
       "   FLsetupId       name         description       creation_date  NetId  \\\n",
       "0          1  Flsetup_1  The first fl setup 2023-12-31 22:44:38      1   \n",
       "\n",
       "  column_name  \n",
       "0        None  "
      ]
     },
     "execution_count": 7,
     "metadata": {},
     "output_type": "execute_result"
    }
   ],
   "source": [
    "# auto FLsetup creation\n",
    "autoFl  = FLsetup(name = \"Flsetup_1\", description = \"The first fl setup\",network = Net_1)\n",
    "autoFl.create()\n",
    "\n",
    "# List all setups \n",
    "FLsetup.list_allsetups()"
   ]
  },
  {
   "cell_type": "markdown",
   "id": "6a1faa2b",
   "metadata": {},
   "source": [
    "### 4. Nodes Creation:\n",
    "\n",
    "<div style=\"display : flex\">\n",
    "<div style=\"width : 65%\">\n",
    "\n",
    "Each node within the Network represents an FL Client on the Network and MEDFl packages provide two distinct approaches for node creation (**Auto Creation , Manually Creation**):\n",
    "\n",
    "**Auto Creation** | **Manually Creation**\n",
    "------------------|----------------------\n",
    "In this method, nodes are generated automatically within the Network based on specified values from a particular column in the masterDataSet, as designated by the User. Following node creation, each node's DataSets are automatically assigned from the MasterDataSet.|In this method, nodes are manually created, and DataSets are separately and manually assigned to each individual node\n",
    "\n",
    "\n",
    "   \n",
    "</div>\n",
    "\n",
    "<img width=\"270px\"  height=\"250px\" style=\"display:block ; margin : 0 auto\" src='../Images/nodecreation.png' />\n",
    "</div>\n",
    "\n",
    "\n",
    "\n",
    "\n",
    "\n",
    "Let's start with the auto creation and see How the process goes : \n",
    "\n",
    "The user should create a parameters dictionary that contains  :\n",
    "<ul> \n",
    "    <li>The name of the column that be used to create the nodes, which is the main element in the <b>Automatic Method</b></li> \n",
    "    <li> The lists of the train/test nodes</li>\n",
    "    </ul> \n",
    "and parse it to the create_nodes_from_master_dataset function from the FLsetup class.<br>\n",
    "Node is also an object, and it will be stored on the DataBase.\n",
    "   "
   ]
  },
  {
   "cell_type": "code",
   "execution_count": 8,
   "id": "d4c74d56",
   "metadata": {},
   "outputs": [
    {
     "name": "stdout",
     "output_type": "stream",
     "text": [
      "1\n",
      "1\n",
      "0\n",
      "0\n"
     ]
    },
    {
     "data": {
      "text/plain": [
       "['Midwest', 'South', 'West', 'Northeast']"
      ]
     },
     "execution_count": 8,
     "metadata": {},
     "output_type": "execute_result"
    }
   ],
   "source": [
    "params_dict = {'column_name' : 'site_region','train_nodes' : [\"Midwest\",\"South\"] , 'test_nodes' : ['West','Northeast'] }\n",
    "\n",
    "eicu_nodes = autoFl.create_nodes_from_master_dataset(params_dict = params_dict )\n",
    "\n",
    "[node.name  for node in eicu_nodes]  "
   ]
  },
  {
   "cell_type": "code",
   "execution_count": 9,
   "id": "e6731b70",
   "metadata": {},
   "outputs": [
    {
     "data": {
      "text/html": [
       "<div>\n",
       "<style scoped>\n",
       "    .dataframe tbody tr th:only-of-type {\n",
       "        vertical-align: middle;\n",
       "    }\n",
       "\n",
       "    .dataframe tbody tr th {\n",
       "        vertical-align: top;\n",
       "    }\n",
       "\n",
       "    .dataframe thead th {\n",
       "        text-align: right;\n",
       "    }\n",
       "</style>\n",
       "<table border=\"1\" class=\"dataframe\">\n",
       "  <thead>\n",
       "    <tr style=\"text-align: right;\">\n",
       "      <th></th>\n",
       "      <th>FLsetupId</th>\n",
       "      <th>name</th>\n",
       "      <th>description</th>\n",
       "      <th>creation_date</th>\n",
       "      <th>NetId</th>\n",
       "      <th>column_name</th>\n",
       "    </tr>\n",
       "  </thead>\n",
       "  <tbody>\n",
       "    <tr>\n",
       "      <th>0</th>\n",
       "      <td>1</td>\n",
       "      <td>Flsetup_1</td>\n",
       "      <td>The first fl setup</td>\n",
       "      <td>2023-12-31 22:44:38</td>\n",
       "      <td>1</td>\n",
       "      <td>site_region</td>\n",
       "    </tr>\n",
       "  </tbody>\n",
       "</table>\n",
       "</div>"
      ],
      "text/plain": [
       "   FLsetupId       name         description       creation_date  NetId  \\\n",
       "0          1  Flsetup_1  The first fl setup 2023-12-31 22:44:38      1   \n",
       "\n",
       "   column_name  \n",
       "0  site_region  "
      ]
     },
     "execution_count": 9,
     "metadata": {},
     "output_type": "execute_result"
    }
   ],
   "source": [
    "# List all setups \n",
    "FLsetup.list_allsetups()"
   ]
  },
  {
   "cell_type": "markdown",
   "id": "4f722948",
   "metadata": {},
   "source": [
    "### 5. Creating a Federated Dataset\n",
    "\n",
    "In this phase, we will divide the data from each node into the following segments:\n",
    "\n",
    "<div style=\"display : flex\">\n",
    "<div style=\"width : 50%\">\n",
    "\n",
    "1. **Train Loader:** This segment is utilized for training purposes at each node.\n",
    "2. **Validation Loader:** Used for validation during the training phase.\n",
    "3. **Test Loaders:** Utilized to test the model within the test nodes.\n",
    "4. **Holdout Data:** This dataset is reserved for the final testing of the model after the Federated Learning (FL) process.\n",
    "   \n",
    "</div>\n",
    "\n",
    "<img width=\"30%\" style=\"display:block ; margin : 0 auto\" src='../Images/FlDatasetDiagramm.png' />\n",
    "</div>\n",
    "\n",
    "\n",
    "To generate an FL DataSet, the method `create_federated_dataset` is employed, which requires several arguments:\n",
    "\n",
    "1. `output`: The required argument indicating the output feature of our dataset.\n",
    "2. `fit_encode`: An array of features to be encoded (typically string type features encoded to integers). By default, it's an empty array.\n",
    "3. `to_drop`: An array of features to be removed from the dataset. By default, it's an empty array.\n",
    "4. `fill_strategy`: A strategy for handling missing values in the dataset. Default set to 'mean'.\n",
    "5. `test_frac`: The fraction of the dataset allocated for testing. Default set to 0.2.\n",
    "6. `val_frac`: The fraction of the dataset allocated for validation. Default set to 0.1.\n",
    "\n",
    "\n",
    "\n",
    "\n"
   ]
  },
  {
   "cell_type": "code",
   "execution_count": 10,
   "id": "883f33f1",
   "metadata": {},
   "outputs": [],
   "source": [
    "# Create a Federated DataSet for the autoFL\n",
    "fl_dataset = autoFl.create_federated_dataset(\n",
    "    output=\"event_death\", \n",
    "    fit_encode=[\"site_hospital\", \"site_region\"], \n",
    "    to_drop=[ \"event_death\" , \"id\"], \n",
    " )"
   ]
  },
  {
   "cell_type": "code",
   "execution_count": 11,
   "id": "c5c645e4",
   "metadata": {},
   "outputs": [
    {
     "data": {
      "text/html": [
       "<div>\n",
       "<style scoped>\n",
       "    .dataframe tbody tr th:only-of-type {\n",
       "        vertical-align: middle;\n",
       "    }\n",
       "\n",
       "    .dataframe tbody tr th {\n",
       "        vertical-align: top;\n",
       "    }\n",
       "\n",
       "    .dataframe thead th {\n",
       "        text-align: right;\n",
       "    }\n",
       "</style>\n",
       "<table border=\"1\" class=\"dataframe\">\n",
       "  <thead>\n",
       "    <tr style=\"text-align: right;\">\n",
       "      <th></th>\n",
       "      <th>FedId</th>\n",
       "      <th>FLsetupId</th>\n",
       "      <th>FLpipeId</th>\n",
       "      <th>name</th>\n",
       "    </tr>\n",
       "  </thead>\n",
       "  <tbody>\n",
       "    <tr>\n",
       "      <th>0</th>\n",
       "      <td>1</td>\n",
       "      <td>1</td>\n",
       "      <td>None</td>\n",
       "      <td>Flsetup_1_Feddataset</td>\n",
       "    </tr>\n",
       "  </tbody>\n",
       "</table>\n",
       "</div>"
      ],
      "text/plain": [
       "   FedId  FLsetupId FLpipeId                  name\n",
       "0      1          1     None  Flsetup_1_Feddataset"
      ]
     },
     "execution_count": 11,
     "metadata": {},
     "output_type": "execute_result"
    }
   ],
   "source": [
    "# Get the Federated DataSet of the auto FL \n",
    "data = autoFl.get_flDataSet()\n",
    "data"
   ]
  },
  {
   "cell_type": "markdown",
   "id": "4f9a9069",
   "metadata": {},
   "source": [
    "### 1.2 Manualy Creation of a Network\n",
    "\n",
    "The manual setup of FLsetup using MEDfl differs slightly from the automated method but operates within the same scope. The main distinction lies in creating all objects (FLsetup, network, training nodes, and test nodes) manually.\n",
    "\n",
    "To accomplish this, we will undertake the following steps:\n",
    "\n",
    "- Construct a network.\n",
    "- Generate a Master Dataset, utilizing the master_dataset table to ensure uniform dataset formats across all nodes (following horizontal federated learning principles).\n",
    "- Establish training and testing nodes within the network.\n",
    "- Upload datasets to each respective node.\n",
    "- Create the FLsetup object to streamline organization and simplify the storage process."
   ]
  },
  {
   "cell_type": "code",
   "execution_count": 5,
   "id": "4d175bda",
   "metadata": {},
   "outputs": [
    {
     "data": {
      "text/plain": [
       "'man_network'"
      ]
     },
     "execution_count": 5,
     "metadata": {},
     "output_type": "execute_result"
    }
   ],
   "source": [
    "# Initiate the network object\n",
    "network_man = Network(name=\"man_network\")\n",
    "# Create the network and store it \n",
    "network_man.create_network()\n",
    "\n",
    "network_man.name"
   ]
  },
  {
   "cell_type": "code",
   "execution_count": 6,
   "id": "8ac8f133",
   "metadata": {},
   "outputs": [
    {
     "data": {
      "text/html": [
       "<div>\n",
       "<style scoped>\n",
       "    .dataframe tbody tr th:only-of-type {\n",
       "        vertical-align: middle;\n",
       "    }\n",
       "\n",
       "    .dataframe tbody tr th {\n",
       "        vertical-align: top;\n",
       "    }\n",
       "\n",
       "    .dataframe thead th {\n",
       "        text-align: right;\n",
       "    }\n",
       "</style>\n",
       "<table border=\"1\" class=\"dataframe\">\n",
       "  <thead>\n",
       "    <tr style=\"text-align: right;\">\n",
       "      <th></th>\n",
       "      <th>NetId</th>\n",
       "      <th>NetName</th>\n",
       "    </tr>\n",
       "  </thead>\n",
       "  <tbody>\n",
       "    <tr>\n",
       "      <th>0</th>\n",
       "      <td>1</td>\n",
       "      <td>man_network</td>\n",
       "    </tr>\n",
       "  </tbody>\n",
       "</table>\n",
       "</div>"
      ],
      "text/plain": [
       "   NetId      NetName\n",
       "0      1  man_network"
      ]
     },
     "execution_count": 6,
     "metadata": {},
     "output_type": "execute_result"
    }
   ],
   "source": [
    "# List all networks on the DB \n",
    "Network.list_allnetworks()"
   ]
  },
  {
   "cell_type": "code",
   "execution_count": 7,
   "id": "b3e1437d",
   "metadata": {},
   "outputs": [
    {
     "name": "stderr",
     "output_type": "stream",
     "text": [
      "../..\\Medfl\\NetManager\\net_helper.py:22: FutureWarning: The default value of numeric_only in DataFrame.mean is deprecated. In a future version, it will default to False. In addition, specifying 'numeric_only=None' is deprecated. Select only valid columns or specify the value of numeric_only to silence this warning.\n",
      "  data_df.fillna(data_df.mean(), inplace=True)\n"
     ]
    }
   ],
   "source": [
    "network_man.create_master_dataset()"
   ]
  },
  {
   "cell_type": "markdown",
   "id": "1c788255",
   "metadata": {},
   "source": [
    "2. Nodes Creations\n",
    "\n",
    "In order to manually create a node, it's necessary to define both the name and the node's type. If `train = 1` , it indicates a train node; otherwise, it signifies a test node `train = 0`.\n"
   ]
  },
  {
   "cell_type": "code",
   "execution_count": 8,
   "id": "b3b4f109",
   "metadata": {},
   "outputs": [],
   "source": [
    "# Create 3 nodes \n",
    "hospital_1,hospital_2,hospital_3 = Node(name = \"hospital_1\", train = 1),Node(name = \"hospital_2\", train = 1),Node(name = \"hospital_3\", train = 0) "
   ]
  },
  {
   "cell_type": "code",
   "execution_count": 9,
   "id": "dceb486d",
   "metadata": {},
   "outputs": [
    {
     "name": "stdout",
     "output_type": "stream",
     "text": [
      "1\n",
      "1\n",
      "0\n"
     ]
    }
   ],
   "source": [
    "# Assign the 3 nodes to the man_network \n",
    "network_man.add_node(hospital_1)\n",
    "network_man.add_node(hospital_2)\n",
    "network_man.add_node(hospital_3) "
   ]
  },
  {
   "cell_type": "code",
   "execution_count": 10,
   "id": "b6eb8c44",
   "metadata": {},
   "outputs": [
    {
     "data": {
      "text/html": [
       "<div>\n",
       "<style scoped>\n",
       "    .dataframe tbody tr th:only-of-type {\n",
       "        vertical-align: middle;\n",
       "    }\n",
       "\n",
       "    .dataframe tbody tr th {\n",
       "        vertical-align: top;\n",
       "    }\n",
       "\n",
       "    .dataframe thead th {\n",
       "        text-align: right;\n",
       "    }\n",
       "</style>\n",
       "<table border=\"1\" class=\"dataframe\">\n",
       "  <thead>\n",
       "    <tr style=\"text-align: right;\">\n",
       "      <th></th>\n",
       "      <th>NodeId</th>\n",
       "      <th>NodeName</th>\n",
       "      <th>train</th>\n",
       "      <th>NetId</th>\n",
       "    </tr>\n",
       "  </thead>\n",
       "  <tbody>\n",
       "    <tr>\n",
       "      <th>0</th>\n",
       "      <td>1</td>\n",
       "      <td>hospital_1</td>\n",
       "      <td>1</td>\n",
       "      <td>1</td>\n",
       "    </tr>\n",
       "    <tr>\n",
       "      <th>1</th>\n",
       "      <td>2</td>\n",
       "      <td>hospital_2</td>\n",
       "      <td>1</td>\n",
       "      <td>1</td>\n",
       "    </tr>\n",
       "    <tr>\n",
       "      <th>2</th>\n",
       "      <td>3</td>\n",
       "      <td>hospital_3</td>\n",
       "      <td>0</td>\n",
       "      <td>1</td>\n",
       "    </tr>\n",
       "  </tbody>\n",
       "</table>\n",
       "</div>"
      ],
      "text/plain": [
       "   NodeId    NodeName  train  NetId\n",
       "0       1  hospital_1      1      1\n",
       "1       2  hospital_2      1      1\n",
       "2       3  hospital_3      0      1"
      ]
     },
     "execution_count": 10,
     "metadata": {},
     "output_type": "execute_result"
    }
   ],
   "source": [
    "# List all created nodes on the db \n",
    "Node.list_allnodes()"
   ]
  },
  {
   "cell_type": "markdown",
   "id": "0ed2ccdb",
   "metadata": {},
   "source": [
    "### 3. Upload DataSets To nodes \n",
    "\n",
    "For uploading a dataSet to a node, it's essential to provide a name for the dataset and the file path of the CSV file containing the data. "
   ]
  },
  {
   "cell_type": "code",
   "execution_count": 12,
   "id": "22f8f899",
   "metadata": {},
   "outputs": [],
   "source": [
    "# Define the path of the files \n",
    "Ds_1 = 'D:\\\\ESI\\\\3CS\\\\PFE\\\\last_year\\\\Code\\\\MEDfl\\\\notebooks\\\\eicu_test_1.csv'\n",
    "Ds_2 = 'D:\\\\ESI\\\\3CS\\\\PFE\\\\last_year\\\\Code\\\\MEDfl\\\\notebooks\\\\eicu_test_2.csv'\n",
    "Ds_3 = 'D:\\\\ESI\\\\3CS\\\\PFE\\\\last_year\\\\Code\\\\MEDfl\\\\notebooks\\\\eicu_test_3.csv'\n",
    "\n",
    "# pload the DataSets \n",
    "hospital_1.upload_dataset( dataset_name = \"hospital_1_dataset\" , path_to_csv=Ds_1  )\n",
    "hospital_2.upload_dataset( dataset_name = \"hospital_2_dataset\" , path_to_csv=Ds_2)\n",
    "hospital_3.upload_dataset( dataset_name = \"hospital_3_dataset\" , path_to_csv=Ds_3 )"
   ]
  },
  {
   "cell_type": "markdown",
   "id": "f6efe5af",
   "metadata": {},
   "source": [
    "### 4. Create the FLsetup \n",
    "\n",
    "Now, let's create the Federated Learning setup of the manual network `man_network`"
   ]
  },
  {
   "cell_type": "code",
   "execution_count": 17,
   "id": "76e7a6bb",
   "metadata": {},
   "outputs": [],
   "source": [
    "# Create FLsetup for man_network \n",
    "fl_setup = FLsetup(name = \"Manual_Flsetup\", description = \"The first manual fl setup\",network = network_man)\n",
    "fl_setup.create()"
   ]
  },
  {
   "cell_type": "code",
   "execution_count": 18,
   "id": "cd18c5e0",
   "metadata": {},
   "outputs": [
    {
     "data": {
      "text/html": [
       "<div>\n",
       "<style scoped>\n",
       "    .dataframe tbody tr th:only-of-type {\n",
       "        vertical-align: middle;\n",
       "    }\n",
       "\n",
       "    .dataframe tbody tr th {\n",
       "        vertical-align: top;\n",
       "    }\n",
       "\n",
       "    .dataframe thead th {\n",
       "        text-align: right;\n",
       "    }\n",
       "</style>\n",
       "<table border=\"1\" class=\"dataframe\">\n",
       "  <thead>\n",
       "    <tr style=\"text-align: right;\">\n",
       "      <th></th>\n",
       "      <th>FLsetupId</th>\n",
       "      <th>name</th>\n",
       "      <th>description</th>\n",
       "      <th>creation_date</th>\n",
       "      <th>NetId</th>\n",
       "      <th>column_name</th>\n",
       "    </tr>\n",
       "  </thead>\n",
       "  <tbody>\n",
       "    <tr>\n",
       "      <th>0</th>\n",
       "      <td>1</td>\n",
       "      <td>Flsetup_1</td>\n",
       "      <td>The first fl setup</td>\n",
       "      <td>2023-12-31 22:44:38</td>\n",
       "      <td>1</td>\n",
       "      <td>site_region</td>\n",
       "    </tr>\n",
       "    <tr>\n",
       "      <th>1</th>\n",
       "      <td>2</td>\n",
       "      <td>Manual_Flsetup</td>\n",
       "      <td>The first manual fl setup</td>\n",
       "      <td>2024-01-07 17:11:09</td>\n",
       "      <td>2</td>\n",
       "      <td>None</td>\n",
       "    </tr>\n",
       "  </tbody>\n",
       "</table>\n",
       "</div>"
      ],
      "text/plain": [
       "   FLsetupId            name                description       creation_date  \\\n",
       "0          1       Flsetup_1         The first fl setup 2023-12-31 22:44:38   \n",
       "1          2  Manual_Flsetup  The first manual fl setup 2024-01-07 17:11:09   \n",
       "\n",
       "   NetId  column_name  \n",
       "0      1  site_region  \n",
       "1      2         None  "
      ]
     },
     "execution_count": 18,
     "metadata": {},
     "output_type": "execute_result"
    }
   ],
   "source": [
    "# List all created Setups \n",
    "FLsetup.list_allsetups()"
   ]
  },
  {
   "cell_type": "markdown",
   "id": "31042cd2",
   "metadata": {},
   "source": [
    "### 5. Create the Federated DataSet\n",
    "\n",
    "finaly, we will create the federated DataSet the `man_network` and pass it to the `Learning manager` package\n",
    "\n",
    "**when creating a fl Dataset for a manual network you need always to drop these two comumns `DataSetName` and `NodeId`** "
   ]
  },
  {
   "cell_type": "code",
   "execution_count": 19,
   "id": "87dceacf",
   "metadata": {},
   "outputs": [],
   "source": [
    "# Create FLDataSet\n",
    "fl_dataset = fl_setup.create_federated_dataset(\n",
    "    output=\"event_death\", \n",
    "    fit_encode=[\"site_hospital\", \"site_region\"], \n",
    "    to_drop=[ \"event_death\" , \"id\" , \"DataSetName\" , \"NodeId\"], \n",
    " )"
   ]
  },
  {
   "cell_type": "code",
   "execution_count": 20,
   "id": "92674428",
   "metadata": {},
   "outputs": [
    {
     "data": {
      "text/html": [
       "<div>\n",
       "<style scoped>\n",
       "    .dataframe tbody tr th:only-of-type {\n",
       "        vertical-align: middle;\n",
       "    }\n",
       "\n",
       "    .dataframe tbody tr th {\n",
       "        vertical-align: top;\n",
       "    }\n",
       "\n",
       "    .dataframe thead th {\n",
       "        text-align: right;\n",
       "    }\n",
       "</style>\n",
       "<table border=\"1\" class=\"dataframe\">\n",
       "  <thead>\n",
       "    <tr style=\"text-align: right;\">\n",
       "      <th></th>\n",
       "      <th>FedId</th>\n",
       "      <th>FLsetupId</th>\n",
       "      <th>FLpipeId</th>\n",
       "      <th>name</th>\n",
       "    </tr>\n",
       "  </thead>\n",
       "  <tbody>\n",
       "    <tr>\n",
       "      <th>0</th>\n",
       "      <td>2</td>\n",
       "      <td>2</td>\n",
       "      <td>None</td>\n",
       "      <td>Manual_Flsetup_Feddataset</td>\n",
       "    </tr>\n",
       "  </tbody>\n",
       "</table>\n",
       "</div>"
      ],
      "text/plain": [
       "   FedId  FLsetupId FLpipeId                       name\n",
       "0      2          2     None  Manual_Flsetup_Feddataset"
      ]
     },
     "execution_count": 20,
     "metadata": {},
     "output_type": "execute_result"
    }
   ],
   "source": [
    "# Get the Federated DataSet of the manual FL \n",
    "data = fl_setup.get_flDataSet()\n",
    "data"
   ]
  },
  {
   "cell_type": "markdown",
   "id": "86641506",
   "metadata": {},
   "source": [
    "# THE END \n",
    "\n",
    "<img src='../Images/netMan.png' width=\"50%\"  />\n",
    "\n",
    "By now we completed the workflow of the first sub package of `MedFl` whiwh is the `Learning Manager` subpackage, we started with a csv file of data and have successfully generated our federated dataset.\n",
    "\n",
    "Throughout this process, we employed two distinct methods to create the FedDataset: automated creation and manual creation."
   ]
  }
 ],
 "metadata": {
  "kernelspec": {
   "display_name": "Python 3 (ipykernel)",
   "language": "python",
   "name": "python3"
  },
  "language_info": {
   "codemirror_mode": {
    "name": "ipython",
    "version": 3
   },
   "file_extension": ".py",
   "mimetype": "text/x-python",
   "name": "python",
   "nbconvert_exporter": "python",
   "pygments_lexer": "ipython3",
   "version": "3.9.4"
  }
 },
 "nbformat": 4,
 "nbformat_minor": 5
}
